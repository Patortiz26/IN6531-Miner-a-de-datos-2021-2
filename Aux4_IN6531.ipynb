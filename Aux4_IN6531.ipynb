{
  "nbformat": 4,
  "nbformat_minor": 0,
  "metadata": {
    "colab": {
      "name": "Aux4 IN6531",
      "provenance": [],
      "collapsed_sections": [],
      "mount_file_id": "1mDYrgWvyJLHRgZgFb3nqnDSE5FfcVWXx",
      "authorship_tag": "ABX9TyNt4nAMb8mHhPvI6z3zEtkw",
      "include_colab_link": true
    },
    "kernelspec": {
      "name": "python3",
      "display_name": "Python 3"
    },
    "language_info": {
      "name": "python"
    }
  },
  "cells": [
    {
      "cell_type": "markdown",
      "metadata": {
        "id": "view-in-github",
        "colab_type": "text"
      },
      "source": [
        "<a href=\"https://colab.research.google.com/github/Patortiz26/IN6531-Miner-a-de-datos-2021-2/blob/main/Aux4_IN6531.ipynb\" target=\"_parent\"><img src=\"https://colab.research.google.com/assets/colab-badge.svg\" alt=\"Open In Colab\"/></a>"
      ]
    },
    {
      "cell_type": "markdown",
      "metadata": {
        "id": "0esF6rtNLuS5"
      },
      "source": [
        "#Auxiliar 4 - IN6531\n",
        "**Autor: Patricio Ortiz**"
      ]
    },
    {
      "cell_type": "markdown",
      "metadata": {
        "id": "EMKpLF-CLudG"
      },
      "source": [
        "##Clasificación\n",
        "\n",
        "En una tarea de **aprendizaje supervisado**, por lo tanto existen clases definidas dentro del dataset. Las clases también llamadas objetivos(targets), etiquetas(labels) o categorias son el objeto que se busca determinar.\n",
        "\n",
        "Los algoritmos de clasificación buscan aproximar una función (f) que \"mapee\" a los features de input (X) con la variable a determinar (y).\n",
        "\n",
        "\n",
        "En la clase de hoy revisaremos algunos ejemplos de clasificadores existentes.\n",
        "\n",
        "##Validación de clasificadores\n",
        "\n",
        "La \"gracia\" de los clasificadores es que podemos evaluar mediante métricas objetivas el desempeño de cada algoritmo, lo cual nos permite decidir \"cual clasificador es mejor\". Para ello tenemos distintas métricas como:\n",
        "* Accuracy\n",
        "* Recall\n",
        "* Precision\n",
        "* F1-Score\n",
        "\n",
        "links:\n",
        "* [Matriz de confusión y métricas](https://towardsdatascience.com/understanding-confusion-matrix-a9ad42dcfd62) \n",
        "\n",
        "* [Curvas AUC y ROC](https://towardsdatascience.com/understanding-auc-roc-curve-68b2303cc9c5#:~:text=AUC%20%2D%20ROC%20curve%20is%20a,capable%20of%20distinguishing%20between%20classes.)\n"
      ]
    },
    {
      "cell_type": "markdown",
      "metadata": {
        "id": "5rx-bqAp-Cde"
      },
      "source": [
        "##Exploración de datos\n",
        "\n",
        "Hoy trabajaremos con el archivo excel subido por el profesor en material docente."
      ]
    },
    {
      "cell_type": "code",
      "metadata": {
        "id": "bVU-OC5O99lh"
      },
      "source": [
        "#Importamos librerías de siempre\n",
        "import pandas as pd\n",
        "import numpy as np\n",
        "import matplotlib.pyplot as plt\n",
        "import seaborn as sns"
      ],
      "execution_count": 1,
      "outputs": []
    },
    {
      "cell_type": "code",
      "metadata": {
        "colab": {
          "base_uri": "https://localhost:8080/",
          "height": 202
        },
        "id": "qkq-Yuh2-_Pf",
        "outputId": "bc20c91a-45fd-48e2-9a65-e603ec4d05ab"
      },
      "source": [
        "#Primero importamos los datos y vemos los primeros.\n",
        "df = pd.read_excel(\"/content/drive/My Drive/Colab Notebooks/IN6531 - Minería de Datos DII/Auxiliares IN6531/datos/aux4/Datos_aux4.xlsx\")\n",
        "df.head()"
      ],
      "execution_count": 110,
      "outputs": [
        {
          "output_type": "execute_result",
          "data": {
            "text/html": [
              "<div>\n",
              "<style scoped>\n",
              "    .dataframe tbody tr th:only-of-type {\n",
              "        vertical-align: middle;\n",
              "    }\n",
              "\n",
              "    .dataframe tbody tr th {\n",
              "        vertical-align: top;\n",
              "    }\n",
              "\n",
              "    .dataframe thead th {\n",
              "        text-align: right;\n",
              "    }\n",
              "</style>\n",
              "<table border=\"1\" class=\"dataframe\">\n",
              "  <thead>\n",
              "    <tr style=\"text-align: right;\">\n",
              "      <th></th>\n",
              "      <th>Cod_Cliente</th>\n",
              "      <th>COD_OFI</th>\n",
              "      <th>COM</th>\n",
              "      <th>ED</th>\n",
              "      <th>SX</th>\n",
              "      <th>NIV_EDUC</th>\n",
              "      <th>RENTA</th>\n",
              "      <th>E_CIVIL</th>\n",
              "      <th>VIG</th>\n",
              "      <th>TRX_T</th>\n",
              "      <th>TRX_T-1</th>\n",
              "      <th>TRX_T-2</th>\n",
              "      <th>SALDO_T</th>\n",
              "      <th>SALDO_T-1</th>\n",
              "      <th>SALDO_T-2</th>\n",
              "      <th>SALDO_T-3</th>\n",
              "      <th>SALDO_T-4</th>\n",
              "      <th>SALDO_T-5</th>\n",
              "      <th>CERRO</th>\n",
              "    </tr>\n",
              "  </thead>\n",
              "  <tbody>\n",
              "    <tr>\n",
              "      <th>0</th>\n",
              "      <td>1</td>\n",
              "      <td>59</td>\n",
              "      <td>88</td>\n",
              "      <td>86</td>\n",
              "      <td>M</td>\n",
              "      <td>UNV</td>\n",
              "      <td>1900</td>\n",
              "      <td>CAS</td>\n",
              "      <td>262</td>\n",
              "      <td>27</td>\n",
              "      <td>15</td>\n",
              "      <td>24</td>\n",
              "      <td>48073799.25</td>\n",
              "      <td>903165.45</td>\n",
              "      <td>808209.00</td>\n",
              "      <td>4365589.05</td>\n",
              "      <td>3703754.29</td>\n",
              "      <td>2153243.04</td>\n",
              "      <td>0</td>\n",
              "    </tr>\n",
              "    <tr>\n",
              "      <th>1</th>\n",
              "      <td>2</td>\n",
              "      <td>47</td>\n",
              "      <td>66</td>\n",
              "      <td>82</td>\n",
              "      <td>M</td>\n",
              "      <td>MED</td>\n",
              "      <td>250</td>\n",
              "      <td>CAS</td>\n",
              "      <td>72</td>\n",
              "      <td>21</td>\n",
              "      <td>23</td>\n",
              "      <td>49</td>\n",
              "      <td>60369.29</td>\n",
              "      <td>43859.50</td>\n",
              "      <td>39065.10</td>\n",
              "      <td>55232.43</td>\n",
              "      <td>223181.43</td>\n",
              "      <td>0.00</td>\n",
              "      <td>1</td>\n",
              "    </tr>\n",
              "    <tr>\n",
              "      <th>2</th>\n",
              "      <td>3</td>\n",
              "      <td>10</td>\n",
              "      <td>5</td>\n",
              "      <td>72</td>\n",
              "      <td>M</td>\n",
              "      <td>UNV</td>\n",
              "      <td>700</td>\n",
              "      <td>CAS</td>\n",
              "      <td>187</td>\n",
              "      <td>24</td>\n",
              "      <td>9</td>\n",
              "      <td>27</td>\n",
              "      <td>67877.14</td>\n",
              "      <td>-106620.70</td>\n",
              "      <td>170602.48</td>\n",
              "      <td>180041.05</td>\n",
              "      <td>248783.81</td>\n",
              "      <td>546633.81</td>\n",
              "      <td>1</td>\n",
              "    </tr>\n",
              "    <tr>\n",
              "      <th>3</th>\n",
              "      <td>4</td>\n",
              "      <td>47</td>\n",
              "      <td>66</td>\n",
              "      <td>81</td>\n",
              "      <td>M</td>\n",
              "      <td>UNV</td>\n",
              "      <td>440</td>\n",
              "      <td>SOL</td>\n",
              "      <td>130</td>\n",
              "      <td>21</td>\n",
              "      <td>12</td>\n",
              "      <td>18</td>\n",
              "      <td>6543424.05</td>\n",
              "      <td>7259501.00</td>\n",
              "      <td>7176502.29</td>\n",
              "      <td>23091898.57</td>\n",
              "      <td>18446246.67</td>\n",
              "      <td>19383065.22</td>\n",
              "      <td>0</td>\n",
              "    </tr>\n",
              "    <tr>\n",
              "      <th>4</th>\n",
              "      <td>5</td>\n",
              "      <td>37</td>\n",
              "      <td>81</td>\n",
              "      <td>64</td>\n",
              "      <td>M</td>\n",
              "      <td>UNV</td>\n",
              "      <td>650</td>\n",
              "      <td>CAS</td>\n",
              "      <td>36</td>\n",
              "      <td>14</td>\n",
              "      <td>17</td>\n",
              "      <td>27</td>\n",
              "      <td>5501529.00</td>\n",
              "      <td>6822243.86</td>\n",
              "      <td>10946776.71</td>\n",
              "      <td>23671060.95</td>\n",
              "      <td>15813760.48</td>\n",
              "      <td>20792048.26</td>\n",
              "      <td>0</td>\n",
              "    </tr>\n",
              "  </tbody>\n",
              "</table>\n",
              "</div>"
            ],
            "text/plain": [
              "   Cod_Cliente  COD_OFI  COM  ED  ...    SALDO_T-3    SALDO_T-4    SALDO_T-5 CERRO\n",
              "0            1       59   88  86  ...   4365589.05   3703754.29   2153243.04     0\n",
              "1            2       47   66  82  ...     55232.43    223181.43         0.00     1\n",
              "2            3       10    5  72  ...    180041.05    248783.81    546633.81     1\n",
              "3            4       47   66  81  ...  23091898.57  18446246.67  19383065.22     0\n",
              "4            5       37   81  64  ...  23671060.95  15813760.48  20792048.26     0\n",
              "\n",
              "[5 rows x 19 columns]"
            ]
          },
          "metadata": {},
          "execution_count": 110
        }
      ]
    },
    {
      "cell_type": "code",
      "metadata": {
        "colab": {
          "base_uri": "https://localhost:8080/"
        },
        "id": "GFpKuq2qE0VQ",
        "outputId": "e2679e77-8d99-462e-bd2b-e471a74d0684"
      },
      "source": [
        "#Analizamos la forma del dataframe\n",
        "df.shape"
      ],
      "execution_count": 111,
      "outputs": [
        {
          "output_type": "execute_result",
          "data": {
            "text/plain": [
              "(1248, 19)"
            ]
          },
          "metadata": {},
          "execution_count": 111
        }
      ]
    },
    {
      "cell_type": "code",
      "metadata": {
        "colab": {
          "base_uri": "https://localhost:8080/"
        },
        "id": "GNI47Bav_PdA",
        "outputId": "365866f2-ea12-4c5b-ee9c-c63860e31b1f"
      },
      "source": [
        "#revisar valores nulos\n",
        "df.isna().sum()"
      ],
      "execution_count": 112,
      "outputs": [
        {
          "output_type": "execute_result",
          "data": {
            "text/plain": [
              "Cod_Cliente    0\n",
              "COD_OFI        0\n",
              "COM            0\n",
              "ED             0\n",
              "SX             0\n",
              "NIV_EDUC       0\n",
              "RENTA          0\n",
              "E_CIVIL        0\n",
              "VIG            0\n",
              "TRX_T          0\n",
              "TRX_T-1        0\n",
              "TRX_T-2        0\n",
              "SALDO_T        0\n",
              "SALDO_T-1      0\n",
              "SALDO_T-2      0\n",
              "SALDO_T-3      0\n",
              "SALDO_T-4      0\n",
              "SALDO_T-5      0\n",
              "CERRO          0\n",
              "dtype: int64"
            ]
          },
          "metadata": {},
          "execution_count": 112
        }
      ]
    },
    {
      "cell_type": "code",
      "metadata": {
        "colab": {
          "base_uri": "https://localhost:8080/"
        },
        "id": "8une9LBWDq7e",
        "outputId": "c0c7ceba-d88e-483c-ac1f-8911da375a2e"
      },
      "source": [
        "#numero de valores por columna\n",
        "df.nunique()"
      ],
      "execution_count": 113,
      "outputs": [
        {
          "output_type": "execute_result",
          "data": {
            "text/plain": [
              "Cod_Cliente    1248\n",
              "COD_OFI         127\n",
              "COM             140\n",
              "ED               63\n",
              "SX                3\n",
              "NIV_EDUC          6\n",
              "RENTA           479\n",
              "E_CIVIL           4\n",
              "VIG             201\n",
              "TRX_T           149\n",
              "TRX_T-1         135\n",
              "TRX_T-2         154\n",
              "SALDO_T        1127\n",
              "SALDO_T-1      1149\n",
              "SALDO_T-2      1157\n",
              "SALDO_T-3      1162\n",
              "SALDO_T-4      1144\n",
              "SALDO_T-5       775\n",
              "CERRO             2\n",
              "dtype: int64"
            ]
          },
          "metadata": {},
          "execution_count": 113
        }
      ]
    },
    {
      "cell_type": "markdown",
      "metadata": {
        "id": "uEPepq6UJ3eW"
      },
      "source": [
        "> Notamos que hay 3 variables que son categoricas: SX - NIV_EDUC - E_CIVIL"
      ]
    },
    {
      "cell_type": "code",
      "metadata": {
        "colab": {
          "base_uri": "https://localhost:8080/"
        },
        "id": "aLeWSNWOERkx",
        "outputId": "69e8aab7-6d1d-4811-d00d-b698b397ea89"
      },
      "source": [
        "df.SX.unique()"
      ],
      "execution_count": 114,
      "outputs": [
        {
          "output_type": "execute_result",
          "data": {
            "text/plain": [
              "array(['M       ', 'F       ', '        '], dtype=object)"
            ]
          },
          "metadata": {},
          "execution_count": 114
        }
      ]
    },
    {
      "cell_type": "code",
      "metadata": {
        "colab": {
          "base_uri": "https://localhost:8080/"
        },
        "id": "M7tCDoAPEWYu",
        "outputId": "76cfcd39-0f31-41cd-8bf8-5516f2e9490b"
      },
      "source": [
        "df.NIV_EDUC.unique()"
      ],
      "execution_count": 115,
      "outputs": [
        {
          "output_type": "execute_result",
          "data": {
            "text/plain": [
              "array(['UNV     ', 'MED     ', 'TEC     ', 'BAS     ', '        ',\n",
              "       'EUN     '], dtype=object)"
            ]
          },
          "metadata": {},
          "execution_count": 115
        }
      ]
    },
    {
      "cell_type": "code",
      "metadata": {
        "colab": {
          "base_uri": "https://localhost:8080/"
        },
        "id": "bvSz08OYEasA",
        "outputId": "9f91f5e4-8de0-46b6-cf5a-27117e028f60"
      },
      "source": [
        "df.E_CIVIL.unique()"
      ],
      "execution_count": 116,
      "outputs": [
        {
          "output_type": "execute_result",
          "data": {
            "text/plain": [
              "array(['CAS     ', 'SOL     ', 'VIU     ', 'SEP     '], dtype=object)"
            ]
          },
          "metadata": {},
          "execution_count": 116
        }
      ]
    },
    {
      "cell_type": "code",
      "metadata": {
        "id": "d1l237SdEf4O"
      },
      "source": [
        "#filtramos valores faltantes\n",
        "df = df[df.SX != '        ']\n",
        "df = df[df.NIV_EDUC != '        ']"
      ],
      "execution_count": 117,
      "outputs": []
    },
    {
      "cell_type": "code",
      "metadata": {
        "colab": {
          "base_uri": "https://localhost:8080/"
        },
        "id": "ALUmC_SyEyN4",
        "outputId": "b60fc4ac-1e58-4f2a-c5e5-0ace0f369332"
      },
      "source": [
        "#Volvemos a revisar forma del dataframe\n",
        "df.shape"
      ],
      "execution_count": 118,
      "outputs": [
        {
          "output_type": "execute_result",
          "data": {
            "text/plain": [
              "(1239, 19)"
            ]
          },
          "metadata": {},
          "execution_count": 118
        }
      ]
    },
    {
      "cell_type": "code",
      "metadata": {
        "id": "0rbJryxl_7LN"
      },
      "source": [
        "#eliminamos variables que no dicen nada\n",
        "df = df.drop(columns=['Cod_Cliente','COD_OFI'])"
      ],
      "execution_count": 119,
      "outputs": []
    },
    {
      "cell_type": "code",
      "metadata": {
        "colab": {
          "base_uri": "https://localhost:8080/"
        },
        "id": "3EMFSZn6C1Ei",
        "outputId": "f05256a2-3924-4f3d-b8ea-7c47c3578da5"
      },
      "source": [
        "df.columns"
      ],
      "execution_count": 120,
      "outputs": [
        {
          "output_type": "execute_result",
          "data": {
            "text/plain": [
              "Index(['COM', 'ED', 'SX', 'NIV_EDUC', 'RENTA', 'E_CIVIL', 'VIG', 'TRX_T',\n",
              "       'TRX_T-1', 'TRX_T-2', 'SALDO_T', 'SALDO_T-1', 'SALDO_T-2', 'SALDO_T-3',\n",
              "       'SALDO_T-4', 'SALDO_T-5', 'CERRO'],\n",
              "      dtype='object')"
            ]
          },
          "metadata": {},
          "execution_count": 120
        }
      ]
    },
    {
      "cell_type": "code",
      "metadata": {
        "id": "8OlH2v8XBHow"
      },
      "source": [
        "#Dividimos en X e y (nueva forma) \n",
        "X = df.loc[:, ['COM', 'ED', 'SX', 'NIV_EDUC', 'RENTA', 'E_CIVIL', 'VIG', 'TRX_T',\n",
        "       'TRX_T-1', 'TRX_T-2', 'SALDO_T', 'SALDO_T-1', 'SALDO_T-2', 'SALDO_T-3', 'SALDO_T-4', 'SALDO_T-5']]\n",
        "\n",
        "y =  df.loc[:, ['CERRO']]"
      ],
      "execution_count": 121,
      "outputs": []
    },
    {
      "cell_type": "markdown",
      "metadata": {
        "id": "E_rFqAHbKPHO"
      },
      "source": [
        "> Importante notar que ahora usamos `loc` y no `iloc`. La diferencia es que el primero recibe strings mientras que el segundo acepta enteros."
      ]
    },
    {
      "cell_type": "code",
      "metadata": {
        "colab": {
          "base_uri": "https://localhost:8080/",
          "height": 202
        },
        "id": "wjXW__GQBxA2",
        "outputId": "63b48bcd-c587-46d3-8245-c4ad7deae327"
      },
      "source": [
        "X.head()"
      ],
      "execution_count": 122,
      "outputs": [
        {
          "output_type": "execute_result",
          "data": {
            "text/html": [
              "<div>\n",
              "<style scoped>\n",
              "    .dataframe tbody tr th:only-of-type {\n",
              "        vertical-align: middle;\n",
              "    }\n",
              "\n",
              "    .dataframe tbody tr th {\n",
              "        vertical-align: top;\n",
              "    }\n",
              "\n",
              "    .dataframe thead th {\n",
              "        text-align: right;\n",
              "    }\n",
              "</style>\n",
              "<table border=\"1\" class=\"dataframe\">\n",
              "  <thead>\n",
              "    <tr style=\"text-align: right;\">\n",
              "      <th></th>\n",
              "      <th>COM</th>\n",
              "      <th>ED</th>\n",
              "      <th>SX</th>\n",
              "      <th>NIV_EDUC</th>\n",
              "      <th>RENTA</th>\n",
              "      <th>E_CIVIL</th>\n",
              "      <th>VIG</th>\n",
              "      <th>TRX_T</th>\n",
              "      <th>TRX_T-1</th>\n",
              "      <th>TRX_T-2</th>\n",
              "      <th>SALDO_T</th>\n",
              "      <th>SALDO_T-1</th>\n",
              "      <th>SALDO_T-2</th>\n",
              "      <th>SALDO_T-3</th>\n",
              "      <th>SALDO_T-4</th>\n",
              "      <th>SALDO_T-5</th>\n",
              "    </tr>\n",
              "  </thead>\n",
              "  <tbody>\n",
              "    <tr>\n",
              "      <th>0</th>\n",
              "      <td>88</td>\n",
              "      <td>86</td>\n",
              "      <td>M</td>\n",
              "      <td>UNV</td>\n",
              "      <td>1900</td>\n",
              "      <td>CAS</td>\n",
              "      <td>262</td>\n",
              "      <td>27</td>\n",
              "      <td>15</td>\n",
              "      <td>24</td>\n",
              "      <td>48073799.25</td>\n",
              "      <td>903165.45</td>\n",
              "      <td>808209.00</td>\n",
              "      <td>4365589.05</td>\n",
              "      <td>3703754.29</td>\n",
              "      <td>2153243.04</td>\n",
              "    </tr>\n",
              "    <tr>\n",
              "      <th>1</th>\n",
              "      <td>66</td>\n",
              "      <td>82</td>\n",
              "      <td>M</td>\n",
              "      <td>MED</td>\n",
              "      <td>250</td>\n",
              "      <td>CAS</td>\n",
              "      <td>72</td>\n",
              "      <td>21</td>\n",
              "      <td>23</td>\n",
              "      <td>49</td>\n",
              "      <td>60369.29</td>\n",
              "      <td>43859.50</td>\n",
              "      <td>39065.10</td>\n",
              "      <td>55232.43</td>\n",
              "      <td>223181.43</td>\n",
              "      <td>0.00</td>\n",
              "    </tr>\n",
              "    <tr>\n",
              "      <th>2</th>\n",
              "      <td>5</td>\n",
              "      <td>72</td>\n",
              "      <td>M</td>\n",
              "      <td>UNV</td>\n",
              "      <td>700</td>\n",
              "      <td>CAS</td>\n",
              "      <td>187</td>\n",
              "      <td>24</td>\n",
              "      <td>9</td>\n",
              "      <td>27</td>\n",
              "      <td>67877.14</td>\n",
              "      <td>-106620.70</td>\n",
              "      <td>170602.48</td>\n",
              "      <td>180041.05</td>\n",
              "      <td>248783.81</td>\n",
              "      <td>546633.81</td>\n",
              "    </tr>\n",
              "    <tr>\n",
              "      <th>3</th>\n",
              "      <td>66</td>\n",
              "      <td>81</td>\n",
              "      <td>M</td>\n",
              "      <td>UNV</td>\n",
              "      <td>440</td>\n",
              "      <td>SOL</td>\n",
              "      <td>130</td>\n",
              "      <td>21</td>\n",
              "      <td>12</td>\n",
              "      <td>18</td>\n",
              "      <td>6543424.05</td>\n",
              "      <td>7259501.00</td>\n",
              "      <td>7176502.29</td>\n",
              "      <td>23091898.57</td>\n",
              "      <td>18446246.67</td>\n",
              "      <td>19383065.22</td>\n",
              "    </tr>\n",
              "    <tr>\n",
              "      <th>4</th>\n",
              "      <td>81</td>\n",
              "      <td>64</td>\n",
              "      <td>M</td>\n",
              "      <td>UNV</td>\n",
              "      <td>650</td>\n",
              "      <td>CAS</td>\n",
              "      <td>36</td>\n",
              "      <td>14</td>\n",
              "      <td>17</td>\n",
              "      <td>27</td>\n",
              "      <td>5501529.00</td>\n",
              "      <td>6822243.86</td>\n",
              "      <td>10946776.71</td>\n",
              "      <td>23671060.95</td>\n",
              "      <td>15813760.48</td>\n",
              "      <td>20792048.26</td>\n",
              "    </tr>\n",
              "  </tbody>\n",
              "</table>\n",
              "</div>"
            ],
            "text/plain": [
              "   COM  ED        SX  ...    SALDO_T-3    SALDO_T-4    SALDO_T-5\n",
              "0   88  86  M         ...   4365589.05   3703754.29   2153243.04\n",
              "1   66  82  M         ...     55232.43    223181.43         0.00\n",
              "2    5  72  M         ...    180041.05    248783.81    546633.81\n",
              "3   66  81  M         ...  23091898.57  18446246.67  19383065.22\n",
              "4   81  64  M         ...  23671060.95  15813760.48  20792048.26\n",
              "\n",
              "[5 rows x 16 columns]"
            ]
          },
          "metadata": {},
          "execution_count": 122
        }
      ]
    },
    {
      "cell_type": "code",
      "metadata": {
        "colab": {
          "base_uri": "https://localhost:8080/",
          "height": 202
        },
        "id": "gu7PkARfBzTP",
        "outputId": "1d460839-8753-4038-d7c3-7f69586c6cb0"
      },
      "source": [
        "y.head()"
      ],
      "execution_count": 123,
      "outputs": [
        {
          "output_type": "execute_result",
          "data": {
            "text/html": [
              "<div>\n",
              "<style scoped>\n",
              "    .dataframe tbody tr th:only-of-type {\n",
              "        vertical-align: middle;\n",
              "    }\n",
              "\n",
              "    .dataframe tbody tr th {\n",
              "        vertical-align: top;\n",
              "    }\n",
              "\n",
              "    .dataframe thead th {\n",
              "        text-align: right;\n",
              "    }\n",
              "</style>\n",
              "<table border=\"1\" class=\"dataframe\">\n",
              "  <thead>\n",
              "    <tr style=\"text-align: right;\">\n",
              "      <th></th>\n",
              "      <th>CERRO</th>\n",
              "    </tr>\n",
              "  </thead>\n",
              "  <tbody>\n",
              "    <tr>\n",
              "      <th>0</th>\n",
              "      <td>0</td>\n",
              "    </tr>\n",
              "    <tr>\n",
              "      <th>1</th>\n",
              "      <td>1</td>\n",
              "    </tr>\n",
              "    <tr>\n",
              "      <th>2</th>\n",
              "      <td>1</td>\n",
              "    </tr>\n",
              "    <tr>\n",
              "      <th>3</th>\n",
              "      <td>0</td>\n",
              "    </tr>\n",
              "    <tr>\n",
              "      <th>4</th>\n",
              "      <td>0</td>\n",
              "    </tr>\n",
              "  </tbody>\n",
              "</table>\n",
              "</div>"
            ],
            "text/plain": [
              "   CERRO\n",
              "0      0\n",
              "1      1\n",
              "2      1\n",
              "3      0\n",
              "4      0"
            ]
          },
          "metadata": {},
          "execution_count": 123
        }
      ]
    },
    {
      "cell_type": "code",
      "metadata": {
        "colab": {
          "base_uri": "https://localhost:8080/",
          "height": 202
        },
        "id": "sTBlYTndAjZw",
        "outputId": "5a2e5c03-4142-4831-af3e-bff5f28a49ff"
      },
      "source": [
        "#Para procesar variables independientes / categoricas (NUEVO TRUCO)\n",
        "X = pd.get_dummies(X, columns = ['SX'])\n",
        "X.head()"
      ],
      "execution_count": 124,
      "outputs": [
        {
          "output_type": "execute_result",
          "data": {
            "text/html": [
              "<div>\n",
              "<style scoped>\n",
              "    .dataframe tbody tr th:only-of-type {\n",
              "        vertical-align: middle;\n",
              "    }\n",
              "\n",
              "    .dataframe tbody tr th {\n",
              "        vertical-align: top;\n",
              "    }\n",
              "\n",
              "    .dataframe thead th {\n",
              "        text-align: right;\n",
              "    }\n",
              "</style>\n",
              "<table border=\"1\" class=\"dataframe\">\n",
              "  <thead>\n",
              "    <tr style=\"text-align: right;\">\n",
              "      <th></th>\n",
              "      <th>COM</th>\n",
              "      <th>ED</th>\n",
              "      <th>NIV_EDUC</th>\n",
              "      <th>RENTA</th>\n",
              "      <th>E_CIVIL</th>\n",
              "      <th>VIG</th>\n",
              "      <th>TRX_T</th>\n",
              "      <th>TRX_T-1</th>\n",
              "      <th>TRX_T-2</th>\n",
              "      <th>SALDO_T</th>\n",
              "      <th>SALDO_T-1</th>\n",
              "      <th>SALDO_T-2</th>\n",
              "      <th>SALDO_T-3</th>\n",
              "      <th>SALDO_T-4</th>\n",
              "      <th>SALDO_T-5</th>\n",
              "      <th>SX_F</th>\n",
              "      <th>SX_M</th>\n",
              "    </tr>\n",
              "  </thead>\n",
              "  <tbody>\n",
              "    <tr>\n",
              "      <th>0</th>\n",
              "      <td>88</td>\n",
              "      <td>86</td>\n",
              "      <td>UNV</td>\n",
              "      <td>1900</td>\n",
              "      <td>CAS</td>\n",
              "      <td>262</td>\n",
              "      <td>27</td>\n",
              "      <td>15</td>\n",
              "      <td>24</td>\n",
              "      <td>48073799.25</td>\n",
              "      <td>903165.45</td>\n",
              "      <td>808209.00</td>\n",
              "      <td>4365589.05</td>\n",
              "      <td>3703754.29</td>\n",
              "      <td>2153243.04</td>\n",
              "      <td>0</td>\n",
              "      <td>1</td>\n",
              "    </tr>\n",
              "    <tr>\n",
              "      <th>1</th>\n",
              "      <td>66</td>\n",
              "      <td>82</td>\n",
              "      <td>MED</td>\n",
              "      <td>250</td>\n",
              "      <td>CAS</td>\n",
              "      <td>72</td>\n",
              "      <td>21</td>\n",
              "      <td>23</td>\n",
              "      <td>49</td>\n",
              "      <td>60369.29</td>\n",
              "      <td>43859.50</td>\n",
              "      <td>39065.10</td>\n",
              "      <td>55232.43</td>\n",
              "      <td>223181.43</td>\n",
              "      <td>0.00</td>\n",
              "      <td>0</td>\n",
              "      <td>1</td>\n",
              "    </tr>\n",
              "    <tr>\n",
              "      <th>2</th>\n",
              "      <td>5</td>\n",
              "      <td>72</td>\n",
              "      <td>UNV</td>\n",
              "      <td>700</td>\n",
              "      <td>CAS</td>\n",
              "      <td>187</td>\n",
              "      <td>24</td>\n",
              "      <td>9</td>\n",
              "      <td>27</td>\n",
              "      <td>67877.14</td>\n",
              "      <td>-106620.70</td>\n",
              "      <td>170602.48</td>\n",
              "      <td>180041.05</td>\n",
              "      <td>248783.81</td>\n",
              "      <td>546633.81</td>\n",
              "      <td>0</td>\n",
              "      <td>1</td>\n",
              "    </tr>\n",
              "    <tr>\n",
              "      <th>3</th>\n",
              "      <td>66</td>\n",
              "      <td>81</td>\n",
              "      <td>UNV</td>\n",
              "      <td>440</td>\n",
              "      <td>SOL</td>\n",
              "      <td>130</td>\n",
              "      <td>21</td>\n",
              "      <td>12</td>\n",
              "      <td>18</td>\n",
              "      <td>6543424.05</td>\n",
              "      <td>7259501.00</td>\n",
              "      <td>7176502.29</td>\n",
              "      <td>23091898.57</td>\n",
              "      <td>18446246.67</td>\n",
              "      <td>19383065.22</td>\n",
              "      <td>0</td>\n",
              "      <td>1</td>\n",
              "    </tr>\n",
              "    <tr>\n",
              "      <th>4</th>\n",
              "      <td>81</td>\n",
              "      <td>64</td>\n",
              "      <td>UNV</td>\n",
              "      <td>650</td>\n",
              "      <td>CAS</td>\n",
              "      <td>36</td>\n",
              "      <td>14</td>\n",
              "      <td>17</td>\n",
              "      <td>27</td>\n",
              "      <td>5501529.00</td>\n",
              "      <td>6822243.86</td>\n",
              "      <td>10946776.71</td>\n",
              "      <td>23671060.95</td>\n",
              "      <td>15813760.48</td>\n",
              "      <td>20792048.26</td>\n",
              "      <td>0</td>\n",
              "      <td>1</td>\n",
              "    </tr>\n",
              "  </tbody>\n",
              "</table>\n",
              "</div>"
            ],
            "text/plain": [
              "   COM  ED  NIV_EDUC  RENTA  ...    SALDO_T-4    SALDO_T-5  SX_F         SX_M       \n",
              "0   88  86  UNV        1900  ...   3703754.29   2153243.04            0            1\n",
              "1   66  82  MED         250  ...    223181.43         0.00            0            1\n",
              "2    5  72  UNV         700  ...    248783.81    546633.81            0            1\n",
              "3   66  81  UNV         440  ...  18446246.67  19383065.22            0            1\n",
              "4   81  64  UNV         650  ...  15813760.48  20792048.26            0            1\n",
              "\n",
              "[5 rows x 17 columns]"
            ]
          },
          "metadata": {},
          "execution_count": 124
        }
      ]
    },
    {
      "cell_type": "code",
      "metadata": {
        "id": "YO4qVClRFD9w"
      },
      "source": [
        "X = pd.get_dummies(X, columns = ['NIV_EDUC'])\n",
        "X = pd.get_dummies(X, columns = ['E_CIVIL'])"
      ],
      "execution_count": 125,
      "outputs": []
    },
    {
      "cell_type": "code",
      "metadata": {
        "colab": {
          "base_uri": "https://localhost:8080/",
          "height": 202
        },
        "id": "TdADOU9OFKJ0",
        "outputId": "7f01ea72-2c45-429a-f30b-de5b8d080a28"
      },
      "source": [
        "X.head()"
      ],
      "execution_count": 126,
      "outputs": [
        {
          "output_type": "execute_result",
          "data": {
            "text/html": [
              "<div>\n",
              "<style scoped>\n",
              "    .dataframe tbody tr th:only-of-type {\n",
              "        vertical-align: middle;\n",
              "    }\n",
              "\n",
              "    .dataframe tbody tr th {\n",
              "        vertical-align: top;\n",
              "    }\n",
              "\n",
              "    .dataframe thead th {\n",
              "        text-align: right;\n",
              "    }\n",
              "</style>\n",
              "<table border=\"1\" class=\"dataframe\">\n",
              "  <thead>\n",
              "    <tr style=\"text-align: right;\">\n",
              "      <th></th>\n",
              "      <th>COM</th>\n",
              "      <th>ED</th>\n",
              "      <th>RENTA</th>\n",
              "      <th>VIG</th>\n",
              "      <th>TRX_T</th>\n",
              "      <th>TRX_T-1</th>\n",
              "      <th>TRX_T-2</th>\n",
              "      <th>SALDO_T</th>\n",
              "      <th>SALDO_T-1</th>\n",
              "      <th>SALDO_T-2</th>\n",
              "      <th>SALDO_T-3</th>\n",
              "      <th>SALDO_T-4</th>\n",
              "      <th>SALDO_T-5</th>\n",
              "      <th>SX_F</th>\n",
              "      <th>SX_M</th>\n",
              "      <th>NIV_EDUC_BAS</th>\n",
              "      <th>NIV_EDUC_EUN</th>\n",
              "      <th>NIV_EDUC_MED</th>\n",
              "      <th>NIV_EDUC_TEC</th>\n",
              "      <th>NIV_EDUC_UNV</th>\n",
              "      <th>E_CIVIL_CAS</th>\n",
              "      <th>E_CIVIL_SEP</th>\n",
              "      <th>E_CIVIL_SOL</th>\n",
              "      <th>E_CIVIL_VIU</th>\n",
              "    </tr>\n",
              "  </thead>\n",
              "  <tbody>\n",
              "    <tr>\n",
              "      <th>0</th>\n",
              "      <td>88</td>\n",
              "      <td>86</td>\n",
              "      <td>1900</td>\n",
              "      <td>262</td>\n",
              "      <td>27</td>\n",
              "      <td>15</td>\n",
              "      <td>24</td>\n",
              "      <td>48073799.25</td>\n",
              "      <td>903165.45</td>\n",
              "      <td>808209.00</td>\n",
              "      <td>4365589.05</td>\n",
              "      <td>3703754.29</td>\n",
              "      <td>2153243.04</td>\n",
              "      <td>0</td>\n",
              "      <td>1</td>\n",
              "      <td>0</td>\n",
              "      <td>0</td>\n",
              "      <td>0</td>\n",
              "      <td>0</td>\n",
              "      <td>1</td>\n",
              "      <td>1</td>\n",
              "      <td>0</td>\n",
              "      <td>0</td>\n",
              "      <td>0</td>\n",
              "    </tr>\n",
              "    <tr>\n",
              "      <th>1</th>\n",
              "      <td>66</td>\n",
              "      <td>82</td>\n",
              "      <td>250</td>\n",
              "      <td>72</td>\n",
              "      <td>21</td>\n",
              "      <td>23</td>\n",
              "      <td>49</td>\n",
              "      <td>60369.29</td>\n",
              "      <td>43859.50</td>\n",
              "      <td>39065.10</td>\n",
              "      <td>55232.43</td>\n",
              "      <td>223181.43</td>\n",
              "      <td>0.00</td>\n",
              "      <td>0</td>\n",
              "      <td>1</td>\n",
              "      <td>0</td>\n",
              "      <td>0</td>\n",
              "      <td>1</td>\n",
              "      <td>0</td>\n",
              "      <td>0</td>\n",
              "      <td>1</td>\n",
              "      <td>0</td>\n",
              "      <td>0</td>\n",
              "      <td>0</td>\n",
              "    </tr>\n",
              "    <tr>\n",
              "      <th>2</th>\n",
              "      <td>5</td>\n",
              "      <td>72</td>\n",
              "      <td>700</td>\n",
              "      <td>187</td>\n",
              "      <td>24</td>\n",
              "      <td>9</td>\n",
              "      <td>27</td>\n",
              "      <td>67877.14</td>\n",
              "      <td>-106620.70</td>\n",
              "      <td>170602.48</td>\n",
              "      <td>180041.05</td>\n",
              "      <td>248783.81</td>\n",
              "      <td>546633.81</td>\n",
              "      <td>0</td>\n",
              "      <td>1</td>\n",
              "      <td>0</td>\n",
              "      <td>0</td>\n",
              "      <td>0</td>\n",
              "      <td>0</td>\n",
              "      <td>1</td>\n",
              "      <td>1</td>\n",
              "      <td>0</td>\n",
              "      <td>0</td>\n",
              "      <td>0</td>\n",
              "    </tr>\n",
              "    <tr>\n",
              "      <th>3</th>\n",
              "      <td>66</td>\n",
              "      <td>81</td>\n",
              "      <td>440</td>\n",
              "      <td>130</td>\n",
              "      <td>21</td>\n",
              "      <td>12</td>\n",
              "      <td>18</td>\n",
              "      <td>6543424.05</td>\n",
              "      <td>7259501.00</td>\n",
              "      <td>7176502.29</td>\n",
              "      <td>23091898.57</td>\n",
              "      <td>18446246.67</td>\n",
              "      <td>19383065.22</td>\n",
              "      <td>0</td>\n",
              "      <td>1</td>\n",
              "      <td>0</td>\n",
              "      <td>0</td>\n",
              "      <td>0</td>\n",
              "      <td>0</td>\n",
              "      <td>1</td>\n",
              "      <td>0</td>\n",
              "      <td>0</td>\n",
              "      <td>1</td>\n",
              "      <td>0</td>\n",
              "    </tr>\n",
              "    <tr>\n",
              "      <th>4</th>\n",
              "      <td>81</td>\n",
              "      <td>64</td>\n",
              "      <td>650</td>\n",
              "      <td>36</td>\n",
              "      <td>14</td>\n",
              "      <td>17</td>\n",
              "      <td>27</td>\n",
              "      <td>5501529.00</td>\n",
              "      <td>6822243.86</td>\n",
              "      <td>10946776.71</td>\n",
              "      <td>23671060.95</td>\n",
              "      <td>15813760.48</td>\n",
              "      <td>20792048.26</td>\n",
              "      <td>0</td>\n",
              "      <td>1</td>\n",
              "      <td>0</td>\n",
              "      <td>0</td>\n",
              "      <td>0</td>\n",
              "      <td>0</td>\n",
              "      <td>1</td>\n",
              "      <td>1</td>\n",
              "      <td>0</td>\n",
              "      <td>0</td>\n",
              "      <td>0</td>\n",
              "    </tr>\n",
              "  </tbody>\n",
              "</table>\n",
              "</div>"
            ],
            "text/plain": [
              "   COM  ED  RENTA  ...  E_CIVIL_SEP       E_CIVIL_SOL       E_CIVIL_VIU     \n",
              "0   88  86   1900  ...                 0                 0                 0\n",
              "1   66  82    250  ...                 0                 0                 0\n",
              "2    5  72    700  ...                 0                 0                 0\n",
              "3   66  81    440  ...                 0                 1                 0\n",
              "4   81  64    650  ...                 0                 0                 0\n",
              "\n",
              "[5 rows x 24 columns]"
            ]
          },
          "metadata": {},
          "execution_count": 126
        }
      ]
    },
    {
      "cell_type": "markdown",
      "metadata": {
        "id": "IFqPkh-aKuhm"
      },
      "source": [
        "Ahora vamos con algunos gráficos"
      ]
    },
    {
      "cell_type": "code",
      "metadata": {
        "colab": {
          "base_uri": "https://localhost:8080/",
          "height": 1000
        },
        "id": "0MB8lmdY_PgJ",
        "outputId": "a6a6a6a6-27eb-48e5-f7d3-be65fe48d044"
      },
      "source": [
        "#Heatmap\n",
        "plt.figure(figsize=(20,20))\n",
        "corr = df.corr()\n",
        "\n",
        "sns.heatmap(corr.abs(), xticklabels= corr.columns.values, yticklabels= corr.columns.values, annot=True)"
      ],
      "execution_count": 127,
      "outputs": [
        {
          "output_type": "execute_result",
          "data": {
            "text/plain": [
              "<matplotlib.axes._subplots.AxesSubplot at 0x7f566e13dbd0>"
            ]
          },
          "metadata": {},
          "execution_count": 127
        },
        {
          "output_type": "display_data",
          "data": {
            "image/png": "[encoded data removed]",
            "text/plain": [
              "<Figure size 1440x1440 with 2 Axes>"
            ]
          },
          "metadata": {
            "needs_background": "light"
          }
        }
      ]
    },
    {
      "cell_type": "markdown",
      "metadata": {
        "id": "tmZ42baUFxRY"
      },
      "source": [
        ">¿por qué no sirve esa visualización?"
      ]
    },
    {
      "cell_type": "markdown",
      "metadata": {
        "id": "DOnh3j9PKy-G"
      },
      "source": [
        "Ahora vamos con algo que es un poco más útil."
      ]
    },
    {
      "cell_type": "code",
      "metadata": {
        "colab": {
          "base_uri": "https://localhost:8080/",
          "height": 706
        },
        "id": "3fhDS57ZF1L3",
        "outputId": "a04e57c0-8e64-4a9d-8f8a-ae2752b17410"
      },
      "source": [
        "sns.pairplot(df, hue=\"CERRO\")"
      ],
      "execution_count": 128,
      "outputs": [
        {
          "output_type": "error",
          "ename": "KeyboardInterrupt",
          "evalue": "ignored",
          "traceback": [
            "\u001b[0;31m---------------------------------------------------------------------------\u001b[0m",
            "\u001b[0;31mKeyboardInterrupt\u001b[0m                         Traceback (most recent call last)",
            "\u001b[0;32m<ipython-input-128-aa0e257cd727>\u001b[0m in \u001b[0;36m<module>\u001b[0;34m()\u001b[0m\n\u001b[0;32m----> 1\u001b[0;31m \u001b[0msns\u001b[0m\u001b[0;34m.\u001b[0m\u001b[0mpairplot\u001b[0m\u001b[0;34m(\u001b[0m\u001b[0mdf\u001b[0m\u001b[0;34m,\u001b[0m \u001b[0mhue\u001b[0m\u001b[0;34m=\u001b[0m\u001b[0;34m\"CERRO\"\u001b[0m\u001b[0;34m)\u001b[0m\u001b[0;34m\u001b[0m\u001b[0;34m\u001b[0m\u001b[0m\n\u001b[0m",
            "\u001b[0;32m/usr/local/lib/python3.7/dist-packages/seaborn/_decorators.py\u001b[0m in \u001b[0;36minner_f\u001b[0;34m(*args, **kwargs)\u001b[0m\n\u001b[1;32m     44\u001b[0m             )\n\u001b[1;32m     45\u001b[0m         \u001b[0mkwargs\u001b[0m\u001b[0;34m.\u001b[0m\u001b[0mupdate\u001b[0m\u001b[0;34m(\u001b[0m\u001b[0;34m{\u001b[0m\u001b[0mk\u001b[0m\u001b[0;34m:\u001b[0m \u001b[0marg\u001b[0m \u001b[0;32mfor\u001b[0m \u001b[0mk\u001b[0m\u001b[0;34m,\u001b[0m \u001b[0marg\u001b[0m \u001b[0;32min\u001b[0m \u001b[0mzip\u001b[0m\u001b[0;34m(\u001b[0m\u001b[0msig\u001b[0m\u001b[0;34m.\u001b[0m\u001b[0mparameters\u001b[0m\u001b[0;34m,\u001b[0m \u001b[0margs\u001b[0m\u001b[0;34m)\u001b[0m\u001b[0;34m}\u001b[0m\u001b[0;34m)\u001b[0m\u001b[0;34m\u001b[0m\u001b[0;34m\u001b[0m\u001b[0m\n\u001b[0;32m---> 46\u001b[0;31m         \u001b[0;32mreturn\u001b[0m \u001b[0mf\u001b[0m\u001b[0;34m(\u001b[0m\u001b[0;34m**\u001b[0m\u001b[0mkwargs\u001b[0m\u001b[0;34m)\u001b[0m\u001b[0;34m\u001b[0m\u001b[0;34m\u001b[0m\u001b[0m\n\u001b[0m\u001b[1;32m     47\u001b[0m     \u001b[0;32mreturn\u001b[0m \u001b[0minner_f\u001b[0m\u001b[0;34m\u001b[0m\u001b[0;34m\u001b[0m\u001b[0m\n\u001b[1;32m     48\u001b[0m \u001b[0;34m\u001b[0m\u001b[0m\n",
            "\u001b[0;32m/usr/local/lib/python3.7/dist-packages/seaborn/axisgrid.py\u001b[0m in \u001b[0;36mpairplot\u001b[0;34m(data, hue, hue_order, palette, vars, x_vars, y_vars, kind, diag_kind, markers, height, aspect, corner, dropna, plot_kws, diag_kws, grid_kws, size)\u001b[0m\n\u001b[1;32m   2152\u001b[0m     \u001b[0;31m# Add a legend\u001b[0m\u001b[0;34m\u001b[0m\u001b[0;34m\u001b[0m\u001b[0;34m\u001b[0m\u001b[0m\n\u001b[1;32m   2153\u001b[0m     \u001b[0;32mif\u001b[0m \u001b[0mhue\u001b[0m \u001b[0;32mis\u001b[0m \u001b[0;32mnot\u001b[0m \u001b[0;32mNone\u001b[0m\u001b[0;34m:\u001b[0m\u001b[0;34m\u001b[0m\u001b[0;34m\u001b[0m\u001b[0m\n\u001b[0;32m-> 2154\u001b[0;31m         \u001b[0mgrid\u001b[0m\u001b[0;34m.\u001b[0m\u001b[0madd_legend\u001b[0m\u001b[0;34m(\u001b[0m\u001b[0;34m)\u001b[0m\u001b[0;34m\u001b[0m\u001b[0;34m\u001b[0m\u001b[0m\n\u001b[0m\u001b[1;32m   2155\u001b[0m \u001b[0;34m\u001b[0m\u001b[0m\n\u001b[1;32m   2156\u001b[0m     \u001b[0mgrid\u001b[0m\u001b[0;34m.\u001b[0m\u001b[0mtight_layout\u001b[0m\u001b[0;34m(\u001b[0m\u001b[0;34m)\u001b[0m\u001b[0;34m\u001b[0m\u001b[0;34m\u001b[0m\u001b[0m\n",
            "\u001b[0;32m/usr/local/lib/python3.7/dist-packages/seaborn/axisgrid.py\u001b[0m in \u001b[0;36madd_legend\u001b[0;34m(self, legend_data, title, label_order, adjust_subtitles, **kwargs)\u001b[0m\n\u001b[1;32m    163\u001b[0m \u001b[0;34m\u001b[0m\u001b[0m\n\u001b[1;32m    164\u001b[0m             \u001b[0;31m# Draw the plot to set the bounding boxes correctly\u001b[0m\u001b[0;34m\u001b[0m\u001b[0;34m\u001b[0m\u001b[0;34m\u001b[0m\u001b[0m\n\u001b[0;32m--> 165\u001b[0;31m             \u001b[0m_draw_figure\u001b[0m\u001b[0;34m(\u001b[0m\u001b[0mself\u001b[0m\u001b[0;34m.\u001b[0m\u001b[0m_figure\u001b[0m\u001b[0;34m)\u001b[0m\u001b[0;34m\u001b[0m\u001b[0;34m\u001b[0m\u001b[0m\n\u001b[0m\u001b[1;32m    166\u001b[0m \u001b[0;34m\u001b[0m\u001b[0m\n\u001b[1;32m    167\u001b[0m             \u001b[0;31m# Calculate and set the new width of the figure so the legend fits\u001b[0m\u001b[0;34m\u001b[0m\u001b[0;34m\u001b[0m\u001b[0;34m\u001b[0m\u001b[0m\n",
            "\u001b[0;32m/usr/local/lib/python3.7/dist-packages/seaborn/utils.py\u001b[0m in \u001b[0;36m_draw_figure\u001b[0;34m(fig)\u001b[0m\n\u001b[1;32m     93\u001b[0m     \u001b[0;34m\"\"\"Force draw of a matplotlib figure, accounting for back-compat.\"\"\"\u001b[0m\u001b[0;34m\u001b[0m\u001b[0;34m\u001b[0m\u001b[0m\n\u001b[1;32m     94\u001b[0m     \u001b[0;31m# See https://github.com/matplotlib/matplotlib/issues/19197 for context\u001b[0m\u001b[0;34m\u001b[0m\u001b[0;34m\u001b[0m\u001b[0;34m\u001b[0m\u001b[0m\n\u001b[0;32m---> 95\u001b[0;31m     \u001b[0mfig\u001b[0m\u001b[0;34m.\u001b[0m\u001b[0mcanvas\u001b[0m\u001b[0;34m.\u001b[0m\u001b[0mdraw\u001b[0m\u001b[0;34m(\u001b[0m\u001b[0;34m)\u001b[0m\u001b[0;34m\u001b[0m\u001b[0;34m\u001b[0m\u001b[0m\n\u001b[0m\u001b[1;32m     96\u001b[0m     \u001b[0;32mif\u001b[0m \u001b[0mfig\u001b[0m\u001b[0;34m.\u001b[0m\u001b[0mstale\u001b[0m\u001b[0;34m:\u001b[0m\u001b[0;34m\u001b[0m\u001b[0;34m\u001b[0m\u001b[0m\n\u001b[1;32m     97\u001b[0m         \u001b[0;32mtry\u001b[0m\u001b[0;34m:\u001b[0m\u001b[0;34m\u001b[0m\u001b[0;34m\u001b[0m\u001b[0m\n",
            "\u001b[0;32m/usr/local/lib/python3.7/dist-packages/matplotlib/backends/backend_agg.py\u001b[0m in \u001b[0;36mdraw\u001b[0;34m(self)\u001b[0m\n\u001b[1;32m    391\u001b[0m              (self.toolbar._wait_cursor_for_draw_cm() if self.toolbar\n\u001b[1;32m    392\u001b[0m               else nullcontext()):\n\u001b[0;32m--> 393\u001b[0;31m             \u001b[0mself\u001b[0m\u001b[0;34m.\u001b[0m\u001b[0mfigure\u001b[0m\u001b[0;34m.\u001b[0m\u001b[0mdraw\u001b[0m\u001b[0;34m(\u001b[0m\u001b[0mself\u001b[0m\u001b[0;34m.\u001b[0m\u001b[0mrenderer\u001b[0m\u001b[0;34m)\u001b[0m\u001b[0;34m\u001b[0m\u001b[0;34m\u001b[0m\u001b[0m\n\u001b[0m\u001b[1;32m    394\u001b[0m             \u001b[0;31m# A GUI class may be need to update a window using this draw, so\u001b[0m\u001b[0;34m\u001b[0m\u001b[0;34m\u001b[0m\u001b[0;34m\u001b[0m\u001b[0m\n\u001b[1;32m    395\u001b[0m             \u001b[0;31m# don't forget to call the superclass.\u001b[0m\u001b[0;34m\u001b[0m\u001b[0;34m\u001b[0m\u001b[0;34m\u001b[0m\u001b[0m\n",
            "\u001b[0;32m/usr/local/lib/python3.7/dist-packages/matplotlib/artist.py\u001b[0m in \u001b[0;36mdraw_wrapper\u001b[0;34m(artist, renderer, *args, **kwargs)\u001b[0m\n\u001b[1;32m     36\u001b[0m                 \u001b[0mrenderer\u001b[0m\u001b[0;34m.\u001b[0m\u001b[0mstart_filter\u001b[0m\u001b[0;34m(\u001b[0m\u001b[0;34m)\u001b[0m\u001b[0;34m\u001b[0m\u001b[0;34m\u001b[0m\u001b[0m\n\u001b[1;32m     37\u001b[0m \u001b[0;34m\u001b[0m\u001b[0m\n\u001b[0;32m---> 38\u001b[0;31m             \u001b[0;32mreturn\u001b[0m \u001b[0mdraw\u001b[0m\u001b[0;34m(\u001b[0m\u001b[0martist\u001b[0m\u001b[0;34m,\u001b[0m \u001b[0mrenderer\u001b[0m\u001b[0;34m,\u001b[0m \u001b[0;34m*\u001b[0m\u001b[0margs\u001b[0m\u001b[0;34m,\u001b[0m \u001b[0;34m**\u001b[0m\u001b[0mkwargs\u001b[0m\u001b[0;34m)\u001b[0m\u001b[0;34m\u001b[0m\u001b[0;34m\u001b[0m\u001b[0m\n\u001b[0m\u001b[1;32m     39\u001b[0m         \u001b[0;32mfinally\u001b[0m\u001b[0;34m:\u001b[0m\u001b[0;34m\u001b[0m\u001b[0;34m\u001b[0m\u001b[0m\n\u001b[1;32m     40\u001b[0m             \u001b[0;32mif\u001b[0m \u001b[0martist\u001b[0m\u001b[0;34m.\u001b[0m\u001b[0mget_agg_filter\u001b[0m\u001b[0;34m(\u001b[0m\u001b[0;34m)\u001b[0m \u001b[0;32mis\u001b[0m \u001b[0;32mnot\u001b[0m \u001b[0;32mNone\u001b[0m\u001b[0;34m:\u001b[0m\u001b[0;34m\u001b[0m\u001b[0;34m\u001b[0m\u001b[0m\n",
            "\u001b[0;32m/usr/local/lib/python3.7/dist-packages/matplotlib/figure.py\u001b[0m in \u001b[0;36mdraw\u001b[0;34m(self, renderer)\u001b[0m\n\u001b[1;32m   1734\u001b[0m             \u001b[0mself\u001b[0m\u001b[0;34m.\u001b[0m\u001b[0mpatch\u001b[0m\u001b[0;34m.\u001b[0m\u001b[0mdraw\u001b[0m\u001b[0;34m(\u001b[0m\u001b[0mrenderer\u001b[0m\u001b[0;34m)\u001b[0m\u001b[0;34m\u001b[0m\u001b[0;34m\u001b[0m\u001b[0m\n\u001b[1;32m   1735\u001b[0m             mimage._draw_list_compositing_images(\n\u001b[0;32m-> 1736\u001b[0;31m                 renderer, self, artists, self.suppressComposite)\n\u001b[0m\u001b[1;32m   1737\u001b[0m \u001b[0;34m\u001b[0m\u001b[0m\n\u001b[1;32m   1738\u001b[0m             \u001b[0mrenderer\u001b[0m\u001b[0;34m.\u001b[0m\u001b[0mclose_group\u001b[0m\u001b[0;34m(\u001b[0m\u001b[0;34m'figure'\u001b[0m\u001b[0;34m)\u001b[0m\u001b[0;34m\u001b[0m\u001b[0;34m\u001b[0m\u001b[0m\n",
            "\u001b[0;32m/usr/local/lib/python3.7/dist-packages/matplotlib/image.py\u001b[0m in \u001b[0;36m_draw_list_compositing_images\u001b[0;34m(renderer, parent, artists, suppress_composite)\u001b[0m\n\u001b[1;32m    135\u001b[0m     \u001b[0;32mif\u001b[0m \u001b[0mnot_composite\u001b[0m \u001b[0;32mor\u001b[0m \u001b[0;32mnot\u001b[0m \u001b[0mhas_images\u001b[0m\u001b[0;34m:\u001b[0m\u001b[0;34m\u001b[0m\u001b[0;34m\u001b[0m\u001b[0m\n\u001b[1;32m    136\u001b[0m         \u001b[0;32mfor\u001b[0m \u001b[0ma\u001b[0m \u001b[0;32min\u001b[0m \u001b[0martists\u001b[0m\u001b[0;34m:\u001b[0m\u001b[0;34m\u001b[0m\u001b[0;34m\u001b[0m\u001b[0m\n\u001b[0;32m--> 137\u001b[0;31m             \u001b[0ma\u001b[0m\u001b[0;34m.\u001b[0m\u001b[0mdraw\u001b[0m\u001b[0;34m(\u001b[0m\u001b[0mrenderer\u001b[0m\u001b[0;34m)\u001b[0m\u001b[0;34m\u001b[0m\u001b[0;34m\u001b[0m\u001b[0m\n\u001b[0m\u001b[1;32m    138\u001b[0m     \u001b[0;32melse\u001b[0m\u001b[0;34m:\u001b[0m\u001b[0;34m\u001b[0m\u001b[0;34m\u001b[0m\u001b[0m\n\u001b[1;32m    139\u001b[0m         \u001b[0;31m# Composite any adjacent images together\u001b[0m\u001b[0;34m\u001b[0m\u001b[0;34m\u001b[0m\u001b[0;34m\u001b[0m\u001b[0m\n",
            "\u001b[0;32m/usr/local/lib/python3.7/dist-packages/matplotlib/artist.py\u001b[0m in \u001b[0;36mdraw_wrapper\u001b[0;34m(artist, renderer, *args, **kwargs)\u001b[0m\n\u001b[1;32m     36\u001b[0m                 \u001b[0mrenderer\u001b[0m\u001b[0;34m.\u001b[0m\u001b[0mstart_filter\u001b[0m\u001b[0;34m(\u001b[0m\u001b[0;34m)\u001b[0m\u001b[0;34m\u001b[0m\u001b[0;34m\u001b[0m\u001b[0m\n\u001b[1;32m     37\u001b[0m \u001b[0;34m\u001b[0m\u001b[0m\n\u001b[0;32m---> 38\u001b[0;31m             \u001b[0;32mreturn\u001b[0m \u001b[0mdraw\u001b[0m\u001b[0;34m(\u001b[0m\u001b[0martist\u001b[0m\u001b[0;34m,\u001b[0m \u001b[0mrenderer\u001b[0m\u001b[0;34m,\u001b[0m \u001b[0;34m*\u001b[0m\u001b[0margs\u001b[0m\u001b[0;34m,\u001b[0m \u001b[0;34m**\u001b[0m\u001b[0mkwargs\u001b[0m\u001b[0;34m)\u001b[0m\u001b[0;34m\u001b[0m\u001b[0;34m\u001b[0m\u001b[0m\n\u001b[0m\u001b[1;32m     39\u001b[0m         \u001b[0;32mfinally\u001b[0m\u001b[0;34m:\u001b[0m\u001b[0;34m\u001b[0m\u001b[0;34m\u001b[0m\u001b[0m\n\u001b[1;32m     40\u001b[0m             \u001b[0;32mif\u001b[0m \u001b[0martist\u001b[0m\u001b[0;34m.\u001b[0m\u001b[0mget_agg_filter\u001b[0m\u001b[0;34m(\u001b[0m\u001b[0;34m)\u001b[0m \u001b[0;32mis\u001b[0m \u001b[0;32mnot\u001b[0m \u001b[0;32mNone\u001b[0m\u001b[0;34m:\u001b[0m\u001b[0;34m\u001b[0m\u001b[0;34m\u001b[0m\u001b[0m\n",
            "\u001b[0;32m/usr/local/lib/python3.7/dist-packages/matplotlib/axes/_base.py\u001b[0m in \u001b[0;36mdraw\u001b[0;34m(self, renderer, inframe)\u001b[0m\n\u001b[1;32m   2628\u001b[0m             \u001b[0mrenderer\u001b[0m\u001b[0;34m.\u001b[0m\u001b[0mstop_rasterizing\u001b[0m\u001b[0;34m(\u001b[0m\u001b[0;34m)\u001b[0m\u001b[0;34m\u001b[0m\u001b[0;34m\u001b[0m\u001b[0m\n\u001b[1;32m   2629\u001b[0m \u001b[0;34m\u001b[0m\u001b[0m\n\u001b[0;32m-> 2630\u001b[0;31m         \u001b[0mmimage\u001b[0m\u001b[0;34m.\u001b[0m\u001b[0m_draw_list_compositing_images\u001b[0m\u001b[0;34m(\u001b[0m\u001b[0mrenderer\u001b[0m\u001b[0;34m,\u001b[0m \u001b[0mself\u001b[0m\u001b[0;34m,\u001b[0m \u001b[0martists\u001b[0m\u001b[0;34m)\u001b[0m\u001b[0;34m\u001b[0m\u001b[0;34m\u001b[0m\u001b[0m\n\u001b[0m\u001b[1;32m   2631\u001b[0m \u001b[0;34m\u001b[0m\u001b[0m\n\u001b[1;32m   2632\u001b[0m         \u001b[0mrenderer\u001b[0m\u001b[0;34m.\u001b[0m\u001b[0mclose_group\u001b[0m\u001b[0;34m(\u001b[0m\u001b[0;34m'axes'\u001b[0m\u001b[0;34m)\u001b[0m\u001b[0;34m\u001b[0m\u001b[0;34m\u001b[0m\u001b[0m\n",
            "\u001b[0;32m/usr/local/lib/python3.7/dist-packages/matplotlib/image.py\u001b[0m in \u001b[0;36m_draw_list_compositing_images\u001b[0;34m(renderer, parent, artists, suppress_composite)\u001b[0m\n\u001b[1;32m    135\u001b[0m     \u001b[0;32mif\u001b[0m \u001b[0mnot_composite\u001b[0m \u001b[0;32mor\u001b[0m \u001b[0;32mnot\u001b[0m \u001b[0mhas_images\u001b[0m\u001b[0;34m:\u001b[0m\u001b[0;34m\u001b[0m\u001b[0;34m\u001b[0m\u001b[0m\n\u001b[1;32m    136\u001b[0m         \u001b[0;32mfor\u001b[0m \u001b[0ma\u001b[0m \u001b[0;32min\u001b[0m \u001b[0martists\u001b[0m\u001b[0;34m:\u001b[0m\u001b[0;34m\u001b[0m\u001b[0;34m\u001b[0m\u001b[0m\n\u001b[0;32m--> 137\u001b[0;31m             \u001b[0ma\u001b[0m\u001b[0;34m.\u001b[0m\u001b[0mdraw\u001b[0m\u001b[0;34m(\u001b[0m\u001b[0mrenderer\u001b[0m\u001b[0;34m)\u001b[0m\u001b[0;34m\u001b[0m\u001b[0;34m\u001b[0m\u001b[0m\n\u001b[0m\u001b[1;32m    138\u001b[0m     \u001b[0;32melse\u001b[0m\u001b[0;34m:\u001b[0m\u001b[0;34m\u001b[0m\u001b[0;34m\u001b[0m\u001b[0m\n\u001b[1;32m    139\u001b[0m         \u001b[0;31m# Composite any adjacent images together\u001b[0m\u001b[0;34m\u001b[0m\u001b[0;34m\u001b[0m\u001b[0;34m\u001b[0m\u001b[0m\n",
            "\u001b[0;32m/usr/local/lib/python3.7/dist-packages/matplotlib/artist.py\u001b[0m in \u001b[0;36mdraw_wrapper\u001b[0;34m(artist, renderer, *args, **kwargs)\u001b[0m\n\u001b[1;32m     36\u001b[0m                 \u001b[0mrenderer\u001b[0m\u001b[0;34m.\u001b[0m\u001b[0mstart_filter\u001b[0m\u001b[0;34m(\u001b[0m\u001b[0;34m)\u001b[0m\u001b[0;34m\u001b[0m\u001b[0;34m\u001b[0m\u001b[0m\n\u001b[1;32m     37\u001b[0m \u001b[0;34m\u001b[0m\u001b[0m\n\u001b[0;32m---> 38\u001b[0;31m             \u001b[0;32mreturn\u001b[0m \u001b[0mdraw\u001b[0m\u001b[0;34m(\u001b[0m\u001b[0martist\u001b[0m\u001b[0;34m,\u001b[0m \u001b[0mrenderer\u001b[0m\u001b[0;34m,\u001b[0m \u001b[0;34m*\u001b[0m\u001b[0margs\u001b[0m\u001b[0;34m,\u001b[0m \u001b[0;34m**\u001b[0m\u001b[0mkwargs\u001b[0m\u001b[0;34m)\u001b[0m\u001b[0;34m\u001b[0m\u001b[0;34m\u001b[0m\u001b[0m\n\u001b[0m\u001b[1;32m     39\u001b[0m         \u001b[0;32mfinally\u001b[0m\u001b[0;34m:\u001b[0m\u001b[0;34m\u001b[0m\u001b[0;34m\u001b[0m\u001b[0m\n\u001b[1;32m     40\u001b[0m             \u001b[0;32mif\u001b[0m \u001b[0martist\u001b[0m\u001b[0;34m.\u001b[0m\u001b[0mget_agg_filter\u001b[0m\u001b[0;34m(\u001b[0m\u001b[0;34m)\u001b[0m \u001b[0;32mis\u001b[0m \u001b[0;32mnot\u001b[0m \u001b[0;32mNone\u001b[0m\u001b[0;34m:\u001b[0m\u001b[0;34m\u001b[0m\u001b[0;34m\u001b[0m\u001b[0m\n",
            "\u001b[0;32m/usr/local/lib/python3.7/dist-packages/matplotlib/collections.py\u001b[0m in \u001b[0;36mdraw\u001b[0;34m(self, renderer)\u001b[0m\n\u001b[1;32m    892\u001b[0m     \u001b[0;32mdef\u001b[0m \u001b[0mdraw\u001b[0m\u001b[0;34m(\u001b[0m\u001b[0mself\u001b[0m\u001b[0;34m,\u001b[0m \u001b[0mrenderer\u001b[0m\u001b[0;34m)\u001b[0m\u001b[0;34m:\u001b[0m\u001b[0;34m\u001b[0m\u001b[0;34m\u001b[0m\u001b[0m\n\u001b[1;32m    893\u001b[0m         \u001b[0mself\u001b[0m\u001b[0;34m.\u001b[0m\u001b[0mset_sizes\u001b[0m\u001b[0;34m(\u001b[0m\u001b[0mself\u001b[0m\u001b[0;34m.\u001b[0m\u001b[0m_sizes\u001b[0m\u001b[0;34m,\u001b[0m \u001b[0mself\u001b[0m\u001b[0;34m.\u001b[0m\u001b[0mfigure\u001b[0m\u001b[0;34m.\u001b[0m\u001b[0mdpi\u001b[0m\u001b[0;34m)\u001b[0m\u001b[0;34m\u001b[0m\u001b[0;34m\u001b[0m\u001b[0m\n\u001b[0;32m--> 894\u001b[0;31m         \u001b[0mCollection\u001b[0m\u001b[0;34m.\u001b[0m\u001b[0mdraw\u001b[0m\u001b[0;34m(\u001b[0m\u001b[0mself\u001b[0m\u001b[0;34m,\u001b[0m \u001b[0mrenderer\u001b[0m\u001b[0;34m)\u001b[0m\u001b[0;34m\u001b[0m\u001b[0;34m\u001b[0m\u001b[0m\n\u001b[0m\u001b[1;32m    895\u001b[0m \u001b[0;34m\u001b[0m\u001b[0m\n\u001b[1;32m    896\u001b[0m \u001b[0;34m\u001b[0m\u001b[0m\n",
            "\u001b[0;32m/usr/local/lib/python3.7/dist-packages/matplotlib/artist.py\u001b[0m in \u001b[0;36mdraw_wrapper\u001b[0;34m(artist, renderer, *args, **kwargs)\u001b[0m\n\u001b[1;32m     36\u001b[0m                 \u001b[0mrenderer\u001b[0m\u001b[0;34m.\u001b[0m\u001b[0mstart_filter\u001b[0m\u001b[0;34m(\u001b[0m\u001b[0;34m)\u001b[0m\u001b[0;34m\u001b[0m\u001b[0;34m\u001b[0m\u001b[0m\n\u001b[1;32m     37\u001b[0m \u001b[0;34m\u001b[0m\u001b[0m\n\u001b[0;32m---> 38\u001b[0;31m             \u001b[0;32mreturn\u001b[0m \u001b[0mdraw\u001b[0m\u001b[0;34m(\u001b[0m\u001b[0martist\u001b[0m\u001b[0;34m,\u001b[0m \u001b[0mrenderer\u001b[0m\u001b[0;34m,\u001b[0m \u001b[0;34m*\u001b[0m\u001b[0margs\u001b[0m\u001b[0;34m,\u001b[0m \u001b[0;34m**\u001b[0m\u001b[0mkwargs\u001b[0m\u001b[0;34m)\u001b[0m\u001b[0;34m\u001b[0m\u001b[0;34m\u001b[0m\u001b[0m\n\u001b[0m\u001b[1;32m     39\u001b[0m         \u001b[0;32mfinally\u001b[0m\u001b[0;34m:\u001b[0m\u001b[0;34m\u001b[0m\u001b[0;34m\u001b[0m\u001b[0m\n\u001b[1;32m     40\u001b[0m             \u001b[0;32mif\u001b[0m \u001b[0martist\u001b[0m\u001b[0;34m.\u001b[0m\u001b[0mget_agg_filter\u001b[0m\u001b[0;34m(\u001b[0m\u001b[0;34m)\u001b[0m \u001b[0;32mis\u001b[0m \u001b[0;32mnot\u001b[0m \u001b[0;32mNone\u001b[0m\u001b[0;34m:\u001b[0m\u001b[0;34m\u001b[0m\u001b[0;34m\u001b[0m\u001b[0m\n",
            "\u001b[0;32m/usr/local/lib/python3.7/dist-packages/matplotlib/collections.py\u001b[0m in \u001b[0;36mdraw\u001b[0;34m(self, renderer)\u001b[0m\n\u001b[1;32m    367\u001b[0m                 \u001b[0mself\u001b[0m\u001b[0;34m.\u001b[0m\u001b[0m_linewidths\u001b[0m\u001b[0;34m,\u001b[0m \u001b[0mself\u001b[0m\u001b[0;34m.\u001b[0m\u001b[0m_linestyles\u001b[0m\u001b[0;34m,\u001b[0m\u001b[0;34m\u001b[0m\u001b[0;34m\u001b[0m\u001b[0m\n\u001b[1;32m    368\u001b[0m                 \u001b[0mself\u001b[0m\u001b[0;34m.\u001b[0m\u001b[0m_antialiaseds\u001b[0m\u001b[0;34m,\u001b[0m \u001b[0mself\u001b[0m\u001b[0;34m.\u001b[0m\u001b[0m_urls\u001b[0m\u001b[0;34m,\u001b[0m\u001b[0;34m\u001b[0m\u001b[0;34m\u001b[0m\u001b[0m\n\u001b[0;32m--> 369\u001b[0;31m                 self._offset_position)\n\u001b[0m\u001b[1;32m    370\u001b[0m \u001b[0;34m\u001b[0m\u001b[0m\n\u001b[1;32m    371\u001b[0m         \u001b[0mgc\u001b[0m\u001b[0;34m.\u001b[0m\u001b[0mrestore\u001b[0m\u001b[0;34m(\u001b[0m\u001b[0;34m)\u001b[0m\u001b[0;34m\u001b[0m\u001b[0;34m\u001b[0m\u001b[0m\n",
            "\u001b[0;32m/usr/local/lib/python3.7/dist-packages/matplotlib/path.py\u001b[0m in \u001b[0;36mvertices\u001b[0;34m(self)\u001b[0m\n\u001b[1;32m    195\u001b[0m         )\n\u001b[1;32m    196\u001b[0m \u001b[0;34m\u001b[0m\u001b[0m\n\u001b[0;32m--> 197\u001b[0;31m     \u001b[0;34m@\u001b[0m\u001b[0mproperty\u001b[0m\u001b[0;34m\u001b[0m\u001b[0;34m\u001b[0m\u001b[0m\n\u001b[0m\u001b[1;32m    198\u001b[0m     \u001b[0;32mdef\u001b[0m \u001b[0mvertices\u001b[0m\u001b[0;34m(\u001b[0m\u001b[0mself\u001b[0m\u001b[0;34m)\u001b[0m\u001b[0;34m:\u001b[0m\u001b[0;34m\u001b[0m\u001b[0;34m\u001b[0m\u001b[0m\n\u001b[1;32m    199\u001b[0m         \"\"\"\n",
            "\u001b[0;31mKeyboardInterrupt\u001b[0m: "
          ]
        },
        {
          "output_type": "stream",
          "name": "stdout",
          "text": [
            "Error in callback <function flush_figures at 0x7f5696351320> (for post_execute):\n"
          ]
        },
        {
          "output_type": "error",
          "ename": "KeyboardInterrupt",
          "evalue": "ignored",
          "traceback": [
            "\u001b[0;31m---------------------------------------------------------------------------\u001b[0m",
            "\u001b[0;31mKeyboardInterrupt\u001b[0m                         Traceback (most recent call last)",
            "\u001b[0;32m/usr/local/lib/python3.7/dist-packages/ipykernel/pylab/backend_inline.py\u001b[0m in \u001b[0;36mflush_figures\u001b[0;34m()\u001b[0m\n\u001b[1;32m    115\u001b[0m         \u001b[0;31m# ignore the tracking, just draw and close all figures\u001b[0m\u001b[0;34m\u001b[0m\u001b[0;34m\u001b[0m\u001b[0;34m\u001b[0m\u001b[0m\n\u001b[1;32m    116\u001b[0m         \u001b[0;32mtry\u001b[0m\u001b[0;34m:\u001b[0m\u001b[0;34m\u001b[0m\u001b[0;34m\u001b[0m\u001b[0m\n\u001b[0;32m--> 117\u001b[0;31m             \u001b[0;32mreturn\u001b[0m \u001b[0mshow\u001b[0m\u001b[0;34m(\u001b[0m\u001b[0;32mTrue\u001b[0m\u001b[0;34m)\u001b[0m\u001b[0;34m\u001b[0m\u001b[0;34m\u001b[0m\u001b[0m\n\u001b[0m\u001b[1;32m    118\u001b[0m         \u001b[0;32mexcept\u001b[0m \u001b[0mException\u001b[0m \u001b[0;32mas\u001b[0m \u001b[0me\u001b[0m\u001b[0;34m:\u001b[0m\u001b[0;34m\u001b[0m\u001b[0;34m\u001b[0m\u001b[0m\n\u001b[1;32m    119\u001b[0m             \u001b[0;31m# safely show traceback if in IPython, else raise\u001b[0m\u001b[0;34m\u001b[0m\u001b[0;34m\u001b[0m\u001b[0;34m\u001b[0m\u001b[0m\n",
            "\u001b[0;32m/usr/local/lib/python3.7/dist-packages/ipykernel/pylab/backend_inline.py\u001b[0m in \u001b[0;36mshow\u001b[0;34m(close, block)\u001b[0m\n\u001b[1;32m     37\u001b[0m             display(\n\u001b[1;32m     38\u001b[0m                 \u001b[0mfigure_manager\u001b[0m\u001b[0;34m.\u001b[0m\u001b[0mcanvas\u001b[0m\u001b[0;34m.\u001b[0m\u001b[0mfigure\u001b[0m\u001b[0;34m,\u001b[0m\u001b[0;34m\u001b[0m\u001b[0;34m\u001b[0m\u001b[0m\n\u001b[0;32m---> 39\u001b[0;31m                 \u001b[0mmetadata\u001b[0m\u001b[0;34m=\u001b[0m\u001b[0m_fetch_figure_metadata\u001b[0m\u001b[0;34m(\u001b[0m\u001b[0mfigure_manager\u001b[0m\u001b[0;34m.\u001b[0m\u001b[0mcanvas\u001b[0m\u001b[0;34m.\u001b[0m\u001b[0mfigure\u001b[0m\u001b[0;34m)\u001b[0m\u001b[0;34m\u001b[0m\u001b[0;34m\u001b[0m\u001b[0m\n\u001b[0m\u001b[1;32m     40\u001b[0m             )\n\u001b[1;32m     41\u001b[0m     \u001b[0;32mfinally\u001b[0m\u001b[0;34m:\u001b[0m\u001b[0;34m\u001b[0m\u001b[0;34m\u001b[0m\u001b[0m\n",
            "\u001b[0;32m/usr/local/lib/python3.7/dist-packages/IPython/core/display.py\u001b[0m in \u001b[0;36mdisplay\u001b[0;34m(*objs, **kwargs)\u001b[0m\n\u001b[1;32m    304\u001b[0m             \u001b[0mpublish_display_data\u001b[0m\u001b[0;34m(\u001b[0m\u001b[0mdata\u001b[0m\u001b[0;34m=\u001b[0m\u001b[0mobj\u001b[0m\u001b[0;34m,\u001b[0m \u001b[0mmetadata\u001b[0m\u001b[0;34m=\u001b[0m\u001b[0mmetadata\u001b[0m\u001b[0;34m,\u001b[0m \u001b[0;34m**\u001b[0m\u001b[0mkwargs\u001b[0m\u001b[0;34m)\u001b[0m\u001b[0;34m\u001b[0m\u001b[0;34m\u001b[0m\u001b[0m\n\u001b[1;32m    305\u001b[0m         \u001b[0;32melse\u001b[0m\u001b[0;34m:\u001b[0m\u001b[0;34m\u001b[0m\u001b[0;34m\u001b[0m\u001b[0m\n\u001b[0;32m--> 306\u001b[0;31m             \u001b[0mformat_dict\u001b[0m\u001b[0;34m,\u001b[0m \u001b[0mmd_dict\u001b[0m \u001b[0;34m=\u001b[0m \u001b[0mformat\u001b[0m\u001b[0;34m(\u001b[0m\u001b[0mobj\u001b[0m\u001b[0;34m,\u001b[0m \u001b[0minclude\u001b[0m\u001b[0;34m=\u001b[0m\u001b[0minclude\u001b[0m\u001b[0;34m,\u001b[0m \u001b[0mexclude\u001b[0m\u001b[0;34m=\u001b[0m\u001b[0mexclude\u001b[0m\u001b[0;34m)\u001b[0m\u001b[0;34m\u001b[0m\u001b[0;34m\u001b[0m\u001b[0m\n\u001b[0m\u001b[1;32m    307\u001b[0m             \u001b[0;32mif\u001b[0m \u001b[0;32mnot\u001b[0m \u001b[0mformat_dict\u001b[0m\u001b[0;34m:\u001b[0m\u001b[0;34m\u001b[0m\u001b[0;34m\u001b[0m\u001b[0m\n\u001b[1;32m    308\u001b[0m                 \u001b[0;31m# nothing to display (e.g. _ipython_display_ took over)\u001b[0m\u001b[0;34m\u001b[0m\u001b[0;34m\u001b[0m\u001b[0;34m\u001b[0m\u001b[0m\n",
            "\u001b[0;32m/usr/local/lib/python3.7/dist-packages/IPython/core/formatters.py\u001b[0m in \u001b[0;36mformat\u001b[0;34m(self, obj, include, exclude)\u001b[0m\n\u001b[1;32m    171\u001b[0m             \u001b[0mmd\u001b[0m \u001b[0;34m=\u001b[0m \u001b[0;32mNone\u001b[0m\u001b[0;34m\u001b[0m\u001b[0;34m\u001b[0m\u001b[0m\n\u001b[1;32m    172\u001b[0m             \u001b[0;32mtry\u001b[0m\u001b[0;34m:\u001b[0m\u001b[0;34m\u001b[0m\u001b[0;34m\u001b[0m\u001b[0m\n\u001b[0;32m--> 173\u001b[0;31m                 \u001b[0mdata\u001b[0m \u001b[0;34m=\u001b[0m \u001b[0mformatter\u001b[0m\u001b[0;34m(\u001b[0m\u001b[0mobj\u001b[0m\u001b[0;34m)\u001b[0m\u001b[0;34m\u001b[0m\u001b[0;34m\u001b[0m\u001b[0m\n\u001b[0m\u001b[1;32m    174\u001b[0m             \u001b[0;32mexcept\u001b[0m\u001b[0;34m:\u001b[0m\u001b[0;34m\u001b[0m\u001b[0;34m\u001b[0m\u001b[0m\n\u001b[1;32m    175\u001b[0m                 \u001b[0;31m# FIXME: log the exception\u001b[0m\u001b[0;34m\u001b[0m\u001b[0;34m\u001b[0m\u001b[0;34m\u001b[0m\u001b[0m\n",
            "\u001b[0;32m<decorator-gen-2>\u001b[0m in \u001b[0;36m__call__\u001b[0;34m(self, obj)\u001b[0m\n",
            "\u001b[0;32m/usr/local/lib/python3.7/dist-packages/IPython/core/formatters.py\u001b[0m in \u001b[0;36mcatch_format_error\u001b[0;34m(method, self, *args, **kwargs)\u001b[0m\n\u001b[1;32m    215\u001b[0m     \u001b[0;34m\"\"\"show traceback on failed format call\"\"\"\u001b[0m\u001b[0;34m\u001b[0m\u001b[0;34m\u001b[0m\u001b[0m\n\u001b[1;32m    216\u001b[0m     \u001b[0;32mtry\u001b[0m\u001b[0;34m:\u001b[0m\u001b[0;34m\u001b[0m\u001b[0;34m\u001b[0m\u001b[0m\n\u001b[0;32m--> 217\u001b[0;31m         \u001b[0mr\u001b[0m \u001b[0;34m=\u001b[0m \u001b[0mmethod\u001b[0m\u001b[0;34m(\u001b[0m\u001b[0mself\u001b[0m\u001b[0;34m,\u001b[0m \u001b[0;34m*\u001b[0m\u001b[0margs\u001b[0m\u001b[0;34m,\u001b[0m \u001b[0;34m**\u001b[0m\u001b[0mkwargs\u001b[0m\u001b[0;34m)\u001b[0m\u001b[0;34m\u001b[0m\u001b[0;34m\u001b[0m\u001b[0m\n\u001b[0m\u001b[1;32m    218\u001b[0m     \u001b[0;32mexcept\u001b[0m \u001b[0mNotImplementedError\u001b[0m\u001b[0;34m:\u001b[0m\u001b[0;34m\u001b[0m\u001b[0;34m\u001b[0m\u001b[0m\n\u001b[1;32m    219\u001b[0m         \u001b[0;31m# don't warn on NotImplementedErrors\u001b[0m\u001b[0;34m\u001b[0m\u001b[0;34m\u001b[0m\u001b[0;34m\u001b[0m\u001b[0m\n",
            "\u001b[0;32m/usr/local/lib/python3.7/dist-packages/IPython/core/formatters.py\u001b[0m in \u001b[0;36m__call__\u001b[0;34m(self, obj)\u001b[0m\n\u001b[1;32m    332\u001b[0m                 \u001b[0;32mpass\u001b[0m\u001b[0;34m\u001b[0m\u001b[0;34m\u001b[0m\u001b[0m\n\u001b[1;32m    333\u001b[0m             \u001b[0;32melse\u001b[0m\u001b[0;34m:\u001b[0m\u001b[0;34m\u001b[0m\u001b[0;34m\u001b[0m\u001b[0m\n\u001b[0;32m--> 334\u001b[0;31m                 \u001b[0;32mreturn\u001b[0m \u001b[0mprinter\u001b[0m\u001b[0;34m(\u001b[0m\u001b[0mobj\u001b[0m\u001b[0;34m)\u001b[0m\u001b[0;34m\u001b[0m\u001b[0;34m\u001b[0m\u001b[0m\n\u001b[0m\u001b[1;32m    335\u001b[0m             \u001b[0;31m# Finally look for special method names\u001b[0m\u001b[0;34m\u001b[0m\u001b[0;34m\u001b[0m\u001b[0;34m\u001b[0m\u001b[0m\n\u001b[1;32m    336\u001b[0m             \u001b[0mmethod\u001b[0m \u001b[0;34m=\u001b[0m \u001b[0mget_real_method\u001b[0m\u001b[0;34m(\u001b[0m\u001b[0mobj\u001b[0m\u001b[0;34m,\u001b[0m \u001b[0mself\u001b[0m\u001b[0;34m.\u001b[0m\u001b[0mprint_method\u001b[0m\u001b[0;34m)\u001b[0m\u001b[0;34m\u001b[0m\u001b[0;34m\u001b[0m\u001b[0m\n",
            "\u001b[0;32m/usr/local/lib/python3.7/dist-packages/IPython/core/pylabtools.py\u001b[0m in \u001b[0;36m<lambda>\u001b[0;34m(fig)\u001b[0m\n\u001b[1;32m    239\u001b[0m \u001b[0;34m\u001b[0m\u001b[0m\n\u001b[1;32m    240\u001b[0m     \u001b[0;32mif\u001b[0m \u001b[0;34m'png'\u001b[0m \u001b[0;32min\u001b[0m \u001b[0mformats\u001b[0m\u001b[0;34m:\u001b[0m\u001b[0;34m\u001b[0m\u001b[0;34m\u001b[0m\u001b[0m\n\u001b[0;32m--> 241\u001b[0;31m         \u001b[0mpng_formatter\u001b[0m\u001b[0;34m.\u001b[0m\u001b[0mfor_type\u001b[0m\u001b[0;34m(\u001b[0m\u001b[0mFigure\u001b[0m\u001b[0;34m,\u001b[0m \u001b[0;32mlambda\u001b[0m \u001b[0mfig\u001b[0m\u001b[0;34m:\u001b[0m \u001b[0mprint_figure\u001b[0m\u001b[0;34m(\u001b[0m\u001b[0mfig\u001b[0m\u001b[0;34m,\u001b[0m \u001b[0;34m'png'\u001b[0m\u001b[0;34m,\u001b[0m \u001b[0;34m**\u001b[0m\u001b[0mkwargs\u001b[0m\u001b[0;34m)\u001b[0m\u001b[0;34m)\u001b[0m\u001b[0;34m\u001b[0m\u001b[0;34m\u001b[0m\u001b[0m\n\u001b[0m\u001b[1;32m    242\u001b[0m     \u001b[0;32mif\u001b[0m \u001b[0;34m'retina'\u001b[0m \u001b[0;32min\u001b[0m \u001b[0mformats\u001b[0m \u001b[0;32mor\u001b[0m \u001b[0;34m'png2x'\u001b[0m \u001b[0;32min\u001b[0m \u001b[0mformats\u001b[0m\u001b[0;34m:\u001b[0m\u001b[0;34m\u001b[0m\u001b[0;34m\u001b[0m\u001b[0m\n\u001b[1;32m    243\u001b[0m         \u001b[0mpng_formatter\u001b[0m\u001b[0;34m.\u001b[0m\u001b[0mfor_type\u001b[0m\u001b[0;34m(\u001b[0m\u001b[0mFigure\u001b[0m\u001b[0;34m,\u001b[0m \u001b[0;32mlambda\u001b[0m \u001b[0mfig\u001b[0m\u001b[0;34m:\u001b[0m \u001b[0mretina_figure\u001b[0m\u001b[0;34m(\u001b[0m\u001b[0mfig\u001b[0m\u001b[0;34m,\u001b[0m \u001b[0;34m**\u001b[0m\u001b[0mkwargs\u001b[0m\u001b[0;34m)\u001b[0m\u001b[0;34m)\u001b[0m\u001b[0;34m\u001b[0m\u001b[0;34m\u001b[0m\u001b[0m\n",
            "\u001b[0;32m/usr/local/lib/python3.7/dist-packages/IPython/core/pylabtools.py\u001b[0m in \u001b[0;36mprint_figure\u001b[0;34m(fig, fmt, bbox_inches, **kwargs)\u001b[0m\n\u001b[1;32m    123\u001b[0m \u001b[0;34m\u001b[0m\u001b[0m\n\u001b[1;32m    124\u001b[0m     \u001b[0mbytes_io\u001b[0m \u001b[0;34m=\u001b[0m \u001b[0mBytesIO\u001b[0m\u001b[0;34m(\u001b[0m\u001b[0;34m)\u001b[0m\u001b[0;34m\u001b[0m\u001b[0;34m\u001b[0m\u001b[0m\n\u001b[0;32m--> 125\u001b[0;31m     \u001b[0mfig\u001b[0m\u001b[0;34m.\u001b[0m\u001b[0mcanvas\u001b[0m\u001b[0;34m.\u001b[0m\u001b[0mprint_figure\u001b[0m\u001b[0;34m(\u001b[0m\u001b[0mbytes_io\u001b[0m\u001b[0;34m,\u001b[0m \u001b[0;34m**\u001b[0m\u001b[0mkw\u001b[0m\u001b[0;34m)\u001b[0m\u001b[0;34m\u001b[0m\u001b[0;34m\u001b[0m\u001b[0m\n\u001b[0m\u001b[1;32m    126\u001b[0m     \u001b[0mdata\u001b[0m \u001b[0;34m=\u001b[0m \u001b[0mbytes_io\u001b[0m\u001b[0;34m.\u001b[0m\u001b[0mgetvalue\u001b[0m\u001b[0;34m(\u001b[0m\u001b[0;34m)\u001b[0m\u001b[0;34m\u001b[0m\u001b[0;34m\u001b[0m\u001b[0m\n\u001b[1;32m    127\u001b[0m     \u001b[0;32mif\u001b[0m \u001b[0mfmt\u001b[0m \u001b[0;34m==\u001b[0m \u001b[0;34m'svg'\u001b[0m\u001b[0;34m:\u001b[0m\u001b[0;34m\u001b[0m\u001b[0;34m\u001b[0m\u001b[0m\n",
            "\u001b[0;32m/usr/local/lib/python3.7/dist-packages/matplotlib/backend_bases.py\u001b[0m in \u001b[0;36mprint_figure\u001b[0;34m(self, filename, dpi, facecolor, edgecolor, orientation, format, bbox_inches, **kwargs)\u001b[0m\n\u001b[1;32m   2101\u001b[0m                     \u001b[0mbbox_artists\u001b[0m \u001b[0;34m=\u001b[0m \u001b[0mkwargs\u001b[0m\u001b[0;34m.\u001b[0m\u001b[0mpop\u001b[0m\u001b[0;34m(\u001b[0m\u001b[0;34m\"bbox_extra_artists\"\u001b[0m\u001b[0;34m,\u001b[0m \u001b[0;32mNone\u001b[0m\u001b[0;34m)\u001b[0m\u001b[0;34m\u001b[0m\u001b[0;34m\u001b[0m\u001b[0m\n\u001b[1;32m   2102\u001b[0m                     bbox_inches = self.figure.get_tightbbox(renderer,\n\u001b[0;32m-> 2103\u001b[0;31m                             bbox_extra_artists=bbox_artists)\n\u001b[0m\u001b[1;32m   2104\u001b[0m                     \u001b[0mpad\u001b[0m \u001b[0;34m=\u001b[0m \u001b[0mkwargs\u001b[0m\u001b[0;34m.\u001b[0m\u001b[0mpop\u001b[0m\u001b[0;34m(\u001b[0m\u001b[0;34m\"pad_inches\"\u001b[0m\u001b[0;34m,\u001b[0m \u001b[0;32mNone\u001b[0m\u001b[0;34m)\u001b[0m\u001b[0;34m\u001b[0m\u001b[0;34m\u001b[0m\u001b[0m\n\u001b[1;32m   2105\u001b[0m                     \u001b[0;32mif\u001b[0m \u001b[0mpad\u001b[0m \u001b[0;32mis\u001b[0m \u001b[0;32mNone\u001b[0m\u001b[0;34m:\u001b[0m\u001b[0;34m\u001b[0m\u001b[0;34m\u001b[0m\u001b[0m\n",
            "\u001b[0;32m/usr/local/lib/python3.7/dist-packages/matplotlib/figure.py\u001b[0m in \u001b[0;36mget_tightbbox\u001b[0;34m(self, renderer, bbox_extra_artists)\u001b[0m\n\u001b[1;32m   2383\u001b[0m \u001b[0;34m\u001b[0m\u001b[0m\n\u001b[1;32m   2384\u001b[0m         \u001b[0;32mfor\u001b[0m \u001b[0ma\u001b[0m \u001b[0;32min\u001b[0m \u001b[0martists\u001b[0m\u001b[0;34m:\u001b[0m\u001b[0;34m\u001b[0m\u001b[0;34m\u001b[0m\u001b[0m\n\u001b[0;32m-> 2385\u001b[0;31m             \u001b[0mbbox\u001b[0m \u001b[0;34m=\u001b[0m \u001b[0ma\u001b[0m\u001b[0;34m.\u001b[0m\u001b[0mget_tightbbox\u001b[0m\u001b[0;34m(\u001b[0m\u001b[0mrenderer\u001b[0m\u001b[0;34m)\u001b[0m\u001b[0;34m\u001b[0m\u001b[0;34m\u001b[0m\u001b[0m\n\u001b[0m\u001b[1;32m   2386\u001b[0m             \u001b[0;32mif\u001b[0m \u001b[0mbbox\u001b[0m \u001b[0;32mis\u001b[0m \u001b[0;32mnot\u001b[0m \u001b[0;32mNone\u001b[0m \u001b[0;32mand\u001b[0m \u001b[0;34m(\u001b[0m\u001b[0mbbox\u001b[0m\u001b[0;34m.\u001b[0m\u001b[0mwidth\u001b[0m \u001b[0;34m!=\u001b[0m \u001b[0;36m0\u001b[0m \u001b[0;32mor\u001b[0m \u001b[0mbbox\u001b[0m\u001b[0;34m.\u001b[0m\u001b[0mheight\u001b[0m \u001b[0;34m!=\u001b[0m \u001b[0;36m0\u001b[0m\u001b[0;34m)\u001b[0m\u001b[0;34m:\u001b[0m\u001b[0;34m\u001b[0m\u001b[0;34m\u001b[0m\u001b[0m\n\u001b[1;32m   2387\u001b[0m                 \u001b[0mbb\u001b[0m\u001b[0;34m.\u001b[0m\u001b[0mappend\u001b[0m\u001b[0;34m(\u001b[0m\u001b[0mbbox\u001b[0m\u001b[0;34m)\u001b[0m\u001b[0;34m\u001b[0m\u001b[0;34m\u001b[0m\u001b[0m\n",
            "\u001b[0;32m/usr/local/lib/python3.7/dist-packages/matplotlib/axes/_base.py\u001b[0m in \u001b[0;36mget_tightbbox\u001b[0;34m(self, renderer, call_axes_locator, bbox_extra_artists)\u001b[0m\n\u001b[1;32m   4333\u001b[0m         \u001b[0mbb\u001b[0m\u001b[0;34m.\u001b[0m\u001b[0mappend\u001b[0m\u001b[0;34m(\u001b[0m\u001b[0maxbbox\u001b[0m\u001b[0;34m)\u001b[0m\u001b[0;34m\u001b[0m\u001b[0;34m\u001b[0m\u001b[0m\n\u001b[1;32m   4334\u001b[0m \u001b[0;34m\u001b[0m\u001b[0m\n\u001b[0;32m-> 4335\u001b[0;31m         \u001b[0mself\u001b[0m\u001b[0;34m.\u001b[0m\u001b[0m_update_title_position\u001b[0m\u001b[0;34m(\u001b[0m\u001b[0mrenderer\u001b[0m\u001b[0;34m)\u001b[0m\u001b[0;34m\u001b[0m\u001b[0;34m\u001b[0m\u001b[0m\n\u001b[0m\u001b[1;32m   4336\u001b[0m         \u001b[0;32mif\u001b[0m \u001b[0mself\u001b[0m\u001b[0;34m.\u001b[0m\u001b[0mtitle\u001b[0m\u001b[0;34m.\u001b[0m\u001b[0mget_visible\u001b[0m\u001b[0;34m(\u001b[0m\u001b[0;34m)\u001b[0m\u001b[0;34m:\u001b[0m\u001b[0;34m\u001b[0m\u001b[0;34m\u001b[0m\u001b[0m\n\u001b[1;32m   4337\u001b[0m             \u001b[0mbb\u001b[0m\u001b[0;34m.\u001b[0m\u001b[0mappend\u001b[0m\u001b[0;34m(\u001b[0m\u001b[0mself\u001b[0m\u001b[0;34m.\u001b[0m\u001b[0mtitle\u001b[0m\u001b[0;34m.\u001b[0m\u001b[0mget_window_extent\u001b[0m\u001b[0;34m(\u001b[0m\u001b[0mrenderer\u001b[0m\u001b[0;34m)\u001b[0m\u001b[0;34m)\u001b[0m\u001b[0;34m\u001b[0m\u001b[0;34m\u001b[0m\u001b[0m\n",
            "\u001b[0;32m/usr/local/lib/python3.7/dist-packages/matplotlib/axes/_base.py\u001b[0m in \u001b[0;36m_update_title_position\u001b[0;34m(self, renderer)\u001b[0m\n\u001b[1;32m   2531\u001b[0m                 if (ax.xaxis.get_ticks_position() in ['top', 'unknown']\n\u001b[1;32m   2532\u001b[0m                         or ax.xaxis.get_label_position() == 'top'):\n\u001b[0;32m-> 2533\u001b[0;31m                     \u001b[0mbb\u001b[0m \u001b[0;34m=\u001b[0m \u001b[0max\u001b[0m\u001b[0;34m.\u001b[0m\u001b[0mxaxis\u001b[0m\u001b[0;34m.\u001b[0m\u001b[0mget_tightbbox\u001b[0m\u001b[0;34m(\u001b[0m\u001b[0mrenderer\u001b[0m\u001b[0;34m)\u001b[0m\u001b[0;34m\u001b[0m\u001b[0;34m\u001b[0m\u001b[0m\n\u001b[0m\u001b[1;32m   2534\u001b[0m                 \u001b[0;32melse\u001b[0m\u001b[0;34m:\u001b[0m\u001b[0;34m\u001b[0m\u001b[0;34m\u001b[0m\u001b[0m\n\u001b[1;32m   2535\u001b[0m                     \u001b[0mbb\u001b[0m \u001b[0;34m=\u001b[0m \u001b[0max\u001b[0m\u001b[0;34m.\u001b[0m\u001b[0mget_window_extent\u001b[0m\u001b[0;34m(\u001b[0m\u001b[0mrenderer\u001b[0m\u001b[0;34m)\u001b[0m\u001b[0;34m\u001b[0m\u001b[0;34m\u001b[0m\u001b[0m\n",
            "\u001b[0;32m/usr/local/lib/python3.7/dist-packages/matplotlib/axis.py\u001b[0m in \u001b[0;36mget_tightbbox\u001b[0;34m(self, renderer)\u001b[0m\n\u001b[1;32m   1186\u001b[0m         \u001b[0mticks_to_draw\u001b[0m \u001b[0;34m=\u001b[0m \u001b[0mself\u001b[0m\u001b[0;34m.\u001b[0m\u001b[0m_update_ticks\u001b[0m\u001b[0;34m(\u001b[0m\u001b[0;34m)\u001b[0m\u001b[0;34m\u001b[0m\u001b[0;34m\u001b[0m\u001b[0m\n\u001b[1;32m   1187\u001b[0m \u001b[0;34m\u001b[0m\u001b[0m\n\u001b[0;32m-> 1188\u001b[0;31m         \u001b[0mself\u001b[0m\u001b[0;34m.\u001b[0m\u001b[0m_update_label_position\u001b[0m\u001b[0;34m(\u001b[0m\u001b[0mrenderer\u001b[0m\u001b[0;34m)\u001b[0m\u001b[0;34m\u001b[0m\u001b[0;34m\u001b[0m\u001b[0m\n\u001b[0m\u001b[1;32m   1189\u001b[0m \u001b[0;34m\u001b[0m\u001b[0m\n\u001b[1;32m   1190\u001b[0m         \u001b[0;31m# go back to just this axis's tick labels\u001b[0m\u001b[0;34m\u001b[0m\u001b[0;34m\u001b[0m\u001b[0;34m\u001b[0m\u001b[0m\n",
            "\u001b[0;32m/usr/local/lib/python3.7/dist-packages/matplotlib/axis.py\u001b[0m in \u001b[0;36m_update_label_position\u001b[0;34m(self, renderer)\u001b[0m\n\u001b[1;32m   2019\u001b[0m         \u001b[0;31m# get bounding boxes for this axis and any siblings\u001b[0m\u001b[0;34m\u001b[0m\u001b[0;34m\u001b[0m\u001b[0;34m\u001b[0m\u001b[0m\n\u001b[1;32m   2020\u001b[0m         \u001b[0;31m# that have been set by `fig.align_xlabels()`\u001b[0m\u001b[0;34m\u001b[0m\u001b[0;34m\u001b[0m\u001b[0;34m\u001b[0m\u001b[0m\n\u001b[0;32m-> 2021\u001b[0;31m         \u001b[0mbboxes\u001b[0m\u001b[0;34m,\u001b[0m \u001b[0mbboxes2\u001b[0m \u001b[0;34m=\u001b[0m \u001b[0mself\u001b[0m\u001b[0;34m.\u001b[0m\u001b[0m_get_tick_boxes_siblings\u001b[0m\u001b[0;34m(\u001b[0m\u001b[0mrenderer\u001b[0m\u001b[0;34m=\u001b[0m\u001b[0mrenderer\u001b[0m\u001b[0;34m)\u001b[0m\u001b[0;34m\u001b[0m\u001b[0;34m\u001b[0m\u001b[0m\n\u001b[0m\u001b[1;32m   2022\u001b[0m \u001b[0;34m\u001b[0m\u001b[0m\n\u001b[1;32m   2023\u001b[0m         \u001b[0mx\u001b[0m\u001b[0;34m,\u001b[0m \u001b[0my\u001b[0m \u001b[0;34m=\u001b[0m \u001b[0mself\u001b[0m\u001b[0;34m.\u001b[0m\u001b[0mlabel\u001b[0m\u001b[0;34m.\u001b[0m\u001b[0mget_position\u001b[0m\u001b[0;34m(\u001b[0m\u001b[0;34m)\u001b[0m\u001b[0;34m\u001b[0m\u001b[0;34m\u001b[0m\u001b[0m\n",
            "\u001b[0;32m/usr/local/lib/python3.7/dist-packages/matplotlib/axis.py\u001b[0m in \u001b[0;36m_get_tick_boxes_siblings\u001b[0;34m(self, renderer)\u001b[0m\n\u001b[1;32m   2003\u001b[0m         \u001b[0;31m# if we want to align labels from other axes:\u001b[0m\u001b[0;34m\u001b[0m\u001b[0;34m\u001b[0m\u001b[0;34m\u001b[0m\u001b[0m\n\u001b[1;32m   2004\u001b[0m         \u001b[0;32mfor\u001b[0m \u001b[0mnn\u001b[0m\u001b[0;34m,\u001b[0m \u001b[0maxx\u001b[0m \u001b[0;32min\u001b[0m \u001b[0menumerate\u001b[0m\u001b[0;34m(\u001b[0m\u001b[0mgrp\u001b[0m\u001b[0;34m.\u001b[0m\u001b[0mget_siblings\u001b[0m\u001b[0;34m(\u001b[0m\u001b[0mself\u001b[0m\u001b[0;34m.\u001b[0m\u001b[0maxes\u001b[0m\u001b[0;34m)\u001b[0m\u001b[0;34m)\u001b[0m\u001b[0;34m:\u001b[0m\u001b[0;34m\u001b[0m\u001b[0;34m\u001b[0m\u001b[0m\n\u001b[0;32m-> 2005\u001b[0;31m             \u001b[0mticks_to_draw\u001b[0m \u001b[0;34m=\u001b[0m \u001b[0maxx\u001b[0m\u001b[0;34m.\u001b[0m\u001b[0mxaxis\u001b[0m\u001b[0;34m.\u001b[0m\u001b[0m_update_ticks\u001b[0m\u001b[0;34m(\u001b[0m\u001b[0;34m)\u001b[0m\u001b[0;34m\u001b[0m\u001b[0;34m\u001b[0m\u001b[0m\n\u001b[0m\u001b[1;32m   2006\u001b[0m             \u001b[0mtlb\u001b[0m\u001b[0;34m,\u001b[0m \u001b[0mtlb2\u001b[0m \u001b[0;34m=\u001b[0m \u001b[0maxx\u001b[0m\u001b[0;34m.\u001b[0m\u001b[0mxaxis\u001b[0m\u001b[0;34m.\u001b[0m\u001b[0m_get_tick_bboxes\u001b[0m\u001b[0;34m(\u001b[0m\u001b[0mticks_to_draw\u001b[0m\u001b[0;34m,\u001b[0m \u001b[0mrenderer\u001b[0m\u001b[0;34m)\u001b[0m\u001b[0;34m\u001b[0m\u001b[0;34m\u001b[0m\u001b[0m\n\u001b[1;32m   2007\u001b[0m             \u001b[0mbboxes\u001b[0m\u001b[0;34m.\u001b[0m\u001b[0mextend\u001b[0m\u001b[0;34m(\u001b[0m\u001b[0mtlb\u001b[0m\u001b[0;34m)\u001b[0m\u001b[0;34m\u001b[0m\u001b[0;34m\u001b[0m\u001b[0m\n",
            "\u001b[0;32m/usr/local/lib/python3.7/dist-packages/matplotlib/axis.py\u001b[0m in \u001b[0;36m_update_ticks\u001b[0;34m(self)\u001b[0m\n\u001b[1;32m   1104\u001b[0m         \u001b[0mmajor_labels\u001b[0m \u001b[0;34m=\u001b[0m \u001b[0mself\u001b[0m\u001b[0;34m.\u001b[0m\u001b[0mmajor\u001b[0m\u001b[0;34m.\u001b[0m\u001b[0mformatter\u001b[0m\u001b[0;34m.\u001b[0m\u001b[0mformat_ticks\u001b[0m\u001b[0;34m(\u001b[0m\u001b[0mmajor_locs\u001b[0m\u001b[0;34m)\u001b[0m\u001b[0;34m\u001b[0m\u001b[0;34m\u001b[0m\u001b[0m\n\u001b[1;32m   1105\u001b[0m         \u001b[0mmajor_ticks\u001b[0m \u001b[0;34m=\u001b[0m \u001b[0mself\u001b[0m\u001b[0;34m.\u001b[0m\u001b[0mget_major_ticks\u001b[0m\u001b[0;34m(\u001b[0m\u001b[0mlen\u001b[0m\u001b[0;34m(\u001b[0m\u001b[0mmajor_locs\u001b[0m\u001b[0;34m)\u001b[0m\u001b[0;34m)\u001b[0m\u001b[0;34m\u001b[0m\u001b[0;34m\u001b[0m\u001b[0m\n\u001b[0;32m-> 1106\u001b[0;31m         \u001b[0mself\u001b[0m\u001b[0;34m.\u001b[0m\u001b[0mmajor\u001b[0m\u001b[0;34m.\u001b[0m\u001b[0mformatter\u001b[0m\u001b[0;34m.\u001b[0m\u001b[0mset_locs\u001b[0m\u001b[0;34m(\u001b[0m\u001b[0mmajor_locs\u001b[0m\u001b[0;34m)\u001b[0m\u001b[0;34m\u001b[0m\u001b[0;34m\u001b[0m\u001b[0m\n\u001b[0m\u001b[1;32m   1107\u001b[0m         \u001b[0;32mfor\u001b[0m \u001b[0mtick\u001b[0m\u001b[0;34m,\u001b[0m \u001b[0mloc\u001b[0m\u001b[0;34m,\u001b[0m \u001b[0mlabel\u001b[0m \u001b[0;32min\u001b[0m \u001b[0mzip\u001b[0m\u001b[0;34m(\u001b[0m\u001b[0mmajor_ticks\u001b[0m\u001b[0;34m,\u001b[0m \u001b[0mmajor_locs\u001b[0m\u001b[0;34m,\u001b[0m \u001b[0mmajor_labels\u001b[0m\u001b[0;34m)\u001b[0m\u001b[0;34m:\u001b[0m\u001b[0;34m\u001b[0m\u001b[0;34m\u001b[0m\u001b[0m\n\u001b[1;32m   1108\u001b[0m             \u001b[0mtick\u001b[0m\u001b[0;34m.\u001b[0m\u001b[0mupdate_position\u001b[0m\u001b[0;34m(\u001b[0m\u001b[0mloc\u001b[0m\u001b[0;34m)\u001b[0m\u001b[0;34m\u001b[0m\u001b[0;34m\u001b[0m\u001b[0m\n",
            "\u001b[0;32m/usr/local/lib/python3.7/dist-packages/matplotlib/ticker.py\u001b[0m in \u001b[0;36mset_locs\u001b[0;34m(self, locs)\u001b[0m\n\u001b[1;32m    678\u001b[0m             \u001b[0;32mif\u001b[0m \u001b[0mself\u001b[0m\u001b[0;34m.\u001b[0m\u001b[0m_useOffset\u001b[0m\u001b[0;34m:\u001b[0m\u001b[0;34m\u001b[0m\u001b[0;34m\u001b[0m\u001b[0m\n\u001b[1;32m    679\u001b[0m                 \u001b[0mself\u001b[0m\u001b[0;34m.\u001b[0m\u001b[0m_compute_offset\u001b[0m\u001b[0;34m(\u001b[0m\u001b[0;34m)\u001b[0m\u001b[0;34m\u001b[0m\u001b[0;34m\u001b[0m\u001b[0m\n\u001b[0;32m--> 680\u001b[0;31m             \u001b[0mself\u001b[0m\u001b[0;34m.\u001b[0m\u001b[0m_set_order_of_magnitude\u001b[0m\u001b[0;34m(\u001b[0m\u001b[0;34m)\u001b[0m\u001b[0;34m\u001b[0m\u001b[0;34m\u001b[0m\u001b[0m\n\u001b[0m\u001b[1;32m    681\u001b[0m             \u001b[0mself\u001b[0m\u001b[0;34m.\u001b[0m\u001b[0m_set_format\u001b[0m\u001b[0;34m(\u001b[0m\u001b[0;34m)\u001b[0m\u001b[0;34m\u001b[0m\u001b[0;34m\u001b[0m\u001b[0m\n\u001b[1;32m    682\u001b[0m \u001b[0;34m\u001b[0m\u001b[0m\n",
            "\u001b[0;32m/usr/local/lib/python3.7/dist-packages/matplotlib/ticker.py\u001b[0m in \u001b[0;36m_set_order_of_magnitude\u001b[0;34m(self)\u001b[0m\n\u001b[1;32m    732\u001b[0m             \u001b[0;32mreturn\u001b[0m\u001b[0;34m\u001b[0m\u001b[0;34m\u001b[0m\u001b[0m\n\u001b[1;32m    733\u001b[0m         \u001b[0;31m# restrict to visible ticks\u001b[0m\u001b[0;34m\u001b[0m\u001b[0;34m\u001b[0m\u001b[0;34m\u001b[0m\u001b[0m\n\u001b[0;32m--> 734\u001b[0;31m         \u001b[0mvmin\u001b[0m\u001b[0;34m,\u001b[0m \u001b[0mvmax\u001b[0m \u001b[0;34m=\u001b[0m \u001b[0msorted\u001b[0m\u001b[0;34m(\u001b[0m\u001b[0mself\u001b[0m\u001b[0;34m.\u001b[0m\u001b[0maxis\u001b[0m\u001b[0;34m.\u001b[0m\u001b[0mget_view_interval\u001b[0m\u001b[0;34m(\u001b[0m\u001b[0;34m)\u001b[0m\u001b[0;34m)\u001b[0m\u001b[0;34m\u001b[0m\u001b[0;34m\u001b[0m\u001b[0m\n\u001b[0m\u001b[1;32m    735\u001b[0m         \u001b[0mlocs\u001b[0m \u001b[0;34m=\u001b[0m \u001b[0mnp\u001b[0m\u001b[0;34m.\u001b[0m\u001b[0masarray\u001b[0m\u001b[0;34m(\u001b[0m\u001b[0mself\u001b[0m\u001b[0;34m.\u001b[0m\u001b[0mlocs\u001b[0m\u001b[0;34m)\u001b[0m\u001b[0;34m\u001b[0m\u001b[0;34m\u001b[0m\u001b[0m\n\u001b[1;32m    736\u001b[0m         \u001b[0mlocs\u001b[0m \u001b[0;34m=\u001b[0m \u001b[0mlocs\u001b[0m\u001b[0;34m[\u001b[0m\u001b[0;34m(\u001b[0m\u001b[0mvmin\u001b[0m \u001b[0;34m<=\u001b[0m \u001b[0mlocs\u001b[0m\u001b[0;34m)\u001b[0m \u001b[0;34m&\u001b[0m \u001b[0;34m(\u001b[0m\u001b[0mlocs\u001b[0m \u001b[0;34m<=\u001b[0m \u001b[0mvmax\u001b[0m\u001b[0;34m)\u001b[0m\u001b[0;34m]\u001b[0m\u001b[0;34m\u001b[0m\u001b[0;34m\u001b[0m\u001b[0m\n",
            "\u001b[0;32m/usr/local/lib/python3.7/dist-packages/matplotlib/axis.py\u001b[0m in \u001b[0;36mgetter\u001b[0;34m(self)\u001b[0m\n\u001b[1;32m   1891\u001b[0m     \u001b[0;32mdef\u001b[0m \u001b[0mgetter\u001b[0m\u001b[0;34m(\u001b[0m\u001b[0mself\u001b[0m\u001b[0;34m)\u001b[0m\u001b[0;34m:\u001b[0m\u001b[0;34m\u001b[0m\u001b[0;34m\u001b[0m\u001b[0m\n\u001b[1;32m   1892\u001b[0m         \u001b[0;31m# docstring inherited.\u001b[0m\u001b[0;34m\u001b[0m\u001b[0;34m\u001b[0m\u001b[0;34m\u001b[0m\u001b[0m\n\u001b[0;32m-> 1893\u001b[0;31m         \u001b[0;32mreturn\u001b[0m \u001b[0mgetattr\u001b[0m\u001b[0;34m(\u001b[0m\u001b[0mgetattr\u001b[0m\u001b[0;34m(\u001b[0m\u001b[0mself\u001b[0m\u001b[0;34m.\u001b[0m\u001b[0maxes\u001b[0m\u001b[0;34m,\u001b[0m \u001b[0mlim_name\u001b[0m\u001b[0;34m)\u001b[0m\u001b[0;34m,\u001b[0m \u001b[0mattr_name\u001b[0m\u001b[0;34m)\u001b[0m\u001b[0;34m\u001b[0m\u001b[0;34m\u001b[0m\u001b[0m\n\u001b[0m\u001b[1;32m   1894\u001b[0m \u001b[0;34m\u001b[0m\u001b[0m\n\u001b[1;32m   1895\u001b[0m     \u001b[0;32mdef\u001b[0m \u001b[0msetter\u001b[0m\u001b[0;34m(\u001b[0m\u001b[0mself\u001b[0m\u001b[0;34m,\u001b[0m \u001b[0mvmin\u001b[0m\u001b[0;34m,\u001b[0m \u001b[0mvmax\u001b[0m\u001b[0;34m,\u001b[0m \u001b[0mignore\u001b[0m\u001b[0;34m=\u001b[0m\u001b[0;32mFalse\u001b[0m\u001b[0;34m)\u001b[0m\u001b[0;34m:\u001b[0m\u001b[0;34m\u001b[0m\u001b[0;34m\u001b[0m\u001b[0m\n",
            "\u001b[0;32m/usr/local/lib/python3.7/dist-packages/matplotlib/axes/_base.py\u001b[0m in \u001b[0;36mviewLim\u001b[0;34m(self)\u001b[0m\n\u001b[1;32m    597\u001b[0m     \u001b[0;34m@\u001b[0m\u001b[0mproperty\u001b[0m\u001b[0;34m\u001b[0m\u001b[0;34m\u001b[0m\u001b[0m\n\u001b[1;32m    598\u001b[0m     \u001b[0;32mdef\u001b[0m \u001b[0mviewLim\u001b[0m\u001b[0;34m(\u001b[0m\u001b[0mself\u001b[0m\u001b[0;34m)\u001b[0m\u001b[0;34m:\u001b[0m\u001b[0;34m\u001b[0m\u001b[0;34m\u001b[0m\u001b[0m\n\u001b[0;32m--> 599\u001b[0;31m         \u001b[0mself\u001b[0m\u001b[0;34m.\u001b[0m\u001b[0m_unstale_viewLim\u001b[0m\u001b[0;34m(\u001b[0m\u001b[0;34m)\u001b[0m\u001b[0;34m\u001b[0m\u001b[0;34m\u001b[0m\u001b[0m\n\u001b[0m\u001b[1;32m    600\u001b[0m         \u001b[0;32mreturn\u001b[0m \u001b[0mself\u001b[0m\u001b[0;34m.\u001b[0m\u001b[0m_viewLim\u001b[0m\u001b[0;34m\u001b[0m\u001b[0;34m\u001b[0m\u001b[0m\n\u001b[1;32m    601\u001b[0m \u001b[0;34m\u001b[0m\u001b[0m\n",
            "\u001b[0;32m/usr/local/lib/python3.7/dist-packages/matplotlib/axes/_base.py\u001b[0m in \u001b[0;36m_unstale_viewLim\u001b[0;34m(self)\u001b[0m\n\u001b[1;32m    586\u001b[0m         scalex = any(ax._stale_viewlim_x\n\u001b[1;32m    587\u001b[0m                      for ax in self._shared_x_axes.get_siblings(self))\n\u001b[0;32m--> 588\u001b[0;31m         scaley = any(ax._stale_viewlim_y\n\u001b[0m\u001b[1;32m    589\u001b[0m                      for ax in self._shared_y_axes.get_siblings(self))\n\u001b[1;32m    590\u001b[0m         \u001b[0;32mif\u001b[0m \u001b[0mscalex\u001b[0m \u001b[0;32mor\u001b[0m \u001b[0mscaley\u001b[0m\u001b[0;34m:\u001b[0m\u001b[0;34m\u001b[0m\u001b[0;34m\u001b[0m\u001b[0m\n",
            "\u001b[0;31mKeyboardInterrupt\u001b[0m: "
          ]
        }
      ]
    },
    {
      "cell_type": "code",
      "metadata": {
        "colab": {
          "base_uri": "https://localhost:8080/",
          "height": 416
        },
        "id": "bcZkGlV1CdMP",
        "outputId": "003d1853-5307-47f1-91f1-7355c15d12c0"
      },
      "source": [
        "#Para procesar variables independientes / categoricas (NUEVO TRUCO 2 - con quintiles) (No se usará)\n",
        "bd = df.copy()\n",
        "bd['Ingreso quintil'] = pd.qcut(bd['RENTA'],5,labels=['Bajísimo', 'Bajo', 'Medio', 'Alto', 'Muy alto'])\n",
        "bd"
      ],
      "execution_count": 129,
      "outputs": [
        {
          "output_type": "execute_result",
          "data": {
            "text/html": [
              "<div>\n",
              "<style scoped>\n",
              "    .dataframe tbody tr th:only-of-type {\n",
              "        vertical-align: middle;\n",
              "    }\n",
              "\n",
              "    .dataframe tbody tr th {\n",
              "        vertical-align: top;\n",
              "    }\n",
              "\n",
              "    .dataframe thead th {\n",
              "        text-align: right;\n",
              "    }\n",
              "</style>\n",
              "<table border=\"1\" class=\"dataframe\">\n",
              "  <thead>\n",
              "    <tr style=\"text-align: right;\">\n",
              "      <th></th>\n",
              "      <th>COM</th>\n",
              "      <th>ED</th>\n",
              "      <th>SX</th>\n",
              "      <th>NIV_EDUC</th>\n",
              "      <th>RENTA</th>\n",
              "      <th>E_CIVIL</th>\n",
              "      <th>VIG</th>\n",
              "      <th>TRX_T</th>\n",
              "      <th>TRX_T-1</th>\n",
              "      <th>TRX_T-2</th>\n",
              "      <th>SALDO_T</th>\n",
              "      <th>SALDO_T-1</th>\n",
              "      <th>SALDO_T-2</th>\n",
              "      <th>SALDO_T-3</th>\n",
              "      <th>SALDO_T-4</th>\n",
              "      <th>SALDO_T-5</th>\n",
              "      <th>CERRO</th>\n",
              "      <th>Ingreso quintil</th>\n",
              "    </tr>\n",
              "  </thead>\n",
              "  <tbody>\n",
              "    <tr>\n",
              "      <th>0</th>\n",
              "      <td>88</td>\n",
              "      <td>86</td>\n",
              "      <td>M</td>\n",
              "      <td>UNV</td>\n",
              "      <td>1900</td>\n",
              "      <td>CAS</td>\n",
              "      <td>262</td>\n",
              "      <td>27</td>\n",
              "      <td>15</td>\n",
              "      <td>24</td>\n",
              "      <td>48073799.25</td>\n",
              "      <td>903165.45</td>\n",
              "      <td>808209.00</td>\n",
              "      <td>4365589.05</td>\n",
              "      <td>3703754.29</td>\n",
              "      <td>2153243.04</td>\n",
              "      <td>0</td>\n",
              "      <td>Muy alto</td>\n",
              "    </tr>\n",
              "    <tr>\n",
              "      <th>1</th>\n",
              "      <td>66</td>\n",
              "      <td>82</td>\n",
              "      <td>M</td>\n",
              "      <td>MED</td>\n",
              "      <td>250</td>\n",
              "      <td>CAS</td>\n",
              "      <td>72</td>\n",
              "      <td>21</td>\n",
              "      <td>23</td>\n",
              "      <td>49</td>\n",
              "      <td>60369.29</td>\n",
              "      <td>43859.50</td>\n",
              "      <td>39065.10</td>\n",
              "      <td>55232.43</td>\n",
              "      <td>223181.43</td>\n",
              "      <td>0.00</td>\n",
              "      <td>1</td>\n",
              "      <td>Bajísimo</td>\n",
              "    </tr>\n",
              "    <tr>\n",
              "      <th>2</th>\n",
              "      <td>5</td>\n",
              "      <td>72</td>\n",
              "      <td>M</td>\n",
              "      <td>UNV</td>\n",
              "      <td>700</td>\n",
              "      <td>CAS</td>\n",
              "      <td>187</td>\n",
              "      <td>24</td>\n",
              "      <td>9</td>\n",
              "      <td>27</td>\n",
              "      <td>67877.14</td>\n",
              "      <td>-106620.70</td>\n",
              "      <td>170602.48</td>\n",
              "      <td>180041.05</td>\n",
              "      <td>248783.81</td>\n",
              "      <td>546633.81</td>\n",
              "      <td>1</td>\n",
              "      <td>Alto</td>\n",
              "    </tr>\n",
              "    <tr>\n",
              "      <th>3</th>\n",
              "      <td>66</td>\n",
              "      <td>81</td>\n",
              "      <td>M</td>\n",
              "      <td>UNV</td>\n",
              "      <td>440</td>\n",
              "      <td>SOL</td>\n",
              "      <td>130</td>\n",
              "      <td>21</td>\n",
              "      <td>12</td>\n",
              "      <td>18</td>\n",
              "      <td>6543424.05</td>\n",
              "      <td>7259501.00</td>\n",
              "      <td>7176502.29</td>\n",
              "      <td>23091898.57</td>\n",
              "      <td>18446246.67</td>\n",
              "      <td>19383065.22</td>\n",
              "      <td>0</td>\n",
              "      <td>Bajo</td>\n",
              "    </tr>\n",
              "    <tr>\n",
              "      <th>4</th>\n",
              "      <td>81</td>\n",
              "      <td>64</td>\n",
              "      <td>M</td>\n",
              "      <td>UNV</td>\n",
              "      <td>650</td>\n",
              "      <td>CAS</td>\n",
              "      <td>36</td>\n",
              "      <td>14</td>\n",
              "      <td>17</td>\n",
              "      <td>27</td>\n",
              "      <td>5501529.00</td>\n",
              "      <td>6822243.86</td>\n",
              "      <td>10946776.71</td>\n",
              "      <td>23671060.95</td>\n",
              "      <td>15813760.48</td>\n",
              "      <td>20792048.26</td>\n",
              "      <td>0</td>\n",
              "      <td>Medio</td>\n",
              "    </tr>\n",
              "    <tr>\n",
              "      <th>...</th>\n",
              "      <td>...</td>\n",
              "      <td>...</td>\n",
              "      <td>...</td>\n",
              "      <td>...</td>\n",
              "      <td>...</td>\n",
              "      <td>...</td>\n",
              "      <td>...</td>\n",
              "      <td>...</td>\n",
              "      <td>...</td>\n",
              "      <td>...</td>\n",
              "      <td>...</td>\n",
              "      <td>...</td>\n",
              "      <td>...</td>\n",
              "      <td>...</td>\n",
              "      <td>...</td>\n",
              "      <td>...</td>\n",
              "      <td>...</td>\n",
              "      <td>...</td>\n",
              "    </tr>\n",
              "    <tr>\n",
              "      <th>1243</th>\n",
              "      <td>88</td>\n",
              "      <td>49</td>\n",
              "      <td>M</td>\n",
              "      <td>UNV</td>\n",
              "      <td>3785</td>\n",
              "      <td>CAS</td>\n",
              "      <td>60</td>\n",
              "      <td>103</td>\n",
              "      <td>60</td>\n",
              "      <td>59</td>\n",
              "      <td>913145.81</td>\n",
              "      <td>758675.60</td>\n",
              "      <td>345568.00</td>\n",
              "      <td>738868.38</td>\n",
              "      <td>3200987.14</td>\n",
              "      <td>0.00</td>\n",
              "      <td>1</td>\n",
              "      <td>Muy alto</td>\n",
              "    </tr>\n",
              "    <tr>\n",
              "      <th>1244</th>\n",
              "      <td>88</td>\n",
              "      <td>52</td>\n",
              "      <td>M</td>\n",
              "      <td>UNV</td>\n",
              "      <td>1000</td>\n",
              "      <td>CAS</td>\n",
              "      <td>51</td>\n",
              "      <td>10</td>\n",
              "      <td>5</td>\n",
              "      <td>4</td>\n",
              "      <td>21971.05</td>\n",
              "      <td>21688.00</td>\n",
              "      <td>21504.00</td>\n",
              "      <td>2047.05</td>\n",
              "      <td>0.00</td>\n",
              "      <td>0.00</td>\n",
              "      <td>1</td>\n",
              "      <td>Muy alto</td>\n",
              "    </tr>\n",
              "    <tr>\n",
              "      <th>1245</th>\n",
              "      <td>88</td>\n",
              "      <td>32</td>\n",
              "      <td>M</td>\n",
              "      <td>UNV</td>\n",
              "      <td>1200</td>\n",
              "      <td>SOL</td>\n",
              "      <td>33</td>\n",
              "      <td>25</td>\n",
              "      <td>15</td>\n",
              "      <td>31</td>\n",
              "      <td>32610.76</td>\n",
              "      <td>2100.00</td>\n",
              "      <td>20860.86</td>\n",
              "      <td>6954.76</td>\n",
              "      <td>-36221.43</td>\n",
              "      <td>0.00</td>\n",
              "      <td>1</td>\n",
              "      <td>Muy alto</td>\n",
              "    </tr>\n",
              "    <tr>\n",
              "      <th>1246</th>\n",
              "      <td>88</td>\n",
              "      <td>52</td>\n",
              "      <td>F</td>\n",
              "      <td>UNV</td>\n",
              "      <td>2115</td>\n",
              "      <td>SOL</td>\n",
              "      <td>28</td>\n",
              "      <td>69</td>\n",
              "      <td>57</td>\n",
              "      <td>78</td>\n",
              "      <td>186783.38</td>\n",
              "      <td>324127.90</td>\n",
              "      <td>284047.86</td>\n",
              "      <td>1354588.48</td>\n",
              "      <td>34972662.86</td>\n",
              "      <td>0.00</td>\n",
              "      <td>1</td>\n",
              "      <td>Muy alto</td>\n",
              "    </tr>\n",
              "    <tr>\n",
              "      <th>1247</th>\n",
              "      <td>88</td>\n",
              "      <td>62</td>\n",
              "      <td>M</td>\n",
              "      <td>UNV</td>\n",
              "      <td>2368</td>\n",
              "      <td>CAS</td>\n",
              "      <td>28</td>\n",
              "      <td>25</td>\n",
              "      <td>19</td>\n",
              "      <td>36</td>\n",
              "      <td>497070.10</td>\n",
              "      <td>323247.90</td>\n",
              "      <td>561729.80</td>\n",
              "      <td>1665345.05</td>\n",
              "      <td>3295702.38</td>\n",
              "      <td>917760.48</td>\n",
              "      <td>1</td>\n",
              "      <td>Muy alto</td>\n",
              "    </tr>\n",
              "  </tbody>\n",
              "</table>\n",
              "<p>1239 rows × 18 columns</p>\n",
              "</div>"
            ],
            "text/plain": [
              "      COM  ED        SX  ...    SALDO_T-5  CERRO Ingreso quintil\n",
              "0      88  86  M         ...   2153243.04      0        Muy alto\n",
              "1      66  82  M         ...         0.00      1        Bajísimo\n",
              "2       5  72  M         ...    546633.81      1            Alto\n",
              "3      66  81  M         ...  19383065.22      0            Bajo\n",
              "4      81  64  M         ...  20792048.26      0           Medio\n",
              "...   ...  ..       ...  ...          ...    ...             ...\n",
              "1243   88  49  M         ...         0.00      1        Muy alto\n",
              "1244   88  52  M         ...         0.00      1        Muy alto\n",
              "1245   88  32  M         ...         0.00      1        Muy alto\n",
              "1246   88  52  F         ...         0.00      1        Muy alto\n",
              "1247   88  62  M         ...    917760.48      1        Muy alto\n",
              "\n",
              "[1239 rows x 18 columns]"
            ]
          },
          "metadata": {},
          "execution_count": 129
        }
      ]
    },
    {
      "cell_type": "markdown",
      "metadata": {
        "id": "RZY6_F7hK-VZ"
      },
      "source": [
        "Ahora bien, cuando hacemos modelos de ML hay dos cosas que tenemos que hacer siempre:"
      ]
    },
    {
      "cell_type": "code",
      "metadata": {
        "id": "m58jOfo6Ha0X"
      },
      "source": [
        "#Dividir los datos\n",
        "from sklearn.model_selection import train_test_split\n",
        "\n",
        "X_train, X_test, y_train, y_test = train_test_split(X, y, test_size = 0.25, random_state = 20)"
      ],
      "execution_count": 161,
      "outputs": []
    },
    {
      "cell_type": "code",
      "metadata": {
        "id": "-0Wb7VQ1Hljv"
      },
      "source": [
        "#Escalar datos\n",
        "from sklearn.preprocessing import StandardScaler #tambien pueden usarse otras formas revisen robustscaler y minmaxscaler\n",
        "sc = StandardScaler()\n",
        "\n",
        "X_train_norm = sc.fit_transform(X_train) #Aqui ajustamos segun los parametros y lo transformamos a la nueva escala\n",
        "X_test_norm = sc.transform(X_test)       #Aqui solo transformamos a la nueva escala\n",
        "\n",
        "#Como es clasificacion binaria no se debe escalar el output\n",
        "# y_train_norm = sc.fit_transform(y_train)\n",
        "# y_test_norm = sc.transform(y_test)"
      ],
      "execution_count": 162,
      "outputs": []
    },
    {
      "cell_type": "markdown",
      "metadata": {
        "id": "0S17BODx7srJ"
      },
      "source": [
        "##Clasificador 1: Decision Tree Classifier"
      ]
    },
    {
      "cell_type": "code",
      "metadata": {
        "colab": {
          "base_uri": "https://localhost:8080/"
        },
        "id": "c_UFFYsb-Lz4",
        "outputId": "429b9863-a877-4a48-939d-806f391948ab"
      },
      "source": [
        "from sklearn.tree import DecisionTreeClassifier\n",
        "\n",
        "clf = DecisionTreeClassifier()\n",
        "clf.fit(X, y)   ## Entrenar usando X (features), y (clase)"
      ],
      "execution_count": 132,
      "outputs": [
        {
          "output_type": "execute_result",
          "data": {
            "text/plain": [
              "DecisionTreeClassifier(ccp_alpha=0.0, class_weight=None, criterion='gini',\n",
              "                       max_depth=None, max_features=None, max_leaf_nodes=None,\n",
              "                       min_impurity_decrease=0.0, min_impurity_split=None,\n",
              "                       min_samples_leaf=1, min_samples_split=2,\n",
              "                       min_weight_fraction_leaf=0.0, presort='deprecated',\n",
              "                       random_state=None, splitter='best')"
            ]
          },
          "metadata": {},
          "execution_count": 132
        }
      ]
    },
    {
      "cell_type": "markdown",
      "metadata": {
        "id": "wiKbNOM2I2HJ"
      },
      "source": [
        "Con el método **fit** entrenamos el clasificador con los datos de <b>X</b> y la clase asociada a cada uno, **y**. Para ver qué tan bien fue el entrenamiento, podemos evaluar el clasificador ejecutándolo sobre instancias y verificando que la clase sea la correcta. \n",
        "\n",
        "Ya hemos entrenado nuestro clasificador empleando **fit**. Luego para predecir, usamos **predict**. Por ejemplo, si ejecutáramos ```clf.predict([[51, 35,..., 0, 1]])```, le estamos pasando al clasificador un dato con valores **[51, 35,..., 0, 1]**. Al ejecutar **predict**, éste nos retornará un arreglo con el valor correspondiente (y_i), indicando que esos datos fueron clasificados como la clase **y_i**.\n",
        "\n",
        "En **scikit-learn** existe el método **accuracy_score** que computa el Accuracy de la clasificación."
      ]
    },
    {
      "cell_type": "code",
      "metadata": {
        "id": "d0-VyhWJJH8S"
      },
      "source": [
        "y_pred = clf.predict(X)"
      ],
      "execution_count": 133,
      "outputs": []
    },
    {
      "cell_type": "code",
      "metadata": {
        "colab": {
          "base_uri": "https://localhost:8080/"
        },
        "id": "F-FXmdkmJK75",
        "outputId": "70c626da-c552-4a23-dc33-eba94e5477d5"
      },
      "source": [
        "from sklearn.metrics import accuracy_score\n",
        "\n",
        "print(\"Accuracy:\", accuracy_score(y, y_pred))"
      ],
      "execution_count": 134,
      "outputs": [
        {
          "output_type": "stream",
          "name": "stdout",
          "text": [
            "Accuracy: 1.0\n"
          ]
        }
      ]
    },
    {
      "cell_type": "markdown",
      "metadata": {
        "id": "N3PjWyrnM0si"
      },
      "source": [
        "> Como se puede apreciar, tuvimos un accuracy del 100% con el clasificador (1.0). Sin embargo, hicimos algo incorrecto: evaluamos el clasificador con los mismos datos con los cuales lo entrenamos!.\n",
        "\n",
        "> Al hacer esto, lo que terminamos haciendo fue aprender de los datos de entrada y evaluamos (o testeamos) usando los mismos datos. Esto también se denomina **overfitting**."
      ]
    },
    {
      "cell_type": "markdown",
      "metadata": {
        "id": "yP1chFUxM4tx"
      },
      "source": [
        "**Lo que si se debe hacer**"
      ]
    },
    {
      "cell_type": "code",
      "metadata": {
        "colab": {
          "base_uri": "https://localhost:8080/"
        },
        "id": "OKNokzftNELC",
        "outputId": "6543264a-4675-4250-cc35-46e691fdc384"
      },
      "source": [
        "clf = DecisionTreeClassifier()\n",
        "clf.fit(X_train_norm, y_train)\n",
        "\n",
        "y_pred = clf.predict(X_test)\n",
        "print(\"Accuracy:\", accuracy_score(y_test, y_pred))"
      ],
      "execution_count": 163,
      "outputs": [
        {
          "output_type": "stream",
          "name": "stdout",
          "text": [
            "Accuracy: 0.5290322580645161\n"
          ]
        }
      ]
    },
    {
      "cell_type": "markdown",
      "metadata": {
        "id": "eLrXZz6sPhzw"
      },
      "source": [
        "Lo que indica que tuvimos una **accuracy** de 52,9% ... Lo cual es muy bajo"
      ]
    },
    {
      "cell_type": "markdown",
      "metadata": {
        "id": "2BVwlPRjPdTx"
      },
      "source": [
        "**¿Donde está el error?**"
      ]
    },
    {
      "cell_type": "code",
      "metadata": {
        "colab": {
          "base_uri": "https://localhost:8080/"
        },
        "id": "4aqOSAvjPagC",
        "outputId": "4d5f4aeb-ce6a-48bf-ade0-3a50c42b4fc3"
      },
      "source": [
        "clf = DecisionTreeClassifier()\n",
        "clf.fit(X_train_norm, y_train)\n",
        "\n",
        "y_pred = clf.predict(X_test_norm)\n",
        "print(\"Accuracy:\", accuracy_score(y_test, y_pred))"
      ],
      "execution_count": 164,
      "outputs": [
        {
          "output_type": "stream",
          "name": "stdout",
          "text": [
            "Accuracy: 0.8064516129032258\n"
          ]
        }
      ]
    },
    {
      "cell_type": "markdown",
      "metadata": {
        "id": "35A5kpRMKRKT"
      },
      "source": [
        "Lo que indica que tuvimos una **accuracy** de 80,6% ... Lo cual es muuuucho mejor\n",
        "\n",
        "También podemos calcular la matriz de confusion y otras metricas de desempeño."
      ]
    },
    {
      "cell_type": "code",
      "metadata": {
        "colab": {
          "base_uri": "https://localhost:8080/",
          "height": 309
        },
        "id": "llYAhijFLpGs",
        "outputId": "dfa6f2ac-593f-4f33-9784-6a40d686da8e"
      },
      "source": [
        "from sklearn.metrics import confusion_matrix\n",
        "from sklearn.utils.multiclass import unique_labels\n",
        "\n",
        "# Compute confusion matrix. By default is not normalized (normalize=None)\n",
        "# If necessary change 'y_pred' according to your variable name\n",
        "cm = confusion_matrix(y_test, y_pred) \n",
        "\n",
        "classes = df.CERRO[unique_labels(y_test, y_pred)]\n",
        "\n",
        "df_i = pd.DataFrame(cm, index = classes, columns = classes)\n",
        "\n",
        "g = sns.heatmap(df_i, annot=True, cmap=\"Blues\")\n",
        "g.set_yticklabels(g.get_yticklabels(), rotation = 0)\n",
        "\n",
        "plt.title('Confusion matrix \\n')\n",
        "plt.xlabel('Predicted label')\n",
        "plt.ylabel('True label')\n",
        "\n",
        "plt.autoscale()"
      ],
      "execution_count": 165,
      "outputs": [
        {
          "output_type": "display_data",
          "data": {
            "image/png": "[encoded data removed]",
            "text/plain": [
              "<Figure size 432x288 with 2 Axes>"
            ]
          },
          "metadata": {
            "needs_background": "light"
          }
        }
      ]
    },
    {
      "cell_type": "code",
      "metadata": {
        "colab": {
          "base_uri": "https://localhost:8080/"
        },
        "id": "Fwq3He-jKbQK",
        "outputId": "6239b085-5562-4a30-b2ee-4476c80a5d20"
      },
      "source": [
        "from sklearn.metrics import classification_report\n",
        "print(classification_report(y_test, y_pred))"
      ],
      "execution_count": 166,
      "outputs": [
        {
          "output_type": "stream",
          "name": "stdout",
          "text": [
            "              precision    recall  f1-score   support\n",
            "\n",
            "           0       0.79      0.81      0.80       147\n",
            "           1       0.82      0.80      0.81       163\n",
            "\n",
            "    accuracy                           0.81       310\n",
            "   macro avg       0.81      0.81      0.81       310\n",
            "weighted avg       0.81      0.81      0.81       310\n",
            "\n"
          ]
        }
      ]
    },
    {
      "cell_type": "markdown",
      "metadata": {
        "id": "toz9jap5MUuK"
      },
      "source": [
        "Otra herramienta que también utilizaremos es Cross-validation. Con cross-validation, el conjunto de entrenamiento se divide en $k$ conjuntos disjuntos; se entrena sobre los datos correspondientes a $k-1$ de éstos, y se evalúa sobre el conjunto restante. Esto se repite $k$ veces, evaluando siempre sobre un conjunto distinto. Teniendo en cuenta el parámetro $k$, a éste método se le llama $k$-fold cross-validation.\n",
        "\n",
        "El código que está a continuación realizará 10-fold cross-validation usando Decision Tree sobre los datos. La forma de estimar el rendimiento del clasificador es, entre otras cosas, calculando el promedio de todos los k-folds.\n",
        "\n",
        "Además se muestra la predición sobre los datos para testear. "
      ]
    },
    {
      "cell_type": "code",
      "metadata": {
        "colab": {
          "base_uri": "https://localhost:8080/"
        },
        "id": "QhYk42F-MRyc",
        "outputId": "302e5c4c-16a3-4eea-f13f-bcfe475bb472"
      },
      "source": [
        "from sklearn.model_selection import cross_validate\n",
        "import numpy as np\n",
        "\n",
        "scoring = ['precision_macro', 'recall_macro', 'accuracy', 'f1_macro']\n",
        "cv_results = cross_validate(clf, X, y, cv = 10, scoring = scoring, return_train_score= True)\n",
        "\n",
        "print('Promedio Precision:', np.mean(cv_results['test_precision_macro']))\n",
        "print('Promedio Recall:', np.mean(cv_results['test_recall_macro']))\n",
        "print('Promedio F1-score:', np.mean(cv_results['test_f1_macro']))\n",
        "print('Promedio Accucary:', np.mean(cv_results['test_accuracy']))"
      ],
      "execution_count": 167,
      "outputs": [
        {
          "output_type": "stream",
          "name": "stdout",
          "text": [
            "Promedio Precision: 0.8391463682149214\n",
            "Promedio Recall: 0.8337091737805645\n",
            "Promedio F1-score: 0.832997900554109\n",
            "Promedio Accucary: 0.8337201678468398\n"
          ]
        }
      ]
    },
    {
      "cell_type": "markdown",
      "metadata": {
        "id": "i-5EGMaFNCoC"
      },
      "source": [
        "##Clasificador [2-n]\n",
        "\n",
        "Aplicar el resto de los clasificadores es realmente similar a lo anterior, por lo que crearemos una función que nos ayude para los siguientes algoritmos:\n",
        "\n",
        "*   DecisionTreeClassifier\n",
        "*   RandomForestClassifier\n",
        "*   KNeighborsClassifier\n",
        "*   SVM: https://towardsdatascience.com/the-complete-guide-to-support-vector-machine-svm-f1a820d8af0b\n",
        "\n",
        "**cof cof** https://archive.ph/ **cof cof**"
      ]
    },
    {
      "cell_type": "code",
      "metadata": {
        "id": "5e_OtRgQNZ_B"
      },
      "source": [
        "from sklearn.metrics import f1_score, recall_score, precision_score\n",
        "\n",
        "def run_classifier(clf, X, y, num_tests=100):\n",
        "    metrics = {'f1-score': [], 'precision': [], 'recall': []}\n",
        "    \n",
        "    for _ in range(num_tests):\n",
        "        X_train, X_test, y_train, y_test = train_test_split(X, y, test_size=.30)\n",
        "\n",
        "        model = clf.fit(X_train, y_train)\n",
        "        predictions = clf.predict(X_test)\n",
        "\n",
        "        metrics['f1-score'].append(f1_score(y_test, predictions)) \n",
        "        metrics['recall'].append(recall_score(y_test, predictions))\n",
        "        metrics['precision'].append(precision_score(y_test, predictions))\n",
        "    \n",
        "    return metrics"
      ],
      "execution_count": 58,
      "outputs": []
    },
    {
      "cell_type": "code",
      "metadata": {
        "colab": {
          "base_uri": "https://localhost:8080/"
        },
        "id": "pilSym607Lps",
        "outputId": "fb736e4e-a743-4547-c58f-a8804063c967"
      },
      "source": [
        "from sklearn.dummy import DummyClassifier\n",
        "from sklearn.tree import DecisionTreeClassifier\n",
        "from sklearn.ensemble import RandomForestClassifier\n",
        "from sklearn.neighbors import KNeighborsClassifier\n",
        "from sklearn.svm import SVC  # support vector machine classifier\n",
        "\n",
        "c0 = (\"Base Dummy\", DummyClassifier(strategy='stratified'))\n",
        "c1 = (\"Decision Tree\", DecisionTreeClassifier(max_depth=5))\n",
        "c2 = (\"Random Forest Classifier\", RandomForestClassifier())\n",
        "c3 = (\"KNN\", KNeighborsClassifier(n_neighbors=10))\n",
        "c4 = (\"Support Vector Machines\", SVC())\n",
        "\n",
        "classifiers = [c0, c1, c2, c3, c4]\n",
        "\n",
        "#X_i = X.values\n",
        "#y_i = y.values\n",
        "#y_i = y_i.reshape(1239, )\n",
        "\n",
        "results = {}\n",
        "for name, clf in classifiers:\n",
        "    metrics = run_classifier(clf, X_i, y_i)\n",
        "    results[name] = metrics\n",
        "    print(\"----------------\")\n",
        "    print(\"Resultados para clasificador: \", name) \n",
        "    print(\"Precision promedio:\", np.array(metrics['precision']).mean())\n",
        "    print(\"Recall promedio:\", np.array(metrics['recall']).mean())\n",
        "    print(\"F1-score promedio:\", np.array(metrics['f1-score']).mean())\n",
        "    print(\"----------------\\n\\n\")  "
      ],
      "execution_count": 65,
      "outputs": [
        {
          "output_type": "stream",
          "name": "stdout",
          "text": [
            "----------------\n",
            "Resultados para clasificador:  Base Dummy\n",
            "Precision promedio: 0.4996508584162186\n",
            "Recall promedio: 0.5008717561065216\n",
            "F1-score promedio: 0.49936330399129836\n",
            "----------------\n",
            "\n",
            "\n",
            "----------------\n",
            "Resultados para clasificador:  Decision Tree\n",
            "Precision promedio: 0.8533177226147975\n",
            "Recall promedio: 0.838215354336771\n",
            "F1-score promedio: 0.844865429378176\n",
            "----------------\n",
            "\n",
            "\n",
            "----------------\n",
            "Resultados para clasificador:  Random Forest Classifier\n",
            "Precision promedio: 0.8740859516989548\n",
            "Recall promedio: 0.8684658997457326\n",
            "F1-score promedio: 0.8706209212393802\n",
            "----------------\n",
            "\n",
            "\n",
            "----------------\n",
            "Resultados para clasificador:  KNN\n",
            "Precision promedio: 0.8400673188896739\n",
            "Recall promedio: 0.8188714514927381\n",
            "F1-score promedio: 0.8289945096583865\n",
            "----------------\n",
            "\n",
            "\n",
            "----------------\n",
            "Resultados para clasificador:  Support Vector Machines\n",
            "Precision promedio: 0.7212429609309562\n",
            "Recall promedio: 0.9207663544406829\n",
            "F1-score promedio: 0.808482701345067\n",
            "----------------\n",
            "\n",
            "\n"
          ]
        }
      ]
    },
    {
      "cell_type": "markdown",
      "metadata": {
        "id": "eK8CxmDqCRpf"
      },
      "source": [
        "**¿Y si me aparece algun algoritmo nuevo para probar?**\n",
        "\n",
        "Busquemos su [documentacion](https://colab.research.google.com/drive/1mDYrgWvyJLHRgZgFb3nqnDSE5FfcVWXx?authuser=1#scrollTo=guvd9Y2bCBd3&line=3&uniqifier=1)"
      ]
    },
    {
      "cell_type": "markdown",
      "metadata": {
        "id": "cNfFBROoCeQO"
      },
      "source": [
        "##Encontrar hiper párametros"
      ]
    },
    {
      "cell_type": "markdown",
      "metadata": {
        "id": "ncmZwpRiC1Ji"
      },
      "source": [
        "Los hiperparámetros son parámetros que no se aprenden directamente dentro de los estimadores. En scikit-learn se pasan como argumentos al constructor de las clases, por ejemplo cuál kernel usar para Support Vector Classifier, o qué criterio para Decision Tree, etc. Es posible y recomendable buscar en el espacio de hiperparámetros la mejor alternativa.\n",
        "\n",
        "Tenga en cuenta que es común que un pequeño subconjunto de esos parámetros pueda tener un gran impacto en el rendimiento predictivo o de cálculo del modelo, mientras que otros pueden dejar sus valores predeterminados. Se recomienda leer la documentación de la clase de estimador para obtener una mejor comprensión de su comportamiento esperado."
      ]
    },
    {
      "cell_type": "markdown",
      "metadata": {
        "id": "Ugd4CW2-CsNZ"
      },
      "source": [
        "###GridSearchCV"
      ]
    },
    {
      "cell_type": "markdown",
      "metadata": {
        "id": "_7_w3OgSC7O9"
      },
      "source": [
        "Una alternativa para seleccionar hiperparámetros es GridSearchCV, la cual considera exhaustivamente todas las combinaciones de parámetros. GridSearchCV recibe un *estimador*, recibe *param_grid* (un diccionario o una lista de diccionarios con los nombres de los parametros a probar como keys y una lista de los valores a probar), *scoring* una o varias funciones de puntuación (score) para evaluar cada combinación de parametros (opciones válidas: https://scikit-learn.org/stable/modules/model_evaluation.html) y *cv* una extrategia para hacer validación cruzada.\n",
        "\n",
        "El siguiente código muestra cómo seleccionar el número de vecinos y qué pesos otorgar a los vecinos en un clasificador KNN. "
      ]
    },
    {
      "cell_type": "code",
      "metadata": {
        "colab": {
          "base_uri": "https://localhost:8080/"
        },
        "id": "mUp8q0evBACO",
        "outputId": "5bd06fe0-5e06-4f26-a7c8-11c696d63546"
      },
      "source": [
        "from sklearn.model_selection import GridSearchCV\n",
        "\n",
        "X_train, X_test, y_train, y_test = train_test_split(X_i, y_i, test_size=.30)\n",
        "\n",
        "#Configure tuned_parameters\n",
        "tuned_parameters = {'n_neighbors': [1, 3, 5, 10], \n",
        "                    'weights': ['uniform','distance']}\n",
        "\n",
        "#set scoring metric\n",
        "score = 'precision' \n",
        "\n",
        "#Construir el clf con GridSearch\n",
        "clf = GridSearchCV(KNeighborsClassifier(), \n",
        "                   param_grid=tuned_parameters, \n",
        "                   cv=5,\n",
        "                   scoring=score)\n",
        "\n",
        "#Entrenar clf\n",
        "clf.fit(X_train, y_train)\n",
        "\n",
        "print(\"Mejor combinación de parámetros:\")\n",
        "print(clf.best_params_)\n",
        " \n",
        "y_true, y_pred = y_test, clf.predict(X_test)\n",
        "\n",
        "print(classification_report(y_true, y_pred))"
      ],
      "execution_count": 68,
      "outputs": [
        {
          "output_type": "stream",
          "name": "stdout",
          "text": [
            "Mejor combinación de parámetros:\n",
            "{'n_neighbors': 10, 'weights': 'uniform'}\n",
            "              precision    recall  f1-score   support\n",
            "\n",
            "           0       0.83      0.82      0.83       194\n",
            "           1       0.81      0.81      0.81       178\n",
            "\n",
            "    accuracy                           0.82       372\n",
            "   macro avg       0.82      0.82      0.82       372\n",
            "weighted avg       0.82      0.82      0.82       372\n",
            "\n"
          ]
        }
      ]
    },
    {
      "cell_type": "markdown",
      "metadata": {
        "id": "R-NYnG00FaqW"
      },
      "source": [
        "**Sobre curva ROC**"
      ]
    },
    {
      "cell_type": "code",
      "metadata": {
        "id": "SFTvSWdmYiFU",
        "colab": {
          "base_uri": "https://localhost:8080/",
          "height": 552
        },
        "outputId": "e068710b-212c-4db6-8844-24d893d97f82"
      },
      "source": [
        "#ROC y AUC\n",
        "from sklearn.metrics import roc_curve, roc_auc_score\n",
        "\n",
        "# Curva roc\n",
        "fpr, tpr, thresholds = roc_curve(y_test, y_pred)\n",
        "\n",
        "plt.figure(figsize = (10, 8))\n",
        "plt.plot([0,1], [0,1], linestyle='--')\n",
        "plt.plot(fpr, tpr, marker='.')\n",
        "plt.xlabel('FPR', size = 20)\n",
        "plt.ylabel('TPR', size = 20)\n",
        "plt.title('Curva ROC', size = 30)\n",
        "plt.show()\n",
        "\n",
        "auc = roc_auc_score(y_test, y_pred)\n",
        "print('AUC: %.3f' % auc)"
      ],
      "execution_count": 70,
      "outputs": [
        {
          "output_type": "display_data",
          "data": {
            "image/png": "[encoded data removed]",
            "text/plain": [
              "<Figure size 720x576 with 1 Axes>"
            ]
          },
          "metadata": {
            "needs_background": "light"
          }
        },
        {
          "output_type": "stream",
          "name": "stdout",
          "text": [
            "AUC: 0.820\n"
          ]
        }
      ]
    },
    {
      "cell_type": "markdown",
      "metadata": {
        "id": "PtZAinq0Fevi"
      },
      "source": [
        "##Trabajar con clases desbalanceadas"
      ]
    },
    {
      "cell_type": "markdown",
      "metadata": {
        "id": "UJU2MNENFiWx"
      },
      "source": [
        "Para mejorar el rendimiento de un clasificador sobre clases desbalanceadas existen varias técnicas. En esta parte, veremos cómo tratar con este problema usando (sub/over) sampling de las clases."
      ]
    },
    {
      "cell_type": "code",
      "metadata": {
        "colab": {
          "base_uri": "https://localhost:8080/"
        },
        "id": "Vs9JJCaCFRx0",
        "outputId": "974d26e7-8266-40de-f644-48e849806aca"
      },
      "source": [
        "print(\"Distribucion de clases original\")\n",
        "df['CERRO'].value_counts()"
      ],
      "execution_count": 82,
      "outputs": [
        {
          "output_type": "stream",
          "name": "stdout",
          "text": [
            "Distribucion de clases original\n"
          ]
        },
        {
          "output_type": "execute_result",
          "data": {
            "text/plain": [
              "0    624\n",
              "1    615\n",
              "Name: CERRO, dtype: int64"
            ]
          },
          "metadata": {},
          "execution_count": 82
        }
      ]
    },
    {
      "cell_type": "code",
      "metadata": {
        "colab": {
          "base_uri": "https://localhost:8080/",
          "height": 222
        },
        "id": "ShuAmSFEFwO5",
        "outputId": "50c6e2ea-66e4-4570-deb5-b691f046b45e"
      },
      "source": [
        "# Cargamos dataset desbalanceado\n",
        "unbalanced_path = 'https://users.dcc.uchile.cl/~hsarmien/mineria/datasets/unbalanced.csv'\n",
        "data = pd.read_csv(unbalanced_path)  # abrimos el archivo csv y lo cargamos en data\n",
        "data.head()"
      ],
      "execution_count": 91,
      "outputs": [
        {
          "output_type": "execute_result",
          "data": {
            "text/html": [
              "<div>\n",
              "<style scoped>\n",
              "    .dataframe tbody tr th:only-of-type {\n",
              "        vertical-align: middle;\n",
              "    }\n",
              "\n",
              "    .dataframe tbody tr th {\n",
              "        vertical-align: top;\n",
              "    }\n",
              "\n",
              "    .dataframe thead th {\n",
              "        text-align: right;\n",
              "    }\n",
              "</style>\n",
              "<table border=\"1\" class=\"dataframe\">\n",
              "  <thead>\n",
              "    <tr style=\"text-align: right;\">\n",
              "      <th></th>\n",
              "      <th>V3</th>\n",
              "      <th>V4</th>\n",
              "      <th>V5</th>\n",
              "      <th>V6</th>\n",
              "      <th>V7</th>\n",
              "      <th>V8</th>\n",
              "      <th>V9</th>\n",
              "      <th>V10</th>\n",
              "      <th>V11</th>\n",
              "      <th>V12</th>\n",
              "      <th>V13</th>\n",
              "      <th>V14</th>\n",
              "      <th>V15</th>\n",
              "      <th>V16</th>\n",
              "      <th>V17</th>\n",
              "      <th>V18</th>\n",
              "      <th>V19</th>\n",
              "      <th>V20</th>\n",
              "      <th>V21</th>\n",
              "      <th>V22</th>\n",
              "      <th>V23</th>\n",
              "      <th>V24</th>\n",
              "      <th>V25</th>\n",
              "      <th>V26</th>\n",
              "      <th>V27</th>\n",
              "      <th>V28</th>\n",
              "      <th>V29</th>\n",
              "      <th>V30</th>\n",
              "      <th>V31</th>\n",
              "      <th>V32</th>\n",
              "      <th>V33</th>\n",
              "      <th>V34</th>\n",
              "      <th>Class</th>\n",
              "    </tr>\n",
              "  </thead>\n",
              "  <tbody>\n",
              "    <tr>\n",
              "      <th>0</th>\n",
              "      <td>0.99539</td>\n",
              "      <td>-0.05889</td>\n",
              "      <td>0.85243</td>\n",
              "      <td>0.02306</td>\n",
              "      <td>0.83398</td>\n",
              "      <td>-0.37708</td>\n",
              "      <td>1.00000</td>\n",
              "      <td>0.03760</td>\n",
              "      <td>0.85243</td>\n",
              "      <td>-0.17755</td>\n",
              "      <td>0.59755</td>\n",
              "      <td>-0.44945</td>\n",
              "      <td>0.60536</td>\n",
              "      <td>-0.38223</td>\n",
              "      <td>0.84356</td>\n",
              "      <td>-0.38542</td>\n",
              "      <td>0.58212</td>\n",
              "      <td>-0.32192</td>\n",
              "      <td>0.56971</td>\n",
              "      <td>-0.29674</td>\n",
              "      <td>0.36946</td>\n",
              "      <td>-0.47357</td>\n",
              "      <td>0.56811</td>\n",
              "      <td>-0.51171</td>\n",
              "      <td>0.41078</td>\n",
              "      <td>-0.46168</td>\n",
              "      <td>0.21266</td>\n",
              "      <td>-0.34090</td>\n",
              "      <td>0.42267</td>\n",
              "      <td>-0.54487</td>\n",
              "      <td>0.18641</td>\n",
              "      <td>-0.45300</td>\n",
              "      <td>0</td>\n",
              "    </tr>\n",
              "    <tr>\n",
              "      <th>1</th>\n",
              "      <td>1.00000</td>\n",
              "      <td>-0.18829</td>\n",
              "      <td>0.93035</td>\n",
              "      <td>-0.36156</td>\n",
              "      <td>-0.10868</td>\n",
              "      <td>-0.93597</td>\n",
              "      <td>1.00000</td>\n",
              "      <td>-0.04549</td>\n",
              "      <td>0.50874</td>\n",
              "      <td>-0.67743</td>\n",
              "      <td>0.34432</td>\n",
              "      <td>-0.69707</td>\n",
              "      <td>-0.51685</td>\n",
              "      <td>-0.97515</td>\n",
              "      <td>0.05499</td>\n",
              "      <td>-0.62237</td>\n",
              "      <td>0.33109</td>\n",
              "      <td>-1.00000</td>\n",
              "      <td>-0.13151</td>\n",
              "      <td>-0.45300</td>\n",
              "      <td>-0.18056</td>\n",
              "      <td>-0.35734</td>\n",
              "      <td>-0.20332</td>\n",
              "      <td>-0.26569</td>\n",
              "      <td>-0.20468</td>\n",
              "      <td>-0.18401</td>\n",
              "      <td>-0.19040</td>\n",
              "      <td>-0.11593</td>\n",
              "      <td>-0.16626</td>\n",
              "      <td>-0.06288</td>\n",
              "      <td>-0.13738</td>\n",
              "      <td>-0.02447</td>\n",
              "      <td>1</td>\n",
              "    </tr>\n",
              "    <tr>\n",
              "      <th>2</th>\n",
              "      <td>1.00000</td>\n",
              "      <td>-0.03365</td>\n",
              "      <td>1.00000</td>\n",
              "      <td>0.00485</td>\n",
              "      <td>1.00000</td>\n",
              "      <td>-0.12062</td>\n",
              "      <td>0.88965</td>\n",
              "      <td>0.01198</td>\n",
              "      <td>0.73082</td>\n",
              "      <td>0.05346</td>\n",
              "      <td>0.85443</td>\n",
              "      <td>0.00827</td>\n",
              "      <td>0.54591</td>\n",
              "      <td>0.00299</td>\n",
              "      <td>0.83775</td>\n",
              "      <td>-0.13644</td>\n",
              "      <td>0.75535</td>\n",
              "      <td>-0.08540</td>\n",
              "      <td>0.70887</td>\n",
              "      <td>-0.27502</td>\n",
              "      <td>0.43385</td>\n",
              "      <td>-0.12062</td>\n",
              "      <td>0.57528</td>\n",
              "      <td>-0.40220</td>\n",
              "      <td>0.58984</td>\n",
              "      <td>-0.22145</td>\n",
              "      <td>0.43100</td>\n",
              "      <td>-0.17365</td>\n",
              "      <td>0.60436</td>\n",
              "      <td>-0.24180</td>\n",
              "      <td>0.56045</td>\n",
              "      <td>-0.38238</td>\n",
              "      <td>0</td>\n",
              "    </tr>\n",
              "    <tr>\n",
              "      <th>3</th>\n",
              "      <td>1.00000</td>\n",
              "      <td>-0.45161</td>\n",
              "      <td>1.00000</td>\n",
              "      <td>1.00000</td>\n",
              "      <td>0.71216</td>\n",
              "      <td>-1.00000</td>\n",
              "      <td>0.00000</td>\n",
              "      <td>0.00000</td>\n",
              "      <td>0.00000</td>\n",
              "      <td>0.00000</td>\n",
              "      <td>0.00000</td>\n",
              "      <td>0.00000</td>\n",
              "      <td>-1.00000</td>\n",
              "      <td>0.14516</td>\n",
              "      <td>0.54094</td>\n",
              "      <td>-0.39330</td>\n",
              "      <td>-1.00000</td>\n",
              "      <td>-0.54467</td>\n",
              "      <td>-0.69975</td>\n",
              "      <td>1.00000</td>\n",
              "      <td>0.00000</td>\n",
              "      <td>0.00000</td>\n",
              "      <td>1.00000</td>\n",
              "      <td>0.90695</td>\n",
              "      <td>0.51613</td>\n",
              "      <td>1.00000</td>\n",
              "      <td>1.00000</td>\n",
              "      <td>-0.20099</td>\n",
              "      <td>0.25682</td>\n",
              "      <td>1.00000</td>\n",
              "      <td>-0.32382</td>\n",
              "      <td>1.00000</td>\n",
              "      <td>1</td>\n",
              "    </tr>\n",
              "    <tr>\n",
              "      <th>4</th>\n",
              "      <td>1.00000</td>\n",
              "      <td>-0.02401</td>\n",
              "      <td>0.94140</td>\n",
              "      <td>0.06531</td>\n",
              "      <td>0.92106</td>\n",
              "      <td>-0.23255</td>\n",
              "      <td>0.77152</td>\n",
              "      <td>-0.16399</td>\n",
              "      <td>0.52798</td>\n",
              "      <td>-0.20275</td>\n",
              "      <td>0.56409</td>\n",
              "      <td>-0.00712</td>\n",
              "      <td>0.34395</td>\n",
              "      <td>-0.27457</td>\n",
              "      <td>0.52940</td>\n",
              "      <td>-0.21780</td>\n",
              "      <td>0.45107</td>\n",
              "      <td>-0.17813</td>\n",
              "      <td>0.05982</td>\n",
              "      <td>-0.35575</td>\n",
              "      <td>0.02309</td>\n",
              "      <td>-0.52879</td>\n",
              "      <td>0.03286</td>\n",
              "      <td>-0.65158</td>\n",
              "      <td>0.13290</td>\n",
              "      <td>-0.53206</td>\n",
              "      <td>0.02431</td>\n",
              "      <td>-0.62197</td>\n",
              "      <td>-0.05707</td>\n",
              "      <td>-0.59573</td>\n",
              "      <td>-0.04608</td>\n",
              "      <td>-0.65697</td>\n",
              "      <td>0</td>\n",
              "    </tr>\n",
              "  </tbody>\n",
              "</table>\n",
              "</div>"
            ],
            "text/plain": [
              "        V3       V4       V5       V6  ...      V32      V33      V34  Class\n",
              "0  0.99539 -0.05889  0.85243  0.02306  ... -0.54487  0.18641 -0.45300      0\n",
              "1  1.00000 -0.18829  0.93035 -0.36156  ... -0.06288 -0.13738 -0.02447      1\n",
              "2  1.00000 -0.03365  1.00000  0.00485  ... -0.24180  0.56045 -0.38238      0\n",
              "3  1.00000 -0.45161  1.00000  1.00000  ...  1.00000 -0.32382  1.00000      1\n",
              "4  1.00000 -0.02401  0.94140  0.06531  ... -0.59573 -0.04608 -0.65697      0\n",
              "\n",
              "[5 rows x 33 columns]"
            ]
          },
          "metadata": {},
          "execution_count": 91
        }
      ]
    },
    {
      "cell_type": "code",
      "metadata": {
        "colab": {
          "base_uri": "https://localhost:8080/"
        },
        "id": "sFQRhtt2GZKt",
        "outputId": "10ead84e-886f-476c-ad1b-37bc5accf717"
      },
      "source": [
        "print(\"Distribucion de clases original\")\n",
        "data['Class'].value_counts()"
      ],
      "execution_count": 92,
      "outputs": [
        {
          "output_type": "stream",
          "name": "stdout",
          "text": [
            "Distribucion de clases original\n"
          ]
        },
        {
          "output_type": "execute_result",
          "data": {
            "text/plain": [
              "0    225\n",
              "1    126\n",
              "Name: Class, dtype: int64"
            ]
          },
          "metadata": {},
          "execution_count": 92
        }
      ]
    },
    {
      "cell_type": "markdown",
      "metadata": {
        "id": "kzXutucsGgQs"
      },
      "source": [
        "Antes de hacer algo para tratar el desbalance entre las clases primero debemos dividir en train-test."
      ]
    },
    {
      "cell_type": "code",
      "metadata": {
        "id": "otdfpRC8GhnM"
      },
      "source": [
        "data_train, data_test, ytrain, ytest = train_test_split(data, data['Class'], test_size=0.3, stratify=data['Class'])"
      ],
      "execution_count": 93,
      "outputs": []
    },
    {
      "cell_type": "markdown",
      "metadata": {
        "id": "EKrFYjX3Gkpb"
      },
      "source": [
        "Así queda la proporción de clases en el train después de dividir en train-test."
      ]
    },
    {
      "cell_type": "code",
      "metadata": {
        "colab": {
          "base_uri": "https://localhost:8080/"
        },
        "id": "4odnevyTGqe0",
        "outputId": "9b7caf3d-0df2-4103-fa3c-9d88aff53197"
      },
      "source": [
        "ytrain.value_counts()"
      ],
      "execution_count": 94,
      "outputs": [
        {
          "output_type": "execute_result",
          "data": {
            "text/plain": [
              "0    157\n",
              "1     88\n",
              "Name: Class, dtype: int64"
            ]
          },
          "metadata": {},
          "execution_count": 94
        }
      ]
    },
    {
      "cell_type": "markdown",
      "metadata": {
        "id": "mPL66oPWGs2f"
      },
      "source": [
        "Ahora, usando el dataset anterior, aplicaremos **oversampling** y **subsampling** al train para que queden balanceados. Ejecute el siguiente código y note ahora que las clases están balanceadas. "
      ]
    },
    {
      "cell_type": "code",
      "metadata": {
        "colab": {
          "base_uri": "https://localhost:8080/"
        },
        "id": "-PSuzu7wGr1O",
        "outputId": "3b7394f2-90ae-48b7-c679-b0264c5a5cd6"
      },
      "source": [
        "print(\"Distribución de clases usando (over/sub) sampling\")\n",
        "print()\n",
        "\n",
        "data_train = data_train.reset_index(drop=True)\n",
        "\n",
        "# oversampling sobre la clase 1\n",
        "idx = np.random.choice(data_train[data_train['Class'] == 1].index, size=69)\n",
        "data_oversampled = pd.concat([data_train, data_train.iloc[idx]])\n",
        "print(\"Data oversampled on class '1'\")\n",
        "print(data_oversampled['Class'].value_counts())\n",
        "print()\n",
        "\n",
        "\n",
        "# subsampling sobre la clase 0\n",
        "idx = np.random.choice(data_train.loc[data_train.Class == 0].index, size=69, replace=False)\n",
        "data_subsampled = data_train.drop(data_train.iloc[idx].index)\n",
        "print(\"Data subsampled on class '0'\")\n",
        "print(data_subsampled['Class'].value_counts())"
      ],
      "execution_count": 97,
      "outputs": [
        {
          "output_type": "stream",
          "name": "stdout",
          "text": [
            "Distribución de clases usando (over/sub) sampling\n",
            "\n",
            "Data oversampled on class '1'\n",
            "1    157\n",
            "0    157\n",
            "Name: Class, dtype: int64\n",
            "\n",
            "Data subsampled on class '0'\n",
            "1    88\n",
            "0    88\n",
            "Name: Class, dtype: int64\n"
          ]
        }
      ]
    },
    {
      "cell_type": "markdown",
      "metadata": {
        "id": "etCQ0PvqId46"
      },
      "source": [
        "> Nota: librerias como `imblearn` son utiles para esta tarea.\n",
        "\n"
      ]
    },
    {
      "cell_type": "markdown",
      "metadata": {
        "id": "oJGTDtU1Irwj"
      },
      "source": [
        "Vamos a entrenar un árbol de decisión (`DecisionTreeClassifier`) sobre los 3 datasets por separado (**original**, con **oversampling** y con **subsampling**) y luego comparamos los resultados usando alguna métrica de evaluación."
      ]
    },
    {
      "cell_type": "code",
      "metadata": {
        "id": "TW4YqfTxIknr"
      },
      "source": [
        "from sklearn.metrics import classification_report\n",
        "\n",
        "# Preparando los data frames para ser compatibles con sklearn\n",
        "\n",
        "# datos test (mismo para todos los conjuntos de entrenamiento)\n",
        "X_test = data_test[data_train.columns[:-1]] # todo hasta la penultima columna\n",
        "y_test = data_test[data_train.columns[-1]]  # la última columna\n",
        "\n",
        "# datos entrenamiento \"originales\"\n",
        "X_orig = data_train[data_train.columns[:-1]] \n",
        "y_orig = data_train[data_train.columns[-1]] \n",
        "\n",
        "# datos entrenamiento \"oversampleados\" \n",
        "X_over = data_oversampled[data_train.columns[:-1]]\n",
        "y_over = data_oversampled[data_train.columns[-1]]\n",
        "\n",
        "# datos entrenamiento \"subsampleados\"\n",
        "X_subs = data_subsampled[data_train.columns[:-1]]\n",
        "y_subs = data_subsampled[data_train.columns[-1]]"
      ],
      "execution_count": 98,
      "outputs": []
    },
    {
      "cell_type": "markdown",
      "metadata": {
        "id": "Qf9gur8XI2Hl"
      },
      "source": [
        "A continuación, se ejecuta el clasificador en cada uno de los tres casos, usando como datos de entrada lo del bloque anterior. Para cada caso se entrena con el dataset correspondiente y se evalúa con el conjunto de test (el mismo para los tres casos) obtenido con train_test_split sobre los datos originales. \n",
        "\n",
        "Se muestra Precision, Recall y F1-score."
      ]
    },
    {
      "cell_type": "code",
      "metadata": {
        "colab": {
          "base_uri": "https://localhost:8080/"
        },
        "id": "5wsOxd7mGzSR",
        "outputId": "4bdaad20-031a-4cb0-eb12-96e6c0a982be"
      },
      "source": [
        "from sklearn.tree import DecisionTreeClassifier\n",
        "from sklearn.model_selection import train_test_split\n",
        "\n",
        "## Pasos:\n",
        "##  - instanciar el clasificador con DecisionTreeClassifier()\n",
        "##  - entrenar con fit()\n",
        "##  - hacer las predicciones\n",
        "##  - mostrar precision, recall y f1-score con classification report.\n",
        "\n",
        "print(\"ORIGINAL::::::::::\")\n",
        "clf_orig = DecisionTreeClassifier()\n",
        "clf_orig.fit(X_orig, y_orig)\n",
        "pred_orig = clf_orig.predict(X_test)\n",
        "print(classification_report(y_test, pred_orig))\n",
        "\n",
        "print(\"OVERSAMPLING::::::::::\")\n",
        "clf_over = DecisionTreeClassifier()\n",
        "clf_over.fit(X_over, y_over)\n",
        "pred_over = clf_over.predict(X_test)\n",
        "print(classification_report(y_test, pred_over))\n",
        "\n",
        "print(\"SUBSAMPLING::::::::::\")\n",
        "clf_subs = DecisionTreeClassifier()\n",
        "clf_subs.fit(X_subs, y_subs)\n",
        "pred_subs = clf_subs.predict(X_test)\n",
        "print(classification_report(y_test, pred_subs))"
      ],
      "execution_count": 100,
      "outputs": [
        {
          "output_type": "stream",
          "name": "stdout",
          "text": [
            "ORIGINAL::::::::::\n",
            "              precision    recall  f1-score   support\n",
            "\n",
            "           0       0.95      0.91      0.93        68\n",
            "           1       0.85      0.92      0.89        38\n",
            "\n",
            "    accuracy                           0.92       106\n",
            "   macro avg       0.90      0.92      0.91       106\n",
            "weighted avg       0.92      0.92      0.92       106\n",
            "\n",
            "OVERSAMPLING::::::::::\n",
            "              precision    recall  f1-score   support\n",
            "\n",
            "           0       0.95      0.90      0.92        68\n",
            "           1       0.83      0.92      0.88        38\n",
            "\n",
            "    accuracy                           0.91       106\n",
            "   macro avg       0.89      0.91      0.90       106\n",
            "weighted avg       0.91      0.91      0.91       106\n",
            "\n",
            "SUBSAMPLING::::::::::\n",
            "              precision    recall  f1-score   support\n",
            "\n",
            "           0       0.97      0.82      0.89        68\n",
            "           1       0.75      0.95      0.84        38\n",
            "\n",
            "    accuracy                           0.87       106\n",
            "   macro avg       0.86      0.89      0.86       106\n",
            "weighted avg       0.89      0.87      0.87       106\n",
            "\n"
          ]
        }
      ]
    },
    {
      "cell_type": "markdown",
      "metadata": {
        "id": "a36LPyGaR_PJ"
      },
      "source": [
        ">Estas son dos estrategias para enfrentar un problema desbalanceado. Ahora bien, uno de los enfoques más usados para afrontar este reto es [SMOTE](https://medium.com/analytics-vidhya/balance-your-data-using-smote-98e4d79fcddb). **Se les recomienda ver alguna implementación de esto para el lab**"
      ]
    },
    {
      "cell_type": "markdown",
      "metadata": {
        "id": "U6j-rfT7Je4X"
      },
      "source": [
        "##Bonus Track: Redes Neuronales"
      ]
    },
    {
      "cell_type": "markdown",
      "metadata": {
        "id": "lEltAZXMSbhQ"
      },
      "source": [
        "Hasta ahora hemos visto el enfoque tradicional del *Machine Learning*. Ahora bien, en la actualidad la herramienta que más se utiliza es el uso de *Redes Neuronales* que está más cercano al *Deep Learning*.\n",
        "\n",
        "Si bien esto no es un curso de Aprendizaje Profundo, les daremos una implementación de como utilizar una red neuronal. Para encontrar más información y entender más los conocimientos subyacentes en esta área les dejo esta [lista de reproducción del amigo DotCSV](https://www.youtube.com/watch?v=MRIv2IwFTPg&list=PL-Ogd76BhmcB9OjPucsnc2-piEE96jJDQ&ab_channel=DotCSV) y por supuesto un link de [Medium](https://medium.com/@tharanignanasegaram/artificial-neural-network-a-brief-introduction-572d462666f1)"
      ]
    },
    {
      "cell_type": "markdown",
      "metadata": {
        "id": "9djo3dK0TaEa"
      },
      "source": [
        "Muy a groso modo, lo que debemos saber de una red neuronal es que tiene los siguientes elementos:\n",
        "\n",
        "1.   Neuronas: es el elemento básico de uan red neuronal, aquí es donde \"ocurre la magia\"(Se aplica una función). Cada neurona se conecta con las neuronas de la capa previa y de la capa siguiente, es decir, cada neurona toma un input, aplica una función dada y luego entrega un output.\n",
        "2.   Capas: cada capa tiene un numero determinado de neuronas, en este \"elemento\" encontramos tres tipos de capa:\n",
        "*Input: Cada neurona es un input. Es decir, si tengo 10 features, esta capa será de 10 inputs\n",
        "*Output: Cada neurona corresponde a un tipo de output. En un problema de clasificación binaria tendremos solo una neurona.\n",
        "*Capas ocultas: Son las etapas intermedias donde se ajustan los pesos.\n",
        "\n",
        "> El proceso que ocurre en un ANN, de forma **SUPERMEGAULTRAHIPER** reducida es que por cada fila de nuestro dataset entran los datos como input, luego se generan miles de regresiones lineales (una por cada neurona) donde cada neurona \"calibra\" los pesos y \"elige\" cuales inputs tomar. Luego eso llega a la etapa de salida donde para los valores dados llega a un valor dentro de lo esperado (en este caso 0 o 1). Logicamente las primeras veces el modelo no le achunta nada, asi que para calibrarse, el modelo propaga el error que tuvo hacía atrás con una función de *backpropagation* que permite que se reconfiguren los pesos de cada neurona.\n",
        "\n"
      ]
    },
    {
      "cell_type": "markdown",
      "metadata": {
        "id": "62GOxvlGUEPh"
      },
      "source": [
        "![asd.png](data:image/png;base64,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)"
      ]
    },
    {
      "cell_type": "code",
      "metadata": {
        "id": "3jgpaGcCWww3"
      },
      "source": [
        "#librerias necesarias para Deep Learning\n",
        "import tensorflow as tf\n",
        "from tensorflow import keras\n",
        "from tensorflow.python.keras.utils.vis_utils import plot_model\n",
        "from keras.callbacks import EarlyStopping"
      ],
      "execution_count": 168,
      "outputs": []
    },
    {
      "cell_type": "code",
      "metadata": {
        "id": "sJ9PUWOLZ7VY"
      },
      "source": [
        "#Se debe dividir en train - test - validation set\n",
        "X_train, X_help, y_train, y_help = train_test_split(X, y, test_size = 0.3)\n",
        "X_val, X_test, y_val, y_test = train_test_split(X_help, y_help, test_size = 0.5)"
      ],
      "execution_count": 183,
      "outputs": []
    },
    {
      "cell_type": "code",
      "metadata": {
        "id": "9WlAzzIraEX3"
      },
      "source": [
        "# Se normalizan los datos mediante un StandardScaler\n",
        "scaler =  StandardScaler().fit(X_train.values)\n",
        "X_train_norm = scaler.transform(X_train.values)\n",
        "X_test_norm = scaler.transform(X_test.values)\n",
        "X_val_norm = scaler.transform(X_val.values)"
      ],
      "execution_count": 185,
      "outputs": []
    },
    {
      "cell_type": "code",
      "metadata": {
        "id": "V-Dx5inxI1aB"
      },
      "source": [
        "# Se procede a crear una red neuronal tipo MLP.\n",
        "def mi_red(num_hidden_layers, \n",
        "           num_neurons_per_layer, \n",
        "           dropout_rate,\n",
        "           activation,\n",
        "           n_var):\n",
        "  \n",
        "  # Capa de entrada\n",
        "  inputs = tf.keras.Input(shape = (n_var.shape[1],))\n",
        "\n",
        "  x = tf.keras.layers.Dropout(dropout_rate)(inputs) \n",
        "\n",
        "  # Capas ocultas\n",
        "  for i in range(num_hidden_layers):\n",
        "    x = tf.keras.layers.Dense(num_neurons_per_layer[i], activation = activation)(x)\n",
        "    \n",
        "    x = tf.keras.layers.Dropout(dropout_rate)(x)\n",
        "  \n",
        "  # Capa de salida\n",
        "\n",
        "  outputs = tf.keras.layers.Dense(1, activation = 'sigmoid')(x)\n",
        "\n",
        "  # Se crea el modelo con el input y los outputs.\n",
        "  model = tf.keras.Model(inputs=inputs, outputs=outputs)\n",
        "\n",
        "  return model\n",
        "\n",
        "def graficos_entreno(metrica, h):\n",
        "\n",
        "  # Se crea la figura.\n",
        "  f = plt.figure()\n",
        "\n",
        "  # Se procede a graficar la métrica ingresada.\n",
        "  plt.plot(h.history[metrica])\n",
        "  plt.plot(h.history['val_{}'.format(metrica)])\n",
        "\n",
        "  # Se realizan las anotaciones del gráfico.\n",
        "  plt.title('model {}'.format(metrica))\n",
        "  plt.ylabel(metrica)\n",
        "  plt.xlabel('epoch')\n",
        "  plt.legend(['train', 'val'], loc='upper left')\n",
        "  return f"
      ],
      "execution_count": 196,
      "outputs": []
    },
    {
      "cell_type": "code",
      "metadata": {
        "colab": {
          "base_uri": "https://localhost:8080/"
        },
        "id": "cx3wYG6nZK5T",
        "outputId": "4d11a3d6-5894-4f5e-d318-80ea8cd2c431"
      },
      "source": [
        "modelo_tarea = mi_red(num_hidden_layers = 5, \n",
        "                   num_neurons_per_layer = [10,20,40,20,10], \n",
        "                   dropout_rate = 0.1, \n",
        "                   activation = 'relu',\n",
        "                   n_var = X_train_norm)\n",
        "modelo_tarea.summary()"
      ],
      "execution_count": 197,
      "outputs": [
        {
          "output_type": "stream",
          "name": "stdout",
          "text": [
            "Model: \"model_6\"\n",
            "_________________________________________________________________\n",
            "Layer (type)                 Output Shape              Param #   \n",
            "=================================================================\n",
            "input_8 (InputLayer)         [(None, 24)]              0         \n",
            "_________________________________________________________________\n",
            "dropout_35 (Dropout)         (None, 24)                0         \n",
            "_________________________________________________________________\n",
            "dense_35 (Dense)             (None, 10)                250       \n",
            "_________________________________________________________________\n",
            "dropout_36 (Dropout)         (None, 10)                0         \n",
            "_________________________________________________________________\n",
            "dense_36 (Dense)             (None, 20)                220       \n",
            "_________________________________________________________________\n",
            "dropout_37 (Dropout)         (None, 20)                0         \n",
            "_________________________________________________________________\n",
            "dense_37 (Dense)             (None, 40)                840       \n",
            "_________________________________________________________________\n",
            "dropout_38 (Dropout)         (None, 40)                0         \n",
            "_________________________________________________________________\n",
            "dense_38 (Dense)             (None, 20)                820       \n",
            "_________________________________________________________________\n",
            "dropout_39 (Dropout)         (None, 20)                0         \n",
            "_________________________________________________________________\n",
            "dense_39 (Dense)             (None, 10)                210       \n",
            "_________________________________________________________________\n",
            "dropout_40 (Dropout)         (None, 10)                0         \n",
            "_________________________________________________________________\n",
            "dense_40 (Dense)             (None, 1)                 11        \n",
            "=================================================================\n",
            "Total params: 2,351\n",
            "Trainable params: 2,351\n",
            "Non-trainable params: 0\n",
            "_________________________________________________________________\n"
          ]
        }
      ]
    },
    {
      "cell_type": "code",
      "metadata": {
        "colab": {
          "base_uri": "https://localhost:8080/"
        },
        "id": "yE7o-JS0Zu6R",
        "outputId": "31217087-d26f-424b-8fe9-3724cb68d92f"
      },
      "source": [
        "# Se plantea un método de regularización como un early stopper.\n",
        "early_stopping_monitor = EarlyStopping(patience = 10)\n",
        "\n",
        "# Se utiliza un optimizador como Adam, con el learning rate indicado.\n",
        "optimizer = tf.keras.optimizers.Adam(learning_rate = 0.01)\n",
        "\n",
        "# Se compila el modelo, donde se plantea un binary_crossentropy debido al tipo de problema. Y se utiliza la métrica correspondiente binary_accuracy y recall dado el desbalanceo de datos.\n",
        "modelo_tarea.compile(loss = 'binary_crossentropy', optimizer = optimizer, metrics = ['binary_accuracy', 'Recall'])\n",
        "\n",
        "# Se entrena la red, con una cantidad de épocas máxima de 100, en general se detiene antes por el early_stopper. Además, se utiliza un batch de 256.\n",
        "history_tarea = modelo_tarea.fit(X_train_norm, y_train, validation_data = (X_val_norm, y_val), epochs = 100, verbose = 1, batch_size = 256, callbacks= early_stopping_monitor)"
      ],
      "execution_count": 198,
      "outputs": [
        {
          "output_type": "stream",
          "name": "stdout",
          "text": [
            "Epoch 1/100\n",
            "4/4 [==============================] - 1s 94ms/step - loss: 0.7458 - binary_accuracy: 0.4913 - recall: 0.5195 - val_loss: 0.6942 - val_binary_accuracy: 0.4785 - val_recall: 0.0000e+00\n",
            "Epoch 2/100\n",
            "4/4 [==============================] - 0s 8ms/step - loss: 0.6862 - binary_accuracy: 0.5340 - recall: 0.1356 - val_loss: 0.6749 - val_binary_accuracy: 0.5860 - val_recall: 0.5361\n",
            "Epoch 3/100\n",
            "4/4 [==============================] - 0s 9ms/step - loss: 0.6719 - binary_accuracy: 0.5952 - recall: 0.6552 - val_loss: 0.6551 - val_binary_accuracy: 0.6882 - val_recall: 0.9381\n",
            "Epoch 4/100\n",
            "4/4 [==============================] - 0s 8ms/step - loss: 0.6476 - binary_accuracy: 0.6251 - recall: 0.8575 - val_loss: 0.6241 - val_binary_accuracy: 0.6882 - val_recall: 0.8144\n",
            "Epoch 5/100\n",
            "4/4 [==============================] - 0s 7ms/step - loss: 0.6360 - binary_accuracy: 0.6528 - recall: 0.7333 - val_loss: 0.6047 - val_binary_accuracy: 0.6505 - val_recall: 0.6598\n",
            "Epoch 6/100\n",
            "4/4 [==============================] - 0s 9ms/step - loss: 0.5982 - binary_accuracy: 0.6886 - recall: 0.7678 - val_loss: 0.5675 - val_binary_accuracy: 0.7097 - val_recall: 0.7835\n",
            "Epoch 7/100\n",
            "4/4 [==============================] - 0s 9ms/step - loss: 0.5737 - binary_accuracy: 0.7116 - recall: 0.7655 - val_loss: 0.5446 - val_binary_accuracy: 0.6989 - val_recall: 0.7423\n",
            "Epoch 8/100\n",
            "4/4 [==============================] - 0s 8ms/step - loss: 0.5694 - binary_accuracy: 0.7163 - recall: 0.7770 - val_loss: 0.5349 - val_binary_accuracy: 0.7151 - val_recall: 0.7835\n",
            "Epoch 9/100\n",
            "4/4 [==============================] - 0s 8ms/step - loss: 0.5592 - binary_accuracy: 0.7370 - recall: 0.7908 - val_loss: 0.5279 - val_binary_accuracy: 0.7634 - val_recall: 0.8351\n",
            "Epoch 10/100\n",
            "4/4 [==============================] - 0s 11ms/step - loss: 0.5239 - binary_accuracy: 0.7336 - recall: 0.8230 - val_loss: 0.5107 - val_binary_accuracy: 0.7796 - val_recall: 0.8660\n",
            "Epoch 11/100\n",
            "4/4 [==============================] - 0s 10ms/step - loss: 0.5116 - binary_accuracy: 0.7566 - recall: 0.8575 - val_loss: 0.4976 - val_binary_accuracy: 0.7581 - val_recall: 0.8041\n",
            "Epoch 12/100\n",
            "4/4 [==============================] - 0s 10ms/step - loss: 0.5201 - binary_accuracy: 0.7543 - recall: 0.8046 - val_loss: 0.4950 - val_binary_accuracy: 0.7473 - val_recall: 0.7732\n",
            "Epoch 13/100\n",
            "4/4 [==============================] - 0s 11ms/step - loss: 0.5102 - binary_accuracy: 0.7486 - recall: 0.7701 - val_loss: 0.4876 - val_binary_accuracy: 0.7688 - val_recall: 0.8144\n",
            "Epoch 14/100\n",
            "4/4 [==============================] - 0s 10ms/step - loss: 0.5049 - binary_accuracy: 0.7647 - recall: 0.8184 - val_loss: 0.4908 - val_binary_accuracy: 0.7742 - val_recall: 0.8247\n",
            "Epoch 15/100\n",
            "4/4 [==============================] - 0s 9ms/step - loss: 0.4936 - binary_accuracy: 0.7670 - recall: 0.7816 - val_loss: 0.4832 - val_binary_accuracy: 0.7796 - val_recall: 0.8144\n",
            "Epoch 16/100\n",
            "4/4 [==============================] - 0s 11ms/step - loss: 0.4930 - binary_accuracy: 0.7785 - recall: 0.8138 - val_loss: 0.4748 - val_binary_accuracy: 0.7688 - val_recall: 0.8041\n",
            "Epoch 17/100\n",
            "4/4 [==============================] - 0s 9ms/step - loss: 0.4919 - binary_accuracy: 0.7589 - recall: 0.7839 - val_loss: 0.4731 - val_binary_accuracy: 0.7581 - val_recall: 0.8041\n",
            "Epoch 18/100\n",
            "4/4 [==============================] - 0s 10ms/step - loss: 0.4727 - binary_accuracy: 0.7958 - recall: 0.8368 - val_loss: 0.4647 - val_binary_accuracy: 0.7581 - val_recall: 0.8144\n",
            "Epoch 19/100\n",
            "4/4 [==============================] - 0s 11ms/step - loss: 0.4861 - binary_accuracy: 0.7866 - recall: 0.8253 - val_loss: 0.4556 - val_binary_accuracy: 0.7742 - val_recall: 0.8660\n",
            "Epoch 20/100\n",
            "4/4 [==============================] - 0s 9ms/step - loss: 0.4753 - binary_accuracy: 0.7762 - recall: 0.8322 - val_loss: 0.4508 - val_binary_accuracy: 0.7796 - val_recall: 0.8660\n",
            "Epoch 21/100\n",
            "4/4 [==============================] - 0s 10ms/step - loss: 0.4640 - binary_accuracy: 0.7958 - recall: 0.8598 - val_loss: 0.4479 - val_binary_accuracy: 0.7957 - val_recall: 0.8557\n",
            "Epoch 22/100\n",
            "4/4 [==============================] - 0s 10ms/step - loss: 0.4744 - binary_accuracy: 0.7866 - recall: 0.8161 - val_loss: 0.4549 - val_binary_accuracy: 0.7849 - val_recall: 0.8247\n",
            "Epoch 23/100\n",
            "4/4 [==============================] - 0s 10ms/step - loss: 0.4667 - binary_accuracy: 0.7785 - recall: 0.8092 - val_loss: 0.4609 - val_binary_accuracy: 0.7796 - val_recall: 0.7835\n",
            "Epoch 24/100\n",
            "4/4 [==============================] - 0s 9ms/step - loss: 0.4561 - binary_accuracy: 0.7889 - recall: 0.7793 - val_loss: 0.4572 - val_binary_accuracy: 0.7903 - val_recall: 0.8660\n",
            "Epoch 25/100\n",
            "4/4 [==============================] - 0s 9ms/step - loss: 0.4830 - binary_accuracy: 0.7693 - recall: 0.8276 - val_loss: 0.4598 - val_binary_accuracy: 0.7796 - val_recall: 0.8866\n",
            "Epoch 26/100\n",
            "4/4 [==============================] - 0s 11ms/step - loss: 0.4659 - binary_accuracy: 0.7866 - recall: 0.8437 - val_loss: 0.4572 - val_binary_accuracy: 0.7849 - val_recall: 0.8454\n",
            "Epoch 27/100\n",
            "4/4 [==============================] - 0s 11ms/step - loss: 0.4573 - binary_accuracy: 0.8016 - recall: 0.8161 - val_loss: 0.4438 - val_binary_accuracy: 0.7903 - val_recall: 0.8454\n",
            "Epoch 28/100\n",
            "4/4 [==============================] - 0s 10ms/step - loss: 0.4676 - binary_accuracy: 0.7889 - recall: 0.8391 - val_loss: 0.4335 - val_binary_accuracy: 0.8011 - val_recall: 0.8660\n",
            "Epoch 29/100\n",
            "4/4 [==============================] - 0s 10ms/step - loss: 0.4205 - binary_accuracy: 0.8074 - recall: 0.8552 - val_loss: 0.4396 - val_binary_accuracy: 0.8065 - val_recall: 0.8351\n",
            "Epoch 30/100\n",
            "4/4 [==============================] - 0s 9ms/step - loss: 0.4551 - binary_accuracy: 0.7866 - recall: 0.8345 - val_loss: 0.4485 - val_binary_accuracy: 0.7957 - val_recall: 0.8144\n",
            "Epoch 31/100\n",
            "4/4 [==============================] - 0s 9ms/step - loss: 0.4766 - binary_accuracy: 0.7751 - recall: 0.8138 - val_loss: 0.4450 - val_binary_accuracy: 0.7957 - val_recall: 0.8454\n",
            "Epoch 32/100\n",
            "4/4 [==============================] - 0s 15ms/step - loss: 0.4657 - binary_accuracy: 0.7785 - recall: 0.8345 - val_loss: 0.4476 - val_binary_accuracy: 0.7796 - val_recall: 0.8660\n",
            "Epoch 33/100\n",
            "4/4 [==============================] - 0s 12ms/step - loss: 0.4499 - binary_accuracy: 0.7901 - recall: 0.8736 - val_loss: 0.4503 - val_binary_accuracy: 0.7796 - val_recall: 0.8660\n",
            "Epoch 34/100\n",
            "4/4 [==============================] - 0s 9ms/step - loss: 0.4377 - binary_accuracy: 0.8085 - recall: 0.8713 - val_loss: 0.4564 - val_binary_accuracy: 0.7796 - val_recall: 0.8351\n",
            "Epoch 35/100\n",
            "4/4 [==============================] - 0s 10ms/step - loss: 0.4546 - binary_accuracy: 0.7751 - recall: 0.7724 - val_loss: 0.4628 - val_binary_accuracy: 0.7957 - val_recall: 0.8351\n",
            "Epoch 36/100\n",
            "4/4 [==============================] - 0s 15ms/step - loss: 0.4598 - binary_accuracy: 0.7843 - recall: 0.7862 - val_loss: 0.4564 - val_binary_accuracy: 0.7849 - val_recall: 0.8144\n",
            "Epoch 37/100\n",
            "4/4 [==============================] - 0s 8ms/step - loss: 0.4434 - binary_accuracy: 0.7912 - recall: 0.7678 - val_loss: 0.4539 - val_binary_accuracy: 0.8065 - val_recall: 0.8557\n",
            "Epoch 38/100\n",
            "4/4 [==============================] - 0s 8ms/step - loss: 0.4700 - binary_accuracy: 0.7809 - recall: 0.7977 - val_loss: 0.4540 - val_binary_accuracy: 0.8065 - val_recall: 0.8660\n"
          ]
        }
      ]
    },
    {
      "cell_type": "code",
      "metadata": {
        "colab": {
          "base_uri": "https://localhost:8080/",
          "height": 850
        },
        "id": "Jxzq2Fd9aWy3",
        "outputId": "7ed9a93c-d61f-4490-8635-86462ec2c23f"
      },
      "source": [
        "# Se procede a graficar las iteraciones.\n",
        "\n",
        "f1 = graficos_entreno('binary_accuracy', history_tarea)\n",
        "plt.show()\n",
        "\n",
        "f3 = graficos_entreno('recall', history_tarea)\n",
        "plt.show()\n",
        "\n",
        "f4 = graficos_entreno('loss', history_tarea)\n",
        "plt.show()"
      ],
      "execution_count": 199,
      "outputs": [
        {
          "output_type": "display_data",
          "data": {
            "image/png": "[encoded data removed]",
            "text/plain": [
              "<Figure size 432x288 with 1 Axes>"
            ]
          },
          "metadata": {
            "needs_background": "light"
          }
        },
        {
          "output_type": "display_data",
          "data": {
            "image/png": "[encoded data removed]",
            "text/plain": [
              "<Figure size 432x288 with 1 Axes>"
            ]
          },
          "metadata": {
            "needs_background": "light"
          }
        },
        {
          "output_type": "display_data",
          "data": {
            "image/png": "[encoded data removed]",
            "text/plain": [
              "<Figure size 432x288 with 1 Axes>"
            ]
          },
          "metadata": {
            "needs_background": "light"
          }
        }
      ]
    }
  ]
}