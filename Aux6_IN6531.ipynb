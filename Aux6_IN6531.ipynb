{
  "nbformat": 4,
  "nbformat_minor": 0,
  "metadata": {
    "kernelspec": {
      "display_name": "Python 3",
      "language": "python",
      "name": "python3"
    },
    "language_info": {
      "codemirror_mode": {
        "name": "ipython",
        "version": 3
      },
      "file_extension": ".py",
      "mimetype": "text/x-python",
      "name": "python",
      "nbconvert_exporter": "python",
      "pygments_lexer": "ipython3",
      "version": "3.7.4"
    },
    "colab": {
      "name": "Aux6 IN6531.ipynb",
      "provenance": [],
      "include_colab_link": true
    }
  },
  "cells": [
    {
      "cell_type": "markdown",
      "metadata": {
        "id": "view-in-github",
        "colab_type": "text"
      },
      "source": [
        "<a href=\"https://colab.research.google.com/github/Patortiz26/IN6531-Miner-a-de-datos-2021-2/blob/main/Aux6_IN6531.ipynb\" target=\"_parent\"><img src=\"https://colab.research.google.com/assets/colab-badge.svg\" alt=\"Open In Colab\"/></a>"
      ]
    },
    {
      "cell_type": "markdown",
      "metadata": {
        "id": "kuzFKz3sztW1"
      },
      "source": [
        "#Auxiliar 6 - IN6531\n",
        "**Autor: Patricio Ortiz**"
      ]
    },
    {
      "cell_type": "markdown",
      "metadata": {
        "id": "tMB7Pnejm_Fz"
      },
      "source": [
        "# A. Vector Space Model"
      ]
    },
    {
      "cell_type": "markdown",
      "metadata": {
        "id": "27VZA_ahm_F4"
      },
      "source": [
        "## A.1 Introducción\n",
        "\n",
        "Trabajar con textos no estructurados no es una tarea sencilla. En Machine Learning (ML) se trabaja con representaciones vectoriales de los datos, por tanto, necesitamos representar el  texto como un vector, lo que se conoce como **Embedding**. En minería de texto existen dos tipos de Embedding, los basados en frecuencia y en predicción (representaciones aprendidas por un modelo de ML).\n",
        "\n",
        "Algunas palabras claves propias del mundo de minería de texto:\n",
        "\n",
        "1. **Documento (D)**: se refiere a una observación de tipo texto. Ej: comentario, relato, email, etc.\n",
        "2. **Corpus (C)**: colección de documentos, corresponde al conjunto de datos.\n",
        "3. **Vocabulario (V)**: corresponde a un conjunto de términos (tokens únicos normalizados) dentro del corpus que sobrevivieron a un procesamiento.\n",
        "4. **Tokenization**: dividir el texto en entidades significativa llamadas tokens, si cada token es una palabra se habla de unigrams, si cada token son pares de palabras se habla de bigrams, tres palabras son trigrams, así hasta n-grams. En términos más computines es pasar de un string a una lista de strings.\n",
        "Ejemplo de unigrams:\n",
        "\n",
        "\n",
        "*'Buenos días estudiantes buenos' = ['Buenos', 'diás', 'estudiantes', 'buenos']*"
      ]
    },
    {
      "cell_type": "markdown",
      "metadata": {
        "id": "YD2W6Z8ym_F5"
      },
      "source": [
        "## A.2 VSM\n",
        "\n",
        "Vector Space Model (VSM) es un modelo que representa un documento como un vector de términos, donde cada término es una dimensión del vector.\n",
        "\n",
        "- Documentos con diferentes palabras y largos viven en el mismo espacio.\n",
        "- Estas representaciones son además llamadas **Bag of Words** (o bolsa de palabras), donde un documento es representado por un conjunto no ordenado de sus términos.\n",
        "\n",
        "- El valor en cada dimensión es un peso que presenta la relevancia del término $i$ del vocabulario $V$ en el documento $d$.\n",
        "\n",
        "\\begin{equation*}\n",
        "d^{\\rightarrow} = (w_{1}, \\ldots, w_{|V|} )\n",
        "\\end{equation*}\n",
        "\n",
        "- Bag-of-words no representa la semántica de los documentos, palabras que son sinónimos por ejemplo son consideradas como términos diferentes, además el orden de las palabras dentro del documento se pierde.\n",
        "\n",
        "\n",
        "**Term Frequency (TF)**: También llamada Count Vector, el peso asociado a cada término del vocabulario dentro de un documento viene dado por la frecuencia del término dentro del documento ($tf_{i}$). \n",
        "\n",
        "\n",
        "\n",
        "**Term Frequency-Inverted Document Frequency (TF-IDF)**: Esta transformación consiste en normalizar la frecuencia de cada término  $tf_{i}$ de un documento por $idf_{i} = log(\\frac{N}{n_{i}})$, donde $n_{i}$ es las veces que el término ha aparecido al menos una vez en el total de documentos y $N$ es el número de documentos, siendo el peso para el término $i$ el siguiente $w_{i}= tf_{i} \\times idf_{i}$.\n",
        "\n",
        "![bow_example.jpg](data:image/jpeg;base64,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)\n",
        "\n",
        "Notar que si existe un término $j$ que aparece en todos los documentos su peso es 0 pues $idf_{j}=log(\\frac{N}{n_{j}})=log(\\frac{N}{N}) = log(1)=0$.\n"
      ]
    },
    {
      "cell_type": "markdown",
      "metadata": {
        "id": "fMhMC68_m_F7"
      },
      "source": [
        "## A.3 Procesamiento\n",
        "\n",
        "El objetivo del preprocesamiento en text-mining es reducir el vocabulario, eliminando aquellas palabras irrelevantes y homologando palabras con un significado similar.\n",
        " \n",
        " Algunas técnicas que podemos aplicar para reducir el vocabulario:\n",
        " 1. **Stopwords**: palabras que aportan poca información. Por ejemplo, artículos, preposiciones, conectores, etc.\n",
        " 2. **Stemming**: Llevar las palabra a su raíz gramatical. Playing->play, does->do, jugar->jug.\n",
        " 3. **Lemmatization**: Llevar las palabras a su lema. \n",
        " 4. **Filtrar palabras de baja frecuencia**, por ejemplo menor a 10.\n",
        " 5. **Filtrar palabras con alta frecuencia** (stopwords contextuales), por ejemplo aquellas palabras que aparecen en todos los documento. En este caso una transformación TF-IDF genera una columna de ceros, esto implica nula o poca heterogeneidad por ende eliminar.\n",
        " 6. Usar **técnicas de selección de atributos**.\n",
        " \n",
        " \n",
        "Otras prácticas de procesamiento que se suelen aplicar:\n",
        "1. Eliminar caracteres no alfa-numéricos: @\\_\\#\\%\\$/(?\n",
        "2. Corrección de Ortografía. Las palabras con mala ortografía suelen tener baja frecuencia.\n",
        "3. Eliminar números, urls, correos (depende del contexto).\n",
        "4. Identificar palabras claves de ser necesario, por ejemplo, \"Juegos Olímpicos\" debiese ser considerado como un token.\n",
        "5. Llevar las letras a minúsculas."
      ]
    },
    {
      "cell_type": "markdown",
      "metadata": {
        "id": "9hLjUocEm_F8"
      },
      "source": [
        "## A.4 Aplicación\n",
        "\n",
        "\n",
        "La base de datos consiste de 5 conjuntos de noticias extraídas de la radio biobio. \n",
        "Cada conjunto de noticias contiene 200 documentos (noticias) y tiene asociado una categoría en {nacional, internacional, economía, sociedad, opinion}."
      ]
    },
    {
      "cell_type": "markdown",
      "metadata": {
        "id": "KEsrEkZkm_F9"
      },
      "source": [
        "### Importar los datos"
      ]
    },
    {
      "cell_type": "code",
      "metadata": {
        "id": "o1oisiELm_F9"
      },
      "source": [
        "import numpy as np\n",
        "import pandas as pd"
      ],
      "execution_count": 25,
      "outputs": []
    },
    {
      "cell_type": "code",
      "metadata": {
        "colab": {
          "base_uri": "https://localhost:8080/",
          "height": 556
        },
        "id": "3IcUFF9Jm_F_",
        "outputId": "ae46cf5f-9e74-4a8a-c3ab-8a6dc1c0250f"
      },
      "source": [
        "df = pd.read_csv('https://raw.githubusercontent.com/Patortiz26/IN6531-Miner-a-de-datos-2021-2/main/news_biobio.csv', index_col=0)\n",
        "df.head()"
      ],
      "execution_count": 26,
      "outputs": [
        {
          "output_type": "execute_result",
          "data": {
            "text/html": [
              "<div>\n",
              "<style scoped>\n",
              "    .dataframe tbody tr th:only-of-type {\n",
              "        vertical-align: middle;\n",
              "    }\n",
              "\n",
              "    .dataframe tbody tr th {\n",
              "        vertical-align: top;\n",
              "    }\n",
              "\n",
              "    .dataframe thead th {\n",
              "        text-align: right;\n",
              "    }\n",
              "</style>\n",
              "<table border=\"1\" class=\"dataframe\">\n",
              "  <thead>\n",
              "    <tr style=\"text-align: right;\">\n",
              "      <th></th>\n",
              "      <th>author</th>\n",
              "      <th>author_link</th>\n",
              "      <th>category</th>\n",
              "      <th>content</th>\n",
              "      <th>embedded_links</th>\n",
              "      <th>link</th>\n",
              "      <th>publication_date</th>\n",
              "      <th>publication_hour</th>\n",
              "      <th>subcategory</th>\n",
              "      <th>tags</th>\n",
              "      <th>title</th>\n",
              "    </tr>\n",
              "  </thead>\n",
              "  <tbody>\n",
              "    <tr>\n",
              "      <th>0</th>\n",
              "      <td>Gonzalo Cifuentes</td>\n",
              "      <td>/lista/autores/gcifuentes</td>\n",
              "      <td>Nacional</td>\n",
              "      <td>Alumnos de Ingeniería de la Universidad Cató...</td>\n",
              "      <td>[]</td>\n",
              "      <td>https://www.biobiochile.cl/noticias/nacional/c...</td>\n",
              "      <td>05/08/2019</td>\n",
              "      <td>10:50</td>\n",
              "      <td>Nacional</td>\n",
              "      <td>['#Chile', '#Ingeniería UC', '#LightWash', '#L...</td>\n",
              "      <td>¿Lavar la ropa con luz?: invento de chilenos e...</td>\n",
              "    </tr>\n",
              "    <tr>\n",
              "      <th>1</th>\n",
              "      <td>Felipe Delgado</td>\n",
              "      <td>/lista/autores/fdelgado</td>\n",
              "      <td>Nacional</td>\n",
              "      <td>Alrededor de 40 mil hogares de las comunas d...</td>\n",
              "      <td>[]</td>\n",
              "      <td>https://www.biobiochile.cl/noticias/nacional/r...</td>\n",
              "      <td>05/08/2019</td>\n",
              "      <td>07:51</td>\n",
              "      <td>Región Metropolitana</td>\n",
              "      <td>['#Pirque', '#Puente Alto', '#Región Metropoli...</td>\n",
              "      <td>Alrededor de 40 mil hogares de Puente Alto, Pi...</td>\n",
              "    </tr>\n",
              "    <tr>\n",
              "      <th>2</th>\n",
              "      <td>Nicolás Parra</td>\n",
              "      <td>/lista/autores/nparra</td>\n",
              "      <td>Nacional</td>\n",
              "      <td>Quien fuera el director de la Compin Bío Bío...</td>\n",
              "      <td>['https://media.biobiochile.cl/wp-content/uplo...</td>\n",
              "      <td>https://www.biobiochile.cl/noticias/nacional/r...</td>\n",
              "      <td>05/08/2019</td>\n",
              "      <td>08:14</td>\n",
              "      <td>Región del Bío Bío</td>\n",
              "      <td>['#Compin', '#Concepción', '#Licencia', '#Regi...</td>\n",
              "      <td>Habla director de Compin Bío Bío que se autoap...</td>\n",
              "    </tr>\n",
              "    <tr>\n",
              "      <th>3</th>\n",
              "      <td>Catalina Díaz</td>\n",
              "      <td>/lista/autores/catalinadiaz</td>\n",
              "      <td>Nacional</td>\n",
              "      <td>Seis damnificados es el saldo de un incendio...</td>\n",
              "      <td>['https://media.biobiochile.cl/wp-content/uplo...</td>\n",
              "      <td>https://www.biobiochile.cl/noticias/nacional/r...</td>\n",
              "      <td>05/08/2019</td>\n",
              "      <td>08:19</td>\n",
              "      <td>Región de los Ríos</td>\n",
              "      <td>['#Bomberos', '#Damnificados', '#Daños', '#Inc...</td>\n",
              "      <td>6 damnificados dejó incendio que destruyó una ...</td>\n",
              "    </tr>\n",
              "    <tr>\n",
              "      <th>4</th>\n",
              "      <td>Catalina Díaz</td>\n",
              "      <td>/lista/autores/catalinadiaz</td>\n",
              "      <td>Nacional</td>\n",
              "      <td>Con arresto domiciliario total quedó el adol...</td>\n",
              "      <td>['https://media.biobiochile.cl/wp-content/uplo...</td>\n",
              "      <td>https://www.biobiochile.cl/noticias/nacional/r...</td>\n",
              "      <td>05/08/2019</td>\n",
              "      <td>08:27</td>\n",
              "      <td>Región de los Lagos</td>\n",
              "      <td>['#Arresto Domiciliario', '#Bullying', '#Calbu...</td>\n",
              "      <td>Con arresto domiciliario quedó menor detenido ...</td>\n",
              "    </tr>\n",
              "  </tbody>\n",
              "</table>\n",
              "</div>"
            ],
            "text/plain": [
              "              author  ...                                              title\n",
              "0  Gonzalo Cifuentes  ...  ¿Lavar la ropa con luz?: invento de chilenos e...\n",
              "1     Felipe Delgado  ...  Alrededor de 40 mil hogares de Puente Alto, Pi...\n",
              "2      Nicolás Parra  ...  Habla director de Compin Bío Bío que se autoap...\n",
              "3      Catalina Díaz  ...  6 damnificados dejó incendio que destruyó una ...\n",
              "4      Catalina Díaz  ...  Con arresto domiciliario quedó menor detenido ...\n",
              "\n",
              "[5 rows x 11 columns]"
            ]
          },
          "metadata": {},
          "execution_count": 26
        }
      ]
    },
    {
      "cell_type": "markdown",
      "metadata": {
        "id": "rTeKLd2hm_GA"
      },
      "source": [
        "### Función de tokenización"
      ]
    },
    {
      "cell_type": "code",
      "metadata": {
        "id": "TmUsuaxtUpf2"
      },
      "source": [
        "!pip install --upgrade spacy\n",
        "!python -m spacy download es_core_news_sm"
      ],
      "execution_count": null,
      "outputs": []
    },
    {
      "cell_type": "code",
      "metadata": {
        "id": "aL_yDq5Fm_GB"
      },
      "source": [
        "# expresiones regulares\n",
        "import re\n",
        "# librería de nlp\n",
        "import spacy\n",
        "#importar set de stopwords\n",
        "from spacy.lang.es.stop_words import STOP_WORDS \n",
        "#importar stemmer\n",
        "from nltk.stem import SnowballStemmer \n",
        "# crear objeto para aplicar lematización (descomentar las lineas debajo la primera vez)\n",
        "# !pip install --upgrade spacy\n",
        "# !python -m spacy download es_core_news_sm\n",
        "nlp = spacy.load('es_core_news_sm')\n",
        "\n",
        "def tokenizer(doc, sep=None, stopwords_remove =False, lemmatization=False, stemming = False, vocabulary=None):\n",
        "    '''\n",
        "    Función de tokenización. Por defecto divide la sentencia por el carácter espacio.\n",
        "    Ej: 'Data Mining is the best course'->['Data',  'Mining', 'is', 'the', 'best', 'course']\n",
        "    \n",
        "    Parameters\n",
        "    ----------\n",
        "    doc: str \n",
        "        documento.\n",
        "    sep: str \n",
        "        carácter para dividir el documento en tokens, por defecto es el espacio.\n",
        "    stopwords_remove: bool\n",
        "        si es True remueve los stopwords del documento.\n",
        "    lemmatization: bool\n",
        "        si es True lleva las palabras a su lema.\n",
        "    stemming: bool\n",
        "        si es True lleva las palabas a su raíz.\n",
        "    vocabuary: list\n",
        "        si un vocabulario es dado filtra las palabras que no estan presentes en el.\n",
        "    \n",
        "    Return\n",
        "    -------\n",
        "    tokens: list\n",
        "        lista de tokens.\n",
        "    '''\n",
        "    #elimina los símbolos de puntuación excepto underscore\n",
        "    doc = re.sub(r'[^\\w\\s]','', doc) \n",
        "    #elimina los caracteres que contienen letras y números\n",
        "    doc = re.sub(r'[a-zA-Z]+[0-9]+', '', doc) \n",
        "    #elimina los caracteres numéricos\n",
        "    doc = re.sub(r'[0-9]+', ' ', doc) \n",
        "    #pasar las letras a minúsculas\n",
        "    doc = doc.lower()\n",
        " \n",
        "    #tokenización\n",
        "    tokens = doc.split(sep) \n",
        "    \n",
        "    # remover stopwords y palabras con menos de tres caracteres\n",
        "    if stopwords_remove ==True: \n",
        "        tokens = [word for word in tokens if word not in STOP_WORDS and len(word)>2]\n",
        "        \n",
        "     # eliminar palabras que no se encuentran en un vocabulario\n",
        "    if vocabulary is not None:\n",
        "        tokens = [word for word in tokens if word in vocabulary]\n",
        "        \n",
        "    # llevar las palabras a su lema\n",
        "    if lemmatization==True:\n",
        "        tokens = [nlp(word)[0].lemma_ for word in tokens]\n",
        "    \n",
        "    # llevar las palabras a su raíz  \n",
        "    if stemming == True:\n",
        "        stemmer = SnowballStemmer('spanish')\n",
        "        tokens = [stemmer.stem(word) for word in tokens]\n",
        "    \n",
        "    return tokens"
      ],
      "execution_count": 29,
      "outputs": []
    },
    {
      "cell_type": "code",
      "metadata": {
        "scrolled": true,
        "colab": {
          "base_uri": "https://localhost:8080/"
        },
        "id": "9HPGefZpm_GC",
        "outputId": "71439760-e1c1-4436-ce5c-5e5fa0dafa4a"
      },
      "source": [
        "text = df['title'].iloc[2]\n",
        "print('Texto original:\\n', text, '\\n')\n",
        "print('Texto tokenizado:\\n', tokenizer(text), '\\n')\n",
        "print('Texto tokenizado sin stopwords:\\n', tokenizer(text, stopwords_remove=True), '\\n')\n",
        "print('Texto tokenizado con lematización:\\n', tokenizer(text, lemmatization=True), '\\n')\n",
        "print('Texto tokenizado con stemming:\\n', tokenizer(text, stemming=True), '\\n')"
      ],
      "execution_count": 30,
      "outputs": [
        {
          "output_type": "stream",
          "name": "stdout",
          "text": [
            "Texto original:\n",
            " Habla director de Compin Bío Bío que se autoaprobó licencia: afirma que no se percató que era suya \n",
            "\n",
            "Texto tokenizado:\n",
            " ['habla', 'director', 'de', 'compin', 'bío', 'bío', 'que', 'se', 'autoaprobó', 'licencia', 'afirma', 'que', 'no', 'se', 'percató', 'que', 'era', 'suya'] \n",
            "\n",
            "Texto tokenizado sin stopwords:\n",
            " ['director', 'compin', 'bío', 'bío', 'autoaprobó', 'licencia', 'afirma', 'percató'] \n",
            "\n",
            "Texto tokenizado con lematización:\n",
            " ['hablar', 'director', 'de', 'compin', 'bío', 'bío', 'que', 'él', 'autoaprobar', 'licencia', 'afirmar', 'que', 'no', 'él', 'percatar', 'que', 'ser', 'suyo'] \n",
            "\n",
            "Texto tokenizado con stemming:\n",
            " ['habl', 'director', 'de', 'compin', 'bio', 'bio', 'que', 'se', 'autoaprob', 'licenci', 'afirm', 'que', 'no', 'se', 'percat', 'que', 'era', 'suy'] \n",
            "\n"
          ]
        }
      ]
    },
    {
      "cell_type": "markdown",
      "metadata": {
        "id": "Usg7xNGGm_GC"
      },
      "source": [
        "### Vector Space Model: TF"
      ]
    },
    {
      "cell_type": "code",
      "metadata": {
        "id": "QAoiuxo3m_GC"
      },
      "source": [
        "from sklearn.feature_extraction.text import CountVectorizer  "
      ],
      "execution_count": 31,
      "outputs": []
    },
    {
      "cell_type": "code",
      "metadata": {
        "id": "OK-ViXYJcaWH"
      },
      "source": [
        ""
      ],
      "execution_count": null,
      "outputs": []
    },
    {
      "cell_type": "code",
      "metadata": {
        "colab": {
          "base_uri": "https://localhost:8080/"
        },
        "id": "octwqOyvm_GD",
        "outputId": "978ba847-4bbc-4709-b68c-1c6aa3cca92e"
      },
      "source": [
        "# objeto que permiten llevar el corpus a un modelo bag-of-words\n",
        "tf_vectorizer = CountVectorizer(analyzer='word', tokenizer=tokenizer)\n",
        "\n",
        "# # si se quiere pasar argumentos a la función tokenizer \n",
        "args = {\"stopwords_remove\": True, \"lemmatization\" : True}\n",
        "tf_vectorizer = CountVectorizer(analyzer='word', tokenizer=lambda text: tokenizer(text, **args))\n",
        "\n",
        "\n",
        "# extraemos 5 noticias y se la entregamos al vectorizador para que las transforme a vectores BoW.\n",
        "tf_sample = tf_vectorizer.fit_transform(df.sample(5, random_state=0).title)\n",
        "\n",
        "# python guarda la matriz en un matriz de tipo sparse, debido a que existen varios palabras con ocurrencia 0\n",
        "tf_sample"
      ],
      "execution_count": 76,
      "outputs": [
        {
          "output_type": "execute_result",
          "data": {
            "text/plain": [
              "<5x63 sparse matrix of type '<class 'numpy.int64'>'\n",
              "\twith 74 stored elements in Compressed Sparse Row format>"
            ]
          },
          "metadata": {},
          "execution_count": 76
        }
      ]
    },
    {
      "cell_type": "code",
      "metadata": {
        "colab": {
          "base_uri": "https://localhost:8080/",
          "height": 261
        },
        "id": "MfSRSCj5m_GD",
        "outputId": "f06ab544-9404-47e4-8760-90f521c3aef2"
      },
      "source": [
        "#visualización de la matriz tf\n",
        "tf_sample = pd.DataFrame(tf_sample.todense(), columns=tf_vectorizer.get_feature_names()) \n",
        "tf_sample"
      ],
      "execution_count": 44,
      "outputs": [
        {
          "output_type": "stream",
          "name": "stderr",
          "text": [
            "/usr/local/lib/python3.7/dist-packages/sklearn/utils/deprecation.py:87: FutureWarning: Function get_feature_names is deprecated; get_feature_names is deprecated in 1.0 and will be removed in 1.2. Please use get_feature_names_out instead.\n",
            "  warnings.warn(msg, category=FutureWarning)\n"
          ]
        },
        {
          "output_type": "execute_result",
          "data": {
            "text/html": [
              "<div>\n",
              "<style scoped>\n",
              "    .dataframe tbody tr th:only-of-type {\n",
              "        vertical-align: middle;\n",
              "    }\n",
              "\n",
              "    .dataframe tbody tr th {\n",
              "        vertical-align: top;\n",
              "    }\n",
              "\n",
              "    .dataframe thead th {\n",
              "        text-align: right;\n",
              "    }\n",
              "</style>\n",
              "<table border=\"1\" class=\"dataframe\">\n",
              "  <thead>\n",
              "    <tr style=\"text-align: right;\">\n",
              "      <th></th>\n",
              "      <th>a</th>\n",
              "      <th>al</th>\n",
              "      <th>allamand</th>\n",
              "      <th>alza</th>\n",
              "      <th>avión</th>\n",
              "      <th>bungee</th>\n",
              "      <th>candidaturas</th>\n",
              "      <th>cayó</th>\n",
              "      <th>caída</th>\n",
              "      <th>cortarse</th>\n",
              "      <th>creo</th>\n",
              "      <th>crítica</th>\n",
              "      <th>cuerda</th>\n",
              "      <th>de</th>\n",
              "      <th>del</th>\n",
              "      <th>diciendo</th>\n",
              "      <th>el</th>\n",
              "      <th>en</th>\n",
              "      <th>es</th>\n",
              "      <th>esté</th>\n",
              "      <th>ex</th>\n",
              "      <th>falta</th>\n",
              "      <th>financiera</th>\n",
              "      <th>general</th>\n",
              "      <th>heridos</th>\n",
              "      <th>hombre</th>\n",
              "      <th>integración</th>\n",
              "      <th>isapres</th>\n",
              "      <th>la</th>\n",
              "      <th>larraín</th>\n",
              "      <th>lo</th>\n",
              "      <th>me</th>\n",
              "      <th>menos</th>\n",
              "      <th>metros</th>\n",
              "      <th>muertos</th>\n",
              "      <th>mí</th>\n",
              "      <th>no</th>\n",
              "      <th>oportunidad</th>\n",
              "      <th>pacífico</th>\n",
              "      <th>pakistán</th>\n",
              "      <th>para</th>\n",
              "      <th>particularmente</th>\n",
              "      <th>piñera</th>\n",
              "      <th>planes</th>\n",
              "      <th>por</th>\n",
              "      <th>presidencia</th>\n",
              "      <th>pro</th>\n",
              "      <th>protección</th>\n",
              "      <th>que</th>\n",
              "      <th>reportan</th>\n",
              "      <th>salud</th>\n",
              "      <th>sin</th>\n",
              "      <th>sistema</th>\n",
              "      <th>su</th>\n",
              "      <th>superintendente</th>\n",
              "      <th>susto</th>\n",
              "      <th>tempore</th>\n",
              "      <th>transparencia</th>\n",
              "      <th>tras</th>\n",
              "      <th>un</th>\n",
              "      <th>vida</th>\n",
              "      <th>vivió</th>\n",
              "      <th>y</th>\n",
              "    </tr>\n",
              "  </thead>\n",
              "  <tbody>\n",
              "    <tr>\n",
              "      <th>0</th>\n",
              "      <td>0</td>\n",
              "      <td>0</td>\n",
              "      <td>0</td>\n",
              "      <td>1</td>\n",
              "      <td>0</td>\n",
              "      <td>0</td>\n",
              "      <td>0</td>\n",
              "      <td>0</td>\n",
              "      <td>0</td>\n",
              "      <td>0</td>\n",
              "      <td>0</td>\n",
              "      <td>0</td>\n",
              "      <td>0</td>\n",
              "      <td>2</td>\n",
              "      <td>1</td>\n",
              "      <td>0</td>\n",
              "      <td>0</td>\n",
              "      <td>1</td>\n",
              "      <td>0</td>\n",
              "      <td>0</td>\n",
              "      <td>1</td>\n",
              "      <td>1</td>\n",
              "      <td>0</td>\n",
              "      <td>1</td>\n",
              "      <td>0</td>\n",
              "      <td>0</td>\n",
              "      <td>0</td>\n",
              "      <td>1</td>\n",
              "      <td>0</td>\n",
              "      <td>0</td>\n",
              "      <td>0</td>\n",
              "      <td>0</td>\n",
              "      <td>0</td>\n",
              "      <td>0</td>\n",
              "      <td>0</td>\n",
              "      <td>0</td>\n",
              "      <td>0</td>\n",
              "      <td>0</td>\n",
              "      <td>0</td>\n",
              "      <td>0</td>\n",
              "      <td>0</td>\n",
              "      <td>0</td>\n",
              "      <td>0</td>\n",
              "      <td>1</td>\n",
              "      <td>0</td>\n",
              "      <td>0</td>\n",
              "      <td>0</td>\n",
              "      <td>0</td>\n",
              "      <td>0</td>\n",
              "      <td>0</td>\n",
              "      <td>1</td>\n",
              "      <td>0</td>\n",
              "      <td>1</td>\n",
              "      <td>0</td>\n",
              "      <td>1</td>\n",
              "      <td>0</td>\n",
              "      <td>0</td>\n",
              "      <td>1</td>\n",
              "      <td>0</td>\n",
              "      <td>0</td>\n",
              "      <td>0</td>\n",
              "      <td>0</td>\n",
              "      <td>1</td>\n",
              "    </tr>\n",
              "    <tr>\n",
              "      <th>1</th>\n",
              "      <td>1</td>\n",
              "      <td>0</td>\n",
              "      <td>1</td>\n",
              "      <td>0</td>\n",
              "      <td>0</td>\n",
              "      <td>0</td>\n",
              "      <td>1</td>\n",
              "      <td>0</td>\n",
              "      <td>0</td>\n",
              "      <td>0</td>\n",
              "      <td>1</td>\n",
              "      <td>1</td>\n",
              "      <td>0</td>\n",
              "      <td>1</td>\n",
              "      <td>0</td>\n",
              "      <td>1</td>\n",
              "      <td>0</td>\n",
              "      <td>0</td>\n",
              "      <td>0</td>\n",
              "      <td>1</td>\n",
              "      <td>0</td>\n",
              "      <td>0</td>\n",
              "      <td>0</td>\n",
              "      <td>0</td>\n",
              "      <td>0</td>\n",
              "      <td>0</td>\n",
              "      <td>0</td>\n",
              "      <td>0</td>\n",
              "      <td>0</td>\n",
              "      <td>0</td>\n",
              "      <td>1</td>\n",
              "      <td>1</td>\n",
              "      <td>0</td>\n",
              "      <td>0</td>\n",
              "      <td>0</td>\n",
              "      <td>1</td>\n",
              "      <td>1</td>\n",
              "      <td>0</td>\n",
              "      <td>0</td>\n",
              "      <td>0</td>\n",
              "      <td>0</td>\n",
              "      <td>1</td>\n",
              "      <td>1</td>\n",
              "      <td>0</td>\n",
              "      <td>1</td>\n",
              "      <td>0</td>\n",
              "      <td>0</td>\n",
              "      <td>0</td>\n",
              "      <td>1</td>\n",
              "      <td>0</td>\n",
              "      <td>0</td>\n",
              "      <td>0</td>\n",
              "      <td>0</td>\n",
              "      <td>0</td>\n",
              "      <td>0</td>\n",
              "      <td>0</td>\n",
              "      <td>0</td>\n",
              "      <td>0</td>\n",
              "      <td>0</td>\n",
              "      <td>0</td>\n",
              "      <td>0</td>\n",
              "      <td>0</td>\n",
              "      <td>1</td>\n",
              "    </tr>\n",
              "    <tr>\n",
              "      <th>2</th>\n",
              "      <td>0</td>\n",
              "      <td>1</td>\n",
              "      <td>0</td>\n",
              "      <td>0</td>\n",
              "      <td>1</td>\n",
              "      <td>0</td>\n",
              "      <td>0</td>\n",
              "      <td>0</td>\n",
              "      <td>1</td>\n",
              "      <td>0</td>\n",
              "      <td>0</td>\n",
              "      <td>0</td>\n",
              "      <td>0</td>\n",
              "      <td>1</td>\n",
              "      <td>0</td>\n",
              "      <td>0</td>\n",
              "      <td>0</td>\n",
              "      <td>1</td>\n",
              "      <td>0</td>\n",
              "      <td>0</td>\n",
              "      <td>0</td>\n",
              "      <td>0</td>\n",
              "      <td>0</td>\n",
              "      <td>0</td>\n",
              "      <td>1</td>\n",
              "      <td>0</td>\n",
              "      <td>0</td>\n",
              "      <td>0</td>\n",
              "      <td>0</td>\n",
              "      <td>0</td>\n",
              "      <td>0</td>\n",
              "      <td>0</td>\n",
              "      <td>1</td>\n",
              "      <td>0</td>\n",
              "      <td>1</td>\n",
              "      <td>0</td>\n",
              "      <td>0</td>\n",
              "      <td>0</td>\n",
              "      <td>0</td>\n",
              "      <td>1</td>\n",
              "      <td>0</td>\n",
              "      <td>0</td>\n",
              "      <td>0</td>\n",
              "      <td>0</td>\n",
              "      <td>1</td>\n",
              "      <td>0</td>\n",
              "      <td>0</td>\n",
              "      <td>0</td>\n",
              "      <td>0</td>\n",
              "      <td>1</td>\n",
              "      <td>0</td>\n",
              "      <td>0</td>\n",
              "      <td>0</td>\n",
              "      <td>0</td>\n",
              "      <td>0</td>\n",
              "      <td>0</td>\n",
              "      <td>0</td>\n",
              "      <td>0</td>\n",
              "      <td>0</td>\n",
              "      <td>0</td>\n",
              "      <td>0</td>\n",
              "      <td>0</td>\n",
              "      <td>1</td>\n",
              "    </tr>\n",
              "    <tr>\n",
              "      <th>3</th>\n",
              "      <td>1</td>\n",
              "      <td>0</td>\n",
              "      <td>0</td>\n",
              "      <td>0</td>\n",
              "      <td>0</td>\n",
              "      <td>0</td>\n",
              "      <td>0</td>\n",
              "      <td>0</td>\n",
              "      <td>0</td>\n",
              "      <td>0</td>\n",
              "      <td>0</td>\n",
              "      <td>0</td>\n",
              "      <td>0</td>\n",
              "      <td>1</td>\n",
              "      <td>1</td>\n",
              "      <td>0</td>\n",
              "      <td>0</td>\n",
              "      <td>0</td>\n",
              "      <td>1</td>\n",
              "      <td>0</td>\n",
              "      <td>0</td>\n",
              "      <td>0</td>\n",
              "      <td>1</td>\n",
              "      <td>0</td>\n",
              "      <td>0</td>\n",
              "      <td>0</td>\n",
              "      <td>1</td>\n",
              "      <td>0</td>\n",
              "      <td>0</td>\n",
              "      <td>1</td>\n",
              "      <td>0</td>\n",
              "      <td>0</td>\n",
              "      <td>0</td>\n",
              "      <td>0</td>\n",
              "      <td>0</td>\n",
              "      <td>0</td>\n",
              "      <td>0</td>\n",
              "      <td>1</td>\n",
              "      <td>1</td>\n",
              "      <td>0</td>\n",
              "      <td>1</td>\n",
              "      <td>0</td>\n",
              "      <td>0</td>\n",
              "      <td>0</td>\n",
              "      <td>1</td>\n",
              "      <td>1</td>\n",
              "      <td>1</td>\n",
              "      <td>0</td>\n",
              "      <td>0</td>\n",
              "      <td>0</td>\n",
              "      <td>0</td>\n",
              "      <td>0</td>\n",
              "      <td>0</td>\n",
              "      <td>0</td>\n",
              "      <td>0</td>\n",
              "      <td>0</td>\n",
              "      <td>1</td>\n",
              "      <td>0</td>\n",
              "      <td>0</td>\n",
              "      <td>0</td>\n",
              "      <td>0</td>\n",
              "      <td>0</td>\n",
              "      <td>0</td>\n",
              "    </tr>\n",
              "    <tr>\n",
              "      <th>4</th>\n",
              "      <td>0</td>\n",
              "      <td>0</td>\n",
              "      <td>0</td>\n",
              "      <td>0</td>\n",
              "      <td>0</td>\n",
              "      <td>1</td>\n",
              "      <td>0</td>\n",
              "      <td>1</td>\n",
              "      <td>0</td>\n",
              "      <td>1</td>\n",
              "      <td>0</td>\n",
              "      <td>0</td>\n",
              "      <td>1</td>\n",
              "      <td>2</td>\n",
              "      <td>0</td>\n",
              "      <td>0</td>\n",
              "      <td>1</td>\n",
              "      <td>0</td>\n",
              "      <td>0</td>\n",
              "      <td>0</td>\n",
              "      <td>0</td>\n",
              "      <td>0</td>\n",
              "      <td>0</td>\n",
              "      <td>0</td>\n",
              "      <td>0</td>\n",
              "      <td>1</td>\n",
              "      <td>0</td>\n",
              "      <td>0</td>\n",
              "      <td>1</td>\n",
              "      <td>0</td>\n",
              "      <td>0</td>\n",
              "      <td>0</td>\n",
              "      <td>0</td>\n",
              "      <td>1</td>\n",
              "      <td>0</td>\n",
              "      <td>0</td>\n",
              "      <td>0</td>\n",
              "      <td>0</td>\n",
              "      <td>0</td>\n",
              "      <td>0</td>\n",
              "      <td>0</td>\n",
              "      <td>0</td>\n",
              "      <td>0</td>\n",
              "      <td>0</td>\n",
              "      <td>0</td>\n",
              "      <td>0</td>\n",
              "      <td>0</td>\n",
              "      <td>1</td>\n",
              "      <td>0</td>\n",
              "      <td>0</td>\n",
              "      <td>0</td>\n",
              "      <td>1</td>\n",
              "      <td>0</td>\n",
              "      <td>1</td>\n",
              "      <td>0</td>\n",
              "      <td>1</td>\n",
              "      <td>0</td>\n",
              "      <td>0</td>\n",
              "      <td>1</td>\n",
              "      <td>1</td>\n",
              "      <td>1</td>\n",
              "      <td>1</td>\n",
              "      <td>0</td>\n",
              "    </tr>\n",
              "  </tbody>\n",
              "</table>\n",
              "</div>"
            ],
            "text/plain": [
              "   a  al  allamand  alza  avión  ...  tras  un  vida  vivió  y\n",
              "0  0   0         0     1      0  ...     0   0     0      0  1\n",
              "1  1   0         1     0      0  ...     0   0     0      0  1\n",
              "2  0   1         0     0      1  ...     0   0     0      0  1\n",
              "3  1   0         0     0      0  ...     0   0     0      0  0\n",
              "4  0   0         0     0      0  ...     1   1     1      1  0\n",
              "\n",
              "[5 rows x 63 columns]"
            ]
          },
          "metadata": {},
          "execution_count": 44
        }
      ]
    },
    {
      "cell_type": "markdown",
      "metadata": {
        "id": "fQYVxK8Zm_GD"
      },
      "source": [
        "### Vector Space Model: TF-IDF"
      ]
    },
    {
      "cell_type": "code",
      "metadata": {
        "id": "B4NAKvydm_GE"
      },
      "source": [
        "from sklearn.feature_extraction.text import TfidfVectorizer"
      ],
      "execution_count": 45,
      "outputs": []
    },
    {
      "cell_type": "code",
      "metadata": {
        "colab": {
          "base_uri": "https://localhost:8080/",
          "height": 261
        },
        "id": "5IYhgVsum_GE",
        "outputId": "05f3a2a5-a9d1-458b-f096-6a8baf76d32e"
      },
      "source": [
        "# objeto que permiten llevar el corpus a un modelo bag-of-words\n",
        "tfidf_vectorizer = TfidfVectorizer(analyzer='word', tokenizer=tokenizer)\n",
        "\n",
        "# extraemos 5 noticias y se la entregamos al vectorizador para que las transforme a vectores BoW.\n",
        "tfidf_sample = tfidf_vectorizer.fit_transform(df.sample(5, random_state=0).title)\n",
        "\n",
        "#visualización de la matriz tf\n",
        "tfidf_sample = pd.DataFrame(tfidf_sample.todense(), columns=tf_vectorizer.get_feature_names()) \n",
        "tfidf_sample"
      ],
      "execution_count": 46,
      "outputs": [
        {
          "output_type": "stream",
          "name": "stderr",
          "text": [
            "/usr/local/lib/python3.7/dist-packages/sklearn/utils/deprecation.py:87: FutureWarning: Function get_feature_names is deprecated; get_feature_names is deprecated in 1.0 and will be removed in 1.2. Please use get_feature_names_out instead.\n",
            "  warnings.warn(msg, category=FutureWarning)\n"
          ]
        },
        {
          "output_type": "execute_result",
          "data": {
            "text/html": [
              "<div>\n",
              "<style scoped>\n",
              "    .dataframe tbody tr th:only-of-type {\n",
              "        vertical-align: middle;\n",
              "    }\n",
              "\n",
              "    .dataframe tbody tr th {\n",
              "        vertical-align: top;\n",
              "    }\n",
              "\n",
              "    .dataframe thead th {\n",
              "        text-align: right;\n",
              "    }\n",
              "</style>\n",
              "<table border=\"1\" class=\"dataframe\">\n",
              "  <thead>\n",
              "    <tr style=\"text-align: right;\">\n",
              "      <th></th>\n",
              "      <th>a</th>\n",
              "      <th>al</th>\n",
              "      <th>allamand</th>\n",
              "      <th>alza</th>\n",
              "      <th>avión</th>\n",
              "      <th>bungee</th>\n",
              "      <th>candidaturas</th>\n",
              "      <th>cayó</th>\n",
              "      <th>caída</th>\n",
              "      <th>cortarse</th>\n",
              "      <th>creo</th>\n",
              "      <th>crítica</th>\n",
              "      <th>cuerda</th>\n",
              "      <th>de</th>\n",
              "      <th>del</th>\n",
              "      <th>diciendo</th>\n",
              "      <th>el</th>\n",
              "      <th>en</th>\n",
              "      <th>es</th>\n",
              "      <th>esté</th>\n",
              "      <th>ex</th>\n",
              "      <th>falta</th>\n",
              "      <th>financiera</th>\n",
              "      <th>general</th>\n",
              "      <th>heridos</th>\n",
              "      <th>hombre</th>\n",
              "      <th>integración</th>\n",
              "      <th>isapres</th>\n",
              "      <th>la</th>\n",
              "      <th>larraín</th>\n",
              "      <th>lo</th>\n",
              "      <th>me</th>\n",
              "      <th>menos</th>\n",
              "      <th>metros</th>\n",
              "      <th>muertos</th>\n",
              "      <th>mí</th>\n",
              "      <th>no</th>\n",
              "      <th>oportunidad</th>\n",
              "      <th>pacífico</th>\n",
              "      <th>pakistán</th>\n",
              "      <th>para</th>\n",
              "      <th>particularmente</th>\n",
              "      <th>piñera</th>\n",
              "      <th>planes</th>\n",
              "      <th>por</th>\n",
              "      <th>presidencia</th>\n",
              "      <th>pro</th>\n",
              "      <th>protección</th>\n",
              "      <th>que</th>\n",
              "      <th>reportan</th>\n",
              "      <th>salud</th>\n",
              "      <th>sin</th>\n",
              "      <th>sistema</th>\n",
              "      <th>su</th>\n",
              "      <th>superintendente</th>\n",
              "      <th>susto</th>\n",
              "      <th>tempore</th>\n",
              "      <th>transparencia</th>\n",
              "      <th>tras</th>\n",
              "      <th>un</th>\n",
              "      <th>vida</th>\n",
              "      <th>vivió</th>\n",
              "      <th>y</th>\n",
              "    </tr>\n",
              "  </thead>\n",
              "  <tbody>\n",
              "    <tr>\n",
              "      <th>0</th>\n",
              "      <td>0.000000</td>\n",
              "      <td>0.000000</td>\n",
              "      <td>0.000000</td>\n",
              "      <td>0.281066</td>\n",
              "      <td>0.000000</td>\n",
              "      <td>0.000000</td>\n",
              "      <td>0.000000</td>\n",
              "      <td>0.000000</td>\n",
              "      <td>0.000000</td>\n",
              "      <td>0.000000</td>\n",
              "      <td>0.000000</td>\n",
              "      <td>0.000000</td>\n",
              "      <td>0.000000</td>\n",
              "      <td>0.267858</td>\n",
              "      <td>0.226762</td>\n",
              "      <td>0.000000</td>\n",
              "      <td>0.000000</td>\n",
              "      <td>0.226762</td>\n",
              "      <td>0.000000</td>\n",
              "      <td>0.000000</td>\n",
              "      <td>0.281066</td>\n",
              "      <td>0.281066</td>\n",
              "      <td>0.000000</td>\n",
              "      <td>0.281066</td>\n",
              "      <td>0.000000</td>\n",
              "      <td>0.000000</td>\n",
              "      <td>0.000000</td>\n",
              "      <td>0.281066</td>\n",
              "      <td>0.000000</td>\n",
              "      <td>0.000000</td>\n",
              "      <td>0.000000</td>\n",
              "      <td>0.000000</td>\n",
              "      <td>0.000000</td>\n",
              "      <td>0.000000</td>\n",
              "      <td>0.000000</td>\n",
              "      <td>0.000000</td>\n",
              "      <td>0.000000</td>\n",
              "      <td>0.000000</td>\n",
              "      <td>0.000000</td>\n",
              "      <td>0.000000</td>\n",
              "      <td>0.000000</td>\n",
              "      <td>0.000000</td>\n",
              "      <td>0.000000</td>\n",
              "      <td>0.281066</td>\n",
              "      <td>0.000000</td>\n",
              "      <td>0.000000</td>\n",
              "      <td>0.000000</td>\n",
              "      <td>0.000000</td>\n",
              "      <td>0.000000</td>\n",
              "      <td>0.000000</td>\n",
              "      <td>0.281066</td>\n",
              "      <td>0.000000</td>\n",
              "      <td>0.281066</td>\n",
              "      <td>0.000000</td>\n",
              "      <td>0.281066</td>\n",
              "      <td>0.000000</td>\n",
              "      <td>0.000000</td>\n",
              "      <td>0.281066</td>\n",
              "      <td>0.000000</td>\n",
              "      <td>0.000000</td>\n",
              "      <td>0.000000</td>\n",
              "      <td>0.000000</td>\n",
              "      <td>0.188233</td>\n",
              "    </tr>\n",
              "    <tr>\n",
              "      <th>1</th>\n",
              "      <td>0.209893</td>\n",
              "      <td>0.000000</td>\n",
              "      <td>0.260157</td>\n",
              "      <td>0.000000</td>\n",
              "      <td>0.000000</td>\n",
              "      <td>0.000000</td>\n",
              "      <td>0.260157</td>\n",
              "      <td>0.000000</td>\n",
              "      <td>0.000000</td>\n",
              "      <td>0.000000</td>\n",
              "      <td>0.260157</td>\n",
              "      <td>0.260157</td>\n",
              "      <td>0.000000</td>\n",
              "      <td>0.123966</td>\n",
              "      <td>0.000000</td>\n",
              "      <td>0.260157</td>\n",
              "      <td>0.000000</td>\n",
              "      <td>0.000000</td>\n",
              "      <td>0.000000</td>\n",
              "      <td>0.260157</td>\n",
              "      <td>0.000000</td>\n",
              "      <td>0.000000</td>\n",
              "      <td>0.000000</td>\n",
              "      <td>0.000000</td>\n",
              "      <td>0.000000</td>\n",
              "      <td>0.000000</td>\n",
              "      <td>0.000000</td>\n",
              "      <td>0.000000</td>\n",
              "      <td>0.000000</td>\n",
              "      <td>0.000000</td>\n",
              "      <td>0.260157</td>\n",
              "      <td>0.260157</td>\n",
              "      <td>0.000000</td>\n",
              "      <td>0.000000</td>\n",
              "      <td>0.000000</td>\n",
              "      <td>0.260157</td>\n",
              "      <td>0.260157</td>\n",
              "      <td>0.000000</td>\n",
              "      <td>0.000000</td>\n",
              "      <td>0.000000</td>\n",
              "      <td>0.000000</td>\n",
              "      <td>0.260157</td>\n",
              "      <td>0.260157</td>\n",
              "      <td>0.000000</td>\n",
              "      <td>0.174230</td>\n",
              "      <td>0.000000</td>\n",
              "      <td>0.000000</td>\n",
              "      <td>0.000000</td>\n",
              "      <td>0.260157</td>\n",
              "      <td>0.000000</td>\n",
              "      <td>0.000000</td>\n",
              "      <td>0.000000</td>\n",
              "      <td>0.000000</td>\n",
              "      <td>0.000000</td>\n",
              "      <td>0.000000</td>\n",
              "      <td>0.000000</td>\n",
              "      <td>0.000000</td>\n",
              "      <td>0.000000</td>\n",
              "      <td>0.000000</td>\n",
              "      <td>0.000000</td>\n",
              "      <td>0.000000</td>\n",
              "      <td>0.000000</td>\n",
              "      <td>0.174230</td>\n",
              "    </tr>\n",
              "    <tr>\n",
              "      <th>2</th>\n",
              "      <td>0.000000</td>\n",
              "      <td>0.319846</td>\n",
              "      <td>0.000000</td>\n",
              "      <td>0.000000</td>\n",
              "      <td>0.319846</td>\n",
              "      <td>0.000000</td>\n",
              "      <td>0.000000</td>\n",
              "      <td>0.000000</td>\n",
              "      <td>0.319846</td>\n",
              "      <td>0.000000</td>\n",
              "      <td>0.000000</td>\n",
              "      <td>0.000000</td>\n",
              "      <td>0.000000</td>\n",
              "      <td>0.152409</td>\n",
              "      <td>0.000000</td>\n",
              "      <td>0.000000</td>\n",
              "      <td>0.000000</td>\n",
              "      <td>0.258050</td>\n",
              "      <td>0.000000</td>\n",
              "      <td>0.000000</td>\n",
              "      <td>0.000000</td>\n",
              "      <td>0.000000</td>\n",
              "      <td>0.000000</td>\n",
              "      <td>0.000000</td>\n",
              "      <td>0.319846</td>\n",
              "      <td>0.000000</td>\n",
              "      <td>0.000000</td>\n",
              "      <td>0.000000</td>\n",
              "      <td>0.000000</td>\n",
              "      <td>0.000000</td>\n",
              "      <td>0.000000</td>\n",
              "      <td>0.000000</td>\n",
              "      <td>0.319846</td>\n",
              "      <td>0.000000</td>\n",
              "      <td>0.319846</td>\n",
              "      <td>0.000000</td>\n",
              "      <td>0.000000</td>\n",
              "      <td>0.000000</td>\n",
              "      <td>0.000000</td>\n",
              "      <td>0.319846</td>\n",
              "      <td>0.000000</td>\n",
              "      <td>0.000000</td>\n",
              "      <td>0.000000</td>\n",
              "      <td>0.000000</td>\n",
              "      <td>0.214205</td>\n",
              "      <td>0.000000</td>\n",
              "      <td>0.000000</td>\n",
              "      <td>0.000000</td>\n",
              "      <td>0.000000</td>\n",
              "      <td>0.319846</td>\n",
              "      <td>0.000000</td>\n",
              "      <td>0.000000</td>\n",
              "      <td>0.000000</td>\n",
              "      <td>0.000000</td>\n",
              "      <td>0.000000</td>\n",
              "      <td>0.000000</td>\n",
              "      <td>0.000000</td>\n",
              "      <td>0.000000</td>\n",
              "      <td>0.000000</td>\n",
              "      <td>0.000000</td>\n",
              "      <td>0.000000</td>\n",
              "      <td>0.000000</td>\n",
              "      <td>0.214205</td>\n",
              "    </tr>\n",
              "    <tr>\n",
              "      <th>3</th>\n",
              "      <td>0.233121</td>\n",
              "      <td>0.000000</td>\n",
              "      <td>0.000000</td>\n",
              "      <td>0.000000</td>\n",
              "      <td>0.000000</td>\n",
              "      <td>0.000000</td>\n",
              "      <td>0.000000</td>\n",
              "      <td>0.000000</td>\n",
              "      <td>0.000000</td>\n",
              "      <td>0.000000</td>\n",
              "      <td>0.000000</td>\n",
              "      <td>0.000000</td>\n",
              "      <td>0.000000</td>\n",
              "      <td>0.137685</td>\n",
              "      <td>0.233121</td>\n",
              "      <td>0.000000</td>\n",
              "      <td>0.000000</td>\n",
              "      <td>0.000000</td>\n",
              "      <td>0.288947</td>\n",
              "      <td>0.000000</td>\n",
              "      <td>0.000000</td>\n",
              "      <td>0.000000</td>\n",
              "      <td>0.288947</td>\n",
              "      <td>0.000000</td>\n",
              "      <td>0.000000</td>\n",
              "      <td>0.000000</td>\n",
              "      <td>0.288947</td>\n",
              "      <td>0.000000</td>\n",
              "      <td>0.000000</td>\n",
              "      <td>0.288947</td>\n",
              "      <td>0.000000</td>\n",
              "      <td>0.000000</td>\n",
              "      <td>0.000000</td>\n",
              "      <td>0.000000</td>\n",
              "      <td>0.000000</td>\n",
              "      <td>0.000000</td>\n",
              "      <td>0.000000</td>\n",
              "      <td>0.288947</td>\n",
              "      <td>0.288947</td>\n",
              "      <td>0.000000</td>\n",
              "      <td>0.288947</td>\n",
              "      <td>0.000000</td>\n",
              "      <td>0.000000</td>\n",
              "      <td>0.000000</td>\n",
              "      <td>0.193511</td>\n",
              "      <td>0.288947</td>\n",
              "      <td>0.288947</td>\n",
              "      <td>0.000000</td>\n",
              "      <td>0.000000</td>\n",
              "      <td>0.000000</td>\n",
              "      <td>0.000000</td>\n",
              "      <td>0.000000</td>\n",
              "      <td>0.000000</td>\n",
              "      <td>0.000000</td>\n",
              "      <td>0.000000</td>\n",
              "      <td>0.000000</td>\n",
              "      <td>0.288947</td>\n",
              "      <td>0.000000</td>\n",
              "      <td>0.000000</td>\n",
              "      <td>0.000000</td>\n",
              "      <td>0.000000</td>\n",
              "      <td>0.000000</td>\n",
              "      <td>0.000000</td>\n",
              "    </tr>\n",
              "    <tr>\n",
              "      <th>4</th>\n",
              "      <td>0.000000</td>\n",
              "      <td>0.000000</td>\n",
              "      <td>0.000000</td>\n",
              "      <td>0.000000</td>\n",
              "      <td>0.000000</td>\n",
              "      <td>0.243193</td>\n",
              "      <td>0.000000</td>\n",
              "      <td>0.243193</td>\n",
              "      <td>0.000000</td>\n",
              "      <td>0.243193</td>\n",
              "      <td>0.000000</td>\n",
              "      <td>0.000000</td>\n",
              "      <td>0.243193</td>\n",
              "      <td>0.231765</td>\n",
              "      <td>0.000000</td>\n",
              "      <td>0.000000</td>\n",
              "      <td>0.243193</td>\n",
              "      <td>0.000000</td>\n",
              "      <td>0.000000</td>\n",
              "      <td>0.000000</td>\n",
              "      <td>0.000000</td>\n",
              "      <td>0.000000</td>\n",
              "      <td>0.000000</td>\n",
              "      <td>0.000000</td>\n",
              "      <td>0.000000</td>\n",
              "      <td>0.243193</td>\n",
              "      <td>0.000000</td>\n",
              "      <td>0.000000</td>\n",
              "      <td>0.243193</td>\n",
              "      <td>0.000000</td>\n",
              "      <td>0.000000</td>\n",
              "      <td>0.000000</td>\n",
              "      <td>0.000000</td>\n",
              "      <td>0.243193</td>\n",
              "      <td>0.000000</td>\n",
              "      <td>0.000000</td>\n",
              "      <td>0.000000</td>\n",
              "      <td>0.000000</td>\n",
              "      <td>0.000000</td>\n",
              "      <td>0.000000</td>\n",
              "      <td>0.000000</td>\n",
              "      <td>0.000000</td>\n",
              "      <td>0.000000</td>\n",
              "      <td>0.000000</td>\n",
              "      <td>0.000000</td>\n",
              "      <td>0.000000</td>\n",
              "      <td>0.000000</td>\n",
              "      <td>0.243193</td>\n",
              "      <td>0.000000</td>\n",
              "      <td>0.000000</td>\n",
              "      <td>0.000000</td>\n",
              "      <td>0.243193</td>\n",
              "      <td>0.000000</td>\n",
              "      <td>0.243193</td>\n",
              "      <td>0.000000</td>\n",
              "      <td>0.243193</td>\n",
              "      <td>0.000000</td>\n",
              "      <td>0.000000</td>\n",
              "      <td>0.243193</td>\n",
              "      <td>0.243193</td>\n",
              "      <td>0.243193</td>\n",
              "      <td>0.243193</td>\n",
              "      <td>0.000000</td>\n",
              "    </tr>\n",
              "  </tbody>\n",
              "</table>\n",
              "</div>"
            ],
            "text/plain": [
              "          a        al  allamand  ...      vida     vivió         y\n",
              "0  0.000000  0.000000  0.000000  ...  0.000000  0.000000  0.188233\n",
              "1  0.209893  0.000000  0.260157  ...  0.000000  0.000000  0.174230\n",
              "2  0.000000  0.319846  0.000000  ...  0.000000  0.000000  0.214205\n",
              "3  0.233121  0.000000  0.000000  ...  0.000000  0.000000  0.000000\n",
              "4  0.000000  0.000000  0.000000  ...  0.243193  0.243193  0.000000\n",
              "\n",
              "[5 rows x 63 columns]"
            ]
          },
          "metadata": {},
          "execution_count": 46
        }
      ]
    },
    {
      "cell_type": "markdown",
      "metadata": {
        "id": "OI83UBH0m_GF"
      },
      "source": [
        "### Clasificación"
      ]
    },
    {
      "cell_type": "code",
      "metadata": {
        "id": "KT-bx1pam_GF"
      },
      "source": [
        "import itertools\n",
        "import matplotlib.pyplot as plt\n",
        "from sklearn.metrics import confusion_matrix, classification_report\n",
        "\n",
        "def plot_confusion_matrix(cm, classes, normalize=False, title='Confusion matrix', cmap=plt.cm.Blues):\n",
        "    \"\"\"\n",
        "    This function prints and plots the confusion matrix.\n",
        "    Normalization can be applied by setting `normalize=True`.\n",
        "    \"\"\"\n",
        "    plt.figure(figsize=(8,8))\n",
        "    plt.title(title)\n",
        "    tick_marks = np.arange(len(classes))\n",
        "    plt.xticks(tick_marks, classes, rotation=45)\n",
        "    plt.yticks(tick_marks, classes)\n",
        "\n",
        "    if normalize:\n",
        "        cm = cm.astype('float') / cm.sum(axis=1)[:, np.newaxis]\n",
        "        cm = np.round(cm, decimals=3)\n",
        "\n",
        "        print(\"Normalized confusion matrix\")\n",
        "    else:\n",
        "        print('Confusion matrix, without normalization')\n",
        "\n",
        "\n",
        "    thresh = cm.max() / 2.\n",
        "    for i, j in itertools.product(range(cm.shape[0]), range(cm.shape[1])):\n",
        "        plt.text(j, i, cm[i, j],\n",
        "                 horizontalalignment=\"center\",\n",
        "                 color=\"white\" if cm[i, j] > thresh else \"black\")\n",
        "    plt.imshow(cm, interpolation='nearest', cmap=cmap)\n",
        "\n",
        "    plt.colorbar()\n",
        "\n",
        "    plt.tight_layout()\n",
        "    plt.ylabel('True label')\n",
        "    plt.xlabel('Predicted label')\n",
        "    plt.show()"
      ],
      "execution_count": 47,
      "outputs": []
    },
    {
      "cell_type": "code",
      "metadata": {
        "id": "2m33Y786m_GF"
      },
      "source": [
        "from sklearn.model_selection import train_test_split\n",
        "\n",
        "# Definimos el conjunto de entrenamiento y test\n",
        "X_train, X_test, y_train, y_test = train_test_split(df.content, df.category, test_size=0.2, random_state=0, stratify= df.category)"
      ],
      "execution_count": null,
      "outputs": []
    },
    {
      "cell_type": "code",
      "metadata": {
        "colab": {
          "base_uri": "https://localhost:8080/"
        },
        "id": "TAouwEb3m_GG",
        "outputId": "6368d9c9-2429-4571-a57d-6204d05dbac9"
      },
      "source": [
        "from sklearn.linear_model import LogisticRegression\n",
        "from sklearn.pipeline import Pipeline\n",
        "\n",
        "#Creamos los objetos necesarios para el flujo de entrenamiento\n",
        "\n",
        "#objeto clasificador\n",
        "clf_lr = LogisticRegression(multi_class='multinomial', solver='newton-cg')\n",
        "\n",
        "# pipeline con transformación y clasificador\n",
        "tfidf_clf_lr = Pipeline([('vect', tfidf_vectorizer),\n",
        "                         ('clf', clf_lr)])\n",
        "\n",
        "# entrenamiento\n",
        "tfidf_clf_lr.fit(X_train, y_train)"
      ],
      "execution_count": 48,
      "outputs": [
        {
          "output_type": "execute_result",
          "data": {
            "text/plain": [
              "Pipeline(steps=[('vect',\n",
              "                 TfidfVectorizer(tokenizer=<function tokenizer at 0x7f59132a4b00>)),\n",
              "                ('clf',\n",
              "                 LogisticRegression(multi_class='multinomial',\n",
              "                                    solver='newton-cg'))])"
            ]
          },
          "metadata": {},
          "execution_count": 48
        }
      ]
    },
    {
      "cell_type": "code",
      "metadata": {
        "colab": {
          "base_uri": "https://localhost:8080/",
          "height": 795
        },
        "id": "vTySXbqOm_GG",
        "outputId": "faa2d900-4f2d-4ecf-dd9e-b1d7b1fbce9f"
      },
      "source": [
        "# predicción sobre el conjunto de test\n",
        "y_predicted = tfidf_clf_lr.predict(X_test)\n",
        "\n",
        "# reporte de clasificación\n",
        "class_report = classification_report(y_test, y_predicted) \n",
        "print(class_report)\n",
        "\n",
        "# gráficar matriz de confución\n",
        "cm = confusion_matrix(y_test, y_predicted)\n",
        "plot_confusion_matrix(cm, [*tfidf_clf_lr.classes_], normalize=True) "
      ],
      "execution_count": 49,
      "outputs": [
        {
          "output_type": "stream",
          "name": "stdout",
          "text": [
            "               precision    recall  f1-score   support\n",
            "\n",
            "     Economia       0.95      0.93      0.94        40\n",
            "Internacional       0.90      0.90      0.90        40\n",
            "     Nacional       0.89      0.80      0.84        40\n",
            "      Opinion       0.80      0.93      0.86        40\n",
            "     Sociedad       0.90      0.88      0.89        40\n",
            "\n",
            "     accuracy                           0.89       200\n",
            "    macro avg       0.89      0.89      0.89       200\n",
            " weighted avg       0.89      0.89      0.89       200\n",
            "\n",
            "Normalized confusion matrix\n"
          ]
        },
        {
          "output_type": "display_data",
          "data": {
            "image/png": "[encoded data removed]",
            "text/plain": [
              "<Figure size 576x576 with 2 Axes>"
            ]
          },
          "metadata": {
            "needs_background": "light"
          }
        }
      ]
    },
    {
      "cell_type": "code",
      "metadata": {
        "colab": {
          "base_uri": "https://localhost:8080/"
        },
        "id": "o4MKIBB0m_GH",
        "outputId": "92533c0f-0043-4001-e1d6-cff59564e8ed"
      },
      "source": [
        "import pickle\n",
        "\n",
        "#Guardar modelo\n",
        "with open('tfidf_clf_lr.pkl', 'wb') as f:\n",
        "    pickle.dump(tfidf_clf_lr, f)\n",
        "\n",
        "#Cargar clasficador\n",
        "with open('tfidf_clf_lr.pkl', 'rb') as f:\n",
        "    tfidf_clf_lr = pickle.load(f)\n",
        "    \n",
        "tfidf_clf_lr"
      ],
      "execution_count": 50,
      "outputs": [
        {
          "output_type": "execute_result",
          "data": {
            "text/plain": [
              "Pipeline(steps=[('vect',\n",
              "                 TfidfVectorizer(tokenizer=<function tokenizer at 0x7f59132a4b00>)),\n",
              "                ('clf',\n",
              "                 LogisticRegression(multi_class='multinomial',\n",
              "                                    solver='newton-cg'))])"
            ]
          },
          "metadata": {},
          "execution_count": 50
        }
      ]
    },
    {
      "cell_type": "markdown",
      "metadata": {
        "id": "ypQ0zV7om_GI"
      },
      "source": [
        "# B. Topic Modelling"
      ]
    },
    {
      "cell_type": "markdown",
      "metadata": {
        "id": "HSVFoRpkm_GI"
      },
      "source": [
        "## B.1 Introducción\n",
        "\n",
        "Los modelos de tópicos probabilísticos nos ayudan a descubrir los temas latentes (*clusters*) en una colección de documentos, como estos temas están conectados unos a otros y cómo cambian en el tiempo. Permiten resumir un gran colección de documentos a través de sus temas y organizarlos entorno a estos.\n",
        "\n",
        "Los modelos probabilísticos tratan un tópico como una distribución de probabilidad discreta sobre el vocabulario del corpus, siendo un práctica habitual interpretar un tópico a partir de sus $N$ palabras más probables. Por ejemplo, para $N=5$ las palabras más probables de un tópico son: \"llaves\", \"domicilio\", \"individuos\", \"casa\" y \"porton\", por lo que una etiqueta valida para este tópico podría ser **\"portonazo\"**."
      ]
    },
    {
      "cell_type": "markdown",
      "metadata": {
        "id": "D1gF052Am_GI"
      },
      "source": [
        "## B.2 Latent Dirichlet Allocation\n",
        "\n",
        "**Disclaimer**: Esta sección puede ser matemáticamente compleja. El detalle matemático se puede omitir. Basta con solo tener una idea de cómo funciona, como cuál es el input, el output y el proceso generativo.\n",
        "\n",
        "En Latent Dirichlet Allocation (LDA) (Blei, 2003) cada tópico es una distribución de probabilidad sobre un vocabulario fijo $V$. Cada documento $d$ tiene su propia mezcla de tópicos $\\pi_{d}$. La asignación $z_{d,n}\\in\\{1, \\ldots, K\\}$  de de una palabra $n$ a un tópico $z$ es dibujada a partir de $\\pi_{d}$. \n",
        "\n",
        "\n",
        "![topic_modeling.png](data:image/png;base64,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)\n",
        "\n",
        "\n",
        "\n",
        "\n",
        "El modelo completo es como sigue\n",
        "\n",
        "\\begin{align}\n",
        "    \\phi_{k}|\\eta \\quad & \\sim\\quad \\text{Dir}(\\frac{\\eta}{|V|}1_{|V|})\\\\\n",
        "    \\pi_{d}|\\alpha \\quad & \\sim \\quad \\text{Dir}(\\frac{\\alpha}{K}1_{K})\\\\\n",
        "    z_{d,n}|\\pi_{d} \\quad & \\sim \\quad \\text{Cat}(\\pi_{d})\\\\\n",
        "    w_{d,n}|z_{d,n}, \\phi_{1:K} \\quad & \\sim \\quad \\text{Cat}(\\phi_{z_{d,n}})\n",
        "\\end{align}\n",
        "\n",
        "La probabilidad conjunta del modelo:\n",
        "\\begin{equation}\n",
        "    p(\\phi, \\pi, z, w|\\alpha, \\eta)= \\prod_{k=1}^{K}p(\\phi_{k}|\\eta)\\prod_{d=1}^{D}p(\\pi_{d}|\\alpha)\\prod_{n=1}^{N_{d}}p(z_{n,d}|\\pi_{d})p(w_{d,n}|\\phi_{1:K}, z_{d,n})\n",
        "\\end{equation}\n",
        "\n",
        "La distribución a posterior:\n",
        "\\begin{equation}\n",
        "    p(\\phi, \\pi, z|w, \\alpha, \\eta) = \\frac{p(\\phi, \\pi, z, w|\\alpha, \\eta)}{p(w|\\alpha, \\eta)}\n",
        "\\end{equation}\n",
        "\n",
        "La distribución posterior es computacionalmente intratable para inferencia exacta, debido a que para normalizar la distribución debemos marginalizar sobre todas las variables ocultas y escribir la constante de normalización en términos de los parámetros del modelo. Para poder computar la posterior es necesario utilizar algoritmos de inferencia aproximada, donde el enfoque habitual es Markov Chain Monte Carlo (MCMC) e Inferencia Variacional (VI).\n",
        "\n",
        "\n",
        "\n",
        "Blei, D. M., Ng, A. Y., & Jordan, M. I. (2003). Latent dirichlet allocation. Journal of machine Learning research, 3(Jan), 993-1022."
      ]
    },
    {
      "cell_type": "code",
      "metadata": {
        "id": "jolMIMctAjbK"
      },
      "source": [
        "# !pip install pyLDAvis==2.1.2"
      ],
      "execution_count": null,
      "outputs": []
    },
    {
      "cell_type": "code",
      "metadata": {
        "id": "w3z4ZAe3m_GI"
      },
      "source": [
        "#Topic modeling\n",
        "import gensim\n",
        "from gensim.corpora import Dictionary\n",
        "from gensim.models.ldamodel import LdaModel\n",
        "\n",
        "# !pip install pyLDAvis\n",
        "import pyLDAvis\n",
        "import pyLDAvis.gensim"
      ],
      "execution_count": 52,
      "outputs": []
    },
    {
      "cell_type": "code",
      "metadata": {
        "colab": {
          "base_uri": "https://localhost:8080/"
        },
        "id": "05g04jyaaVTx",
        "outputId": "ee45c842-76c0-4866-ec35-667a5d3fedcd"
      },
      "source": [
        "corpus = [tokenizer(doc, stopwords_remove=True) for doc in df.content]\n",
        "corpus[1][:5]"
      ],
      "execution_count": 63,
      "outputs": [
        {
          "output_type": "execute_result",
          "data": {
            "text/plain": [
              "['mil', 'hogares', 'comunas', 'puente', 'alto']"
            ]
          },
          "metadata": {},
          "execution_count": 63
        }
      ]
    },
    {
      "cell_type": "code",
      "metadata": {
        "colab": {
          "base_uri": "https://localhost:8080/"
        },
        "id": "ZHyBPEh4Z8JY",
        "outputId": "79e93daf-149d-43f5-9d18-f51d820fa949"
      },
      "source": [
        "corpus = [tokenizer(doc, stopwords_remove=True) for doc in df.content]\n",
        "\n",
        "dictionary = Dictionary(corpus)\n",
        "\n",
        "corpus = [dictionary.doc2bow(doc) for doc in corpus]\n",
        "corpus[1][:5]"
      ],
      "execution_count": 64,
      "outputs": [
        {
          "output_type": "execute_result",
          "data": {
            "text/plain": [
              "[(37, 1), (45, 1), (48, 1), (133, 2), (134, 1)]"
            ]
          },
          "metadata": {},
          "execution_count": 64
        }
      ]
    },
    {
      "cell_type": "code",
      "metadata": {
        "id": "nag27--Qm_GJ"
      },
      "source": [
        "# tokenizar los documentos\n",
        "corpus = [tokenizer(doc, stopwords_remove=True) for doc in df.content]\n",
        "\n",
        "# diccionario que mapea las palabras del vocabulario con una id  \n",
        "dictionary = Dictionary(corpus)\n",
        "\n",
        "# representación númerica del corpus como una lista de tuplas.\n",
        "# el primer elemento de la tupla es la id de la palabra y el segundo es su frecuencia de aparición en el texto.\n",
        "corpus = [dictionary.doc2bow(doc) for doc in corpus]"
      ],
      "execution_count": 53,
      "outputs": []
    },
    {
      "cell_type": "code",
      "metadata": {
        "scrolled": true,
        "id": "6hXayDcdm_GJ"
      },
      "source": [
        "#entrenamos lda en el corpus\n",
        "lda_model = LdaModel(corpus=corpus, \n",
        "                     id2word=dictionary, \n",
        "                     num_topics=3, \n",
        "                     alpha='auto', \n",
        "                     eta='auto', \n",
        "                     random_state=0) "
      ],
      "execution_count": null,
      "outputs": []
    },
    {
      "cell_type": "code",
      "metadata": {
        "colab": {
          "base_uri": "https://localhost:8080/"
        },
        "id": "Q1nN0gFom_GJ",
        "outputId": "3c1ecf19-fcfe-49cd-99f1-93d767095b1e"
      },
      "source": [
        "# mostrar las topn palabras más probables de un tópico\n",
        "lda_model.show_topic(topicid=1, topn=10)"
      ],
      "execution_count": 71,
      "outputs": [
        {
          "output_type": "execute_result",
          "data": {
            "text/plain": [
              "[('años', 0.0039763),\n",
              " ('bío', 0.0023655714),\n",
              " ('gobierno', 0.0023490724),\n",
              " ('personas', 0.0021748266),\n",
              " ('año', 0.0020733888),\n",
              " ('país', 0.0020224159),\n",
              " ('empresa', 0.0019647991),\n",
              " ('unidos', 0.0019624203),\n",
              " ('ley', 0.0019319475),\n",
              " ('presidente', 0.0019206271)]"
            ]
          },
          "metadata": {},
          "execution_count": 71
        }
      ]
    },
    {
      "cell_type": "code",
      "metadata": {
        "colab": {
          "base_uri": "https://localhost:8080/"
        },
        "id": "pEqB4zXom_GJ",
        "outputId": "184865e9-152e-427f-bb52-d31d4ca411d4"
      },
      "source": [
        "# mezcla de tópicos de cada documento\n",
        "lda_model.get_document_topics(corpus[5])"
      ],
      "execution_count": 70,
      "outputs": [
        {
          "output_type": "execute_result",
          "data": {
            "text/plain": [
              "[(0, 0.025077699), (1, 0.9617462), (2, 0.013176075)]"
            ]
          },
          "metadata": {},
          "execution_count": 70
        }
      ]
    },
    {
      "cell_type": "code",
      "metadata": {
        "colab": {
          "base_uri": "https://localhost:8080/",
          "height": 916
        },
        "id": "2EQI5f_Om_GK",
        "outputId": "94195446-de65-47d9-df6b-1022c724f21b"
      },
      "source": [
        "lda_vis = pyLDAvis.gensim.prepare(topic_model=lda_model, \n",
        "                                  corpus=corpus, \n",
        "                                  dictionary=dictionary, \n",
        "                                  sort_topics=True, \n",
        "                                  R=30, \n",
        "                                  mds='mmds')\n",
        "pyLDAvis.display(lda_vis)"
      ],
      "execution_count": 73,
      "outputs": [
        {
          "output_type": "stream",
          "name": "stderr",
          "text": [
            "/usr/local/lib/python3.7/dist-packages/pyLDAvis/_prepare.py:232: FutureWarning: In a future version of pandas all arguments of DataFrame.drop except for the argument 'labels' will be keyword-only\n",
            "  head(R).drop('saliency', 1)\n"
          ]
        },
        {
          "output_type": "execute_result",
          "data": {
            "text/html": [
              "\n",
              "<link rel=\"stylesheet\" type=\"text/css\" href=\"https://cdn.rawgit.com/bmabey/pyLDAvis/files/ldavis.v1.0.0.css\">\n",
              "\n",
              "\n",
              "<div id=\"ldavis_el4831400206500653601571255169\"></div>\n",
              "<script type=\"text/javascript\">\n",
              "\n",
              "var ldavis_el4831400206500653601571255169_data = {\"mdsDat\": {\"x\": [0.005049601194802374, 0.00769343385946553, -0.012743035054267904], \"y\": [0.010501006924168076, -0.009765831204349401, -0.0007351757198186739], \"topics\": [1, 2, 3], \"cluster\": [1, 1, 1], \"Freq\": [42.740093470451946, 33.334174214454364, 23.925732315093686]}, \"tinfo\": {\"Term\": [\"post\", \"a\\u00f1os\", \"estadounidense\", \"agua\", \"joven\", \"lguc\", \"pa\\u00eds\", \"azul\", \"situaci\\u00f3n\", \"caso\", \"maduro\", \"vida\", \"eclipse\", \"ley\", \"venezuela\", \"instagram\", \"mujeres\", \"empresa\", \"ni\\u00f1os\", \"declar\\u00f3\", \"poblaci\\u00f3n\", \"alcalde\", \"investigaci\\u00f3n\", \"trump\", \"padre\", \"personas\", \"china\", \"saya\", \"sur\", \"ir\\u00e1n\", \"litro\", \"octanos\", \"bencinas\", \"mepco\", \"parafina\", \"kerosene\", \"distribuidores\", \"sufrir\\u00e1\", \"estabilizaci\\u00f3n\", \"desregulado\", \"encontrar\\u00eda\", \"competitivo\", \"mmb\", \"combustiblesde\", \"kahlo\", \"sincicial\", \"defina\", \"legumbres\", \"quezada\", \"indicador\", \"licuado\", \"galvao\", \"disminuir\\u00e1\", \"dipres\", \"coats\", \"variaci\\u00f3n\", \"ubic\\u00e1ndose\", \"disminuyeron\", \"habitante\", \"combustibles\", \"ine\", \"alcanzando\", \"precios\", \"c\\u00e1ncer\", \"enap\", \"chile\", \"china\", \"casos\", \"cr\\u00e9dito\", \"doce\", \"hospital\", \"meses\", \"datos\", \"b\\u00edo\", \"escucha\", \"gobierno\", \"proceso\", \"mujer\", \"consumo\", \"a\\u00f1o\", \"nacional\", \"entrevista\", \"personas\", \"importante\", \"presidente\", \"mes\", \"persona\", \"ministerio\", \"millones\", \"salud\", \"universidad\", \"a\\u00f1os\", \"caso\", \"pa\\u00eds\", \"unidos\", \"forma\", \"proyecto\", \"empresa\", \"regi\\u00f3n\", \"ministro\", \"trump\", \"semana\", \"programa\", \"ley\", \"hombre\", \"the\", \"polic\\u00eda\", \"saab\", \"azul\", \"eclipse\", \"adulteraci\\u00f3n\", \"lasultimas\", \"arepas\", \"patente\", \"solidario\", \"edu_\", \"campusano\", \"eclipsechile\", \"cau\", \"cores\", \"fomc\", \"arepa\", \"salgan\", \"implicaciones\", \"sco\", \"desmanes\", \"manaa\", \"laserena\", \"medidores\", \"nataly\", \"serpiente\", \"rotonda\", \"clap\", \"mural\", \"retomar\\u00e1n\", \"depondr\\u00e1\", \"placa\", \"artefactos\", \"casino\", \"sename\", \"ma\\u00edz\", \"mostazal\", \"municipalidad\", \"interurbanos\", \"maduro\", \"lider\", \"venezuela\", \"transporte\", \"familiar\", \"liceo\", \"minvu\", \"situaci\\u00f3n\", \"ley\", \"nicol\\u00e1s\", \"santiago\", \"instagram\", \"empresa\", \"empresas\", \"julio\", \"a\\u00f1os\", \"habr\\u00eda\", \"busca\", \"ministro\", \"sindicato\", \"polic\\u00eda\", \"trabajadores\", \"unidos\", \"econ\\u00f3mico\", \"muerte\", \"l\\u00ednea\", \"pdt\", \"this\", \"the\", \"pol\\u00edtica\", \"comisi\\u00f3n\", \"gobierno\", \"b\\u00edo\", \"justicia\", \"millones\", \"post\", \"pa\\u00eds\", \"a\\u00f1o\", \"personas\", \"presidente\", \"proyecto\", \"entrevista\", \"chile\", \"programa\", \"caso\", \"nacional\", \"regi\\u00f3n\", \"trump\", \"investigaci\\u00f3n\", \"detergente\", \"sismo\", \"impero\", \"moto\", \"viralizaci\\u00f3n\", \"aclaran\", \"escogidas\", \"d\\u00fao\", \"secar\", \"repletaron\", \"timber\", \"patagonia\", \"hamza\", \"stena\", \"grifos\", \"java\", \"secadora\", \"hamas\", \"house\", \"complic\\u00f3\", \"queilen\", \"laden\", \"remolcado\", \"distancias\", \"suave\", \"cat\\u00e1strofes\", \"evaluando\", \"usgs\", \"ahmed\", \"qura\", \"calefactores\", \"montrose\", \"ormuz\", \"sam\", \"gaza\", \"primaria\", \"tibia\", \"iran\\u00ed\", \"lguc\", \"indonesia\", \"tiburones\", \"tsunami\", \"oyarce\", \"elefantes\", \"kremlin\", \"saya\", \"rohani\", \"estadounidense\", \"israel\\u00edes\", \"corto\", \"joven\", \"ir\\u00e1n\", \"agua\", \"post\", \"declar\\u00f3\", \"poblaci\\u00f3n\", \"padre\", \"mujeres\", \"pa\\u00eds\", \"alcalde\", \"planes\", \"caso\", \"a\\u00f1os\", \"vida\", \"personas\", \"kil\\u00f3metros\", \"trump\", \"diario\", \"ni\\u00f1os\", \"investigaci\\u00f3n\", \"jueves\", \"art\\u00edculo\", \"autoridades\", \"hombre\", \"presidente\", \"ciudad\", \"sur\", \"grupo\", \"a\\u00f1o\", \"mil\", \"regi\\u00f3n\", \"millones\", \"forma\", \"the\", \"casa\", \"nacional\", \"unidos\", \"gobierno\", \"b\\u00edo\", \"chile\", \"ministro\", \"salud\"], \"Freq\": [231.0, 614.0, 114.0, 155.0, 147.0, 47.0, 386.0, 40.0, 208.0, 302.0, 69.0, 184.0, 36.0, 247.0, 69.0, 165.0, 115.0, 262.0, 87.0, 80.0, 79.0, 85.0, 194.0, 231.0, 75.0, 453.0, 141.0, 36.0, 115.0, 48.0, 19.288299513277206, 6.958860819254473, 6.131761102885759, 4.526519677197008, 3.7096637846809757, 4.493063926963654, 2.8807973911799225, 3.651550213492298, 4.422138317171917, 2.8677374370753603, 2.053498895715408, 2.8409868519316666, 5.1148943542172285, 2.836761121041168, 3.600495812861645, 3.584863177060733, 3.5872675107307237, 2.81746223933288, 2.0192899067173484, 7.890869553641345, 4.2501779274412685, 4.992761350895262, 1.9957605479884655, 5.67303422823478, 4.188321613895427, 19.89609005015338, 3.4886878759722455, 2.756504340295867, 5.631993045370951, 13.705894593521256, 29.45791622598178, 11.581774677892648, 45.0938598003868, 25.473036361930273, 22.70697834093456, 264.7354470775092, 89.74439308073293, 65.87619639853796, 28.550145698812887, 17.100674143486334, 61.062753893311566, 114.98074384333553, 52.80845864061763, 233.35020224074123, 79.48162044323352, 225.83240363924477, 89.80332996590127, 87.06754890471085, 32.52153315255282, 197.70856539631527, 140.82303582718146, 113.5831615228575, 216.59524179715612, 71.83597784798856, 182.21046060727343, 66.94373394885172, 69.31560185551024, 84.05001969321668, 158.26848784538765, 90.70944995653312, 71.15231623376025, 240.47680358170246, 136.37461874603426, 165.47549421386367, 138.24076583130065, 101.0678599073154, 97.33746865576713, 114.90811130181385, 97.79908285262142, 104.8601540961581, 100.20727596393274, 81.38680863630432, 82.91296752967042, 96.15431760977907, 80.0406587317599, 83.76032037908092, 82.25533480962703, 5.781384481937376, 29.67422045045291, 26.14260232681381, 4.334674416951383, 1.7488136470342752, 5.527074590879144, 11.453195271681626, 5.993659449918612, 1.7350153582256485, 1.7278510568263026, 2.3824785502467907, 2.963116735935393, 1.718223642367785, 2.9938209470021246, 6.581302222240921, 1.7086617686651737, 1.7088160398464347, 1.0210568233418722, 2.3405566359814722, 1.0155700169043242, 1.6907406179206481, 5.318961569769638, 1.6896353525486223, 2.3167662125610295, 2.281661625626829, 2.8985020426035284, 3.485968878278754, 1.002694197904324, 1.0025611567021357, 4.581231772882428, 8.42007360516368, 9.324297389929846, 7.887009951758085, 6.235100707508223, 6.671609109631383, 24.754045855990235, 4.033658571933431, 40.85358339555126, 9.234072374048424, 39.762685602388295, 29.47522390897224, 16.618789295197054, 13.754808940512572, 17.614764912390868, 101.83585213083835, 115.63255315477384, 21.05197125053205, 55.07977887201109, 78.98389046346298, 117.59881415479325, 64.24605728170776, 72.65686721272104, 237.99285401614827, 70.61644804498235, 40.42352803609268, 99.72986607798846, 24.95520241175193, 85.77121275749191, 60.612557903831195, 117.45643437473352, 27.94519521247636, 52.05745901884528, 69.84390151790282, 50.16527257308911, 59.32408848183423, 83.01844875102235, 54.26908718950742, 46.6256327835112, 140.59866015475097, 141.58617687730876, 57.78879910539585, 111.31519325552395, 84.19342684202131, 121.04733966454582, 124.09821351294921, 130.16955378290953, 114.9549915137555, 74.81437309006742, 73.98414721389646, 108.29638516751181, 66.04206038186616, 85.298413502527, 77.0397661259301, 67.63784409374934, 68.919401470047, 64.58965981151522, 6.5139641655347695, 4.3165337172219385, 3.0535884757749896, 0.8737884334611549, 0.873398733949518, 0.8700535070809263, 0.8676677990219177, 0.8672544221587616, 2.9864426325896556, 0.8652285629569995, 0.8605573262602612, 2.939818411010107, 2.961786304635418, 2.9301780562173203, 0.8570786310207299, 2.4595335721869054, 3.8845041022255056, 1.4141860043516112, 0.8515766553008891, 0.8502250145443653, 2.8834378703154795, 3.8071871564865996, 1.3829853502091698, 0.8419508351199261, 6.108969241102597, 0.8382268487701025, 0.8361154229019592, 0.8351816131638277, 1.379866972685331, 1.8879182338207312, 1.8809158329308602, 3.2504765155440443, 4.164701411244669, 4.553647936217467, 4.150683794000739, 3.6860688295849027, 4.8915351512845735, 13.560531521011885, 23.666899101527886, 8.06754413015174, 5.232924113798137, 4.868732689625518, 3.197644608140465, 6.986580980761037, 6.883014526068644, 16.399261863074752, 3.5381055435033963, 44.631688210978325, 5.026762366541008, 11.536432101283413, 51.37509794676709, 19.961383273895255, 52.74330941105906, 69.91620646424582, 29.287286584748212, 28.52915873144898, 27.47083394326126, 38.09655915004996, 100.40689389295326, 30.07699924354325, 18.1565133114564, 81.11978782788825, 136.48106776975305, 53.26742063682883, 106.91593942081799, 9.576133688587054, 62.45095476800475, 29.43484821542771, 29.01792428184205, 53.50020447921781, 41.51531240013131, 39.71958705282175, 42.97701548882966, 46.67377554127081, 81.06443502490708, 45.510401455412385, 34.74508646181408, 39.46706364471479, 80.81741288923229, 43.2708334482752, 50.83596824725749, 66.43706674690787, 50.270197385705906, 50.49825513495997, 39.46364285349333, 56.37841020184908, 59.859400347186934, 66.72608859702392, 64.2981070102416, 59.75625649024047, 40.90351339237109, 39.699644940255126], \"Total\": [231.0, 614.0, 114.0, 155.0, 147.0, 47.0, 386.0, 40.0, 208.0, 302.0, 69.0, 184.0, 36.0, 247.0, 69.0, 165.0, 115.0, 262.0, 87.0, 80.0, 79.0, 85.0, 194.0, 231.0, 75.0, 453.0, 141.0, 36.0, 115.0, 48.0, 21.830297966659117, 8.230971710827525, 7.322592383095763, 5.461458773153831, 4.515510121175363, 5.476695577699387, 3.5539832292426667, 4.519532029099584, 5.482532625304726, 3.5595618154001256, 2.5633847526248372, 3.5675477393975847, 6.4261394004346215, 3.5698609310510268, 4.556959651964973, 4.537927132294652, 4.555907581567059, 3.584469867715115, 2.585670144890137, 10.105426621787847, 5.471499029889186, 6.449925865388483, 2.590954362272246, 7.369932521468972, 5.4485324419849235, 25.935125416313863, 4.55292317396175, 3.598294945862084, 7.352772720355654, 18.033108913103383, 39.06784855339474, 15.391356643464515, 62.39468734835313, 35.42001702444655, 31.949986975402755, 432.78808873526145, 141.92155764177969, 102.24355906573436, 42.57691730490176, 24.563913910231726, 98.088664897342, 199.73721905427266, 85.5472001422164, 439.2344861282916, 134.79391431683865, 433.1571523910197, 155.92834773929573, 155.47904852492377, 52.12357799190664, 402.6241917984968, 274.24121215496064, 215.38210723825838, 453.68073500088366, 129.66021256851886, 378.229887145936, 119.71206947500572, 124.77889557355013, 156.86164085696007, 336.02074784781945, 173.59860134929878, 131.7299264699113, 614.9507253676038, 302.7928200764495, 386.92972777136276, 315.5566005532211, 215.09251622773118, 206.81644209138756, 262.2482970702203, 216.27289519362824, 245.49353356651764, 231.5776322019845, 170.32578215195525, 177.86605246770804, 247.13698216730052, 172.90021847104467, 217.27702426506326, 207.62145578200065, 7.704802493895671, 40.089919286811, 36.14604594557669, 6.06003776829386, 2.4547748133327993, 7.791857276747766, 16.155357724440385, 8.465909205462587, 2.4646977720196688, 2.4712886455360987, 3.410666399490834, 4.255538056109312, 2.4778360657349063, 4.324674669931908, 9.532441187355905, 2.4828112644631317, 2.484899356129493, 1.4879127077282783, 3.411962077335845, 1.4941600205853296, 2.4896560500726945, 7.836872626332238, 2.4950834295849114, 3.4367292932697016, 3.3909660499356082, 4.3305701999679735, 5.235966495039352, 1.5094925592261161, 1.5096242131930047, 6.921901424126768, 12.730257048906518, 14.133171419503698, 12.090630278595372, 9.539592715780362, 10.319761807727033, 40.52664170946583, 6.125106767279791, 69.22699141021755, 14.627082596800314, 69.1736810247277, 50.83284733102731, 27.98152247409839, 22.87745903985187, 30.25626669890777, 208.91624326648193, 247.13698216730052, 37.91925463341627, 110.96558859262908, 165.96201711069796, 262.2482970702203, 133.73096157239155, 156.3888025236177, 614.9507253676038, 152.85597710041202, 83.37829853140218, 245.49353356651764, 47.6119571237919, 207.62145578200065, 138.86169060677568, 315.5566005532211, 54.96265116850856, 118.49899095875614, 171.26158688567364, 114.20675331966413, 141.72372987088576, 217.27702426506326, 127.1051600502527, 105.0691381930605, 433.1571523910197, 439.2344861282916, 139.31012638916917, 336.02074784781945, 231.98613711911503, 386.92972777136276, 402.6241917984968, 453.68073500088366, 378.229887145936, 206.81644209138756, 215.38210723825838, 432.78808873526145, 177.86605246770804, 302.7928200764495, 274.24121215496064, 216.27289519362824, 231.5776322019845, 194.02316620027955, 9.225171535320463, 6.208860794868704, 4.726247143087027, 1.369085105024201, 1.3697636492317824, 1.3755358573147256, 1.3796275848415736, 1.3802435283503365, 4.758455155780631, 1.3834541962022942, 1.3899078629240136, 4.759953446670822, 4.800978628696092, 4.75452000070276, 1.3943294145324612, 4.020650520027, 6.376323164974547, 2.3271375377437327, 1.4018968536506753, 1.4035874985670989, 4.775461290665191, 6.362759076626413, 2.3178255519586597, 1.413917157938344, 10.322184588904012, 1.4175638634575858, 1.4240644393675956, 1.4227340404367743, 2.3556789845893378, 3.2243582405148383, 3.2163595230919038, 5.5957001739591465, 7.23619216257587, 7.965912031705775, 7.2757261800332085, 6.510790059661511, 8.79429370957782, 26.03822201792025, 47.236582318876344, 15.222831140435865, 9.6354277714778, 8.922985215292268, 5.6926974173300735, 13.71516863557833, 13.718804263294755, 36.39979891954364, 6.514082361977403, 114.14104124564857, 9.78104785666818, 25.650569591392042, 147.05747638699088, 48.731750788284614, 155.2155292122394, 231.98613711911503, 80.8005757985288, 79.3382509103954, 75.80623553605714, 115.17529633321692, 386.92972777136276, 85.89527811234416, 45.918949331195975, 302.7928200764495, 614.9507253676038, 184.3815076579798, 453.68073500088366, 20.803129872994703, 231.5776322019845, 88.39251724914571, 87.34286479878094, 194.02316620027955, 141.3400380966364, 134.62384975779358, 150.56670651767118, 172.90021847104467, 378.229887145936, 168.77414755602888, 115.57616296739951, 138.92840021143832, 402.6241917984968, 161.4402237506514, 216.27289519362824, 336.02074784781945, 215.09251622773118, 217.27702426506326, 144.29343160466956, 274.24121215496064, 315.5566005532211, 433.1571523910197, 439.2344861282916, 432.78808873526145, 245.49353356651764, 173.59860134929878], \"Category\": [\"Default\", \"Default\", \"Default\", \"Default\", \"Default\", \"Default\", \"Default\", \"Default\", \"Default\", \"Default\", \"Default\", \"Default\", \"Default\", \"Default\", \"Default\", \"Default\", \"Default\", \"Default\", \"Default\", \"Default\", \"Default\", \"Default\", \"Default\", \"Default\", \"Default\", \"Default\", \"Default\", \"Default\", \"Default\", \"Default\", \"Topic1\", \"Topic1\", \"Topic1\", \"Topic1\", \"Topic1\", \"Topic1\", \"Topic1\", \"Topic1\", \"Topic1\", \"Topic1\", \"Topic1\", \"Topic1\", \"Topic1\", \"Topic1\", \"Topic1\", \"Topic1\", \"Topic1\", \"Topic1\", \"Topic1\", \"Topic1\", \"Topic1\", \"Topic1\", \"Topic1\", \"Topic1\", \"Topic1\", \"Topic1\", \"Topic1\", \"Topic1\", \"Topic1\", \"Topic1\", \"Topic1\", \"Topic1\", \"Topic1\", \"Topic1\", \"Topic1\", \"Topic1\", \"Topic1\", \"Topic1\", \"Topic1\", \"Topic1\", \"Topic1\", \"Topic1\", \"Topic1\", \"Topic1\", \"Topic1\", \"Topic1\", \"Topic1\", \"Topic1\", \"Topic1\", \"Topic1\", \"Topic1\", \"Topic1\", \"Topic1\", \"Topic1\", \"Topic1\", \"Topic1\", \"Topic1\", \"Topic1\", \"Topic1\", \"Topic1\", \"Topic1\", \"Topic1\", \"Topic1\", \"Topic1\", \"Topic1\", \"Topic1\", \"Topic1\", \"Topic1\", \"Topic1\", \"Topic1\", \"Topic1\", \"Topic1\", \"Topic1\", \"Topic1\", \"Topic1\", \"Topic1\", \"Topic1\", \"Topic2\", \"Topic2\", \"Topic2\", \"Topic2\", \"Topic2\", \"Topic2\", \"Topic2\", \"Topic2\", \"Topic2\", \"Topic2\", \"Topic2\", \"Topic2\", \"Topic2\", \"Topic2\", \"Topic2\", \"Topic2\", \"Topic2\", \"Topic2\", \"Topic2\", \"Topic2\", \"Topic2\", \"Topic2\", \"Topic2\", \"Topic2\", \"Topic2\", \"Topic2\", \"Topic2\", \"Topic2\", \"Topic2\", \"Topic2\", \"Topic2\", \"Topic2\", \"Topic2\", \"Topic2\", \"Topic2\", \"Topic2\", \"Topic2\", \"Topic2\", \"Topic2\", \"Topic2\", \"Topic2\", \"Topic2\", \"Topic2\", \"Topic2\", \"Topic2\", \"Topic2\", \"Topic2\", \"Topic2\", \"Topic2\", \"Topic2\", \"Topic2\", \"Topic2\", \"Topic2\", \"Topic2\", \"Topic2\", \"Topic2\", \"Topic2\", \"Topic2\", \"Topic2\", \"Topic2\", \"Topic2\", \"Topic2\", \"Topic2\", \"Topic2\", \"Topic2\", \"Topic2\", \"Topic2\", \"Topic2\", \"Topic2\", \"Topic2\", \"Topic2\", \"Topic2\", \"Topic2\", \"Topic2\", \"Topic2\", \"Topic2\", \"Topic2\", \"Topic2\", \"Topic2\", \"Topic2\", \"Topic2\", \"Topic2\", \"Topic2\", \"Topic2\", \"Topic2\", \"Topic2\", \"Topic3\", \"Topic3\", \"Topic3\", \"Topic3\", \"Topic3\", \"Topic3\", \"Topic3\", \"Topic3\", \"Topic3\", \"Topic3\", \"Topic3\", \"Topic3\", \"Topic3\", \"Topic3\", \"Topic3\", \"Topic3\", \"Topic3\", \"Topic3\", \"Topic3\", \"Topic3\", \"Topic3\", \"Topic3\", \"Topic3\", \"Topic3\", \"Topic3\", \"Topic3\", \"Topic3\", \"Topic3\", \"Topic3\", \"Topic3\", \"Topic3\", \"Topic3\", \"Topic3\", \"Topic3\", \"Topic3\", \"Topic3\", \"Topic3\", \"Topic3\", \"Topic3\", \"Topic3\", \"Topic3\", \"Topic3\", \"Topic3\", \"Topic3\", \"Topic3\", \"Topic3\", \"Topic3\", \"Topic3\", \"Topic3\", \"Topic3\", \"Topic3\", \"Topic3\", \"Topic3\", \"Topic3\", \"Topic3\", \"Topic3\", \"Topic3\", \"Topic3\", \"Topic3\", \"Topic3\", \"Topic3\", \"Topic3\", \"Topic3\", \"Topic3\", \"Topic3\", \"Topic3\", \"Topic3\", \"Topic3\", \"Topic3\", \"Topic3\", \"Topic3\", \"Topic3\", \"Topic3\", \"Topic3\", \"Topic3\", \"Topic3\", \"Topic3\", \"Topic3\", \"Topic3\", \"Topic3\", \"Topic3\", \"Topic3\", \"Topic3\", \"Topic3\", \"Topic3\", \"Topic3\", \"Topic3\", \"Topic3\", \"Topic3\", \"Topic3\", \"Topic3\", \"Topic3\"], \"logprob\": [30.0, 29.0, 28.0, 27.0, 26.0, 25.0, 24.0, 23.0, 22.0, 21.0, 20.0, 19.0, 18.0, 17.0, 16.0, 15.0, 14.0, 13.0, 12.0, 11.0, 10.0, 9.0, 8.0, 7.0, 6.0, 5.0, 4.0, 3.0, 2.0, 1.0, -8.288700103759766, -9.308199882507324, -9.434700012207031, -9.738200187683105, -9.937299728393555, -9.745699882507324, -10.190099716186523, -9.95300006866455, -9.76159954071045, -10.194700241088867, -10.52869987487793, -10.204000473022461, -9.616000175476074, -10.205499649047852, -9.967100143432617, -9.971500396728516, -9.970800399780273, -10.212400436401367, -10.545499801635742, -9.182499885559082, -9.801199913024902, -9.640199661254883, -10.55720043182373, -9.512499809265137, -9.815899848937988, -8.257699966430664, -9.998700141906738, -10.234199523925781, -9.519700050354004, -8.630399703979492, -7.865200042724609, -8.798800468444824, -7.439499855041504, -8.010600090026855, -8.125499725341797, -5.66949987411499, -6.751200199127197, -7.060400009155273, -7.896500110626221, -8.409099578857422, -7.136300086975098, -6.503399848937988, -7.281499862670898, -5.7957000732421875, -6.872700214385986, -5.828400135040283, -6.7505998611450195, -6.781499862670898, -7.766300201416016, -5.961400032043457, -6.3007001876831055, -6.515699863433838, -5.870200157165527, -6.973800182342529, -6.043000221252441, -7.044300079345703, -7.009500026702881, -6.816800117492676, -6.183899879455566, -6.740499973297119, -6.983399868011475, -5.765600204467773, -6.332799911499023, -6.139400005340576, -6.319200038909912, -6.632400035858154, -6.670000076293945, -6.5040998458862305, -6.665299892425537, -6.595600128173828, -6.640999794006348, -6.848999977111816, -6.830399990081787, -6.682199954986572, -6.865699768066406, -6.820199966430664, -6.838399887084961, -9.244999885559082, -7.609399795532227, -7.736100196838379, -9.532999992370605, -10.440699577331543, -9.289999961853027, -8.561400413513184, -9.208900451660156, -10.448599815368652, -10.452799797058105, -10.131500244140625, -9.913399696350098, -10.458399772644043, -9.90310001373291, -9.115400314331055, -10.463899612426758, -10.463800430297852, -10.978799819946289, -10.149299621582031, -10.984199523925781, -10.474499702453613, -9.328399658203125, -10.475099563598633, -10.159500122070312, -10.174699783325195, -9.935500144958496, -9.750900268554688, -10.996999740600586, -10.997099876403809, -9.477700233459473, -8.869000434875488, -8.767000198364258, -8.934399604797363, -9.169400215148926, -9.101799964904785, -7.7906999588012695, -9.604999542236328, -7.289599895477295, -8.776700019836426, -7.316699981689453, -7.616099834442139, -8.18910026550293, -8.378299713134766, -8.130900382995605, -6.376299858093262, -6.249199867248535, -7.952600002288818, -6.990900039672852, -6.63040018081665, -6.232399940490723, -6.836900234222412, -6.713900089263916, -5.527400016784668, -6.742400169372559, -7.30019998550415, -6.397200107574463, -7.782599925994873, -6.547999858856201, -6.895100116729736, -6.23360013961792, -7.669400215148926, -7.047299861907959, -6.753399848937988, -7.0843000411987305, -6.916600227355957, -6.580599784851074, -7.00570011138916, -7.15749979019165, -6.053699970245361, -6.0467000007629395, -6.942800045013428, -6.287300109863281, -6.566500186920166, -6.203499794006348, -6.178599834442139, -6.130799770355225, -6.255099773406982, -6.684599876403809, -6.695799827575684, -6.314799785614014, -6.8094000816345215, -6.553500175476074, -6.655300140380859, -6.7855000495910645, -6.76669979095459, -6.831600189208984, -8.794099807739258, -9.205599784851074, -9.5516996383667, -10.802900314331055, -10.803400039672852, -10.80720043182373, -10.8100004196167, -10.810400009155273, -9.57390022277832, -10.812800407409668, -10.81820011138916, -9.589699745178223, -9.582200050354004, -9.593000411987305, -10.822199821472168, -9.767999649047852, -9.310999870300293, -10.321499824523926, -10.828700065612793, -10.830300331115723, -9.609000205993652, -9.331100463867188, -10.343799591064453, -10.84000015258789, -8.85830020904541, -10.844499588012695, -10.847000122070312, -10.848099708557129, -10.345999717712402, -10.032500267028809, -10.036299705505371, -9.4891996383667, -9.241399765014648, -9.152099609375, -9.24470043182373, -9.363499641418457, -9.080499649047852, -8.06089973449707, -7.503900051116943, -8.5802001953125, -9.012999534606934, -9.085200309753418, -9.505599975585938, -8.723999977111816, -8.73900032043457, -7.870800018310547, -9.404399871826172, -6.86959981918335, -9.053199768066406, -8.22249984741211, -6.728899955749512, -7.674200057983398, -6.702600002288818, -6.4207000732421875, -7.290900230407715, -7.3171000480651855, -7.354899883270264, -7.027900218963623, -6.058800220489502, -7.2642998695373535, -7.769000053405762, -6.27209997177124, -5.751800060272217, -6.692699909210205, -5.995999813079834, -8.408699989318848, -6.533599853515625, -7.285799980163574, -7.300099849700928, -6.688300132751465, -6.941999912261963, -6.986199855804443, -6.907400131225586, -6.82480001449585, -6.272799968719482, -6.850100040435791, -7.119999885559082, -6.992499828338623, -6.2758002281188965, -6.9004998207092285, -6.7393999099731445, -6.471799850463867, -6.7505998611450195, -6.746099948883057, -6.992599964141846, -6.635900020599365, -6.576000213623047, -6.467400074005127, -6.504499912261963, -6.577700138092041, -6.9567999839782715, -6.986700057983398], \"loglift\": [30.0, 29.0, 28.0, 27.0, 26.0, 25.0, 24.0, 23.0, 22.0, 21.0, 20.0, 19.0, 18.0, 17.0, 16.0, 15.0, 14.0, 13.0, 12.0, 11.0, 10.0, 9.0, 8.0, 7.0, 6.0, 5.0, 4.0, 3.0, 2.0, 1.0, 0.7262, 0.6821, 0.6726, 0.6623, 0.6535, 0.6521, 0.64, 0.6368, 0.6351, 0.6339, 0.6282, 0.6223, 0.6218, 0.6202, 0.6144, 0.6143, 0.611, 0.6093, 0.6028, 0.6027, 0.5974, 0.594, 0.589, 0.5883, 0.587, 0.585, 0.5838, 0.5835, 0.5834, 0.5756, 0.5677, 0.5657, 0.5253, 0.5204, 0.5085, 0.3585, 0.3917, 0.4105, 0.4504, 0.4879, 0.3761, 0.2978, 0.3676, 0.2175, 0.3218, 0.1987, 0.2983, 0.2702, 0.3783, 0.1388, 0.1835, 0.2102, 0.1107, 0.2595, 0.1197, 0.2688, 0.2622, 0.2261, 0.0972, 0.2009, 0.2341, -0.0889, 0.0524, 0.0006, 0.0247, 0.0948, 0.0964, 0.0249, 0.0564, -0.0006, 0.0124, 0.1115, 0.0868, -0.094, 0.0799, -0.1032, -0.0759, 0.8114, 0.7977, 0.7746, 0.7635, 0.7595, 0.7552, 0.7546, 0.7532, 0.7475, 0.7407, 0.7398, 0.7366, 0.7325, 0.7308, 0.7281, 0.7249, 0.7242, 0.7221, 0.7217, 0.7125, 0.7116, 0.711, 0.7088, 0.7042, 0.7024, 0.6971, 0.6918, 0.6895, 0.6893, 0.6859, 0.6852, 0.6827, 0.6714, 0.6733, 0.6624, 0.6056, 0.6809, 0.5712, 0.6386, 0.5449, 0.5536, 0.5776, 0.5898, 0.5576, 0.38, 0.3391, 0.5101, 0.3981, 0.3561, 0.2966, 0.3655, 0.332, 0.1493, 0.3264, 0.3746, 0.1978, 0.4526, 0.2146, 0.2696, 0.1103, 0.4222, 0.276, 0.2017, 0.2759, 0.2277, 0.1365, 0.2475, 0.2861, -0.0266, -0.0335, 0.2187, -0.0062, 0.085, -0.0635, -0.0783, -0.15, -0.0924, 0.0818, 0.03, -0.2868, 0.1078, -0.1683, -0.1711, -0.0638, -0.1134, -0.0013, 1.0822, 1.0667, 0.9934, 0.9812, 0.9802, 0.9722, 0.9665, 0.9655, 0.9644, 0.9609, 0.9508, 0.9483, 0.9472, 0.9462, 0.9436, 0.9387, 0.9346, 0.9321, 0.9317, 0.9289, 0.9257, 0.9166, 0.9138, 0.9118, 0.9057, 0.9048, 0.8977, 0.8975, 0.8954, 0.895, 0.8937, 0.887, 0.8778, 0.871, 0.8689, 0.8613, 0.8436, 0.7778, 0.7391, 0.7953, 0.8197, 0.8244, 0.8534, 0.7557, 0.7405, 0.6329, 0.8198, 0.4912, 0.7645, 0.6312, 0.3785, 0.5377, 0.3508, 0.2308, 0.4154, 0.4074, 0.4152, 0.3239, 0.0812, 0.3808, 0.5024, 0.1131, -0.0751, 0.1885, -0.0151, 0.6544, 0.1197, 0.3306, 0.3283, 0.1419, 0.2051, 0.2096, 0.1765, 0.1207, -0.11, 0.1196, 0.2283, 0.1717, -0.1756, 0.1136, -0.0177, -0.1907, -0.0234, -0.029, 0.1337, -0.1517, -0.2321, -0.4403, -0.4913, -0.5498, -0.3618, -0.0452]}, \"token.table\": {\"Topic\": [3, 1, 2, 3, 1, 2, 3, 1, 3, 1, 2, 3, 1, 2, 3, 1, 2, 3, 1, 2, 3, 1, 2, 3, 1, 2, 3, 1, 2, 3, 1, 2, 3, 1, 2, 3, 1, 2, 3, 1, 2, 3, 1, 2, 3, 1, 2, 3, 1, 3, 2, 1, 2, 3, 1, 2, 3, 1, 2, 3, 1, 2, 3, 3, 1, 2, 3, 1, 2, 3, 1, 2, 3, 1, 2, 3, 1, 2, 3, 1, 3, 1, 2, 3, 1, 1, 2, 3, 1, 3, 1, 2, 3, 2, 1, 2, 3, 1, 2, 3, 1, 2, 3, 1, 2, 3, 1, 2, 3, 1, 2, 2, 1, 2, 1, 1, 2, 3, 1, 2, 3, 1, 2, 3, 1, 1, 3, 1, 1, 2, 3, 3, 1, 2, 3, 1, 2, 1, 2, 3, 2, 1, 2, 3, 1, 2, 3, 1, 2, 3, 1, 2, 3, 1, 1, 2, 3, 3, 1, 2, 3, 1, 2, 3, 1, 2, 3, 3, 1, 2, 3, 1, 2, 1, 2, 3, 1, 2, 3, 1, 2, 3, 1, 2, 3, 3, 1, 2, 3, 1, 2, 3, 1, 2, 3, 1, 3, 1, 2, 3, 1, 2, 3, 1, 2, 3, 3, 1, 2, 3, 2, 1, 2, 3, 1, 2, 3, 1, 2, 3, 1, 2, 3, 1, 2, 3, 1, 2, 3, 1, 2, 3, 1, 2, 3, 1, 2, 3, 1, 2, 3, 1, 2, 3, 1, 2, 3, 1, 2, 3, 1, 2, 3, 1, 2, 3, 1, 2, 1, 1, 2, 3, 1, 2, 3, 1, 2, 3, 2, 2, 1, 1, 2, 3, 1, 2, 3, 1, 2, 3, 1, 2, 3, 1, 2, 3, 1, 2, 3, 1, 2, 3, 1, 2, 3, 2, 1, 2, 3, 1, 2, 3, 1, 1, 2, 3, 1, 2, 3, 1, 2, 3, 1, 2, 3, 1, 2, 3, 1, 2, 3, 1, 2, 3, 1, 2, 3, 1, 2, 3, 1, 2, 3, 3, 1, 2, 3, 1, 2, 3, 1, 2, 3, 1, 2, 3, 1, 2, 1, 2, 3, 1, 2, 1, 2, 3, 1, 2, 3, 1, 2, 3, 1, 2, 3, 1, 2, 3, 1, 2, 3, 1, 1, 2, 3, 1, 2, 3, 1, 2, 3, 1, 2, 3, 1, 2, 3, 1, 2, 3, 1, 2, 3, 1, 2, 3, 1, 2, 3, 1, 2, 3, 1, 2, 3, 1, 2, 3, 1, 2, 3, 1, 2, 3, 1, 2, 3, 1, 2, 3, 1, 2, 3, 1, 2, 3, 1, 2, 3, 1, 1, 2, 3, 1, 2, 3, 2, 3, 3, 2, 1, 2, 3, 1, 2, 3, 1, 2, 3, 2, 1, 2, 3, 1, 2, 3, 1, 2, 3, 1, 2, 3, 2, 1, 2, 3, 1, 2, 3, 1, 2, 3, 1, 2, 3, 1, 2, 1, 3, 1, 2, 3, 1, 2, 3, 1, 2, 3, 1, 2, 3, 1, 2, 3, 1, 2, 3, 1, 1, 2, 3, 1, 2, 3, 1, 2, 3, 1, 2, 3, 1, 2, 3, 3, 1, 2, 3, 1, 2, 3, 1, 2, 3, 1, 2, 3, 1, 2, 3, 1, 2, 3, 1, 2, 3, 3, 1, 2, 3, 1, 2, 3, 1, 2, 3, 3], \"Freq\": [0.7269894090235975, 0.16501547320909513, 0.6600618928363805, 0.16501547320909513, 0.3414606790247681, 0.31569006173987996, 0.3414606790247681, 0.42450605814371123, 0.42450605814371123, 0.3376204214866191, 0.3143362544875419, 0.34926250498615763, 0.7796583678733379, 0.12994306131222297, 0.12994306131222297, 0.2098098441617301, 0.7343344545660554, 0.10490492208086505, 0.2566782127758348, 0.7700346383275044, 0.1283391063879174, 0.15710601854436182, 0.6284240741774473, 0.15710601854436182, 0.3862614246551038, 0.3194084857724897, 0.2971241728116183, 0.4117776195942986, 0.29887085293134574, 0.2855877039121748, 0.1746074854858313, 0.748317794939277, 0.07483177949392769, 0.49177372853714163, 0.3079795067606341, 0.2011801616742852, 0.39027517181402355, 0.3870228787155734, 0.22115593069461337, 0.8193819464607953, 0.13656365774346588, 0.13656365774346588, 0.37179938360489195, 0.47974114013534447, 0.14392234204060333, 0.530468365664588, 0.32328973358099355, 0.1457080489379126, 0.310910516321476, 0.621821032642952, 0.8092943750672792, 0.40888902110004754, 0.31879483001020653, 0.27028257326952293, 0.1415110551365712, 0.6367997481145704, 0.2122665827048568, 0.4491519976123032, 0.28071999850768947, 0.2675096456367394, 0.6455174350647098, 0.21517247835490327, 0.13692794077130208, 0.7054355897313127, 0.23498791147323556, 0.7049637344197066, 0.23498791147323556, 0.6123089033582478, 0.2495447606139274, 0.13863597811884856, 0.6341531300492526, 0.1620613554570312, 0.21138437668308419, 0.41475546470623836, 0.31402913756329476, 0.2725535910926709, 0.23091647377229804, 0.6927494213168941, 0.23091647377229804, 0.7341426416363198, 0.18353566040907995, 0.776349772380468, 0.11090711034006685, 0.11090711034006685, 0.8403688709287479, 0.3997367897205611, 0.44732450278253266, 0.152280681798309, 0.8409137646204503, 0.7124600361722264, 0.633110796905078, 0.1726665809741122, 0.21103693230169265, 0.8071559001248196, 0.2728984233686997, 0.2728984233686997, 0.4678258686320566, 0.6811202368721352, 0.1644083330381016, 0.1644083330381016, 0.7058155839604833, 0.16939574015051598, 0.11293049343367732, 0.6195410242753837, 0.1753417993232218, 0.21041015918786618, 0.42078908057260483, 0.22277068971490846, 0.35890833342957473, 0.8779809353867868, 0.2194952338466967, 0.6624165082016676, 0.2930864931479039, 0.5861729862958078, 0.8428003657699575, 0.10839906837193158, 0.21679813674386317, 0.7587934786035211, 0.4072742933491684, 0.2602030207508576, 0.3280820696423857, 0.8141187158120794, 0.13568645263534657, 0.13568645263534657, 0.7719163367455134, 0.8337282088145379, 0.707255014472076, 0.8441232854774283, 0.6920721210034411, 0.1221303742947249, 0.20355062382454148, 0.7245098270413174, 0.22132434657016714, 0.7193041263530432, 0.055331086642541785, 0.29319783375743996, 0.5863956675148799, 0.3274951192731637, 0.5094368522026991, 0.16374755963658186, 0.8114585174315805, 0.29164789046950945, 0.2187359178521321, 0.5103838083216415, 0.4385157169169617, 0.44995525735827374, 0.11439540441312045, 0.37388499575645306, 0.4785727945682599, 0.14955399830258123, 0.7198750978429802, 0.18779350378512527, 0.09389675189256264, 0.7802184193972651, 0.529291877871228, 0.3435754294953586, 0.13000151386310865, 0.7248332890609989, 0.5860798716350595, 0.24481817422730331, 0.16321211615153555, 0.7295898215977648, 0.1823974553994412, 0.1823974553994412, 0.3153992604861789, 0.29787707934805785, 0.3942490756077236, 0.7022154141030894, 0.17868934775183665, 0.6075437823562446, 0.214427217302204, 0.23123126623898047, 0.6936937987169414, 0.4695653841022777, 0.29754638200540373, 0.23245811094172164, 0.7752027084266102, 0.15504054168532205, 0.15504054168532205, 0.27488665055710926, 0.27488665055710926, 0.5497733011142185, 0.5217505904092408, 0.3255169612730219, 0.15467827237796075, 0.7171906362854107, 0.3886894250406408, 0.32390785420053403, 0.2807201403071295, 0.8160186950141143, 0.13600311583568572, 0.13600311583568572, 0.36635793419588203, 0.4644895237126362, 0.1700947551623738, 0.42971246167493227, 0.42971246167493227, 0.20829086678763076, 0.20829086678763076, 0.6248726003628923, 0.4626946148908278, 0.26604940356222595, 0.27183308624836133, 0.6218863317575135, 0.21409201585094728, 0.1631177263626265, 0.7133192412807712, 0.21158436487238652, 0.21158436487238652, 0.6347530946171596, 0.8048615711805819, 0.5552975625576091, 0.30078617971870497, 0.14653685678603576, 0.7916538607832317, 0.09895673259790397, 0.09895673259790397, 0.262763211593075, 0.19707240869480622, 0.52552642318615, 0.7422983623059041, 0.15357897151156635, 0.10238598100771092, 0.3253756548643391, 0.476012532116348, 0.19884067797265167, 0.3265249204608095, 0.653049840921619, 0.16326246023040475, 0.39170580239655167, 0.33501154152336654, 0.27831728065018146, 0.2688355600924825, 0.2304304800792707, 0.537671120184965, 0.30780753322751714, 0.2667665287971815, 0.41041004430335615, 0.3067156038864246, 0.20447706925761638, 0.5111926731440409, 0.24871597146256935, 0.24871597146256935, 0.4974319429251387, 0.39440361296129817, 0.2516023048201385, 0.34680317691424495, 0.40328275531543445, 0.30423085050111726, 0.2971557144429517, 0.35168758320592647, 0.4667853377096842, 0.17904095145028984, 0.36608968293897876, 0.4163372864796229, 0.22252510139428122, 0.8777782349411827, 0.21944455873529567, 0.7303674164924633, 0.2403484490326949, 0.2884181388392339, 0.4806968980653898, 0.29157060070476915, 0.2186779505285769, 0.510248551233346, 0.15716452374780285, 0.3143290474956057, 0.6286580949912114, 0.8033238165334536, 0.8147386836206941, 0.8369438468490517, 0.3884485403929241, 0.46937531964144996, 0.14162186368492025, 0.3175504929366113, 0.16936026289952602, 0.5080807886985781, 0.2622668885363612, 0.6119560732515095, 0.1311334442681806, 0.7310610818258725, 0.18276527045646812, 0.18276527045646812, 0.27346533210081164, 0.6152969972268262, 0.06836633302520291, 0.8703500075453957, 0.0458078951339682, 0.0916157902679364, 0.46128265793039025, 0.4087314690522445, 0.12845846170213399, 0.2166784904910092, 0.5922545406754252, 0.2022332577916086, 0.6692723578618139, 0.20965255641277084, 0.6289576692383125, 0.10482627820638542, 0.25520384155280407, 0.6380096038820102, 0.12760192077640203, 0.915506315744401, 0.5596762322615156, 0.25895467462846244, 0.18377428522019917, 0.5757564891736685, 0.22529601750273986, 0.19525654850237456, 0.408820047858325, 0.32210064376716513, 0.2663524554228481, 0.47020906004160395, 0.3303367447127724, 0.196416442802189, 0.535503769698536, 0.2486267502171774, 0.21675152583035978, 0.42770984015165414, 0.4073427049063373, 0.16701050901159828, 0.2644080341970543, 0.5949180769433722, 0.13220401709852714, 0.7780721345170062, 0.15561442690340122, 0.15561442690340122, 0.17870864573011358, 0.35741729146022716, 0.5361259371903407, 0.19380292270917324, 0.6783102294821063, 0.09690146135458662, 0.7304147830768514, 0.38818895948245175, 0.4388223020236411, 0.17721669889416275, 0.5595609236446648, 0.2829963291996006, 0.16079336886340942, 0.3646615319181694, 0.3038846099318078, 0.3299318622116771, 0.2220761361013011, 0.6168781558369476, 0.17272588363434532, 0.19098670721965424, 0.5729601216589627, 0.514145918813718, 0.28077472162167577, 0.20419979754303694, 0.4007882013654199, 0.8015764027308399, 0.3164619166702982, 0.5538083541730219, 0.13185913194595758, 0.2976774354710986, 0.36637222827212135, 0.33202483187160997, 0.850446368415016, 0.12149233834500228, 0.12149233834500228, 0.13819422944180487, 0.27638845888360974, 0.5527769177672195, 0.351327297655321, 0.1756636488276605, 0.5269909464829815, 0.39574580887518856, 0.2506390122876194, 0.3561712279876697, 0.885835684708602, 0.2100860882787444, 0.2100860882787444, 0.6302582648362332, 0.1856969094198079, 0.6808886678726289, 0.12379793961320526, 0.42643402188393936, 0.31271828271488883, 0.25844486174784204, 0.35024198514811294, 0.43780248143514117, 0.21014519108886776, 0.5529781272933962, 0.2644678000098852, 0.17631186667325677, 0.47830992867611477, 0.28654511856172776, 0.235848674508499, 0.14446897445179308, 0.7223448722589653, 0.14446897445179308, 0.37021752996536234, 0.2395525193893521, 0.3919950317280307, 0.3277107788696324, 0.3151065181438773, 0.3655235610468977, 0.39494954744031247, 0.4142153790227667, 0.19265831582454265, 0.33830255186334984, 0.4248450651307184, 0.23602503618373247, 0.33622698739084705, 0.3620906018055276, 0.301742168171273, 0.7212152494452357, 0.11218903880259223, 0.17629706097550207, 0.48118883828389064, 0.30404789232223856, 0.21415547198348978, 0.30718238211845794, 0.15359119105922897, 0.6143647642369159, 0.5771881848608786, 0.2693544862684101, 0.1539168492962343, 0.4666432905462318, 0.3710657491090518, 0.16304404127518943, 0.4690149343016832, 0.3626404131198581, 0.16923219278926713, 0.209403854231788, 0.209403854231788, 0.628211562695364, 0.7734938673258256, 0.3101392355957099, 0.3101392355957099, 0.6202784711914198, 0.45313121606043605, 0.3144175784909148, 0.23581318386818612, 0.4314388540392775, 0.4314388540392775, 0.722828412205543, 0.6624742824255312, 0.15351356406498395, 0.3070271281299679, 0.6140542562599358, 0.29490121259662544, 0.5898024251932509, 0.29490121259662544, 0.12978918029271688, 0.7787350817563014, 0.12978918029271688, 0.8055384751254816, 0.5241977717141763, 0.2476978481726327, 0.23041660295128624, 0.12553490372725917, 0.25106980745451835, 0.6276745186362959, 0.3424485057210264, 0.4956491530172751, 0.15320064729624866, 0.24725411313104134, 0.3021994716046061, 0.43956286778851794, 0.6720824379051001, 0.15683019416158964, 0.3136603883231793, 0.6273207766463585, 0.21015223791385057, 0.21015223791385057, 0.6304567137415518, 0.4755592428616372, 0.3229105970048154, 0.19961745996661315, 0.24812602245484633, 0.6616693932129235, 0.08270867415161544, 0.2909743289814371, 0.5819486579628742, 0.8814597245366865, 0.22036493113417163, 0.3780562927333504, 0.5250781843518756, 0.08401250949630008, 0.16106014179387743, 0.16106014179387743, 0.6442405671755097, 0.3446357203932717, 0.4882339372238016, 0.16753125296895152, 0.11812080377081706, 0.7087248226249023, 0.11812080377081706, 0.21032617379928809, 0.21032617379928809, 0.6309785213978643, 0.19375743407552798, 0.19375743407552798, 0.581272302226584, 0.8850473841639995, 0.3547444295374717, 0.34609212637802117, 0.3028306105807685, 0.3866032328274419, 0.38200081338902, 0.23012097192109637, 0.34574308794046243, 0.41630290180586293, 0.23990336714236168, 0.11371009805038751, 0.3411302941511625, 0.5685504902519375, 0.20756732834636327, 0.3113509925195449, 0.5189183208659082, 0.7194721511224879, 0.44648743457668044, 0.4392860243415727, 0.11522256376172399, 0.2754124692018716, 0.5704972576324483, 0.1377062346009358, 0.4318206341827475, 0.2979562375860958, 0.26772879319330345, 0.22414023465738656, 0.22414023465738656, 0.5603505866434664, 0.6589173340672767, 0.2196391113557589, 0.2196391113557589, 0.43732249541940804, 0.37077342002949815, 0.19014021539974263, 0.5389815503785106, 0.22773868325852561, 0.22773868325852561, 0.7028720558995014, 0.7711549367491967, 0.1156732405123795, 0.1156732405123795, 0.21684547905782128, 0.5782546108208567, 0.20238911378729987, 0.3742240796077674, 0.33625931790842867, 0.2874474814378503, 0.7300529551655422], \"Term\": [\"aclaran\", \"adulteraci\\u00f3n\", \"adulteraci\\u00f3n\", \"adulteraci\\u00f3n\", \"agua\", \"agua\", \"agua\", \"ahmed\", \"ahmed\", \"alcalde\", \"alcalde\", \"alcalde\", \"alcanzando\", \"alcanzando\", \"alcanzando\", \"arepa\", \"arepa\", \"arepa\", \"arepas\", \"arepas\", \"arepas\", \"artefactos\", \"artefactos\", \"artefactos\", \"art\\u00edculo\", \"art\\u00edculo\", \"art\\u00edculo\", \"autoridades\", \"autoridades\", \"autoridades\", \"azul\", \"azul\", \"azul\", \"a\\u00f1o\", \"a\\u00f1o\", \"a\\u00f1o\", \"a\\u00f1os\", \"a\\u00f1os\", \"a\\u00f1os\", \"bencinas\", \"bencinas\", \"bencinas\", \"busca\", \"busca\", \"busca\", \"b\\u00edo\", \"b\\u00edo\", \"b\\u00edo\", \"calefactores\", \"calefactores\", \"campusano\", \"casa\", \"casa\", \"casa\", \"casino\", \"casino\", \"casino\", \"caso\", \"caso\", \"caso\", \"casos\", \"casos\", \"casos\", \"cat\\u00e1strofes\", \"cau\", \"cau\", \"cau\", \"chile\", \"chile\", \"chile\", \"china\", \"china\", \"china\", \"ciudad\", \"ciudad\", \"ciudad\", \"clap\", \"clap\", \"clap\", \"coats\", \"coats\", \"combustibles\", \"combustibles\", \"combustibles\", \"combustiblesde\", \"comisi\\u00f3n\", \"comisi\\u00f3n\", \"comisi\\u00f3n\", \"competitivo\", \"complic\\u00f3\", \"consumo\", \"consumo\", \"consumo\", \"cores\", \"corto\", \"corto\", \"corto\", \"cr\\u00e9dito\", \"cr\\u00e9dito\", \"cr\\u00e9dito\", \"c\\u00e1ncer\", \"c\\u00e1ncer\", \"c\\u00e1ncer\", \"datos\", \"datos\", \"datos\", \"declar\\u00f3\", \"declar\\u00f3\", \"declar\\u00f3\", \"defina\", \"defina\", \"depondr\\u00e1\", \"desmanes\", \"desmanes\", \"desregulado\", \"detergente\", \"detergente\", \"detergente\", \"diario\", \"diario\", \"diario\", \"dipres\", \"dipres\", \"dipres\", \"disminuir\\u00e1\", \"disminuyeron\", \"distancias\", \"distribuidores\", \"doce\", \"doce\", \"doce\", \"d\\u00fao\", \"eclipse\", \"eclipse\", \"eclipse\", \"eclipsechile\", \"eclipsechile\", \"econ\\u00f3mico\", \"econ\\u00f3mico\", \"econ\\u00f3mico\", \"edu_\", \"elefantes\", \"elefantes\", \"elefantes\", \"empresa\", \"empresa\", \"empresa\", \"empresas\", \"empresas\", \"empresas\", \"enap\", \"enap\", \"enap\", \"encontrar\\u00eda\", \"entrevista\", \"entrevista\", \"entrevista\", \"escogidas\", \"escucha\", \"escucha\", \"escucha\", \"estabilizaci\\u00f3n\", \"estabilizaci\\u00f3n\", \"estabilizaci\\u00f3n\", \"estadounidense\", \"estadounidense\", \"estadounidense\", \"evaluando\", \"familiar\", \"familiar\", \"familiar\", \"fomc\", \"fomc\", \"forma\", \"forma\", \"forma\", \"galvao\", \"galvao\", \"galvao\", \"gaza\", \"gaza\", \"gaza\", \"gobierno\", \"gobierno\", \"gobierno\", \"grifos\", \"grupo\", \"grupo\", \"grupo\", \"habitante\", \"habitante\", \"habitante\", \"habr\\u00eda\", \"habr\\u00eda\", \"habr\\u00eda\", \"hamas\", \"hamas\", \"hamza\", \"hamza\", \"hamza\", \"hombre\", \"hombre\", \"hombre\", \"hospital\", \"hospital\", \"hospital\", \"house\", \"impero\", \"impero\", \"impero\", \"implicaciones\", \"importante\", \"importante\", \"importante\", \"indicador\", \"indicador\", \"indicador\", \"indonesia\", \"indonesia\", \"indonesia\", \"ine\", \"ine\", \"ine\", \"instagram\", \"instagram\", \"instagram\", \"interurbanos\", \"interurbanos\", \"interurbanos\", \"investigaci\\u00f3n\", \"investigaci\\u00f3n\", \"investigaci\\u00f3n\", \"iran\\u00ed\", \"iran\\u00ed\", \"iran\\u00ed\", \"ir\\u00e1n\", \"ir\\u00e1n\", \"ir\\u00e1n\", \"israel\\u00edes\", \"israel\\u00edes\", \"israel\\u00edes\", \"java\", \"java\", \"java\", \"joven\", \"joven\", \"joven\", \"jueves\", \"jueves\", \"jueves\", \"julio\", \"julio\", \"julio\", \"justicia\", \"justicia\", \"justicia\", \"kahlo\", \"kahlo\", \"kerosene\", \"kil\\u00f3metros\", \"kil\\u00f3metros\", \"kil\\u00f3metros\", \"kremlin\", \"kremlin\", \"kremlin\", \"laden\", \"laden\", \"laden\", \"laserena\", \"lasultimas\", \"legumbres\", \"ley\", \"ley\", \"ley\", \"lguc\", \"lguc\", \"lguc\", \"liceo\", \"liceo\", \"liceo\", \"licuado\", \"licuado\", \"licuado\", \"lider\", \"lider\", \"lider\", \"litro\", \"litro\", \"litro\", \"l\\u00ednea\", \"l\\u00ednea\", \"l\\u00ednea\", \"maduro\", \"maduro\", \"maduro\", \"manaa\", \"ma\\u00edz\", \"ma\\u00edz\", \"ma\\u00edz\", \"medidores\", \"medidores\", \"medidores\", \"mepco\", \"mes\", \"mes\", \"mes\", \"meses\", \"meses\", \"meses\", \"mil\", \"mil\", \"mil\", \"millones\", \"millones\", \"millones\", \"ministerio\", \"ministerio\", \"ministerio\", \"ministro\", \"ministro\", \"ministro\", \"minvu\", \"minvu\", \"minvu\", \"mmb\", \"mmb\", \"mmb\", \"montrose\", \"montrose\", \"montrose\", \"mostazal\", \"mostazal\", \"mostazal\", \"moto\", \"muerte\", \"muerte\", \"muerte\", \"mujer\", \"mujer\", \"mujer\", \"mujeres\", \"mujeres\", \"mujeres\", \"municipalidad\", \"municipalidad\", \"municipalidad\", \"mural\", \"mural\", \"nacional\", \"nacional\", \"nacional\", \"nataly\", \"nataly\", \"nicol\\u00e1s\", \"nicol\\u00e1s\", \"nicol\\u00e1s\", \"ni\\u00f1os\", \"ni\\u00f1os\", \"ni\\u00f1os\", \"octanos\", \"octanos\", \"octanos\", \"ormuz\", \"ormuz\", \"ormuz\", \"oyarce\", \"oyarce\", \"oyarce\", \"padre\", \"padre\", \"padre\", \"parafina\", \"patagonia\", \"patagonia\", \"patagonia\", \"patente\", \"patente\", \"patente\", \"pa\\u00eds\", \"pa\\u00eds\", \"pa\\u00eds\", \"pdt\", \"pdt\", \"pdt\", \"persona\", \"persona\", \"persona\", \"personas\", \"personas\", \"personas\", \"placa\", \"placa\", \"placa\", \"planes\", \"planes\", \"planes\", \"poblaci\\u00f3n\", \"poblaci\\u00f3n\", \"poblaci\\u00f3n\", \"polic\\u00eda\", \"polic\\u00eda\", \"polic\\u00eda\", \"pol\\u00edtica\", \"pol\\u00edtica\", \"pol\\u00edtica\", \"post\", \"post\", \"post\", \"precios\", \"precios\", \"precios\", \"presidente\", \"presidente\", \"presidente\", \"primaria\", \"primaria\", \"primaria\", \"proceso\", \"proceso\", \"proceso\", \"programa\", \"programa\", \"programa\", \"proyecto\", \"proyecto\", \"proyecto\", \"queilen\", \"queilen\", \"queilen\", \"quezada\", \"qura\", \"qura\", \"qura\", \"regi\\u00f3n\", \"regi\\u00f3n\", \"regi\\u00f3n\", \"remolcado\", \"remolcado\", \"repletaron\", \"retomar\\u00e1n\", \"rohani\", \"rohani\", \"rohani\", \"rotonda\", \"rotonda\", \"rotonda\", \"saab\", \"saab\", \"saab\", \"salgan\", \"salud\", \"salud\", \"salud\", \"sam\", \"sam\", \"sam\", \"santiago\", \"santiago\", \"santiago\", \"saya\", \"saya\", \"saya\", \"sco\", \"secadora\", \"secadora\", \"secadora\", \"secar\", \"secar\", \"secar\", \"semana\", \"semana\", \"semana\", \"sename\", \"sename\", \"sename\", \"serpiente\", \"serpiente\", \"sincicial\", \"sincicial\", \"sindicato\", \"sindicato\", \"sindicato\", \"sismo\", \"sismo\", \"sismo\", \"situaci\\u00f3n\", \"situaci\\u00f3n\", \"situaci\\u00f3n\", \"solidario\", \"solidario\", \"solidario\", \"stena\", \"stena\", \"stena\", \"suave\", \"suave\", \"suave\", \"sufrir\\u00e1\", \"sur\", \"sur\", \"sur\", \"the\", \"the\", \"the\", \"this\", \"this\", \"this\", \"tibia\", \"tibia\", \"tibia\", \"tiburones\", \"tiburones\", \"tiburones\", \"timber\", \"trabajadores\", \"trabajadores\", \"trabajadores\", \"transporte\", \"transporte\", \"transporte\", \"trump\", \"trump\", \"trump\", \"tsunami\", \"tsunami\", \"tsunami\", \"ubic\\u00e1ndose\", \"ubic\\u00e1ndose\", \"ubic\\u00e1ndose\", \"unidos\", \"unidos\", \"unidos\", \"universidad\", \"universidad\", \"universidad\", \"usgs\", \"variaci\\u00f3n\", \"variaci\\u00f3n\", \"variaci\\u00f3n\", \"venezuela\", \"venezuela\", \"venezuela\", \"vida\", \"vida\", \"vida\", \"viralizaci\\u00f3n\"]}, \"R\": 30, \"lambda.step\": 0.01, \"plot.opts\": {\"xlab\": \"PC1\", \"ylab\": \"PC2\"}, \"topic.order\": [3, 2, 1]};\n",
              "\n",
              "function LDAvis_load_lib(url, callback){\n",
              "  var s = document.createElement('script');\n",
              "  s.src = url;\n",
              "  s.async = true;\n",
              "  s.onreadystatechange = s.onload = callback;\n",
              "  s.onerror = function(){console.warn(\"failed to load library \" + url);};\n",
              "  document.getElementsByTagName(\"head\")[0].appendChild(s);\n",
              "}\n",
              "\n",
              "if(typeof(LDAvis) !== \"undefined\"){\n",
              "   // already loaded: just create the visualization\n",
              "   !function(LDAvis){\n",
              "       new LDAvis(\"#\" + \"ldavis_el4831400206500653601571255169\", ldavis_el4831400206500653601571255169_data);\n",
              "   }(LDAvis);\n",
              "}else if(typeof define === \"function\" && define.amd){\n",
              "   // require.js is available: use it to load d3/LDAvis\n",
              "   require.config({paths: {d3: \"https://cdnjs.cloudflare.com/ajax/libs/d3/3.5.5/d3.min\"}});\n",
              "   require([\"d3\"], function(d3){\n",
              "      window.d3 = d3;\n",
              "      LDAvis_load_lib(\"https://cdn.rawgit.com/bmabey/pyLDAvis/files/ldavis.v1.0.0.js\", function(){\n",
              "        new LDAvis(\"#\" + \"ldavis_el4831400206500653601571255169\", ldavis_el4831400206500653601571255169_data);\n",
              "      });\n",
              "    });\n",
              "}else{\n",
              "    // require.js not available: dynamically load d3 & LDAvis\n",
              "    LDAvis_load_lib(\"https://cdnjs.cloudflare.com/ajax/libs/d3/3.5.5/d3.min.js\", function(){\n",
              "         LDAvis_load_lib(\"https://cdn.rawgit.com/bmabey/pyLDAvis/files/ldavis.v1.0.0.js\", function(){\n",
              "                 new LDAvis(\"#\" + \"ldavis_el4831400206500653601571255169\", ldavis_el4831400206500653601571255169_data);\n",
              "            })\n",
              "         });\n",
              "}\n",
              "</script>"
            ],
            "text/plain": [
              "<IPython.core.display.HTML object>"
            ]
          },
          "metadata": {},
          "execution_count": 73
        }
      ]
    }
  ]
}