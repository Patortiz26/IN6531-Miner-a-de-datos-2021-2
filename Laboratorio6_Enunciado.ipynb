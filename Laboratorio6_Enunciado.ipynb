{
  "nbformat": 4,
  "nbformat_minor": 0,
  "metadata": {
    "kernelspec": {
      "display_name": "Python 3",
      "language": "python",
      "name": "python3"
    },
    "language_info": {
      "codemirror_mode": {
        "name": "ipython",
        "version": 3
      },
      "file_extension": ".py",
      "mimetype": "text/x-python",
      "name": "python",
      "nbconvert_exporter": "python",
      "pygments_lexer": "ipython3",
      "version": "3.8.3"
    },
    "toc": {
      "base_numbering": 1,
      "nav_menu": {},
      "number_sections": true,
      "sideBar": true,
      "skip_h1_title": true,
      "title_cell": "Tabla de Contenidos",
      "title_sidebar": "Contenidos",
      "toc_cell": false,
      "toc_position": {
        "height": "calc(100% - 180px)",
        "left": "10px",
        "top": "150px",
        "width": "241.867px"
      },
      "toc_section_display": true,
      "toc_window_display": true
    },
    "varInspector": {
      "cols": {
        "lenName": 16,
        "lenType": 16,
        "lenVar": 40
      },
      "kernels_config": {
        "python": {
          "delete_cmd_postfix": "",
          "delete_cmd_prefix": "del ",
          "library": "var_list.py",
          "varRefreshCmd": "print(var_dic_list())"
        },
        "r": {
          "delete_cmd_postfix": ") ",
          "delete_cmd_prefix": "rm(",
          "library": "var_list.r",
          "varRefreshCmd": "cat(var_dic_list()) "
        }
      },
      "types_to_exclude": [
        "module",
        "function",
        "builtin_function_or_method",
        "instance",
        "_Feature"
      ],
      "window_display": false
    },
    "colab": {
      "name": "Laboratorio6_Enunciado.ipynb",
      "provenance": [],
      "collapsed_sections": [
        "Rcjs-dd1V-1u",
        "dkyp81nkBghF",
        "THmFfYs1AhAW"
      ],
      "include_colab_link": true
    },
    "deepnote_notebook_id": "6bca2ca1-e14e-4a2d-8402-3bcc01d1af35",
    "deepnote": {},
    "deepnote_execution_queue": []
  },
  "cells": [
    {
      "cell_type": "markdown",
      "metadata": {
        "id": "view-in-github",
        "colab_type": "text"
      },
      "source": [
        "<a href=\"https://colab.research.google.com/github/Patortiz26/IN6531-Miner-a-de-datos-2021-2/blob/main/Laboratorio6_Enunciado.ipynb\" target=\"_parent\"><img src=\"https://colab.research.google.com/assets/colab-badge.svg\" alt=\"Open In Colab\"/></a>"
      ]
    },
    {
      "cell_type": "markdown",
      "metadata": {
        "id": "XUZ1dFPHzAHl",
        "cell_id": "00000-d883b314-09da-429e-a3a3-57745182fbf1",
        "deepnote_cell_type": "markdown"
      },
      "source": [
        "<h1><center>Laboratorio 6: La desperación de Mr. Lepin 🐼</center></h1>\n",
        "\n",
        "<center><strong>MDS7202: Laboratorio de Programación Científica para Ciencia de Datos</strong></center>"
      ]
    },
    {
      "cell_type": "markdown",
      "metadata": {
        "id": "UD8X1uhGzAHq",
        "cell_id": "00001-311235ca-1e52-4b99-a8ed-ecc0efb3fddd",
        "deepnote_cell_type": "markdown"
      },
      "source": [
        "### Cuerpo Docente:\n",
        "\n",
        "- Profesor: Pablo Badilla\n",
        "- Auxiliar: Ignacio Meza D.\n",
        "- Ayudante: Constanza Peña"
      ]
    },
    {
      "cell_type": "markdown",
      "metadata": {
        "id": "tXflExjqzAHr",
        "cell_id": "00002-6c6c932b-c2ca-4e5c-8f35-4bcf76e99ae9",
        "deepnote_cell_type": "markdown"
      },
      "source": [
        "### Equipo:\n",
        "\n",
        "- Patricio Ortiz\n"
      ]
    },
    {
      "cell_type": "markdown",
      "metadata": {
        "id": "AD-V0bbZzAHr",
        "cell_id": "00003-78f31a0b-b9ea-415b-b6b1-c31406be9140",
        "deepnote_cell_type": "markdown"
      },
      "source": [
        "### **Link de repositorio de GitHub:** https://github.com/Patortiz26/Laboratorio-de-Programaci-n`"
      ]
    },
    {
      "cell_type": "markdown",
      "metadata": {
        "id": "EcnsiQMkzAHr",
        "cell_id": "00004-813a4b9f-ec89-4439-9b6e-4d6558759415",
        "deepnote_cell_type": "markdown"
      },
      "source": [
        "### Indice \n",
        "\n",
        "1. [Temas a tratar](#Temas-a-tratar:)\n",
        "3. [Descripcción del laboratorio](#Descripción-del-laboratorio.)\n",
        "4. [Desarrollo](#Desarrollo)"
      ]
    },
    {
      "cell_type": "markdown",
      "metadata": {
        "id": "6uBLPj1PzAHs",
        "cell_id": "00005-30720d0a-a8ea-4112-8a56-7830fced4c1e",
        "deepnote_cell_type": "markdown"
      },
      "source": [
        "# Temas a tratar\n",
        "\n",
        "- Aplicar Pandas para obtener características de un DataFrame.\n",
        "- Aplicar Pipelines.\n",
        "- Aplicar Clusters sobre un conjunto de datos.\n",
        "\n",
        "## Reglas:\n",
        "\n",
        "- Fecha de entrega: 12/11/2021\n",
        "- **Grupos de 2 personas**\n",
        "- **Ausentes** deberán realizar la actividad solos. \n",
        "- Cualquier duda fuera del horario de clases al foro. Mensajes al equipo docente serán respondidos por este medio.\n",
        "- Prohibidas las copias. \n",
        "- Pueden usar cualquer matrial del curso que estimen conveniente.\n",
        "\n",
        "### Objetivos principales del laboratorio\n",
        "\n",
        "- Comprender y aprovechar las ventajas que nos ofrece la librería `pandas` con respecto a trabajar en Python 'puro'.\n",
        "- Crear nuevas características para entrenar un modelo de clustering.\n",
        "- Comprender como aplicar pipelines de Scikit-Learn para generar procesos más limpios.\n",
        "\n",
        "El laboratorio deberá ser desarrollado sin el uso indiscriminado de iteradores nativos de python (aka \"for\", \"while\"). La idea es que aprendan a exprimir al máximo las funciones optimizadas que nos entrega `numpy`, las cuales vale mencionar, son bastante más eficientes que los iteradores nativos sobre arreglos (*o tensores*)."
      ]
    },
    {
      "cell_type": "markdown",
      "metadata": {
        "id": "wrG4gYabzAHs",
        "cell_id": "00006-0d097eb1-85d1-4f26-8119-593d58e99a79",
        "deepnote_cell_type": "markdown"
      },
      "source": [
        "## Descripción del laboratorio."
      ]
    },
    {
      "cell_type": "markdown",
      "metadata": {
        "id": "MhISwri4zAHy",
        "cell_id": "00007-b3b99a7c-5696-433b-a20c-3c6acdd9eb76",
        "deepnote_cell_type": "markdown"
      },
      "source": [
        "### Importamos librerias utiles 😸"
      ]
    },
    {
      "cell_type": "code",
      "metadata": {
        "ExecuteTime": {
          "end_time": "2021-03-29T00:08:16.884674Z",
          "start_time": "2021-03-29T00:08:16.349846Z"
        },
        "id": "uyc33dKdzAHy",
        "deepnote_to_be_reexecuted": false,
        "source_hash": "a3741fd5",
        "execution_start": 1635469788590,
        "execution_millis": 8517,
        "cell_id": "00008-147c370f-05a3-40e6-88ce-931f568c02ba",
        "deepnote_cell_type": "code"
      },
      "source": [
        "# Libreria Core del lab.\n",
        "import numpy as np\n",
        "import pandas as pd\n",
        "import os\n",
        "import datetime\n",
        "from IPython.display import HTML\n",
        "\n",
        "# Libreria para plotear (En colab esta desactualizado plotly)\n",
        "# !pip install --upgrade plotly\n",
        "import plotly.express as px\n",
        "import plotly.graph_objects as go\n",
        "\n",
        "# Librerias utiles\n",
        "from sklearn.manifold import TSNE\n",
        "from sklearn.cluster import KMeans\n",
        "from sklearn.base import BaseEstimator, TransformerMixin\n",
        "from sklearn.model_selection import train_test_split \n",
        "from sklearn.pipeline import Pipeline\n",
        "from sklearn.compose import ColumnTransformer\n",
        "from sklearn.preprocessing import FunctionTransformer"
      ],
      "execution_count": 1,
      "outputs": []
    },
    {
      "cell_type": "code",
      "metadata": {
        "id": "gQ0-zPV4NNrq",
        "deepnote_to_be_reexecuted": false,
        "source_hash": "c60dc4a7",
        "execution_start": 1635165625274,
        "execution_millis": 7,
        "cell_id": "00009-8a73dd07-b0c0-471a-8db1-e539107fe785",
        "deepnote_cell_type": "code",
        "colab": {
          "base_uri": "https://localhost:8080/"
        },
        "outputId": "c0f62b30-4f6a-43cc-bdff-3be2682bc50f"
      },
      "source": [
        "# Si usted está utilizando Colabolatory le puede ser útil este código para cargar los archivos.\n",
        "try:\n",
        "    from google.colab import drive\n",
        "    drive.mount(\"/content/drive\")\n",
        "    path = '/content/drive/My Drive/Colab Notebooks/MDS7202 - Laboratorio de programación/Lab 6'\n",
        "    os.chdir(path)\n",
        "except: \n",
        "    print('Ignorando conexión drive-colab')"
      ],
      "execution_count": 2,
      "outputs": [
        {
          "output_type": "stream",
          "name": "stdout",
          "text": [
            "Drive already mounted at /content/drive; to attempt to forcibly remount, call drive.mount(\"/content/drive\", force_remount=True).\n"
          ]
        }
      ]
    },
    {
      "cell_type": "markdown",
      "metadata": {
        "tags": [],
        "cell_id": "00010-56ea896a-98bf-4f18-b240-c17333fbccf3",
        "deepnote_cell_type": "markdown",
        "id": "UAL4cuPHqwqj"
      },
      "source": [
        "<p align=\"center\"><iframe width=\"560\" height=\"315\" src=\"https://www.youtube.com/embed/MW4d8_LLYp8?rel=0&amp;controls=0&amp;showinfo=0\" frameborder=\"1\" allowfullscreen></iframe></p>"
      ]
    },
    {
      "cell_type": "markdown",
      "metadata": {
        "id": "QDwIXTh7bK_A",
        "cell_id": "00011-44ff4b7f-0721-4a5a-91cf-0fed38291eb2",
        "deepnote_cell_type": "markdown"
      },
      "source": [
        "# Segmentación de Clientes en Tienda de Retail 🛍️"
      ]
    },
    {
      "cell_type": "markdown",
      "metadata": {
        "tags": [],
        "cell_id": "00012-3f997299-ad75-4cd4-80b4-839d33c07b2a",
        "deepnote_cell_type": "markdown",
        "id": "k6b1NiCkqwql"
      },
      "source": [
        "<p align=\"center\">\n",
        "  <img width=300 src=\"https://s1.eestatic.com/2018/04/14/social/la_jungla_-_social_299733421_73842361_854x640.jpg\">\n",
        "</p>"
      ]
    },
    {
      "cell_type": "markdown",
      "metadata": {
        "tags": [],
        "cell_id": "00013-21aecb33-d28d-4fcb-93db-67307326ab2b",
        "deepnote_cell_type": "markdown",
        "id": "veIyVQvgqwqm"
      },
      "source": [
        "## 1.1 Cargar Dataset"
      ]
    },
    {
      "cell_type": "markdown",
      "metadata": {
        "tags": [],
        "cell_id": "00014-bfeb4dba-666e-4613-af4b-c609a72df95e",
        "deepnote_cell_type": "markdown",
        "id": "fHRjBe7Uqwqm"
      },
      "source": [
        "Mr. Lepin, en una nueva reunión, le cuenta a ud y su equipo que los resultados derivados del análisis exploratorio de dato presentaron una gran utilidad para la empresa y que tiene un gran entusiasmo por continuar trabajando con ustedes.\n",
        "Es por esto, que Mr. Lepin les pide que cargue y visualicen algunas de las filas que componen el Dataset.\n",
        "A continuación un extracto de lo parlamentado en la reunión:\n",
        "\n",
        "    - Usted: Es un gran logro para nuestro equipo que usted haya encontrado excelente el EDA. ¿Qué tiene en mente ahora?\n",
        "    - Mr. Lepin: Resulta que hace algún tiempo, mientras tomaba un mojito en una reunión de gerentes en Panamá, oí a un *chato* acerca de **LRMFP**, que es un modelo que permite personificar a los clientes a través de la farbicación de distintos atributos que describen a los clientes. Lo encontré es-tu-pendo ñatito. \n",
        "    - Usted: Ehh bueno. Investigaremos acerca de este modelo y veremos lo que podemos hacer.\n",
        "\n",
        "Por ende, su siguiente tarea es calcular **LRMFP** sobre cada cliente y luego hacer un análisis de las características generadas. Para esto, el área de ventas les entrega un nuevo archivo llamado `online_retail_II_cleaned.pickle`, quien posee los datos del DataFrame original limpios y listos para obtener las características solicitadas por Mr. Lepin."
      ]
    },
    {
      "cell_type": "code",
      "metadata": {
        "id": "7FNOu-CvjV5m",
        "colab": {
          "base_uri": "https://localhost:8080/",
          "height": 204
        },
        "deepnote_to_be_reexecuted": false,
        "source_hash": "d52b246c",
        "execution_start": 1635469797118,
        "execution_millis": 466,
        "cell_id": "00015-9f304f85-cc91-43d5-b9e0-e16decca6cd0",
        "deepnote_cell_type": "code",
        "outputId": "bc0834c3-b932-4120-9e23-06901c79f5ff"
      },
      "source": [
        "df_retail = pd.read_pickle(\"online_retail_II_cleaned.pickle\")\n",
        "df_retail = df_retail.astype(\n",
        "    {\n",
        "        \"Invoice\": \"category\",\n",
        "        \"StockCode\": \"category\",\n",
        "        \"Description\": \"category\",\n",
        "        \"Description\": str,\n",
        "        \"Customer ID\": \"category\",\n",
        "        \"Country\": \"category\"\n",
        "    }\n",
        ")\n",
        "\n",
        "df_retail.head()"
      ],
      "execution_count": 3,
      "outputs": [
        {
          "output_type": "execute_result",
          "data": {
            "text/html": [
              "<div>\n",
              "<style scoped>\n",
              "    .dataframe tbody tr th:only-of-type {\n",
              "        vertical-align: middle;\n",
              "    }\n",
              "\n",
              "    .dataframe tbody tr th {\n",
              "        vertical-align: top;\n",
              "    }\n",
              "\n",
              "    .dataframe thead th {\n",
              "        text-align: right;\n",
              "    }\n",
              "</style>\n",
              "<table border=\"1\" class=\"dataframe\">\n",
              "  <thead>\n",
              "    <tr style=\"text-align: right;\">\n",
              "      <th></th>\n",
              "      <th>Invoice</th>\n",
              "      <th>StockCode</th>\n",
              "      <th>Description</th>\n",
              "      <th>Quantity</th>\n",
              "      <th>InvoiceDate</th>\n",
              "      <th>Price</th>\n",
              "      <th>Customer ID</th>\n",
              "      <th>Country</th>\n",
              "    </tr>\n",
              "  </thead>\n",
              "  <tbody>\n",
              "    <tr>\n",
              "      <th>0</th>\n",
              "      <td>489434</td>\n",
              "      <td>85048</td>\n",
              "      <td>15CM CHRISTMAS GLASS BALL 20 LIGHTS</td>\n",
              "      <td>12</td>\n",
              "      <td>2009-12-01 07:45:00</td>\n",
              "      <td>6.95</td>\n",
              "      <td>13085.0</td>\n",
              "      <td>United Kingdom</td>\n",
              "    </tr>\n",
              "    <tr>\n",
              "      <th>1</th>\n",
              "      <td>489434</td>\n",
              "      <td>79323P</td>\n",
              "      <td>PINK CHERRY LIGHTS</td>\n",
              "      <td>12</td>\n",
              "      <td>2009-12-01 07:45:00</td>\n",
              "      <td>6.75</td>\n",
              "      <td>13085.0</td>\n",
              "      <td>United Kingdom</td>\n",
              "    </tr>\n",
              "    <tr>\n",
              "      <th>2</th>\n",
              "      <td>489434</td>\n",
              "      <td>79323W</td>\n",
              "      <td>WHITE CHERRY LIGHTS</td>\n",
              "      <td>12</td>\n",
              "      <td>2009-12-01 07:45:00</td>\n",
              "      <td>6.75</td>\n",
              "      <td>13085.0</td>\n",
              "      <td>United Kingdom</td>\n",
              "    </tr>\n",
              "    <tr>\n",
              "      <th>3</th>\n",
              "      <td>489434</td>\n",
              "      <td>22041</td>\n",
              "      <td>RECORD FRAME 7\" SINGLE SIZE</td>\n",
              "      <td>48</td>\n",
              "      <td>2009-12-01 07:45:00</td>\n",
              "      <td>2.10</td>\n",
              "      <td>13085.0</td>\n",
              "      <td>United Kingdom</td>\n",
              "    </tr>\n",
              "    <tr>\n",
              "      <th>4</th>\n",
              "      <td>489434</td>\n",
              "      <td>21232</td>\n",
              "      <td>STRAWBERRY CERAMIC TRINKET BOX</td>\n",
              "      <td>24</td>\n",
              "      <td>2009-12-01 07:45:00</td>\n",
              "      <td>1.25</td>\n",
              "      <td>13085.0</td>\n",
              "      <td>United Kingdom</td>\n",
              "    </tr>\n",
              "  </tbody>\n",
              "</table>\n",
              "</div>"
            ],
            "text/plain": [
              "  Invoice StockCode  ... Customer ID         Country\n",
              "0  489434     85048  ...     13085.0  United Kingdom\n",
              "1  489434    79323P  ...     13085.0  United Kingdom\n",
              "2  489434    79323W  ...     13085.0  United Kingdom\n",
              "3  489434     22041  ...     13085.0  United Kingdom\n",
              "4  489434     21232  ...     13085.0  United Kingdom\n",
              "\n",
              "[5 rows x 8 columns]"
            ]
          },
          "metadata": {},
          "execution_count": 3
        }
      ]
    },
    {
      "cell_type": "markdown",
      "metadata": {
        "tags": [],
        "cell_id": "00016-245c3eeb-d33d-4da1-b738-a91d4e055fa1",
        "deepnote_cell_type": "markdown",
        "id": "7QDicsBmqwqo"
      },
      "source": [
        "## 1.2 Creación de nuevas Caracteristicas [2 Puntos] "
      ]
    },
    {
      "cell_type": "markdown",
      "metadata": {
        "tags": [],
        "cell_id": "00017-011b89ed-d830-4f8e-9e4d-2c8d156651c3",
        "deepnote_cell_type": "markdown",
        "id": "E30jxb3pqwqp"
      },
      "source": [
        "Como ya se les comento, Mr. Lepin esta interesado en obtener las características **LRMFP**, para esto les señala que estas características se construyen en base a las siguientes definiciones:\n",
        "\n",
        "- **Length (L)**: Intervalo de tiempo, en días, entre la primera y la última visita del cliente. Mientras mas grande sea el valor, mas fiel es el cliente.\n",
        "- **Recency (R)**: Indica la actualidad de la interacción de un cliente con la empresa, y da información sobre la tendencia a repetir la compra. Se define como: \n",
        "$$Recency(n)=\\dfrac{1}{n} \\sum^n_{i=1} date\\_diff(t_{fecha final}, t_{m-i+1})$$\n",
        "\n",
        " Donde $date\\_diff$ representa la diferencia en días entre la fecha de finalización del periodo de observación ($t_{fecha final}$), y la fecha de una visita del cliente cercana a $t_{fecha final}$, $t_{m-i+1}; t_{m}$ es la última visita del cliente; y n es el número de visitas recientes del cliente consideradas.\n",
        "\n",
        "- **Monetary (M)**: El término \"monetario\" se refiere a la cantidad media de dinero gastada por cada visita del cliente durante el período de observación y refleja la contribución del cliente a los ingresos de la empresa.\n",
        "\n",
        "- **Frequency (F)**: Se refiere al número total de visitas del cliente durante el periodo de observación. Cuanto mayor sea la frecuencia, mayor será la fidelidad del cliente. \n",
        "\n",
        "- **Periodicity (P)**: Representa si los clientes visitan las tiendas con regularidad.\n",
        "\n",
        "$$Periodicity(n)=std(IVT_1, ..., IVT_n)$$\n",
        "\n",
        "&nbsp;&nbsp; &nbsp;&nbsp;&nbsp;&nbsp;&nbsp;&nbsp;Donde $IVT$ denota el tiempo entre visitas y n representa el número de valores de tiempo entre visitas de un cliente.\n",
        " \n",
        "\n",
        "$$IVT_i=date\\_diff(t_{i+1},t)$$\n",
        "\n",
        "En base a las definiciones señaladas, diseñe una función que permita obtener las características **LRMFP** recibiendo un DataFrame como entrada. Para esto, no estará permitido el uso de iteradores, utilice todas las herramientas que les ofrece `pandas` para realizar esto.\n",
        "\n",
        "Una referencia que le puede ser útil es el [documento original](https://www.researchgate.net/publication/315979555_LRFMP_model_for_customer_segmentation_in_the_grocery_retail_industry_a_case_study) en donde se propone este método.\n",
        "\n",
        "**Nota:** Para la $fechafinal$ utilice la fecha máxima del dataset más 1 día."
      ]
    },
    {
      "cell_type": "markdown",
      "metadata": {
        "tags": [],
        "cell_id": "00018-24bac8c8-bd63-41ac-8e0f-de55e02c56f0",
        "deepnote_cell_type": "markdown",
        "id": "2KR0_CyUqwqp"
      },
      "source": [
        "**Ejemplo de Resultado Esperado:**\n",
        "\n",
        "| Customer ID | Length | Recency | Frequency | Monetary | Periodicity |\n",
        "|------------:|-------:|--------:|----------:|---------:|------------:|\n",
        "|   12346.0   |    294 |      67 |        46 |   -64.68 |        37.0 |\n",
        "|   12347.0   |     37 |       3 |        71 |  1323.32 |         0.0 |\n",
        "|   12349.0   |    327 |      43 |       107 |  2646.99 |        78.0 |\n",
        "|   12352.0   |     16 |      11 |        18 |   343.80 |         0.0 |\n",
        "|   12356.0   |     44 |      16 |        84 |  3562.25 |        12.0 |"
      ]
    },
    {
      "cell_type": "markdown",
      "metadata": {
        "tags": [],
        "cell_id": "00019-0bbd888f-87e7-49f7-a5d5-81564c13fe16",
        "deepnote_cell_type": "markdown",
        "id": "sfZR4Lptqwqq"
      },
      "source": [
        "**Respuesta:**"
      ]
    },
    {
      "cell_type": "code",
      "metadata": {
        "colab": {
          "base_uri": "https://localhost:8080/",
          "height": 110
        },
        "id": "C3xzUTA4uofN",
        "outputId": "181b433e-bdb7-4b72-b9c6-780186160f34"
      },
      "source": [
        "#PRIMERO TRABAJAMOS UN POCO LA BASE ORIGINAL\n",
        "\n",
        "#Leemos la columna InvoiceDate como datetime y luego nos quedamos con la fecha (los calculos se hace sobre la diferencia en diías)\n",
        "df_retail.InvoiceDate = pd.to_datetime(df_retail.InvoiceDate).dt.date\n",
        "\n",
        "#Agregamos una columna con el precio total de la observacion (P*Q)\n",
        "df_retail['Total Price'] = df_retail.Quantity * df_retail.Price\n",
        "\n",
        "#Agregamos la columna deltaDate que marca la diferencia con el día actual\n",
        "now = df_retail.InvoiceDate.max() + datetime.timedelta(1) #fecha maxima mas un día\n",
        "df_retail['deltaDate'] = now - df_retail.InvoiceDate      #diferencia entre dias\n",
        "df_retail['deltaDate'] = df_retail['deltaDate'].dt.days   #dejamos el valor entero de deltadate\n",
        "\n",
        "df_retail.head(2)"
      ],
      "execution_count": 4,
      "outputs": [
        {
          "output_type": "execute_result",
          "data": {
            "text/html": [
              "<div>\n",
              "<style scoped>\n",
              "    .dataframe tbody tr th:only-of-type {\n",
              "        vertical-align: middle;\n",
              "    }\n",
              "\n",
              "    .dataframe tbody tr th {\n",
              "        vertical-align: top;\n",
              "    }\n",
              "\n",
              "    .dataframe thead th {\n",
              "        text-align: right;\n",
              "    }\n",
              "</style>\n",
              "<table border=\"1\" class=\"dataframe\">\n",
              "  <thead>\n",
              "    <tr style=\"text-align: right;\">\n",
              "      <th></th>\n",
              "      <th>Invoice</th>\n",
              "      <th>StockCode</th>\n",
              "      <th>Description</th>\n",
              "      <th>Quantity</th>\n",
              "      <th>InvoiceDate</th>\n",
              "      <th>Price</th>\n",
              "      <th>Customer ID</th>\n",
              "      <th>Country</th>\n",
              "      <th>Total Price</th>\n",
              "      <th>deltaDate</th>\n",
              "    </tr>\n",
              "  </thead>\n",
              "  <tbody>\n",
              "    <tr>\n",
              "      <th>0</th>\n",
              "      <td>489434</td>\n",
              "      <td>85048</td>\n",
              "      <td>15CM CHRISTMAS GLASS BALL 20 LIGHTS</td>\n",
              "      <td>12</td>\n",
              "      <td>2009-12-01</td>\n",
              "      <td>6.95</td>\n",
              "      <td>13085.0</td>\n",
              "      <td>United Kingdom</td>\n",
              "      <td>83.4</td>\n",
              "      <td>374</td>\n",
              "    </tr>\n",
              "    <tr>\n",
              "      <th>1</th>\n",
              "      <td>489434</td>\n",
              "      <td>79323P</td>\n",
              "      <td>PINK CHERRY LIGHTS</td>\n",
              "      <td>12</td>\n",
              "      <td>2009-12-01</td>\n",
              "      <td>6.75</td>\n",
              "      <td>13085.0</td>\n",
              "      <td>United Kingdom</td>\n",
              "      <td>81.0</td>\n",
              "      <td>374</td>\n",
              "    </tr>\n",
              "  </tbody>\n",
              "</table>\n",
              "</div>"
            ],
            "text/plain": [
              "  Invoice StockCode  ... Total Price  deltaDate\n",
              "0  489434     85048  ...        83.4        374\n",
              "1  489434    79323P  ...        81.0        374\n",
              "\n",
              "[2 rows x 10 columns]"
            ]
          },
          "metadata": {},
          "execution_count": 4
        }
      ]
    },
    {
      "cell_type": "code",
      "metadata": {
        "tags": [],
        "cell_id": "00020-1a24ff7c-fd2f-416e-8275-2107b7dc2a78",
        "deepnote_cell_type": "code",
        "id": "ra6D1PTWqwqq"
      },
      "source": [
        "def custom_features(dataframe_in):\n",
        "  #Primero agrupamos las facturas\n",
        "  group = dataframe_in.groupby('Invoice')     #Se agrupa el dataframe inicial por la llave 'Invoice'\n",
        "  df_ret= group.agg({'Customer ID': 'first',  #Nos quedamos el primer customer id (nos podriamos quedar con cualquiera)\n",
        "                      'Total Price': 'sum',   #Suma del monto total gastado (por factura)\n",
        "                      'InvoiceDate': 'first', #Se guarda la fecha de la factura\n",
        "                      'deltaDate': 'first'})  #Idem para la columna deltaDate\n",
        "  df_ret = df_ret.reset_index()               #Reiniciamos el indice para tener la columna invoice\n",
        "\n",
        "  #Luego se agrupa a partir del dataframe anterior por cada cliente\n",
        "  group = df_ret.groupby('Customer ID')                           #Se agrupa por llave \"Customer ID\"\n",
        "\n",
        "  df_fin = group.agg({'InvoiceDate': lambda x: x.max() - x.min(), #Length: Diferencia entre ultima compra y la primera.\n",
        "                    'deltaDate': ['mean',                         #Recency: Distancia promedio entre fecha final(hoy) y cada visita\n",
        "                                  'std'] ,                        #Periodicity: Desv. estandar de la diferencia entre visitas\n",
        "                    'Invoice': 'count',                           #Frecuency: Número de visitas del cliente\n",
        "                    'Total Price': 'mean',                        #Monetary: Cantidad gastada por visita\n",
        "                    })                         \n",
        "\n",
        "  df_fin.columns = ['Length', 'Recency','Periodicity','Frecuency','Monetary'] #Cambio de nombre en las columnas\n",
        "  df_fin['Length'] = df_fin['Length'].dt.days                     #Nos quedamos solo con el valor numerico de la columna\n",
        "  df_fin['Recency'] = np.round(df_fin['Recency'])                 #Redondeamos los valores de recency\n",
        "  df_fin['Monetary'] = np.round(df_fin['Monetary'])               #Redondeamos los valores de monetary\n",
        "  df_fin['Periodicity'] = np.round(df_fin['Periodicity'])         #Redondeamos los valores de periodicity\n",
        "  df_fin = df_fin.dropna(how='any')                               #Los clientes con solo una compra arrojan valor na en periodicity, asi que se elimina la observacion.\n",
        "\n",
        "  df_fin = df_fin[['Length', 'Recency','Frecuency','Monetary','Periodicity']] #ordenamos las columnas según enunciado\n",
        "\n",
        "  return df_fin"
      ],
      "execution_count": 5,
      "outputs": []
    },
    {
      "cell_type": "code",
      "metadata": {
        "colab": {
          "base_uri": "https://localhost:8080/",
          "height": 235
        },
        "id": "30EVjhyZ8QnY",
        "outputId": "fca60e89-7d92-4720-a85c-a558cd7d373e"
      },
      "source": [
        "#Probamos la función, para comprobar que se obtiene resultado esperado\n",
        "custom_features(df_retail).head()"
      ],
      "execution_count": 6,
      "outputs": [
        {
          "output_type": "execute_result",
          "data": {
            "text/html": [
              "<div>\n",
              "<style scoped>\n",
              "    .dataframe tbody tr th:only-of-type {\n",
              "        vertical-align: middle;\n",
              "    }\n",
              "\n",
              "    .dataframe tbody tr th {\n",
              "        vertical-align: top;\n",
              "    }\n",
              "\n",
              "    .dataframe thead th {\n",
              "        text-align: right;\n",
              "    }\n",
              "</style>\n",
              "<table border=\"1\" class=\"dataframe\">\n",
              "  <thead>\n",
              "    <tr style=\"text-align: right;\">\n",
              "      <th></th>\n",
              "      <th>Length</th>\n",
              "      <th>Recency</th>\n",
              "      <th>Frecuency</th>\n",
              "      <th>Monetary</th>\n",
              "      <th>Periodicity</th>\n",
              "    </tr>\n",
              "    <tr>\n",
              "      <th>Customer ID</th>\n",
              "      <th></th>\n",
              "      <th></th>\n",
              "      <th></th>\n",
              "      <th></th>\n",
              "      <th></th>\n",
              "    </tr>\n",
              "  </thead>\n",
              "  <tbody>\n",
              "    <tr>\n",
              "      <th>12346.0</th>\n",
              "      <td>196</td>\n",
              "      <td>325.0</td>\n",
              "      <td>11</td>\n",
              "      <td>34.0</td>\n",
              "      <td>58.0</td>\n",
              "    </tr>\n",
              "    <tr>\n",
              "      <th>12347.0</th>\n",
              "      <td>37</td>\n",
              "      <td>22.0</td>\n",
              "      <td>2</td>\n",
              "      <td>662.0</td>\n",
              "      <td>26.0</td>\n",
              "    </tr>\n",
              "    <tr>\n",
              "      <th>12349.0</th>\n",
              "      <td>182</td>\n",
              "      <td>158.0</td>\n",
              "      <td>3</td>\n",
              "      <td>890.0</td>\n",
              "      <td>100.0</td>\n",
              "    </tr>\n",
              "    <tr>\n",
              "      <th>12352.0</th>\n",
              "      <td>17</td>\n",
              "      <td>20.0</td>\n",
              "      <td>2</td>\n",
              "      <td>172.0</td>\n",
              "      <td>12.0</td>\n",
              "    </tr>\n",
              "    <tr>\n",
              "      <th>12356.0</th>\n",
              "      <td>44</td>\n",
              "      <td>35.0</td>\n",
              "      <td>3</td>\n",
              "      <td>1187.0</td>\n",
              "      <td>23.0</td>\n",
              "    </tr>\n",
              "  </tbody>\n",
              "</table>\n",
              "</div>"
            ],
            "text/plain": [
              "             Length  Recency  Frecuency  Monetary  Periodicity\n",
              "Customer ID                                                   \n",
              "12346.0         196    325.0         11      34.0         58.0\n",
              "12347.0          37     22.0          2     662.0         26.0\n",
              "12349.0         182    158.0          3     890.0        100.0\n",
              "12352.0          17     20.0          2     172.0         12.0\n",
              "12356.0          44     35.0          3    1187.0         23.0"
            ]
          },
          "metadata": {},
          "execution_count": 6
        }
      ]
    },
    {
      "cell_type": "markdown",
      "metadata": {
        "tags": [],
        "cell_id": "00021-7a165a57-848e-4404-870f-cdaba339a9d8",
        "deepnote_cell_type": "markdown",
        "id": "JCVA8IAQqwqr"
      },
      "source": [
        "**Resúesta de Pauta:**"
      ]
    },
    {
      "cell_type": "markdown",
      "metadata": {
        "tags": [],
        "cell_id": "00024-d2150b7a-431a-4480-a6b3-801f31c9e464",
        "deepnote_cell_type": "markdown",
        "id": "SmBZZeAnqwqr"
      },
      "source": [
        "## 1.3 Pipelines 👷"
      ]
    },
    {
      "cell_type": "markdown",
      "metadata": {
        "tags": [],
        "cell_id": "00025-34c61ca0-c2da-4708-90a6-d8a6919da07b",
        "deepnote_cell_type": "markdown",
        "id": "UFWmqX__qwqs"
      },
      "source": [
        "Finalmente *Don Mora* le pregunta si seria posible realizar un pipeline para realizar una segmentación de los clientes con los nuevos datos generados, a lo que usted responde que **sí** y propone la utilización de k-means para la segmentación.\n",
        "\n",
        "A continuación siga los pasos requeridos para obtener la segmentación de clientes."
      ]
    },
    {
      "cell_type": "markdown",
      "metadata": {
        "tags": [],
        "cell_id": "00026-f8effaef-07fa-40a9-a9cc-1b2f7f4bc137",
        "deepnote_cell_type": "markdown",
        "id": "ePP2hXR8qwqs"
      },
      "source": [
        "### 1.3.1 Estandarizar Caracteristicas [0.5 puntos]"
      ]
    },
    {
      "cell_type": "markdown",
      "metadata": {
        "tags": [],
        "cell_id": "00027-278c72d0-3d92-448e-85a2-af5dab7d6d77",
        "deepnote_cell_type": "markdown",
        "id": "-L9A_64wqwqs"
      },
      "source": [
        "Construya una clase llamada ``MinMax()`` utilizando ``BaseEstimator`` y ``TransformerMixin`` para realizar una transformación de cada una de las columnas de un DataFrame utilizando ``ColumnTransformer()`` más tarde (tome como referencia el siguiente [enlace](https://sklearn-template.readthedocs.io/en/latest/user_guide.html#transformer)).\n",
        "\n",
        "\n",
        " Para esto considere que Min-Max escaler queda dada por la ecuación:\n",
        "\n",
        "$$MinMax = \\dfrac{x-min(x)}{max(x) - min(x)}$$\n",
        "\n",
        "Con esto buscamos que los valores que componen a las columnas se muevan en el rango de valores $[0, 1]$."
      ]
    },
    {
      "cell_type": "markdown",
      "metadata": {
        "tags": [],
        "cell_id": "00028-db77257b-6ecc-4dee-9f70-4f105e6aba42",
        "deepnote_cell_type": "markdown",
        "id": "mhwUT1pyqwqs"
      },
      "source": [
        "**Respuesta:**"
      ]
    },
    {
      "cell_type": "code",
      "metadata": {
        "tags": [],
        "cell_id": "00029-b78cc7d2-05a8-4f86-a882-02e13ae67762",
        "deepnote_cell_type": "code",
        "id": "olALqCOSqwqt"
      },
      "source": [
        "class MinMax(BaseEstimator, TransformerMixin):\n",
        "\n",
        "  def fit(self, X, y=None):\n",
        "    #Obtenemos los valores maximos y minimos de la columna a modificar\n",
        "    self.Max = X.max()\n",
        "    self.Min = X.min()\n",
        "    return self\n",
        "\n",
        "  def transform(self, X):\n",
        "    #Transformamos la variable según definicion\n",
        "    X = (X - self.Min) / (self.Max - self.Min)\n",
        "    return X"
      ],
      "execution_count": 7,
      "outputs": []
    },
    {
      "cell_type": "markdown",
      "metadata": {
        "tags": [],
        "cell_id": "00032-0ca1a5f5-1aab-4290-a8d4-b19be46f81ff",
        "deepnote_cell_type": "markdown",
        "id": "mhqtgC3mqwqt"
      },
      "source": [
        "### 1.3.2 `T-SNA` Pipeline [1.0 puntos]"
      ]
    },
    {
      "cell_type": "markdown",
      "metadata": {
        "tags": [],
        "cell_id": "00033-5056169a-b068-46d2-ad1b-8b7659ab956c",
        "deepnote_cell_type": "markdown",
        "id": "gce6jsbmqwqt"
      },
      "source": [
        "Para comenzar introduciéndose en el uso de pipeline, decide probar realizando un pipeline enfocado en la reducción de dimensionalidad y así hacer no decepcionar a Mr. Lepin con la clusterización del modelo. \n",
        "\n",
        "Configure un pipeline utilizando el algoritmo `T-SNE` sobre los datos **LRMFP**, donde, para la realización del pipeline considera los siguientes pasos:\n",
        "\n",
        "1. Como primer paso obtenga las características **LRMFP** desde el DataFrame ``df_retail_II_cleaned.pickle`` utilizando la función ``custom_features`` creada anteriormente, junto a ``FunctionTransformer()``. Considere esto como el primer paso de su pipeline.\n",
        "2. En segundo lugar usando ``ColumnTransformer()`` aplique el MinxMax scaler creado por usted sobre todas las columnas generadas en el paso anterior. \n",
        "3. Finalmente, aplique un último paso donde obtiene las 2 componentes más relevantes utilizando el algoritmo T-sne de sckit-learn.\n",
        "\n",
        "Tras aplicar las transformaciones sobre el dataset **LRMFP**, gráfique las componentes obtenidas en la reducción de dimensionalidad."
      ]
    },
    {
      "cell_type": "markdown",
      "metadata": {
        "tags": [],
        "cell_id": "00034-eb18fbe8-72dd-496b-9f30-16cfb3ab5558",
        "deepnote_cell_type": "markdown",
        "id": "to8716ynqwqu"
      },
      "source": [
        "**Respuesta:**"
      ]
    },
    {
      "cell_type": "code",
      "metadata": {
        "tags": [],
        "cell_id": "00035-8231e7d2-13c6-45ec-9b9d-e9ecc8c27d94",
        "deepnote_cell_type": "code",
        "id": "3v-k38mrqwqu",
        "colab": {
          "base_uri": "https://localhost:8080/",
          "height": 541
        },
        "outputId": "f2a43de4-aee5-40e3-a1fc-39b95be46942"
      },
      "source": [
        "#Creamos Pipeline\n",
        "pipe_1 = Pipeline(steps=[('Transformador', FunctionTransformer(custom_features)), #Primero se transforma el dataframe original \"df_retail\" según indicaciones de P1\n",
        "                       ('Escalador', ColumnTransformer(transformers=[('MinMax', MinMax(),['Length', 'Recency', 'Frecuency', 'Monetary', 'Periodicity'])])), #Luego escalamos todas las columnas\n",
        "                       ('Extractor', TSNE())]) #Finalmente se aplica TSNE sobre los datos escalados\n",
        "\n",
        "#Creamos un dataframe con los datos generados por el pipeline\n",
        "df_2d = pd.DataFrame(data = pipe_1.fit_transform(df_retail),   #Se ejecuta el pipeline y se ingresa el resultado como la data\n",
        "                     columns = ['Dimension_x','Dimension_y'])  #Se nombran las columnas\n",
        "\n",
        "fig = px.scatter(df_2d, x=\"Dimension_x\", y=\"Dimension_y\")     #Creamos el objeto a plotear\n",
        "fig.show() #Ploteamos"
      ],
      "execution_count": 8,
      "outputs": [
        {
          "output_type": "display_data",
          "data": {
            "text/html": [
              "<html>\n",
              "<head><meta charset=\"utf-8\" /></head>\n",
              "<body>\n",
              "    <div>\n",
              "            <script src=\"https://cdnjs.cloudflare.com/ajax/libs/mathjax/2.7.5/MathJax.js?config=TeX-AMS-MML_SVG\"></script><script type=\"text/javascript\">if (window.MathJax) {MathJax.Hub.Config({SVG: {font: \"STIX-Web\"}});}</script>\n",
              "                <script type=\"text/javascript\">window.PlotlyConfig = {MathJaxConfig: 'local'};</script>\n",
              "        <script src=\"https://cdn.plot.ly/plotly-latest.min.js\"></script>    \n",
              "            <div id=\"4a96b8ea-b7db-4d55-8657-11e3ba5d4488\" class=\"plotly-graph-div\" style=\"height:525px; width:100%;\"></div>\n",
              "            <script type=\"text/javascript\">\n",
              "                \n",
              "                    window.PLOTLYENV=window.PLOTLYENV || {};\n",
              "                    \n",
              "                if (document.getElementById(\"4a96b8ea-b7db-4d55-8657-11e3ba5d4488\")) {\n",
              "                    Plotly.newPlot(\n",
              "                        '4a96b8ea-b7db-4d55-8657-11e3ba5d4488',\n",
              "                        [{\"hoverlabel\": {\"namelength\": 0}, \"hovertemplate\": \"Dimension_x=%{x}<br>Dimension_y=%{y}\", \"legendgroup\": \"\", \"marker\": {\"color\": \"#636efa\", \"symbol\": \"circle\"}, \"mode\": \"markers\", \"name\": \"\", \"showlegend\": false, \"type\": \"scattergl\", \"x\": [19.67269515991211, 68.90000915527344, 0.935088574886322, 77.90152740478516, 66.06159973144531, 64.41192626953125, -62.65438461303711, -35.35014724731445, -27.979448318481445, -7.935916423797607, -10.61073112487793, 41.58563995361328, -16.264575958251953, 39.88964080810547, 4.477653503417969, 69.62261199951172, 2.440347194671631, 34.04350662231445, 1.3145785331726074, 21.2332706451416, -26.904464721679688, 9.3047456741333, 60.73490905761719, -6.4285569190979, -24.780858993530273, -24.592687606811523, -36.393741607666016, 36.039066314697266, 29.706520080566406, 23.434274673461914, 62.39670181274414, 29.749374389648438, -46.152992248535156, -5.300613880157471, 70.0636978149414, 40.18073272705078, -46.797508239746094, 43.934268951416016, 24.832597732543945, 11.152633666992188, -46.15855407714844, 39.6906623840332, -43.95529556274414, -56.06031799316406, 36.88801574707031, -11.772148132324219, 63.62062072753906, 45.816837310791016, 44.81673812866211, 65.268798828125, -27.26634407043457, 44.813724517822266, 14.2511625289917, 59.308876037597656, -75.02606201171875, -56.50789260864258, -26.514245986938477, 38.805850982666016, -26.082340240478516, 36.87476348876953, -12.603048324584961, 36.76533889770508, -39.78035354614258, 6.781761169433594, -50.06741714477539, -3.0372543334960938, 47.7625732421875, -7.303761959075928, -5.233796119689941, 13.484686851501465, -6.634317874908447, 14.99906063079834, -59.913936614990234, -31.240644454956055, 18.99112892150879, 51.28263854980469, -9.200345993041992, 23.834871292114258, -28.75399398803711, -64.71696472167969, 16.343141555786133, 27.43165397644043, 66.65990447998047, -64.1478500366211, 58.86591339111328, -29.90827751159668, 46.53565216064453, 44.75063705444336, 25.281394958496094, -64.57125854492188, 55.40911865234375, 16.862323760986328, -57.59645462036133, -66.78964233398438, -2.5674290657043457, -22.695384979248047, 72.34459686279297, 57.530033111572266, -23.594411849975586, 8.103049278259277, 5.723208904266357, -60.426570892333984, 47.54974365234375, -56.70383834838867, -56.49665451049805, -4.330387115478516, -28.207548141479492, -21.603357315063477, 38.44152069091797, 65.12265014648438, -11.222245216369629, 48.2427978515625, 30.045656204223633, 53.401283264160156, 54.1873664855957, 18.461666107177734, -1.529584527015686, -3.741943836212158, -21.043920516967773, -27.161251068115234, -49.757625579833984, -21.17556381225586, -39.6413688659668, 45.194419860839844, 31.228601455688477, -16.233774185180664, 41.02494812011719, -11.561902046203613, -8.720966339111328, -30.671552658081055, -9.399218559265137, 50.242279052734375, 45.416358947753906, 26.833742141723633, -73.90682220458984, -69.58377838134766, -69.9654312133789, -64.41984558105469, 59.84410095214844, 26.90165138244629, 19.91019630432129, 43.143577575683594, 29.716161727905273, 40.56898498535156, 18.256099700927734, -56.77661895751953, -55.918983459472656, 37.71860885620117, -63.78269958496094, -54.26088333129883, 27.9158878326416, 41.37676239013672, 21.513362884521484, -5.195066452026367, -13.494135856628418, -3.5089213848114014, -1.1266272068023682, -37.88054275512695, 77.12977600097656, 59.620887756347656, 73.5071792602539, 54.97322082519531, 31.130281448364258, 6.964430332183838, -67.10881805419922, -79.96699523925781, 35.97249984741211, -38.567501068115234, -27.751766204833984, -62.69403076171875, 62.032257080078125, 18.547517776489258, 66.89763641357422, 76.51841735839844, -3.759868860244751, -64.75946044921875, 29.599870681762695, 12.390883445739746, 48.87284851074219, 10.039253234863281, -20.211685180664062, 72.30396270751953, 58.21963882446289, -5.697579860687256, 34.9004020690918, 54.8487434387207, -37.5699462890625, 25.49742317199707, 43.41205978393555, 33.33250045776367, 20.97719955444336, 61.12758255004883, 7.797495365142822, 64.20647430419922, -52.647850036621094, -36.64174270629883, 22.570022583007812, -62.53646469116211, 62.45844650268555, -34.1565055847168, -61.14043426513672, 2.548513889312744, -58.94950866699219, -6.590877532958984, 29.435665130615234, -18.770891189575195, -51.08937454223633, 17.857105255126953, -1.6485437154769897, -13.33311653137207, 19.618309020996094, 74.6874771118164, -17.837852478027344, 43.6645393371582, -2.322863817214966, 40.74162673950195, 55.18552017211914, -55.815208435058594, 77.97023010253906, -23.047561645507812, -66.08470916748047, -11.038688659667969, 16.232545852661133, -8.04864501953125, 2.7291665077209473, -40.15501022338867, 4.910538196563721, 30.880146026611328, 4.132555961608887, 17.386138916015625, -4.9670491218566895, 27.47597312927246, 39.38295364379883, -22.799551010131836, -6.197145938873291, -14.653736114501953, -64.93565368652344, -4.332220077514648, -14.818188667297363, -62.986061096191406, 19.078292846679688, -72.28712463378906, 5.690581321716309, -51.9373779296875, -39.092342376708984, 14.374204635620117, -74.86673736572266, 26.38532257080078, -63.854095458984375, -7.329639434814453, -22.025623321533203, -45.17966842651367, 47.05958938598633, 44.32500457763672, -56.84333801269531, -41.13618087768555, 37.31248474121094, 12.215658187866211, 5.9412384033203125, -14.880828857421875, 21.03400230407715, 72.71684265136719, -63.51238250732422, -55.435279846191406, -13.478515625, -38.151222229003906, -37.352577209472656, 55.78888702392578, -39.8816032409668, -57.80834197998047, -2.560410261154175, -14.060440063476562, -20.853227615356445, -42.22417068481445, -0.4151255786418915, -4.661783218383789, -7.9830732345581055, 16.312360763549805, -48.72911071777344, 66.43045043945312, -57.92073059082031, 61.46808624267578, -17.345142364501953, -8.236420631408691, 7.736945629119873, -56.92403793334961, 8.81178092956543, -11.021883010864258, -56.54634475708008, 28.52523422241211, -63.54999923706055, 32.0085563659668, -6.9561638832092285, -44.78793716430664, 20.90937614440918, 32.01152038574219, 47.312435150146484, 72.28685760498047, -50.502498626708984, 22.89665412902832, 28.634517669677734, 23.69890594482422, -0.05773117020726204, 41.37089157104492, -56.274993896484375, -12.588640213012695, 73.7672348022461, -57.387821197509766, 46.588619232177734, -11.844320297241211, 30.4758358001709, -1.545430302619934, 48.0594367980957, 16.698925018310547, 61.87097930908203, 15.229222297668457, -21.62761688232422, 64.57335662841797, -1.9909794330596924, -68.08966827392578, -71.7430648803711, -4.068641185760498, -74.05824279785156, -37.84022521972656, 35.94007110595703, -78.95685577392578, 33.62398147583008, 45.64336395263672, -15.551344871520996, -74.3202133178711, 76.38484954833984, -65.17211151123047, 6.931527137756348, 3.9788389205932617, 20.79075813293457, -19.676095962524414, -18.986417770385742, 51.699623107910156, -34.68867111206055, -17.174177169799805, -3.5699074268341064, -18.13132095336914, 57.7281608581543, 46.92289352416992, -26.40831184387207, 43.491912841796875, -17.565181732177734, 70.46414947509766, -61.60634231567383, 37.38229751586914, 75.53424835205078, 33.027992248535156, -59.51646041870117, -5.800572395324707, -57.65811538696289, 25.358198165893555, 48.89167785644531, -19.315345764160156, -62.62479019165039, 33.20130920410156, -38.108158111572266, -9.909712791442871, -48.21176528930664, 28.784658432006836, -48.39555358886719, -61.47554016113281, 16.888952255249023, -52.43743896484375, -10.372977256774902, 47.80207824707031, 16.32114028930664, 18.054067611694336, 5.899641513824463, 63.85576248168945, -71.779296875, 21.44198989868164, -50.853851318359375, -55.14480209350586, -37.19668960571289, 16.105501174926758, -34.317169189453125, 16.531639099121094, -57.26054763793945, 13.096339225769043, -7.3523688316345215, -12.586463928222656, -29.802188873291016, -18.442052841186523, -10.982495307922363, 35.12071990966797, 16.780414581298828, 48.970279693603516, -34.67585372924805, -9.026387214660645, 6.142204761505127, 29.649494171142578, -20.036357879638672, 54.05247497558594, -2.8179678916931152, -12.313714981079102, 21.890886306762695, 76.46082305908203, -27.505857467651367, 0.7808526158332825, 71.7552719116211, -44.58015823364258, -65.39820098876953, -58.28545379638672, -4.761666297912598, -21.719249725341797, 20.139690399169922, -5.927762508392334, -24.203969955444336, 34.7016487121582, 46.366966247558594, 29.84628677368164, -9.107004165649414, -13.468846321105957, 36.21139907836914, -23.726289749145508, -2.0466535091400146, 27.64878273010254, 18.58500862121582, 34.703548431396484, 5.120288372039795, -4.102422714233398, -20.608232498168945, 33.7171745300293, 75.91226196289062, -7.002764701843262, -12.410673141479492, -55.301536560058594, -72.02044677734375, 57.145530700683594, 33.29251480102539, -59.587364196777344, -66.0978775024414, -1.5078837871551514, -23.03995132446289, 23.070358276367188, 14.422284126281738, -26.65546417236328, 30.65267562866211, 24.502111434936523, -21.158470153808594, 18.672935485839844, 65.18032836914062, 69.2209243774414, 22.782752990722656, -43.002838134765625, 61.79673385620117, -6.204972267150879, -61.89891815185547, -34.34555435180664, 37.70854568481445, 64.80369567871094, 22.496545791625977, -63.44518280029297, 68.54358673095703, -7.7564311027526855, 49.557708740234375, 3.085775375366211, -17.77345848083496, -13.11717414855957, -2.476959705352783, 34.591304779052734, -74.75357818603516, -58.1177978515625, 41.934268951416016, 28.177797317504883, -8.554323196411133, 26.36476707458496, -57.57528305053711, -13.986346244812012, 38.598628997802734, -57.895896911621094, -13.98037052154541, 56.0361213684082, -14.487171173095703, 46.96261978149414, 6.335615158081055, -27.399219512939453, 23.35576057434082, 22.194026947021484, 64.6332015991211, 34.589134216308594, -9.362436294555664, 22.671483993530273, -9.940381050109863, -66.7492904663086, -5.570106506347656, -10.778523445129395, -56.55125045776367, 36.05079650878906, 72.91505432128906, 38.489131927490234, 0.7163453102111816, -38.461761474609375, -10.616539001464844, 21.063962936401367, -6.889673709869385, -72.2507553100586, 40.1791877746582, 22.17145347595215, 53.66089630126953, -20.87212562561035, -10.452115058898926, 8.529857635498047, 57.63796615600586, -9.694289207458496, -61.75234603881836, -6.374490737915039, -66.66983795166016, -10.99658203125, -46.219852447509766, -66.27365112304688, -62.289878845214844, -42.62358093261719, 37.95135498046875, 21.90683364868164, 14.428319931030273, 45.81462097167969, -57.824493408203125, 2.0947086811065674, -5.15703010559082, -18.677677154541016, -3.4938199520111084, -63.55730438232422, 69.28966522216797, 45.065513610839844, -23.86548614501953, -65.22148895263672, 28.05994987487793, 62.55854797363281, -28.230886459350586, 6.329836368560791, 8.517934799194336, 20.47542953491211, -64.42707824707031, 38.691402435302734, -11.132879257202148, 18.44587516784668, 63.714195251464844, -7.764774322509766, 55.77571487426758, -45.06715774536133, 66.8343276977539, -45.84369659423828, 51.16578674316406, -15.181981086730957, -32.76287841796875, -72.92945098876953, -3.4937047958374023, 36.22991180419922, 60.81926345825195, -56.002593994140625, -23.818376541137695, -60.46247100830078, -52.400245666503906, -30.856796264648438, -1.859088659286499, 10.364517211914062, -5.199580192565918, -6.265260219573975, -25.49286651611328, -63.77822494506836, -26.777408599853516, -16.37348747253418, 25.196706771850586, 77.26974487304688, 17.74630355834961, -65.55717468261719, 18.429889678955078, 13.057380676269531, 5.918097496032715, -43.83457946777344, -66.04319763183594, -3.7983884811401367, 17.67728614807129, -31.09763526916504, 24.07338523864746, 46.054264068603516, 22.193689346313477, -59.511009216308594, 16.89893341064453, -11.214397430419922, -6.1122894287109375, -53.69090270996094, -39.951393127441406, 33.25362777709961, 67.19363403320312, -67.5373306274414, 77.80899810791016, 34.32394027709961, -55.469486236572266, 17.36385726928711, -40.07548141479492, -29.170658111572266, -66.13432312011719, -6.585395336151123, 35.025020599365234, -31.92715835571289, -10.660688400268555, -24.48918342590332, -24.428632736206055, 35.79007339477539, -17.296133041381836, -59.08427810668945, 31.705732345581055, 25.92266845703125, -11.046940803527832, -6.536239147186279, -19.762874603271484, 76.45474243164062, 68.07152557373047, -52.566261291503906, -77.61434936523438, -16.488840103149414, 30.49700927734375, -20.244356155395508, -17.381193161010742, 33.06572723388672, -19.37096405029297, -0.8545068502426147, -36.114933013916016, 7.1364946365356445, -19.408096313476562, 56.78240966796875, 7.1491217613220215, -11.785367965698242, -5.153775691986084, 27.96772003173828, -59.21610641479492, -24.004981994628906, -17.678085327148438, 39.03403854370117, -61.61234664916992, -38.7742919921875, -43.795005798339844, 61.89191436767578, -64.77616119384766, -18.47791862487793, 23.100107192993164, -64.3251724243164, -65.77562713623047, 1.6368038654327393, 19.026878356933594, 30.891559600830078, 66.87501525878906, 35.351009368896484, -71.48484802246094, 45.51283264160156, -56.82461166381836, -38.872825622558594, 27.15037727355957, -16.400588989257812, -8.242026329040527, 67.92228698730469, -71.09312438964844, 45.34720230102539, 21.220386505126953, -19.741548538208008, 10.238183975219727, 64.6916732788086, 60.64524841308594, -60.58052444458008, -8.562131881713867, -21.498926162719727, -3.79390811920166, -75.23721313476562, 3.411172389984131, -15.61159896850586, -27.42328643798828, -0.816819429397583, 66.85279083251953, -59.79066467285156, 52.24590301513672, -1.4917105436325073, -28.818803787231445, 35.13066482543945, -20.661270141601562, -38.964752197265625, -52.79103088378906, -14.798612594604492, 24.62499237060547, -48.61079788208008, 29.38587760925293, 25.365108489990234, 70.97905731201172, 5.624783039093018, -39.56937026977539, -67.71182250976562, -10.36207103729248, -31.03730010986328, -55.06986999511719, -4.051335334777832, 20.663747787475586, 14.391273498535156, 36.07758712768555, 29.344738006591797, -42.888607025146484, -25.776599884033203, -26.636249542236328, -0.7816153168678284, -23.68425178527832, 16.909120559692383, -50.43589401245117, -7.56430196762085, 47.10382843017578, 11.6842679977417, -20.567358016967773, -47.76534652709961, 45.5285530090332, 7.642518997192383, -37.964324951171875, -54.52054977416992, -2.5612730979919434, 35.21834945678711, -11.764972686767578, -7.949568748474121, -20.453489303588867, -46.91097640991211, 41.447452545166016, 36.35762023925781, -15.25546646118164, 0.5945268273353577, 33.47123718261719, 33.156707763671875, -40.25995635986328, 59.24058532714844, -18.495254516601562, -61.50199890136719, 37.93255615234375, 69.05780792236328, 3.860696792602539, -58.9377326965332, 41.69049835205078, -57.36714553833008, -41.24462890625, -56.12751007080078, -47.484031677246094, -19.322786331176758, -50.21257019042969, 34.453189849853516, -13.072736740112305, 63.50186538696289, -10.164605140686035, -17.212772369384766, 58.995967864990234, -16.21883201599121, -29.80940818786621, 16.46578598022461, -59.49082946777344, -9.098454475402832, -46.69102096557617, -60.23133850097656, -65.8161392211914, -28.97846794128418, 75.17435455322266, -3.7321243286132812, 39.04603576660156, 43.14392852783203, -62.83060836791992, -59.334110260009766, 73.82808685302734, 51.68910598754883, 29.356910705566406, -65.32673645019531, -43.682437896728516, 36.587913513183594, 64.52421569824219, 26.77082061767578, 53.47024154663086, 20.4094181060791, -3.864928722381592, 3.311573028564453, -29.862262725830078, 47.48815155029297, -5.020188331604004, 34.43854522705078, 16.675033569335938, 59.62884521484375, -68.13652801513672, -69.9114990234375, -60.069271087646484, -5.676315784454346, -7.939504623413086, -10.402984619140625, -65.57322692871094, -11.069987297058105, -23.213380813598633, -47.322174072265625, -28.711572647094727, 80.041748046875, -11.140743255615234, -68.65657043457031, 40.77288055419922, 17.35360336303711, -60.60464859008789, 44.939002990722656, -20.54924774169922, -3.89682674407959, -63.86882400512695, -28.663654327392578, -14.119853973388672, 65.21145629882812, 36.947776794433594, 48.65412139892578, 23.56235694885254, -14.64620590209961, -39.30720138549805, -49.638572692871094, -63.345951080322266, -58.55338668823242, -18.34184455871582, 64.8439712524414, 41.42534255981445, -60.753047943115234, 15.337449073791504, -63.725006103515625, -12.30860710144043, 6.3414998054504395, -36.55293655395508, -24.91219711303711, 44.592491149902344, -41.23180389404297, 0.7089561223983765, -59.008262634277344, 0.39135682582855225, 11.208332061767578, -18.311973571777344, -54.262603759765625, 66.67517852783203, 11.51524543762207, -66.8075180053711, -57.595916748046875, -65.9791488647461, -41.51588821411133, 49.73484802246094, -7.911264419555664, 25.313016891479492, -45.11317443847656, -19.13631248474121, 36.9099235534668, -25.051231384277344, -34.1202392578125, -78.33126831054688, -25.347484588623047, -63.010780334472656, 37.46192932128906, -66.4884033203125, 22.47258758544922, -7.083451747894287, 20.138107299804688, 65.03250122070312, 78.0197525024414, 42.64613723754883, 29.006494522094727, -0.8187925815582275, 79.67613983154297, -21.89158058166504, 15.017029762268066, 19.034456253051758, 27.459468841552734, 43.21574020385742, 1.2847071886062622, 74.62799072265625, -18.125850677490234, -44.798828125, 2.9755547046661377, -42.35453414916992, 38.362613677978516, 4.335143089294434, -21.074138641357422, -39.27100372314453, -16.919221878051758, 73.3609619140625, -38.93375778198242, -47.14126205444336, -46.17206573486328, -59.6894416809082, 19.965604782104492, 41.34855651855469, 53.243743896484375, 26.757286071777344, 19.54778289794922, -22.626001358032227, -16.930124282836914, 38.440452575683594, 53.54600143432617, 35.06791687011719, 4.486123085021973, 33.12735366821289, 29.24830436706543, 1.1753076314926147, 33.79196548461914, -33.14927673339844, 38.38414001464844, 20.923891067504883, 47.09898376464844, -14.634926795959473, 19.819772720336914, -3.290656089782715, -26.56262969970703, -54.70833206176758, 44.63987350463867, -12.537280082702637, 17.76594352722168, 50.8748779296875, -1.1653940677642822, -15.155335426330566, -30.022748947143555, 11.224462509155273, -27.977005004882812, 39.12888717651367, -3.0019373893737793, -41.489173889160156, -41.11870574951172, -57.873538970947266, -3.2047770023345947, -61.45095443725586, -37.29192352294922, 18.7990779876709, -74.84498596191406, -68.71157836914062, -26.054153442382812, -39.106014251708984, 64.77371215820312, 4.059344291687012, -31.705705642700195, -53.7073974609375, 54.494361877441406, 24.31580352783203, 33.64521408081055, 35.08042526245117, 2.7441728115081787, 22.382089614868164, 57.55999755859375, -19.109994888305664, -11.562240600585938, 44.75812530517578, -41.29685592651367, -56.118194580078125, 67.50502014160156, 31.437707901000977, -45.57640075683594, 58.042320251464844, -23.5421085357666, -19.10974884033203, 44.51264572143555, 60.35800552368164, 66.42217254638672, -25.085636138916016, 64.3094482421875, 58.31172561645508, -10.692748069763184, 44.93362045288086, -8.514249801635742, 17.380285263061523, 40.94435501098633, 41.42163848876953, -38.91909408569336, 6.954030513763428, 63.310585021972656, -5.82573127746582, -50.82711410522461, 24.726497650146484, -25.283924102783203, -2.872939348220825, -29.47188949584961, 38.19446563720703, -47.61903381347656, -10.259279251098633, 12.241378784179688, 55.08595275878906, -36.95584487915039, -54.447269439697266, -36.827938079833984, 10.222496032714844, -59.62127685546875, -10.45583724975586, -39.63523864746094, -9.255176544189453, 19.270858764648438, 35.58353805541992, -38.88905715942383, 1.8169342279434204, -26.762596130371094, -68.8303451538086, -45.754722595214844, -30.241493225097656, 76.80048370361328, 57.204837799072266, -4.864568710327148, -40.848445892333984, 24.50965118408203, -58.5283088684082, 52.8880500793457, -40.83846664428711, -42.94896697998047, 36.44344711303711, -18.326095581054688, -52.92732620239258, -58.420440673828125, -23.539377212524414, 18.22928810119629, -31.335437774658203, -58.36439895629883, -67.16791534423828, -64.64339447021484, -32.154850006103516, 42.577632904052734, -40.736045837402344, 49.2468376159668, 80.22764587402344, 5.926417350769043, 67.07905578613281, 2.551772117614746, -16.350250244140625, -17.873544692993164, -23.783781051635742, 20.14281463623047, 44.68678283691406, -32.2551155090332, -5.21832275390625, -67.37592315673828, 7.363739490509033, 54.915435791015625, -56.095882415771484, 27.95227813720703, -28.03008460998535, 19.65471076965332, 36.452491760253906, 32.85138702392578, 69.99279022216797, -28.363656997680664, -76.94600677490234, -37.534305572509766, -26.443538665771484, -0.6506816744804382, -13.767324447631836, -15.947139739990234, 17.137868881225586, -53.43523406982422, -25.82246208190918, -66.15174102783203, -63.23136901855469, -5.832870006561279, -40.25200271606445, 40.16961669921875, -24.586864471435547, 1.3074861764907837, 41.32461166381836, -59.930450439453125, 31.89423370361328, 33.80778884887695, -66.35095977783203, -19.33189582824707, 36.41331481933594, -14.319742202758789, 32.716060638427734, 25.988496780395508, -5.174441814422607, -49.00452423095703, -54.96504592895508, -20.740398406982422, -12.794487953186035, 72.38251495361328, -32.48396301269531, -49.96062088012695, -8.239461898803711, 59.22423553466797, 24.79380989074707, -52.744571685791016, -78.74539184570312, -5.629199504852295, -61.30323791503906, -26.325027465820312, 25.10868263244629, 17.168609619140625, 19.43109703063965, 17.41852378845215, 71.44017791748047, 17.371095657348633, 15.575262069702148, -7.68820858001709, 3.5180728435516357, -62.10723114013672, -51.755550384521484, -14.259746551513672, 41.41020584106445, 38.98675537109375, -26.830625534057617, -24.226110458374023, 28.544113159179688, -34.00407409667969, -77.85670471191406, -42.53915786743164, -40.160118103027344, -11.836156845092773, -2.850994348526001, -5.435786247253418, 2.151747703552246, 66.52815246582031, -39.189422607421875, 67.56472778320312, 15.525729179382324, -71.92081451416016, 30.447755813598633, 51.53350830078125, 10.946231842041016, 69.25933837890625, -13.148186683654785, -62.17641067504883, -74.91761016845703, -32.47085952758789, -13.202437400817871, 24.878002166748047, -23.278627395629883, 18.616294860839844, 47.94649124145508, 71.14892578125, -14.532943725585938, 42.32236862182617, -3.325354814529419, 61.36514663696289, 42.09491729736328, 43.68502426147461, -10.752118110656738, -65.742919921875, -1.8124805688858032, 20.307531356811523, 45.78176498413086, -61.02227783203125, -63.79111862182617, -66.44429779052734, -33.70588302612305, -13.4159517288208, 59.92132568359375, -64.46607971191406, 27.04423713684082, 54.371177673339844, -29.4951229095459, -46.312225341796875, 67.63577270507812, 34.47348403930664, -64.57511901855469, 60.10019302368164, 14.742883682250977, -68.14238739013672, -12.59268856048584, 63.48359680175781, 0.6387704610824585, 22.252330780029297, 69.62981414794922, -25.604694366455078, 36.75152587890625, -21.025611877441406, -65.05143737792969, 64.74640655517578, -6.729940414428711, 12.266429901123047, -56.33794403076172, 16.713489532470703, 23.87434959411621, 55.51595687866211, -57.737178802490234, 45.09481430053711, -64.47232055664062, -20.952056884765625, 57.86308288574219, 68.10616302490234, -8.239896774291992, -7.314723968505859, 48.587486267089844, 56.87400436401367, -5.233269214630127, -11.308391571044922, 1.26802396774292, -10.588163375854492, -31.337600708007812, -33.143028259277344, -16.92733383178711, -15.653583526611328, 25.301387786865234, -55.78987503051758, 59.54179000854492, 36.16872787475586, 31.12759017944336, -13.880313873291016, -16.378902435302734, -34.26428985595703, -54.509117126464844, 12.137625694274902, 17.371931076049805, -52.375308990478516, 21.267858505249023, -4.136194229125977, 4.738951206207275, -38.891883850097656, 30.226207733154297, 0.30251258611679077, -66.15928649902344, -67.41670227050781, 39.139549255371094, -33.299888610839844, 67.25431060791016, -59.737335205078125, -21.30524253845215, -7.802198886871338, 18.867780685424805, 49.173492431640625, -3.9532790184020996, -36.16460418701172, -14.069466590881348, 58.319984436035156, 41.223995208740234, 65.67652130126953, -15.854883193969727, -56.068756103515625, -50.9341926574707, -39.08812713623047, -60.392333984375, 32.52671432495117, 17.68394660949707, 67.73870086669922, -60.72397232055664, 5.173165798187256, -5.630244255065918, -80.47479248046875, -33.45191192626953, 39.637550354003906, -63.49203109741211, 3.9002301692962646, 49.51935958862305, 0.10268199443817139, 25.35186004638672, 42.97183609008789, 0.5096015334129333, 24.76093864440918, 76.30389404296875, 66.20602416992188, 55.222618103027344, 0.446416437625885, 54.72449493408203, -16.87729835510254, -42.7559814453125, -25.623716354370117, -13.17638874053955, -8.10991382598877, -64.29627227783203, 67.10566711425781, 21.95888328552246, -59.75001525878906, 48.35127639770508, 29.647459030151367, -64.54012298583984, -35.82630157470703, -12.750006675720215, 27.02729606628418, -41.55207443237305, -11.036645889282227, -58.45090866088867, -3.530238628387451, 23.446866989135742, -20.58368492126465, 60.7450065612793, 14.056845664978027, 78.51909637451172, -48.280879974365234, -1.450419545173645, -71.86018371582031, 16.259313583374023, 70.0286636352539, 3.650643825531006, 13.179959297180176, -1.4072802066802979, 19.08213996887207, 32.89128112792969, -42.975311279296875, 62.85123062133789, 50.15399169921875, -9.472476959228516, 76.33950805664062, -24.37856101989746, -52.30617904663086, -67.98900604248047, 11.625229835510254, 80.45211029052734, 61.40016174316406, -73.41422271728516, 48.70426559448242, -57.27719497680664, -18.015670776367188, 45.18184280395508, -63.25910949707031, -12.741412162780762, -37.31887435913086, -29.186399459838867, -57.291419982910156, -78.35179901123047, 4.276466369628906, -40.81477355957031, 1.0507913827896118, -1.6547083854675293, -59.1706428527832, 5.947065353393555, -29.110488891601562, 58.19761657714844, 52.22199249267578, -12.570454597473145, -58.476043701171875, -58.474449157714844, 42.989532470703125, 15.802470207214355, -7.318323135375977, 36.15435791015625, 46.69539260864258, -57.78888702392578, 13.634716987609863, -24.03748321533203, 49.62815856933594, -60.35612106323242, 45.18279266357422, 53.253421783447266, -1.7929247617721558, 47.202850341796875, 16.442724227905273, 41.76714324951172, -4.430117130279541, 66.68548583984375, 7.6450676918029785, 1.3060895204544067, -9.23442554473877, 14.11078929901123, 22.64600372314453, 11.999268531799316, -13.897954940795898, 22.03154754638672, 64.42036437988281, 11.431407928466797, 20.320480346679688, 45.407474517822266, -58.21358871459961, 35.39883041381836, 44.29702377319336, 43.9207649230957, 60.91947555541992, 15.820137023925781, 65.69600677490234, 65.87590026855469, -40.17777633666992, -24.781414031982422, -19.009477615356445, -8.063063621520996, -54.98406982421875, -4.398124694824219, -16.666942596435547, -20.542789459228516, 49.28739929199219, -18.29623031616211, -8.064043045043945, 31.30429458618164, -10.45448112487793, -39.341941833496094, -68.03060913085938, -15.335801124572754, -65.13004302978516, -33.759334564208984, 8.37731647491455, 14.759395599365234, 66.87274932861328, -51.25728988647461, 24.6252384185791, 4.254642963409424, -7.556530952453613, -38.090789794921875, -27.649112701416016, -5.008609294891357, 26.01591682434082, 9.941372871398926, -12.268477439880371, 44.657039642333984, 79.24126434326172, -63.09894561767578, -5.527429103851318, 4.700767993927002, 46.32735061645508, 33.31368637084961, 3.354496955871582, -13.596424102783203, -0.29265791177749634, 2.6974174976348877, 52.3850212097168, -60.10042190551758, 15.652302742004395, -66.22419738769531, 61.25160598754883, 37.40140151977539, 20.304357528686523, -61.67041015625, 29.31366539001465, 77.43780517578125, -46.24612808227539, 35.432830810546875, 0.34715843200683594, 65.46698760986328, 29.54814910888672, -36.716773986816406, 37.32477951049805, 65.70120239257812, 25.642833709716797, -66.52928161621094, -30.923446655273438, 15.89232349395752, -18.02167320251465, -68.20015716552734, -30.14053726196289, -61.221763610839844, -60.10999298095703, 48.93367004394531, 24.722126007080078, 61.65653991699219, 19.911130905151367, 27.44846534729004, -79.2157974243164, -53.0626220703125, 67.94307708740234, -9.897651672363281, 30.51578712463379, -23.95679473876953, 26.37580108642578, -59.10091781616211, 34.00307846069336, 31.892711639404297, -21.477174758911133, 67.41119384765625, 58.284053802490234, 78.88931274414062, 57.742156982421875, -65.31489562988281, 48.51203918457031, 62.45125198364258, -65.63565826416016, 44.485050201416016, 53.68775939941406, -15.588571548461914, 23.520416259765625, -23.117937088012695, -14.132243156433105, -29.989688873291016, -6.602956295013428, -7.011653900146484, -1.3470959663391113, 71.93136596679688, 54.30023193359375, -53.898773193359375, 7.746524333953857, -64.1873779296875, 2.1782708168029785, -10.194631576538086, -23.905746459960938, 72.72889709472656, 59.31653594970703, 19.51394271850586, -50.961509704589844, 28.394678115844727, 31.365036010742188, -0.581030547618866, -10.991559982299805, 63.59831237792969, 49.13270950317383, 37.38134002685547, -3.2720046043395996, 16.5681095123291, -34.65959167480469, -51.617706298828125, -30.77233123779297, 46.61902618408203, -23.332923889160156, 3.1142454147338867, -56.527748107910156, 46.174522399902344, -31.66522789001465, -28.76404571533203, -65.54932403564453, 17.239255905151367, -57.572052001953125, 30.606943130493164, 15.646050453186035, 27.48198699951172, -40.7486572265625, 41.54494857788086, 14.488936424255371, -58.354881286621094, -57.4482536315918, 16.26991081237793, 58.424224853515625, -1.7683316469192505, -39.172706604003906, -40.144718170166016, 12.47036075592041, -56.93209457397461, 30.187578201293945, -39.53502655029297, -23.830881118774414, -16.261232376098633, -54.00250244140625, -57.09424591064453, 70.75190734863281, 16.451698303222656, 18.80684471130371, 42.50568771362305, -9.943134307861328, -48.12025451660156, -50.534488677978516, -50.58689498901367, 52.9803466796875, -41.96184158325195, -55.006771087646484, 79.46141815185547, -50.15297317504883, 73.07176208496094, 13.60682487487793, 58.67954635620117, 27.092205047607422, -3.70582914352417, -43.780120849609375, 49.2833137512207, -57.15977478027344, -25.800756454467773, -59.78462219238281, 20.436389923095703, -58.1849250793457, 78.31283569335938, -24.03507423400879, -15.892003059387207, 14.94367790222168, -6.837724685668945, -17.576683044433594, -23.961942672729492, -17.697404861450195, -61.7775764465332, -5.0583906173706055, 28.481483459472656, 44.093021392822266, 44.9969596862793, 62.06136703491211, -40.19738006591797, -52.577762603759766, -9.288642883300781, 29.07295036315918, 41.23607635498047, -9.094230651855469, 32.34034729003906, 32.75190734863281, 8.050071716308594, -50.05710983276367, -69.47428131103516, -42.32155227661133, -15.174062728881836, 21.77518081665039, -43.21811294555664, 0.8783677816390991, -65.2398910522461, 34.786258697509766, -6.666169166564941, -51.175682067871094, 9.099266052246094, 45.561744689941406, -62.2247314453125, 44.035423278808594, -0.9672225117683411, 21.736858367919922, -42.209903717041016, -7.434167385101318, 17.174837112426758, -57.699363708496094, -51.6011962890625, 68.6395263671875, 71.75145721435547, 75.8936996459961, 29.083995819091797, 14.078352928161621, 41.8096809387207, -67.89335632324219, -8.014751434326172, -38.85799026489258, 9.042038917541504, 33.26487731933594, -1.8321841955184937, -10.329036712646484, 56.07190704345703, 2.0679931640625, -44.71460723876953, 58.079593658447266, 24.48723030090332, -56.50392532348633, 13.388973236083984, 29.960041046142578, 16.354751586914062, -57.38944625854492, -57.38410949707031, 30.620283126831055, -17.957359313964844, -6.747575759887695, 37.894081115722656, 60.31865692138672, 23.013200759887695, -58.1912727355957, -58.623775482177734, 37.69525909423828, 46.5396728515625, -61.753334045410156, 7.310462474822998, -65.57378387451172, 1.0910661220550537, 8.52376651763916, -42.27061462402344, 52.20431900024414, 77.64131927490234, 60.44013214111328, -31.42361831665039, 33.64181900024414, 68.4566421508789, -66.06492614746094, 16.159683227539062, -39.32343292236328, 64.74593353271484, -65.50923919677734, -8.826149940490723, 46.8321533203125, 17.201936721801758, -62.09440231323242, 15.766684532165527, -7.944894313812256, 41.515045166015625, 56.822547912597656, -7.571897983551025, -4.002100467681885, -74.04104614257812, 31.81322479248047, -11.509284973144531, 13.229094505310059, 44.303428649902344, -5.92213773727417, -57.46607971191406, 30.4036808013916, 2.9184682369232178, 27.85358428955078, -1.6167341470718384, -57.97896194458008, 45.17689514160156, -6.069892406463623, -16.720809936523438, 28.43937110900879, 9.080167770385742, 16.91506004333496, -19.252134323120117, -56.188079833984375, -8.650911331176758, -68.49405670166016, 43.345027923583984, -35.42268371582031, 73.78247833251953, -28.076107025146484, 0.6993066072463989, 54.657691955566406, 31.884702682495117, 3.0413272380828857, -8.400896072387695, -55.13770294189453, 42.863494873046875, -47.10492706298828, 64.03549194335938, -75.41397857666016, -59.49530792236328, 23.09808921813965, 18.738719940185547, -7.363684177398682, -67.80418395996094, -60.360782623291016, -70.08036041259766, -53.99526596069336, -69.18889617919922, -7.7595062255859375, -51.89017868041992, 29.108882904052734, -12.621520042419434, -65.588134765625, 58.7733268737793, 16.377344131469727, 57.02714157104492, -45.484588623046875, 58.295326232910156, 14.590786933898926, -43.927249908447266, -67.79570770263672, -16.457096099853516, -40.95758819580078, 4.534339427947998, 21.87550163269043, 24.943958282470703, -56.15118408203125, -3.5722129344940186, -65.93543243408203, 20.58188819885254, 41.98846435546875, -33.88728713989258, 48.385597229003906, 54.6024055480957, -20.071332931518555, 29.966035842895508, -34.9674072265625, 80.87382507324219, -65.83390045166016, 26.4066162109375, -34.761680603027344, -24.233007431030273, 67.6703872680664, 42.824092864990234, 39.633522033691406, 43.80426788330078, -63.312320709228516, -59.870513916015625, 24.384225845336914, -33.339420318603516, -64.3503189086914, -25.679798126220703, 14.008037567138672, 68.64512634277344, 20.821651458740234, 46.29461669921875, 60.4851188659668, -64.0581283569336, -59.91578674316406, 36.164127349853516, -67.4411392211914, 27.46771240234375, 55.72151184082031, 30.967689514160156, -3.9513185024261475, 46.277000427246094, -3.5315380096435547, -60.55963134765625, -69.33218383789062, 34.40367889404297, 80.31608581542969, 27.676408767700195, -19.96494483947754, 17.646081924438477, 54.78206253051758, -3.2026188373565674, 72.1489486694336, -51.562015533447266, -60.27260208129883, -0.3641473054885864, 56.510406494140625, 18.824840545654297, -17.087600708007812, 74.088623046875, -66.79188537597656, 24.56839370727539, -72.56173706054688, -9.582389831542969, 73.44371032714844, -34.311283111572266, -18.60964584350586, -57.65003967285156, 19.187936782836914, 76.86884307861328, -6.086985111236572, -75.23468017578125, 48.952781677246094, 35.7874641418457, 72.09295654296875, 0.44001656770706177, 27.80204963684082, -2.2462117671966553, 6.040620803833008, 50.229896545410156, 43.62164306640625, 44.0062255859375, 14.565000534057617, 23.33052635192871, 77.27723693847656, 3.2203140258789062, 0.01438106782734394, 9.834150314331055, 4.690202236175537, 40.304630279541016, 19.764097213745117, 45.270503997802734, 31.53704261779785, 25.426998138427734, 30.78372573852539, 45.776920318603516, 52.68334197998047, -33.300132751464844, 77.0417709350586, -40.930294036865234, -69.95244598388672, -37.14051818847656, 50.888038635253906, 24.257856369018555, 44.76987075805664, -12.141609191894531, -6.232754707336426, -59.054847717285156, -10.841866493225098, 31.959762573242188, -45.215877532958984, -36.15271759033203, 8.981205940246582, -1.71226167678833, 6.584339141845703, 5.272361755371094, -53.68614959716797, 68.84478759765625, 12.340785026550293, 61.3859748840332, -40.36299133300781, -64.8178939819336, -58.2752685546875, 29.883209228515625, 38.43210220336914, 2.461886405944824, -67.43628692626953, 31.46541976928711, -15.985523223876953, 34.08104705810547, -6.367055892944336, 44.1509895324707, 50.829261779785156, -66.62318420410156, 9.450572967529297, -27.731266021728516, -58.58979034423828, 32.56706619262695, 17.96424102783203, -57.88617706298828, -1.3271466493606567, -21.62986183166504, -27.731895446777344, -60.130859375, -10.518776893615723, -40.38315200805664, -72.99225616455078, -11.570603370666504, 51.68593215942383, 33.70053482055664, 38.875823974609375, 1.1112792491912842, -2.1776223182678223, 46.733009338378906, -0.2142581343650818, 72.7038803100586, -57.131813049316406, -51.2075309753418, -58.403751373291016, -13.512899398803711, -14.851741790771484, -39.2436408996582, -42.06224822998047, 32.31062316894531, -19.41233253479004, 21.862390518188477, -27.12224006652832, -15.170572280883789, 8.921080589294434, -55.0241584777832, 65.69792938232422, 39.76228713989258, 14.88740062713623, 35.441951751708984, 74.31185150146484, -18.073307037353516, 68.7836685180664, 50.533912658691406, 73.35016632080078, 5.344577789306641, -2.36285400390625, 32.26798629760742, -68.90555572509766, 39.2215690612793, 41.752227783203125, 47.62049865722656, 70.460693359375, -19.731847763061523, -5.875601291656494, 78.88330841064453, -37.47903060913086, -23.46628761291504, -38.87855529785156, 34.157371520996094, -18.504592895507812, -3.185185670852661, 54.89350891113281, 65.38190460205078, 72.46823120117188, -12.688939094543457, 3.504330635070801, 46.08303451538086, 15.189848899841309, 22.72652816772461, 56.1099967956543, -2.5139293670654297, -9.855546951293945, -11.702956199645996, -7.668483734130859, 17.698286056518555, -39.456085205078125, 38.46588134765625, -6.385409832000732, -64.87862396240234, 30.90629005432129, 62.528194427490234, -15.09627628326416, -12.33918571472168, 51.343536376953125, 26.49097442626953, -37.4730224609375, -3.883253812789917, 44.511287689208984, 37.713172912597656, 49.0474739074707, -8.433259010314941, 24.5355281829834, -44.9936637878418, -38.146270751953125, -58.90934753417969, -38.53436279296875, -20.367538452148438, -6.348690032958984, 9.996793746948242, 19.069744110107422, -6.833595275878906, 33.50309371948242, 4.3775458335876465, 16.876964569091797, -13.666565895080566, 62.21227264404297, -32.571533203125, -52.003143310546875, -3.651850938796997, 6.161506175994873, -27.038501739501953, -66.10657501220703, 22.738306045532227, 5.8490071296691895, -2.802217721939087, 70.64744567871094, 3.790212392807007, 61.80525588989258, 69.74915313720703, 20.63774871826172, -25.406450271606445, 16.163644790649414, -26.524492263793945, -20.966562271118164, 19.07474136352539, 9.152629852294922, 19.49186897277832, -64.1151351928711, -63.0187873840332, -49.17885208129883, 14.590091705322266, -4.627189636230469, 62.75386047363281, -61.93126678466797, 60.69404220581055, -33.406009674072266, -20.35919952392578, 29.422508239746094, -21.07646942138672, 69.23202514648438, 29.77497673034668, 43.658790588378906, -74.07707214355469, 43.48573684692383, -31.241762161254883, -13.569588661193848, 56.57470703125, 35.16768264770508, 62.057342529296875, -6.652463912963867, 22.6746883392334, -13.372764587402344, 75.806396484375, 34.648616790771484, 34.65024185180664, 14.471208572387695, 38.29530715942383, 52.9554328918457, 48.04351806640625, -5.371047496795654, -17.890932083129883, 10.549115180969238, 36.48482894897461, 63.541202545166016, -14.002262115478516, -3.6389808654785156, 60.24699783325195, -49.50168991088867, -27.89003562927246, 15.973899841308594, 36.93406677246094, -33.922203063964844, 31.10332489013672, 55.74163818359375, 4.851480007171631, 44.20465087890625, -46.49563217163086, 13.61001968383789, 13.959868431091309, 48.07177734375, 33.37266159057617, -43.85070037841797, -23.854751586914062, 19.712942123413086, 21.637989044189453, -29.0183162689209, -28.532564163208008, -22.491012573242188, 64.34668731689453, -24.914113998413086, -8.827802658081055, -68.3223648071289, 49.61178970336914, 58.04693603515625, 0.4512961208820343, -10.644510269165039, 47.42427062988281, 16.538015365600586, 22.29155158996582, 63.41643524169922, -14.170838356018066, -67.1678466796875, -34.883026123046875, -24.29345703125, -60.50061798095703, 57.20017623901367, -53.82710266113281, -56.54384231567383, -39.576602935791016, -59.80511474609375, 21.659780502319336, -3.306724786758423, 31.74460220336914, -13.582720756530762, -6.127399444580078, -5.150818347930908, 35.8047981262207, -10.339197158813477, -7.56121826171875, 28.388578414916992, -1.788744568824768, 6.099920749664307, 71.00050354003906, -55.75371551513672, -62.37061309814453, -39.55203628540039, -56.0399169921875, -60.339542388916016, -2.8845629692077637, 52.86563491821289, 64.21686553955078, 10.14516544342041, -5.410797119140625, -11.589999198913574, -67.59007263183594, 6.666037082672119, -32.31281661987305, -53.32139205932617, 1.5341159105300903, 35.13301086425781, -3.8787314891815186, 19.32491683959961, 35.108673095703125, -33.2845573425293, -0.1602257341146469, 37.45891189575195, 36.191612243652344, 21.865625381469727, 41.46868896484375, -10.992912292480469, -16.119569778442383, -16.853437423706055, -44.90351104736328, -16.93816566467285, -32.79792022705078, 10.877337455749512, -15.163963317871094, -55.349395751953125, 57.53877258300781, 69.93276977539062, -5.186338901519775, 12.744192123413086, 54.73786544799805, -75.67484283447266, -65.08517456054688, 54.079063415527344, 20.400562286376953, 62.940162658691406, -20.608217239379883, 53.58667755126953, -60.76304626464844, -66.39727783203125, -43.950775146484375, -42.484230041503906, 39.4114990234375, -54.53510284423828, -12.622315406799316, -59.523658752441406, -59.8028678894043, -52.38478469848633, 77.16120147705078, -66.62144470214844, -65.2818374633789, -50.34333801269531, -66.84152221679688, -18.894351959228516, -64.16875457763672, -15.366169929504395, -59.9072151184082, 69.90335845947266, -37.30364990234375, -43.24723815917969, -51.45769500732422, -3.374553918838501, -1.3247644901275635, 28.702285766601562, -66.91268157958984, -56.28766632080078, 20.449790954589844, -26.752126693725586, -9.306280136108398, -8.06196403503418, 9.062494277954102, -54.514225006103516, -4.476356029510498, 43.40357208251953, -9.846919059753418, -41.545387268066406, -16.075822830200195, -12.532367706298828, 56.80845260620117, -5.283402442932129, -74.27388000488281, -9.945064544677734, -56.06430435180664, -21.101295471191406, -36.23900604248047, -27.942096710205078, -65.84162139892578, -39.89202880859375, -13.08615493774414, -39.3122444152832, -61.251197814941406, 17.23489761352539, 63.055946350097656, 35.9644889831543, 19.36884117126465, 18.98753547668457, 6.979746341705322, 76.4795913696289, -14.812845230102539, 42.155303955078125, 59.852848052978516, 62.101654052734375, -67.3428726196289, 17.97645378112793, 2.015639543533325, -36.642738342285156, 60.61832809448242, -0.6795171499252319, 5.163907051086426, 16.01685905456543, 21.543420791625977, -28.022069931030273, 33.984867095947266, -19.038009643554688, -44.79180145263672, 50.840309143066406, 35.7773323059082, 60.365779876708984, -3.4146742820739746, 64.04290008544922, -52.801883697509766, -7.325317859649658, -3.3096396923065186, 33.67118453979492, 18.21188735961914, 64.19035339355469, 15.959205627441406, -2.1894123554229736, 59.89070129394531, -8.868642807006836, -21.452070236206055, -51.09518814086914, 51.95730209350586, -19.096025466918945, -39.22282791137695, 7.539245128631592, 34.371917724609375, -50.770755767822266, 13.955695152282715, 80.56805419921875, 51.50444412231445, -7.834300994873047, -2.6868398189544678, 77.12979125976562, 68.09027099609375, 73.58354187011719, -64.93959045410156, 25.477645874023438, 19.76349449157715, 43.690940856933594, -38.16431427001953, 47.19813919067383, 12.014920234680176, 67.36922454833984, -31.884220123291016, 37.148902893066406, 16.591747283935547, -37.58999252319336, 19.237241744995117, -29.487445831298828, 75.8331527709961, 19.51690673828125, -64.59603118896484, -11.726540565490723, 68.28706359863281, -30.76869010925293, 16.13640022277832, -27.555261611938477, 31.272647857666016, -58.52292251586914, -20.9810791015625, 4.856860160827637, -9.909958839416504, -38.33906555175781, -36.45199966430664, -44.951908111572266, -32.76494598388672, -22.834470748901367, 21.449785232543945, 45.33831787109375, 49.78206253051758, 48.792518615722656, 44.482364654541016, -12.409361839294434, 46.791751861572266, 54.75012969970703, 57.281341552734375, -9.04296588897705, -61.65979766845703, -2.5054550170898438, -52.67152786254883, -25.087705612182617, 26.96197509765625, 70.29751586914062, 72.42167663574219, -15.879549026489258, 6.344813823699951, 13.88330078125, 66.48863220214844, 31.384241104125977, -23.236787796020508, 46.71775436401367, -58.81635284423828, -52.62448501586914, -65.20875549316406, 27.96023178100586, 27.905677795410156, -33.75105285644531, -24.910987854003906, 62.51791000366211, -36.191951751708984, 22.81201934814453, -29.32019805908203, -0.9348839521408081, 18.719846725463867, 35.727962493896484, 17.812623977661133, -3.880605697631836, -67.30164337158203, -68.00245666503906, 60.268089294433594, 6.653498649597168, -38.227691650390625, -22.565282821655273, -23.934062957763672, -41.40575408935547, 1.730688214302063, -42.67689895629883, 58.342063903808594, -55.6684684753418, 47.46905517578125, 44.49989700317383, -16.65032958984375, -65.447509765625, -38.4480094909668, -33.523780822753906, -56.26335906982422, 21.761396408081055, -23.936357498168945, -40.73554229736328, -19.00819969177246, -62.85014343261719, 25.98402214050293, -57.06822967529297, -8.792762756347656, -34.91404342651367, 13.49301815032959, 51.714317321777344, 17.38758659362793, 19.301963806152344, -31.332744598388672, 40.36041259765625, 31.07428741455078, 27.17227554321289, 17.18349838256836, 34.31572341918945, 21.592382431030273, 46.941410064697266, -38.58650588989258, 56.553279876708984, 25.348339080810547, 1.1708080768585205, -18.29857063293457, -27.92378044128418, -43.904151916503906, -32.492286682128906, -33.9104118347168, 35.78523635864258, 24.64348030090332, -10.746793746948242, -7.628586769104004, -54.867210388183594, -1.682318091392517, -5.5837860107421875, 28.720596313476562, 14.882134437561035, -59.32009506225586, -7.512704849243164, -51.136383056640625, 54.97217559814453, 78.93488311767578, -15.330098152160645, 11.999098777770996, 12.743451118469238, -17.695079803466797, 0.4890662729740143, -14.91124153137207, 15.61557674407959, 48.46268844604492, -28.26974868774414, 17.135873794555664, -13.185139656066895, -64.7792739868164, -19.87645149230957, 80.59406280517578, -32.31553649902344, 18.83341407775879, 77.4393310546875, 17.128061294555664, 19.31220817565918, 33.0034294128418, -53.33803176879883, 56.78515625, -51.17042541503906, -36.81467056274414, -23.619474411010742, 47.900787353515625, -3.0910823345184326, 80.18394470214844, -6.341688632965088, -39.7662467956543, -24.279163360595703, 20.161897659301758, -51.606712341308594, -14.735991477966309, 13.419319152832031, -8.61473560333252, 78.92581176757812, -63.332298278808594, 24.308095932006836, -16.448272705078125, -9.052502632141113, -74.9269027709961, -65.16705322265625, 13.013616561889648, -18.717809677124023, 54.65522384643555, 28.519685745239258, 66.7241439819336, -8.784880638122559, -26.60346794128418, -61.480133056640625, 18.24925422668457, -19.274091720581055, -12.084153175354004, -39.91512680053711, 40.57157516479492, 55.17399215698242, 42.214317321777344, 77.87689208984375, -58.16758728027344, 78.48863983154297, -22.074172973632812, -59.6981086730957, 32.78126525878906, -50.592674255371094, 46.79875946044922, -26.653879165649414, 56.91297149658203, 40.79056930541992, 73.41419982910156, -38.956260681152344, 63.760223388671875, -10.087183952331543, 20.776355743408203, -28.715784072875977, -50.68840026855469, 58.521724700927734, -34.08684539794922, 4.344357490539551, -64.65619659423828, -25.869401931762695, -61.44489669799805, -3.899338960647583, 25.618886947631836, 18.9843807220459, 44.85013961791992, 27.33123016357422, 26.386791229248047, -10.954910278320312, -19.451345443725586, 21.203750610351562, -32.56524658203125, 5.226205348968506, -34.73587417602539, -55.57705307006836, -62.255043029785156, -12.421676635742188, -3.0404748916625977, -22.118309020996094, -34.10539245605469, -29.713132858276367, 21.903791427612305, 68.23836517333984, 23.374486923217773, -28.518957138061523, 63.66672134399414, 46.17312240600586, -34.27683639526367, 75.77730560302734, -65.59554290771484, -30.272069931030273, 62.22754669189453, -63.67472457885742, 27.470876693725586, -66.24476623535156, -21.272233963012695, 25.702070236206055, -76.32074737548828, 39.87709045410156, 17.41459846496582, 29.490022659301758, -41.054595947265625, -55.756202697753906, 42.20687484741211, 56.17170715332031, 22.991741180419922, -63.59507751464844, -29.612924575805664, -63.9099235534668, 55.40628433227539, -45.05999755859375, -19.6641788482666, -57.67264938354492, 16.379011154174805, -44.81443786621094, -47.233001708984375, -36.43177795410156, 75.16522216796875, -66.23915100097656, 20.677528381347656, -3.292991876602173, -67.4400863647461, 65.67678833007812, 33.81904602050781, -67.07820892333984, -40.80361557006836, 2.8224620819091797, -25.173450469970703, 25.3489933013916, -59.33974075317383, 64.1302261352539, -8.400266647338867, 43.766178131103516, -59.065216064453125, -39.62355422973633, 49.54578399658203, 30.144962310791016, -35.30393981933594, -47.15000915527344, 29.137447357177734, 58.345699310302734, -19.29156494140625, 41.92845153808594, -2.9762773513793945, 36.09884262084961, 45.932960510253906, 6.3269195556640625, 2.3442015647888184, 51.1080207824707, 23.181583404541016, -0.46661412715911865, -31.63788414001465, 47.187992095947266, -51.92622756958008, -75.597900390625, -19.196517944335938, 43.45711898803711, 19.164472579956055, -1.5285866260528564, -65.95502471923828, 63.73796463012695, 66.4528579711914, 65.65254211425781, -64.64714050292969, 29.700361251831055, -59.71565246582031, 30.648679733276367, 2.4591188430786133, -9.83057975769043, 29.02337646484375, -7.484930515289307, 47.330020904541016, 78.48316955566406, 11.030950546264648, -9.457338333129883, 78.27706146240234, -18.518701553344727, -14.476961135864258, 25.86957550048828, 8.059633255004883, -24.461444854736328, -61.45729064941406, 47.50398635864258, 50.94974136352539, -63.139339447021484, -70.8037109375, 44.374210357666016, 49.86529541015625, 62.66239929199219, -67.70924377441406, 4.620344638824463, -0.40282124280929565, 57.9845085144043, -13.077834129333496, -10.91157054901123, -16.518888473510742, -39.14929962158203, 18.162946701049805, -61.42765808105469, 8.246607780456543, 21.278118133544922, 28.314329147338867, -22.514827728271484, 16.422027587890625, -4.818122863769531, 18.375097274780273, -42.7784309387207, -55.582584381103516, 40.1300048828125, 44.20155334472656, -42.489967346191406, 67.00252532958984, 49.46088409423828, -45.85621643066406, -14.455867767333984, -27.278797149658203, 67.77800750732422, -52.30436706542969, 78.75109100341797, 7.205796718597412, 33.10504150390625, 40.055885314941406, -15.779029846191406, -38.690975189208984, 22.73714828491211, -16.481082916259766, -61.005157470703125, 46.310401916503906, 61.2769660949707, 53.72542953491211, 63.481510162353516, 78.38386535644531, 34.73506546020508, -6.4055867195129395, 17.758663177490234, 50.24311065673828, -4.257640838623047, 25.151498794555664, 77.54898071289062, -27.0219669342041, -13.908171653747559, -73.74754333496094, -19.107107162475586, -69.84501647949219, -1.6803070306777954, 23.58319664001465, 31.936389923095703, -24.59834861755371, 7.796442985534668, -29.320222854614258, 30.834938049316406, 42.374794006347656, -31.776504516601562, 13.090025901794434, 27.480541229248047, 47.0875358581543, -33.82477569580078, -55.9037971496582, 38.53776550292969, -60.35930633544922, 73.09107208251953, 30.992168426513672, -30.132829666137695, -56.68856430053711, 68.75606536865234, 28.93878746032715, 15.479594230651855, 42.84592056274414, -54.11634826660156, 4.9587178230285645, 73.30564880371094, -31.15317726135254, 57.761207580566406, 4.171287536621094, 40.51822280883789, 36.71023941040039, 26.6856689453125, 34.42234420776367, -9.585419654846191, -54.43734359741211, -43.11357116699219, 18.891138076782227, -43.90425109863281, 39.33746337890625, 26.593017578125, -19.45571517944336, -51.04354476928711, 77.73921203613281, -52.944576263427734, 23.42520523071289, 5.25764799118042, -33.05329513549805, 46.50181198120117, -60.476375579833984, 80.3902359008789, -51.90509033203125, -40.05942916870117, 17.780210494995117, 10.285601615905762, -23.120746612548828, -17.999820709228516, 45.206302642822266, 79.0184555053711, 31.118999481201172, 14.875129699707031, 60.66685104370117, 45.82756423950195, 62.780967712402344, -41.68751907348633, -50.485389709472656, -14.740248680114746, -67.00817108154297, -60.744720458984375, -39.266082763671875, 49.98017501831055, -67.95066833496094, 45.26643753051758, 57.461448669433594, 18.49998664855957, 64.36162567138672, -57.57052993774414, 65.41098022460938, -53.809871673583984, 22.620210647583008, 68.47532653808594, 26.28873634338379, -13.094263076782227, 62.74604415893555, -23.204946517944336, -78.30391693115234, 51.31499481201172, 21.814937591552734, -42.20457458496094, 18.118011474609375, -80.0614013671875, -37.55311965942383, -54.702186584472656, -63.11343765258789, -22.730972290039062, -7.459053039550781, -62.64903259277344, -59.248878479003906, -55.231685638427734, 12.176716804504395, -25.639629364013672, 63.85604476928711, -69.60953521728516, -11.552327156066895, -49.52175521850586, 13.135917663574219, 75.25938415527344, -34.65047073364258, -58.28584289550781, -34.825016021728516, 77.14907836914062, 28.81583595275879, 80.4637680053711, 28.39446258544922, -58.62975311279297, 10.27625846862793, -62.224605560302734, -5.285714626312256, 45.1668586730957, -0.0677473321557045, 31.456193923950195, 55.72197723388672, -30.560293197631836, -66.58135223388672, -50.64479446411133, 25.303462982177734, 56.54763412475586, -74.71415710449219, 27.650733947753906, 53.290794372558594, 64.50933837890625, 28.236454010009766, -61.02529525756836, -13.486143112182617, -16.8869571685791, -41.07673263549805, -28.00553321838379, 28.639272689819336, 45.81190490722656, -77.33926391601562, -62.920650482177734, 71.67477416992188, 13.737115859985352, -56.264991760253906, 45.779972076416016, 22.645170211791992, -76.82279205322266, 18.78516387939453, -8.916254043579102, -62.77630615234375, 31.364974975585938, 63.062522888183594, 32.27244186401367, -2.088250160217285, 74.43803405761719, 36.02692794799805, -60.47221755981445, -67.8448715209961, 14.87301254272461, -10.82518482208252, -61.268009185791016, -6.9118876457214355, 79.30203247070312, 6.8409504890441895, -54.97693634033203, 79.92831420898438, -34.81829833984375, -57.63948440551758, -57.43061065673828, -27.584815979003906, 29.97507095336914, 5.003127098083496, -10.104314804077148, 69.488037109375, 56.12705993652344, 18.240314483642578, -5.402013778686523, 59.24735641479492, 79.24349212646484, -54.9071044921875, -35.89973068237305, -22.749889373779297, -53.40505599975586, 13.94100570678711, 80.0689468383789, 17.53786277770996, 31.74000358581543, 55.41445541381836, 68.42085266113281, -37.496360778808594, 22.273038864135742, 17.321603775024414, -69.26956939697266, -3.6960716247558594, -4.309995174407959, -9.282254219055176, -56.79912567138672, 67.64413452148438, -21.659828186035156, -60.07380294799805, 22.355297088623047, 36.3265266418457, -54.07207107543945, -2.184972047805786, 78.21237182617188, -25.975404739379883, -59.419158935546875, -54.3529052734375, 5.289958953857422, -12.63796615600586, 5.2163004875183105, 46.04633331298828, -61.35771179199219, -31.510438919067383, -77.87287139892578, -6.993991851806641, 18.465869903564453, 29.164350509643555, 21.85478973388672, 73.1663818359375, 79.15376281738281, 29.00485610961914, -13.46811580657959, 58.59986114501953, 54.020931243896484, 4.931655406951904, -61.163368225097656, -58.60984420776367, -10.459056854248047, -9.407430648803711, 41.47119903564453, -62.360496520996094, -43.46019744873047, -8.723642349243164, -53.263431549072266, 17.80978012084961, -17.176546096801758, 20.904054641723633, -52.79656219482422, -1.676797866821289, 28.093158721923828, 53.29000473022461, -11.703510284423828, 15.830215454101562, -60.945796966552734, 52.358055114746094, 4.486686706542969, 54.712806701660156, 35.325775146484375, -66.73844146728516, -54.59557342529297, -52.19345474243164, -57.77901840209961, -17.58766746520996, -65.0198745727539, 20.600643157958984, -40.71348571777344, 3.928262710571289, 61.1270637512207, 0.8757132887840271, -12.8972749710083, 43.14738845825195, -15.911168098449707, -4.978937149047852, -27.229528427124023, 19.05706787109375, 0.3705495297908783, 34.878135681152344, -67.09859466552734, -56.44330978393555, 0.5684235692024231, 26.270671844482422, 22.798660278320312, 30.84941864013672, 16.700714111328125, -61.04828643798828, 39.3148307800293, -31.369951248168945, -11.939194679260254, 11.471858024597168], \"xaxis\": \"x\", \"y\": [-26.362478256225586, 24.012697219848633, 15.925637245178223, 23.077903747558594, 22.43084716796875, 17.94013786315918, -31.99358558654785, -21.584863662719727, 8.269700050354004, -13.028888702392578, 18.933216094970703, -22.490245819091797, -17.206941604614258, -22.799457550048828, 19.371212005615234, 27.82771873474121, -47.137977600097656, 17.52568817138672, -4.4009857177734375, 6.706888675689697, -3.0422749519348145, -13.273111343383789, 30.66139793395996, 26.187721252441406, 9.705894470214844, 1.9576693773269653, -12.193657875061035, 29.786779403686523, 17.74559211730957, 25.373872756958008, 0.07660791277885437, 17.78845977783203, -8.81088924407959, 0.981827974319458, 27.80595588684082, 23.35415267944336, 7.7669854164123535, 27.072248458862305, 14.856817245483398, 33.58170700073242, 7.8551249504089355, 34.57658386230469, -26.12473487854004, 9.068644523620605, -31.749500274658203, -46.19647216796875, 10.34962272644043, 22.821508407592773, 14.53576946258545, 18.201560974121094, -20.04302978515625, 20.503908157348633, -15.44664478302002, -6.1797285079956055, 2.7914276123046875, -3.737776756286621, 24.056766510009766, 35.84193420410156, -11.20475959777832, 29.9473819732666, 21.18661117553711, -18.660053253173828, 7.190582275390625, -10.943364143371582, -16.178482055664062, 27.35064697265625, -21.20415496826172, -50.0039176940918, -18.701406478881836, 3.9045915603637695, -22.20735740661621, 5.0070390701293945, 3.9574966430664062, 7.201247692108154, -11.556190490722656, -0.6314581036567688, 14.15590763092041, -30.959701538085938, -24.850481033325195, -2.2367851734161377, -2.044795274734497, -26.239450454711914, 27.68897247314453, -19.388689041137695, 29.37496566772461, 19.71855926513672, 33.32356262207031, 5.428085803985596, 27.779756546020508, 21.107669830322266, 27.386489868164062, 9.030081748962402, 11.515453338623047, -29.103504180908203, 25.90612030029297, 22.187837600708008, 14.019142150878906, -5.603456497192383, 20.4482421875, -10.532514572143555, 28.147579193115234, -17.529325485229492, 33.2910270690918, 4.1781697273254395, -8.601526260375977, 18.916845321655273, 24.040071487426758, -8.164549827575684, -1.4517972469329834, 23.528928756713867, -8.699782371520996, -4.189072132110596, 15.531861305236816, -7.4411749839782715, 28.604822158813477, 28.74664878845215, -43.477542877197266, 17.72944450378418, -20.700788497924805, -3.52120304107666, 8.79705810546875, -20.02659797668457, -10.11590576171875, 32.549922943115234, 13.22358512878418, 24.856914520263672, -22.970109939575195, -42.80146789550781, -52.28654861450195, -12.220243453979492, -56.02629470825195, -10.357441902160645, 21.207517623901367, -17.702451705932617, 12.289765357971191, 3.4680869579315186, 0.6629087328910828, -21.096923828125, -4.409075736999512, 28.3311767578125, -14.762852668762207, 19.389873504638672, -10.503885269165039, -23.11946678161621, 35.97533416748047, -11.543685913085938, -3.4598608016967773, -22.24552345275879, 13.253388404846191, -4.9656758308410645, 30.382949829101562, 27.276506423950195, 26.030548095703125, 21.984453201293945, 16.440065383911133, -0.60826575756073, 6.204174041748047, -5.506365776062012, 22.523235321044922, -5.859912872314453, 17.016624450683594, -6.670831203460693, 13.727669715881348, -10.810595512390137, -2.3318653106689453, 3.9865801334381104, 30.47119903564453, 16.158721923828125, -13.342646598815918, -10.928308486938477, 0.7932873368263245, -9.453756332397461, 22.56793975830078, 25.89510154724121, 23.743309020996094, 12.624187469482422, 32.978172302246094, -29.844736099243164, 2.5817768573760986, -8.591553688049316, 4.931866645812988, 25.841320037841797, 32.1156120300293, -15.031342506408691, 11.042384147644043, 3.1165575981140137, -1.6419289112091064, -0.10413100570440292, 31.789554595947266, -18.031639099121094, -16.761734008789062, 31.856298446655273, -11.621307373046875, 27.34391212463379, -11.397697448730469, 6.934631824493408, -14.30299186706543, 17.591838836669922, -0.011514846235513687, -16.20723533630371, -1.17770516872406, 28.834077835083008, -17.119518280029297, -1.264197587966919, 34.491065979003906, -59.670074462890625, 10.38219928741455, 3.95143461227417, 28.308547973632812, 6.098400592803955, -25.06903839111328, 26.533401489257812, -1.1215492486953735, 20.442121505737305, 9.578558921813965, 27.59794807434082, 1.5350196361541748, -8.644073486328125, 21.97064971923828, 12.663666725158691, -10.937665939331055, -55.48374938964844, 13.401102066040039, -14.122200965881348, -46.298858642578125, 11.343551635742188, -47.356536865234375, 30.540725708007812, -0.3356708884239197, 14.105958938598633, -43.60251998901367, -20.076438903808594, 25.439573287963867, 10.77202033996582, -0.43939244747161865, 24.170352935791016, -22.041227340698242, 24.78367042541504, -16.925567626953125, -10.253396034240723, -28.69083023071289, 5.0528244972229, -46.65578842163086, -22.931381225585938, -10.592132568359375, 29.941978454589844, 5.011255741119385, -12.788262367248535, 19.1929874420166, 10.745243072509766, -19.830501556396484, 13.757291793823242, -11.139566421508789, -29.521488189697266, -4.041356086730957, 6.508509635925293, -30.88457679748535, -15.487255096435547, -45.8669548034668, 1.155755877494812, 31.762907028198242, 18.194589614868164, 21.313806533813477, 16.29475212097168, -15.124841690063477, 12.197453498840332, 6.169001579284668, -4.04206657409668, -22.35368537902832, -3.085447311401367, 10.323676109313965, 8.826953887939453, -18.570301055908203, 3.1975724697113037, 20.84080696105957, 0.8449183106422424, 15.752625465393066, -13.498444557189941, 9.090283393859863, 8.878989219665527, -0.41309112310409546, 7.499485015869141, -60.18631362915039, -55.56269073486328, 10.06162166595459, 14.796095848083496, 11.331852912902832, -2.6910271644592285, -23.257394790649414, -18.109970092773438, 12.730088233947754, 2.136314868927002, -18.95121192932129, 1.6516547203063965, 17.617382049560547, 11.440171241760254, 22.055749893188477, 26.058643341064453, -6.915971279144287, -22.551097869873047, 5.7883124351501465, -27.55584144592285, -17.24688720703125, 24.927915573120117, 11.847334861755371, -4.402097702026367, 13.6898832321167, 13.201615333557129, -12.5565767288208, 0.7450346350669861, -11.226358413696289, 10.81835651397705, -10.344548225402832, 32.82685470581055, 11.09129810333252, 32.68742370605469, -19.9864501953125, 10.166098594665527, -21.117351531982422, -17.678178787231445, 2.543175220489502, 3.7622804641723633, 11.552241325378418, 6.362828731536865, -31.809267044067383, 4.138998031616211, 34.700782775878906, -30.484291076660156, -2.388327121734619, 5.1260881423950195, 22.2370662689209, -4.47435998916626, -10.232510566711426, 30.29361343383789, 7.753643035888672, 6.520946025848389, 0.29403433203697205, 31.16112518310547, -21.702735900878906, 26.711132049560547, 16.957971572875977, 24.624990463256836, 36.02717590332031, 3.7690510749816895, 19.810199737548828, 5.8632378578186035, -1.132042407989502, 10.672395706176758, 17.17641830444336, 35.05599594116211, 23.719419479370117, 31.574941635131836, -0.5466326475143433, 24.95551300048828, 3.7499425411224365, 2.6577911376953125, -21.67769432067871, -7.234124660491943, -28.72525405883789, 31.712696075439453, -29.15346908569336, 10.43936824798584, -16.77044105529785, -19.13479232788086, -17.543333053588867, -14.477519989013672, -29.815988540649414, -3.294238567352295, 10.992887496948242, -21.76992416381836, -26.915830612182617, -13.652868270874023, 8.8141450881958, 23.632116317749023, 3.9452757835388184, -9.558881759643555, -7.5771050453186035, 4.673501968383789, -19.744598388671875, 1.7010689973831177, -8.71923828125, -16.13005256652832, -12.157676696777344, 33.09480285644531, 8.957939147949219, -1.4848498106002808, -13.190109252929688, 27.50661849975586, -53.94735336303711, -30.746639251708984, 4.488958358764648, 4.247719764709473, -3.118720769882202, -0.5794045925140381, 18.392345428466797, 31.35491371154785, -6.946744918823242, 3.6643853187561035, -50.556396484375, -54.310150146484375, 18.816570281982422, 24.787981033325195, -16.65004539489746, -48.98728561401367, 11.948484420776367, 0.18778924643993378, 11.483290672302246, -16.329195022583008, -52.54664611816406, 9.53747844696045, 27.57437515258789, 20.268539428710938, 17.524736404418945, -17.546775817871094, -19.37730598449707, -25.531585693359375, -3.00856614112854, 7.837338924407959, 11.808039665222168, -0.2587045729160309, 26.9874267578125, 6.027065277099609, 28.869247436523438, 17.197072982788086, -46.82163619995117, -1.0483750104904175, 24.405517578125, 1.2202143669128418, 24.94842529296875, -20.55869483947754, 21.93131446838379, 12.449779510498047, 3.133857250213623, 7.131496906280518, 10.97015380859375, 5.901437282562256, 18.589561462402344, -0.8337734937667847, 10.378181457519531, -4.367141246795654, -14.91179084777832, -11.558544158935547, -0.6236231327056885, -10.123961448669434, -18.866994857788086, -0.43794915080070496, 23.14588165283203, 7.838954448699951, -3.520862102508545, -26.26544761657715, 10.52273178100586, -51.91134262084961, -13.720590591430664, -22.72093963623047, 30.472890853881836, 9.462053298950195, -27.859773635864258, -4.492733478546143, 11.710638046264648, -17.32552146911621, 2.578737258911133, 22.47509765625, -61.38802719116211, -17.40860366821289, -44.731143951416016, -18.94921875, 2.6141815185546875, -30.130512237548828, -23.45459747314453, 1.7908951044082642, -20.18916130065918, -14.129288673400879, 15.239144325256348, -13.909749031066895, -0.8961004614830017, 4.826649188995361, -16.91136360168457, -5.046034336090088, 11.955002784729004, -12.044145584106445, -10.457777976989746, 11.31878662109375, 20.23758888244629, 17.5739688873291, 8.428653717041016, -31.251935958862305, -8.643778800964355, 19.400283813476562, -7.77678108215332, -19.913711547851562, 11.641915321350098, 10.2454195022583, -24.92741584777832, -30.755537033081055, 17.952516555786133, -22.65183448791504, 16.69989585876465, -24.302583694458008, 25.510156631469727, 6.5813093185424805, 14.384506225585938, 4.355539321899414, 4.554504871368408, -23.261152267456055, 5.8394060134887695, 9.806780815124512, -1.4654704332351685, -13.003238677978516, 4.365805625915527, -53.18865966796875, -5.203004837036133, -53.54795455932617, 13.95200252532959, -43.854759216308594, 12.591859817504883, -2.3862669467926025, -31.394086837768555, -3.567910671234131, -0.2305755317211151, 11.084182739257812, -11.862019538879395, 33.756866455078125, -9.459580421447754, 22.66513442993164, -45.4868049621582, -16.694337844848633, -43.66282272338867, -16.673917770385742, 24.071874618530273, -30.396717071533203, -16.003042221069336, -13.024276733398438, 31.860074996948242, 8.266080856323242, 9.034082412719727, 7.346548080444336, -10.112491607666016, 8.958080291748047, -0.8249042630195618, -22.60712432861328, -0.9818353056907654, 13.708541870117188, 30.969402313232422, 11.191007614135742, 35.863555908203125, 0.580366849899292, 5.109005928039551, -10.135265350341797, -3.1988918781280518, -0.9835734963417053, -22.98021697998047, 2.6842777729034424, 4.22832727432251, 10.925904273986816, 36.190093994140625, 10.634305000305176, 16.68750762939453, -3.4502551555633545, -22.99571990966797, 17.938840866088867, -50.52302932739258, -8.146326065063477, -15.48903751373291, 4.020334243774414, -16.318265914916992, 14.078019142150879, -17.678531646728516, -3.785428524017334, -13.462608337402344, 12.111300468444824, -14.481910705566406, 12.731152534484863, 13.380890846252441, 24.150114059448242, -46.98521041870117, -3.543076276779175, -13.574481964111328, 4.017339706420898, 12.942107200622559, 6.784452438354492, -19.2285099029541, 22.58047103881836, -17.304771423339844, -22.83665657043457, -2.1859865188598633, 9.79945182800293, 3.100053071975708, 6.042476177215576, -25.945537567138672, -31.607046127319336, 4.5143327713012695, 13.72314739227295, 12.349431037902832, -1.0971134901046753, 4.96133279800415, 30.58696746826172, -1.137991189956665, 14.189193725585938, -20.28160285949707, 20.63554573059082, 0.3500220477581024, 5.774670600891113, -7.560462951660156, 20.253324508666992, 17.140167236328125, 30.249309539794922, -58.19871520996094, -0.8918320536613464, -12.928386688232422, 19.665456771850586, -18.449277877807617, -22.248395919799805, 7.538045883178711, 24.78219985961914, 14.900605201721191, -24.39698600769043, 4.373549461364746, -16.52310562133789, -21.57314682006836, -19.712656021118164, 21.4844970703125, 15.001204490661621, -2.7752225399017334, -44.295406341552734, -20.42759895324707, 18.692028045654297, 27.33856201171875, 3.7839901447296143, 12.927343368530273, 25.747629165649414, 24.532197952270508, -26.076030731201172, 0.9725676774978638, 9.379034996032715, -59.32292938232422, -1.7831907272338867, -13.015311241149902, 0.36696335673332214, -9.492819786071777, 33.27144241333008, 21.106414794921875, 18.752634048461914, -27.32297134399414, 12.134668350219727, -21.43039321899414, 13.84894847869873, -10.716923713684082, -23.940004348754883, 17.235185623168945, -19.35745620727539, 5.829111576080322, -29.6793212890625, 10.81699275970459, -10.322319030761719, -11.085301399230957, 14.18069076538086, -53.92355728149414, 4.143009662628174, 6.062624454498291, -2.9054689407348633, -29.75556182861328, -10.777314186096191, -13.466585159301758, 5.8194990158081055, 7.486819744110107, -20.085712432861328, -15.1287260055542, 17.359294891357422, -0.5240203142166138, 3.71514630317688, 0.5699684023857117, -57.69344711303711, -8.991451263427734, -43.03396987915039, 3.597705841064453, -32.63740539550781, 29.50096321105957, -20.64789581298828, 5.530816078186035, -31.93976593017578, -19.345947265625, -25.254182815551758, -22.143550872802734, 11.131108283996582, -30.23351287841797, -17.117162704467773, -19.700227737426758, -14.806819915771484, 11.26303768157959, 31.328475952148438, 8.217665672302246, -15.863961219787598, 19.645343780517578, 19.10104751586914, 6.8739728927612305, -22.349552154541016, -8.590980529785156, 32.3186149597168, 16.66673469543457, 1.367723822593689, 6.8672661781311035, 22.31982421875, -17.1083927154541, -21.107051849365234, 19.489547729492188, -12.005313873291016, -5.211349010467529, -44.76523971557617, -10.282196998596191, 32.18423080444336, 27.010042190551758, 2.0605692863464355, 34.35831832885742, 12.125819206237793, -0.5532976984977722, -23.88019561767578, 26.713411331176758, 1.539685606956482, -43.08727264404297, -47.31147384643555, 10.455361366271973, 6.814968585968018, -16.10216522216797, 17.2874813079834, -7.268728733062744, -1.9349159002304077, 17.484851837158203, 11.872435569763184, -6.762845039367676, 6.649064540863037, -6.666449069976807, -22.943363189697266, -20.56572914123535, 28.248611450195312, 2.3259024620056152, -7.355200290679932, 26.169841766357422, -32.69796371459961, -28.818649291992188, -1.2423648834228516, -10.370670318603516, 4.73477029800415, -15.670284271240234, 29.42125129699707, 27.929920196533203, 30.159399032592773, -17.88149070739746, 28.063217163085938, 30.09056854248047, -2.9934818744659424, 9.669671058654785, -13.6973876953125, -11.639558792114258, -0.9100748300552368, 1.149767518043518, -3.2255868911743164, -22.56348991394043, 20.931793212890625, 24.29510498046875, -51.85163497924805, 5.836012363433838, 27.722232818603516, 10.443643569946289, 0.5290442109107971, 14.424890518188477, -4.246161460876465, 6.175350189208984, -0.07135091722011566, -9.816197395324707, 34.77243423461914, 27.847496032714844, -13.125221252441406, -9.97669792175293, -2.5602877140045166, -52.11181640625, -47.16049575805664, -13.255986213684082, 3.1643803119659424, 24.187105178833008, -2.357819080352783, -0.7803508639335632, -6.912806034088135, -19.611997604370117, 1.6971582174301147, -30.391626358032227, 17.0865535736084, -21.033676147460938, -55.18330383300781, 1.0694786310195923, -44.53496551513672, -1.8270145654678345, 11.930882453918457, 22.643808364868164, 15.350393295288086, 23.934947967529297, -19.6220760345459, 25.23472785949707, -30.135059356689453, -13.377422332763672, 5.012638092041016, 24.498079299926758, -25.098230361938477, -18.90523338317871, -24.52088165283203, 7.572251796722412, 28.51521110534668, -22.422443389892578, -3.985541820526123, 26.165225982666016, 14.321026802062988, -24.597448348999023, -19.720788955688477, -30.069244384765625, -16.828187942504883, -59.6560173034668, 18.074357986450195, -16.172069549560547, -1.0265583992004395, -2.145038604736328, 12.030362129211426, 24.810422897338867, 18.902666091918945, -12.740297317504883, -15.241174697875977, -29.97933578491211, 3.358628511428833, 6.773120403289795, -20.13701820373535, 23.796295166015625, -8.260027885437012, -62.13545227050781, -32.39234161376953, 29.292240142822266, 29.50334358215332, -29.35712432861328, -3.7518234252929688, 13.061506271362305, -20.39822006225586, -0.4085966944694519, -55.503929138183594, -1.594906210899353, -5.807065010070801, 20.84918975830078, -31.200681686401367, 18.626232147216797, 18.511146545410156, 5.178414821624756, 13.601585388183594, -3.442758560180664, -21.415267944335938, -18.049192428588867, -13.49274730682373, -9.745691299438477, 9.934325218200684, 6.318509578704834, 22.761293411254883, -22.03734016418457, -30.34781265258789, 7.355244159698486, 20.511749267578125, -0.712165892124176, 32.41273880004883, 10.984787940979004, 5.451779842376709, 22.482452392578125, -1.2941627502441406, 20.203609466552734, -60.573604583740234, 6.646074295043945, -1.86990225315094, -3.052962303161621, 7.994880199432373, 7.300759315490723, 8.767780303955078, -11.567174911499023, 21.462583541870117, 14.097845077514648, 11.946637153625488, 8.482253074645996, 3.5201597213745117, -31.02773666381836, 33.902347564697266, 24.006938934326172, -10.602208137512207, 6.106552600860596, 24.406192779541016, -2.9044909477233887, 1.210983157157898, 7.014705657958984, 33.33085250854492, 15.158079147338867, -3.612786293029785, -1.1154519319534302, 30.872116088867188, -49.62541198730469, -30.75747299194336, -19.61558723449707, 35.24153518676758, 24.299169540405273, 4.616791248321533, -7.390737533569336, -3.0146889686584473, 0.12812425196170807, 17.52476692199707, -2.218073844909668, 5.80258321762085, 15.980291366577148, -0.00077915278961882, -10.542160034179688, 21.876842498779297, 14.046786308288574, -11.088288307189941, -9.24342155456543, 22.450973510742188, 6.550012588500977, -20.43446922302246, -23.69101333618164, -27.290279388427734, 16.033485412597656, 16.36716079711914, -32.153778076171875, -26.495990753173828, 9.298372268676758, 5.161915302276611, -0.0494193360209465, -3.637899875640869, -26.774578094482422, 10.809285163879395, -46.904510498046875, 15.417682647705078, -22.031749725341797, -9.534097671508789, 14.598095893859863, 33.855377197265625, -17.634449005126953, -0.3267761170864105, -21.861093521118164, 7.3990678787231445, 5.881197929382324, -55.77732849121094, 4.69936466217041, -10.441764831542969, -6.568872928619385, 26.42133331298828, 11.11145305633545, -9.158089637756348, 6.834700584411621, -14.872333526611328, 24.161901473999023, 21.531404495239258, 31.26227569580078, 9.837241172790527, 14.251568794250488, 29.760967254638672, 26.463294982910156, -56.45161056518555, -23.848281860351562, -7.656200408935547, 3.043301582336426, 5.357812404632568, 26.37080192565918, 14.199749946594238, 9.750839233398438, 36.749961853027344, 12.539884567260742, -20.48036003112793, 18.23662567138672, 3.0150811672210693, -48.65251541137695, -17.808101654052734, -18.335092544555664, -17.972976684570312, -20.140138626098633, 26.737789154052734, 27.598922729492188, -27.90738296508789, 9.785901069641113, -5.232849597930908, -15.045769691467285, -0.9057319164276123, -51.81758499145508, -26.022462844848633, 7.037095546722412, -2.6244945526123047, -0.6270892024040222, -5.027152061462402, 27.8858699798584, -12.496026039123535, -18.819177627563477, 4.376867771148682, 7.412477493286133, 18.94239616394043, 36.02440643310547, 29.087343215942383, 8.049308776855469, 18.96082305908203, -22.182893753051758, 5.906154632568359, -7.235101222991943, 11.339214324951172, -17.078798294067383, -11.22293758392334, -21.295461654663086, 4.242558479309082, -3.543584108352661, -29.819250106811523, -6.1547746658325195, -29.108766555786133, -29.887950897216797, -28.091064453125, -7.969488143920898, 32.8365592956543, -28.857358932495117, -3.7222981452941895, 19.963693618774414, 9.127885818481445, 13.199546813964844, 9.835981369018555, 0.917858898639679, -60.0196418762207, 17.446208953857422, 24.563051223754883, 33.285125732421875, -16.77879524230957, 27.606266021728516, -23.27920913696289, 19.545669555664062, 32.29212188720703, -12.01459789276123, 11.291911125183105, -18.1001033782959, 33.83876037597656, -30.800111770629883, -22.82573699951172, 7.787727355957031, -17.09710121154785, 3.0083203315734863, 6.572411060333252, -16.211143493652344, 12.904379844665527, 25.791311264038086, -4.115885257720947, -13.996475219726562, -21.596799850463867, -17.27771759033203, 1.0305914878845215, -15.515450477600098, -19.411108016967773, -28.74860382080078, 26.002506256103516, 18.819494247436523, -49.2122688293457, 10.140761375427246, -11.74839973449707, -23.435880661010742, -30.16002082824707, -0.8717365860939026, -6.475719928741455, -0.4598107933998108, -57.8812255859375, 14.482229232788086, 3.543208360671997, 18.611616134643555, 3.217966318130493, -31.514558792114258, 9.800652503967285, -3.037925958633423, 27.710121154785156, -18.440324783325195, -9.620246887207031, -46.40102767944336, 36.00813293457031, 20.1389102935791, -27.727293014526367, 3.761446952819824, -20.81279945373535, -16.109933853149414, 2.8561928272247314, 19.753459930419922, 3.424267530441284, 24.068601608276367, 14.067314147949219, 9.879128456115723, 32.552223205566406, -10.81538200378418, 14.697979927062988, 8.463593482971191, 14.87614631652832, -9.75512981414795, -17.56924057006836, 30.987682342529297, 7.686040878295898, -2.030958890914917, -14.433963775634766, -26.359037399291992, 15.01185131072998, 6.912694454193115, 3.984165906906128, -1.7922459840774536, -0.013893477618694305, -21.57923126220703, 18.744915008544922, 13.680866241455078, 4.665859699249268, -27.681779861450195, 4.2116804122924805, 4.776359558105469, 3.3230583667755127, -28.359756469726562, -9.375024795532227, -9.005091667175293, 24.100221633911133, 19.024169921875, -30.618497848510742, 1.2513593435287476, -6.725803375244141, -13.138712882995605, -27.375478744506836, 9.90024471282959, 12.502077102661133, 35.28178787231445, 12.33127212524414, 26.565275192260742, 9.826212882995605, -24.739097595214844, 32.440853118896484, 8.359092712402344, 21.461565017700195, 11.954155921936035, -10.433808326721191, -44.66120910644531, 7.996597766876221, 32.59629821777344, -1.9682387113571167, -3.857858180999756, -11.579282760620117, -6.638061046600342, -2.3119540214538574, -0.6979348063468933, 18.08357048034668, 11.34676742553711, -8.303174018859863, -3.338052749633789, -17.909595489501953, 20.348514556884766, 11.689274787902832, 2.1088199615478516, -1.480988621711731, -29.740421295166016, 0.8358110785484314, 1.193397045135498, 33.07611846923828, 23.064313888549805, -8.589526176452637, 9.030682563781738, 19.85062599182129, -30.64429473876953, -2.962548017501831, -3.409525156021118, 23.16031837463379, 18.653274536132812, 33.78938674926758, -8.866598129272461, -9.576441764831543, -30.279685974121094, 35.00325393676758, -22.2775821685791, 22.918607711791992, 16.010494232177734, -1.1073787212371826, 34.781089782714844, 2.22849440574646, 16.785070419311523, -53.80263900756836, -21.237215042114258, 33.28359603881836, 29.90300750732422, 15.831686973571777, 2.4157662391662598, -43.9158821105957, 15.702900886535645, 14.082307815551758, 14.961616516113281, 26.14674186706543, -19.99314308166504, -6.1157355308532715, 36.9464225769043, -32.109893798828125, -12.230135917663574, 0.939638614654541, -58.157737731933594, -8.02677059173584, -22.558696746826172, 29.263132095336914, 10.973331451416016, 13.963726997375488, 26.79537582397461, 11.275924682617188, 7.390224456787109, -1.2354161739349365, 13.139728546142578, 1.458374261856079, -15.301433563232422, -30.263017654418945, 35.61485290527344, -17.549793243408203, 29.311174392700195, -24.415246963500977, -3.5370688438415527, -20.30523681640625, -11.604248046875, -4.478559494018555, -49.03676986694336, 7.086283206939697, 27.433454513549805, 7.783509731292725, -22.13786506652832, 8.977489471435547, -56.024330139160156, -1.1724772453308105, -17.71281623840332, -7.962825775146484, -16.350685119628906, 32.851356506347656, 12.719104766845703, 9.94428539276123, -15.893345832824707, 31.759401321411133, -0.911226749420166, 4.10273551940918, -0.7505974173545837, 32.833518981933594, 14.766021728515625, -2.695667028427124, -19.36215591430664, 10.424715042114258, 20.61710548400879, -21.49766731262207, -49.50202941894531, -2.028022050857544, 21.388391494750977, 2.705409526824951, 29.301008224487305, 16.89229393005371, -10.934947967529297, -58.60074234008789, -20.14116859436035, 5.060357570648193, -0.10648749768733978, -20.94272232055664, 1.6509698629379272, 8.53277587890625, -26.99847984313965, 10.273868560791016, -9.539291381835938, 33.409664154052734, -29.2513484954834, -4.599062442779541, -7.944591522216797, 5.8366522789001465, -1.8626459836959839, -58.40879440307617, -33.25932693481445, 28.170516967773438, -30.021677017211914, 17.45035171508789, -1.0964281558990479, 3.6110963821411133, 12.717987060546875, -10.593375205993652, -19.6944580078125, 2.1582186222076416, -1.7545733451843262, 12.266963958740234, -48.446048736572266, -12.920206069946289, -18.239864349365234, 31.89847755432129, 32.96621322631836, 10.769652366638184, 37.5225944519043, 30.234058380126953, 13.973958015441895, 23.10542106628418, 7.412275314331055, -10.784708023071289, 18.84096908569336, 33.60073471069336, 16.520305633544922, 37.3131217956543, 5.5276994705200195, 3.6144778728485107, 2.2722127437591553, -10.534785270690918, 15.904621124267578, -14.5679931640625, -17.902578353881836, -26.687450408935547, 11.613499641418457, -13.12899398803711, 4.437022686004639, 10.260363578796387, -2.2460083961486816, -43.5522575378418, -45.24315643310547, -31.303699493408203, -47.168617248535156, 10.661993026733398, 7.5803680419921875, -0.5992245078086853, -43.904483795166016, 12.647006034851074, -14.799093246459961, 20.06121826171875, 31.879709243774414, -54.897308349609375, -16.956571578979492, -25.985830307006836, 14.498246192932129, -2.2396304607391357, 3.4408657550811768, -18.345264434814453, 21.320846557617188, -3.456538438796997, -6.972550392150879, -43.85118103027344, 33.21045684814453, -29.553348541259766, 24.59983253479004, 26.984758377075195, 28.65159034729004, -9.69704818725586, 10.403170585632324, 19.409921646118164, -2.3863236904144287, -9.132377624511719, -10.064676284790039, 28.277494430541992, 17.96889305114746, 31.118989944458008, -9.391681671142578, -8.47866153717041, 21.95637321472168, 15.691434860229492, -18.74460792541504, 14.815801620483398, 15.473370552062988, -1.6634279489517212, -29.934120178222656, 21.51529312133789, 31.62900161743164, 7.63881778717041, 14.807662010192871, -61.325531005859375, 11.47119140625, -6.641026496887207, 27.473962783813477, -57.83406066894531, 23.830745697021484, -9.802387237548828, -61.05677795410156, -13.5497407913208, 32.40897750854492, -17.772748947143555, -8.813185691833496, -20.160125732421875, -56.404788970947266, -28.907609939575195, -8.373908996582031, 30.12795066833496, 3.123457193374634, 17.241260528564453, -7.425163745880127, 26.914148330688477, -47.57856369018555, 17.660968780517578, 4.411715030670166, 10.819055557250977, -19.584657669067383, -28.607608795166016, -15.44090461730957, 14.671395301818848, 15.573280334472656, 22.3004207611084, 15.437506675720215, -0.55735844373703, 13.089424133300781, 3.5871288776397705, 13.742560386657715, 1.091166615486145, -8.56954574584961, 1.9998184442520142, 14.30393123626709, -8.788697242736816, 18.069950103759766, -12.449548721313477, 1.8501372337341309, 29.246551513671875, 25.772825241088867, -30.795024871826172, -27.819005966186523, 2.6333823204040527, 17.244129180908203, -8.496698379516602, 35.155433654785156, -1.4018634557724, 29.724565505981445, -18.481407165527344, -3.293172597885132, 1.7401423454284668, 22.183467864990234, 27.17571258544922, -29.926822662353516, 18.455951690673828, 0.23139075934886932, 22.161808013916016, -2.538360118865967, 6.04219913482666, 4.817034721374512, 21.582923889160156, 33.95722198486328, -19.171838760375977, 33.73362731933594, -9.587560653686523, -26.783214569091797, 3.911459445953369, -11.683828353881836, 8.974499702453613, -8.906691551208496, -18.202150344848633, 3.8287506103515625, -28.47334098815918, 3.3826303482055664, 0.1298261135816574, 35.28038024902344, 8.559660911560059, 5.297821998596191, 37.94966125488281, 19.020116806030273, 35.19205856323242, 14.536489486694336, -20.09389877319336, 36.983612060546875, 16.383420944213867, -25.516006469726562, -6.411709785461426, -55.58855438232422, 20.762231826782227, 22.51746368408203, 1.2523852586746216, -17.244115829467773, -17.28363800048828, -12.290996551513672, 20.950719833374023, 27.549999237060547, 3.3802826404571533, -24.203290939331055, 9.439057350158691, -19.309078216552734, -47.697486877441406, -56.28434753417969, -4.94198751449585, 15.11553955078125, 34.82069396972656, -27.84697151184082, 5.943328380584717, 10.809104919433594, 3.4441583156585693, 20.482433319091797, -44.61386489868164, 1.1279093027114868, -11.657384872436523, -32.65166473388672, 1.6862128973007202, 5.06300687789917, -20.876501083374023, -15.142727851867676, 16.155834197998047, -12.868388175964355, -3.7629222869873047, 28.88399314880371, -30.585969924926758, 4.31673526763916, 20.034833908081055, -2.956387519836426, -28.965116500854492, -11.243154525756836, -31.750654220581055, -14.6198148727417, 3.50641131401062, 28.19805145263672, -20.35625648498535, 22.970882415771484, -1.0472865104675293, -17.745019912719727, -31.047388076782227, 13.73592472076416, 34.70042419433594, -5.66876745223999, -20.238243103027344, 9.896783828735352, -29.88994598388672, -32.806968688964844, 8.031583786010742, 6.608989238739014, -2.3653500080108643, -17.478891372680664, -5.2175679206848145, 17.16831398010254, 9.586209297180176, 35.197471618652344, -15.015863418579102, 31.74245262145996, -56.63459396362305, 10.747411727905273, -21.639453887939453, -6.5965189933776855, 30.819591522216797, 7.872828483581543, -4.247735500335693, 18.724449157714844, -4.045597553253174, 21.533416748046875, 30.841238021850586, 25.769121170043945, -14.250937461853027, -25.044971466064453, 4.048605442047119, -20.210453033447266, 10.569701194763184, -18.531679153442383, -29.6843204498291, 33.059600830078125, 13.120284080505371, 12.160457611083984, -0.7871246337890625, -57.21152114868164, -14.585864067077637, -44.591766357421875, -60.78235626220703, 6.402671813964844, 24.23470687866211, 16.55636215209961, 27.163122177124023, -27.37000846862793, 32.35353088378906, -28.852325439453125, 28.898195266723633, 11.29964542388916, -19.06214141845703, -54.695945739746094, -25.419055938720703, 30.43108558654785, 16.008821487426758, -22.276094436645508, 33.96099090576172, 11.562066078186035, -17.414764404296875, -17.988353729248047, -18.606016159057617, 12.244770050048828, -23.18758773803711, 3.063920736312866, 17.004892349243164, 1.6740072965621948, 29.737852096557617, -6.639946460723877, -9.079496383666992, 13.110372543334961, 5.124839782714844, 11.28815746307373, 8.26854133605957, -17.773441314697266, 7.844990253448486, -10.249476432800293, 25.265853881835938, 2.2530157566070557, -3.80501127243042, -11.739076614379883, 8.198465347290039, 28.390352249145508, 20.222328186035156, -12.441028594970703, 4.157693862915039, 32.507728576660156, -24.279735565185547, -54.588050842285156, 13.368925094604492, 30.60970687866211, -30.75556182861328, -1.0579952001571655, 18.500913619995117, 1.281315803527832, -2.851973056793213, 4.2060627937316895, 8.328365325927734, 16.552860260009766, -16.736377716064453, 32.4403076171875, -21.900392532348633, -27.398639678955078, -30.05322265625, 17.164995193481445, -21.910276412963867, -9.284236907958984, -44.02397918701172, -0.6596950888633728, 35.55610656738281, -18.18343734741211, -20.619421005249023, -32.383872985839844, 3.5069522857666016, -10.17225456237793, 0.06118990480899811, 12.23265552520752, -1.0036429166793823, 1.096716284751892, 19.29337501525879, 11.637480735778809, 30.658273696899414, 11.476828575134277, 31.33305549621582, -18.11750602722168, 17.018007278442383, 2.1663618087768555, 1.0305306911468506, 0.919228732585907, 13.947381973266602, 2.0719034671783447, 17.868318557739258, -21.460912704467773, 32.17640686035156, -13.276101112365723, -2.0676217079162598, 29.289806365966797, -14.802988052368164, -16.072900772094727, 7.646482467651367, -45.727508544921875, -17.943092346191406, 11.526341438293457, -22.388980865478516, -1.8611302375793457, 23.844690322875977, 4.904862403869629, -44.18757247924805, 4.742156505584717, 16.42180824279785, 9.400161743164062, -13.600823402404785, -49.038970947265625, -20.816749572753906, -29.94447135925293, -19.663902282714844, 23.85686492919922, -20.447450637817383, -14.669305801391602, -12.733382225036621, 8.231914520263672, 13.026938438415527, -53.02973937988281, -4.940718650817871, 5.154308795928955, -2.999018430709839, 20.048566818237305, -18.325634002685547, -48.51321792602539, -7.852357864379883, 14.052663803100586, -2.33072829246521, -15.686817169189453, -34.20408630371094, 5.428818225860596, 8.046688079833984, 35.199005126953125, 11.494237899780273, -24.092830657958984, 17.90106201171875, -15.378219604492188, 20.484333038330078, -25.487625122070312, 13.961148262023926, 2.625117063522339, -15.541050910949707, -17.52448272705078, -8.941023826599121, -15.9396390914917, -28.49558448791504, -55.86626434326172, -3.140148162841797, 26.151926040649414, 14.184937477111816, -3.6375272274017334, 0.7045207619667053, 23.850740432739258, -29.479373931884766, -8.718817710876465, -24.926925659179688, -57.00093460083008, 8.938835144042969, 21.590349197387695, 25.820905685424805, 18.807100296020508, -22.287364959716797, 24.97112274169922, -0.18273422122001648, 27.24312400817871, 9.198332786560059, 18.548601150512695, 32.997718811035156, -0.7835118770599365, -6.503687381744385, -28.408037185668945, -20.27927589416504, 15.984981536865234, -22.599245071411133, -29.485801696777344, -22.808029174804688, 13.262567520141602, 15.384385108947754, 27.6254940032959, 6.562525749206543, -24.289722442626953, -28.49907875061035, -33.06003952026367, -1.9708647727966309, 4.98866081237793, 15.30727481842041, 22.076011657714844, -29.842466354370117, 5.054018974304199, 27.694971084594727, -26.506040573120117, 37.32991409301758, 10.1467866897583, 4.059088230133057, 17.191654205322266, -25.917184829711914, 4.32680606842041, 32.5989990234375, 10.926156044006348, -46.825504302978516, -0.7112164497375488, 11.397191047668457, -33.506412506103516, -1.4846302270889282, 11.183796882629395, 20.015838623046875, -17.235191345214844, -62.08510208129883, -15.641818046569824, 29.435514450073242, -49.156341552734375, 25.382139205932617, -13.991411209106445, -22.5549373626709, -2.4960694313049316, 37.365875244140625, 28.381532669067383, 24.476476669311523, 27.604822158813477, -11.41335678100586, 16.200618743896484, 5.884779453277588, -53.98292922973633, 26.893217086791992, -24.044445037841797, -60.50700759887695, -4.988793849945068, 13.310757637023926, 10.809542655944824, -18.716724395751953, 2.4525036811828613, 3.16802978515625, 34.55354690551758, 10.81555461883545, -43.319541931152344, -16.522716522216797, -45.1932373046875, 11.264530181884766, 31.834692001342773, 33.047000885009766, 20.58768653869629, 26.94646453857422, 31.305927276611328, 25.050493240356445, 24.218631744384766, 13.613028526306152, -15.969274520874023, 27.8832950592041, 29.645503997802734, 32.014137268066406, 34.96846389770508, -17.064498901367188, -15.160648345947266, 15.567837715148926, -2.9090123176574707, 30.371318817138672, 14.302835464477539, 16.296464920043945, 7.201766490936279, -17.926044464111328, -8.76517391204834, -12.121295928955078, 19.82032012939453, -3.7592904567718506, 25.19295310974121, -0.7865598201751709, 3.3244645595550537, -0.4572446942329407, 13.023017883300781, 8.468612670898438, -21.21038246154785, 10.273685455322266, 0.025140350684523582, 12.007004737854004, -45.66173553466797, 5.253502368927002, 2.409940242767334, 24.861038208007812, 35.805484771728516, -27.90572738647461, -2.962845802307129, -3.620560884475708, 31.467361450195312, 29.44851303100586, 0.8883249163627625, 19.51386260986328, -13.506148338317871, 28.514904022216797, 13.766101837158203, 19.948453903198242, -29.97591781616211, 30.855113983154297, -13.954833030700684, 30.790996551513672, 9.72380256652832, -9.330811500549316, 10.783519744873047, 30.879302978515625, -11.399322509765625, -19.198301315307617, -21.703691482543945, 24.997478485107422, -31.343807220458984, -52.75098419189453, -6.851675033569336, 6.584232330322266, 7.100826263427734, 0.8678753972053528, -1.7602814435958862, 4.3138298988342285, 0.8188875913619995, 10.938921928405762, -0.2107779085636139, 6.975072383880615, 11.50153636932373, 14.204522132873535, 5.537524223327637, 19.84229850769043, -7.029191017150879, 26.724994659423828, -20.16091537475586, -18.55945587158203, 31.66923713684082, -61.86305618286133, 27.961225509643555, 23.4692440032959, 11.904623031616211, 11.866203308105469, -18.368371963500977, 7.962859630584717, -22.384807586669922, 33.627681732177734, 34.07764434814453, 20.577157974243164, -7.440043926239014, 29.129026412963867, -0.3360149562358856, 13.048614501953125, 11.610644340515137, 28.35536003112793, 12.853987693786621, -17.632511138916016, 3.877288579940796, 32.16407775878906, 34.7205696105957, 25.162582397460938, 20.658279418945312, -44.61436462402344, 20.57575225830078, -11.811135292053223, 10.918960571289062, 14.369890213012695, 0.8833906650543213, 26.116865158081055, 2.025284767150879, 31.137451171875, 3.8879244327545166, 14.495525360107422, 4.469392776489258, 9.306135177612305, -23.911245346069336, -1.0585299730300903, -2.3611600399017334, 0.1612461507320404, 16.7584171295166, -52.281734466552734, -44.182952880859375, 2.610151529312134, -1.5569924116134644, -7.951067924499512, 4.9590349197387695, 15.825898170471191, 18.778202056884766, -28.85161590576172, 26.686492919921875, -17.184091567993164, 17.972261428833008, 31.620071411132812, 3.221602439880371, -12.728493690490723, -49.533897399902344, 22.87938690185547, 34.453975677490234, -10.429237365722656, 5.648448944091797, -30.25934600830078, -8.669085502624512, 4.235086917877197, -5.167008399963379, -11.042447090148926, 17.07341194152832, 18.070127487182617, 13.70620059967041, -25.314374923706055, 2.161835193634033, 16.978832244873047, 18.78595542907715, -14.079012870788574, 6.951647758483887, 37.598976135253906, -17.75006866455078, -19.83179473876953, 25.69420051574707, 19.67346954345703, 2.8234968185424805, -13.280508041381836, -27.367353439331055, 9.691184043884277, 24.818561553955078, 27.96273422241211, 21.968536376953125, -0.5965200066566467, 12.661590576171875, 11.378215789794922, 4.366030693054199, 4.710402488708496, 14.54854965209961, 17.894521713256836, -13.748542785644531, 12.796381950378418, 10.641363143920898, 14.682745933532715, 18.872299194335938, 2.1181483268737793, 31.30244255065918, -44.16394805908203, 26.884078979492188, -10.92968463897705, 36.01929473876953, -1.2620681524276733, -18.270803451538086, -20.613067626953125, 22.46747589111328, 9.366527557373047, -19.832656860351562, 32.046417236328125, 6.897582054138184, 18.736223220825195, 18.781082153320312, -15.984554290771484, -5.055679798126221, -31.29415512084961, 31.575969696044922, 20.98064613342285, -29.91942024230957, 26.786516189575195, 25.928842544555664, -20.373037338256836, -19.40517807006836, -30.007413864135742, -23.73603057861328, -6.600289344787598, -20.243120193481445, 30.64426612854004, 25.981950759887695, 30.692590713500977, -19.67668342590332, 8.806822776794434, 8.53685474395752, -19.65109634399414, -0.186235249042511, 4.144198417663574, -3.1690781116485596, 4.163670063018799, 34.178062438964844, -23.02989387512207, -19.69724464416504, 31.365663528442383, 6.931079387664795, 6.961178302764893, 6.874442100524902, 29.924161911010742, 25.748798370361328, -21.18250846862793, 10.589357376098633, -0.7401145696640015, 12.02220630645752, 32.99686050415039, 10.515822410583496, 12.927833557128906, 10.4741849899292, 12.213118553161621, 6.156453609466553, 5.370159149169922, -47.21926498413086, -3.6768665313720703, 1.5191603899002075, 36.066864013671875, -43.047428131103516, -57.39102554321289, -8.897192001342773, 30.14788818359375, -21.68734359741211, 21.882020950317383, 29.145339965820312, -4.952940940856934, -23.245203018188477, 22.11879539489746, -10.90024471282959, -4.541153430938721, -14.884855270385742, 16.415372848510742, -20.840517044067383, -12.137487411499023, 24.84528160095215, -46.761444091796875, -29.392250061035156, 26.122034072875977, 11.97468376159668, -49.359622955322266, 17.472469329833984, -58.056640625, 2.6013009548187256, -21.587295532226562, -42.962860107421875, 27.49691390991211, 10.879714012145996, 10.674708366394043, -29.709917068481445, -6.428833961486816, -33.42649459838867, 19.111366271972656, -51.060977935791016, -9.961215019226074, 11.206901550292969, 30.53083610534668, -44.89980697631836, -1.1280430555343628, -17.719953536987305, -45.836822509765625, -4.833395004272461, -22.843246459960938, 13.824056625366211, 11.725278854370117, -50.448856353759766, -9.133835792541504, 1.0973892211914062, 14.569255828857422, -4.917531967163086, 33.138423919677734, 15.920916557312012, 6.0979132652282715, 9.026093482971191, 23.123882293701172, 23.924327850341797, -3.372809886932373, 7.2467756271362305, 20.86271858215332, -1.7166309356689453, -14.565133094787598, 26.09026336669922, 5.538116455078125, 6.2113566398620605, 10.889325141906738, -50.300228118896484, 25.764955520629883, -6.57623815536499, 10.951205253601074, -15.701200485229492, 30.915817260742188, 10.291145324707031, 10.960454940795898, 7.453132152557373, -9.432830810546875, 1.1707881689071655, -11.439071655273438, 3.7549538612365723, -20.07216453552246, -22.717348098754883, -2.09637188911438, -0.9298470616340637, 7.973873615264893, -17.010379791259766, -27.669206619262695, 12.745702743530273, -2.1184113025665283, 18.948476791381836, -21.11258888244629, -15.820516586303711, -62.129337310791016, 10.76383113861084, -55.88093185424805, 20.049427032470703, 27.271528244018555, -10.326749801635742, -26.29878044128418, -8.0729398727417, -23.04283905029297, -17.76921272277832, 5.0480637550354, -0.2755250334739685, 4.428896903991699, -31.375471115112305, -9.441619873046875, -20.670948028564453, 11.954090118408203, 11.062671661376953, -12.374909400939941, -25.7167911529541, 33.41309356689453, -20.879898071289062, -26.16953468322754, -56.464786529541016, -1.6929080486297607, 37.591121673583984, 3.41762638092041, -0.043195940554142, -57.84280776977539, 15.908760070800781, 18.02409553527832, -4.370877742767334, -3.495462656021118, -15.445423126220703, -11.949641227722168, 13.844690322875977, -4.529102802276611, -21.993526458740234, -25.68848991394043, 7.108486652374268, -31.175813674926758, -28.662193298339844, -10.852570533752441, 11.546072006225586, 16.457387924194336, 27.7385311126709, 5.489121437072754, 36.98086929321289, -0.22204533219337463, 14.683552742004395, 28.01162338256836, 23.154504776000977, -26.65479850769043, 7.800820350646973, -42.684364318847656, 27.207134246826172, 11.33860969543457, -16.239587783813477, 22.623374938964844, -21.527612686157227, -8.551189422607422, 6.8839569091796875, -10.69904613494873, -18.189725875854492, 34.736419677734375, -48.09870147705078, 9.348690032958984, -15.298446655273438, 13.71865463256836, -0.6420696377754211, 30.621118545532227, -16.422409057617188, 33.65988540649414, 3.7349741458892822, 24.993907928466797, 7.290647506713867, 6.4755120277404785, -2.1341047286987305, 10.660804748535156, -9.949647903442383, -60.20424270629883, -28.50419044494629, 18.030399322509766, -0.5898255109786987, -20.086904525756836, -29.555461883544922, 19.4130916595459, -2.9598565101623535, -9.937559127807617, 27.220855712890625, 23.900157928466797, 28.37956428527832, 28.488800048828125, -14.044377326965332, 2.8099331855773926, 33.73426055908203, -23.420072555541992, -11.115177154541016, -24.141639709472656, 30.72207260131836, 30.708431243896484, -17.667356491088867, 36.31866455078125, 3.1927554607391357, 13.284053802490234, 25.026948928833008, 22.102998733520508, 23.400671005249023, 9.400431632995605, -17.15333366394043, 14.007964134216309, 30.138235092163086, 6.847496032714844, -13.723213195800781, -19.358718872070312, -13.063420295715332, 0.8445018529891968, -2.4557950496673584, -0.8523792028427124, -2.0667483806610107, 14.895466804504395, -6.5749335289001465, 5.12152624130249, 14.395461082458496, 17.563352584838867, 16.893869400024414, -29.231563568115234, 29.781940460205078, -4.5934224128723145, 19.582483291625977, -2.0645437240600586, -25.112512588500977, 32.89295959472656, 38.24854278564453, 6.325907230377197, -1.494395136833191, -19.234827041625977, -27.663738250732422, 23.759681701660156, -0.6617977619171143, 28.7226505279541, 11.036201477050781, 25.566530227661133, -10.704937934875488, 24.897186279296875, 26.643526077270508, 2.1168384552001953, 16.91939353942871, -23.72243881225586, 19.960763931274414, -25.944847106933594, 18.17870330810547, -16.21234703063965, 5.448334217071533, -2.579557180404663, 16.339908599853516, 33.65729904174805, -26.511173248291016, -26.673805236816406, 1.4971214532852173, 19.06031608581543, -24.008628845214844, 18.326570510864258, -29.554637908935547, 2.4633936882019043, -25.395782470703125, 18.66606903076172, 32.20619583129883, 11.241801261901855, -27.499313354492188, -3.8699488639831543, 23.498868942260742, -1.4286986589431763, 2.3988394737243652, -0.9858638048171997, 38.46329116821289, -9.295919418334961, -22.70787811279297, -29.178367614746094, 28.72142791748047, 19.804189682006836, 0.1005362868309021, -21.785133361816406, -31.157337188720703, 27.203697204589844, 7.399900913238525, -24.560317993164062, -1.405534267425537, 7.800105094909668, 28.949134826660156, 12.032673835754395, 10.023531913757324, -7.562370777130127, 29.70665740966797, 31.992210388183594, 27.476530075073242, 27.862102508544922, 5.403810501098633, 24.271440505981445, -11.729226112365723, -24.209278106689453, -25.12033462524414, 30.18903350830078, 7.581944465637207, 34.004859924316406, 0.5202648043632507, 5.347995281219482, -3.4086365699768066, 27.413373947143555, -8.359757423400879, -15.635299682617188, 7.2307963371276855, -6.303161144256592, -3.5830533504486084, 17.860315322875977, -2.3505971431732178, 5.905710220336914, -16.631393432617188, -23.295726776123047, -21.207763671875, -19.44699478149414, -16.088043212890625, -1.9660251140594482, -3.963804006576538, -46.39997100830078, -21.62093162536621, 33.019920349121094, 21.778114318847656, -56.6987419128418, -9.80665111541748, 24.3891544342041, -7.692182540893555, -50.0343132019043, -56.736846923828125, -29.526554107666016, -19.346132278442383, -19.31067657470703, -27.960376739501953, 14.710589408874512, 14.791791915893555, -61.06220245361328, 18.28317642211914, -1.582628846168518, -13.146042823791504, 15.246841430664062, 35.38964080810547, 10.196160316467285, -31.04087257385254, -25.333951950073242, 3.8724398612976074, -20.700904846191406, 16.095869064331055, -15.306063652038574, -19.310503005981445, -19.48746681213379, 18.542518615722656, -45.83742904663086, 15.331463813781738, 20.431550979614258, -25.167755126953125, -6.1571044921875, -54.79576873779297, 31.84029197692871, -7.484050273895264, 17.518442153930664, 8.741354942321777, 28.753793716430664, -7.646857738494873, -13.085946083068848, 1.967958927154541, 22.09525489807129, -29.676795959472656, -61.52788162231445, 30.794391632080078, -11.224766731262207, 4.098381042480469, -54.493892669677734, 20.630765914916992, 0.3974321782588959, -3.09138560295105, -11.01371955871582, -46.52708435058594, 8.163042068481445, 5.033005714416504, 28.78888511657715, -22.9235782623291, 11.937947273254395, -17.483505249023438, 14.170592308044434, -0.4740706980228424, -9.260298728942871, 1.988735556602478, -10.531498908996582, -25.468923568725586, 11.234814643859863, 6.543965816497803, 25.916841506958008, 15.10116195678711, 7.560791015625, 20.1705379486084, -57.29082489013672, 16.554325103759766, 9.670540809631348, -5.23630428314209, 34.32568359375, 15.04723072052002, 21.58823585510254, 21.042503356933594, -16.00729751586914, 0.5377468466758728, -49.851985931396484, 18.854753494262695, 11.169529914855957, -29.431072235107422, -16.633588790893555, -13.40488338470459, -57.83816909790039, 25.990232467651367, 18.94967269897461, 6.9756622314453125, 20.620647430419922, -7.061346054077148, -22.386608123779297, -3.714418411254883, 26.720172882080078, 4.424082279205322, 16.684616088867188, -3.4392662048339844, -17.960988998413086, -2.7005271911621094, 2.925734758377075, -21.39369010925293, 14.154650688171387, 31.830921173095703, -25.991031646728516, -21.946853637695312, 12.435473442077637, -1.8826391696929932, 9.48543643951416, 7.6536664962768555, 18.87957763671875, -29.96484375, -3.4760472774505615, 11.027336120605469, 19.379125595092773, 2.9246253967285156, 7.858499526977539, 36.35045623779297, 7.168798446655273, 7.661376476287842, 17.640520095825195, 23.3575496673584, 36.41556930541992, -26.50922393798828, 15.772310256958008, -11.276951789855957, -0.9468152523040771, -3.5647528171539307, -5.5307393074035645, -61.2452278137207, -19.739826202392578, 11.628561019897461, -8.968771934509277, 12.688974380493164, 16.427433013916016, 26.29153823852539, -29.380661010742188, 31.140544891357422, 7.47988224029541, 11.660905838012695, 26.946128845214844, 32.36405944824219, 14.632820129394531, -29.39833641052246, 0.2842866778373718, 25.257936477661133, -11.820757865905762, -11.219257354736328, 17.87533187866211, -7.849843978881836, 28.619924545288086, -7.768466949462891, 13.641369819641113, -10.798397064208984, -12.138005256652832, -21.72585105895996, 1.9952541589736938, 31.965167999267578, 25.64934539794922, -60.59626770019531, -21.53611946105957, -48.61827087402344, 0.8523283004760742, -12.623543739318848, -46.78024673461914, 29.007301330566406, 1.2039679288864136, -22.117290496826172, -49.68943405151367, 7.318866729736328, -9.791029930114746, -14.393538475036621, 11.058260917663574, -9.1098051071167, 22.276779174804688, 24.714567184448242, -44.460662841796875, -5.2126898765563965, 28.549129486083984, 3.6559841632843018, 26.818758010864258, -14.194130897521973, -23.221677780151367, -32.737220764160156, -12.329718589782715, -1.2199804782867432, -52.984867095947266, -27.508161544799805, 15.586649894714355, -23.18218994140625, 14.52834415435791, 24.637592315673828, -57.14312744140625, 22.48041534423828, -6.175297737121582, 10.343879699707031, -0.3436537981033325, 19.336524963378906, 6.649623870849609, -29.684167861938477, -12.527050018310547, 30.584238052368164, 17.845964431762695, 0.8175972700119019, -24.023529052734375, 0.8389654159545898, 32.34791946411133, -4.019606113433838, 2.0750253200531006, -4.916769504547119, 5.122313976287842, 15.528318405151367, 7.436375141143799, -61.581634521484375, -22.180898666381836, 2.067556619644165, -2.9499073028564453, 11.57773208618164, -9.136427879333496, -28.24477195739746, 1.2091636657714844, 2.294691324234009, 20.568323135375977, -26.29852294921875, 3.9681005477905273, 10.67471981048584, 29.736515045166016, 28.60137176513672, 11.608617782592773, 13.135061264038086, -19.54262351989746, 4.74837589263916, -55.43779373168945, -20.795303344726562, 27.948394775390625, -28.092161178588867, 18.3247127532959, 9.711864471435547, -29.953548431396484, 29.395366668701172, 2.357417106628418, -27.58963966369629, 19.528179168701172, -4.978766441345215, -2.4993984699249268, -25.352941513061523, -0.39312034845352173, -3.159496784210205, 36.00756072998047, 20.13070297241211, -30.424503326416016, 11.130030632019043, -1.1294751167297363, 1.6334487199783325, 8.107012748718262, -1.1490312814712524, 18.924692153930664, 9.092546463012695, 10.279550552368164, 2.855592727661133, 22.33643341064453, 3.6745126247406006, -22.533294677734375, 19.365386962890625, -23.021347045898438, 3.4448437690734863, 18.956594467163086, 20.000324249267578, 15.9864501953125, 26.755722045898438, 19.620588302612305, 25.686323165893555, 31.425487518310547, -2.8137214183807373, -0.27485302090644836, 12.065465927124023, 2.807877779006958, -3.5880918502807617, 15.973517417907715, 3.1508078575134277, 23.075986862182617, -12.662291526794434, 11.217541694641113, 1.3915753364562988, 30.314132690429688, 9.172591209411621, 9.639748573303223, 30.539960861206055, 18.238933563232422, 11.247452735900879, 24.310625076293945, 27.99995994567871, -22.489431381225586, 34.84768295288086, -14.086806297302246, 34.9815559387207, -5.895526885986328, -15.01037883758545, -3.1063740253448486, 11.582823753356934, 2.9675521850585938, 2.974644184112549, 3.016403913497925, 6.609555721282959, -16.62140655517578, 22.426151275634766, 15.380763053894043, 26.952838897705078, -46.34034729003906, -3.205958366394043, -24.3402156829834, -28.360506057739258, 15.446932792663574, -27.293636322021484, 0.0445927269756794, 4.790712356567383, -8.826510429382324, -1.4201117753982544, -61.46107864379883, -25.25678062438965, 15.632502555847168, 3.795849323272705, 30.147663116455078, 0.06413041055202484, -26.724021911621094, 36.863059997558594, -19.930862426757812, -5.060855865478516, -15.532598495483398, -18.55657386779785, -32.20732116699219, -10.780074119567871, -9.303812026977539, -19.263370513916016, -25.600425720214844, 37.509281158447266, 33.02729797363281, 23.5, -33.43401336669922, 30.47283172607422, -22.347064971923828, 25.542415618896484, 4.979557514190674, -29.31584930419922, 19.408370971679688, 10.109658241271973, 2.942823886871338, 3.6573572158813477, -10.486909866333008, -14.414563179016113, 3.8714561462402344, -12.357314109802246, 3.9964396953582764, -22.28681755065918, -32.816402435302734, -28.468198776245117, -5.161495208740234, -56.283199310302734, 8.483471870422363, -33.40644073486328, -11.352068901062012, 24.927871704101562, 23.004533767700195, 30.56266975402832, 0.12905514240264893, -44.86927795410156, -8.430479049682617, 24.0745906829834, 19.53984260559082, -0.9328559637069702, 2.894258737564087, -11.804252624511719, 14.503142356872559, -30.228307723999023, 16.004728317260742, -12.35594367980957, -16.319183349609375, 12.250741004943848, 2.5884082317352295, 30.278108596801758, 35.49565124511719, 22.6656436920166, 3.4450297355651855, -5.63176155090332, -18.03076934814453, -16.002864837646484, -8.88436508178711, -30.41345977783203, -3.778074026107788, 1.2283337116241455, 29.714784622192383, -6.3801116943359375, 32.97550964355469, 10.4952974319458, 15.131964683532715, 8.981192588806152, -7.311023235321045, -6.714446544647217, -11.315686225891113, -25.602266311645508, -27.458845138549805, 3.428802251815796, 18.810510635375977, 25.930356979370117, 23.523353576660156, -24.12114143371582, -24.5670108795166, -14.300732612609863, 2.4316155910491943, -14.641565322875977, -2.234316825866699, 8.286849975585938, -22.989294052124023, 33.15404510498047, 32.51844787597656, -18.450923919677734, 24.873477935791016, 36.00343322753906, -32.888328552246094, -25.585227966308594, 27.14087677001953, -18.816572189331055, -30.802581787109375, 12.510035514831543, 16.596975326538086, 19.44114875793457, -33.3184814453125, 19.717451095581055, -3.9629335403442383, -22.78371238708496, -30.58064842224121, -9.104535102844238, -14.8716459274292, -47.93136215209961, -54.07053756713867, 12.246745109558105, -4.5145111083984375, 32.30539321899414, 28.971202850341797, -5.001312732696533, 15.122182846069336, 5.177459239959717, -19.824581146240234, 0.672926127910614, 13.07838249206543, 30.882009506225586, 15.745141983032227, 4.208517074584961, -29.524478912353516, -6.078726291656494, 23.25297737121582, -10.172402381896973, -16.87335205078125, 10.720145225524902, -1.9738690853118896, 26.539535522460938, -51.76961898803711, -6.944424152374268, 5.343280792236328, 26.1578369140625, -2.599475860595703, -29.863405227661133, 19.64126968383789, 35.563812255859375, -24.376201629638672, -44.88174057006836, 16.193096160888672, 14.527094841003418, -20.191743850708008, -19.873815536499023, 5.984514236450195, -8.255760192871094, 5.822923183441162, 5.6711039543151855, 14.799912452697754, 13.648033142089844, 6.920187950134277, -14.508451461791992, -29.87712860107422, 34.38433074951172, 10.920916557312012, 27.707311630249023, 19.129459381103516, -21.92494773864746, 14.2589111328125, 24.781099319458008, -8.715282440185547, -45.85971450805664, 15.872676849365234, -10.372663497924805, 14.662050247192383, -2.878618001937866, 30.450895309448242, -5.428966045379639, -9.915148735046387, -14.325336456298828, 15.25613784790039, -25.2144775390625, 0.4168260395526886, -16.170522689819336, -11.608418464660645, 0.23570996522903442, -27.418283462524414, 29.512907028198242, -8.386609077453613, -1.0811482667922974, -30.433956146240234, -7.38266658782959, 10.228611946105957, -5.0027313232421875, -20.5456600189209, -12.766389846801758, 4.458227634429932, -13.89377498626709, 14.609177589416504, 28.132150650024414, 14.298272132873535, 16.87590980529785, 3.1311564445495605, 29.331727981567383, 32.65806198120117, 22.652929306030273, -14.355751037597656, 19.815412521362305, 11.97496223449707, 3.080611228942871, -11.142662048339844, -26.040355682373047, -0.15351682901382446, -1.9459612369537354, -28.033266067504883, 17.495325088500977, -48.70114517211914, -27.150663375854492, -30.136892318725586, -15.247849464416504, -29.970287322998047, -9.931527137756348, 29.104930877685547, -0.24522538483142853, -45.30323028564453, 33.4741325378418], \"yaxis\": \"y\"}],\n",
              "                        {\"legend\": {\"tracegroupgap\": 0}, \"margin\": {\"t\": 60}, \"template\": {\"data\": {\"bar\": [{\"error_x\": {\"color\": \"#2a3f5f\"}, \"error_y\": {\"color\": \"#2a3f5f\"}, \"marker\": {\"line\": {\"color\": \"#E5ECF6\", \"width\": 0.5}}, \"type\": \"bar\"}], \"barpolar\": [{\"marker\": {\"line\": {\"color\": \"#E5ECF6\", \"width\": 0.5}}, \"type\": \"barpolar\"}], \"carpet\": [{\"aaxis\": {\"endlinecolor\": \"#2a3f5f\", \"gridcolor\": \"white\", \"linecolor\": \"white\", \"minorgridcolor\": \"white\", \"startlinecolor\": \"#2a3f5f\"}, \"baxis\": {\"endlinecolor\": \"#2a3f5f\", \"gridcolor\": \"white\", \"linecolor\": \"white\", \"minorgridcolor\": \"white\", \"startlinecolor\": \"#2a3f5f\"}, \"type\": \"carpet\"}], \"choropleth\": [{\"colorbar\": {\"outlinewidth\": 0, \"ticks\": \"\"}, \"type\": \"choropleth\"}], \"contour\": [{\"colorbar\": {\"outlinewidth\": 0, \"ticks\": \"\"}, \"colorscale\": [[0.0, \"#0d0887\"], [0.1111111111111111, \"#46039f\"], [0.2222222222222222, \"#7201a8\"], [0.3333333333333333, \"#9c179e\"], [0.4444444444444444, \"#bd3786\"], [0.5555555555555556, \"#d8576b\"], [0.6666666666666666, \"#ed7953\"], [0.7777777777777778, \"#fb9f3a\"], [0.8888888888888888, \"#fdca26\"], [1.0, \"#f0f921\"]], \"type\": \"contour\"}], \"contourcarpet\": [{\"colorbar\": {\"outlinewidth\": 0, \"ticks\": \"\"}, \"type\": \"contourcarpet\"}], \"heatmap\": [{\"colorbar\": {\"outlinewidth\": 0, \"ticks\": \"\"}, \"colorscale\": [[0.0, \"#0d0887\"], [0.1111111111111111, \"#46039f\"], [0.2222222222222222, \"#7201a8\"], [0.3333333333333333, \"#9c179e\"], [0.4444444444444444, \"#bd3786\"], [0.5555555555555556, \"#d8576b\"], [0.6666666666666666, \"#ed7953\"], [0.7777777777777778, \"#fb9f3a\"], [0.8888888888888888, \"#fdca26\"], [1.0, \"#f0f921\"]], \"type\": \"heatmap\"}], \"heatmapgl\": [{\"colorbar\": {\"outlinewidth\": 0, \"ticks\": \"\"}, \"colorscale\": [[0.0, \"#0d0887\"], [0.1111111111111111, \"#46039f\"], [0.2222222222222222, \"#7201a8\"], [0.3333333333333333, \"#9c179e\"], [0.4444444444444444, \"#bd3786\"], [0.5555555555555556, \"#d8576b\"], [0.6666666666666666, \"#ed7953\"], [0.7777777777777778, \"#fb9f3a\"], [0.8888888888888888, \"#fdca26\"], [1.0, \"#f0f921\"]], \"type\": \"heatmapgl\"}], \"histogram\": [{\"marker\": {\"colorbar\": {\"outlinewidth\": 0, \"ticks\": \"\"}}, \"type\": \"histogram\"}], \"histogram2d\": [{\"colorbar\": {\"outlinewidth\": 0, \"ticks\": \"\"}, \"colorscale\": [[0.0, \"#0d0887\"], [0.1111111111111111, \"#46039f\"], [0.2222222222222222, \"#7201a8\"], [0.3333333333333333, \"#9c179e\"], [0.4444444444444444, \"#bd3786\"], [0.5555555555555556, \"#d8576b\"], [0.6666666666666666, \"#ed7953\"], [0.7777777777777778, \"#fb9f3a\"], [0.8888888888888888, \"#fdca26\"], [1.0, \"#f0f921\"]], \"type\": \"histogram2d\"}], \"histogram2dcontour\": [{\"colorbar\": {\"outlinewidth\": 0, \"ticks\": \"\"}, \"colorscale\": [[0.0, \"#0d0887\"], [0.1111111111111111, \"#46039f\"], [0.2222222222222222, \"#7201a8\"], [0.3333333333333333, \"#9c179e\"], [0.4444444444444444, \"#bd3786\"], [0.5555555555555556, \"#d8576b\"], [0.6666666666666666, \"#ed7953\"], [0.7777777777777778, \"#fb9f3a\"], [0.8888888888888888, \"#fdca26\"], [1.0, \"#f0f921\"]], \"type\": \"histogram2dcontour\"}], \"mesh3d\": [{\"colorbar\": {\"outlinewidth\": 0, \"ticks\": \"\"}, \"type\": \"mesh3d\"}], \"parcoords\": [{\"line\": {\"colorbar\": {\"outlinewidth\": 0, \"ticks\": \"\"}}, \"type\": \"parcoords\"}], \"pie\": [{\"automargin\": true, \"type\": \"pie\"}], \"scatter\": [{\"marker\": {\"colorbar\": {\"outlinewidth\": 0, \"ticks\": \"\"}}, \"type\": \"scatter\"}], \"scatter3d\": [{\"line\": {\"colorbar\": {\"outlinewidth\": 0, \"ticks\": \"\"}}, \"marker\": {\"colorbar\": {\"outlinewidth\": 0, \"ticks\": \"\"}}, \"type\": \"scatter3d\"}], \"scattercarpet\": [{\"marker\": {\"colorbar\": {\"outlinewidth\": 0, \"ticks\": \"\"}}, \"type\": \"scattercarpet\"}], \"scattergeo\": [{\"marker\": {\"colorbar\": {\"outlinewidth\": 0, \"ticks\": \"\"}}, \"type\": \"scattergeo\"}], \"scattergl\": [{\"marker\": {\"colorbar\": {\"outlinewidth\": 0, \"ticks\": \"\"}}, \"type\": \"scattergl\"}], \"scattermapbox\": [{\"marker\": {\"colorbar\": {\"outlinewidth\": 0, \"ticks\": \"\"}}, \"type\": \"scattermapbox\"}], \"scatterpolar\": [{\"marker\": {\"colorbar\": {\"outlinewidth\": 0, \"ticks\": \"\"}}, \"type\": \"scatterpolar\"}], \"scatterpolargl\": [{\"marker\": {\"colorbar\": {\"outlinewidth\": 0, \"ticks\": \"\"}}, \"type\": \"scatterpolargl\"}], \"scatterternary\": [{\"marker\": {\"colorbar\": {\"outlinewidth\": 0, \"ticks\": \"\"}}, \"type\": \"scatterternary\"}], \"surface\": [{\"colorbar\": {\"outlinewidth\": 0, \"ticks\": \"\"}, \"colorscale\": [[0.0, \"#0d0887\"], [0.1111111111111111, \"#46039f\"], [0.2222222222222222, \"#7201a8\"], [0.3333333333333333, \"#9c179e\"], [0.4444444444444444, \"#bd3786\"], [0.5555555555555556, \"#d8576b\"], [0.6666666666666666, \"#ed7953\"], [0.7777777777777778, \"#fb9f3a\"], [0.8888888888888888, \"#fdca26\"], [1.0, \"#f0f921\"]], \"type\": \"surface\"}], \"table\": [{\"cells\": {\"fill\": {\"color\": \"#EBF0F8\"}, \"line\": {\"color\": \"white\"}}, \"header\": {\"fill\": {\"color\": \"#C8D4E3\"}, \"line\": {\"color\": \"white\"}}, \"type\": \"table\"}]}, \"layout\": {\"annotationdefaults\": {\"arrowcolor\": \"#2a3f5f\", \"arrowhead\": 0, \"arrowwidth\": 1}, \"coloraxis\": {\"colorbar\": {\"outlinewidth\": 0, \"ticks\": \"\"}}, \"colorscale\": {\"diverging\": [[0, \"#8e0152\"], [0.1, \"#c51b7d\"], [0.2, \"#de77ae\"], [0.3, \"#f1b6da\"], [0.4, \"#fde0ef\"], [0.5, \"#f7f7f7\"], [0.6, \"#e6f5d0\"], [0.7, \"#b8e186\"], [0.8, \"#7fbc41\"], [0.9, \"#4d9221\"], [1, \"#276419\"]], \"sequential\": [[0.0, \"#0d0887\"], [0.1111111111111111, \"#46039f\"], [0.2222222222222222, \"#7201a8\"], [0.3333333333333333, \"#9c179e\"], [0.4444444444444444, \"#bd3786\"], [0.5555555555555556, \"#d8576b\"], [0.6666666666666666, \"#ed7953\"], [0.7777777777777778, \"#fb9f3a\"], [0.8888888888888888, \"#fdca26\"], [1.0, \"#f0f921\"]], \"sequentialminus\": [[0.0, \"#0d0887\"], [0.1111111111111111, \"#46039f\"], [0.2222222222222222, \"#7201a8\"], [0.3333333333333333, \"#9c179e\"], [0.4444444444444444, \"#bd3786\"], [0.5555555555555556, \"#d8576b\"], [0.6666666666666666, \"#ed7953\"], [0.7777777777777778, \"#fb9f3a\"], [0.8888888888888888, \"#fdca26\"], [1.0, \"#f0f921\"]]}, \"colorway\": [\"#636efa\", \"#EF553B\", \"#00cc96\", \"#ab63fa\", \"#FFA15A\", \"#19d3f3\", \"#FF6692\", \"#B6E880\", \"#FF97FF\", \"#FECB52\"], \"font\": {\"color\": \"#2a3f5f\"}, \"geo\": {\"bgcolor\": \"white\", \"lakecolor\": \"white\", \"landcolor\": \"#E5ECF6\", \"showlakes\": true, \"showland\": true, \"subunitcolor\": \"white\"}, \"hoverlabel\": {\"align\": \"left\"}, \"hovermode\": \"closest\", \"mapbox\": {\"style\": \"light\"}, \"paper_bgcolor\": \"white\", \"plot_bgcolor\": \"#E5ECF6\", \"polar\": {\"angularaxis\": {\"gridcolor\": \"white\", \"linecolor\": \"white\", \"ticks\": \"\"}, \"bgcolor\": \"#E5ECF6\", \"radialaxis\": {\"gridcolor\": \"white\", \"linecolor\": \"white\", \"ticks\": \"\"}}, \"scene\": {\"xaxis\": {\"backgroundcolor\": \"#E5ECF6\", \"gridcolor\": \"white\", \"gridwidth\": 2, \"linecolor\": \"white\", \"showbackground\": true, \"ticks\": \"\", \"zerolinecolor\": \"white\"}, \"yaxis\": {\"backgroundcolor\": \"#E5ECF6\", \"gridcolor\": \"white\", \"gridwidth\": 2, \"linecolor\": \"white\", \"showbackground\": true, \"ticks\": \"\", \"zerolinecolor\": \"white\"}, \"zaxis\": {\"backgroundcolor\": \"#E5ECF6\", \"gridcolor\": \"white\", \"gridwidth\": 2, \"linecolor\": \"white\", \"showbackground\": true, \"ticks\": \"\", \"zerolinecolor\": \"white\"}}, \"shapedefaults\": {\"line\": {\"color\": \"#2a3f5f\"}}, \"ternary\": {\"aaxis\": {\"gridcolor\": \"white\", \"linecolor\": \"white\", \"ticks\": \"\"}, \"baxis\": {\"gridcolor\": \"white\", \"linecolor\": \"white\", \"ticks\": \"\"}, \"bgcolor\": \"#E5ECF6\", \"caxis\": {\"gridcolor\": \"white\", \"linecolor\": \"white\", \"ticks\": \"\"}}, \"title\": {\"x\": 0.05}, \"xaxis\": {\"automargin\": true, \"gridcolor\": \"white\", \"linecolor\": \"white\", \"ticks\": \"\", \"title\": {\"standoff\": 15}, \"zerolinecolor\": \"white\", \"zerolinewidth\": 2}, \"yaxis\": {\"automargin\": true, \"gridcolor\": \"white\", \"linecolor\": \"white\", \"ticks\": \"\", \"title\": {\"standoff\": 15}, \"zerolinecolor\": \"white\", \"zerolinewidth\": 2}}}, \"xaxis\": {\"anchor\": \"y\", \"domain\": [0.0, 1.0], \"title\": {\"text\": \"Dimension_x\"}}, \"yaxis\": {\"anchor\": \"x\", \"domain\": [0.0, 1.0], \"title\": {\"text\": \"Dimension_y\"}}},\n",
              "                        {\"responsive\": true}\n",
              "                    ).then(function(){\n",
              "                            \n",
              "var gd = document.getElementById('4a96b8ea-b7db-4d55-8657-11e3ba5d4488');\n",
              "var x = new MutationObserver(function (mutations, observer) {{\n",
              "        var display = window.getComputedStyle(gd).display;\n",
              "        if (!display || display === 'none') {{\n",
              "            console.log([gd, 'removed!']);\n",
              "            Plotly.purge(gd);\n",
              "            observer.disconnect();\n",
              "        }}\n",
              "}});\n",
              "\n",
              "// Listen for the removal of the full notebook cells\n",
              "var notebookContainer = gd.closest('#notebook-container');\n",
              "if (notebookContainer) {{\n",
              "    x.observe(notebookContainer, {childList: true});\n",
              "}}\n",
              "\n",
              "// Listen for the clearing of the current output cell\n",
              "var outputEl = gd.closest('.output');\n",
              "if (outputEl) {{\n",
              "    x.observe(outputEl, {childList: true});\n",
              "}}\n",
              "\n",
              "                        })\n",
              "                };\n",
              "                \n",
              "            </script>\n",
              "        </div>\n",
              "</body>\n",
              "</html>"
            ]
          },
          "metadata": {}
        }
      ]
    },
    {
      "cell_type": "markdown",
      "metadata": {
        "tags": [],
        "cell_id": "00040-719e872a-f25c-422d-ac77-28a5cd88d28c",
        "deepnote_cell_type": "markdown",
        "id": "Wm_tKINdqwqu"
      },
      "source": [
        "### 1.3.3 Clustering"
      ]
    },
    {
      "cell_type": "markdown",
      "metadata": {
        "tags": [],
        "cell_id": "00041-8ddce401-e8d1-498d-bd79-e6d3f11d9174",
        "deepnote_cell_type": "markdown",
        "id": "dePfbChNqwqu"
      },
      "source": [
        "#### 1.3.3.1 Método del Codo [1 puntos]"
      ]
    },
    {
      "cell_type": "markdown",
      "metadata": {
        "tags": [],
        "cell_id": "00042-b4254feb-88f4-4a6c-8556-e11b1b5911d0",
        "deepnote_cell_type": "markdown",
        "id": "AGbWGgqHqwqv"
      },
      "source": [
        "Utilizando la clase creada para escalamiento, aplique el método del codo para visualizar cual es el número de clusters que mejor se ajustan a los datos. Realice esto utilizando el algoritmo K-means dentro de un pipeline para un $k \\in [1,20]$, donde k representa el número de clusters del k-means. Para la realización de esta sección y la próxima (1.3.3.2), considere los mismos pasos utilizados para el t-sne, pero permutando el algoritmo de reducción de dimensionalidad por k-means.\n",
        "\n",
        "A través del grafico obtenido, comente y justifique que valor de k escogería para realizar el k-means."
      ]
    },
    {
      "cell_type": "markdown",
      "metadata": {
        "tags": [],
        "cell_id": "00035-bbbef3bf-d15b-48e5-a4bb-cd9234b57e0f",
        "deepnote_cell_type": "markdown",
        "id": "07u-FIBlqwqv"
      },
      "source": [
        "**Respuesta:**"
      ]
    },
    {
      "cell_type": "markdown",
      "metadata": {
        "id": "y-1WAGHyZ8C0"
      },
      "source": [
        "Lo primero que se debe realizar es crear una función que estará dentro del Pipeline que hará el gráfico del método del codo."
      ]
    },
    {
      "cell_type": "code",
      "metadata": {
        "id": "xtci1x-8X4in"
      },
      "source": [
        "def elbow_method(dataframe_in):\n",
        "  #Armamos un dataframe donde se guardará la inertia_ y el número de clusters para un rango de entre 1 y 20 clusters\n",
        "  inertias = pd.DataFrame(data =[[i, KMeans(n_clusters=i, random_state=0).fit(dataframe_in).inertia_]for i in range(1, 21)], #Se ejecuta un for sobre el numero de clusters y se guarda la inertia en una lista\n",
        "                          columns = [\"n° clusters\", \"inertia\"] ) #Se nombran las columnas\n",
        "\n",
        "  fig = px.line(inertias, x=\"n° clusters\", y=\"inertia\", title=\"Método del Codo con K-Means\") #Se crea el objeto a ploteaar con los puntos \"Numero de Clusters\" e \"Inertia\"\n",
        "  fig.show() #Mostramos el gráfico"
      ],
      "execution_count": 9,
      "outputs": []
    },
    {
      "cell_type": "code",
      "metadata": {
        "colab": {
          "base_uri": "https://localhost:8080/",
          "height": 541
        },
        "id": "p9huDPKEXOjX",
        "outputId": "a470eddc-895b-4e5b-8b51-76ac4c28c96d"
      },
      "source": [
        "#Actualizamos el pipeline\n",
        "pipe_2 = Pipeline(steps=[('Transformador', FunctionTransformer(custom_features)), #Primero se transforma el dataframe original \"df_retail\" según indicaciones de P1\n",
        "                       ('Escalador', ColumnTransformer(transformers=[('MinMax', MinMax(),['Length', 'Recency', 'Frecuency', 'Monetary', 'Periodicity'])])), #Luego escalamos todas las columnas\n",
        "                       ('Plot Elbow', FunctionTransformer(elbow_method))])  #Ahora ejecutamos la función previamente definida\n",
        "\n",
        "#Ejecutamos\n",
        "pipe_2.fit_transform(df_retail) "
      ],
      "execution_count": 10,
      "outputs": [
        {
          "output_type": "display_data",
          "data": {
            "text/html": [
              "<html>\n",
              "<head><meta charset=\"utf-8\" /></head>\n",
              "<body>\n",
              "    <div>\n",
              "            <script src=\"https://cdnjs.cloudflare.com/ajax/libs/mathjax/2.7.5/MathJax.js?config=TeX-AMS-MML_SVG\"></script><script type=\"text/javascript\">if (window.MathJax) {MathJax.Hub.Config({SVG: {font: \"STIX-Web\"}});}</script>\n",
              "                <script type=\"text/javascript\">window.PlotlyConfig = {MathJaxConfig: 'local'};</script>\n",
              "        <script src=\"https://cdn.plot.ly/plotly-latest.min.js\"></script>    \n",
              "            <div id=\"91273c09-c7ba-4870-a084-a8ddbabc1e51\" class=\"plotly-graph-div\" style=\"height:525px; width:100%;\"></div>\n",
              "            <script type=\"text/javascript\">\n",
              "                \n",
              "                    window.PLOTLYENV=window.PLOTLYENV || {};\n",
              "                    \n",
              "                if (document.getElementById(\"91273c09-c7ba-4870-a084-a8ddbabc1e51\")) {\n",
              "                    Plotly.newPlot(\n",
              "                        '91273c09-c7ba-4870-a084-a8ddbabc1e51',\n",
              "                        [{\"hoverlabel\": {\"namelength\": 0}, \"hovertemplate\": \"n\\u00b0 clusters=%{x}<br>inertia=%{y}\", \"legendgroup\": \"\", \"line\": {\"color\": \"#636efa\", \"dash\": \"solid\"}, \"mode\": \"lines\", \"name\": \"\", \"showlegend\": false, \"type\": \"scatter\", \"x\": [1, 2, 3, 4, 5, 6, 7, 8, 9, 10, 11, 12, 13, 14, 15, 16, 17, 18, 19, 20], \"xaxis\": \"x\", \"y\": [501.2993627956415, 223.84645527039294, 162.85632550423267, 117.89357951523996, 100.81136055889436, 90.21277996480777, 79.62640751624282, 73.3397861505633, 67.90716464265263, 63.39810243515879, 60.11250090320331, 57.095403638410446, 54.22972438841225, 51.60725079501161, 49.07906402151287, 46.5121628939404, 44.75091485587016, 43.236617986762404, 41.69699642554785, 39.7648870522068], \"yaxis\": \"y\"}],\n",
              "                        {\"legend\": {\"tracegroupgap\": 0}, \"template\": {\"data\": {\"bar\": [{\"error_x\": {\"color\": \"#2a3f5f\"}, \"error_y\": {\"color\": \"#2a3f5f\"}, \"marker\": {\"line\": {\"color\": \"#E5ECF6\", \"width\": 0.5}}, \"type\": \"bar\"}], \"barpolar\": [{\"marker\": {\"line\": {\"color\": \"#E5ECF6\", \"width\": 0.5}}, \"type\": \"barpolar\"}], \"carpet\": [{\"aaxis\": {\"endlinecolor\": \"#2a3f5f\", \"gridcolor\": \"white\", \"linecolor\": \"white\", \"minorgridcolor\": \"white\", \"startlinecolor\": \"#2a3f5f\"}, \"baxis\": {\"endlinecolor\": \"#2a3f5f\", \"gridcolor\": \"white\", \"linecolor\": \"white\", \"minorgridcolor\": \"white\", \"startlinecolor\": \"#2a3f5f\"}, \"type\": \"carpet\"}], \"choropleth\": [{\"colorbar\": {\"outlinewidth\": 0, \"ticks\": \"\"}, \"type\": \"choropleth\"}], \"contour\": [{\"colorbar\": {\"outlinewidth\": 0, \"ticks\": \"\"}, \"colorscale\": [[0.0, \"#0d0887\"], [0.1111111111111111, \"#46039f\"], [0.2222222222222222, \"#7201a8\"], [0.3333333333333333, \"#9c179e\"], [0.4444444444444444, \"#bd3786\"], [0.5555555555555556, \"#d8576b\"], [0.6666666666666666, \"#ed7953\"], [0.7777777777777778, \"#fb9f3a\"], [0.8888888888888888, \"#fdca26\"], [1.0, \"#f0f921\"]], \"type\": \"contour\"}], \"contourcarpet\": [{\"colorbar\": {\"outlinewidth\": 0, \"ticks\": \"\"}, \"type\": \"contourcarpet\"}], \"heatmap\": [{\"colorbar\": {\"outlinewidth\": 0, \"ticks\": \"\"}, \"colorscale\": [[0.0, \"#0d0887\"], [0.1111111111111111, \"#46039f\"], [0.2222222222222222, \"#7201a8\"], [0.3333333333333333, \"#9c179e\"], [0.4444444444444444, \"#bd3786\"], [0.5555555555555556, \"#d8576b\"], [0.6666666666666666, \"#ed7953\"], [0.7777777777777778, \"#fb9f3a\"], [0.8888888888888888, \"#fdca26\"], [1.0, \"#f0f921\"]], \"type\": \"heatmap\"}], \"heatmapgl\": [{\"colorbar\": {\"outlinewidth\": 0, \"ticks\": \"\"}, \"colorscale\": [[0.0, \"#0d0887\"], [0.1111111111111111, \"#46039f\"], [0.2222222222222222, \"#7201a8\"], [0.3333333333333333, \"#9c179e\"], [0.4444444444444444, \"#bd3786\"], [0.5555555555555556, \"#d8576b\"], [0.6666666666666666, \"#ed7953\"], [0.7777777777777778, \"#fb9f3a\"], [0.8888888888888888, \"#fdca26\"], [1.0, \"#f0f921\"]], \"type\": \"heatmapgl\"}], \"histogram\": [{\"marker\": {\"colorbar\": {\"outlinewidth\": 0, \"ticks\": \"\"}}, \"type\": \"histogram\"}], \"histogram2d\": [{\"colorbar\": {\"outlinewidth\": 0, \"ticks\": \"\"}, \"colorscale\": [[0.0, \"#0d0887\"], [0.1111111111111111, \"#46039f\"], [0.2222222222222222, \"#7201a8\"], [0.3333333333333333, \"#9c179e\"], [0.4444444444444444, \"#bd3786\"], [0.5555555555555556, \"#d8576b\"], [0.6666666666666666, \"#ed7953\"], [0.7777777777777778, \"#fb9f3a\"], [0.8888888888888888, \"#fdca26\"], [1.0, \"#f0f921\"]], \"type\": \"histogram2d\"}], \"histogram2dcontour\": [{\"colorbar\": {\"outlinewidth\": 0, \"ticks\": \"\"}, \"colorscale\": [[0.0, \"#0d0887\"], [0.1111111111111111, \"#46039f\"], [0.2222222222222222, \"#7201a8\"], [0.3333333333333333, \"#9c179e\"], [0.4444444444444444, \"#bd3786\"], [0.5555555555555556, \"#d8576b\"], [0.6666666666666666, \"#ed7953\"], [0.7777777777777778, \"#fb9f3a\"], [0.8888888888888888, \"#fdca26\"], [1.0, \"#f0f921\"]], \"type\": \"histogram2dcontour\"}], \"mesh3d\": [{\"colorbar\": {\"outlinewidth\": 0, \"ticks\": \"\"}, \"type\": \"mesh3d\"}], \"parcoords\": [{\"line\": {\"colorbar\": {\"outlinewidth\": 0, \"ticks\": \"\"}}, \"type\": \"parcoords\"}], \"pie\": [{\"automargin\": true, \"type\": \"pie\"}], \"scatter\": [{\"marker\": {\"colorbar\": {\"outlinewidth\": 0, \"ticks\": \"\"}}, \"type\": \"scatter\"}], \"scatter3d\": [{\"line\": {\"colorbar\": {\"outlinewidth\": 0, \"ticks\": \"\"}}, \"marker\": {\"colorbar\": {\"outlinewidth\": 0, \"ticks\": \"\"}}, \"type\": \"scatter3d\"}], \"scattercarpet\": [{\"marker\": {\"colorbar\": {\"outlinewidth\": 0, \"ticks\": \"\"}}, \"type\": \"scattercarpet\"}], \"scattergeo\": [{\"marker\": {\"colorbar\": {\"outlinewidth\": 0, \"ticks\": \"\"}}, \"type\": \"scattergeo\"}], \"scattergl\": [{\"marker\": {\"colorbar\": {\"outlinewidth\": 0, \"ticks\": \"\"}}, \"type\": \"scattergl\"}], \"scattermapbox\": [{\"marker\": {\"colorbar\": {\"outlinewidth\": 0, \"ticks\": \"\"}}, \"type\": \"scattermapbox\"}], \"scatterpolar\": [{\"marker\": {\"colorbar\": {\"outlinewidth\": 0, \"ticks\": \"\"}}, \"type\": \"scatterpolar\"}], \"scatterpolargl\": [{\"marker\": {\"colorbar\": {\"outlinewidth\": 0, \"ticks\": \"\"}}, \"type\": \"scatterpolargl\"}], \"scatterternary\": [{\"marker\": {\"colorbar\": {\"outlinewidth\": 0, \"ticks\": \"\"}}, \"type\": \"scatterternary\"}], \"surface\": [{\"colorbar\": {\"outlinewidth\": 0, \"ticks\": \"\"}, \"colorscale\": [[0.0, \"#0d0887\"], [0.1111111111111111, \"#46039f\"], [0.2222222222222222, \"#7201a8\"], [0.3333333333333333, \"#9c179e\"], [0.4444444444444444, \"#bd3786\"], [0.5555555555555556, \"#d8576b\"], [0.6666666666666666, \"#ed7953\"], [0.7777777777777778, \"#fb9f3a\"], [0.8888888888888888, \"#fdca26\"], [1.0, \"#f0f921\"]], \"type\": \"surface\"}], \"table\": [{\"cells\": {\"fill\": {\"color\": \"#EBF0F8\"}, \"line\": {\"color\": \"white\"}}, \"header\": {\"fill\": {\"color\": \"#C8D4E3\"}, \"line\": {\"color\": \"white\"}}, \"type\": \"table\"}]}, \"layout\": {\"annotationdefaults\": {\"arrowcolor\": \"#2a3f5f\", \"arrowhead\": 0, \"arrowwidth\": 1}, \"coloraxis\": {\"colorbar\": {\"outlinewidth\": 0, \"ticks\": \"\"}}, \"colorscale\": {\"diverging\": [[0, \"#8e0152\"], [0.1, \"#c51b7d\"], [0.2, \"#de77ae\"], [0.3, \"#f1b6da\"], [0.4, \"#fde0ef\"], [0.5, \"#f7f7f7\"], [0.6, \"#e6f5d0\"], [0.7, \"#b8e186\"], [0.8, \"#7fbc41\"], [0.9, \"#4d9221\"], [1, \"#276419\"]], \"sequential\": [[0.0, \"#0d0887\"], [0.1111111111111111, \"#46039f\"], [0.2222222222222222, \"#7201a8\"], [0.3333333333333333, \"#9c179e\"], [0.4444444444444444, \"#bd3786\"], [0.5555555555555556, \"#d8576b\"], [0.6666666666666666, \"#ed7953\"], [0.7777777777777778, \"#fb9f3a\"], [0.8888888888888888, \"#fdca26\"], [1.0, \"#f0f921\"]], \"sequentialminus\": [[0.0, \"#0d0887\"], [0.1111111111111111, \"#46039f\"], [0.2222222222222222, \"#7201a8\"], [0.3333333333333333, \"#9c179e\"], [0.4444444444444444, \"#bd3786\"], [0.5555555555555556, \"#d8576b\"], [0.6666666666666666, \"#ed7953\"], [0.7777777777777778, \"#fb9f3a\"], [0.8888888888888888, \"#fdca26\"], [1.0, \"#f0f921\"]]}, \"colorway\": [\"#636efa\", \"#EF553B\", \"#00cc96\", \"#ab63fa\", \"#FFA15A\", \"#19d3f3\", \"#FF6692\", \"#B6E880\", \"#FF97FF\", \"#FECB52\"], \"font\": {\"color\": \"#2a3f5f\"}, \"geo\": {\"bgcolor\": \"white\", \"lakecolor\": \"white\", \"landcolor\": \"#E5ECF6\", \"showlakes\": true, \"showland\": true, \"subunitcolor\": \"white\"}, \"hoverlabel\": {\"align\": \"left\"}, \"hovermode\": \"closest\", \"mapbox\": {\"style\": \"light\"}, \"paper_bgcolor\": \"white\", \"plot_bgcolor\": \"#E5ECF6\", \"polar\": {\"angularaxis\": {\"gridcolor\": \"white\", \"linecolor\": \"white\", \"ticks\": \"\"}, \"bgcolor\": \"#E5ECF6\", \"radialaxis\": {\"gridcolor\": \"white\", \"linecolor\": \"white\", \"ticks\": \"\"}}, \"scene\": {\"xaxis\": {\"backgroundcolor\": \"#E5ECF6\", \"gridcolor\": \"white\", \"gridwidth\": 2, \"linecolor\": \"white\", \"showbackground\": true, \"ticks\": \"\", \"zerolinecolor\": \"white\"}, \"yaxis\": {\"backgroundcolor\": \"#E5ECF6\", \"gridcolor\": \"white\", \"gridwidth\": 2, \"linecolor\": \"white\", \"showbackground\": true, \"ticks\": \"\", \"zerolinecolor\": \"white\"}, \"zaxis\": {\"backgroundcolor\": \"#E5ECF6\", \"gridcolor\": \"white\", \"gridwidth\": 2, \"linecolor\": \"white\", \"showbackground\": true, \"ticks\": \"\", \"zerolinecolor\": \"white\"}}, \"shapedefaults\": {\"line\": {\"color\": \"#2a3f5f\"}}, \"ternary\": {\"aaxis\": {\"gridcolor\": \"white\", \"linecolor\": \"white\", \"ticks\": \"\"}, \"baxis\": {\"gridcolor\": \"white\", \"linecolor\": \"white\", \"ticks\": \"\"}, \"bgcolor\": \"#E5ECF6\", \"caxis\": {\"gridcolor\": \"white\", \"linecolor\": \"white\", \"ticks\": \"\"}}, \"title\": {\"x\": 0.05}, \"xaxis\": {\"automargin\": true, \"gridcolor\": \"white\", \"linecolor\": \"white\", \"ticks\": \"\", \"title\": {\"standoff\": 15}, \"zerolinecolor\": \"white\", \"zerolinewidth\": 2}, \"yaxis\": {\"automargin\": true, \"gridcolor\": \"white\", \"linecolor\": \"white\", \"ticks\": \"\", \"title\": {\"standoff\": 15}, \"zerolinecolor\": \"white\", \"zerolinewidth\": 2}}}, \"title\": {\"text\": \"M\\u00e9todo del Codo con K-Means\"}, \"xaxis\": {\"anchor\": \"y\", \"domain\": [0.0, 1.0], \"title\": {\"text\": \"n\\u00b0 clusters\"}}, \"yaxis\": {\"anchor\": \"x\", \"domain\": [0.0, 1.0], \"title\": {\"text\": \"inertia\"}}},\n",
              "                        {\"responsive\": true}\n",
              "                    ).then(function(){\n",
              "                            \n",
              "var gd = document.getElementById('91273c09-c7ba-4870-a084-a8ddbabc1e51');\n",
              "var x = new MutationObserver(function (mutations, observer) {{\n",
              "        var display = window.getComputedStyle(gd).display;\n",
              "        if (!display || display === 'none') {{\n",
              "            console.log([gd, 'removed!']);\n",
              "            Plotly.purge(gd);\n",
              "            observer.disconnect();\n",
              "        }}\n",
              "}});\n",
              "\n",
              "// Listen for the removal of the full notebook cells\n",
              "var notebookContainer = gd.closest('#notebook-container');\n",
              "if (notebookContainer) {{\n",
              "    x.observe(notebookContainer, {childList: true});\n",
              "}}\n",
              "\n",
              "// Listen for the clearing of the current output cell\n",
              "var outputEl = gd.closest('.output');\n",
              "if (outputEl) {{\n",
              "    x.observe(outputEl, {childList: true});\n",
              "}}\n",
              "\n",
              "                        })\n",
              "                };\n",
              "                \n",
              "            </script>\n",
              "        </div>\n",
              "</body>\n",
              "</html>"
            ]
          },
          "metadata": {}
        }
      ]
    },
    {
      "cell_type": "markdown",
      "metadata": {
        "id": "cPMNqWnZZ5JW"
      },
      "source": [
        "Se elige utilizar n_clusters = 4. Pues este es el valor con el cual se genera un codo al partir del cual la pendiente de la curva se mantiene \"plana\"."
      ]
    },
    {
      "cell_type": "markdown",
      "metadata": {
        "tags": [],
        "cell_id": "00044-df589bc4-557f-423c-9487-748b15b95e60",
        "deepnote_cell_type": "markdown",
        "id": "fwhVaSB9qwqw"
      },
      "source": [
        "#### 1.3.3.2 Segmentación de Clientes con K-Means 🎁 [1 punto]"
      ]
    },
    {
      "cell_type": "markdown",
      "metadata": {
        "tags": [],
        "cell_id": "00045-eb892d43-2d7d-49a0-8002-164dcb56e1e1",
        "deepnote_cell_type": "markdown",
        "id": "Z1XJrHG1qwqw"
      },
      "source": [
        "En base a la elección de k realizada en la sección anterior, utilice este valor escogido y entrene un modelo de K-means utilizando el mismo pipeline de scikit-learn utilizado anteriormente.\n",
        "\n",
        "Una vez ajustado los datos, genere una tabla con los promedios (o medianas) para cada uno de los atributos, agrupando estos por el clúster que pertenecen. ¿Es posible observar agrupaciones coherentes?, ¿Qué tipo de clientes posee el retail?, Justifique su respuesta y no decepcione a Mr. Lepin.\n"
      ]
    },
    {
      "cell_type": "markdown",
      "metadata": {
        "tags": [],
        "cell_id": "00046-e66d7746-b52e-4c05-b1b4-b89934c4c92c",
        "deepnote_cell_type": "markdown",
        "id": "ZKJgneuWqwqw"
      },
      "source": [
        "**Respuesta:**"
      ]
    },
    {
      "cell_type": "code",
      "metadata": {
        "tags": [],
        "cell_id": "00047-48846aeb-9c0c-454e-b45c-dac210f5a007",
        "deepnote_cell_type": "code",
        "id": "ejwkRfaJqwqw",
        "colab": {
          "base_uri": "https://localhost:8080/",
          "height": 204
        },
        "outputId": "5060deff-fec0-4f31-96f2-18b29ef8945a"
      },
      "source": [
        "#Actualizamos el pipeline\n",
        "pipe_3 = Pipeline(steps=[('Transformador', FunctionTransformer(custom_features)), #Primero se transforma el dataframe original \"df_retail\" según indicaciones de P1\n",
        "                       ('Escalador', ColumnTransformer(transformers=[('MinMax', MinMax(),['Length', 'Recency', 'Frecuency', 'Monetary', 'Periodicity'])])), #Luego escalamos todas las columnas\n",
        "                       ('KMeans', KMeans(n_clusters=4, random_state=0))])  #Ahora realizamos el cluster con n=4\n",
        "\n",
        "pipe_3.fit(df_retail)\n",
        "data_transformed = pd.DataFrame(data = pipe_3['Transformador'].transform(df_retail),\n",
        "                                columns = ['Length', 'Recency','Frecuency','Monetary','Periodicity'])\n",
        "\n",
        "data_transformed = data_transformed.reset_index(drop=False)\n",
        "\n",
        "data_labels = pd.DataFrame(data = pipe_3['KMeans'].labels_,\n",
        "                           columns = ['Cluster'])\n",
        "\n",
        "data = pd.concat([data_transformed,data_labels],axis=1)\n",
        "\n",
        "data = data.groupby('Cluster').agg({'Length': ['count','mean'], \n",
        "                             'Recency':'mean',\n",
        "                             'Frecuency':'mean',\n",
        "                             'Monetary':'mean',\n",
        "                             'Periodicity':'mean'})\n",
        "\n",
        "data.columns = ['Count','Length', 'Recency','Frecuency','Monetary','Periodicity']\n",
        "data"
      ],
      "execution_count": 15,
      "outputs": [
        {
          "output_type": "execute_result",
          "data": {
            "text/html": [
              "<div>\n",
              "<style scoped>\n",
              "    .dataframe tbody tr th:only-of-type {\n",
              "        vertical-align: middle;\n",
              "    }\n",
              "\n",
              "    .dataframe tbody tr th {\n",
              "        vertical-align: top;\n",
              "    }\n",
              "\n",
              "    .dataframe thead th {\n",
              "        text-align: right;\n",
              "    }\n",
              "</style>\n",
              "<table border=\"1\" class=\"dataframe\">\n",
              "  <thead>\n",
              "    <tr style=\"text-align: right;\">\n",
              "      <th></th>\n",
              "      <th>Count</th>\n",
              "      <th>Length</th>\n",
              "      <th>Recency</th>\n",
              "      <th>Frecuency</th>\n",
              "      <th>Monetary</th>\n",
              "      <th>Periodicity</th>\n",
              "    </tr>\n",
              "    <tr>\n",
              "      <th>Cluster</th>\n",
              "      <th></th>\n",
              "      <th></th>\n",
              "      <th></th>\n",
              "      <th></th>\n",
              "      <th></th>\n",
              "      <th></th>\n",
              "    </tr>\n",
              "  </thead>\n",
              "  <tbody>\n",
              "    <tr>\n",
              "      <th>0</th>\n",
              "      <td>924</td>\n",
              "      <td>199.104978</td>\n",
              "      <td>151.720779</td>\n",
              "      <td>4.704545</td>\n",
              "      <td>373.521645</td>\n",
              "      <td>96.650433</td>\n",
              "    </tr>\n",
              "    <tr>\n",
              "      <th>1</th>\n",
              "      <td>598</td>\n",
              "      <td>53.240803</td>\n",
              "      <td>67.857860</td>\n",
              "      <td>3.091973</td>\n",
              "      <td>379.687291</td>\n",
              "      <td>29.130435</td>\n",
              "    </tr>\n",
              "    <tr>\n",
              "      <th>2</th>\n",
              "      <td>1038</td>\n",
              "      <td>323.588632</td>\n",
              "      <td>184.209056</td>\n",
              "      <td>10.162813</td>\n",
              "      <td>411.710019</td>\n",
              "      <td>135.193642</td>\n",
              "    </tr>\n",
              "    <tr>\n",
              "      <th>3</th>\n",
              "      <td>333</td>\n",
              "      <td>82.615616</td>\n",
              "      <td>261.528529</td>\n",
              "      <td>3.150150</td>\n",
              "      <td>381.615616</td>\n",
              "      <td>46.915916</td>\n",
              "    </tr>\n",
              "  </tbody>\n",
              "</table>\n",
              "</div>"
            ],
            "text/plain": [
              "         Count      Length     Recency  Frecuency    Monetary  Periodicity\n",
              "Cluster                                                                   \n",
              "0          924  199.104978  151.720779   4.704545  373.521645    96.650433\n",
              "1          598   53.240803   67.857860   3.091973  379.687291    29.130435\n",
              "2         1038  323.588632  184.209056  10.162813  411.710019   135.193642\n",
              "3          333   82.615616  261.528529   3.150150  381.615616    46.915916"
            ]
          },
          "metadata": {},
          "execution_count": 15
        }
      ]
    },
    {
      "cell_type": "code",
      "metadata": {
        "colab": {
          "base_uri": "https://localhost:8080/",
          "height": 420
        },
        "id": "vgP60vstlfAF",
        "outputId": "78d087d5-2530-474f-a72f-ead67138cfa2"
      },
      "source": [
        "data_labels"
      ],
      "execution_count": 14,
      "outputs": [
        {
          "output_type": "execute_result",
          "data": {
            "text/html": [
              "<div>\n",
              "<style scoped>\n",
              "    .dataframe tbody tr th:only-of-type {\n",
              "        vertical-align: middle;\n",
              "    }\n",
              "\n",
              "    .dataframe tbody tr th {\n",
              "        vertical-align: top;\n",
              "    }\n",
              "\n",
              "    .dataframe thead th {\n",
              "        text-align: right;\n",
              "    }\n",
              "</style>\n",
              "<table border=\"1\" class=\"dataframe\">\n",
              "  <thead>\n",
              "    <tr style=\"text-align: right;\">\n",
              "      <th></th>\n",
              "      <th>Cluster</th>\n",
              "    </tr>\n",
              "  </thead>\n",
              "  <tbody>\n",
              "    <tr>\n",
              "      <th>0</th>\n",
              "      <td>3</td>\n",
              "    </tr>\n",
              "    <tr>\n",
              "      <th>1</th>\n",
              "      <td>1</td>\n",
              "    </tr>\n",
              "    <tr>\n",
              "      <th>2</th>\n",
              "      <td>0</td>\n",
              "    </tr>\n",
              "    <tr>\n",
              "      <th>3</th>\n",
              "      <td>1</td>\n",
              "    </tr>\n",
              "    <tr>\n",
              "      <th>4</th>\n",
              "      <td>1</td>\n",
              "    </tr>\n",
              "    <tr>\n",
              "      <th>...</th>\n",
              "      <td>...</td>\n",
              "    </tr>\n",
              "    <tr>\n",
              "      <th>2888</th>\n",
              "      <td>2</td>\n",
              "    </tr>\n",
              "    <tr>\n",
              "      <th>2889</th>\n",
              "      <td>1</td>\n",
              "    </tr>\n",
              "    <tr>\n",
              "      <th>2890</th>\n",
              "      <td>2</td>\n",
              "    </tr>\n",
              "    <tr>\n",
              "      <th>2891</th>\n",
              "      <td>2</td>\n",
              "    </tr>\n",
              "    <tr>\n",
              "      <th>2892</th>\n",
              "      <td>0</td>\n",
              "    </tr>\n",
              "  </tbody>\n",
              "</table>\n",
              "<p>2893 rows × 1 columns</p>\n",
              "</div>"
            ],
            "text/plain": [
              "      Cluster\n",
              "0           3\n",
              "1           1\n",
              "2           0\n",
              "3           1\n",
              "4           1\n",
              "...       ...\n",
              "2888        2\n",
              "2889        1\n",
              "2890        2\n",
              "2891        2\n",
              "2892        0\n",
              "\n",
              "[2893 rows x 1 columns]"
            ]
          },
          "metadata": {},
          "execution_count": 14
        }
      ]
    },
    {
      "cell_type": "markdown",
      "metadata": {
        "tags": [],
        "cell_id": "00053-4802e3b0-f4e2-4235-909a-43e607f46997",
        "deepnote_cell_type": "markdown",
        "id": "OYrD4VTXqwqx"
      },
      "source": [
        "**Respuesta Esperada:**\n",
        "\n",
        "|         | Length  | Recency   | Frequency | Monetary | Periodicity |       |\n",
        "|---------|---------|-----------|----------|-------------|-------|-------|\n",
        "| Cluster |         |           |          |             |       |       |\n",
        "|    0    |   258.8 |      45.2 |     76.1 |      1107.7 | 107.6 |   449 |\n",
        "|    1    |    76.1 |     217.6 |     45.5 |       791.7 |  14.1 |   466 |\n",
        "|    2    |   368.5 |       4.8 |   2715.0 |    226621.6 |   4.2 |     4 |\n",
        "|    3    |    85.3 |      45.7 |     65.8 |      1047.0 |  10.5 |   987 |\n",
        "|    4    |   347.2 |      15.9 |   1658.0 |     35829.3 |   8.0 |    25 |\n",
        "|    5    |   298.0 |      29.8 |    183.8 |      3639.9 |  32.0 |  1188 |"
      ]
    },
    {
      "cell_type": "markdown",
      "metadata": {
        "tags": [],
        "cell_id": "00042-95fcbe7f-ad2e-4116-92da-49ae755a4311",
        "deepnote_cell_type": "markdown",
        "id": "E-NaoCZYqwqx"
      },
      "source": [
        "#### 1.3.3.3 Plot de K-Means 📈 [0.5 puntos]\n",
        "\n"
      ]
    },
    {
      "cell_type": "markdown",
      "metadata": {
        "tags": [],
        "cell_id": "00043-33a035f7-7aaf-4aad-98a2-0c4295fa136f",
        "deepnote_cell_type": "markdown",
        "id": "3ORM4DB9qwqx"
      },
      "source": [
        "Por último, Mr. Lepin, impaciente de no entender lo que usted intenta explicarle, le solicita que por favor muestre algún resultado \"visual\" de los grupos encontrados.\n",
        "\n",
        "Para esto, grafique nuevamente las características encontradas usando `T-SNE` (no calcule de nuevo, simplemente utilice las proyecciones encontradas) y agregue las labels calculadas con kmeans como el argumento `color`.   \n",
        "\n",
        "Comente: ¿Se separan bien los distintos clusters en la visualización?\n"
      ]
    },
    {
      "cell_type": "markdown",
      "metadata": {
        "tags": [],
        "cell_id": "00044-d04e1a07-81ac-4440-9cf0-65f9f8dd6a8c",
        "deepnote_cell_type": "markdown",
        "id": "JXz8begSqwqx"
      },
      "source": [
        "**Respuesta:**"
      ]
    },
    {
      "cell_type": "code",
      "metadata": {
        "colab": {
          "base_uri": "https://localhost:8080/",
          "height": 541
        },
        "id": "NvqFYsiDjVMt",
        "outputId": "26346580-6d1f-42df-af25-4b6b0eae70f3"
      },
      "source": [
        "df_2d['Label'] = pipe_3['KMeans'].labels_\n",
        "\n",
        "fig = px.scatter(df_2d, x=\"Dimension_x\", y=\"Dimension_y\", color='Label')     #Creamos el objeto a plotear\n",
        "fig.show() #Ploteamos"
      ],
      "execution_count": 12,
      "outputs": [
        {
          "output_type": "display_data",
          "data": {
            "text/html": [
              "<html>\n",
              "<head><meta charset=\"utf-8\" /></head>\n",
              "<body>\n",
              "    <div>\n",
              "            <script src=\"https://cdnjs.cloudflare.com/ajax/libs/mathjax/2.7.5/MathJax.js?config=TeX-AMS-MML_SVG\"></script><script type=\"text/javascript\">if (window.MathJax) {MathJax.Hub.Config({SVG: {font: \"STIX-Web\"}});}</script>\n",
              "                <script type=\"text/javascript\">window.PlotlyConfig = {MathJaxConfig: 'local'};</script>\n",
              "        <script src=\"https://cdn.plot.ly/plotly-latest.min.js\"></script>    \n",
              "            <div id=\"933515c6-58ad-4ec9-8373-eb305077d599\" class=\"plotly-graph-div\" style=\"height:525px; width:100%;\"></div>\n",
              "            <script type=\"text/javascript\">\n",
              "                \n",
              "                    window.PLOTLYENV=window.PLOTLYENV || {};\n",
              "                    \n",
              "                if (document.getElementById(\"933515c6-58ad-4ec9-8373-eb305077d599\")) {\n",
              "                    Plotly.newPlot(\n",
              "                        '933515c6-58ad-4ec9-8373-eb305077d599',\n",
              "                        [{\"hoverlabel\": {\"namelength\": 0}, \"hovertemplate\": \"Dimension_x=%{x}<br>Dimension_y=%{y}<br>Label=%{marker.color}\", \"legendgroup\": \"\", \"marker\": {\"color\": [3, 1, 0, 1, 1, 1, 2, 2, 2, 0, 0, 3, 0, 3, 0, 1, 0, 0, 0, 0, 2, 0, 1, 0, 2, 2, 2, 1, 0, 0, 1, 0, 2, 0, 1, 1, 2, 1, 0, 0, 2, 1, 2, 2, 3, 2, 1, 1, 1, 1, 2, 1, 3, 1, 2, 2, 0, 1, 0, 1, 0, 3, 2, 0, 2, 0, 3, 2, 0, 0, 2, 0, 2, 2, 0, 1, 0, 3, 2, 2, 0, 3, 1, 2, 1, 2, 1, 1, 0, 2, 1, 0, 2, 2, 0, 0, 1, 1, 0, 0, 0, 2, 1, 2, 2, 0, 2, 2, 3, 1, 0, 3, 0, 1, 1, 0, 0, 0, 2, 2, 2, 2, 2, 1, 0, 0, 3, 0, 2, 2, 2, 3, 1, 3, 2, 2, 2, 2, 1, 1, 3, 1, 3, 3, 1, 2, 2, 3, 2, 2, 1, 1, 0, 0, 0, 0, 0, 2, 1, 1, 1, 1, 0, 0, 2, 2, 1, 2, 2, 2, 1, 0, 1, 1, 0, 2, 1, 0, 1, 0, 0, 1, 1, 0, 1, 1, 2, 0, 1, 3, 3, 1, 0, 1, 2, 2, 3, 2, 1, 2, 2, 0, 2, 0, 1, 2, 2, 0, 0, 0, 3, 1, 0, 1, 0, 1, 1, 2, 1, 0, 2, 2, 0, 0, 0, 2, 0, 1, 0, 0, 0, 3, 1, 0, 0, 0, 2, 0, 0, 2, 3, 2, 0, 2, 2, 0, 2, 3, 2, 0, 2, 2, 3, 3, 2, 2, 3, 0, 0, 0, 0, 1, 2, 2, 0, 2, 2, 1, 2, 2, 0, 0, 2, 2, 0, 0, 0, 0, 2, 1, 2, 1, 2, 2, 0, 2, 0, 0, 2, 3, 2, 0, 0, 2, 0, 0, 1, 1, 2, 3, 0, 3, 0, 1, 2, 0, 1, 2, 3, 0, 3, 0, 3, 0, 1, 0, 2, 1, 0, 2, 2, 0, 2, 2, 3, 2, 1, 3, 0, 2, 1, 2, 0, 0, 0, 0, 0, 1, 2, 0, 0, 0, 1, 1, 2, 1, 0, 1, 2, 1, 1, 1, 2, 0, 2, 0, 3, 2, 2, 1, 2, 0, 2, 3, 2, 2, 3, 2, 0, 3, 3, 3, 0, 1, 2, 0, 2, 2, 2, 0, 2, 3, 2, 0, 0, 0, 2, 0, 2, 3, 0, 1, 2, 0, 0, 1, 2, 1, 0, 2, 0, 1, 2, 0, 1, 2, 2, 2, 2, 0, 0, 0, 0, 3, 3, 3, 0, 0, 1, 2, 0, 0, 0, 1, 0, 0, 0, 3, 1, 2, 0, 2, 2, 1, 0, 2, 2, 0, 0, 3, 0, 0, 0, 3, 2, 0, 1, 1, 0, 2, 1, 2, 2, 2, 1, 1, 3, 2, 1, 0, 1, 0, 2, 2, 0, 3, 2, 2, 3, 0, 2, 3, 2, 2, 3, 2, 2, 1, 0, 3, 0, 2, 0, 0, 1, 3, 0, 0, 0, 2, 0, 0, 2, 3, 1, 3, 0, 2, 0, 0, 0, 2, 1, 3, 1, 0, 0, 0, 1, 2, 2, 2, 2, 2, 2, 2, 2, 2, 3, 0, 0, 1, 2, 0, 0, 2, 0, 2, 1, 3, 2, 2, 1, 1, 2, 0, 0, 0, 2, 3, 0, 0, 1, 0, 1, 2, 1, 2, 1, 0, 2, 2, 0, 1, 1, 2, 0, 2, 2, 2, 0, 0, 0, 0, 2, 2, 2, 0, 3, 1, 3, 2, 0, 0, 0, 2, 2, 0, 0, 2, 3, 1, 3, 2, 0, 0, 0, 2, 2, 3, 1, 2, 1, 3, 2, 0, 2, 2, 2, 0, 3, 2, 0, 2, 0, 1, 2, 2, 3, 0, 2, 2, 0, 1, 1, 2, 2, 0, 3, 2, 0, 1, 0, 0, 2, 0, 0, 1, 0, 0, 0, 3, 2, 2, 2, 3, 2, 2, 2, 1, 2, 0, 3, 2, 2, 0, 0, 3, 1, 3, 2, 3, 2, 2, 3, 0, 2, 1, 2, 3, 3, 2, 0, 1, 1, 2, 0, 0, 0, 2, 0, 2, 2, 0, 1, 2, 1, 0, 0, 3, 2, 2, 2, 0, 3, 2, 3, 3, 1, 0, 2, 2, 0, 2, 2, 0, 0, 0, 1, 0, 2, 0, 2, 0, 0, 0, 2, 0, 3, 0, 0, 2, 1, 0, 2, 2, 0, 3, 2, 2, 0, 2, 3, 1, 0, 0, 0, 0, 2, 1, 2, 2, 3, 1, 0, 2, 1, 2, 2, 2, 2, 0, 2, 1, 0, 1, 0, 0, 1, 0, 2, 0, 2, 0, 2, 2, 2, 2, 1, 2, 1, 1, 2, 2, 1, 1, 0, 2, 2, 1, 1, 3, 3, 0, 2, 0, 2, 1, 0, 3, 0, 3, 2, 2, 2, 0, 2, 2, 2, 2, 2, 2, 2, 1, 0, 2, 1, 3, 2, 1, 0, 2, 2, 2, 0, 1, 3, 3, 0, 0, 2, 2, 2, 2, 2, 1, 3, 2, 0, 2, 0, 0, 2, 2, 3, 2, 0, 2, 0, 0, 2, 2, 1, 0, 2, 2, 2, 2, 1, 2, 0, 2, 0, 3, 0, 2, 2, 0, 2, 3, 2, 3, 0, 0, 1, 1, 3, 3, 0, 1, 2, 0, 0, 0, 1, 0, 1, 2, 2, 0, 2, 1, 0, 0, 2, 0, 1, 2, 2, 2, 2, 0, 1, 3, 0, 0, 2, 0, 1, 1, 1, 0, 3, 1, 0, 3, 2, 1, 0, 1, 0, 0, 0, 0, 2, 1, 0, 0, 3, 0, 0, 2, 0, 2, 1, 0, 2, 2, 2, 0, 2, 2, 0, 2, 2, 0, 2, 1, 0, 2, 2, 3, 0, 1, 3, 0, 3, 1, 0, 2, 1, 2, 2, 1, 0, 2, 1, 2, 0, 1, 1, 1, 0, 1, 1, 2, 3, 0, 0, 1, 1, 2, 0, 1, 0, 2, 0, 2, 0, 2, 3, 2, 2, 0, 1, 2, 2, 2, 0, 2, 2, 2, 0, 0, 3, 2, 0, 0, 2, 2, 2, 1, 1, 0, 2, 0, 2, 1, 2, 2, 3, 2, 2, 2, 2, 3, 2, 2, 2, 2, 2, 1, 2, 1, 1, 0, 1, 0, 0, 2, 0, 0, 1, 2, 0, 2, 0, 1, 2, 0, 2, 0, 3, 3, 1, 2, 2, 2, 2, 0, 0, 0, 0, 2, 2, 2, 2, 0, 2, 1, 0, 0, 1, 2, 3, 3, 2, 2, 3, 2, 1, 0, 0, 2, 2, 0, 0, 1, 2, 2, 2, 1, 1, 2, 2, 0, 2, 2, 0, 0, 0, 0, 1, 0, 0, 0, 0, 2, 2, 2, 1, 1, 0, 2, 3, 2, 2, 2, 2, 0, 0, 0, 0, 1, 2, 1, 0, 2, 3, 3, 0, 1, 0, 2, 2, 2, 0, 3, 0, 0, 1, 1, 0, 1, 0, 1, 1, 1, 0, 2, 0, 0, 1, 2, 2, 2, 2, 0, 1, 2, 0, 1, 2, 2, 1, 1, 2, 1, 0, 2, 0, 1, 0, 3, 1, 2, 3, 2, 2, 1, 0, 0, 2, 0, 3, 1, 2, 1, 2, 0, 1, 1, 0, 2, 3, 1, 0, 0, 0, 2, 2, 2, 0, 0, 3, 2, 1, 3, 3, 0, 2, 2, 2, 0, 0, 2, 0, 0, 0, 2, 0, 0, 2, 2, 1, 2, 1, 2, 2, 2, 0, 3, 0, 2, 0, 1, 3, 1, 2, 2, 2, 2, 2, 1, 0, 1, 2, 0, 0, 2, 2, 1, 2, 0, 3, 0, 1, 3, 0, 0, 1, 1, 1, 0, 3, 2, 2, 2, 0, 2, 2, 1, 3, 2, 3, 1, 2, 2, 0, 0, 2, 2, 2, 0, 3, 0, 1, 0, 1, 2, 0, 2, 0, 1, 0, 0, 0, 0, 1, 2, 1, 1, 0, 1, 0, 2, 2, 0, 1, 1, 2, 1, 2, 2, 1, 2, 2, 2, 2, 2, 2, 0, 2, 0, 0, 2, 0, 2, 1, 1, 2, 2, 2, 1, 0, 2, 3, 3, 2, 0, 0, 3, 2, 3, 1, 0, 1, 3, 1, 0, 1, 0, 0, 0, 0, 3, 0, 0, 0, 1, 0, 0, 1, 2, 3, 1, 1, 1, 3, 1, 1, 2, 0, 2, 0, 2, 0, 2, 0, 3, 2, 0, 1, 0, 2, 2, 2, 2, 2, 0, 0, 1, 2, 0, 0, 0, 2, 2, 0, 3, 0, 0, 1, 1, 2, 0, 0, 1, 1, 0, 0, 0, 0, 3, 2, 0, 2, 1, 1, 3, 2, 0, 1, 2, 1, 0, 1, 3, 2, 3, 1, 0, 2, 2, 0, 0, 2, 0, 2, 2, 1, 3, 1, 0, 3, 2, 2, 1, 0, 3, 0, 3, 2, 3, 1, 0, 1, 1, 1, 1, 2, 3, 1, 2, 3, 1, 2, 1, 0, 0, 2, 0, 0, 0, 1, 1, 2, 0, 2, 0, 2, 2, 1, 1, 3, 2, 0, 0, 0, 2, 1, 3, 3, 0, 0, 2, 2, 2, 3, 2, 0, 2, 1, 2, 2, 2, 0, 2, 3, 0, 1, 2, 1, 0, 2, 2, 0, 1, 0, 2, 2, 0, 2, 0, 2, 2, 2, 2, 2, 1, 0, 3, 1, 2, 2, 2, 2, 1, 2, 2, 1, 2, 1, 0, 1, 3, 2, 2, 3, 2, 2, 2, 0, 2, 1, 2, 2, 0, 0, 2, 0, 0, 2, 0, 3, 1, 3, 1, 2, 2, 2, 3, 1, 0, 3, 1, 0, 2, 2, 2, 0, 3, 2, 0, 2, 1, 0, 2, 0, 1, 2, 1, 0, 0, 2, 0, 0, 2, 2, 1, 1, 1, 3, 0, 1, 2, 2, 2, 0, 3, 0, 0, 1, 0, 2, 1, 0, 2, 0, 3, 3, 2, 2, 3, 0, 0, 3, 1, 3, 2, 2, 1, 3, 2, 0, 2, 0, 0, 2, 1, 1, 1, 2, 0, 1, 2, 0, 2, 1, 2, 2, 1, 0, 2, 0, 0, 3, 1, 2, 0, 2, 3, 0, 0, 1, 0, 2, 0, 0, 3, 0, 2, 3, 2, 0, 3, 0, 0, 0, 2, 2, 2, 1, 2, 1, 2, 0, 1, 0, 0, 0, 2, 1, 2, 1, 2, 2, 0, 3, 0, 2, 2, 2, 2, 2, 0, 2, 3, 2, 2, 1, 0, 1, 2, 1, 0, 2, 2, 2, 2, 0, 0, 0, 2, 0, 2, 0, 1, 2, 1, 1, 2, 3, 2, 1, 2, 3, 2, 0, 1, 1, 1, 3, 2, 2, 0, 2, 2, 2, 0, 1, 0, 3, 1, 2, 2, 1, 2, 0, 1, 0, 0, 1, 0, 2, 2, 1, 1, 3, 2, 3, 1, 0, 1, 2, 2, 0, 1, 0, 0, 1, 2, 0, 2, 2, 1, 2, 2, 2, 0, 1, 0, 2, 1, 1, 1, 0, 3, 0, 0, 1, 1, 1, 0, 0, 1, 0, 0, 0, 0, 1, 0, 1, 3, 3, 1, 3, 1, 2, 1, 2, 2, 2, 3, 0, 3, 0, 0, 2, 0, 0, 2, 2, 0, 0, 0, 0, 2, 1, 0, 1, 2, 2, 2, 1, 1, 0, 2, 3, 0, 1, 0, 3, 1, 2, 0, 2, 2, 0, 0, 2, 0, 2, 2, 2, 2, 2, 2, 0, 1, 3, 1, 0, 0, 1, 0, 1, 2, 2, 2, 0, 0, 2, 2, 1, 2, 0, 2, 0, 0, 2, 1, 3, 0, 1, 1, 2, 1, 1, 1, 0, 0, 0, 2, 1, 1, 1, 1, 0, 0, 1, 2, 0, 2, 3, 0, 0, 1, 1, 1, 0, 0, 3, 0, 0, 1, 0, 2, 2, 0, 0, 2, 1, 0, 2, 3, 1, 2, 0, 1, 0, 2, 0, 1, 1, 3, 0, 3, 2, 2, 2, 2, 0, 0, 0, 3, 0, 0, 0, 0, 0, 1, 2, 2, 0, 0, 2, 2, 3, 0, 0, 1, 0, 1, 1, 0, 2, 0, 2, 0, 3, 0, 0, 2, 2, 2, 0, 0, 1, 2, 1, 2, 2, 3, 0, 1, 3, 1, 2, 1, 2, 0, 1, 3, 1, 0, 3, 0, 1, 3, 3, 0, 3, 1, 3, 0, 0, 0, 3, 1, 0, 0, 1, 2, 2, 0, 1, 2, 3, 1, 0, 1, 2, 0, 0, 3, 0, 2, 0, 0, 0, 2, 2, 0, 1, 2, 2, 2, 1, 1, 0, 2, 3, 0, 3, 1, 0, 2, 2, 0, 2, 1, 2, 2, 2, 2, 0, 0, 3, 0, 0, 2, 1, 2, 0, 3, 0, 0, 1, 2, 2, 2, 2, 2, 0, 3, 1, 0, 0, 0, 2, 0, 2, 2, 0, 1, 2, 0, 3, 2, 0, 1, 1, 0, 1, 0, 0, 0, 2, 0, 2, 0, 0, 2, 1, 1, 2, 0, 1, 2, 2, 1, 0, 1, 0, 3, 2, 2, 2, 2, 3, 2, 0, 2, 2, 2, 1, 2, 2, 2, 2, 2, 2, 2, 2, 1, 2, 2, 2, 0, 0, 0, 2, 2, 3, 0, 2, 0, 0, 2, 2, 1, 2, 2, 2, 0, 1, 0, 2, 2, 2, 0, 2, 2, 2, 2, 0, 2, 2, 3, 1, 3, 3, 0, 0, 1, 0, 1, 1, 1, 2, 0, 0, 2, 1, 0, 0, 0, 3, 2, 3, 2, 2, 3, 3, 1, 0, 1, 2, 0, 0, 1, 3, 1, 0, 0, 1, 0, 2, 2, 3, 2, 2, 0, 3, 2, 0, 1, 1, 0, 0, 1, 1, 1, 2, 0, 0, 3, 2, 3, 0, 1, 2, 1, 0, 2, 0, 2, 1, 0, 2, 0, 1, 2, 0, 2, 3, 2, 2, 0, 0, 2, 2, 2, 2, 0, 0, 3, 1, 3, 1, 0, 3, 1, 1, 0, 2, 0, 2, 0, 0, 1, 1, 0, 0, 0, 1, 0, 0, 3, 2, 2, 2, 3, 0, 2, 0, 1, 2, 3, 2, 0, 3, 1, 3, 0, 2, 2, 1, 0, 2, 0, 0, 2, 0, 2, 1, 2, 3, 3, 0, 2, 2, 2, 2, 0, 0, 2, 0, 2, 1, 2, 0, 2, 0, 1, 0, 0, 2, 1, 3, 3, 3, 1, 0, 1, 2, 1, 0, 0, 0, 2, 2, 2, 2, 1, 0, 0, 0, 2, 0, 2, 3, 0, 2, 2, 2, 1, 1, 2, 0, 0, 0, 0, 2, 3, 3, 2, 3, 0, 2, 2, 1, 2, 3, 1, 0, 0, 3, 2, 1, 2, 2, 2, 3, 0, 1, 0, 2, 0, 3, 2, 2, 0, 0, 1, 2, 0, 2, 0, 2, 2, 0, 2, 1, 3, 1, 2, 2, 2, 0, 2, 2, 2, 1, 1, 3, 1, 2, 1, 2, 2, 0, 2, 3, 2, 1, 1, 1, 2, 1, 2, 0, 2, 2, 1, 2, 0, 2, 2, 2, 0, 0, 0, 3, 3, 3, 2, 0, 0, 2, 0, 2, 2, 2, 0, 0, 0, 2, 2, 0, 1, 3, 2, 1, 3, 2, 1, 2, 2, 1, 2, 3, 2, 0, 0, 2, 1, 0, 0, 2, 2, 1, 1, 3, 2, 2, 2, 1, 2, 2, 2, 0, 2, 2, 2, 1, 2, 0, 0, 2, 1, 1, 2, 2, 0, 0, 3, 2, 1, 0, 1, 2, 2, 3, 3, 2, 2, 1, 1, 2, 3, 0, 3, 3, 0, 0, 1, 3, 0, 2, 3, 2, 2, 2, 1, 0, 0, 2, 1, 1, 1, 2, 3, 2, 3, 0, 2, 3, 0, 3, 1, 0, 2, 1, 2, 0, 0, 0, 2, 2, 3, 1, 2, 2, 3, 1, 1, 2, 0, 0, 1, 0, 0, 2, 2, 0, 2, 0, 0, 3, 0, 0, 0, 3, 2, 2, 1, 1, 2, 1, 3, 2, 2, 2, 1, 2, 1, 0, 3, 1, 0, 2, 0, 0, 2, 3, 1, 1, 1, 1, 3, 0, 0, 1, 0, 0, 1, 2, 0, 2, 0, 2, 0, 0, 3, 0, 0, 2, 0, 1, 2, 0, 1, 3, 2, 2, 1, 2, 1, 0, 2, 2, 1, 0, 0, 1, 2, 0, 1, 2, 1, 0, 3, 1, 3, 1, 0, 2, 2, 0, 2, 1, 0, 0, 2, 1, 2, 0, 0, 2, 3, 2, 1, 2, 2, 0, 0, 2, 2, 3, 1, 0, 0, 1, 3, 1, 2, 2, 0, 2, 2, 2, 3, 2, 3, 1, 0, 1, 2, 1, 2, 0, 1, 3, 0, 1, 0, 2, 3, 3, 2, 0, 2, 2, 2, 2, 2, 2, 2, 2, 2, 0, 0, 1, 2, 2, 2, 0, 1, 2, 2, 2, 1, 3, 1, 3, 2, 0, 2, 0, 1, 0, 0, 1, 2, 2, 2, 3, 1, 2, 1, 1, 1, 0, 2, 0, 0, 2, 2, 3, 3, 2, 2, 1, 0, 2, 3, 3, 2, 3, 0, 2, 3, 1, 1, 0, 1, 1, 2, 2, 0, 2, 2, 0, 1, 0, 2, 1, 2, 2, 2, 2, 3, 0, 2, 1, 1, 0, 0, 1, 1, 2, 2, 2, 2, 0, 1, 0, 3, 1, 1, 2, 3, 0, 2, 0, 2, 0, 2, 1, 2, 2, 0, 1, 2, 0, 1, 0, 2, 2, 0, 0, 0, 1, 2, 2, 2, 0, 3, 1, 0, 1, 1, 3, 0, 1, 3, 0, 2, 2, 0, 0, 1, 2, 2, 0, 2, 3, 0, 0, 2, 0, 3, 1, 0, 0, 2, 3, 0, 1, 3, 2, 2, 2, 2, 0, 2, 0, 2, 0, 1, 0, 0, 1, 0, 0, 2, 3, 0, 3, 2, 2, 0, 3, 3, 3, 3, 2, 1, 2, 2, 0], \"coloraxis\": \"coloraxis\", \"symbol\": \"circle\"}, \"mode\": \"markers\", \"name\": \"\", \"showlegend\": false, \"type\": \"scattergl\", \"x\": [19.67269515991211, 68.90000915527344, 0.935088574886322, 77.90152740478516, 66.06159973144531, 64.41192626953125, -62.65438461303711, -35.35014724731445, -27.979448318481445, -7.935916423797607, -10.61073112487793, 41.58563995361328, -16.264575958251953, 39.88964080810547, 4.477653503417969, 69.62261199951172, 2.440347194671631, 34.04350662231445, 1.3145785331726074, 21.2332706451416, -26.904464721679688, 9.3047456741333, 60.73490905761719, -6.4285569190979, -24.780858993530273, -24.592687606811523, -36.393741607666016, 36.039066314697266, 29.706520080566406, 23.434274673461914, 62.39670181274414, 29.749374389648438, -46.152992248535156, -5.300613880157471, 70.0636978149414, 40.18073272705078, -46.797508239746094, 43.934268951416016, 24.832597732543945, 11.152633666992188, -46.15855407714844, 39.6906623840332, -43.95529556274414, -56.06031799316406, 36.88801574707031, -11.772148132324219, 63.62062072753906, 45.816837310791016, 44.81673812866211, 65.268798828125, -27.26634407043457, 44.813724517822266, 14.2511625289917, 59.308876037597656, -75.02606201171875, -56.50789260864258, -26.514245986938477, 38.805850982666016, -26.082340240478516, 36.87476348876953, -12.603048324584961, 36.76533889770508, -39.78035354614258, 6.781761169433594, -50.06741714477539, -3.0372543334960938, 47.7625732421875, -7.303761959075928, -5.233796119689941, 13.484686851501465, -6.634317874908447, 14.99906063079834, -59.913936614990234, -31.240644454956055, 18.99112892150879, 51.28263854980469, -9.200345993041992, 23.834871292114258, -28.75399398803711, -64.71696472167969, 16.343141555786133, 27.43165397644043, 66.65990447998047, -64.1478500366211, 58.86591339111328, -29.90827751159668, 46.53565216064453, 44.75063705444336, 25.281394958496094, -64.57125854492188, 55.40911865234375, 16.862323760986328, -57.59645462036133, -66.78964233398438, -2.5674290657043457, -22.695384979248047, 72.34459686279297, 57.530033111572266, -23.594411849975586, 8.103049278259277, 5.723208904266357, -60.426570892333984, 47.54974365234375, -56.70383834838867, -56.49665451049805, -4.330387115478516, -28.207548141479492, -21.603357315063477, 38.44152069091797, 65.12265014648438, -11.222245216369629, 48.2427978515625, 30.045656204223633, 53.401283264160156, 54.1873664855957, 18.461666107177734, -1.529584527015686, -3.741943836212158, -21.043920516967773, -27.161251068115234, -49.757625579833984, -21.17556381225586, -39.6413688659668, 45.194419860839844, 31.228601455688477, -16.233774185180664, 41.02494812011719, -11.561902046203613, -8.720966339111328, -30.671552658081055, -9.399218559265137, 50.242279052734375, 45.416358947753906, 26.833742141723633, -73.90682220458984, -69.58377838134766, -69.9654312133789, -64.41984558105469, 59.84410095214844, 26.90165138244629, 19.91019630432129, 43.143577575683594, 29.716161727905273, 40.56898498535156, 18.256099700927734, -56.77661895751953, -55.918983459472656, 37.71860885620117, -63.78269958496094, -54.26088333129883, 27.9158878326416, 41.37676239013672, 21.513362884521484, -5.195066452026367, -13.494135856628418, -3.5089213848114014, -1.1266272068023682, -37.88054275512695, 77.12977600097656, 59.620887756347656, 73.5071792602539, 54.97322082519531, 31.130281448364258, 6.964430332183838, -67.10881805419922, -79.96699523925781, 35.97249984741211, -38.567501068115234, -27.751766204833984, -62.69403076171875, 62.032257080078125, 18.547517776489258, 66.89763641357422, 76.51841735839844, -3.759868860244751, -64.75946044921875, 29.599870681762695, 12.390883445739746, 48.87284851074219, 10.039253234863281, -20.211685180664062, 72.30396270751953, 58.21963882446289, -5.697579860687256, 34.9004020690918, 54.8487434387207, -37.5699462890625, 25.49742317199707, 43.41205978393555, 33.33250045776367, 20.97719955444336, 61.12758255004883, 7.797495365142822, 64.20647430419922, -52.647850036621094, -36.64174270629883, 22.570022583007812, -62.53646469116211, 62.45844650268555, -34.1565055847168, -61.14043426513672, 2.548513889312744, -58.94950866699219, -6.590877532958984, 29.435665130615234, -18.770891189575195, -51.08937454223633, 17.857105255126953, -1.6485437154769897, -13.33311653137207, 19.618309020996094, 74.6874771118164, -17.837852478027344, 43.6645393371582, -2.322863817214966, 40.74162673950195, 55.18552017211914, -55.815208435058594, 77.97023010253906, -23.047561645507812, -66.08470916748047, -11.038688659667969, 16.232545852661133, -8.04864501953125, 2.7291665077209473, -40.15501022338867, 4.910538196563721, 30.880146026611328, 4.132555961608887, 17.386138916015625, -4.9670491218566895, 27.47597312927246, 39.38295364379883, -22.799551010131836, -6.197145938873291, -14.653736114501953, -64.93565368652344, -4.332220077514648, -14.818188667297363, -62.986061096191406, 19.078292846679688, -72.28712463378906, 5.690581321716309, -51.9373779296875, -39.092342376708984, 14.374204635620117, -74.86673736572266, 26.38532257080078, -63.854095458984375, -7.329639434814453, -22.025623321533203, -45.17966842651367, 47.05958938598633, 44.32500457763672, -56.84333801269531, -41.13618087768555, 37.31248474121094, 12.215658187866211, 5.9412384033203125, -14.880828857421875, 21.03400230407715, 72.71684265136719, -63.51238250732422, -55.435279846191406, -13.478515625, -38.151222229003906, -37.352577209472656, 55.78888702392578, -39.8816032409668, -57.80834197998047, -2.560410261154175, -14.060440063476562, -20.853227615356445, -42.22417068481445, -0.4151255786418915, -4.661783218383789, -7.9830732345581055, 16.312360763549805, -48.72911071777344, 66.43045043945312, -57.92073059082031, 61.46808624267578, -17.345142364501953, -8.236420631408691, 7.736945629119873, -56.92403793334961, 8.81178092956543, -11.021883010864258, -56.54634475708008, 28.52523422241211, -63.54999923706055, 32.0085563659668, -6.9561638832092285, -44.78793716430664, 20.90937614440918, 32.01152038574219, 47.312435150146484, 72.28685760498047, -50.502498626708984, 22.89665412902832, 28.634517669677734, 23.69890594482422, -0.05773117020726204, 41.37089157104492, -56.274993896484375, -12.588640213012695, 73.7672348022461, -57.387821197509766, 46.588619232177734, -11.844320297241211, 30.4758358001709, -1.545430302619934, 48.0594367980957, 16.698925018310547, 61.87097930908203, 15.229222297668457, -21.62761688232422, 64.57335662841797, -1.9909794330596924, -68.08966827392578, -71.7430648803711, -4.068641185760498, -74.05824279785156, -37.84022521972656, 35.94007110595703, -78.95685577392578, 33.62398147583008, 45.64336395263672, -15.551344871520996, -74.3202133178711, 76.38484954833984, -65.17211151123047, 6.931527137756348, 3.9788389205932617, 20.79075813293457, -19.676095962524414, -18.986417770385742, 51.699623107910156, -34.68867111206055, -17.174177169799805, -3.5699074268341064, -18.13132095336914, 57.7281608581543, 46.92289352416992, -26.40831184387207, 43.491912841796875, -17.565181732177734, 70.46414947509766, -61.60634231567383, 37.38229751586914, 75.53424835205078, 33.027992248535156, -59.51646041870117, -5.800572395324707, -57.65811538696289, 25.358198165893555, 48.89167785644531, -19.315345764160156, -62.62479019165039, 33.20130920410156, -38.108158111572266, -9.909712791442871, -48.21176528930664, 28.784658432006836, -48.39555358886719, -61.47554016113281, 16.888952255249023, -52.43743896484375, -10.372977256774902, 47.80207824707031, 16.32114028930664, 18.054067611694336, 5.899641513824463, 63.85576248168945, -71.779296875, 21.44198989868164, -50.853851318359375, -55.14480209350586, -37.19668960571289, 16.105501174926758, -34.317169189453125, 16.531639099121094, -57.26054763793945, 13.096339225769043, -7.3523688316345215, -12.586463928222656, -29.802188873291016, -18.442052841186523, -10.982495307922363, 35.12071990966797, 16.780414581298828, 48.970279693603516, -34.67585372924805, -9.026387214660645, 6.142204761505127, 29.649494171142578, -20.036357879638672, 54.05247497558594, -2.8179678916931152, -12.313714981079102, 21.890886306762695, 76.46082305908203, -27.505857467651367, 0.7808526158332825, 71.7552719116211, -44.58015823364258, -65.39820098876953, -58.28545379638672, -4.761666297912598, -21.719249725341797, 20.139690399169922, -5.927762508392334, -24.203969955444336, 34.7016487121582, 46.366966247558594, 29.84628677368164, -9.107004165649414, -13.468846321105957, 36.21139907836914, -23.726289749145508, -2.0466535091400146, 27.64878273010254, 18.58500862121582, 34.703548431396484, 5.120288372039795, -4.102422714233398, -20.608232498168945, 33.7171745300293, 75.91226196289062, -7.002764701843262, -12.410673141479492, -55.301536560058594, -72.02044677734375, 57.145530700683594, 33.29251480102539, -59.587364196777344, -66.0978775024414, -1.5078837871551514, -23.03995132446289, 23.070358276367188, 14.422284126281738, -26.65546417236328, 30.65267562866211, 24.502111434936523, -21.158470153808594, 18.672935485839844, 65.18032836914062, 69.2209243774414, 22.782752990722656, -43.002838134765625, 61.79673385620117, -6.204972267150879, -61.89891815185547, -34.34555435180664, 37.70854568481445, 64.80369567871094, 22.496545791625977, -63.44518280029297, 68.54358673095703, -7.7564311027526855, 49.557708740234375, 3.085775375366211, -17.77345848083496, -13.11717414855957, -2.476959705352783, 34.591304779052734, -74.75357818603516, -58.1177978515625, 41.934268951416016, 28.177797317504883, -8.554323196411133, 26.36476707458496, -57.57528305053711, -13.986346244812012, 38.598628997802734, -57.895896911621094, -13.98037052154541, 56.0361213684082, -14.487171173095703, 46.96261978149414, 6.335615158081055, -27.399219512939453, 23.35576057434082, 22.194026947021484, 64.6332015991211, 34.589134216308594, -9.362436294555664, 22.671483993530273, -9.940381050109863, -66.7492904663086, -5.570106506347656, -10.778523445129395, -56.55125045776367, 36.05079650878906, 72.91505432128906, 38.489131927490234, 0.7163453102111816, -38.461761474609375, -10.616539001464844, 21.063962936401367, -6.889673709869385, -72.2507553100586, 40.1791877746582, 22.17145347595215, 53.66089630126953, -20.87212562561035, -10.452115058898926, 8.529857635498047, 57.63796615600586, -9.694289207458496, -61.75234603881836, -6.374490737915039, -66.66983795166016, -10.99658203125, -46.219852447509766, -66.27365112304688, -62.289878845214844, -42.62358093261719, 37.95135498046875, 21.90683364868164, 14.428319931030273, 45.81462097167969, -57.824493408203125, 2.0947086811065674, -5.15703010559082, -18.677677154541016, -3.4938199520111084, -63.55730438232422, 69.28966522216797, 45.065513610839844, -23.86548614501953, -65.22148895263672, 28.05994987487793, 62.55854797363281, -28.230886459350586, 6.329836368560791, 8.517934799194336, 20.47542953491211, -64.42707824707031, 38.691402435302734, -11.132879257202148, 18.44587516784668, 63.714195251464844, -7.764774322509766, 55.77571487426758, -45.06715774536133, 66.8343276977539, -45.84369659423828, 51.16578674316406, -15.181981086730957, -32.76287841796875, -72.92945098876953, -3.4937047958374023, 36.22991180419922, 60.81926345825195, -56.002593994140625, -23.818376541137695, -60.46247100830078, -52.400245666503906, -30.856796264648438, -1.859088659286499, 10.364517211914062, -5.199580192565918, -6.265260219573975, -25.49286651611328, -63.77822494506836, -26.777408599853516, -16.37348747253418, 25.196706771850586, 77.26974487304688, 17.74630355834961, -65.55717468261719, 18.429889678955078, 13.057380676269531, 5.918097496032715, -43.83457946777344, -66.04319763183594, -3.7983884811401367, 17.67728614807129, -31.09763526916504, 24.07338523864746, 46.054264068603516, 22.193689346313477, -59.511009216308594, 16.89893341064453, -11.214397430419922, -6.1122894287109375, -53.69090270996094, -39.951393127441406, 33.25362777709961, 67.19363403320312, -67.5373306274414, 77.80899810791016, 34.32394027709961, -55.469486236572266, 17.36385726928711, -40.07548141479492, -29.170658111572266, -66.13432312011719, -6.585395336151123, 35.025020599365234, -31.92715835571289, -10.660688400268555, -24.48918342590332, -24.428632736206055, 35.79007339477539, -17.296133041381836, -59.08427810668945, 31.705732345581055, 25.92266845703125, -11.046940803527832, -6.536239147186279, -19.762874603271484, 76.45474243164062, 68.07152557373047, -52.566261291503906, -77.61434936523438, -16.488840103149414, 30.49700927734375, -20.244356155395508, -17.381193161010742, 33.06572723388672, -19.37096405029297, -0.8545068502426147, -36.114933013916016, 7.1364946365356445, -19.408096313476562, 56.78240966796875, 7.1491217613220215, -11.785367965698242, -5.153775691986084, 27.96772003173828, -59.21610641479492, -24.004981994628906, -17.678085327148438, 39.03403854370117, -61.61234664916992, -38.7742919921875, -43.795005798339844, 61.89191436767578, -64.77616119384766, -18.47791862487793, 23.100107192993164, -64.3251724243164, -65.77562713623047, 1.6368038654327393, 19.026878356933594, 30.891559600830078, 66.87501525878906, 35.351009368896484, -71.48484802246094, 45.51283264160156, -56.82461166381836, -38.872825622558594, 27.15037727355957, -16.400588989257812, -8.242026329040527, 67.92228698730469, -71.09312438964844, 45.34720230102539, 21.220386505126953, -19.741548538208008, 10.238183975219727, 64.6916732788086, 60.64524841308594, -60.58052444458008, -8.562131881713867, -21.498926162719727, -3.79390811920166, -75.23721313476562, 3.411172389984131, -15.61159896850586, -27.42328643798828, -0.816819429397583, 66.85279083251953, -59.79066467285156, 52.24590301513672, -1.4917105436325073, -28.818803787231445, 35.13066482543945, -20.661270141601562, -38.964752197265625, -52.79103088378906, -14.798612594604492, 24.62499237060547, -48.61079788208008, 29.38587760925293, 25.365108489990234, 70.97905731201172, 5.624783039093018, -39.56937026977539, -67.71182250976562, -10.36207103729248, -31.03730010986328, -55.06986999511719, -4.051335334777832, 20.663747787475586, 14.391273498535156, 36.07758712768555, 29.344738006591797, -42.888607025146484, -25.776599884033203, -26.636249542236328, -0.7816153168678284, -23.68425178527832, 16.909120559692383, -50.43589401245117, -7.56430196762085, 47.10382843017578, 11.6842679977417, -20.567358016967773, -47.76534652709961, 45.5285530090332, 7.642518997192383, -37.964324951171875, -54.52054977416992, -2.5612730979919434, 35.21834945678711, -11.764972686767578, -7.949568748474121, -20.453489303588867, -46.91097640991211, 41.447452545166016, 36.35762023925781, -15.25546646118164, 0.5945268273353577, 33.47123718261719, 33.156707763671875, -40.25995635986328, 59.24058532714844, -18.495254516601562, -61.50199890136719, 37.93255615234375, 69.05780792236328, 3.860696792602539, -58.9377326965332, 41.69049835205078, -57.36714553833008, -41.24462890625, -56.12751007080078, -47.484031677246094, -19.322786331176758, -50.21257019042969, 34.453189849853516, -13.072736740112305, 63.50186538696289, -10.164605140686035, -17.212772369384766, 58.995967864990234, -16.21883201599121, -29.80940818786621, 16.46578598022461, -59.49082946777344, -9.098454475402832, -46.69102096557617, -60.23133850097656, -65.8161392211914, -28.97846794128418, 75.17435455322266, -3.7321243286132812, 39.04603576660156, 43.14392852783203, -62.83060836791992, -59.334110260009766, 73.82808685302734, 51.68910598754883, 29.356910705566406, -65.32673645019531, -43.682437896728516, 36.587913513183594, 64.52421569824219, 26.77082061767578, 53.47024154663086, 20.4094181060791, -3.864928722381592, 3.311573028564453, -29.862262725830078, 47.48815155029297, -5.020188331604004, 34.43854522705078, 16.675033569335938, 59.62884521484375, -68.13652801513672, -69.9114990234375, -60.069271087646484, -5.676315784454346, -7.939504623413086, -10.402984619140625, -65.57322692871094, -11.069987297058105, -23.213380813598633, -47.322174072265625, -28.711572647094727, 80.041748046875, -11.140743255615234, -68.65657043457031, 40.77288055419922, 17.35360336303711, -60.60464859008789, 44.939002990722656, -20.54924774169922, -3.89682674407959, -63.86882400512695, -28.663654327392578, -14.119853973388672, 65.21145629882812, 36.947776794433594, 48.65412139892578, 23.56235694885254, -14.64620590209961, -39.30720138549805, -49.638572692871094, -63.345951080322266, -58.55338668823242, -18.34184455871582, 64.8439712524414, 41.42534255981445, -60.753047943115234, 15.337449073791504, -63.725006103515625, -12.30860710144043, 6.3414998054504395, -36.55293655395508, -24.91219711303711, 44.592491149902344, -41.23180389404297, 0.7089561223983765, -59.008262634277344, 0.39135682582855225, 11.208332061767578, -18.311973571777344, -54.262603759765625, 66.67517852783203, 11.51524543762207, -66.8075180053711, -57.595916748046875, -65.9791488647461, -41.51588821411133, 49.73484802246094, -7.911264419555664, 25.313016891479492, -45.11317443847656, -19.13631248474121, 36.9099235534668, -25.051231384277344, -34.1202392578125, -78.33126831054688, -25.347484588623047, -63.010780334472656, 37.46192932128906, -66.4884033203125, 22.47258758544922, -7.083451747894287, 20.138107299804688, 65.03250122070312, 78.0197525024414, 42.64613723754883, 29.006494522094727, -0.8187925815582275, 79.67613983154297, -21.89158058166504, 15.017029762268066, 19.034456253051758, 27.459468841552734, 43.21574020385742, 1.2847071886062622, 74.62799072265625, -18.125850677490234, -44.798828125, 2.9755547046661377, -42.35453414916992, 38.362613677978516, 4.335143089294434, -21.074138641357422, -39.27100372314453, -16.919221878051758, 73.3609619140625, -38.93375778198242, -47.14126205444336, -46.17206573486328, -59.6894416809082, 19.965604782104492, 41.34855651855469, 53.243743896484375, 26.757286071777344, 19.54778289794922, -22.626001358032227, -16.930124282836914, 38.440452575683594, 53.54600143432617, 35.06791687011719, 4.486123085021973, 33.12735366821289, 29.24830436706543, 1.1753076314926147, 33.79196548461914, -33.14927673339844, 38.38414001464844, 20.923891067504883, 47.09898376464844, -14.634926795959473, 19.819772720336914, -3.290656089782715, -26.56262969970703, -54.70833206176758, 44.63987350463867, -12.537280082702637, 17.76594352722168, 50.8748779296875, -1.1653940677642822, -15.155335426330566, -30.022748947143555, 11.224462509155273, -27.977005004882812, 39.12888717651367, -3.0019373893737793, -41.489173889160156, -41.11870574951172, -57.873538970947266, -3.2047770023345947, -61.45095443725586, -37.29192352294922, 18.7990779876709, -74.84498596191406, -68.71157836914062, -26.054153442382812, -39.106014251708984, 64.77371215820312, 4.059344291687012, -31.705705642700195, -53.7073974609375, 54.494361877441406, 24.31580352783203, 33.64521408081055, 35.08042526245117, 2.7441728115081787, 22.382089614868164, 57.55999755859375, -19.109994888305664, -11.562240600585938, 44.75812530517578, -41.29685592651367, -56.118194580078125, 67.50502014160156, 31.437707901000977, -45.57640075683594, 58.042320251464844, -23.5421085357666, -19.10974884033203, 44.51264572143555, 60.35800552368164, 66.42217254638672, -25.085636138916016, 64.3094482421875, 58.31172561645508, -10.692748069763184, 44.93362045288086, -8.514249801635742, 17.380285263061523, 40.94435501098633, 41.42163848876953, -38.91909408569336, 6.954030513763428, 63.310585021972656, -5.82573127746582, -50.82711410522461, 24.726497650146484, -25.283924102783203, -2.872939348220825, -29.47188949584961, 38.19446563720703, -47.61903381347656, -10.259279251098633, 12.241378784179688, 55.08595275878906, -36.95584487915039, -54.447269439697266, -36.827938079833984, 10.222496032714844, -59.62127685546875, -10.45583724975586, -39.63523864746094, -9.255176544189453, 19.270858764648438, 35.58353805541992, -38.88905715942383, 1.8169342279434204, -26.762596130371094, -68.8303451538086, -45.754722595214844, -30.241493225097656, 76.80048370361328, 57.204837799072266, -4.864568710327148, -40.848445892333984, 24.50965118408203, -58.5283088684082, 52.8880500793457, -40.83846664428711, -42.94896697998047, 36.44344711303711, -18.326095581054688, -52.92732620239258, -58.420440673828125, -23.539377212524414, 18.22928810119629, -31.335437774658203, -58.36439895629883, -67.16791534423828, -64.64339447021484, -32.154850006103516, 42.577632904052734, -40.736045837402344, 49.2468376159668, 80.22764587402344, 5.926417350769043, 67.07905578613281, 2.551772117614746, -16.350250244140625, -17.873544692993164, -23.783781051635742, 20.14281463623047, 44.68678283691406, -32.2551155090332, -5.21832275390625, -67.37592315673828, 7.363739490509033, 54.915435791015625, -56.095882415771484, 27.95227813720703, -28.03008460998535, 19.65471076965332, 36.452491760253906, 32.85138702392578, 69.99279022216797, -28.363656997680664, -76.94600677490234, -37.534305572509766, -26.443538665771484, -0.6506816744804382, -13.767324447631836, -15.947139739990234, 17.137868881225586, -53.43523406982422, -25.82246208190918, -66.15174102783203, -63.23136901855469, -5.832870006561279, -40.25200271606445, 40.16961669921875, -24.586864471435547, 1.3074861764907837, 41.32461166381836, -59.930450439453125, 31.89423370361328, 33.80778884887695, -66.35095977783203, -19.33189582824707, 36.41331481933594, -14.319742202758789, 32.716060638427734, 25.988496780395508, -5.174441814422607, -49.00452423095703, -54.96504592895508, -20.740398406982422, -12.794487953186035, 72.38251495361328, -32.48396301269531, -49.96062088012695, -8.239461898803711, 59.22423553466797, 24.79380989074707, -52.744571685791016, -78.74539184570312, -5.629199504852295, -61.30323791503906, -26.325027465820312, 25.10868263244629, 17.168609619140625, 19.43109703063965, 17.41852378845215, 71.44017791748047, 17.371095657348633, 15.575262069702148, -7.68820858001709, 3.5180728435516357, -62.10723114013672, -51.755550384521484, -14.259746551513672, 41.41020584106445, 38.98675537109375, -26.830625534057617, -24.226110458374023, 28.544113159179688, -34.00407409667969, -77.85670471191406, -42.53915786743164, -40.160118103027344, -11.836156845092773, -2.850994348526001, -5.435786247253418, 2.151747703552246, 66.52815246582031, -39.189422607421875, 67.56472778320312, 15.525729179382324, -71.92081451416016, 30.447755813598633, 51.53350830078125, 10.946231842041016, 69.25933837890625, -13.148186683654785, -62.17641067504883, -74.91761016845703, -32.47085952758789, -13.202437400817871, 24.878002166748047, -23.278627395629883, 18.616294860839844, 47.94649124145508, 71.14892578125, -14.532943725585938, 42.32236862182617, -3.325354814529419, 61.36514663696289, 42.09491729736328, 43.68502426147461, -10.752118110656738, -65.742919921875, -1.8124805688858032, 20.307531356811523, 45.78176498413086, -61.02227783203125, -63.79111862182617, -66.44429779052734, -33.70588302612305, -13.4159517288208, 59.92132568359375, -64.46607971191406, 27.04423713684082, 54.371177673339844, -29.4951229095459, -46.312225341796875, 67.63577270507812, 34.47348403930664, -64.57511901855469, 60.10019302368164, 14.742883682250977, -68.14238739013672, -12.59268856048584, 63.48359680175781, 0.6387704610824585, 22.252330780029297, 69.62981414794922, -25.604694366455078, 36.75152587890625, -21.025611877441406, -65.05143737792969, 64.74640655517578, -6.729940414428711, 12.266429901123047, -56.33794403076172, 16.713489532470703, 23.87434959411621, 55.51595687866211, -57.737178802490234, 45.09481430053711, -64.47232055664062, -20.952056884765625, 57.86308288574219, 68.10616302490234, -8.239896774291992, -7.314723968505859, 48.587486267089844, 56.87400436401367, -5.233269214630127, -11.308391571044922, 1.26802396774292, -10.588163375854492, -31.337600708007812, -33.143028259277344, -16.92733383178711, -15.653583526611328, 25.301387786865234, -55.78987503051758, 59.54179000854492, 36.16872787475586, 31.12759017944336, -13.880313873291016, -16.378902435302734, -34.26428985595703, -54.509117126464844, 12.137625694274902, 17.371931076049805, -52.375308990478516, 21.267858505249023, -4.136194229125977, 4.738951206207275, -38.891883850097656, 30.226207733154297, 0.30251258611679077, -66.15928649902344, -67.41670227050781, 39.139549255371094, -33.299888610839844, 67.25431060791016, -59.737335205078125, -21.30524253845215, -7.802198886871338, 18.867780685424805, 49.173492431640625, -3.9532790184020996, -36.16460418701172, -14.069466590881348, 58.319984436035156, 41.223995208740234, 65.67652130126953, -15.854883193969727, -56.068756103515625, -50.9341926574707, -39.08812713623047, -60.392333984375, 32.52671432495117, 17.68394660949707, 67.73870086669922, -60.72397232055664, 5.173165798187256, -5.630244255065918, -80.47479248046875, -33.45191192626953, 39.637550354003906, -63.49203109741211, 3.9002301692962646, 49.51935958862305, 0.10268199443817139, 25.35186004638672, 42.97183609008789, 0.5096015334129333, 24.76093864440918, 76.30389404296875, 66.20602416992188, 55.222618103027344, 0.446416437625885, 54.72449493408203, -16.87729835510254, -42.7559814453125, -25.623716354370117, -13.17638874053955, -8.10991382598877, -64.29627227783203, 67.10566711425781, 21.95888328552246, -59.75001525878906, 48.35127639770508, 29.647459030151367, -64.54012298583984, -35.82630157470703, -12.750006675720215, 27.02729606628418, -41.55207443237305, -11.036645889282227, -58.45090866088867, -3.530238628387451, 23.446866989135742, -20.58368492126465, 60.7450065612793, 14.056845664978027, 78.51909637451172, -48.280879974365234, -1.450419545173645, -71.86018371582031, 16.259313583374023, 70.0286636352539, 3.650643825531006, 13.179959297180176, -1.4072802066802979, 19.08213996887207, 32.89128112792969, -42.975311279296875, 62.85123062133789, 50.15399169921875, -9.472476959228516, 76.33950805664062, -24.37856101989746, -52.30617904663086, -67.98900604248047, 11.625229835510254, 80.45211029052734, 61.40016174316406, -73.41422271728516, 48.70426559448242, -57.27719497680664, -18.015670776367188, 45.18184280395508, -63.25910949707031, -12.741412162780762, -37.31887435913086, -29.186399459838867, -57.291419982910156, -78.35179901123047, 4.276466369628906, -40.81477355957031, 1.0507913827896118, -1.6547083854675293, -59.1706428527832, 5.947065353393555, -29.110488891601562, 58.19761657714844, 52.22199249267578, -12.570454597473145, -58.476043701171875, -58.474449157714844, 42.989532470703125, 15.802470207214355, -7.318323135375977, 36.15435791015625, 46.69539260864258, -57.78888702392578, 13.634716987609863, -24.03748321533203, 49.62815856933594, -60.35612106323242, 45.18279266357422, 53.253421783447266, -1.7929247617721558, 47.202850341796875, 16.442724227905273, 41.76714324951172, -4.430117130279541, 66.68548583984375, 7.6450676918029785, 1.3060895204544067, -9.23442554473877, 14.11078929901123, 22.64600372314453, 11.999268531799316, -13.897954940795898, 22.03154754638672, 64.42036437988281, 11.431407928466797, 20.320480346679688, 45.407474517822266, -58.21358871459961, 35.39883041381836, 44.29702377319336, 43.9207649230957, 60.91947555541992, 15.820137023925781, 65.69600677490234, 65.87590026855469, -40.17777633666992, -24.781414031982422, -19.009477615356445, -8.063063621520996, -54.98406982421875, -4.398124694824219, -16.666942596435547, -20.542789459228516, 49.28739929199219, -18.29623031616211, -8.064043045043945, 31.30429458618164, -10.45448112487793, -39.341941833496094, -68.03060913085938, -15.335801124572754, -65.13004302978516, -33.759334564208984, 8.37731647491455, 14.759395599365234, 66.87274932861328, -51.25728988647461, 24.6252384185791, 4.254642963409424, -7.556530952453613, -38.090789794921875, -27.649112701416016, -5.008609294891357, 26.01591682434082, 9.941372871398926, -12.268477439880371, 44.657039642333984, 79.24126434326172, -63.09894561767578, -5.527429103851318, 4.700767993927002, 46.32735061645508, 33.31368637084961, 3.354496955871582, -13.596424102783203, -0.29265791177749634, 2.6974174976348877, 52.3850212097168, -60.10042190551758, 15.652302742004395, -66.22419738769531, 61.25160598754883, 37.40140151977539, 20.304357528686523, -61.67041015625, 29.31366539001465, 77.43780517578125, -46.24612808227539, 35.432830810546875, 0.34715843200683594, 65.46698760986328, 29.54814910888672, -36.716773986816406, 37.32477951049805, 65.70120239257812, 25.642833709716797, -66.52928161621094, -30.923446655273438, 15.89232349395752, -18.02167320251465, -68.20015716552734, -30.14053726196289, -61.221763610839844, -60.10999298095703, 48.93367004394531, 24.722126007080078, 61.65653991699219, 19.911130905151367, 27.44846534729004, -79.2157974243164, -53.0626220703125, 67.94307708740234, -9.897651672363281, 30.51578712463379, -23.95679473876953, 26.37580108642578, -59.10091781616211, 34.00307846069336, 31.892711639404297, -21.477174758911133, 67.41119384765625, 58.284053802490234, 78.88931274414062, 57.742156982421875, -65.31489562988281, 48.51203918457031, 62.45125198364258, -65.63565826416016, 44.485050201416016, 53.68775939941406, -15.588571548461914, 23.520416259765625, -23.117937088012695, -14.132243156433105, -29.989688873291016, -6.602956295013428, -7.011653900146484, -1.3470959663391113, 71.93136596679688, 54.30023193359375, -53.898773193359375, 7.746524333953857, -64.1873779296875, 2.1782708168029785, -10.194631576538086, -23.905746459960938, 72.72889709472656, 59.31653594970703, 19.51394271850586, -50.961509704589844, 28.394678115844727, 31.365036010742188, -0.581030547618866, -10.991559982299805, 63.59831237792969, 49.13270950317383, 37.38134002685547, -3.2720046043395996, 16.5681095123291, -34.65959167480469, -51.617706298828125, -30.77233123779297, 46.61902618408203, -23.332923889160156, 3.1142454147338867, -56.527748107910156, 46.174522399902344, -31.66522789001465, -28.76404571533203, -65.54932403564453, 17.239255905151367, -57.572052001953125, 30.606943130493164, 15.646050453186035, 27.48198699951172, -40.7486572265625, 41.54494857788086, 14.488936424255371, -58.354881286621094, -57.4482536315918, 16.26991081237793, 58.424224853515625, -1.7683316469192505, -39.172706604003906, -40.144718170166016, 12.47036075592041, -56.93209457397461, 30.187578201293945, -39.53502655029297, -23.830881118774414, -16.261232376098633, -54.00250244140625, -57.09424591064453, 70.75190734863281, 16.451698303222656, 18.80684471130371, 42.50568771362305, -9.943134307861328, -48.12025451660156, -50.534488677978516, -50.58689498901367, 52.9803466796875, -41.96184158325195, -55.006771087646484, 79.46141815185547, -50.15297317504883, 73.07176208496094, 13.60682487487793, 58.67954635620117, 27.092205047607422, -3.70582914352417, -43.780120849609375, 49.2833137512207, -57.15977478027344, -25.800756454467773, -59.78462219238281, 20.436389923095703, -58.1849250793457, 78.31283569335938, -24.03507423400879, -15.892003059387207, 14.94367790222168, -6.837724685668945, -17.576683044433594, -23.961942672729492, -17.697404861450195, -61.7775764465332, -5.0583906173706055, 28.481483459472656, 44.093021392822266, 44.9969596862793, 62.06136703491211, -40.19738006591797, -52.577762603759766, -9.288642883300781, 29.07295036315918, 41.23607635498047, -9.094230651855469, 32.34034729003906, 32.75190734863281, 8.050071716308594, -50.05710983276367, -69.47428131103516, -42.32155227661133, -15.174062728881836, 21.77518081665039, -43.21811294555664, 0.8783677816390991, -65.2398910522461, 34.786258697509766, -6.666169166564941, -51.175682067871094, 9.099266052246094, 45.561744689941406, -62.2247314453125, 44.035423278808594, -0.9672225117683411, 21.736858367919922, -42.209903717041016, -7.434167385101318, 17.174837112426758, -57.699363708496094, -51.6011962890625, 68.6395263671875, 71.75145721435547, 75.8936996459961, 29.083995819091797, 14.078352928161621, 41.8096809387207, -67.89335632324219, -8.014751434326172, -38.85799026489258, 9.042038917541504, 33.26487731933594, -1.8321841955184937, -10.329036712646484, 56.07190704345703, 2.0679931640625, -44.71460723876953, 58.079593658447266, 24.48723030090332, -56.50392532348633, 13.388973236083984, 29.960041046142578, 16.354751586914062, -57.38944625854492, -57.38410949707031, 30.620283126831055, -17.957359313964844, -6.747575759887695, 37.894081115722656, 60.31865692138672, 23.013200759887695, -58.1912727355957, -58.623775482177734, 37.69525909423828, 46.5396728515625, -61.753334045410156, 7.310462474822998, -65.57378387451172, 1.0910661220550537, 8.52376651763916, -42.27061462402344, 52.20431900024414, 77.64131927490234, 60.44013214111328, -31.42361831665039, 33.64181900024414, 68.4566421508789, -66.06492614746094, 16.159683227539062, -39.32343292236328, 64.74593353271484, -65.50923919677734, -8.826149940490723, 46.8321533203125, 17.201936721801758, -62.09440231323242, 15.766684532165527, -7.944894313812256, 41.515045166015625, 56.822547912597656, -7.571897983551025, -4.002100467681885, -74.04104614257812, 31.81322479248047, -11.509284973144531, 13.229094505310059, 44.303428649902344, -5.92213773727417, -57.46607971191406, 30.4036808013916, 2.9184682369232178, 27.85358428955078, -1.6167341470718384, -57.97896194458008, 45.17689514160156, -6.069892406463623, -16.720809936523438, 28.43937110900879, 9.080167770385742, 16.91506004333496, -19.252134323120117, -56.188079833984375, -8.650911331176758, -68.49405670166016, 43.345027923583984, -35.42268371582031, 73.78247833251953, -28.076107025146484, 0.6993066072463989, 54.657691955566406, 31.884702682495117, 3.0413272380828857, -8.400896072387695, -55.13770294189453, 42.863494873046875, -47.10492706298828, 64.03549194335938, -75.41397857666016, -59.49530792236328, 23.09808921813965, 18.738719940185547, -7.363684177398682, -67.80418395996094, -60.360782623291016, -70.08036041259766, -53.99526596069336, -69.18889617919922, -7.7595062255859375, -51.89017868041992, 29.108882904052734, -12.621520042419434, -65.588134765625, 58.7733268737793, 16.377344131469727, 57.02714157104492, -45.484588623046875, 58.295326232910156, 14.590786933898926, -43.927249908447266, -67.79570770263672, -16.457096099853516, -40.95758819580078, 4.534339427947998, 21.87550163269043, 24.943958282470703, -56.15118408203125, -3.5722129344940186, -65.93543243408203, 20.58188819885254, 41.98846435546875, -33.88728713989258, 48.385597229003906, 54.6024055480957, -20.071332931518555, 29.966035842895508, -34.9674072265625, 80.87382507324219, -65.83390045166016, 26.4066162109375, -34.761680603027344, -24.233007431030273, 67.6703872680664, 42.824092864990234, 39.633522033691406, 43.80426788330078, -63.312320709228516, -59.870513916015625, 24.384225845336914, -33.339420318603516, -64.3503189086914, -25.679798126220703, 14.008037567138672, 68.64512634277344, 20.821651458740234, 46.29461669921875, 60.4851188659668, -64.0581283569336, -59.91578674316406, 36.164127349853516, -67.4411392211914, 27.46771240234375, 55.72151184082031, 30.967689514160156, -3.9513185024261475, 46.277000427246094, -3.5315380096435547, -60.55963134765625, -69.33218383789062, 34.40367889404297, 80.31608581542969, 27.676408767700195, -19.96494483947754, 17.646081924438477, 54.78206253051758, -3.2026188373565674, 72.1489486694336, -51.562015533447266, -60.27260208129883, -0.3641473054885864, 56.510406494140625, 18.824840545654297, -17.087600708007812, 74.088623046875, -66.79188537597656, 24.56839370727539, -72.56173706054688, -9.582389831542969, 73.44371032714844, -34.311283111572266, -18.60964584350586, -57.65003967285156, 19.187936782836914, 76.86884307861328, -6.086985111236572, -75.23468017578125, 48.952781677246094, 35.7874641418457, 72.09295654296875, 0.44001656770706177, 27.80204963684082, -2.2462117671966553, 6.040620803833008, 50.229896545410156, 43.62164306640625, 44.0062255859375, 14.565000534057617, 23.33052635192871, 77.27723693847656, 3.2203140258789062, 0.01438106782734394, 9.834150314331055, 4.690202236175537, 40.304630279541016, 19.764097213745117, 45.270503997802734, 31.53704261779785, 25.426998138427734, 30.78372573852539, 45.776920318603516, 52.68334197998047, -33.300132751464844, 77.0417709350586, -40.930294036865234, -69.95244598388672, -37.14051818847656, 50.888038635253906, 24.257856369018555, 44.76987075805664, -12.141609191894531, -6.232754707336426, -59.054847717285156, -10.841866493225098, 31.959762573242188, -45.215877532958984, -36.15271759033203, 8.981205940246582, -1.71226167678833, 6.584339141845703, 5.272361755371094, -53.68614959716797, 68.84478759765625, 12.340785026550293, 61.3859748840332, -40.36299133300781, -64.8178939819336, -58.2752685546875, 29.883209228515625, 38.43210220336914, 2.461886405944824, -67.43628692626953, 31.46541976928711, -15.985523223876953, 34.08104705810547, -6.367055892944336, 44.1509895324707, 50.829261779785156, -66.62318420410156, 9.450572967529297, -27.731266021728516, -58.58979034423828, 32.56706619262695, 17.96424102783203, -57.88617706298828, -1.3271466493606567, -21.62986183166504, -27.731895446777344, -60.130859375, -10.518776893615723, -40.38315200805664, -72.99225616455078, -11.570603370666504, 51.68593215942383, 33.70053482055664, 38.875823974609375, 1.1112792491912842, -2.1776223182678223, 46.733009338378906, -0.2142581343650818, 72.7038803100586, -57.131813049316406, -51.2075309753418, -58.403751373291016, -13.512899398803711, -14.851741790771484, -39.2436408996582, -42.06224822998047, 32.31062316894531, -19.41233253479004, 21.862390518188477, -27.12224006652832, -15.170572280883789, 8.921080589294434, -55.0241584777832, 65.69792938232422, 39.76228713989258, 14.88740062713623, 35.441951751708984, 74.31185150146484, -18.073307037353516, 68.7836685180664, 50.533912658691406, 73.35016632080078, 5.344577789306641, -2.36285400390625, 32.26798629760742, -68.90555572509766, 39.2215690612793, 41.752227783203125, 47.62049865722656, 70.460693359375, -19.731847763061523, -5.875601291656494, 78.88330841064453, -37.47903060913086, -23.46628761291504, -38.87855529785156, 34.157371520996094, -18.504592895507812, -3.185185670852661, 54.89350891113281, 65.38190460205078, 72.46823120117188, -12.688939094543457, 3.504330635070801, 46.08303451538086, 15.189848899841309, 22.72652816772461, 56.1099967956543, -2.5139293670654297, -9.855546951293945, -11.702956199645996, -7.668483734130859, 17.698286056518555, -39.456085205078125, 38.46588134765625, -6.385409832000732, -64.87862396240234, 30.90629005432129, 62.528194427490234, -15.09627628326416, -12.33918571472168, 51.343536376953125, 26.49097442626953, -37.4730224609375, -3.883253812789917, 44.511287689208984, 37.713172912597656, 49.0474739074707, -8.433259010314941, 24.5355281829834, -44.9936637878418, -38.146270751953125, -58.90934753417969, -38.53436279296875, -20.367538452148438, -6.348690032958984, 9.996793746948242, 19.069744110107422, -6.833595275878906, 33.50309371948242, 4.3775458335876465, 16.876964569091797, -13.666565895080566, 62.21227264404297, -32.571533203125, -52.003143310546875, -3.651850938796997, 6.161506175994873, -27.038501739501953, -66.10657501220703, 22.738306045532227, 5.8490071296691895, -2.802217721939087, 70.64744567871094, 3.790212392807007, 61.80525588989258, 69.74915313720703, 20.63774871826172, -25.406450271606445, 16.163644790649414, -26.524492263793945, -20.966562271118164, 19.07474136352539, 9.152629852294922, 19.49186897277832, -64.1151351928711, -63.0187873840332, -49.17885208129883, 14.590091705322266, -4.627189636230469, 62.75386047363281, -61.93126678466797, 60.69404220581055, -33.406009674072266, -20.35919952392578, 29.422508239746094, -21.07646942138672, 69.23202514648438, 29.77497673034668, 43.658790588378906, -74.07707214355469, 43.48573684692383, -31.241762161254883, -13.569588661193848, 56.57470703125, 35.16768264770508, 62.057342529296875, -6.652463912963867, 22.6746883392334, -13.372764587402344, 75.806396484375, 34.648616790771484, 34.65024185180664, 14.471208572387695, 38.29530715942383, 52.9554328918457, 48.04351806640625, -5.371047496795654, -17.890932083129883, 10.549115180969238, 36.48482894897461, 63.541202545166016, -14.002262115478516, -3.6389808654785156, 60.24699783325195, -49.50168991088867, -27.89003562927246, 15.973899841308594, 36.93406677246094, -33.922203063964844, 31.10332489013672, 55.74163818359375, 4.851480007171631, 44.20465087890625, -46.49563217163086, 13.61001968383789, 13.959868431091309, 48.07177734375, 33.37266159057617, -43.85070037841797, -23.854751586914062, 19.712942123413086, 21.637989044189453, -29.0183162689209, -28.532564163208008, -22.491012573242188, 64.34668731689453, -24.914113998413086, -8.827802658081055, -68.3223648071289, 49.61178970336914, 58.04693603515625, 0.4512961208820343, -10.644510269165039, 47.42427062988281, 16.538015365600586, 22.29155158996582, 63.41643524169922, -14.170838356018066, -67.1678466796875, -34.883026123046875, -24.29345703125, -60.50061798095703, 57.20017623901367, -53.82710266113281, -56.54384231567383, -39.576602935791016, -59.80511474609375, 21.659780502319336, -3.306724786758423, 31.74460220336914, -13.582720756530762, -6.127399444580078, -5.150818347930908, 35.8047981262207, -10.339197158813477, -7.56121826171875, 28.388578414916992, -1.788744568824768, 6.099920749664307, 71.00050354003906, -55.75371551513672, -62.37061309814453, -39.55203628540039, -56.0399169921875, -60.339542388916016, -2.8845629692077637, 52.86563491821289, 64.21686553955078, 10.14516544342041, -5.410797119140625, -11.589999198913574, -67.59007263183594, 6.666037082672119, -32.31281661987305, -53.32139205932617, 1.5341159105300903, 35.13301086425781, -3.8787314891815186, 19.32491683959961, 35.108673095703125, -33.2845573425293, -0.1602257341146469, 37.45891189575195, 36.191612243652344, 21.865625381469727, 41.46868896484375, -10.992912292480469, -16.119569778442383, -16.853437423706055, -44.90351104736328, -16.93816566467285, -32.79792022705078, 10.877337455749512, -15.163963317871094, -55.349395751953125, 57.53877258300781, 69.93276977539062, -5.186338901519775, 12.744192123413086, 54.73786544799805, -75.67484283447266, -65.08517456054688, 54.079063415527344, 20.400562286376953, 62.940162658691406, -20.608217239379883, 53.58667755126953, -60.76304626464844, -66.39727783203125, -43.950775146484375, -42.484230041503906, 39.4114990234375, -54.53510284423828, -12.622315406799316, -59.523658752441406, -59.8028678894043, -52.38478469848633, 77.16120147705078, -66.62144470214844, -65.2818374633789, -50.34333801269531, -66.84152221679688, -18.894351959228516, -64.16875457763672, -15.366169929504395, -59.9072151184082, 69.90335845947266, -37.30364990234375, -43.24723815917969, -51.45769500732422, -3.374553918838501, -1.3247644901275635, 28.702285766601562, -66.91268157958984, -56.28766632080078, 20.449790954589844, -26.752126693725586, -9.306280136108398, -8.06196403503418, 9.062494277954102, -54.514225006103516, -4.476356029510498, 43.40357208251953, -9.846919059753418, -41.545387268066406, -16.075822830200195, -12.532367706298828, 56.80845260620117, -5.283402442932129, -74.27388000488281, -9.945064544677734, -56.06430435180664, -21.101295471191406, -36.23900604248047, -27.942096710205078, -65.84162139892578, -39.89202880859375, -13.08615493774414, -39.3122444152832, -61.251197814941406, 17.23489761352539, 63.055946350097656, 35.9644889831543, 19.36884117126465, 18.98753547668457, 6.979746341705322, 76.4795913696289, -14.812845230102539, 42.155303955078125, 59.852848052978516, 62.101654052734375, -67.3428726196289, 17.97645378112793, 2.015639543533325, -36.642738342285156, 60.61832809448242, -0.6795171499252319, 5.163907051086426, 16.01685905456543, 21.543420791625977, -28.022069931030273, 33.984867095947266, -19.038009643554688, -44.79180145263672, 50.840309143066406, 35.7773323059082, 60.365779876708984, -3.4146742820739746, 64.04290008544922, -52.801883697509766, -7.325317859649658, -3.3096396923065186, 33.67118453979492, 18.21188735961914, 64.19035339355469, 15.959205627441406, -2.1894123554229736, 59.89070129394531, -8.868642807006836, -21.452070236206055, -51.09518814086914, 51.95730209350586, -19.096025466918945, -39.22282791137695, 7.539245128631592, 34.371917724609375, -50.770755767822266, 13.955695152282715, 80.56805419921875, 51.50444412231445, -7.834300994873047, -2.6868398189544678, 77.12979125976562, 68.09027099609375, 73.58354187011719, -64.93959045410156, 25.477645874023438, 19.76349449157715, 43.690940856933594, -38.16431427001953, 47.19813919067383, 12.014920234680176, 67.36922454833984, -31.884220123291016, 37.148902893066406, 16.591747283935547, -37.58999252319336, 19.237241744995117, -29.487445831298828, 75.8331527709961, 19.51690673828125, -64.59603118896484, -11.726540565490723, 68.28706359863281, -30.76869010925293, 16.13640022277832, -27.555261611938477, 31.272647857666016, -58.52292251586914, -20.9810791015625, 4.856860160827637, -9.909958839416504, -38.33906555175781, -36.45199966430664, -44.951908111572266, -32.76494598388672, -22.834470748901367, 21.449785232543945, 45.33831787109375, 49.78206253051758, 48.792518615722656, 44.482364654541016, -12.409361839294434, 46.791751861572266, 54.75012969970703, 57.281341552734375, -9.04296588897705, -61.65979766845703, -2.5054550170898438, -52.67152786254883, -25.087705612182617, 26.96197509765625, 70.29751586914062, 72.42167663574219, -15.879549026489258, 6.344813823699951, 13.88330078125, 66.48863220214844, 31.384241104125977, -23.236787796020508, 46.71775436401367, -58.81635284423828, -52.62448501586914, -65.20875549316406, 27.96023178100586, 27.905677795410156, -33.75105285644531, -24.910987854003906, 62.51791000366211, -36.191951751708984, 22.81201934814453, -29.32019805908203, -0.9348839521408081, 18.719846725463867, 35.727962493896484, 17.812623977661133, -3.880605697631836, -67.30164337158203, -68.00245666503906, 60.268089294433594, 6.653498649597168, -38.227691650390625, -22.565282821655273, -23.934062957763672, -41.40575408935547, 1.730688214302063, -42.67689895629883, 58.342063903808594, -55.6684684753418, 47.46905517578125, 44.49989700317383, -16.65032958984375, -65.447509765625, -38.4480094909668, -33.523780822753906, -56.26335906982422, 21.761396408081055, -23.936357498168945, -40.73554229736328, -19.00819969177246, -62.85014343261719, 25.98402214050293, -57.06822967529297, -8.792762756347656, -34.91404342651367, 13.49301815032959, 51.714317321777344, 17.38758659362793, 19.301963806152344, -31.332744598388672, 40.36041259765625, 31.07428741455078, 27.17227554321289, 17.18349838256836, 34.31572341918945, 21.592382431030273, 46.941410064697266, -38.58650588989258, 56.553279876708984, 25.348339080810547, 1.1708080768585205, -18.29857063293457, -27.92378044128418, -43.904151916503906, -32.492286682128906, -33.9104118347168, 35.78523635864258, 24.64348030090332, -10.746793746948242, -7.628586769104004, -54.867210388183594, -1.682318091392517, -5.5837860107421875, 28.720596313476562, 14.882134437561035, -59.32009506225586, -7.512704849243164, -51.136383056640625, 54.97217559814453, 78.93488311767578, -15.330098152160645, 11.999098777770996, 12.743451118469238, -17.695079803466797, 0.4890662729740143, -14.91124153137207, 15.61557674407959, 48.46268844604492, -28.26974868774414, 17.135873794555664, -13.185139656066895, -64.7792739868164, -19.87645149230957, 80.59406280517578, -32.31553649902344, 18.83341407775879, 77.4393310546875, 17.128061294555664, 19.31220817565918, 33.0034294128418, -53.33803176879883, 56.78515625, -51.17042541503906, -36.81467056274414, -23.619474411010742, 47.900787353515625, -3.0910823345184326, 80.18394470214844, -6.341688632965088, -39.7662467956543, -24.279163360595703, 20.161897659301758, -51.606712341308594, -14.735991477966309, 13.419319152832031, -8.61473560333252, 78.92581176757812, -63.332298278808594, 24.308095932006836, -16.448272705078125, -9.052502632141113, -74.9269027709961, -65.16705322265625, 13.013616561889648, -18.717809677124023, 54.65522384643555, 28.519685745239258, 66.7241439819336, -8.784880638122559, -26.60346794128418, -61.480133056640625, 18.24925422668457, -19.274091720581055, -12.084153175354004, -39.91512680053711, 40.57157516479492, 55.17399215698242, 42.214317321777344, 77.87689208984375, -58.16758728027344, 78.48863983154297, -22.074172973632812, -59.6981086730957, 32.78126525878906, -50.592674255371094, 46.79875946044922, -26.653879165649414, 56.91297149658203, 40.79056930541992, 73.41419982910156, -38.956260681152344, 63.760223388671875, -10.087183952331543, 20.776355743408203, -28.715784072875977, -50.68840026855469, 58.521724700927734, -34.08684539794922, 4.344357490539551, -64.65619659423828, -25.869401931762695, -61.44489669799805, -3.899338960647583, 25.618886947631836, 18.9843807220459, 44.85013961791992, 27.33123016357422, 26.386791229248047, -10.954910278320312, -19.451345443725586, 21.203750610351562, -32.56524658203125, 5.226205348968506, -34.73587417602539, -55.57705307006836, -62.255043029785156, -12.421676635742188, -3.0404748916625977, -22.118309020996094, -34.10539245605469, -29.713132858276367, 21.903791427612305, 68.23836517333984, 23.374486923217773, -28.518957138061523, 63.66672134399414, 46.17312240600586, -34.27683639526367, 75.77730560302734, -65.59554290771484, -30.272069931030273, 62.22754669189453, -63.67472457885742, 27.470876693725586, -66.24476623535156, -21.272233963012695, 25.702070236206055, -76.32074737548828, 39.87709045410156, 17.41459846496582, 29.490022659301758, -41.054595947265625, -55.756202697753906, 42.20687484741211, 56.17170715332031, 22.991741180419922, -63.59507751464844, -29.612924575805664, -63.9099235534668, 55.40628433227539, -45.05999755859375, -19.6641788482666, -57.67264938354492, 16.379011154174805, -44.81443786621094, -47.233001708984375, -36.43177795410156, 75.16522216796875, -66.23915100097656, 20.677528381347656, -3.292991876602173, -67.4400863647461, 65.67678833007812, 33.81904602050781, -67.07820892333984, -40.80361557006836, 2.8224620819091797, -25.173450469970703, 25.3489933013916, -59.33974075317383, 64.1302261352539, -8.400266647338867, 43.766178131103516, -59.065216064453125, -39.62355422973633, 49.54578399658203, 30.144962310791016, -35.30393981933594, -47.15000915527344, 29.137447357177734, 58.345699310302734, -19.29156494140625, 41.92845153808594, -2.9762773513793945, 36.09884262084961, 45.932960510253906, 6.3269195556640625, 2.3442015647888184, 51.1080207824707, 23.181583404541016, -0.46661412715911865, -31.63788414001465, 47.187992095947266, -51.92622756958008, -75.597900390625, -19.196517944335938, 43.45711898803711, 19.164472579956055, -1.5285866260528564, -65.95502471923828, 63.73796463012695, 66.4528579711914, 65.65254211425781, -64.64714050292969, 29.700361251831055, -59.71565246582031, 30.648679733276367, 2.4591188430786133, -9.83057975769043, 29.02337646484375, -7.484930515289307, 47.330020904541016, 78.48316955566406, 11.030950546264648, -9.457338333129883, 78.27706146240234, -18.518701553344727, -14.476961135864258, 25.86957550048828, 8.059633255004883, -24.461444854736328, -61.45729064941406, 47.50398635864258, 50.94974136352539, -63.139339447021484, -70.8037109375, 44.374210357666016, 49.86529541015625, 62.66239929199219, -67.70924377441406, 4.620344638824463, -0.40282124280929565, 57.9845085144043, -13.077834129333496, -10.91157054901123, -16.518888473510742, -39.14929962158203, 18.162946701049805, -61.42765808105469, 8.246607780456543, 21.278118133544922, 28.314329147338867, -22.514827728271484, 16.422027587890625, -4.818122863769531, 18.375097274780273, -42.7784309387207, -55.582584381103516, 40.1300048828125, 44.20155334472656, -42.489967346191406, 67.00252532958984, 49.46088409423828, -45.85621643066406, -14.455867767333984, -27.278797149658203, 67.77800750732422, -52.30436706542969, 78.75109100341797, 7.205796718597412, 33.10504150390625, 40.055885314941406, -15.779029846191406, -38.690975189208984, 22.73714828491211, -16.481082916259766, -61.005157470703125, 46.310401916503906, 61.2769660949707, 53.72542953491211, 63.481510162353516, 78.38386535644531, 34.73506546020508, -6.4055867195129395, 17.758663177490234, 50.24311065673828, -4.257640838623047, 25.151498794555664, 77.54898071289062, -27.0219669342041, -13.908171653747559, -73.74754333496094, -19.107107162475586, -69.84501647949219, -1.6803070306777954, 23.58319664001465, 31.936389923095703, -24.59834861755371, 7.796442985534668, -29.320222854614258, 30.834938049316406, 42.374794006347656, -31.776504516601562, 13.090025901794434, 27.480541229248047, 47.0875358581543, -33.82477569580078, -55.9037971496582, 38.53776550292969, -60.35930633544922, 73.09107208251953, 30.992168426513672, -30.132829666137695, -56.68856430053711, 68.75606536865234, 28.93878746032715, 15.479594230651855, 42.84592056274414, -54.11634826660156, 4.9587178230285645, 73.30564880371094, -31.15317726135254, 57.761207580566406, 4.171287536621094, 40.51822280883789, 36.71023941040039, 26.6856689453125, 34.42234420776367, -9.585419654846191, -54.43734359741211, -43.11357116699219, 18.891138076782227, -43.90425109863281, 39.33746337890625, 26.593017578125, -19.45571517944336, -51.04354476928711, 77.73921203613281, -52.944576263427734, 23.42520523071289, 5.25764799118042, -33.05329513549805, 46.50181198120117, -60.476375579833984, 80.3902359008789, -51.90509033203125, -40.05942916870117, 17.780210494995117, 10.285601615905762, -23.120746612548828, -17.999820709228516, 45.206302642822266, 79.0184555053711, 31.118999481201172, 14.875129699707031, 60.66685104370117, 45.82756423950195, 62.780967712402344, -41.68751907348633, -50.485389709472656, -14.740248680114746, -67.00817108154297, -60.744720458984375, -39.266082763671875, 49.98017501831055, -67.95066833496094, 45.26643753051758, 57.461448669433594, 18.49998664855957, 64.36162567138672, -57.57052993774414, 65.41098022460938, -53.809871673583984, 22.620210647583008, 68.47532653808594, 26.28873634338379, -13.094263076782227, 62.74604415893555, -23.204946517944336, -78.30391693115234, 51.31499481201172, 21.814937591552734, -42.20457458496094, 18.118011474609375, -80.0614013671875, -37.55311965942383, -54.702186584472656, -63.11343765258789, -22.730972290039062, -7.459053039550781, -62.64903259277344, -59.248878479003906, -55.231685638427734, 12.176716804504395, -25.639629364013672, 63.85604476928711, -69.60953521728516, -11.552327156066895, -49.52175521850586, 13.135917663574219, 75.25938415527344, -34.65047073364258, -58.28584289550781, -34.825016021728516, 77.14907836914062, 28.81583595275879, 80.4637680053711, 28.39446258544922, -58.62975311279297, 10.27625846862793, -62.224605560302734, -5.285714626312256, 45.1668586730957, -0.0677473321557045, 31.456193923950195, 55.72197723388672, -30.560293197631836, -66.58135223388672, -50.64479446411133, 25.303462982177734, 56.54763412475586, -74.71415710449219, 27.650733947753906, 53.290794372558594, 64.50933837890625, 28.236454010009766, -61.02529525756836, -13.486143112182617, -16.8869571685791, -41.07673263549805, -28.00553321838379, 28.639272689819336, 45.81190490722656, -77.33926391601562, -62.920650482177734, 71.67477416992188, 13.737115859985352, -56.264991760253906, 45.779972076416016, 22.645170211791992, -76.82279205322266, 18.78516387939453, -8.916254043579102, -62.77630615234375, 31.364974975585938, 63.062522888183594, 32.27244186401367, -2.088250160217285, 74.43803405761719, 36.02692794799805, -60.47221755981445, -67.8448715209961, 14.87301254272461, -10.82518482208252, -61.268009185791016, -6.9118876457214355, 79.30203247070312, 6.8409504890441895, -54.97693634033203, 79.92831420898438, -34.81829833984375, -57.63948440551758, -57.43061065673828, -27.584815979003906, 29.97507095336914, 5.003127098083496, -10.104314804077148, 69.488037109375, 56.12705993652344, 18.240314483642578, -5.402013778686523, 59.24735641479492, 79.24349212646484, -54.9071044921875, -35.89973068237305, -22.749889373779297, -53.40505599975586, 13.94100570678711, 80.0689468383789, 17.53786277770996, 31.74000358581543, 55.41445541381836, 68.42085266113281, -37.496360778808594, 22.273038864135742, 17.321603775024414, -69.26956939697266, -3.6960716247558594, -4.309995174407959, -9.282254219055176, -56.79912567138672, 67.64413452148438, -21.659828186035156, -60.07380294799805, 22.355297088623047, 36.3265266418457, -54.07207107543945, -2.184972047805786, 78.21237182617188, -25.975404739379883, -59.419158935546875, -54.3529052734375, 5.289958953857422, -12.63796615600586, 5.2163004875183105, 46.04633331298828, -61.35771179199219, -31.510438919067383, -77.87287139892578, -6.993991851806641, 18.465869903564453, 29.164350509643555, 21.85478973388672, 73.1663818359375, 79.15376281738281, 29.00485610961914, -13.46811580657959, 58.59986114501953, 54.020931243896484, 4.931655406951904, -61.163368225097656, -58.60984420776367, -10.459056854248047, -9.407430648803711, 41.47119903564453, -62.360496520996094, -43.46019744873047, -8.723642349243164, -53.263431549072266, 17.80978012084961, -17.176546096801758, 20.904054641723633, -52.79656219482422, -1.676797866821289, 28.093158721923828, 53.29000473022461, -11.703510284423828, 15.830215454101562, -60.945796966552734, 52.358055114746094, 4.486686706542969, 54.712806701660156, 35.325775146484375, -66.73844146728516, -54.59557342529297, -52.19345474243164, -57.77901840209961, -17.58766746520996, -65.0198745727539, 20.600643157958984, -40.71348571777344, 3.928262710571289, 61.1270637512207, 0.8757132887840271, -12.8972749710083, 43.14738845825195, -15.911168098449707, -4.978937149047852, -27.229528427124023, 19.05706787109375, 0.3705495297908783, 34.878135681152344, -67.09859466552734, -56.44330978393555, 0.5684235692024231, 26.270671844482422, 22.798660278320312, 30.84941864013672, 16.700714111328125, -61.04828643798828, 39.3148307800293, -31.369951248168945, -11.939194679260254, 11.471858024597168], \"xaxis\": \"x\", \"y\": [-26.362478256225586, 24.012697219848633, 15.925637245178223, 23.077903747558594, 22.43084716796875, 17.94013786315918, -31.99358558654785, -21.584863662719727, 8.269700050354004, -13.028888702392578, 18.933216094970703, -22.490245819091797, -17.206941604614258, -22.799457550048828, 19.371212005615234, 27.82771873474121, -47.137977600097656, 17.52568817138672, -4.4009857177734375, 6.706888675689697, -3.0422749519348145, -13.273111343383789, 30.66139793395996, 26.187721252441406, 9.705894470214844, 1.9576693773269653, -12.193657875061035, 29.786779403686523, 17.74559211730957, 25.373872756958008, 0.07660791277885437, 17.78845977783203, -8.81088924407959, 0.981827974319458, 27.80595588684082, 23.35415267944336, 7.7669854164123535, 27.072248458862305, 14.856817245483398, 33.58170700073242, 7.8551249504089355, 34.57658386230469, -26.12473487854004, 9.068644523620605, -31.749500274658203, -46.19647216796875, 10.34962272644043, 22.821508407592773, 14.53576946258545, 18.201560974121094, -20.04302978515625, 20.503908157348633, -15.44664478302002, -6.1797285079956055, 2.7914276123046875, -3.737776756286621, 24.056766510009766, 35.84193420410156, -11.20475959777832, 29.9473819732666, 21.18661117553711, -18.660053253173828, 7.190582275390625, -10.943364143371582, -16.178482055664062, 27.35064697265625, -21.20415496826172, -50.0039176940918, -18.701406478881836, 3.9045915603637695, -22.20735740661621, 5.0070390701293945, 3.9574966430664062, 7.201247692108154, -11.556190490722656, -0.6314581036567688, 14.15590763092041, -30.959701538085938, -24.850481033325195, -2.2367851734161377, -2.044795274734497, -26.239450454711914, 27.68897247314453, -19.388689041137695, 29.37496566772461, 19.71855926513672, 33.32356262207031, 5.428085803985596, 27.779756546020508, 21.107669830322266, 27.386489868164062, 9.030081748962402, 11.515453338623047, -29.103504180908203, 25.90612030029297, 22.187837600708008, 14.019142150878906, -5.603456497192383, 20.4482421875, -10.532514572143555, 28.147579193115234, -17.529325485229492, 33.2910270690918, 4.1781697273254395, -8.601526260375977, 18.916845321655273, 24.040071487426758, -8.164549827575684, -1.4517972469329834, 23.528928756713867, -8.699782371520996, -4.189072132110596, 15.531861305236816, -7.4411749839782715, 28.604822158813477, 28.74664878845215, -43.477542877197266, 17.72944450378418, -20.700788497924805, -3.52120304107666, 8.79705810546875, -20.02659797668457, -10.11590576171875, 32.549922943115234, 13.22358512878418, 24.856914520263672, -22.970109939575195, -42.80146789550781, -52.28654861450195, -12.220243453979492, -56.02629470825195, -10.357441902160645, 21.207517623901367, -17.702451705932617, 12.289765357971191, 3.4680869579315186, 0.6629087328910828, -21.096923828125, -4.409075736999512, 28.3311767578125, -14.762852668762207, 19.389873504638672, -10.503885269165039, -23.11946678161621, 35.97533416748047, -11.543685913085938, -3.4598608016967773, -22.24552345275879, 13.253388404846191, -4.9656758308410645, 30.382949829101562, 27.276506423950195, 26.030548095703125, 21.984453201293945, 16.440065383911133, -0.60826575756073, 6.204174041748047, -5.506365776062012, 22.523235321044922, -5.859912872314453, 17.016624450683594, -6.670831203460693, 13.727669715881348, -10.810595512390137, -2.3318653106689453, 3.9865801334381104, 30.47119903564453, 16.158721923828125, -13.342646598815918, -10.928308486938477, 0.7932873368263245, -9.453756332397461, 22.56793975830078, 25.89510154724121, 23.743309020996094, 12.624187469482422, 32.978172302246094, -29.844736099243164, 2.5817768573760986, -8.591553688049316, 4.931866645812988, 25.841320037841797, 32.1156120300293, -15.031342506408691, 11.042384147644043, 3.1165575981140137, -1.6419289112091064, -0.10413100570440292, 31.789554595947266, -18.031639099121094, -16.761734008789062, 31.856298446655273, -11.621307373046875, 27.34391212463379, -11.397697448730469, 6.934631824493408, -14.30299186706543, 17.591838836669922, -0.011514846235513687, -16.20723533630371, -1.17770516872406, 28.834077835083008, -17.119518280029297, -1.264197587966919, 34.491065979003906, -59.670074462890625, 10.38219928741455, 3.95143461227417, 28.308547973632812, 6.098400592803955, -25.06903839111328, 26.533401489257812, -1.1215492486953735, 20.442121505737305, 9.578558921813965, 27.59794807434082, 1.5350196361541748, -8.644073486328125, 21.97064971923828, 12.663666725158691, -10.937665939331055, -55.48374938964844, 13.401102066040039, -14.122200965881348, -46.298858642578125, 11.343551635742188, -47.356536865234375, 30.540725708007812, -0.3356708884239197, 14.105958938598633, -43.60251998901367, -20.076438903808594, 25.439573287963867, 10.77202033996582, -0.43939244747161865, 24.170352935791016, -22.041227340698242, 24.78367042541504, -16.925567626953125, -10.253396034240723, -28.69083023071289, 5.0528244972229, -46.65578842163086, -22.931381225585938, -10.592132568359375, 29.941978454589844, 5.011255741119385, -12.788262367248535, 19.1929874420166, 10.745243072509766, -19.830501556396484, 13.757291793823242, -11.139566421508789, -29.521488189697266, -4.041356086730957, 6.508509635925293, -30.88457679748535, -15.487255096435547, -45.8669548034668, 1.155755877494812, 31.762907028198242, 18.194589614868164, 21.313806533813477, 16.29475212097168, -15.124841690063477, 12.197453498840332, 6.169001579284668, -4.04206657409668, -22.35368537902832, -3.085447311401367, 10.323676109313965, 8.826953887939453, -18.570301055908203, 3.1975724697113037, 20.84080696105957, 0.8449183106422424, 15.752625465393066, -13.498444557189941, 9.090283393859863, 8.878989219665527, -0.41309112310409546, 7.499485015869141, -60.18631362915039, -55.56269073486328, 10.06162166595459, 14.796095848083496, 11.331852912902832, -2.6910271644592285, -23.257394790649414, -18.109970092773438, 12.730088233947754, 2.136314868927002, -18.95121192932129, 1.6516547203063965, 17.617382049560547, 11.440171241760254, 22.055749893188477, 26.058643341064453, -6.915971279144287, -22.551097869873047, 5.7883124351501465, -27.55584144592285, -17.24688720703125, 24.927915573120117, 11.847334861755371, -4.402097702026367, 13.6898832321167, 13.201615333557129, -12.5565767288208, 0.7450346350669861, -11.226358413696289, 10.81835651397705, -10.344548225402832, 32.82685470581055, 11.09129810333252, 32.68742370605469, -19.9864501953125, 10.166098594665527, -21.117351531982422, -17.678178787231445, 2.543175220489502, 3.7622804641723633, 11.552241325378418, 6.362828731536865, -31.809267044067383, 4.138998031616211, 34.700782775878906, -30.484291076660156, -2.388327121734619, 5.1260881423950195, 22.2370662689209, -4.47435998916626, -10.232510566711426, 30.29361343383789, 7.753643035888672, 6.520946025848389, 0.29403433203697205, 31.16112518310547, -21.702735900878906, 26.711132049560547, 16.957971572875977, 24.624990463256836, 36.02717590332031, 3.7690510749816895, 19.810199737548828, 5.8632378578186035, -1.132042407989502, 10.672395706176758, 17.17641830444336, 35.05599594116211, 23.719419479370117, 31.574941635131836, -0.5466326475143433, 24.95551300048828, 3.7499425411224365, 2.6577911376953125, -21.67769432067871, -7.234124660491943, -28.72525405883789, 31.712696075439453, -29.15346908569336, 10.43936824798584, -16.77044105529785, -19.13479232788086, -17.543333053588867, -14.477519989013672, -29.815988540649414, -3.294238567352295, 10.992887496948242, -21.76992416381836, -26.915830612182617, -13.652868270874023, 8.8141450881958, 23.632116317749023, 3.9452757835388184, -9.558881759643555, -7.5771050453186035, 4.673501968383789, -19.744598388671875, 1.7010689973831177, -8.71923828125, -16.13005256652832, -12.157676696777344, 33.09480285644531, 8.957939147949219, -1.4848498106002808, -13.190109252929688, 27.50661849975586, -53.94735336303711, -30.746639251708984, 4.488958358764648, 4.247719764709473, -3.118720769882202, -0.5794045925140381, 18.392345428466797, 31.35491371154785, -6.946744918823242, 3.6643853187561035, -50.556396484375, -54.310150146484375, 18.816570281982422, 24.787981033325195, -16.65004539489746, -48.98728561401367, 11.948484420776367, 0.18778924643993378, 11.483290672302246, -16.329195022583008, -52.54664611816406, 9.53747844696045, 27.57437515258789, 20.268539428710938, 17.524736404418945, -17.546775817871094, -19.37730598449707, -25.531585693359375, -3.00856614112854, 7.837338924407959, 11.808039665222168, -0.2587045729160309, 26.9874267578125, 6.027065277099609, 28.869247436523438, 17.197072982788086, -46.82163619995117, -1.0483750104904175, 24.405517578125, 1.2202143669128418, 24.94842529296875, -20.55869483947754, 21.93131446838379, 12.449779510498047, 3.133857250213623, 7.131496906280518, 10.97015380859375, 5.901437282562256, 18.589561462402344, -0.8337734937667847, 10.378181457519531, -4.367141246795654, -14.91179084777832, -11.558544158935547, -0.6236231327056885, -10.123961448669434, -18.866994857788086, -0.43794915080070496, 23.14588165283203, 7.838954448699951, -3.520862102508545, -26.26544761657715, 10.52273178100586, -51.91134262084961, -13.720590591430664, -22.72093963623047, 30.472890853881836, 9.462053298950195, -27.859773635864258, -4.492733478546143, 11.710638046264648, -17.32552146911621, 2.578737258911133, 22.47509765625, -61.38802719116211, -17.40860366821289, -44.731143951416016, -18.94921875, 2.6141815185546875, -30.130512237548828, -23.45459747314453, 1.7908951044082642, -20.18916130065918, -14.129288673400879, 15.239144325256348, -13.909749031066895, -0.8961004614830017, 4.826649188995361, -16.91136360168457, -5.046034336090088, 11.955002784729004, -12.044145584106445, -10.457777976989746, 11.31878662109375, 20.23758888244629, 17.5739688873291, 8.428653717041016, -31.251935958862305, -8.643778800964355, 19.400283813476562, -7.77678108215332, -19.913711547851562, 11.641915321350098, 10.2454195022583, -24.92741584777832, -30.755537033081055, 17.952516555786133, -22.65183448791504, 16.69989585876465, -24.302583694458008, 25.510156631469727, 6.5813093185424805, 14.384506225585938, 4.355539321899414, 4.554504871368408, -23.261152267456055, 5.8394060134887695, 9.806780815124512, -1.4654704332351685, -13.003238677978516, 4.365805625915527, -53.18865966796875, -5.203004837036133, -53.54795455932617, 13.95200252532959, -43.854759216308594, 12.591859817504883, -2.3862669467926025, -31.394086837768555, -3.567910671234131, -0.2305755317211151, 11.084182739257812, -11.862019538879395, 33.756866455078125, -9.459580421447754, 22.66513442993164, -45.4868049621582, -16.694337844848633, -43.66282272338867, -16.673917770385742, 24.071874618530273, -30.396717071533203, -16.003042221069336, -13.024276733398438, 31.860074996948242, 8.266080856323242, 9.034082412719727, 7.346548080444336, -10.112491607666016, 8.958080291748047, -0.8249042630195618, -22.60712432861328, -0.9818353056907654, 13.708541870117188, 30.969402313232422, 11.191007614135742, 35.863555908203125, 0.580366849899292, 5.109005928039551, -10.135265350341797, -3.1988918781280518, -0.9835734963417053, -22.98021697998047, 2.6842777729034424, 4.22832727432251, 10.925904273986816, 36.190093994140625, 10.634305000305176, 16.68750762939453, -3.4502551555633545, -22.99571990966797, 17.938840866088867, -50.52302932739258, -8.146326065063477, -15.48903751373291, 4.020334243774414, -16.318265914916992, 14.078019142150879, -17.678531646728516, -3.785428524017334, -13.462608337402344, 12.111300468444824, -14.481910705566406, 12.731152534484863, 13.380890846252441, 24.150114059448242, -46.98521041870117, -3.543076276779175, -13.574481964111328, 4.017339706420898, 12.942107200622559, 6.784452438354492, -19.2285099029541, 22.58047103881836, -17.304771423339844, -22.83665657043457, -2.1859865188598633, 9.79945182800293, 3.100053071975708, 6.042476177215576, -25.945537567138672, -31.607046127319336, 4.5143327713012695, 13.72314739227295, 12.349431037902832, -1.0971134901046753, 4.96133279800415, 30.58696746826172, -1.137991189956665, 14.189193725585938, -20.28160285949707, 20.63554573059082, 0.3500220477581024, 5.774670600891113, -7.560462951660156, 20.253324508666992, 17.140167236328125, 30.249309539794922, -58.19871520996094, -0.8918320536613464, -12.928386688232422, 19.665456771850586, -18.449277877807617, -22.248395919799805, 7.538045883178711, 24.78219985961914, 14.900605201721191, -24.39698600769043, 4.373549461364746, -16.52310562133789, -21.57314682006836, -19.712656021118164, 21.4844970703125, 15.001204490661621, -2.7752225399017334, -44.295406341552734, -20.42759895324707, 18.692028045654297, 27.33856201171875, 3.7839901447296143, 12.927343368530273, 25.747629165649414, 24.532197952270508, -26.076030731201172, 0.9725676774978638, 9.379034996032715, -59.32292938232422, -1.7831907272338867, -13.015311241149902, 0.36696335673332214, -9.492819786071777, 33.27144241333008, 21.106414794921875, 18.752634048461914, -27.32297134399414, 12.134668350219727, -21.43039321899414, 13.84894847869873, -10.716923713684082, -23.940004348754883, 17.235185623168945, -19.35745620727539, 5.829111576080322, -29.6793212890625, 10.81699275970459, -10.322319030761719, -11.085301399230957, 14.18069076538086, -53.92355728149414, 4.143009662628174, 6.062624454498291, -2.9054689407348633, -29.75556182861328, -10.777314186096191, -13.466585159301758, 5.8194990158081055, 7.486819744110107, -20.085712432861328, -15.1287260055542, 17.359294891357422, -0.5240203142166138, 3.71514630317688, 0.5699684023857117, -57.69344711303711, -8.991451263427734, -43.03396987915039, 3.597705841064453, -32.63740539550781, 29.50096321105957, -20.64789581298828, 5.530816078186035, -31.93976593017578, -19.345947265625, -25.254182815551758, -22.143550872802734, 11.131108283996582, -30.23351287841797, -17.117162704467773, -19.700227737426758, -14.806819915771484, 11.26303768157959, 31.328475952148438, 8.217665672302246, -15.863961219787598, 19.645343780517578, 19.10104751586914, 6.8739728927612305, -22.349552154541016, -8.590980529785156, 32.3186149597168, 16.66673469543457, 1.367723822593689, 6.8672661781311035, 22.31982421875, -17.1083927154541, -21.107051849365234, 19.489547729492188, -12.005313873291016, -5.211349010467529, -44.76523971557617, -10.282196998596191, 32.18423080444336, 27.010042190551758, 2.0605692863464355, 34.35831832885742, 12.125819206237793, -0.5532976984977722, -23.88019561767578, 26.713411331176758, 1.539685606956482, -43.08727264404297, -47.31147384643555, 10.455361366271973, 6.814968585968018, -16.10216522216797, 17.2874813079834, -7.268728733062744, -1.9349159002304077, 17.484851837158203, 11.872435569763184, -6.762845039367676, 6.649064540863037, -6.666449069976807, -22.943363189697266, -20.56572914123535, 28.248611450195312, 2.3259024620056152, -7.355200290679932, 26.169841766357422, -32.69796371459961, -28.818649291992188, -1.2423648834228516, -10.370670318603516, 4.73477029800415, -15.670284271240234, 29.42125129699707, 27.929920196533203, 30.159399032592773, -17.88149070739746, 28.063217163085938, 30.09056854248047, -2.9934818744659424, 9.669671058654785, -13.6973876953125, -11.639558792114258, -0.9100748300552368, 1.149767518043518, -3.2255868911743164, -22.56348991394043, 20.931793212890625, 24.29510498046875, -51.85163497924805, 5.836012363433838, 27.722232818603516, 10.443643569946289, 0.5290442109107971, 14.424890518188477, -4.246161460876465, 6.175350189208984, -0.07135091722011566, -9.816197395324707, 34.77243423461914, 27.847496032714844, -13.125221252441406, -9.97669792175293, -2.5602877140045166, -52.11181640625, -47.16049575805664, -13.255986213684082, 3.1643803119659424, 24.187105178833008, -2.357819080352783, -0.7803508639335632, -6.912806034088135, -19.611997604370117, 1.6971582174301147, -30.391626358032227, 17.0865535736084, -21.033676147460938, -55.18330383300781, 1.0694786310195923, -44.53496551513672, -1.8270145654678345, 11.930882453918457, 22.643808364868164, 15.350393295288086, 23.934947967529297, -19.6220760345459, 25.23472785949707, -30.135059356689453, -13.377422332763672, 5.012638092041016, 24.498079299926758, -25.098230361938477, -18.90523338317871, -24.52088165283203, 7.572251796722412, 28.51521110534668, -22.422443389892578, -3.985541820526123, 26.165225982666016, 14.321026802062988, -24.597448348999023, -19.720788955688477, -30.069244384765625, -16.828187942504883, -59.6560173034668, 18.074357986450195, -16.172069549560547, -1.0265583992004395, -2.145038604736328, 12.030362129211426, 24.810422897338867, 18.902666091918945, -12.740297317504883, -15.241174697875977, -29.97933578491211, 3.358628511428833, 6.773120403289795, -20.13701820373535, 23.796295166015625, -8.260027885437012, -62.13545227050781, -32.39234161376953, 29.292240142822266, 29.50334358215332, -29.35712432861328, -3.7518234252929688, 13.061506271362305, -20.39822006225586, -0.4085966944694519, -55.503929138183594, -1.594906210899353, -5.807065010070801, 20.84918975830078, -31.200681686401367, 18.626232147216797, 18.511146545410156, 5.178414821624756, 13.601585388183594, -3.442758560180664, -21.415267944335938, -18.049192428588867, -13.49274730682373, -9.745691299438477, 9.934325218200684, 6.318509578704834, 22.761293411254883, -22.03734016418457, -30.34781265258789, 7.355244159698486, 20.511749267578125, -0.712165892124176, 32.41273880004883, 10.984787940979004, 5.451779842376709, 22.482452392578125, -1.2941627502441406, 20.203609466552734, -60.573604583740234, 6.646074295043945, -1.86990225315094, -3.052962303161621, 7.994880199432373, 7.300759315490723, 8.767780303955078, -11.567174911499023, 21.462583541870117, 14.097845077514648, 11.946637153625488, 8.482253074645996, 3.5201597213745117, -31.02773666381836, 33.902347564697266, 24.006938934326172, -10.602208137512207, 6.106552600860596, 24.406192779541016, -2.9044909477233887, 1.210983157157898, 7.014705657958984, 33.33085250854492, 15.158079147338867, -3.612786293029785, -1.1154519319534302, 30.872116088867188, -49.62541198730469, -30.75747299194336, -19.61558723449707, 35.24153518676758, 24.299169540405273, 4.616791248321533, -7.390737533569336, -3.0146889686584473, 0.12812425196170807, 17.52476692199707, -2.218073844909668, 5.80258321762085, 15.980291366577148, -0.00077915278961882, -10.542160034179688, 21.876842498779297, 14.046786308288574, -11.088288307189941, -9.24342155456543, 22.450973510742188, 6.550012588500977, -20.43446922302246, -23.69101333618164, -27.290279388427734, 16.033485412597656, 16.36716079711914, -32.153778076171875, -26.495990753173828, 9.298372268676758, 5.161915302276611, -0.0494193360209465, -3.637899875640869, -26.774578094482422, 10.809285163879395, -46.904510498046875, 15.417682647705078, -22.031749725341797, -9.534097671508789, 14.598095893859863, 33.855377197265625, -17.634449005126953, -0.3267761170864105, -21.861093521118164, 7.3990678787231445, 5.881197929382324, -55.77732849121094, 4.69936466217041, -10.441764831542969, -6.568872928619385, 26.42133331298828, 11.11145305633545, -9.158089637756348, 6.834700584411621, -14.872333526611328, 24.161901473999023, 21.531404495239258, 31.26227569580078, 9.837241172790527, 14.251568794250488, 29.760967254638672, 26.463294982910156, -56.45161056518555, -23.848281860351562, -7.656200408935547, 3.043301582336426, 5.357812404632568, 26.37080192565918, 14.199749946594238, 9.750839233398438, 36.749961853027344, 12.539884567260742, -20.48036003112793, 18.23662567138672, 3.0150811672210693, -48.65251541137695, -17.808101654052734, -18.335092544555664, -17.972976684570312, -20.140138626098633, 26.737789154052734, 27.598922729492188, -27.90738296508789, 9.785901069641113, -5.232849597930908, -15.045769691467285, -0.9057319164276123, -51.81758499145508, -26.022462844848633, 7.037095546722412, -2.6244945526123047, -0.6270892024040222, -5.027152061462402, 27.8858699798584, -12.496026039123535, -18.819177627563477, 4.376867771148682, 7.412477493286133, 18.94239616394043, 36.02440643310547, 29.087343215942383, 8.049308776855469, 18.96082305908203, -22.182893753051758, 5.906154632568359, -7.235101222991943, 11.339214324951172, -17.078798294067383, -11.22293758392334, -21.295461654663086, 4.242558479309082, -3.543584108352661, -29.819250106811523, -6.1547746658325195, -29.108766555786133, -29.887950897216797, -28.091064453125, -7.969488143920898, 32.8365592956543, -28.857358932495117, -3.7222981452941895, 19.963693618774414, 9.127885818481445, 13.199546813964844, 9.835981369018555, 0.917858898639679, -60.0196418762207, 17.446208953857422, 24.563051223754883, 33.285125732421875, -16.77879524230957, 27.606266021728516, -23.27920913696289, 19.545669555664062, 32.29212188720703, -12.01459789276123, 11.291911125183105, -18.1001033782959, 33.83876037597656, -30.800111770629883, -22.82573699951172, 7.787727355957031, -17.09710121154785, 3.0083203315734863, 6.572411060333252, -16.211143493652344, 12.904379844665527, 25.791311264038086, -4.115885257720947, -13.996475219726562, -21.596799850463867, -17.27771759033203, 1.0305914878845215, -15.515450477600098, -19.411108016967773, -28.74860382080078, 26.002506256103516, 18.819494247436523, -49.2122688293457, 10.140761375427246, -11.74839973449707, -23.435880661010742, -30.16002082824707, -0.8717365860939026, -6.475719928741455, -0.4598107933998108, -57.8812255859375, 14.482229232788086, 3.543208360671997, 18.611616134643555, 3.217966318130493, -31.514558792114258, 9.800652503967285, -3.037925958633423, 27.710121154785156, -18.440324783325195, -9.620246887207031, -46.40102767944336, 36.00813293457031, 20.1389102935791, -27.727293014526367, 3.761446952819824, -20.81279945373535, -16.109933853149414, 2.8561928272247314, 19.753459930419922, 3.424267530441284, 24.068601608276367, 14.067314147949219, 9.879128456115723, 32.552223205566406, -10.81538200378418, 14.697979927062988, 8.463593482971191, 14.87614631652832, -9.75512981414795, -17.56924057006836, 30.987682342529297, 7.686040878295898, -2.030958890914917, -14.433963775634766, -26.359037399291992, 15.01185131072998, 6.912694454193115, 3.984165906906128, -1.7922459840774536, -0.013893477618694305, -21.57923126220703, 18.744915008544922, 13.680866241455078, 4.665859699249268, -27.681779861450195, 4.2116804122924805, 4.776359558105469, 3.3230583667755127, -28.359756469726562, -9.375024795532227, -9.005091667175293, 24.100221633911133, 19.024169921875, -30.618497848510742, 1.2513593435287476, -6.725803375244141, -13.138712882995605, -27.375478744506836, 9.90024471282959, 12.502077102661133, 35.28178787231445, 12.33127212524414, 26.565275192260742, 9.826212882995605, -24.739097595214844, 32.440853118896484, 8.359092712402344, 21.461565017700195, 11.954155921936035, -10.433808326721191, -44.66120910644531, 7.996597766876221, 32.59629821777344, -1.9682387113571167, -3.857858180999756, -11.579282760620117, -6.638061046600342, -2.3119540214538574, -0.6979348063468933, 18.08357048034668, 11.34676742553711, -8.303174018859863, -3.338052749633789, -17.909595489501953, 20.348514556884766, 11.689274787902832, 2.1088199615478516, -1.480988621711731, -29.740421295166016, 0.8358110785484314, 1.193397045135498, 33.07611846923828, 23.064313888549805, -8.589526176452637, 9.030682563781738, 19.85062599182129, -30.64429473876953, -2.962548017501831, -3.409525156021118, 23.16031837463379, 18.653274536132812, 33.78938674926758, -8.866598129272461, -9.576441764831543, -30.279685974121094, 35.00325393676758, -22.2775821685791, 22.918607711791992, 16.010494232177734, -1.1073787212371826, 34.781089782714844, 2.22849440574646, 16.785070419311523, -53.80263900756836, -21.237215042114258, 33.28359603881836, 29.90300750732422, 15.831686973571777, 2.4157662391662598, -43.9158821105957, 15.702900886535645, 14.082307815551758, 14.961616516113281, 26.14674186706543, -19.99314308166504, -6.1157355308532715, 36.9464225769043, -32.109893798828125, -12.230135917663574, 0.939638614654541, -58.157737731933594, -8.02677059173584, -22.558696746826172, 29.263132095336914, 10.973331451416016, 13.963726997375488, 26.79537582397461, 11.275924682617188, 7.390224456787109, -1.2354161739349365, 13.139728546142578, 1.458374261856079, -15.301433563232422, -30.263017654418945, 35.61485290527344, -17.549793243408203, 29.311174392700195, -24.415246963500977, -3.5370688438415527, -20.30523681640625, -11.604248046875, -4.478559494018555, -49.03676986694336, 7.086283206939697, 27.433454513549805, 7.783509731292725, -22.13786506652832, 8.977489471435547, -56.024330139160156, -1.1724772453308105, -17.71281623840332, -7.962825775146484, -16.350685119628906, 32.851356506347656, 12.719104766845703, 9.94428539276123, -15.893345832824707, 31.759401321411133, -0.911226749420166, 4.10273551940918, -0.7505974173545837, 32.833518981933594, 14.766021728515625, -2.695667028427124, -19.36215591430664, 10.424715042114258, 20.61710548400879, -21.49766731262207, -49.50202941894531, -2.028022050857544, 21.388391494750977, 2.705409526824951, 29.301008224487305, 16.89229393005371, -10.934947967529297, -58.60074234008789, -20.14116859436035, 5.060357570648193, -0.10648749768733978, -20.94272232055664, 1.6509698629379272, 8.53277587890625, -26.99847984313965, 10.273868560791016, -9.539291381835938, 33.409664154052734, -29.2513484954834, -4.599062442779541, -7.944591522216797, 5.8366522789001465, -1.8626459836959839, -58.40879440307617, -33.25932693481445, 28.170516967773438, -30.021677017211914, 17.45035171508789, -1.0964281558990479, 3.6110963821411133, 12.717987060546875, -10.593375205993652, -19.6944580078125, 2.1582186222076416, -1.7545733451843262, 12.266963958740234, -48.446048736572266, -12.920206069946289, -18.239864349365234, 31.89847755432129, 32.96621322631836, 10.769652366638184, 37.5225944519043, 30.234058380126953, 13.973958015441895, 23.10542106628418, 7.412275314331055, -10.784708023071289, 18.84096908569336, 33.60073471069336, 16.520305633544922, 37.3131217956543, 5.5276994705200195, 3.6144778728485107, 2.2722127437591553, -10.534785270690918, 15.904621124267578, -14.5679931640625, -17.902578353881836, -26.687450408935547, 11.613499641418457, -13.12899398803711, 4.437022686004639, 10.260363578796387, -2.2460083961486816, -43.5522575378418, -45.24315643310547, -31.303699493408203, -47.168617248535156, 10.661993026733398, 7.5803680419921875, -0.5992245078086853, -43.904483795166016, 12.647006034851074, -14.799093246459961, 20.06121826171875, 31.879709243774414, -54.897308349609375, -16.956571578979492, -25.985830307006836, 14.498246192932129, -2.2396304607391357, 3.4408657550811768, -18.345264434814453, 21.320846557617188, -3.456538438796997, -6.972550392150879, -43.85118103027344, 33.21045684814453, -29.553348541259766, 24.59983253479004, 26.984758377075195, 28.65159034729004, -9.69704818725586, 10.403170585632324, 19.409921646118164, -2.3863236904144287, -9.132377624511719, -10.064676284790039, 28.277494430541992, 17.96889305114746, 31.118989944458008, -9.391681671142578, -8.47866153717041, 21.95637321472168, 15.691434860229492, -18.74460792541504, 14.815801620483398, 15.473370552062988, -1.6634279489517212, -29.934120178222656, 21.51529312133789, 31.62900161743164, 7.63881778717041, 14.807662010192871, -61.325531005859375, 11.47119140625, -6.641026496887207, 27.473962783813477, -57.83406066894531, 23.830745697021484, -9.802387237548828, -61.05677795410156, -13.5497407913208, 32.40897750854492, -17.772748947143555, -8.813185691833496, -20.160125732421875, -56.404788970947266, -28.907609939575195, -8.373908996582031, 30.12795066833496, 3.123457193374634, 17.241260528564453, -7.425163745880127, 26.914148330688477, -47.57856369018555, 17.660968780517578, 4.411715030670166, 10.819055557250977, -19.584657669067383, -28.607608795166016, -15.44090461730957, 14.671395301818848, 15.573280334472656, 22.3004207611084, 15.437506675720215, -0.55735844373703, 13.089424133300781, 3.5871288776397705, 13.742560386657715, 1.091166615486145, -8.56954574584961, 1.9998184442520142, 14.30393123626709, -8.788697242736816, 18.069950103759766, -12.449548721313477, 1.8501372337341309, 29.246551513671875, 25.772825241088867, -30.795024871826172, -27.819005966186523, 2.6333823204040527, 17.244129180908203, -8.496698379516602, 35.155433654785156, -1.4018634557724, 29.724565505981445, -18.481407165527344, -3.293172597885132, 1.7401423454284668, 22.183467864990234, 27.17571258544922, -29.926822662353516, 18.455951690673828, 0.23139075934886932, 22.161808013916016, -2.538360118865967, 6.04219913482666, 4.817034721374512, 21.582923889160156, 33.95722198486328, -19.171838760375977, 33.73362731933594, -9.587560653686523, -26.783214569091797, 3.911459445953369, -11.683828353881836, 8.974499702453613, -8.906691551208496, -18.202150344848633, 3.8287506103515625, -28.47334098815918, 3.3826303482055664, 0.1298261135816574, 35.28038024902344, 8.559660911560059, 5.297821998596191, 37.94966125488281, 19.020116806030273, 35.19205856323242, 14.536489486694336, -20.09389877319336, 36.983612060546875, 16.383420944213867, -25.516006469726562, -6.411709785461426, -55.58855438232422, 20.762231826782227, 22.51746368408203, 1.2523852586746216, -17.244115829467773, -17.28363800048828, -12.290996551513672, 20.950719833374023, 27.549999237060547, 3.3802826404571533, -24.203290939331055, 9.439057350158691, -19.309078216552734, -47.697486877441406, -56.28434753417969, -4.94198751449585, 15.11553955078125, 34.82069396972656, -27.84697151184082, 5.943328380584717, 10.809104919433594, 3.4441583156585693, 20.482433319091797, -44.61386489868164, 1.1279093027114868, -11.657384872436523, -32.65166473388672, 1.6862128973007202, 5.06300687789917, -20.876501083374023, -15.142727851867676, 16.155834197998047, -12.868388175964355, -3.7629222869873047, 28.88399314880371, -30.585969924926758, 4.31673526763916, 20.034833908081055, -2.956387519836426, -28.965116500854492, -11.243154525756836, -31.750654220581055, -14.6198148727417, 3.50641131401062, 28.19805145263672, -20.35625648498535, 22.970882415771484, -1.0472865104675293, -17.745019912719727, -31.047388076782227, 13.73592472076416, 34.70042419433594, -5.66876745223999, -20.238243103027344, 9.896783828735352, -29.88994598388672, -32.806968688964844, 8.031583786010742, 6.608989238739014, -2.3653500080108643, -17.478891372680664, -5.2175679206848145, 17.16831398010254, 9.586209297180176, 35.197471618652344, -15.015863418579102, 31.74245262145996, -56.63459396362305, 10.747411727905273, -21.639453887939453, -6.5965189933776855, 30.819591522216797, 7.872828483581543, -4.247735500335693, 18.724449157714844, -4.045597553253174, 21.533416748046875, 30.841238021850586, 25.769121170043945, -14.250937461853027, -25.044971466064453, 4.048605442047119, -20.210453033447266, 10.569701194763184, -18.531679153442383, -29.6843204498291, 33.059600830078125, 13.120284080505371, 12.160457611083984, -0.7871246337890625, -57.21152114868164, -14.585864067077637, -44.591766357421875, -60.78235626220703, 6.402671813964844, 24.23470687866211, 16.55636215209961, 27.163122177124023, -27.37000846862793, 32.35353088378906, -28.852325439453125, 28.898195266723633, 11.29964542388916, -19.06214141845703, -54.695945739746094, -25.419055938720703, 30.43108558654785, 16.008821487426758, -22.276094436645508, 33.96099090576172, 11.562066078186035, -17.414764404296875, -17.988353729248047, -18.606016159057617, 12.244770050048828, -23.18758773803711, 3.063920736312866, 17.004892349243164, 1.6740072965621948, 29.737852096557617, -6.639946460723877, -9.079496383666992, 13.110372543334961, 5.124839782714844, 11.28815746307373, 8.26854133605957, -17.773441314697266, 7.844990253448486, -10.249476432800293, 25.265853881835938, 2.2530157566070557, -3.80501127243042, -11.739076614379883, 8.198465347290039, 28.390352249145508, 20.222328186035156, -12.441028594970703, 4.157693862915039, 32.507728576660156, -24.279735565185547, -54.588050842285156, 13.368925094604492, 30.60970687866211, -30.75556182861328, -1.0579952001571655, 18.500913619995117, 1.281315803527832, -2.851973056793213, 4.2060627937316895, 8.328365325927734, 16.552860260009766, -16.736377716064453, 32.4403076171875, -21.900392532348633, -27.398639678955078, -30.05322265625, 17.164995193481445, -21.910276412963867, -9.284236907958984, -44.02397918701172, -0.6596950888633728, 35.55610656738281, -18.18343734741211, -20.619421005249023, -32.383872985839844, 3.5069522857666016, -10.17225456237793, 0.06118990480899811, 12.23265552520752, -1.0036429166793823, 1.096716284751892, 19.29337501525879, 11.637480735778809, 30.658273696899414, 11.476828575134277, 31.33305549621582, -18.11750602722168, 17.018007278442383, 2.1663618087768555, 1.0305306911468506, 0.919228732585907, 13.947381973266602, 2.0719034671783447, 17.868318557739258, -21.460912704467773, 32.17640686035156, -13.276101112365723, -2.0676217079162598, 29.289806365966797, -14.802988052368164, -16.072900772094727, 7.646482467651367, -45.727508544921875, -17.943092346191406, 11.526341438293457, -22.388980865478516, -1.8611302375793457, 23.844690322875977, 4.904862403869629, -44.18757247924805, 4.742156505584717, 16.42180824279785, 9.400161743164062, -13.600823402404785, -49.038970947265625, -20.816749572753906, -29.94447135925293, -19.663902282714844, 23.85686492919922, -20.447450637817383, -14.669305801391602, -12.733382225036621, 8.231914520263672, 13.026938438415527, -53.02973937988281, -4.940718650817871, 5.154308795928955, -2.999018430709839, 20.048566818237305, -18.325634002685547, -48.51321792602539, -7.852357864379883, 14.052663803100586, -2.33072829246521, -15.686817169189453, -34.20408630371094, 5.428818225860596, 8.046688079833984, 35.199005126953125, 11.494237899780273, -24.092830657958984, 17.90106201171875, -15.378219604492188, 20.484333038330078, -25.487625122070312, 13.961148262023926, 2.625117063522339, -15.541050910949707, -17.52448272705078, -8.941023826599121, -15.9396390914917, -28.49558448791504, -55.86626434326172, -3.140148162841797, 26.151926040649414, 14.184937477111816, -3.6375272274017334, 0.7045207619667053, 23.850740432739258, -29.479373931884766, -8.718817710876465, -24.926925659179688, -57.00093460083008, 8.938835144042969, 21.590349197387695, 25.820905685424805, 18.807100296020508, -22.287364959716797, 24.97112274169922, -0.18273422122001648, 27.24312400817871, 9.198332786560059, 18.548601150512695, 32.997718811035156, -0.7835118770599365, -6.503687381744385, -28.408037185668945, -20.27927589416504, 15.984981536865234, -22.599245071411133, -29.485801696777344, -22.808029174804688, 13.262567520141602, 15.384385108947754, 27.6254940032959, 6.562525749206543, -24.289722442626953, -28.49907875061035, -33.06003952026367, -1.9708647727966309, 4.98866081237793, 15.30727481842041, 22.076011657714844, -29.842466354370117, 5.054018974304199, 27.694971084594727, -26.506040573120117, 37.32991409301758, 10.1467866897583, 4.059088230133057, 17.191654205322266, -25.917184829711914, 4.32680606842041, 32.5989990234375, 10.926156044006348, -46.825504302978516, -0.7112164497375488, 11.397191047668457, -33.506412506103516, -1.4846302270889282, 11.183796882629395, 20.015838623046875, -17.235191345214844, -62.08510208129883, -15.641818046569824, 29.435514450073242, -49.156341552734375, 25.382139205932617, -13.991411209106445, -22.5549373626709, -2.4960694313049316, 37.365875244140625, 28.381532669067383, 24.476476669311523, 27.604822158813477, -11.41335678100586, 16.200618743896484, 5.884779453277588, -53.98292922973633, 26.893217086791992, -24.044445037841797, -60.50700759887695, -4.988793849945068, 13.310757637023926, 10.809542655944824, -18.716724395751953, 2.4525036811828613, 3.16802978515625, 34.55354690551758, 10.81555461883545, -43.319541931152344, -16.522716522216797, -45.1932373046875, 11.264530181884766, 31.834692001342773, 33.047000885009766, 20.58768653869629, 26.94646453857422, 31.305927276611328, 25.050493240356445, 24.218631744384766, 13.613028526306152, -15.969274520874023, 27.8832950592041, 29.645503997802734, 32.014137268066406, 34.96846389770508, -17.064498901367188, -15.160648345947266, 15.567837715148926, -2.9090123176574707, 30.371318817138672, 14.302835464477539, 16.296464920043945, 7.201766490936279, -17.926044464111328, -8.76517391204834, -12.121295928955078, 19.82032012939453, -3.7592904567718506, 25.19295310974121, -0.7865598201751709, 3.3244645595550537, -0.4572446942329407, 13.023017883300781, 8.468612670898438, -21.21038246154785, 10.273685455322266, 0.025140350684523582, 12.007004737854004, -45.66173553466797, 5.253502368927002, 2.409940242767334, 24.861038208007812, 35.805484771728516, -27.90572738647461, -2.962845802307129, -3.620560884475708, 31.467361450195312, 29.44851303100586, 0.8883249163627625, 19.51386260986328, -13.506148338317871, 28.514904022216797, 13.766101837158203, 19.948453903198242, -29.97591781616211, 30.855113983154297, -13.954833030700684, 30.790996551513672, 9.72380256652832, -9.330811500549316, 10.783519744873047, 30.879302978515625, -11.399322509765625, -19.198301315307617, -21.703691482543945, 24.997478485107422, -31.343807220458984, -52.75098419189453, -6.851675033569336, 6.584232330322266, 7.100826263427734, 0.8678753972053528, -1.7602814435958862, 4.3138298988342285, 0.8188875913619995, 10.938921928405762, -0.2107779085636139, 6.975072383880615, 11.50153636932373, 14.204522132873535, 5.537524223327637, 19.84229850769043, -7.029191017150879, 26.724994659423828, -20.16091537475586, -18.55945587158203, 31.66923713684082, -61.86305618286133, 27.961225509643555, 23.4692440032959, 11.904623031616211, 11.866203308105469, -18.368371963500977, 7.962859630584717, -22.384807586669922, 33.627681732177734, 34.07764434814453, 20.577157974243164, -7.440043926239014, 29.129026412963867, -0.3360149562358856, 13.048614501953125, 11.610644340515137, 28.35536003112793, 12.853987693786621, -17.632511138916016, 3.877288579940796, 32.16407775878906, 34.7205696105957, 25.162582397460938, 20.658279418945312, -44.61436462402344, 20.57575225830078, -11.811135292053223, 10.918960571289062, 14.369890213012695, 0.8833906650543213, 26.116865158081055, 2.025284767150879, 31.137451171875, 3.8879244327545166, 14.495525360107422, 4.469392776489258, 9.306135177612305, -23.911245346069336, -1.0585299730300903, -2.3611600399017334, 0.1612461507320404, 16.7584171295166, -52.281734466552734, -44.182952880859375, 2.610151529312134, -1.5569924116134644, -7.951067924499512, 4.9590349197387695, 15.825898170471191, 18.778202056884766, -28.85161590576172, 26.686492919921875, -17.184091567993164, 17.972261428833008, 31.620071411132812, 3.221602439880371, -12.728493690490723, -49.533897399902344, 22.87938690185547, 34.453975677490234, -10.429237365722656, 5.648448944091797, -30.25934600830078, -8.669085502624512, 4.235086917877197, -5.167008399963379, -11.042447090148926, 17.07341194152832, 18.070127487182617, 13.70620059967041, -25.314374923706055, 2.161835193634033, 16.978832244873047, 18.78595542907715, -14.079012870788574, 6.951647758483887, 37.598976135253906, -17.75006866455078, -19.83179473876953, 25.69420051574707, 19.67346954345703, 2.8234968185424805, -13.280508041381836, -27.367353439331055, 9.691184043884277, 24.818561553955078, 27.96273422241211, 21.968536376953125, -0.5965200066566467, 12.661590576171875, 11.378215789794922, 4.366030693054199, 4.710402488708496, 14.54854965209961, 17.894521713256836, -13.748542785644531, 12.796381950378418, 10.641363143920898, 14.682745933532715, 18.872299194335938, 2.1181483268737793, 31.30244255065918, -44.16394805908203, 26.884078979492188, -10.92968463897705, 36.01929473876953, -1.2620681524276733, -18.270803451538086, -20.613067626953125, 22.46747589111328, 9.366527557373047, -19.832656860351562, 32.046417236328125, 6.897582054138184, 18.736223220825195, 18.781082153320312, -15.984554290771484, -5.055679798126221, -31.29415512084961, 31.575969696044922, 20.98064613342285, -29.91942024230957, 26.786516189575195, 25.928842544555664, -20.373037338256836, -19.40517807006836, -30.007413864135742, -23.73603057861328, -6.600289344787598, -20.243120193481445, 30.64426612854004, 25.981950759887695, 30.692590713500977, -19.67668342590332, 8.806822776794434, 8.53685474395752, -19.65109634399414, -0.186235249042511, 4.144198417663574, -3.1690781116485596, 4.163670063018799, 34.178062438964844, -23.02989387512207, -19.69724464416504, 31.365663528442383, 6.931079387664795, 6.961178302764893, 6.874442100524902, 29.924161911010742, 25.748798370361328, -21.18250846862793, 10.589357376098633, -0.7401145696640015, 12.02220630645752, 32.99686050415039, 10.515822410583496, 12.927833557128906, 10.4741849899292, 12.213118553161621, 6.156453609466553, 5.370159149169922, -47.21926498413086, -3.6768665313720703, 1.5191603899002075, 36.066864013671875, -43.047428131103516, -57.39102554321289, -8.897192001342773, 30.14788818359375, -21.68734359741211, 21.882020950317383, 29.145339965820312, -4.952940940856934, -23.245203018188477, 22.11879539489746, -10.90024471282959, -4.541153430938721, -14.884855270385742, 16.415372848510742, -20.840517044067383, -12.137487411499023, 24.84528160095215, -46.761444091796875, -29.392250061035156, 26.122034072875977, 11.97468376159668, -49.359622955322266, 17.472469329833984, -58.056640625, 2.6013009548187256, -21.587295532226562, -42.962860107421875, 27.49691390991211, 10.879714012145996, 10.674708366394043, -29.709917068481445, -6.428833961486816, -33.42649459838867, 19.111366271972656, -51.060977935791016, -9.961215019226074, 11.206901550292969, 30.53083610534668, -44.89980697631836, -1.1280430555343628, -17.719953536987305, -45.836822509765625, -4.833395004272461, -22.843246459960938, 13.824056625366211, 11.725278854370117, -50.448856353759766, -9.133835792541504, 1.0973892211914062, 14.569255828857422, -4.917531967163086, 33.138423919677734, 15.920916557312012, 6.0979132652282715, 9.026093482971191, 23.123882293701172, 23.924327850341797, -3.372809886932373, 7.2467756271362305, 20.86271858215332, -1.7166309356689453, -14.565133094787598, 26.09026336669922, 5.538116455078125, 6.2113566398620605, 10.889325141906738, -50.300228118896484, 25.764955520629883, -6.57623815536499, 10.951205253601074, -15.701200485229492, 30.915817260742188, 10.291145324707031, 10.960454940795898, 7.453132152557373, -9.432830810546875, 1.1707881689071655, -11.439071655273438, 3.7549538612365723, -20.07216453552246, -22.717348098754883, -2.09637188911438, -0.9298470616340637, 7.973873615264893, -17.010379791259766, -27.669206619262695, 12.745702743530273, -2.1184113025665283, 18.948476791381836, -21.11258888244629, -15.820516586303711, -62.129337310791016, 10.76383113861084, -55.88093185424805, 20.049427032470703, 27.271528244018555, -10.326749801635742, -26.29878044128418, -8.0729398727417, -23.04283905029297, -17.76921272277832, 5.0480637550354, -0.2755250334739685, 4.428896903991699, -31.375471115112305, -9.441619873046875, -20.670948028564453, 11.954090118408203, 11.062671661376953, -12.374909400939941, -25.7167911529541, 33.41309356689453, -20.879898071289062, -26.16953468322754, -56.464786529541016, -1.6929080486297607, 37.591121673583984, 3.41762638092041, -0.043195940554142, -57.84280776977539, 15.908760070800781, 18.02409553527832, -4.370877742767334, -3.495462656021118, -15.445423126220703, -11.949641227722168, 13.844690322875977, -4.529102802276611, -21.993526458740234, -25.68848991394043, 7.108486652374268, -31.175813674926758, -28.662193298339844, -10.852570533752441, 11.546072006225586, 16.457387924194336, 27.7385311126709, 5.489121437072754, 36.98086929321289, -0.22204533219337463, 14.683552742004395, 28.01162338256836, 23.154504776000977, -26.65479850769043, 7.800820350646973, -42.684364318847656, 27.207134246826172, 11.33860969543457, -16.239587783813477, 22.623374938964844, -21.527612686157227, -8.551189422607422, 6.8839569091796875, -10.69904613494873, -18.189725875854492, 34.736419677734375, -48.09870147705078, 9.348690032958984, -15.298446655273438, 13.71865463256836, -0.6420696377754211, 30.621118545532227, -16.422409057617188, 33.65988540649414, 3.7349741458892822, 24.993907928466797, 7.290647506713867, 6.4755120277404785, -2.1341047286987305, 10.660804748535156, -9.949647903442383, -60.20424270629883, -28.50419044494629, 18.030399322509766, -0.5898255109786987, -20.086904525756836, -29.555461883544922, 19.4130916595459, -2.9598565101623535, -9.937559127807617, 27.220855712890625, 23.900157928466797, 28.37956428527832, 28.488800048828125, -14.044377326965332, 2.8099331855773926, 33.73426055908203, -23.420072555541992, -11.115177154541016, -24.141639709472656, 30.72207260131836, 30.708431243896484, -17.667356491088867, 36.31866455078125, 3.1927554607391357, 13.284053802490234, 25.026948928833008, 22.102998733520508, 23.400671005249023, 9.400431632995605, -17.15333366394043, 14.007964134216309, 30.138235092163086, 6.847496032714844, -13.723213195800781, -19.358718872070312, -13.063420295715332, 0.8445018529891968, -2.4557950496673584, -0.8523792028427124, -2.0667483806610107, 14.895466804504395, -6.5749335289001465, 5.12152624130249, 14.395461082458496, 17.563352584838867, 16.893869400024414, -29.231563568115234, 29.781940460205078, -4.5934224128723145, 19.582483291625977, -2.0645437240600586, -25.112512588500977, 32.89295959472656, 38.24854278564453, 6.325907230377197, -1.494395136833191, -19.234827041625977, -27.663738250732422, 23.759681701660156, -0.6617977619171143, 28.7226505279541, 11.036201477050781, 25.566530227661133, -10.704937934875488, 24.897186279296875, 26.643526077270508, 2.1168384552001953, 16.91939353942871, -23.72243881225586, 19.960763931274414, -25.944847106933594, 18.17870330810547, -16.21234703063965, 5.448334217071533, -2.579557180404663, 16.339908599853516, 33.65729904174805, -26.511173248291016, -26.673805236816406, 1.4971214532852173, 19.06031608581543, -24.008628845214844, 18.326570510864258, -29.554637908935547, 2.4633936882019043, -25.395782470703125, 18.66606903076172, 32.20619583129883, 11.241801261901855, -27.499313354492188, -3.8699488639831543, 23.498868942260742, -1.4286986589431763, 2.3988394737243652, -0.9858638048171997, 38.46329116821289, -9.295919418334961, -22.70787811279297, -29.178367614746094, 28.72142791748047, 19.804189682006836, 0.1005362868309021, -21.785133361816406, -31.157337188720703, 27.203697204589844, 7.399900913238525, -24.560317993164062, -1.405534267425537, 7.800105094909668, 28.949134826660156, 12.032673835754395, 10.023531913757324, -7.562370777130127, 29.70665740966797, 31.992210388183594, 27.476530075073242, 27.862102508544922, 5.403810501098633, 24.271440505981445, -11.729226112365723, -24.209278106689453, -25.12033462524414, 30.18903350830078, 7.581944465637207, 34.004859924316406, 0.5202648043632507, 5.347995281219482, -3.4086365699768066, 27.413373947143555, -8.359757423400879, -15.635299682617188, 7.2307963371276855, -6.303161144256592, -3.5830533504486084, 17.860315322875977, -2.3505971431732178, 5.905710220336914, -16.631393432617188, -23.295726776123047, -21.207763671875, -19.44699478149414, -16.088043212890625, -1.9660251140594482, -3.963804006576538, -46.39997100830078, -21.62093162536621, 33.019920349121094, 21.778114318847656, -56.6987419128418, -9.80665111541748, 24.3891544342041, -7.692182540893555, -50.0343132019043, -56.736846923828125, -29.526554107666016, -19.346132278442383, -19.31067657470703, -27.960376739501953, 14.710589408874512, 14.791791915893555, -61.06220245361328, 18.28317642211914, -1.582628846168518, -13.146042823791504, 15.246841430664062, 35.38964080810547, 10.196160316467285, -31.04087257385254, -25.333951950073242, 3.8724398612976074, -20.700904846191406, 16.095869064331055, -15.306063652038574, -19.310503005981445, -19.48746681213379, 18.542518615722656, -45.83742904663086, 15.331463813781738, 20.431550979614258, -25.167755126953125, -6.1571044921875, -54.79576873779297, 31.84029197692871, -7.484050273895264, 17.518442153930664, 8.741354942321777, 28.753793716430664, -7.646857738494873, -13.085946083068848, 1.967958927154541, 22.09525489807129, -29.676795959472656, -61.52788162231445, 30.794391632080078, -11.224766731262207, 4.098381042480469, -54.493892669677734, 20.630765914916992, 0.3974321782588959, -3.09138560295105, -11.01371955871582, -46.52708435058594, 8.163042068481445, 5.033005714416504, 28.78888511657715, -22.9235782623291, 11.937947273254395, -17.483505249023438, 14.170592308044434, -0.4740706980228424, -9.260298728942871, 1.988735556602478, -10.531498908996582, -25.468923568725586, 11.234814643859863, 6.543965816497803, 25.916841506958008, 15.10116195678711, 7.560791015625, 20.1705379486084, -57.29082489013672, 16.554325103759766, 9.670540809631348, -5.23630428314209, 34.32568359375, 15.04723072052002, 21.58823585510254, 21.042503356933594, -16.00729751586914, 0.5377468466758728, -49.851985931396484, 18.854753494262695, 11.169529914855957, -29.431072235107422, -16.633588790893555, -13.40488338470459, -57.83816909790039, 25.990232467651367, 18.94967269897461, 6.9756622314453125, 20.620647430419922, -7.061346054077148, -22.386608123779297, -3.714418411254883, 26.720172882080078, 4.424082279205322, 16.684616088867188, -3.4392662048339844, -17.960988998413086, -2.7005271911621094, 2.925734758377075, -21.39369010925293, 14.154650688171387, 31.830921173095703, -25.991031646728516, -21.946853637695312, 12.435473442077637, -1.8826391696929932, 9.48543643951416, 7.6536664962768555, 18.87957763671875, -29.96484375, -3.4760472774505615, 11.027336120605469, 19.379125595092773, 2.9246253967285156, 7.858499526977539, 36.35045623779297, 7.168798446655273, 7.661376476287842, 17.640520095825195, 23.3575496673584, 36.41556930541992, -26.50922393798828, 15.772310256958008, -11.276951789855957, -0.9468152523040771, -3.5647528171539307, -5.5307393074035645, -61.2452278137207, -19.739826202392578, 11.628561019897461, -8.968771934509277, 12.688974380493164, 16.427433013916016, 26.29153823852539, -29.380661010742188, 31.140544891357422, 7.47988224029541, 11.660905838012695, 26.946128845214844, 32.36405944824219, 14.632820129394531, -29.39833641052246, 0.2842866778373718, 25.257936477661133, -11.820757865905762, -11.219257354736328, 17.87533187866211, -7.849843978881836, 28.619924545288086, -7.768466949462891, 13.641369819641113, -10.798397064208984, -12.138005256652832, -21.72585105895996, 1.9952541589736938, 31.965167999267578, 25.64934539794922, -60.59626770019531, -21.53611946105957, -48.61827087402344, 0.8523283004760742, -12.623543739318848, -46.78024673461914, 29.007301330566406, 1.2039679288864136, -22.117290496826172, -49.68943405151367, 7.318866729736328, -9.791029930114746, -14.393538475036621, 11.058260917663574, -9.1098051071167, 22.276779174804688, 24.714567184448242, -44.460662841796875, -5.2126898765563965, 28.549129486083984, 3.6559841632843018, 26.818758010864258, -14.194130897521973, -23.221677780151367, -32.737220764160156, -12.329718589782715, -1.2199804782867432, -52.984867095947266, -27.508161544799805, 15.586649894714355, -23.18218994140625, 14.52834415435791, 24.637592315673828, -57.14312744140625, 22.48041534423828, -6.175297737121582, 10.343879699707031, -0.3436537981033325, 19.336524963378906, 6.649623870849609, -29.684167861938477, -12.527050018310547, 30.584238052368164, 17.845964431762695, 0.8175972700119019, -24.023529052734375, 0.8389654159545898, 32.34791946411133, -4.019606113433838, 2.0750253200531006, -4.916769504547119, 5.122313976287842, 15.528318405151367, 7.436375141143799, -61.581634521484375, -22.180898666381836, 2.067556619644165, -2.9499073028564453, 11.57773208618164, -9.136427879333496, -28.24477195739746, 1.2091636657714844, 2.294691324234009, 20.568323135375977, -26.29852294921875, 3.9681005477905273, 10.67471981048584, 29.736515045166016, 28.60137176513672, 11.608617782592773, 13.135061264038086, -19.54262351989746, 4.74837589263916, -55.43779373168945, -20.795303344726562, 27.948394775390625, -28.092161178588867, 18.3247127532959, 9.711864471435547, -29.953548431396484, 29.395366668701172, 2.357417106628418, -27.58963966369629, 19.528179168701172, -4.978766441345215, -2.4993984699249268, -25.352941513061523, -0.39312034845352173, -3.159496784210205, 36.00756072998047, 20.13070297241211, -30.424503326416016, 11.130030632019043, -1.1294751167297363, 1.6334487199783325, 8.107012748718262, -1.1490312814712524, 18.924692153930664, 9.092546463012695, 10.279550552368164, 2.855592727661133, 22.33643341064453, 3.6745126247406006, -22.533294677734375, 19.365386962890625, -23.021347045898438, 3.4448437690734863, 18.956594467163086, 20.000324249267578, 15.9864501953125, 26.755722045898438, 19.620588302612305, 25.686323165893555, 31.425487518310547, -2.8137214183807373, -0.27485302090644836, 12.065465927124023, 2.807877779006958, -3.5880918502807617, 15.973517417907715, 3.1508078575134277, 23.075986862182617, -12.662291526794434, 11.217541694641113, 1.3915753364562988, 30.314132690429688, 9.172591209411621, 9.639748573303223, 30.539960861206055, 18.238933563232422, 11.247452735900879, 24.310625076293945, 27.99995994567871, -22.489431381225586, 34.84768295288086, -14.086806297302246, 34.9815559387207, -5.895526885986328, -15.01037883758545, -3.1063740253448486, 11.582823753356934, 2.9675521850585938, 2.974644184112549, 3.016403913497925, 6.609555721282959, -16.62140655517578, 22.426151275634766, 15.380763053894043, 26.952838897705078, -46.34034729003906, -3.205958366394043, -24.3402156829834, -28.360506057739258, 15.446932792663574, -27.293636322021484, 0.0445927269756794, 4.790712356567383, -8.826510429382324, -1.4201117753982544, -61.46107864379883, -25.25678062438965, 15.632502555847168, 3.795849323272705, 30.147663116455078, 0.06413041055202484, -26.724021911621094, 36.863059997558594, -19.930862426757812, -5.060855865478516, -15.532598495483398, -18.55657386779785, -32.20732116699219, -10.780074119567871, -9.303812026977539, -19.263370513916016, -25.600425720214844, 37.509281158447266, 33.02729797363281, 23.5, -33.43401336669922, 30.47283172607422, -22.347064971923828, 25.542415618896484, 4.979557514190674, -29.31584930419922, 19.408370971679688, 10.109658241271973, 2.942823886871338, 3.6573572158813477, -10.486909866333008, -14.414563179016113, 3.8714561462402344, -12.357314109802246, 3.9964396953582764, -22.28681755065918, -32.816402435302734, -28.468198776245117, -5.161495208740234, -56.283199310302734, 8.483471870422363, -33.40644073486328, -11.352068901062012, 24.927871704101562, 23.004533767700195, 30.56266975402832, 0.12905514240264893, -44.86927795410156, -8.430479049682617, 24.0745906829834, 19.53984260559082, -0.9328559637069702, 2.894258737564087, -11.804252624511719, 14.503142356872559, -30.228307723999023, 16.004728317260742, -12.35594367980957, -16.319183349609375, 12.250741004943848, 2.5884082317352295, 30.278108596801758, 35.49565124511719, 22.6656436920166, 3.4450297355651855, -5.63176155090332, -18.03076934814453, -16.002864837646484, -8.88436508178711, -30.41345977783203, -3.778074026107788, 1.2283337116241455, 29.714784622192383, -6.3801116943359375, 32.97550964355469, 10.4952974319458, 15.131964683532715, 8.981192588806152, -7.311023235321045, -6.714446544647217, -11.315686225891113, -25.602266311645508, -27.458845138549805, 3.428802251815796, 18.810510635375977, 25.930356979370117, 23.523353576660156, -24.12114143371582, -24.5670108795166, -14.300732612609863, 2.4316155910491943, -14.641565322875977, -2.234316825866699, 8.286849975585938, -22.989294052124023, 33.15404510498047, 32.51844787597656, -18.450923919677734, 24.873477935791016, 36.00343322753906, -32.888328552246094, -25.585227966308594, 27.14087677001953, -18.816572189331055, -30.802581787109375, 12.510035514831543, 16.596975326538086, 19.44114875793457, -33.3184814453125, 19.717451095581055, -3.9629335403442383, -22.78371238708496, -30.58064842224121, -9.104535102844238, -14.8716459274292, -47.93136215209961, -54.07053756713867, 12.246745109558105, -4.5145111083984375, 32.30539321899414, 28.971202850341797, -5.001312732696533, 15.122182846069336, 5.177459239959717, -19.824581146240234, 0.672926127910614, 13.07838249206543, 30.882009506225586, 15.745141983032227, 4.208517074584961, -29.524478912353516, -6.078726291656494, 23.25297737121582, -10.172402381896973, -16.87335205078125, 10.720145225524902, -1.9738690853118896, 26.539535522460938, -51.76961898803711, -6.944424152374268, 5.343280792236328, 26.1578369140625, -2.599475860595703, -29.863405227661133, 19.64126968383789, 35.563812255859375, -24.376201629638672, -44.88174057006836, 16.193096160888672, 14.527094841003418, -20.191743850708008, -19.873815536499023, 5.984514236450195, -8.255760192871094, 5.822923183441162, 5.6711039543151855, 14.799912452697754, 13.648033142089844, 6.920187950134277, -14.508451461791992, -29.87712860107422, 34.38433074951172, 10.920916557312012, 27.707311630249023, 19.129459381103516, -21.92494773864746, 14.2589111328125, 24.781099319458008, -8.715282440185547, -45.85971450805664, 15.872676849365234, -10.372663497924805, 14.662050247192383, -2.878618001937866, 30.450895309448242, -5.428966045379639, -9.915148735046387, -14.325336456298828, 15.25613784790039, -25.2144775390625, 0.4168260395526886, -16.170522689819336, -11.608418464660645, 0.23570996522903442, -27.418283462524414, 29.512907028198242, -8.386609077453613, -1.0811482667922974, -30.433956146240234, -7.38266658782959, 10.228611946105957, -5.0027313232421875, -20.5456600189209, -12.766389846801758, 4.458227634429932, -13.89377498626709, 14.609177589416504, 28.132150650024414, 14.298272132873535, 16.87590980529785, 3.1311564445495605, 29.331727981567383, 32.65806198120117, 22.652929306030273, -14.355751037597656, 19.815412521362305, 11.97496223449707, 3.080611228942871, -11.142662048339844, -26.040355682373047, -0.15351682901382446, -1.9459612369537354, -28.033266067504883, 17.495325088500977, -48.70114517211914, -27.150663375854492, -30.136892318725586, -15.247849464416504, -29.970287322998047, -9.931527137756348, 29.104930877685547, -0.24522538483142853, -45.30323028564453, 33.4741325378418], \"yaxis\": \"y\"}],\n",
              "                        {\"coloraxis\": {\"colorbar\": {\"title\": {\"text\": \"Label\"}}, \"colorscale\": [[0.0, \"#0d0887\"], [0.1111111111111111, \"#46039f\"], [0.2222222222222222, \"#7201a8\"], [0.3333333333333333, \"#9c179e\"], [0.4444444444444444, \"#bd3786\"], [0.5555555555555556, \"#d8576b\"], [0.6666666666666666, \"#ed7953\"], [0.7777777777777778, \"#fb9f3a\"], [0.8888888888888888, \"#fdca26\"], [1.0, \"#f0f921\"]]}, \"legend\": {\"tracegroupgap\": 0}, \"margin\": {\"t\": 60}, \"template\": {\"data\": {\"bar\": [{\"error_x\": {\"color\": \"#2a3f5f\"}, \"error_y\": {\"color\": \"#2a3f5f\"}, \"marker\": {\"line\": {\"color\": \"#E5ECF6\", \"width\": 0.5}}, \"type\": \"bar\"}], \"barpolar\": [{\"marker\": {\"line\": {\"color\": \"#E5ECF6\", \"width\": 0.5}}, \"type\": \"barpolar\"}], \"carpet\": [{\"aaxis\": {\"endlinecolor\": \"#2a3f5f\", \"gridcolor\": \"white\", \"linecolor\": \"white\", \"minorgridcolor\": \"white\", \"startlinecolor\": \"#2a3f5f\"}, \"baxis\": {\"endlinecolor\": \"#2a3f5f\", \"gridcolor\": \"white\", \"linecolor\": \"white\", \"minorgridcolor\": \"white\", \"startlinecolor\": \"#2a3f5f\"}, \"type\": \"carpet\"}], \"choropleth\": [{\"colorbar\": {\"outlinewidth\": 0, \"ticks\": \"\"}, \"type\": \"choropleth\"}], \"contour\": [{\"colorbar\": {\"outlinewidth\": 0, \"ticks\": \"\"}, \"colorscale\": [[0.0, \"#0d0887\"], [0.1111111111111111, \"#46039f\"], [0.2222222222222222, \"#7201a8\"], [0.3333333333333333, \"#9c179e\"], [0.4444444444444444, \"#bd3786\"], [0.5555555555555556, \"#d8576b\"], [0.6666666666666666, \"#ed7953\"], [0.7777777777777778, \"#fb9f3a\"], [0.8888888888888888, \"#fdca26\"], [1.0, \"#f0f921\"]], \"type\": \"contour\"}], \"contourcarpet\": [{\"colorbar\": {\"outlinewidth\": 0, \"ticks\": \"\"}, \"type\": \"contourcarpet\"}], \"heatmap\": [{\"colorbar\": {\"outlinewidth\": 0, \"ticks\": \"\"}, \"colorscale\": [[0.0, \"#0d0887\"], [0.1111111111111111, \"#46039f\"], [0.2222222222222222, \"#7201a8\"], [0.3333333333333333, \"#9c179e\"], [0.4444444444444444, \"#bd3786\"], [0.5555555555555556, \"#d8576b\"], [0.6666666666666666, \"#ed7953\"], [0.7777777777777778, \"#fb9f3a\"], [0.8888888888888888, \"#fdca26\"], [1.0, \"#f0f921\"]], \"type\": \"heatmap\"}], \"heatmapgl\": [{\"colorbar\": {\"outlinewidth\": 0, \"ticks\": \"\"}, \"colorscale\": [[0.0, \"#0d0887\"], [0.1111111111111111, \"#46039f\"], [0.2222222222222222, \"#7201a8\"], [0.3333333333333333, \"#9c179e\"], [0.4444444444444444, \"#bd3786\"], [0.5555555555555556, \"#d8576b\"], [0.6666666666666666, \"#ed7953\"], [0.7777777777777778, \"#fb9f3a\"], [0.8888888888888888, \"#fdca26\"], [1.0, \"#f0f921\"]], \"type\": \"heatmapgl\"}], \"histogram\": [{\"marker\": {\"colorbar\": {\"outlinewidth\": 0, \"ticks\": \"\"}}, \"type\": \"histogram\"}], \"histogram2d\": [{\"colorbar\": {\"outlinewidth\": 0, \"ticks\": \"\"}, \"colorscale\": [[0.0, \"#0d0887\"], [0.1111111111111111, \"#46039f\"], [0.2222222222222222, \"#7201a8\"], [0.3333333333333333, \"#9c179e\"], [0.4444444444444444, \"#bd3786\"], [0.5555555555555556, \"#d8576b\"], [0.6666666666666666, \"#ed7953\"], [0.7777777777777778, \"#fb9f3a\"], [0.8888888888888888, \"#fdca26\"], [1.0, \"#f0f921\"]], \"type\": \"histogram2d\"}], \"histogram2dcontour\": [{\"colorbar\": {\"outlinewidth\": 0, \"ticks\": \"\"}, \"colorscale\": [[0.0, \"#0d0887\"], [0.1111111111111111, \"#46039f\"], [0.2222222222222222, \"#7201a8\"], [0.3333333333333333, \"#9c179e\"], [0.4444444444444444, \"#bd3786\"], [0.5555555555555556, \"#d8576b\"], [0.6666666666666666, \"#ed7953\"], [0.7777777777777778, \"#fb9f3a\"], [0.8888888888888888, \"#fdca26\"], [1.0, \"#f0f921\"]], \"type\": \"histogram2dcontour\"}], \"mesh3d\": [{\"colorbar\": {\"outlinewidth\": 0, \"ticks\": \"\"}, \"type\": \"mesh3d\"}], \"parcoords\": [{\"line\": {\"colorbar\": {\"outlinewidth\": 0, \"ticks\": \"\"}}, \"type\": \"parcoords\"}], \"pie\": [{\"automargin\": true, \"type\": \"pie\"}], \"scatter\": [{\"marker\": {\"colorbar\": {\"outlinewidth\": 0, \"ticks\": \"\"}}, \"type\": \"scatter\"}], \"scatter3d\": [{\"line\": {\"colorbar\": {\"outlinewidth\": 0, \"ticks\": \"\"}}, \"marker\": {\"colorbar\": {\"outlinewidth\": 0, \"ticks\": \"\"}}, \"type\": \"scatter3d\"}], \"scattercarpet\": [{\"marker\": {\"colorbar\": {\"outlinewidth\": 0, \"ticks\": \"\"}}, \"type\": \"scattercarpet\"}], \"scattergeo\": [{\"marker\": {\"colorbar\": {\"outlinewidth\": 0, \"ticks\": \"\"}}, \"type\": \"scattergeo\"}], \"scattergl\": [{\"marker\": {\"colorbar\": {\"outlinewidth\": 0, \"ticks\": \"\"}}, \"type\": \"scattergl\"}], \"scattermapbox\": [{\"marker\": {\"colorbar\": {\"outlinewidth\": 0, \"ticks\": \"\"}}, \"type\": \"scattermapbox\"}], \"scatterpolar\": [{\"marker\": {\"colorbar\": {\"outlinewidth\": 0, \"ticks\": \"\"}}, \"type\": \"scatterpolar\"}], \"scatterpolargl\": [{\"marker\": {\"colorbar\": {\"outlinewidth\": 0, \"ticks\": \"\"}}, \"type\": \"scatterpolargl\"}], \"scatterternary\": [{\"marker\": {\"colorbar\": {\"outlinewidth\": 0, \"ticks\": \"\"}}, \"type\": \"scatterternary\"}], \"surface\": [{\"colorbar\": {\"outlinewidth\": 0, \"ticks\": \"\"}, \"colorscale\": [[0.0, \"#0d0887\"], [0.1111111111111111, \"#46039f\"], [0.2222222222222222, \"#7201a8\"], [0.3333333333333333, \"#9c179e\"], [0.4444444444444444, \"#bd3786\"], [0.5555555555555556, \"#d8576b\"], [0.6666666666666666, \"#ed7953\"], [0.7777777777777778, \"#fb9f3a\"], [0.8888888888888888, \"#fdca26\"], [1.0, \"#f0f921\"]], \"type\": \"surface\"}], \"table\": [{\"cells\": {\"fill\": {\"color\": \"#EBF0F8\"}, \"line\": {\"color\": \"white\"}}, \"header\": {\"fill\": {\"color\": \"#C8D4E3\"}, \"line\": {\"color\": \"white\"}}, \"type\": \"table\"}]}, \"layout\": {\"annotationdefaults\": {\"arrowcolor\": \"#2a3f5f\", \"arrowhead\": 0, \"arrowwidth\": 1}, \"coloraxis\": {\"colorbar\": {\"outlinewidth\": 0, \"ticks\": \"\"}}, \"colorscale\": {\"diverging\": [[0, \"#8e0152\"], [0.1, \"#c51b7d\"], [0.2, \"#de77ae\"], [0.3, \"#f1b6da\"], [0.4, \"#fde0ef\"], [0.5, \"#f7f7f7\"], [0.6, \"#e6f5d0\"], [0.7, \"#b8e186\"], [0.8, \"#7fbc41\"], [0.9, \"#4d9221\"], [1, \"#276419\"]], \"sequential\": [[0.0, \"#0d0887\"], [0.1111111111111111, \"#46039f\"], [0.2222222222222222, \"#7201a8\"], [0.3333333333333333, \"#9c179e\"], [0.4444444444444444, \"#bd3786\"], [0.5555555555555556, \"#d8576b\"], [0.6666666666666666, \"#ed7953\"], [0.7777777777777778, \"#fb9f3a\"], [0.8888888888888888, \"#fdca26\"], [1.0, \"#f0f921\"]], \"sequentialminus\": [[0.0, \"#0d0887\"], [0.1111111111111111, \"#46039f\"], [0.2222222222222222, \"#7201a8\"], [0.3333333333333333, \"#9c179e\"], [0.4444444444444444, \"#bd3786\"], [0.5555555555555556, \"#d8576b\"], [0.6666666666666666, \"#ed7953\"], [0.7777777777777778, \"#fb9f3a\"], [0.8888888888888888, \"#fdca26\"], [1.0, \"#f0f921\"]]}, \"colorway\": [\"#636efa\", \"#EF553B\", \"#00cc96\", \"#ab63fa\", \"#FFA15A\", \"#19d3f3\", \"#FF6692\", \"#B6E880\", \"#FF97FF\", \"#FECB52\"], \"font\": {\"color\": \"#2a3f5f\"}, \"geo\": {\"bgcolor\": \"white\", \"lakecolor\": \"white\", \"landcolor\": \"#E5ECF6\", \"showlakes\": true, \"showland\": true, \"subunitcolor\": \"white\"}, \"hoverlabel\": {\"align\": \"left\"}, \"hovermode\": \"closest\", \"mapbox\": {\"style\": \"light\"}, \"paper_bgcolor\": \"white\", \"plot_bgcolor\": \"#E5ECF6\", \"polar\": {\"angularaxis\": {\"gridcolor\": \"white\", \"linecolor\": \"white\", \"ticks\": \"\"}, \"bgcolor\": \"#E5ECF6\", \"radialaxis\": {\"gridcolor\": \"white\", \"linecolor\": \"white\", \"ticks\": \"\"}}, \"scene\": {\"xaxis\": {\"backgroundcolor\": \"#E5ECF6\", \"gridcolor\": \"white\", \"gridwidth\": 2, \"linecolor\": \"white\", \"showbackground\": true, \"ticks\": \"\", \"zerolinecolor\": \"white\"}, \"yaxis\": {\"backgroundcolor\": \"#E5ECF6\", \"gridcolor\": \"white\", \"gridwidth\": 2, \"linecolor\": \"white\", \"showbackground\": true, \"ticks\": \"\", \"zerolinecolor\": \"white\"}, \"zaxis\": {\"backgroundcolor\": \"#E5ECF6\", \"gridcolor\": \"white\", \"gridwidth\": 2, \"linecolor\": \"white\", \"showbackground\": true, \"ticks\": \"\", \"zerolinecolor\": \"white\"}}, \"shapedefaults\": {\"line\": {\"color\": \"#2a3f5f\"}}, \"ternary\": {\"aaxis\": {\"gridcolor\": \"white\", \"linecolor\": \"white\", \"ticks\": \"\"}, \"baxis\": {\"gridcolor\": \"white\", \"linecolor\": \"white\", \"ticks\": \"\"}, \"bgcolor\": \"#E5ECF6\", \"caxis\": {\"gridcolor\": \"white\", \"linecolor\": \"white\", \"ticks\": \"\"}}, \"title\": {\"x\": 0.05}, \"xaxis\": {\"automargin\": true, \"gridcolor\": \"white\", \"linecolor\": \"white\", \"ticks\": \"\", \"title\": {\"standoff\": 15}, \"zerolinecolor\": \"white\", \"zerolinewidth\": 2}, \"yaxis\": {\"automargin\": true, \"gridcolor\": \"white\", \"linecolor\": \"white\", \"ticks\": \"\", \"title\": {\"standoff\": 15}, \"zerolinecolor\": \"white\", \"zerolinewidth\": 2}}}, \"xaxis\": {\"anchor\": \"y\", \"domain\": [0.0, 1.0], \"title\": {\"text\": \"Dimension_x\"}}, \"yaxis\": {\"anchor\": \"x\", \"domain\": [0.0, 1.0], \"title\": {\"text\": \"Dimension_y\"}}},\n",
              "                        {\"responsive\": true}\n",
              "                    ).then(function(){\n",
              "                            \n",
              "var gd = document.getElementById('933515c6-58ad-4ec9-8373-eb305077d599');\n",
              "var x = new MutationObserver(function (mutations, observer) {{\n",
              "        var display = window.getComputedStyle(gd).display;\n",
              "        if (!display || display === 'none') {{\n",
              "            console.log([gd, 'removed!']);\n",
              "            Plotly.purge(gd);\n",
              "            observer.disconnect();\n",
              "        }}\n",
              "}});\n",
              "\n",
              "// Listen for the removal of the full notebook cells\n",
              "var notebookContainer = gd.closest('#notebook-container');\n",
              "if (notebookContainer) {{\n",
              "    x.observe(notebookContainer, {childList: true});\n",
              "}}\n",
              "\n",
              "// Listen for the clearing of the current output cell\n",
              "var outputEl = gd.closest('.output');\n",
              "if (outputEl) {{\n",
              "    x.observe(outputEl, {childList: true});\n",
              "}}\n",
              "\n",
              "                        })\n",
              "                };\n",
              "                \n",
              "            </script>\n",
              "        </div>\n",
              "</body>\n",
              "</html>"
            ]
          },
          "metadata": {}
        }
      ]
    },
    {
      "cell_type": "markdown",
      "metadata": {
        "id": "Rg4ZMq8ezAH6",
        "cell_id": "00054-62f72afd-24c1-45b9-b80c-8b252273717c",
        "deepnote_cell_type": "markdown"
      },
      "source": [
        "# Conclusión\n",
        "Eso ha sido todo para el lab de hoy, recuerden que el laboratorio tiene un plazo de entrega de una semana y que **los días de atraso no se pueden utilizar para entregas de lab** solo para tareas. Cualquier duda del laboratorio, no duden en contactarnos por mail o U-cursos.\n",
        "\n",
        "![Gracias Totales!](https://i.pinimg.com/originals/65/ae/27/65ae270df87c3c4adcea997e48f60852.gif \"bruno\")\n"
      ]
    },
    {
      "cell_type": "markdown",
      "metadata": {
        "id": "wCL1lACBzAH7",
        "cell_id": "00055-fea25dcb-f3c3-4a66-9ca6-5d64924d7396",
        "deepnote_cell_type": "markdown"
      },
      "source": [
        "<br>\n",
        "<center>\n",
        "<img src=\"https://i.kym-cdn.com/photos/images/original/001/194/195/b18.png\" width=100 height=50 />\n",
        "</center>\n",
        "<br>"
      ]
    },
    {
      "cell_type": "markdown",
      "metadata": {
        "tags": [],
        "created_in_deepnote_cell": true,
        "deepnote_cell_type": "markdown",
        "id": "xqO0thJcqwqy"
      },
      "source": [
        "<a style='text-decoration:none;line-height:16px;display:flex;color:#5B5B62;padding:10px;justify-content:end;' href='https://deepnote.com?utm_source=created-in-deepnote-cell&projectId=87110296-876e-426f-b91d-aaf681223468' target=\"_blank\">\n",
        "<img alt='Created in deepnote.com' style='display:inline;max-height:16px;margin:0px;margin-right:7.5px;' src='data:image/svg+xml;base64,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' > </img>\n",
        "Created in <span style='font-weight:600;margin-left:4px;'>Deepnote</span></a>"
      ]
    }
  ]
}