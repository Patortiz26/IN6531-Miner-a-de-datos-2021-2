{
  "nbformat": 4,
  "nbformat_minor": 0,
  "metadata": {
    "kernelspec": {
      "name": "python3",
      "display_name": "Python 3.9.6 64-bit ('base': conda)"
    },
    "language_info": {
      "codemirror_mode": {
        "name": "ipython",
        "version": 3
      },
      "file_extension": ".py",
      "mimetype": "text/x-python",
      "name": "python",
      "nbconvert_exporter": "python",
      "pygments_lexer": "ipython3",
      "version": "3.9.6"
    },
    "toc": {
      "base_numbering": 1,
      "nav_menu": {},
      "number_sections": true,
      "sideBar": true,
      "skip_h1_title": true,
      "title_cell": "Tabla de Contenidos",
      "title_sidebar": "Contenidos",
      "toc_cell": false,
      "toc_position": {
        "height": "calc(100% - 180px)",
        "left": "10px",
        "top": "150px",
        "width": "241.867px"
      },
      "toc_section_display": true,
      "toc_window_display": true
    },
    "varInspector": {
      "cols": {
        "lenName": 16,
        "lenType": 16,
        "lenVar": 40
      },
      "kernels_config": {
        "python": {
          "delete_cmd_postfix": "",
          "delete_cmd_prefix": "del ",
          "library": "var_list.py",
          "varRefreshCmd": "print(var_dic_list())"
        },
        "r": {
          "delete_cmd_postfix": ") ",
          "delete_cmd_prefix": "rm(",
          "library": "var_list.r",
          "varRefreshCmd": "cat(var_dic_list()) "
        }
      },
      "types_to_exclude": [
        "module",
        "function",
        "builtin_function_or_method",
        "instance",
        "_Feature"
      ],
      "window_display": false
    },
    "colab": {
      "name": "Laboratorio4.ipynb",
      "provenance": [],
      "collapsed_sections": [],
      "include_colab_link": true
    },
    "interpreter": {
      "hash": "09cf3d5909f3828bf53c46564821f879a9c8405e40e27fb09b54d745264e4a6d"
    }
  },
  "cells": [
    {
      "cell_type": "markdown",
      "metadata": {
        "id": "view-in-github",
        "colab_type": "text"
      },
      "source": [
        "<a href=\"https://colab.research.google.com/github/Patortiz26/IN6531-Miner-a-de-datos-2021-2/blob/main/Laboratorio4.ipynb\" target=\"_parent\"><img src=\"https://colab.research.google.com/assets/colab-badge.svg\" alt=\"Open In Colab\"/></a>"
      ]
    },
    {
      "cell_type": "markdown",
      "metadata": {
        "id": "XUZ1dFPHzAHl"
      },
      "source": [
        "<h1><center>Laboratorio 4: El Pandas no muerde (act. II) 🐼</center></h1>\n",
        "\n",
        "<center><strong>MDS7202: Laboratorio de Programación Científica para Ciencia de Datos</strong></center>"
      ]
    },
    {
      "cell_type": "markdown",
      "metadata": {
        "id": "UD8X1uhGzAHq"
      },
      "source": [
        "### Cuerpo Docente:\n",
        "\n",
        "- Profesor: Pablo Badilla\n",
        "- Auxiliar: Ignacio Meza D.\n",
        "- Ayudante: Constanza Peña"
      ]
    },
    {
      "cell_type": "markdown",
      "metadata": {
        "id": "tXflExjqzAHr"
      },
      "source": [
        "### Equipo: \n",
        "\n",
        "- Nombre de alumno 1: Patricio Ortiz"
      ]
    },
    {
      "cell_type": "markdown",
      "metadata": {
        "id": "AD-V0bbZzAHr"
      },
      "source": [
        "### **Link de repositorio de GitHub:** `https://github.com/Patortiz26/Laboratorio-de-Programaci-n/`"
      ]
    },
    {
      "cell_type": "markdown",
      "metadata": {
        "id": "6uBLPj1PzAHs"
      },
      "source": [
        "# Temas a tratar\n",
        "\n",
        "- Manejo de datos tabulares usando `pandas`. En esta segunda parte se incluye adicionalmente agregaciones, concatenaciones, merge y trabajo con strings.\n",
        "- Visualizaciones interactivas de los datos con `plotly`.\n",
        "\n",
        "### Reglas:\n",
        "\n",
        "- Fecha de entrega: 8 de octubre (atrasos hasta el 11 de octubre, 1 punto de descuento por día)\n",
        "- **Grupos de máximo 2 personas**\n",
        "- **Ausentes** deberán realizar la actividad solos. \n",
        "- Cualquier duda fuera del horario de clases al foro. Mensajes al equipo docente serán respondidos por este medio.\n",
        "- Prohibidas las copias. \n",
        "- Pueden usar cualquer matrial del curso que estimen conveniente.\n",
        "\n",
        "\n",
        "### Objetivos principales del laboratorio\n",
        "\n",
        "- Aplicar y aprovechar las ventajas que nos ofrece la libreria `pandas`.\n",
        "- Utilizar `plotly` para obtener información gráfica del dataset.\n",
        "- Aplicar el **Análisis Exploratorio de Datos** a un caso en particular.\n",
        "\n",
        "\n",
        "> **Nota**: El laboratorio deberá ser desarrollado sin el uso indiscriminado de iteradores nativos de python (aka \"for\", \"while\"). La idea es que aprendan a exprimir al máximo las funciones optimizadas que nos entrega `pandas`, las cuales vale mencionar, son bastante más eficientes que los iteradores nativos sobre DataFrames."
      ]
    },
    {
      "cell_type": "markdown",
      "metadata": {
        "id": "MhISwri4zAHy"
      },
      "source": [
        "# Importamos librerias utiles 😸"
      ]
    },
    {
      "cell_type": "code",
      "metadata": {
        "ExecuteTime": {
          "end_time": "2021-03-29T00:08:16.884674Z",
          "start_time": "2021-03-29T00:08:16.349846Z"
        },
        "id": "uyc33dKdzAHy"
      },
      "source": [
        "# Libreria Core del lab.\n",
        "import numpy as np\n",
        "import pandas as pd \n",
        "import os\n",
        "\n",
        "from IPython.display import display\n",
        "\n",
        "#Libreria para visualizar\n",
        "#!pip install --upgrade plotly\n",
        "import plotly.figure_factory as ff\n",
        "import plotly.express as px\n",
        "import plotly.graph_objects as go"
      ],
      "execution_count": 35,
      "outputs": []
    },
    {
      "cell_type": "markdown",
      "metadata": {
        "id": "xpOTbQcxbSiy"
      },
      "source": [
        "# 1. Rendimiento en Estudiantes 📚"
      ]
    },
    {
      "cell_type": "markdown",
      "metadata": {
        "id": "3Q93vbNS25bM"
      },
      "source": [
        "\n",
        "<p align=\"center\">\n",
        "  <img src=\"https://drive.google.com/uc?export=view&id=1hZZaPQlZe4VupFOXt76_wjuUA5NpUhrw\" width=\"300\" height=\"300\">\n",
        "</p>"
      ]
    },
    {
      "cell_type": "markdown",
      "metadata": {
        "id": "jnmZfFpxTTYX"
      },
      "source": [
        "Para este laboratorio deberán continuar el Análisis Exploratorio de datos sobre el conjunto ```students_grades.csv```, el cual contiene una caracterización sobre el rendimiento y otros atributos de cada alumno de la *Universidad de la Cachaña* ."
      ]
    },
    {
      "cell_type": "code",
      "metadata": {
        "colab": {
          "base_uri": "https://localhost:8080/"
        },
        "id": "Jqq-s010Iwl1",
        "outputId": "25c2a507-2c87-4629-e399-e9f007afd190"
      },
      "source": [
        "# Si usted está utilizando Colabolatory le puede ser útil este código para cargar los archivos.\n",
        "try:\n",
        "    from google.colab import drive\n",
        "    drive.mount(\"/content/drive\")\n",
        "    path = '/content/drive/My Drive/Colab Notebooks/MDS7202 - Laboratorio de programación/Lab 4/Datos'\n",
        "    os.chdir(path)\n",
        "except: \n",
        "    print('Ignorando conexión drive-colab')"
      ],
      "execution_count": 22,
      "outputs": [
        {
          "output_type": "stream",
          "name": "stdout",
          "text": [
            "Drive already mounted at /content/drive; to attempt to forcibly remount, call drive.mount(\"/content/drive\", force_remount=True).\n"
          ]
        }
      ]
    },
    {
      "cell_type": "markdown",
      "metadata": {
        "id": "ELrR4Lewwuqn"
      },
      "source": [
        "# 1. Carga de Datos [0.5 Puntos]\n",
        "\n",
        "Ya finalizado en análisis inicial, ud. y su equipo le entregaron a *Don Caguayo* (rector de la Universidad de la Cachaña) tanto los resultados del análisis como también la base de datos limpia y lista para ser almacenada. Dada la ingente cantidad de los datos, el equipo de TI de la universidad resolvió separar el dataset en dos bases de datos distintas (lo que según argumentan ellos, permitiría hacer agregaciones de forma más eficiente). \n",
        "\n",
        "Gracias a la excelente labor de ud. y su equipo en el análisis previo, el rector le solicita continuar el trabajo con una nueva batería de análisis. Por este motivo, la sección de TI les entrega nuevamente los datos. Sin embargo, argumentan que dada una escazes de personal, solo le entregarán *dumps* (copias) de cada base de datos y su equipo deberá unir las bases de datos. Los datos se encuentran en los siguiente archivos `.json`: ´students_grades_1.json´ y ´students_grades_2.json´. \n",
        "\n",
        "\n",
        "Por ende, ud. y su equipo deciden que la primera tarea se centrará en cargar estos datos y unirlos. No se preocupe por la limpieza ni transformar el tipo de datos de las columnas, ni tampoco transformar a notas chilenas, recuerde que anteriormente ya se encargo de este tema."
      ]
    },
    {
      "cell_type": "code",
      "metadata": {
        "id": "RnHbmGzSx0RB"
      },
      "source": [
        "df1 = pd.read_json('students_grades_1.json')\n",
        "df2 = pd.read_json('students_grades_2.json')"
      ],
      "execution_count": 26,
      "outputs": []
    },
    {
      "cell_type": "code",
      "metadata": {
        "colab": {
          "base_uri": "https://localhost:8080/",
          "height": 205
        },
        "id": "gdSaY-1Q1Y1w",
        "outputId": "77998084-0cc3-4edc-fdbf-f6a66bad4aa9"
      },
      "source": [
        "df1.head()"
      ],
      "execution_count": 27,
      "outputs": [
        {
          "output_type": "execute_result",
          "data": {
            "text/html": [
              "<div>\n",
              "<style scoped>\n",
              "    .dataframe tbody tr th:only-of-type {\n",
              "        vertical-align: middle;\n",
              "    }\n",
              "\n",
              "    .dataframe tbody tr th {\n",
              "        vertical-align: top;\n",
              "    }\n",
              "\n",
              "    .dataframe thead th {\n",
              "        text-align: right;\n",
              "    }\n",
              "</style>\n",
              "<table border=\"1\" class=\"dataframe\">\n",
              "  <thead>\n",
              "    <tr style=\"text-align: right;\">\n",
              "      <th></th>\n",
              "      <th>names</th>\n",
              "      <th>gender</th>\n",
              "      <th>race/ethnicity</th>\n",
              "      <th>parental level of education</th>\n",
              "      <th>lunch</th>\n",
              "      <th>test preparation course</th>\n",
              "      <th>math score</th>\n",
              "      <th>reading score</th>\n",
              "      <th>writing score</th>\n",
              "    </tr>\n",
              "  </thead>\n",
              "  <tbody>\n",
              "    <tr>\n",
              "      <th>0</th>\n",
              "      <td>Rita Courtney</td>\n",
              "      <td>female</td>\n",
              "      <td>group B</td>\n",
              "      <td>some high school</td>\n",
              "      <td>standard</td>\n",
              "      <td>none</td>\n",
              "      <td>3.22</td>\n",
              "      <td>3.76</td>\n",
              "      <td>3.76</td>\n",
              "    </tr>\n",
              "    <tr>\n",
              "      <th>1</th>\n",
              "      <td>Charles Linstrom</td>\n",
              "      <td>male</td>\n",
              "      <td>group A</td>\n",
              "      <td>bachelor's degree</td>\n",
              "      <td>standard</td>\n",
              "      <td>completed</td>\n",
              "      <td>5.80</td>\n",
              "      <td>5.68</td>\n",
              "      <td>5.86</td>\n",
              "    </tr>\n",
              "    <tr>\n",
              "      <th>2</th>\n",
              "      <td>Brian Young</td>\n",
              "      <td>male</td>\n",
              "      <td>group C</td>\n",
              "      <td>some high school</td>\n",
              "      <td>standard</td>\n",
              "      <td>none</td>\n",
              "      <td>5.38</td>\n",
              "      <td>4.96</td>\n",
              "      <td>4.78</td>\n",
              "    </tr>\n",
              "    <tr>\n",
              "      <th>3</th>\n",
              "      <td>Howard Jimenez</td>\n",
              "      <td>male</td>\n",
              "      <td>group E</td>\n",
              "      <td>some high school</td>\n",
              "      <td>standard</td>\n",
              "      <td>completed</td>\n",
              "      <td>5.86</td>\n",
              "      <td>5.50</td>\n",
              "      <td>5.56</td>\n",
              "    </tr>\n",
              "    <tr>\n",
              "      <th>4</th>\n",
              "      <td>Wayne Wilson</td>\n",
              "      <td>male</td>\n",
              "      <td>group B</td>\n",
              "      <td>some high school</td>\n",
              "      <td>standard</td>\n",
              "      <td>completed</td>\n",
              "      <td>6.64</td>\n",
              "      <td>6.16</td>\n",
              "      <td>6.22</td>\n",
              "    </tr>\n",
              "  </tbody>\n",
              "</table>\n",
              "</div>"
            ],
            "text/plain": [
              "              names  gender  ... reading score writing score\n",
              "0     Rita Courtney  female  ...          3.76          3.76\n",
              "1  Charles Linstrom    male  ...          5.68          5.86\n",
              "2       Brian Young    male  ...          4.96          4.78\n",
              "3    Howard Jimenez    male  ...          5.50          5.56\n",
              "4      Wayne Wilson    male  ...          6.16          6.22\n",
              "\n",
              "[5 rows x 9 columns]"
            ]
          },
          "metadata": {},
          "execution_count": 27
        }
      ]
    },
    {
      "cell_type": "code",
      "metadata": {
        "colab": {
          "base_uri": "https://localhost:8080/",
          "height": 205
        },
        "id": "cdJz5y3l1n8m",
        "outputId": "9bf90bc9-cc68-47dd-8d31-3171a905084b"
      },
      "source": [
        "df2.head()"
      ],
      "execution_count": 28,
      "outputs": [
        {
          "output_type": "execute_result",
          "data": {
            "text/html": [
              "<div>\n",
              "<style scoped>\n",
              "    .dataframe tbody tr th:only-of-type {\n",
              "        vertical-align: middle;\n",
              "    }\n",
              "\n",
              "    .dataframe tbody tr th {\n",
              "        vertical-align: top;\n",
              "    }\n",
              "\n",
              "    .dataframe thead th {\n",
              "        text-align: right;\n",
              "    }\n",
              "</style>\n",
              "<table border=\"1\" class=\"dataframe\">\n",
              "  <thead>\n",
              "    <tr style=\"text-align: right;\">\n",
              "      <th></th>\n",
              "      <th>names</th>\n",
              "      <th>gender</th>\n",
              "      <th>race/ethnicity</th>\n",
              "      <th>parental level of education</th>\n",
              "      <th>lunch</th>\n",
              "      <th>test preparation course</th>\n",
              "      <th>math score</th>\n",
              "      <th>reading score</th>\n",
              "      <th>writing score</th>\n",
              "    </tr>\n",
              "  </thead>\n",
              "  <tbody>\n",
              "    <tr>\n",
              "      <th>0</th>\n",
              "      <td>Cheryl Kraus</td>\n",
              "      <td>female</td>\n",
              "      <td>group D</td>\n",
              "      <td>some high school</td>\n",
              "      <td>standard</td>\n",
              "      <td>none</td>\n",
              "      <td>4.54</td>\n",
              "      <td>5.32</td>\n",
              "      <td>5.80</td>\n",
              "    </tr>\n",
              "    <tr>\n",
              "      <th>1</th>\n",
              "      <td>Kristy Glass</td>\n",
              "      <td>female</td>\n",
              "      <td>group D</td>\n",
              "      <td>associate's degree</td>\n",
              "      <td>standard</td>\n",
              "      <td>none</td>\n",
              "      <td>5.56</td>\n",
              "      <td>5.44</td>\n",
              "      <td>5.38</td>\n",
              "    </tr>\n",
              "    <tr>\n",
              "      <th>2</th>\n",
              "      <td>Timothy Botello</td>\n",
              "      <td>male</td>\n",
              "      <td>group D</td>\n",
              "      <td>master's degree</td>\n",
              "      <td>standard</td>\n",
              "      <td>none</td>\n",
              "      <td>6.10</td>\n",
              "      <td>6.04</td>\n",
              "      <td>6.34</td>\n",
              "    </tr>\n",
              "    <tr>\n",
              "      <th>3</th>\n",
              "      <td>Ronald Coria</td>\n",
              "      <td>male</td>\n",
              "      <td>group A</td>\n",
              "      <td>associate's degree</td>\n",
              "      <td>standard</td>\n",
              "      <td>completed</td>\n",
              "      <td>6.82</td>\n",
              "      <td>6.52</td>\n",
              "      <td>6.16</td>\n",
              "    </tr>\n",
              "    <tr>\n",
              "      <th>4</th>\n",
              "      <td>Jessica Martin</td>\n",
              "      <td>female</td>\n",
              "      <td>group B</td>\n",
              "      <td>associate's degree</td>\n",
              "      <td>free/reduced</td>\n",
              "      <td>none</td>\n",
              "      <td>4.18</td>\n",
              "      <td>5.20</td>\n",
              "      <td>5.20</td>\n",
              "    </tr>\n",
              "  </tbody>\n",
              "</table>\n",
              "</div>"
            ],
            "text/plain": [
              "             names  gender  ... reading score writing score\n",
              "0     Cheryl Kraus  female  ...          5.32          5.80\n",
              "1     Kristy Glass  female  ...          5.44          5.38\n",
              "2  Timothy Botello    male  ...          6.04          6.34\n",
              "3     Ronald Coria    male  ...          6.52          6.16\n",
              "4   Jessica Martin  female  ...          5.20          5.20\n",
              "\n",
              "[5 rows x 9 columns]"
            ]
          },
          "metadata": {},
          "execution_count": 28
        }
      ]
    },
    {
      "cell_type": "code",
      "metadata": {
        "colab": {
          "base_uri": "https://localhost:8080/",
          "height": 423
        },
        "id": "WegzHL18wuqo",
        "outputId": "c2795aca-d196-4a2e-d9f9-b75c087b7ec1"
      },
      "source": [
        "df_grades = pd.concat([df1,df2],axis=0)\n",
        "df_grades"
      ],
      "execution_count": 203,
      "outputs": [
        {
          "output_type": "execute_result",
          "data": {
            "text/html": [
              "<div>\n",
              "<style scoped>\n",
              "    .dataframe tbody tr th:only-of-type {\n",
              "        vertical-align: middle;\n",
              "    }\n",
              "\n",
              "    .dataframe tbody tr th {\n",
              "        vertical-align: top;\n",
              "    }\n",
              "\n",
              "    .dataframe thead th {\n",
              "        text-align: right;\n",
              "    }\n",
              "</style>\n",
              "<table border=\"1\" class=\"dataframe\">\n",
              "  <thead>\n",
              "    <tr style=\"text-align: right;\">\n",
              "      <th></th>\n",
              "      <th>names</th>\n",
              "      <th>gender</th>\n",
              "      <th>race/ethnicity</th>\n",
              "      <th>parental level of education</th>\n",
              "      <th>lunch</th>\n",
              "      <th>test preparation course</th>\n",
              "      <th>math score</th>\n",
              "      <th>reading score</th>\n",
              "      <th>writing score</th>\n",
              "    </tr>\n",
              "  </thead>\n",
              "  <tbody>\n",
              "    <tr>\n",
              "      <th>0</th>\n",
              "      <td>Rita Courtney</td>\n",
              "      <td>female</td>\n",
              "      <td>group B</td>\n",
              "      <td>some high school</td>\n",
              "      <td>standard</td>\n",
              "      <td>none</td>\n",
              "      <td>3.22</td>\n",
              "      <td>3.76</td>\n",
              "      <td>3.76</td>\n",
              "    </tr>\n",
              "    <tr>\n",
              "      <th>1</th>\n",
              "      <td>Charles Linstrom</td>\n",
              "      <td>male</td>\n",
              "      <td>group A</td>\n",
              "      <td>bachelor's degree</td>\n",
              "      <td>standard</td>\n",
              "      <td>completed</td>\n",
              "      <td>5.80</td>\n",
              "      <td>5.68</td>\n",
              "      <td>5.86</td>\n",
              "    </tr>\n",
              "    <tr>\n",
              "      <th>2</th>\n",
              "      <td>Brian Young</td>\n",
              "      <td>male</td>\n",
              "      <td>group C</td>\n",
              "      <td>some high school</td>\n",
              "      <td>standard</td>\n",
              "      <td>none</td>\n",
              "      <td>5.38</td>\n",
              "      <td>4.96</td>\n",
              "      <td>4.78</td>\n",
              "    </tr>\n",
              "    <tr>\n",
              "      <th>3</th>\n",
              "      <td>Howard Jimenez</td>\n",
              "      <td>male</td>\n",
              "      <td>group E</td>\n",
              "      <td>some high school</td>\n",
              "      <td>standard</td>\n",
              "      <td>completed</td>\n",
              "      <td>5.86</td>\n",
              "      <td>5.50</td>\n",
              "      <td>5.56</td>\n",
              "    </tr>\n",
              "    <tr>\n",
              "      <th>4</th>\n",
              "      <td>Wayne Wilson</td>\n",
              "      <td>male</td>\n",
              "      <td>group B</td>\n",
              "      <td>some high school</td>\n",
              "      <td>standard</td>\n",
              "      <td>completed</td>\n",
              "      <td>6.64</td>\n",
              "      <td>6.16</td>\n",
              "      <td>6.22</td>\n",
              "    </tr>\n",
              "    <tr>\n",
              "      <th>...</th>\n",
              "      <td>...</td>\n",
              "      <td>...</td>\n",
              "      <td>...</td>\n",
              "      <td>...</td>\n",
              "      <td>...</td>\n",
              "      <td>...</td>\n",
              "      <td>...</td>\n",
              "      <td>...</td>\n",
              "      <td>...</td>\n",
              "    </tr>\n",
              "    <tr>\n",
              "      <th>470</th>\n",
              "      <td>Richard Young</td>\n",
              "      <td>male</td>\n",
              "      <td>group D</td>\n",
              "      <td>high school</td>\n",
              "      <td>standard</td>\n",
              "      <td>none</td>\n",
              "      <td>5.14</td>\n",
              "      <td>5.50</td>\n",
              "      <td>5.26</td>\n",
              "    </tr>\n",
              "    <tr>\n",
              "      <th>471</th>\n",
              "      <td>Wanda Russell</td>\n",
              "      <td>female</td>\n",
              "      <td>group B</td>\n",
              "      <td>high school</td>\n",
              "      <td>free/reduced</td>\n",
              "      <td>completed</td>\n",
              "      <td>2.38</td>\n",
              "      <td>3.64</td>\n",
              "      <td>3.16</td>\n",
              "    </tr>\n",
              "    <tr>\n",
              "      <th>472</th>\n",
              "      <td>Marina Zeigler</td>\n",
              "      <td>female</td>\n",
              "      <td>group C</td>\n",
              "      <td>bachelor's degree</td>\n",
              "      <td>free/reduced</td>\n",
              "      <td>completed</td>\n",
              "      <td>4.96</td>\n",
              "      <td>5.44</td>\n",
              "      <td>5.86</td>\n",
              "    </tr>\n",
              "    <tr>\n",
              "      <th>473</th>\n",
              "      <td>Laurie Carter</td>\n",
              "      <td>female</td>\n",
              "      <td>group B</td>\n",
              "      <td>some high school</td>\n",
              "      <td>standard</td>\n",
              "      <td>completed</td>\n",
              "      <td>4.24</td>\n",
              "      <td>4.66</td>\n",
              "      <td>4.72</td>\n",
              "    </tr>\n",
              "    <tr>\n",
              "      <th>474</th>\n",
              "      <td>Amanda Perez</td>\n",
              "      <td>female</td>\n",
              "      <td>group A</td>\n",
              "      <td>high school</td>\n",
              "      <td>standard</td>\n",
              "      <td>completed</td>\n",
              "      <td>5.08</td>\n",
              "      <td>5.80</td>\n",
              "      <td>5.56</td>\n",
              "    </tr>\n",
              "  </tbody>\n",
              "</table>\n",
              "<p>875 rows × 9 columns</p>\n",
              "</div>"
            ],
            "text/plain": [
              "                names  gender  ... reading score writing score\n",
              "0       Rita Courtney  female  ...          3.76          3.76\n",
              "1    Charles Linstrom    male  ...          5.68          5.86\n",
              "2         Brian Young    male  ...          4.96          4.78\n",
              "3      Howard Jimenez    male  ...          5.50          5.56\n",
              "4        Wayne Wilson    male  ...          6.16          6.22\n",
              "..                ...     ...  ...           ...           ...\n",
              "470     Richard Young    male  ...          5.50          5.26\n",
              "471     Wanda Russell  female  ...          3.64          3.16\n",
              "472    Marina Zeigler  female  ...          5.44          5.86\n",
              "473     Laurie Carter  female  ...          4.66          4.72\n",
              "474      Amanda Perez  female  ...          5.80          5.56\n",
              "\n",
              "[875 rows x 9 columns]"
            ]
          },
          "metadata": {},
          "execution_count": 203
        }
      ]
    },
    {
      "cell_type": "markdown",
      "metadata": {
        "id": "MbODyW7swuqp"
      },
      "source": [
        "Resultado esperado:"
      ]
    },
    {
      "cell_type": "code",
      "metadata": {
        "id": "bED3w3tDbSCf",
        "outputId": "e9ebd24d-6134-4b93-cc37-5f98fd5ee042"
      },
      "source": [
        "df_grades"
      ],
      "execution_count": null,
      "outputs": [
        {
          "output_type": "execute_result",
          "data": {
            "text/html": [
              "<div>\n",
              "<style scoped>\n",
              "    .dataframe tbody tr th:only-of-type {\n",
              "        vertical-align: middle;\n",
              "    }\n",
              "\n",
              "    .dataframe tbody tr th {\n",
              "        vertical-align: top;\n",
              "    }\n",
              "\n",
              "    .dataframe thead th {\n",
              "        text-align: right;\n",
              "    }\n",
              "</style>\n",
              "<table border=\"1\" class=\"dataframe\">\n",
              "  <thead>\n",
              "    <tr style=\"text-align: right;\">\n",
              "      <th></th>\n",
              "      <th>names</th>\n",
              "      <th>gender</th>\n",
              "      <th>race/ethnicity</th>\n",
              "      <th>parental level of education</th>\n",
              "      <th>lunch</th>\n",
              "      <th>test preparation course</th>\n",
              "      <th>math score</th>\n",
              "      <th>reading score</th>\n",
              "      <th>writing score</th>\n",
              "    </tr>\n",
              "  </thead>\n",
              "  <tbody>\n",
              "    <tr>\n",
              "      <th>0</th>\n",
              "      <td>Rita Courtney</td>\n",
              "      <td>female</td>\n",
              "      <td>group B</td>\n",
              "      <td>some high school</td>\n",
              "      <td>standard</td>\n",
              "      <td>none</td>\n",
              "      <td>3.22</td>\n",
              "      <td>3.76</td>\n",
              "      <td>3.76</td>\n",
              "    </tr>\n",
              "    <tr>\n",
              "      <th>1</th>\n",
              "      <td>Charles Linstrom</td>\n",
              "      <td>male</td>\n",
              "      <td>group A</td>\n",
              "      <td>bachelor's degree</td>\n",
              "      <td>standard</td>\n",
              "      <td>completed</td>\n",
              "      <td>5.80</td>\n",
              "      <td>5.68</td>\n",
              "      <td>5.86</td>\n",
              "    </tr>\n",
              "    <tr>\n",
              "      <th>2</th>\n",
              "      <td>Brian Young</td>\n",
              "      <td>male</td>\n",
              "      <td>group C</td>\n",
              "      <td>some high school</td>\n",
              "      <td>standard</td>\n",
              "      <td>none</td>\n",
              "      <td>5.38</td>\n",
              "      <td>4.96</td>\n",
              "      <td>4.78</td>\n",
              "    </tr>\n",
              "    <tr>\n",
              "      <th>3</th>\n",
              "      <td>Howard Jimenez</td>\n",
              "      <td>male</td>\n",
              "      <td>group E</td>\n",
              "      <td>some high school</td>\n",
              "      <td>standard</td>\n",
              "      <td>completed</td>\n",
              "      <td>5.86</td>\n",
              "      <td>5.50</td>\n",
              "      <td>5.56</td>\n",
              "    </tr>\n",
              "    <tr>\n",
              "      <th>4</th>\n",
              "      <td>Wayne Wilson</td>\n",
              "      <td>male</td>\n",
              "      <td>group B</td>\n",
              "      <td>some high school</td>\n",
              "      <td>standard</td>\n",
              "      <td>completed</td>\n",
              "      <td>6.64</td>\n",
              "      <td>6.16</td>\n",
              "      <td>6.22</td>\n",
              "    </tr>\n",
              "    <tr>\n",
              "      <th>...</th>\n",
              "      <td>...</td>\n",
              "      <td>...</td>\n",
              "      <td>...</td>\n",
              "      <td>...</td>\n",
              "      <td>...</td>\n",
              "      <td>...</td>\n",
              "      <td>...</td>\n",
              "      <td>...</td>\n",
              "      <td>...</td>\n",
              "    </tr>\n",
              "    <tr>\n",
              "      <th>470</th>\n",
              "      <td>Richard Young</td>\n",
              "      <td>male</td>\n",
              "      <td>group D</td>\n",
              "      <td>high school</td>\n",
              "      <td>standard</td>\n",
              "      <td>none</td>\n",
              "      <td>5.14</td>\n",
              "      <td>5.50</td>\n",
              "      <td>5.26</td>\n",
              "    </tr>\n",
              "    <tr>\n",
              "      <th>471</th>\n",
              "      <td>Wanda Russell</td>\n",
              "      <td>female</td>\n",
              "      <td>group B</td>\n",
              "      <td>high school</td>\n",
              "      <td>free/reduced</td>\n",
              "      <td>completed</td>\n",
              "      <td>2.38</td>\n",
              "      <td>3.64</td>\n",
              "      <td>3.16</td>\n",
              "    </tr>\n",
              "    <tr>\n",
              "      <th>472</th>\n",
              "      <td>Marina Zeigler</td>\n",
              "      <td>female</td>\n",
              "      <td>group C</td>\n",
              "      <td>bachelor's degree</td>\n",
              "      <td>free/reduced</td>\n",
              "      <td>completed</td>\n",
              "      <td>4.96</td>\n",
              "      <td>5.44</td>\n",
              "      <td>5.86</td>\n",
              "    </tr>\n",
              "    <tr>\n",
              "      <th>473</th>\n",
              "      <td>Laurie Carter</td>\n",
              "      <td>female</td>\n",
              "      <td>group B</td>\n",
              "      <td>some high school</td>\n",
              "      <td>standard</td>\n",
              "      <td>completed</td>\n",
              "      <td>4.24</td>\n",
              "      <td>4.66</td>\n",
              "      <td>4.72</td>\n",
              "    </tr>\n",
              "    <tr>\n",
              "      <th>474</th>\n",
              "      <td>Amanda Perez</td>\n",
              "      <td>female</td>\n",
              "      <td>group A</td>\n",
              "      <td>high school</td>\n",
              "      <td>standard</td>\n",
              "      <td>completed</td>\n",
              "      <td>5.08</td>\n",
              "      <td>5.80</td>\n",
              "      <td>5.56</td>\n",
              "    </tr>\n",
              "  </tbody>\n",
              "</table>\n",
              "<p>875 rows × 9 columns</p>\n",
              "</div>"
            ],
            "text/plain": [
              "                names  gender race/ethnicity parental level of education  \\\n",
              "0       Rita Courtney  female        group B            some high school   \n",
              "1    Charles Linstrom    male        group A           bachelor's degree   \n",
              "2         Brian Young    male        group C            some high school   \n",
              "3      Howard Jimenez    male        group E            some high school   \n",
              "4        Wayne Wilson    male        group B            some high school   \n",
              "..                ...     ...            ...                         ...   \n",
              "470     Richard Young    male        group D                 high school   \n",
              "471     Wanda Russell  female        group B                 high school   \n",
              "472    Marina Zeigler  female        group C           bachelor's degree   \n",
              "473     Laurie Carter  female        group B            some high school   \n",
              "474      Amanda Perez  female        group A                 high school   \n",
              "\n",
              "            lunch test preparation course  math score  reading score  \\\n",
              "0        standard                    none        3.22           3.76   \n",
              "1        standard               completed        5.80           5.68   \n",
              "2        standard                    none        5.38           4.96   \n",
              "3        standard               completed        5.86           5.50   \n",
              "4        standard               completed        6.64           6.16   \n",
              "..            ...                     ...         ...            ...   \n",
              "470      standard                    none        5.14           5.50   \n",
              "471  free/reduced               completed        2.38           3.64   \n",
              "472  free/reduced               completed        4.96           5.44   \n",
              "473      standard               completed        4.24           4.66   \n",
              "474      standard               completed        5.08           5.80   \n",
              "\n",
              "     writing score  \n",
              "0             3.76  \n",
              "1             5.86  \n",
              "2             4.78  \n",
              "3             5.56  \n",
              "4             6.22  \n",
              "..             ...  \n",
              "470           5.26  \n",
              "471           3.16  \n",
              "472           5.86  \n",
              "473           4.72  \n",
              "474           5.56  \n",
              "\n",
              "[875 rows x 9 columns]"
            ]
          },
          "metadata": {},
          "execution_count": 4
        }
      ]
    },
    {
      "cell_type": "markdown",
      "metadata": {
        "id": "FpZ4GQJkwuqr"
      },
      "source": [
        "## Análisis de Las Notas v2 [1.5 Puntos]\n",
        "\n",
        "Preocupado por la dificultad que representan los boxplot, el rector le solicita buscar alternativas de visualización la distribución de las notas. \n",
        "\n",
        "Para esto, muestre el [boxplot](https://plotly.com/python/box-plots/) mostrado la clase anterior, utilice un [displot](https://plotly.com/python/distplot/#distplot-with-pandas) como también un [histograma con un gráfico marginal de caja](https://plotly.com/python/histograms/#visualizing-the-distribution) como también un [histograma con el ramo como faceta de fila](https://plotly.com/python/facet-plots/#histogram-facet-grids).\n",
        "\n",
        "Luego, responda las siguientes pregunta: \n",
        "\n",
        "> 1. ¿Existe una diferencia notable entre las notas?\n",
        "\n",
        "> 2. ¿Cuál de los gráficos mostrados cree que es adecuado para mostrarle al rector? ¿Y a los padres? ¿Y a un centro de estudios educativos? ¿Por qué?. Base sus respuestas en lo visto en la clase de visualizaciones como también en lo que usted y su equipo consideren correcto.\n",
        "\n",
        "> Hint: Para elaborar el histograma, puede que le sea de utilidad hacer un `melt` del DataFrame, dejando como variables los ramos y valores las notas. Por otra parte, visiten la documentación para generar los gráficos.\n"
      ]
    },
    {
      "cell_type": "markdown",
      "metadata": {
        "id": "cVXt4rj-wuqr"
      },
      "source": [
        "**Gráfico de Caja:**"
      ]
    },
    {
      "cell_type": "code",
      "metadata": {
        "id": "j8coME3owuqs"
      },
      "source": [
        "def plot_box(df):\n",
        "  fig = go.Figure()\n",
        "  fig.add_trace(go.Box(y=df['math score'],name='Math'))\n",
        "  fig.add_trace(go.Box(y=df['reading score'],name='Reading'))\n",
        "  fig.add_trace(go.Box(y=df['writing score'],name='Writing'))\n",
        "  fig.update_xaxes(title_text=\"Test\")\n",
        "  fig.update_yaxes(title_text=\"Score\")\n",
        "\n",
        "  fig.show()\n",
        "\n",
        "plot_box(df_grades)"
      ],
      "execution_count": null,
      "outputs": []
    },
    {
      "cell_type": "markdown",
      "metadata": {
        "id": "F_G15Nuawuqs"
      },
      "source": [
        "**Distplot:**"
      ]
    },
    {
      "cell_type": "code",
      "metadata": {
        "colab": {
          "base_uri": "https://localhost:8080/",
          "height": 541
        },
        "id": "OIGGfxTswuqs",
        "outputId": "431cc05f-8062-4034-8bb9-4a2c3b99edff"
      },
      "source": [
        "def plot_dist(df):\n",
        "  hist_data = [df['math score'],df['reading score'],df['writing score']]\n",
        "  labels = ['math score','reading score','writing score']\n",
        "\n",
        "  fig = ff.create_distplot(hist_data, labels, show_hist = False, bin_size=.25, show_rug=False)\n",
        "  fig.show()  \n",
        "\n",
        "plot_dist(df_grades)"
      ],
      "execution_count": 225,
      "outputs": [
        {
          "output_type": "display_data",
          "data": {
            "text/html": [
              "<html>\n",
              "<head><meta charset=\"utf-8\" /></head>\n",
              "<body>\n",
              "    <div>\n",
              "            <script src=\"https://cdnjs.cloudflare.com/ajax/libs/mathjax/2.7.5/MathJax.js?config=TeX-AMS-MML_SVG\"></script><script type=\"text/javascript\">if (window.MathJax) {MathJax.Hub.Config({SVG: {font: \"STIX-Web\"}});}</script>\n",
              "                <script type=\"text/javascript\">window.PlotlyConfig = {MathJaxConfig: 'local'};</script>\n",
              "        <script src=\"https://cdn.plot.ly/plotly-latest.min.js\"></script>    \n",
              "            <div id=\"ab795d4d-cee8-4023-90e8-900105c2f2be\" class=\"plotly-graph-div\" style=\"height:525px; width:100%;\"></div>\n",
              "            <script type=\"text/javascript\">\n",
              "                \n",
              "                    window.PLOTLYENV=window.PLOTLYENV || {};\n",
              "                    \n",
              "                if (document.getElementById(\"ab795d4d-cee8-4023-90e8-900105c2f2be\")) {\n",
              "                    Plotly.newPlot(\n",
              "                        'ab795d4d-cee8-4023-90e8-900105c2f2be',\n",
              "                        [{\"legendgroup\": \"math score\", \"marker\": {\"color\": \"rgb(31, 119, 180)\"}, \"mode\": \"lines\", \"name\": \"math score\", \"showlegend\": true, \"type\": \"scatter\", \"x\": [1.0, 1.012, 1.024, 1.036, 1.048, 1.06, 1.072, 1.084, 1.096, 1.108, 1.12, 1.1320000000000001, 1.144, 1.156, 1.168, 1.18, 1.192, 1.204, 1.216, 1.228, 1.24, 1.252, 1.264, 1.276, 1.288, 1.3, 1.312, 1.324, 1.336, 1.3479999999999999, 1.3599999999999999, 1.3719999999999999, 1.384, 1.396, 1.408, 1.42, 1.432, 1.444, 1.456, 1.468, 1.48, 1.492, 1.504, 1.516, 1.528, 1.54, 1.552, 1.564, 1.576, 1.588, 1.6, 1.612, 1.624, 1.6360000000000001, 1.6480000000000001, 1.6600000000000001, 1.6720000000000002, 1.6840000000000002, 1.696, 1.708, 1.72, 1.732, 1.744, 1.756, 1.768, 1.78, 1.792, 1.804, 1.8159999999999998, 1.8279999999999998, 1.8399999999999999, 1.8519999999999999, 1.8639999999999999, 1.876, 1.888, 1.9, 1.912, 1.924, 1.936, 1.948, 1.96, 1.972, 1.984, 1.996, 2.008, 2.02, 2.032, 2.044, 2.056, 2.068, 2.08, 2.092, 2.104, 2.116, 2.128, 2.1399999999999997, 2.152, 2.1639999999999997, 2.176, 2.1879999999999997, 2.2, 2.2119999999999997, 2.224, 2.2359999999999998, 2.248, 2.26, 2.2720000000000002, 2.284, 2.2960000000000003, 2.308, 2.3200000000000003, 2.332, 2.3440000000000003, 2.356, 2.3680000000000003, 2.38, 2.392, 2.404, 2.416, 2.428, 2.44, 2.452, 2.464, 2.476, 2.488, 2.5, 2.512, 2.524, 2.536, 2.548, 2.56, 2.572, 2.584, 2.596, 2.608, 2.62, 2.6319999999999997, 2.644, 2.6559999999999997, 2.668, 2.6799999999999997, 2.692, 2.7039999999999997, 2.716, 2.7279999999999998, 2.74, 2.752, 2.7640000000000002, 2.776, 2.7880000000000003, 2.8, 2.8120000000000003, 2.824, 2.8360000000000003, 2.848, 2.8600000000000003, 2.872, 2.884, 2.896, 2.908, 2.92, 2.932, 2.944, 2.956, 2.968, 2.98, 2.992, 3.004, 3.016, 3.028, 3.04, 3.052, 3.064, 3.076, 3.088, 3.1, 3.112, 3.124, 3.136, 3.148, 3.16, 3.172, 3.184, 3.196, 3.208, 3.22, 3.232, 3.244, 3.256, 3.268, 3.28, 3.292, 3.304, 3.316, 3.328, 3.34, 3.352, 3.364, 3.376, 3.388, 3.4, 3.412, 3.424, 3.436, 3.448, 3.46, 3.472, 3.484, 3.496, 3.508, 3.52, 3.532, 3.544, 3.556, 3.568, 3.58, 3.592, 3.604, 3.616, 3.628, 3.64, 3.652, 3.664, 3.676, 3.688, 3.7, 3.712, 3.724, 3.736, 3.748, 3.76, 3.772, 3.784, 3.796, 3.808, 3.82, 3.832, 3.844, 3.856, 3.868, 3.88, 3.892, 3.904, 3.916, 3.928, 3.94, 3.952, 3.964, 3.976, 3.988, 4.0, 4.0120000000000005, 4.024, 4.036, 4.048, 4.0600000000000005, 4.072, 4.084, 4.096, 4.1080000000000005, 4.12, 4.132, 4.144, 4.156000000000001, 4.168, 4.18, 4.192, 4.204000000000001, 4.216, 4.228, 4.24, 4.252, 4.263999999999999, 4.276, 4.288, 4.3, 4.311999999999999, 4.324, 4.336, 4.348, 4.359999999999999, 4.372, 4.384, 4.396, 4.4079999999999995, 4.42, 4.432, 4.444, 4.4559999999999995, 4.468, 4.48, 4.492, 4.504, 4.516, 4.5280000000000005, 4.54, 4.552, 4.564, 4.5760000000000005, 4.588, 4.6, 4.612, 4.6240000000000006, 4.636, 4.648, 4.66, 4.672000000000001, 4.684, 4.696, 4.708, 4.720000000000001, 4.732, 4.744, 4.756, 4.768, 4.779999999999999, 4.792, 4.804, 4.816, 4.827999999999999, 4.84, 4.852, 4.864, 4.8759999999999994, 4.888, 4.9, 4.912, 4.9239999999999995, 4.936, 4.948, 4.96, 4.9719999999999995, 4.984, 4.996, 5.008, 5.02, 5.032, 5.044, 5.056, 5.068, 5.08, 5.092, 5.104, 5.116, 5.128, 5.14, 5.152, 5.164, 5.176, 5.188, 5.2, 5.212, 5.224, 5.236, 5.248, 5.26, 5.272, 5.284, 5.296, 5.308, 5.32, 5.332, 5.344, 5.356, 5.368, 5.38, 5.392, 5.404, 5.416, 5.428, 5.44, 5.452, 5.464, 5.476, 5.488, 5.5, 5.512, 5.524, 5.536, 5.548, 5.56, 5.572, 5.584, 5.596, 5.608, 5.62, 5.632, 5.644, 5.656, 5.668, 5.68, 5.692, 5.704, 5.716, 5.728, 5.74, 5.752, 5.764, 5.776, 5.788, 5.8, 5.812, 5.824, 5.836, 5.848, 5.86, 5.872, 5.884, 5.896, 5.908, 5.92, 5.932, 5.944, 5.956, 5.968, 5.98, 5.992, 6.004, 6.016, 6.028, 6.04, 6.052, 6.064, 6.076, 6.088, 6.1, 6.112, 6.124, 6.136, 6.148, 6.16, 6.172, 6.184, 6.196, 6.208, 6.22, 6.232, 6.244, 6.256, 6.268, 6.28, 6.292, 6.304, 6.316, 6.328, 6.34, 6.352, 6.364, 6.376, 6.388, 6.4, 6.412, 6.424, 6.436, 6.448, 6.46, 6.472, 6.484, 6.496, 6.508, 6.52, 6.532, 6.544, 6.556, 6.568, 6.58, 6.592, 6.604, 6.616, 6.628, 6.64, 6.652, 6.664, 6.676, 6.688, 6.7, 6.712, 6.724, 6.736, 6.748, 6.76, 6.772, 6.784, 6.796, 6.808, 6.82, 6.832, 6.844, 6.856, 6.868, 6.88, 6.892, 6.904, 6.916, 6.928, 6.94, 6.952, 6.964, 6.976, 6.988], \"xaxis\": \"x\", \"y\": [0.0021893426311372644, 0.002212717268114832, 0.0022330432624945236, 0.0022504504847502124, 0.0022650980215095325, 0.00227717113629176, 0.00228687773598313, 0.0022944444059263282, 0.0023001120871604815, 0.002304131478599249, 0.0023067582545267615, 0.0023082481935100094, 0.0023088523185013066, 0.002308812149412929, 0.002308355168717828, 0.0023076905976494575, 0.0023070055753798896, 0.002306461826242967, 0.0023061928907853976, 0.002306301985369878, 0.0023068605424612088, 0.0023079074698780125, 0.0023094491524991434, 0.0023114602045087064, 0.002313884964594803, 0.002316639710938746, 0.002319615557694425, 0.0023226819803006207, 0.0023256909037110878, 0.0023284812757584897, 0.002330884037644286, 0.0023327273951817603, 0.002333842288082324, 0.0023340679503855337, 0.0023332574531593573, 0.0023312831208556224, 0.0023280417151618354, 0.0023234592847610792, 0.002317495585967436, 0.002310147987575053, 0.002301454783238418, 0.0022914978460541824, 0.002280404572482278, 0.002268349076051975, 0.0022555526051637738, 0.002242283173436102, 0.002228854405176923, 0.002215623612416238, 0.0022029891332641756, 0.0021913869739305335, 0.0021812868083498174, 0.0021731873998236274, 0.002167611518271759, 0.0021651004344577047, 0.002166208078836616, 0.0021714949574078665, 0.0021815219201117547, 0.00219684387888904, 0.0022180035725453935, 0.0022455254740743934, 0.002279909933155545, 0.002321627642237147, 0.0023711145090308753, 0.0024287670114906145, 0.0024949381035368257, 0.002569933731042513, 0.002654010008047081, 0.002747371092945688, 0.0028501677936546496, 0.002962496919622901, 0.0030844013871943843, 0.003215871073378607, 0.0033568444017104686, 0.0035072106327320167, 0.0036668128208634907, 0.003835451389203271, 0.004012888264256876, 0.0041988515038888985, 0.004393040344055486, 0.004595130583233919, 0.004804780218032265, 0.005021635239330776, 0.005245335495553348, 0.005475520528347157, 0.005711835286092006, 0.005953935622274761, 0.006201493488830513, 0.006454201739027018, 0.0067117784602849714, 0.006973970764394786, 0.007240557970799983, 0.007511354127842022, 0.007786209826959678, 0.008065013275658216, 0.008347690606451621, 0.008634205410775041, 0.008924557498906213, 0.009218780899067297, 0.009516941120953986, 0.009819131720813529, 0.010125470216737532, 0.010436093413919226, 0.010751152210138587, 0.01107080596156545, 0.011395216498011654, 0.011724541884911135, 0.01205893003646501, 0.012398512290448272, 0.012743397060036679, 0.013093663681559347, 0.013449356579207969, 0.01381047986831333, 0.014176992517724227, 0.014548804188969953, 0.014925771865156777, 0.015307697375838807, 0.015694325915348483, 0.016085345641216792, 0.01648038842635401, 0.016879031823622, 0.017280802284392636, 0.017685179653786926, 0.01809160294472086, 0.018499477370903947, 0.018908182595865786, 0.01931708213130627, 0.019725533794013633, 0.02013290110676142, 0.020538565505505427, 0.020941939193410374, 0.021342478462310226, 0.021739697284707135, 0.022133180964882822, 0.022522599626634204, 0.02290772130799188, 0.023288424430404117, 0.023664709411540866, 0.02403670919726357, 0.02440469849946435, 0.024769101542333367, 0.0251304981399612, 0.025489627952700947, 0.025847392797946706, 0.02620485692237658, 0.026563245176591133, 0.026923939068716735, 0.02728847071012964, 0.02765851470315632, 0.028035878056561013, 0.028422488249011498, 0.028820379592714624, 0.029231678078307018, 0.029658584907223843, 0.030103358938617243, 0.03056829829403744, 0.03105572137425273, 0.03156794754862875, 0.03210727777843039, 0.032675975431395075, 0.033276247536247895, 0.03391022671288346, 0.03457995399723694, 0.03528736275999388, 0.0360342638958885, 0.036822332436088547, 0.03765309571074591, 0.03852792316286733, 0.03944801788884793, 0.04041440995587246, 0.04142795152239801, 0.042489313765469376, 0.043598985597969375, 0.04475727414024083, 0.04596430689390987, 0.04722003555116955, 0.048524241360138165, 0.049876541956012176, 0.05127639955836349, 0.05272313042682677, 0.054215915460318856, 0.05575381181857623, 0.05733576543896736, 0.05896062431606427, 0.06062715240622955, 0.06233404401446365, 0.06407993851600026, 0.06586343526075542, 0.06768310850492765, 0.06953752221106205, 0.0714252445560338, 0.07334486198601176, 0.07529499265887106, 0.0772742991180515, 0.07928150004780833, 0.08131538096839105, 0.0833748037410628, 0.08545871476709598, 0.08756615178188193, 0.08969624916490464, 0.09184824170825125, 0.0940214668101646, 0.09621536508536664, 0.098429479409897, 0.10066345244435679, 0.10291702270500779, 0.10519001927643225, 0.10748235528170584, 0.10979402024561521, 0.1121250715027789, 0.11447562481513866, 0.11684584437182056, 0.11923593234862029, 0.12164611820430793, 0.12407664788668617, 0.12652777311315702, 0.12899974087889607, 0.1314927833311693, 0.13400710813154337, 0.13654288940951673, 0.1391002593922607, 0.14167930077655067, 0.1442800398914225, 0.14690244068436273, 0.14954639955061674, 0.15221174101500293, 0.15489821426885225, 0.15760549056154055, 0.16033316144654944, 0.16308073788588812, 0.16584765022361753, 0.16863324904854313, 0.17143680697711186, 0.17425752139923814, 0.1770945182411584, 0.17994685680937397, 0.18281353578715948, 0.18569350045889144, 0.1885856512365771, 0.19148885355653752, 0.19440194920154574, 0.1973237690843352, 0.20025314750209078, 0.20318893783838227, 0.20613002964941443, 0.20907536702614893, 0.2120239680738703, 0.21497494529743602, 0.2179275266253963, 0.22088107675122642, 0.22383511841709763, 0.2267893532170273, 0.2297436814540718, 0.23269822055253728, 0.23565332150299148, 0.2386095828069065, 0.24156786139057457, 0.24452927997560037, 0.24749523042650642, 0.25046737264503005, 0.25344762864523174, 0.25643817152278936, 0.2594414091244695, 0.26245996232788904, 0.26549663795500045, 0.2685543964625047, 0.2716363146755386, 0.2747455439541759, 0.27788526430205623, 0.28105863503928896, 0.2842687427642403, 0.287518547417684, 0.29081082733513025, 0.2941481242264462, 0.2975326890541454, 0.3009664297915137, 0.30445086202831984, 0.3079870633550925, 0.31157563239745495, 0.3152166532910939, 0.3189096662874884, 0.3226536450631041, 0.3264469811733945, 0.33028747595109675, 0.33417233999974616, 0.3380982002820187, 0.3420611146524501, 0.34605659353925133, 0.35007962834409956, 0.3541247260053735, 0.3581859490623806, 0.36225696046825245, 0.36633107232927586, 0.370401297699875, 0.37446040453592927, 0.37850097090462415, 0.3825154405659757, 0.3864961780783222, 0.3904355226356305, 0.394325839916198, 0.3981595713075572, 0.4019292799681627, 0.40562769328961407, 0.4092477414305182, 0.41278259170137055, 0.4162256786859479, 0.41957073008576895, 0.42281178836756006, 0.4259432283771384, 0.42895977115485207, 0.43185649424632305, 0.4346288388468248, 0.4372726141477894, 0.4397839992697159, 0.44215954316767847, 0.44439616288463824, 0.4464911405051171, 0.44844211912911014, 0.450247098145251, 0.4519044280351811, 0.4534128048899537, 0.45477126476624213, 0.4559791779572278, 0.4570362432022945, 0.4579424818128481, 0.4586982316503372, 0.459304140858159, 0.4597611612226342, 0.46007054102032796, 0.4602338172000431, 0.4602528067478459, 0.4601295970922252, 0.4598665354233308, 0.4594662168243195, 0.4589314711430555, 0.45826534856746864, 0.45747110390632995, 0.4565521796175225, 0.45551218766650664, 0.4543548903370465, 0.45308418015290103, 0.4517040591017264, 0.45021861737969476, 0.4486320118963102, 0.4469484447928352, 0.4451721422341354, 0.4433073337323726, 0.4413582322518522, 0.43932901532782065, 0.43722380740863, 0.43504666360130423, 0.4328015549661255, 0.4304923554676519, 0.4281228306488238, 0.42569662805300496, 0.42321726937728155, 0.42068814430059664, 0.41811250589363297, 0.4154934674850621, 0.41283400083188543, 0.4101369354210744, 0.40740495871615673, 0.40464061715632205, 0.4018463177170894, 0.3990243298505936, 0.3961767876396226, 0.39330569202215493, 0.39041291297131975, 0.38750019154845533, 0.38456914178293905, 0.38162125237035005, 0.3786578882188115, 0.37568029191052144, 0.3726895851799805, 0.3696867705408589, 0.36667273321840393, 0.36364824356264996, 0.36061396012842306, 0.3575704336105276, 0.3545181118160518, 0.3514573458402702, 0.3483883975882898, 0.3453114487517592, 0.3422266113094651, 0.3391339395734143, 0.3360334437494083, 0.3329251049246556, 0.3298088913363765, 0.32668477571647675, 0.32355275345020346, 0.3204128612331801, 0.31726519586335916, 0.31410993276405125, 0.3109473438030483, 0.30777781395238923, 0.30460185632483555, 0.3014201251274637, 0.2982334260905722, 0.2950427239614838, 0.29184914669760664, 0.28865398605063286, 0.28545869430302173, 0.2822648769974551, 0.2790742815880457, 0.2758887820365887, 0.27271035947578365, 0.2695410791614882, 0.2663830640351373, 0.263238465312624, 0.26010943060461594, 0.25699807015278686, 0.2539064218344558, 0.25083641564244735, 0.24778983838587196, 0.24476829937947195, 0.24177319789330193, 0.23880569312020553, 0.2358666773858567, 0.2329567532754905, 0.23007621528385278, 0.2272250365117407, 0.2244028608356794, 0.22160900086900734, 0.21884244191544047, 0.21610185199289728, 0.21338559787888126, 0.21069176700210973, 0.20801819488134257, 0.205362497694461, 0.20272210945150185, 0.20009432314714287, 0.19747633518321628, 0.1948652922820993, 0.19225834005870177, 0.18965267238329206, 0.1870455806500787, 0.18443450206747158, 0.18181706610488166, 0.17919113826707672, 0.1765548604193227, 0.17390668695335817, 0.1712454161638669, 0.16857021629559457, 0.16588064582038034, 0.16317666760892593, 0.160458656771765, 0.1577274020553643, 0.15498410079033162, 0.1522303474972848, 0.14946811636005636, 0.1466997378739068, 0.1439278700667247, 0.14115546477259544, 0.13838572950854322, 0.13562208556599373, 0.132868122977961, 0.1301275530609174, 0.1274041592566041, 0.12470174701383971, 0.12202409345392827, 0.11937489755600152, 0.11675773158104853, 0.11417599442617106, 0.11163286756441414, 0.10913127418112953, 0.10667384206605714, 0.10426287076193115, 0.10190030340632193, 0.09958770363443097, 0.09732623783755925, 0.09511666299579918, 0.09295932022509557, 0.0908541340990203, 0.08880061772536058, 0.08679788347782688, 0.08484465920481048, 0.08293930966107636, 0.08107986283557504, 0.07926404078010918, 0.07748929448038817, 0.07575284225395057, 0.07405171110944714, 0.07238278045965858, 0.07074282754717505, 0.06912857391751069, 0.06753673226014387, 0.06596405293394936, 0.06440736949999595, 0.06286364260177145, 0.061330001560500134, 0.05980378309099658, 0.058282566590984256, 0.056764205513282304, 0.055246854394858096, 0.05372899118836378, 0.052209434619227814, 0.050687356373242995, 0.04916228800444375, 0.047634122539292466, 0.04610311083921499, 0.0445698528676973], \"yaxis\": \"y\"}, {\"legendgroup\": \"reading score\", \"marker\": {\"color\": \"rgb(255, 127, 14)\"}, \"mode\": \"lines\", \"name\": \"reading score\", \"showlegend\": true, \"type\": \"scatter\", \"x\": [2.02, 2.02996, 2.03992, 2.04988, 2.05984, 2.0698, 2.07976, 2.08972, 2.09968, 2.10964, 2.1196, 2.12956, 2.13952, 2.14948, 2.15944, 2.1694, 2.17936, 2.18932, 2.19928, 2.20924, 2.2192, 2.2291600000000003, 2.23912, 2.24908, 2.25904, 2.269, 2.27896, 2.28892, 2.29888, 2.30884, 2.3188, 2.32876, 2.33872, 2.34868, 2.3586400000000003, 2.3686, 2.3785600000000002, 2.38852, 2.39848, 2.40844, 2.4184, 2.42836, 2.43832, 2.44828, 2.45824, 2.4682, 2.47816, 2.48812, 2.49808, 2.5080400000000003, 2.5180000000000002, 2.52796, 2.53792, 2.54788, 2.55784, 2.5678, 2.57776, 2.58772, 2.59768, 2.60764, 2.6176, 2.62756, 2.6375200000000003, 2.64748, 2.6574400000000002, 2.6674, 2.67736, 2.68732, 2.69728, 2.70724, 2.7172, 2.72716, 2.73712, 2.74708, 2.75704, 2.7670000000000003, 2.77696, 2.7869200000000003, 2.7968800000000003, 2.8068400000000002, 2.8168, 2.82676, 2.83672, 2.84668, 2.85664, 2.8666, 2.87656, 2.88652, 2.89648, 2.90644, 2.9164000000000003, 2.9263600000000003, 2.9363200000000003, 2.9462800000000002, 2.95624, 2.9662, 2.97616, 2.98612, 2.99608, 3.00604, 3.016, 3.02596, 3.03592, 3.0458800000000004, 3.05584, 3.0658000000000003, 3.07576, 3.0857200000000002, 3.0956799999999998, 3.10564, 3.1156, 3.12556, 3.13552, 3.14548, 3.15544, 3.1654, 3.1753600000000004, 3.18532, 3.1952800000000003, 3.20524, 3.2152000000000003, 3.22516, 3.23512, 3.24508, 3.25504, 3.265, 3.27496, 3.28492, 3.29488, 3.3048400000000004, 3.3148, 3.3247600000000004, 3.33472, 3.3446800000000003, 3.35464, 3.3646000000000003, 3.3745600000000002, 3.38452, 3.3944799999999997, 3.40444, 3.4144, 3.42436, 3.4343200000000005, 3.44428, 3.4542400000000004, 3.4642, 3.4741600000000004, 3.48412, 3.4940800000000003, 3.5040400000000003, 3.5140000000000002, 3.5239599999999998, 3.53392, 3.54388, 3.55384, 3.5638000000000005, 3.57376, 3.58372, 3.59368, 3.6036400000000004, 3.6136, 3.6235600000000003, 3.6335200000000003, 3.6434800000000003, 3.65344, 3.6634, 3.67336, 3.68332, 3.69328, 3.70324, 3.7132, 3.72316, 3.7331200000000004, 3.74308, 3.7530400000000004, 3.7630000000000003, 3.7729600000000003, 3.78292, 3.7928800000000003, 3.80284, 3.8128, 3.82276, 3.83272, 3.84268, 3.85264, 3.8626000000000005, 3.87256, 3.8825200000000004, 3.89248, 3.9024400000000004, 3.9124, 3.9223600000000003, 3.9323200000000003, 3.9422800000000002, 3.95224, 3.9622, 3.97216, 3.98212, 3.99208, 4.00204, 4.0120000000000005, 4.02196, 4.0319199999999995, 4.04188, 4.05184, 4.0618, 4.07176, 4.081720000000001, 4.09168, 4.10164, 4.111600000000001, 4.121560000000001, 4.13152, 4.14148, 4.15144, 4.1614, 4.17136, 4.18132, 4.191280000000001, 4.20124, 4.2112, 4.22116, 4.231120000000001, 4.24108, 4.25104, 4.261, 4.2709600000000005, 4.28092, 4.29088, 4.30084, 4.3108, 4.32076, 4.33072, 4.340680000000001, 4.35064, 4.3606, 4.37056, 4.380520000000001, 4.39048, 4.40044, 4.4104, 4.4203600000000005, 4.43032, 4.44028, 4.450240000000001, 4.4602, 4.47016, 4.48012, 4.490080000000001, 4.50004, 4.51, 4.51996, 4.529920000000001, 4.53988, 4.54984, 4.5598, 4.5697600000000005, 4.57972, 4.58968, 4.599640000000001, 4.6096, 4.61956, 4.62952, 4.63948, 4.64944, 4.6594, 4.66936, 4.679320000000001, 4.68928, 4.69924, 4.709200000000001, 4.7191600000000005, 4.72912, 4.73908, 4.749040000000001, 4.759, 4.76896, 4.77892, 4.788880000000001, 4.79884, 4.8088, 4.81876, 4.828720000000001, 4.83868, 4.8486400000000005, 4.858600000000001, 4.86856, 4.87852, 4.88848, 4.89844, 4.9084, 4.91836, 4.92832, 4.938280000000001, 4.94824, 4.9582, 4.96816, 4.9781200000000005, 4.98808, 4.9980400000000005, 5.008000000000001, 5.01796, 5.02792, 5.0378799999999995, 5.047840000000001, 5.0578, 5.06776, 5.07772, 5.087680000000001, 5.09764, 5.107600000000001, 5.117560000000001, 5.1275200000000005, 5.13748, 5.14744, 5.1574, 5.16736, 5.17732, 5.18728, 5.197240000000001, 5.2072, 5.21716, 5.22712, 5.237080000000001, 5.24704, 5.257000000000001, 5.266960000000001, 5.2769200000000005, 5.28688, 5.2968399999999995, 5.306800000000001, 5.31676, 5.32672, 5.33668, 5.346640000000001, 5.3566, 5.36656, 5.376520000000001, 5.386480000000001, 5.39644, 5.4064, 5.41636, 5.4263200000000005, 5.43628, 5.44624, 5.456200000000001, 5.46616, 5.47612, 5.48608, 5.496040000000001, 5.506, 5.515960000000001, 5.52592, 5.535880000000001, 5.54584, 5.5558, 5.56576, 5.5757200000000005, 5.58568, 5.59564, 5.605600000000001, 5.61556, 5.62552, 5.635480000000001, 5.645440000000001, 5.6554, 5.66536, 5.67532, 5.6852800000000006, 5.69524, 5.7052000000000005, 5.715160000000001, 5.72512, 5.73508, 5.74504, 5.755000000000001, 5.76496, 5.774920000000001, 5.78488, 5.794840000000001, 5.8048, 5.81476, 5.82472, 5.8346800000000005, 5.84464, 5.8546000000000005, 5.864560000000001, 5.87452, 5.88448, 5.89444, 5.904400000000001, 5.91436, 5.92432, 5.93428, 5.944240000000001, 5.9542, 5.96416, 5.974120000000001, 5.9840800000000005, 5.99404, 6.0040000000000004, 6.013960000000001, 6.02392, 6.03388, 6.043839999999999, 6.053800000000001, 6.06376, 6.07372, 6.083680000000001, 6.093640000000001, 6.1036, 6.11356, 6.123520000000001, 6.1334800000000005, 6.14344, 6.153400000000001, 6.163360000000001, 6.17332, 6.18328, 6.193240000000001, 6.203200000000001, 6.21316, 6.2231200000000015, 6.233079999999999, 6.243040000000001, 6.253, 6.26296, 6.272920000000001, 6.2828800000000005, 6.29284, 6.3027999999999995, 6.312760000000001, 6.32272, 6.33268, 6.342640000000001, 6.352600000000001, 6.36256, 6.37252, 6.382480000000001, 6.392440000000001, 6.4024, 6.412360000000001, 6.422320000000001, 6.43228, 6.44224, 6.452200000000001, 6.462160000000001, 6.47212, 6.48208, 6.492039999999999, 6.502000000000001, 6.51196, 6.52192, 6.531879999999999, 6.5418400000000005, 6.5518, 6.56176, 6.571720000000001, 6.58168, 6.59164, 6.601600000000001, 6.611560000000001, 6.62152, 6.63148, 6.641440000000001, 6.651400000000001, 6.66136, 6.6713200000000015, 6.681280000000001, 6.6912400000000005, 6.7012, 6.711160000000001, 6.721120000000001, 6.73108, 6.74104, 6.7509999999999994, 6.760960000000001, 6.77092, 6.78088, 6.790839999999999, 6.800800000000001, 6.81076, 6.82072, 6.830680000000001, 6.8406400000000005, 6.8506, 6.8605599999999995, 6.870520000000001, 6.88048, 6.89044, 6.900400000000001, 6.910360000000001, 6.92032, 6.9302800000000016, 6.940240000000001, 6.950200000000001, 6.96016, 6.970120000000001, 6.980080000000001, 6.9900400000000005], \"xaxis\": \"x\", \"y\": [0.0034804475800041777, 0.003601170840855263, 0.003725340805192886, 0.003853147199005073, 0.003984779640108403, 0.004120425117749597, 0.004260265384794972, 0.0044044743008839335, 0.004553215167132806, 0.004706638094498752, 0.004864877448697272, 0.005028049414571306, 0.005196249722012895, 0.005369551573932643, 0.00554800381436805, 0.005731629371647663, 0.005920424007629233, 0.00611435539946806, 0.006313362575224788, 0.006517355718982096, 0.0067262163551108966, 0.006939797915024399, 0.0071579266833054446, 0.007380403113616753, 0.007607003498435753, 0.007837481970526585, 0.008071572808296885, 0.008308993011907453, 0.008549445112320031, 0.008792620171480404, 0.009038200928626927, 0.009285865045356927, 0.009535288400625229, 0.009786148386322871, 0.010038127154501088, 0.010290914768656496, 0.010544212213750636, 0.010797734222749803, 0.011051211881376222, 0.011304394977371138, 0.011557054065789775, 0.011808982227564394, 0.012059996504664033, 0.012309939001521272, 0.012558677648854173, 0.012806106632452846, 0.013052146495794168, 0.013296743931367606, 0.013539871281221933, 0.013781525772368308, 0.014021728517202741, 0.01426052331295953, 0.01449797527730923, 0.014734169359522705, 0.014969208768102977, 0.01520321335642617, 0.015436318007735607, 0.015668671059818062, 0.01590043280789648, 0.016131774121749216, 0.016362875209875893, 0.01659392455975102, 0.01682511807892088, 0.017056658457000225, 0.017288754763608482, 0.017521622292048598, 0.017755482653176807, 0.017990564118533545, 0.018227102206502057, 0.018465340500118867, 0.01870553168026365, 0.018947938753380997, 0.019192836448698375, 0.01944051275616254, 0.01969127057306851, 0.01994542942463793, 0.020203327221647402, 0.02046532201663048, 0.020731793719187937, 0.021003145730543602, 0.021279806457667895, 0.021562230668046457, 0.02185090064747508, 0.022146327125089873, 0.022449049932161135, 0.022759638363956426, 0.0230786912171749, 0.023406836479028775, 0.023744730647956513, 0.024093057670151154, 0.024452527480528872, 0.024823874141401855, 0.025207853576908162, 0.02560524090614093, 0.026016827382864628, 0.02644341695465877, 0.026885822459243314, 0.02734486148056934, 0.02782135189195987, 0.028316107118112943, 0.028829931152091946, 0.029363613367486007, 0.029917923169684488, 0.030493604533639276, 0.031091370478550484, 0.031711897532571344, 0.03235582024285378, 0.03302372578802566, 0.03371614875146466, 0.034433566114503426, 0.035176392528931365, 0.03594497592784232, 0.03673959353298917, 0.037560448315343054, 0.03840766596349772, 0.03928129241190803, 0.04018129197770131, 0.04110754615095012, 0.04205985307885311, 0.043037927779242965, 0.04404140311324737, 0.045069831540779134, 0.04612268767586941, 0.04719937165169263, 0.04829921329752758, 0.04942147712188355, 0.050565368087662474, 0.051730038156585834, 0.05291459357126544, 0.05411810283431984, 0.05533960533492563, 0.05657812056424866, 0.05783265785242143, 0.05910222655125111, 0.060385846578758035, 0.061682559234103894, 0.06299143818457488, 0.06431160052019394, 0.06564221776634349, 0.06698252674063236, 0.06833184013723702, 0.0696895567201993, 0.07105517100675544, 0.07242828232279211, 0.07380860311502178, 0.07519596640848285, 0.0765903323035282, 0.07799179341353739, 0.07940057915316788, 0.08081705879696707, 0.08224174323953466, 0.08367528540102527, 0.08511847923550239, 0.08657225731431392, 0.0880376869721038, 0.08951596501908704, 0.09100841103959767, 0.09251645931344461, 0.09404164941304505, 0.09558561554542297, 0.09715007472371576, 0.09873681386761217, 0.10034767594591021, 0.10198454528694807, 0.10364933219381824, 0.10534395701085911, 0.10707033379578923, 0.10883035375787542, 0.11062586862661308, 0.11245867411749126, 0.1143304936614648, 0.11624296256276409, 0.11819761274566085, 0.12019585824483194, 0.12223898158608862, 0.1243281211945927, 0.1264642599563763, 0.12864821504617077, 0.1308806291204175, 0.13316196295904215, 0.1354924896233432, 0.13787229018037916, 0.14030125102674218, 0.14277906282682543, 0.14530522106283145, 0.14787902817605397, 0.15049959726163206, 0.15316585726222248, 0.1558765595900649, 0.15863028609195276, 0.16142545825780252, 0.1642603475610656, 0.16713308680823513, 0.17004168236537398, 0.17298402712196895, 0.17595791404664954, 0.17896105018544034, 0.1819910709512964, 0.18504555455370786, 0.1881220364191733, 0.19121802345727, 0.19433100803283304, 0.19745848151233547, 0.20059794726176802, 0.2037469329840554, 0.2069030022961272, 0.21006376545897823, 0.21322688918822066, 0.21639010548750845, 0.2195512194625437, 0.22270811608891197, 0.22585876592248902, 0.2290012297563272, 0.2321336622425079, 0.2352543145112248, 0.2383615358320442, 0.24145377437370635, 0.24452957712876666, 0.2475875890776596, 0.2506265516732965, 0.25364530073194586, 0.2566427638188689, 0.25961795721795244, 0.2625699825734536, 0.2654980232889673, 0.26840134076400723, 0.2712792705422758, 0.2741312184379781, 0.2769566566976279, 0.27975512024495514, 0.28252620304600734, 0.2852695546206442, 0.2879848767156281, 0.2906719201437371, 0.2933304817830362, 0.2959604017209484, 0.29856156051929317, 0.3011338765692909, 0.3036773034998359, 0.3061918275983109, 0.3086774652009672, 0.31113426000954336, 0.3135622802923341, 0.3159616159313941, 0.3183323752828682, 0.3206746818245082, 0.3229886705731098, 0.32527448426465705, 0.32753226930123447, 0.3297621714809142, 0.33196433153960575, 0.3341388805469314, 0.33628593521122085, 0.338405593161381, 0.340497928285307, 0.342562986215351, 0.3446007800608019, 0.34661128649504225, 0.3485944423107416, 0.3505501415598779, 0.3524782333962988, 0.35437852073678877, 0.3562507598520378, 0.3580946609914533, 0.359909890135361, 0.36169607195485015, 0.36345279404341063, 0.36517961246571423, 0.36687605864763556, 0.3685416476081222, 0.37017588750813996, 0.3717782904650012, 0.37334838455235164, 0.37488572687739014, 0.37638991759806256, 0.37786061471449384, 0.37929754944140187, 0.38070054194220565, 0.38206951718162574, 0.38340452063230385, 0.38470573355294524, 0.38597348754122085, 0.3872082780546783, 0.3884107765876321, 0.38958184119184286, 0.39072252503405747, 0.39183408269442455, 0.392917973926542, 0.3939758646225087, 0.39500962475476165, 0.3960213231005252, 0.3970132185940735, 0.39798774819633953, 0.3989475112201326, 0.39989525010177457, 0.4008338276655495, 0.4017662009851947, 0.4026953920058134, 0.40362445514908246, 0.40455644218344244, 0.4054943646980067, 0.40644115457315727, 0.4073996228911067, 0.40837241777507227, 0.4093619816851343, 0.41037050873140224, 0.41139990258998893, 0.41245173562374876, 0.41352720981722946, 0.41462712013335534, 0.4157518208877545, 0.4169011957152516, 0.41807463167196873, 0.41927099797594386, 0.4204886298396589, 0.4217253177899572, 0.42297830280532156, 0.424244277528298, 0.4255193937330671, 0.42679927614596086, 0.4280790426314019, 0.42935333066862225, 0.43061632995703947, 0.43186182090171815, 0.43308321864634836, 0.4342736222409892, 0.4354258684567792, 0.436532589691117, 0.43758627534557193, 0.4385793360059917, 0.4395041697107427, 0.4403532295594263, 0.4411190918912602, 0.4417945242498899, 0.4423725523498608, 0.4428465252692627, 0.44321017811292907, 0.44345769142064895, 0.4435837466345514, 0.44358357698847395, 0.443453013238876, 0.44318852372079365, 0.44278724828241384, 0.4422470257269858, 0.44156641446985573, 0.44074470620023204, 0.4397819324207096, 0.4386788638214389, 0.4374370025290097, 0.4360585673515566, 0.4345464722202758, 0.4329042981025488, 0.43113625873234973, 0.42924716056881257, 0.4272423574531194, 0.4251277004866634, 0.42290948369932396, 0.42059438611529154, 0.4181894108549714, 0.41570182193491717, 0.41313907944344036, 0.41050877377753714, 0.4078185596271693, 0.4050760903859242, 0.40228895365288186, 0.39946460846945564, 0.3966103249074114, 0.39373312659059495, 0.3908397366935737, 0.38793652791592187, 0.38502947688175565, 0.38212412336093027, 0.37922553465160025, 0.37633827540426434, 0.37346638310554153, 0.3706133493764511, 0.3677821071755111, 0.3649750239322254, 0.36219390057215844, 0.35943997633146907, 0.35671393919718375, 0.35401594175026574, 0.3513456221323597, 0.3487021298045502, 0.34608415571817897, 0.34348996647428154, 0.3409174420100011, 0.3383641163179076, 0.33582722067786536, 0.33330372886127224, 0.33079040375438545, 0.3282838448412244, 0.3257805359872499, 0.3232768929726768, 0.320769310238736, 0.318254206331275, 0.31572806755347305, 0.31318748937273727, 0.3106292151655613, 0.3080501719277067, 0.30544750262487186, 0.30281859491031, 0.30016110598991497, 0.29747298347128875, 0.29475248209040655, 0.2919981762668296, 0.28920896849517974, 0.2863840936358599, 0.2835231192210617, 0.2806259419420796, 0.27769278053018676, 0.2747241652851759, 0.2717209245425052, 0.2686841684013928, 0.2656152700617428, 0.2625158451372291, 0.25938772932497445, 0.256232954819041, 0.2530537258554271, 0.24985239377056526, 0.24663143194376252, 0.24339341097691733, 0.2401409744426959, 0.23687681550561893, 0.23360365468984448, 0.23032421903350433, 0.22704122283284262, 0.22375735014103057, 0.22047523914692255, 0.2171974685190634, 0.21392654576061973, 0.21066489758226062, 0.20741486226306477, 0.20417868393482294, 0.2009585086932456, 0.19775638241095808, 0.19457425010224114, 0.19141395666853683, 0.18827724883697838, 0.18516577809183718, 0.1820811043907746, 0.17902470045421834, 0.1759979564168478, 0.17300218463496322, 0.17003862445217865, 0.16710844673807831, 0.16421275802990812, 0.16135260412561245, 0.1585289729971775, 0.15574279691581322, 0.15299495370458396, 0.15028626705919018, 0.14761750590322462, 0.14498938276998535, 0.14240255122829668, 0.13985760239443273, 0.13735506059570182, 0.1348953782732338, 0.13247893023162216, 0.1301060073610808, 0.12777680997340682, 0.12549144090606554, 0.12324989855898659, 0.12105207003604976, 0.1188977245676207, 0.11678650739185202, 0.11471793427075722, 0.11269138681233498, 0.11070610876230019, 0.10876120341838742, 0.10685563230686926, 0.10498821524499954, 0.10315763189481288, 0.10136242489326153, 0.09960100462136695, 0.09787165565115026, 0.09617254488395684, 0.09450173136771639, 0.09285717775407347, 0.09123676332957999, 0.08963829852864033, 0.08805954081009655, 0.08649821175461084, 0.08495201521681131, 0.0834186563448738, 0.0818958612612429, 0.0803813971819102, 0.07887309273838772, 0.07736885825655238, 0.07586670574013461, 0.0743647683039831, 0.07286131880348173, 0.071354787411707, 0.06984377790510073, 0.06832708243150876, 0.06680369455127037, 0.06527282036243662, 0.06373388754483024, 0.06218655218422473, 0.06063070326697239], \"yaxis\": \"y\"}, {\"legendgroup\": \"writing score\", \"marker\": {\"color\": \"rgb(44, 160, 44)\"}, \"mode\": \"lines\", \"name\": \"writing score\", \"showlegend\": true, \"type\": \"scatter\", \"x\": [1.6, 1.6108, 1.6216000000000002, 1.6324, 1.6432, 1.6540000000000001, 1.6648, 1.6756000000000002, 1.6864000000000001, 1.6972, 1.7080000000000002, 1.7188, 1.7296, 1.7404000000000002, 1.7512, 1.762, 1.7728000000000002, 1.7836, 1.7944, 1.8052000000000001, 1.816, 1.8268, 1.8376000000000001, 1.8484, 1.8592000000000002, 1.87, 1.8808, 1.8916000000000002, 1.9024, 1.9132000000000002, 1.9240000000000002, 1.9348, 1.9456000000000002, 1.9564000000000001, 1.9672, 1.9780000000000002, 1.9888000000000001, 1.9996, 2.0104, 2.0212000000000003, 2.032, 2.0428, 2.0536000000000003, 2.0644, 2.0752, 2.0860000000000003, 2.0968, 2.1076, 2.1184000000000003, 2.1292, 2.14, 2.1508000000000003, 2.1616, 2.1724, 2.1832000000000003, 2.194, 2.2048, 2.2156000000000002, 2.2264, 2.2372, 2.248, 2.2588, 2.2696, 2.2804, 2.2912, 2.302, 2.3128, 2.3236, 2.3344, 2.3452, 2.356, 2.3668, 2.3776, 2.3884000000000003, 2.3992, 2.41, 2.4208000000000003, 2.4316, 2.4424, 2.4532000000000003, 2.464, 2.4748, 2.4856000000000003, 2.4964000000000004, 2.5072, 2.5180000000000002, 2.5288000000000004, 2.5396, 2.5504000000000002, 2.5612000000000004, 2.572, 2.5828, 2.5936000000000003, 2.6044, 2.6152, 2.6260000000000003, 2.6368, 2.6476, 2.6584000000000003, 2.6692, 2.68, 2.6908000000000003, 2.7016, 2.7124, 2.7232000000000003, 2.734, 2.7448000000000006, 2.7556000000000003, 2.7664, 2.7772, 2.7880000000000003, 2.7988, 2.8096000000000005, 2.8204000000000002, 2.8312, 2.842, 2.8528000000000002, 2.8636, 2.8744000000000005, 2.8852, 2.896, 2.9068000000000005, 2.9176, 2.9284, 2.9392, 2.95, 2.9608000000000003, 2.9716000000000005, 2.9824, 2.9932, 3.004, 3.0148, 3.0256000000000003, 3.0364000000000004, 3.0472, 3.058, 3.0688000000000004, 3.0796, 3.0904000000000003, 3.1012000000000004, 3.112, 3.1228000000000002, 3.1336000000000004, 3.1444, 3.1552000000000002, 3.1660000000000004, 3.1768, 3.1876, 3.1984000000000004, 3.2092, 3.22, 3.2308000000000003, 3.2416, 3.2524, 3.2632000000000003, 3.274, 3.2848, 3.2956000000000003, 3.3064, 3.3172, 3.3280000000000003, 3.3388, 3.3496, 3.3604000000000003, 3.3712, 3.3820000000000006, 3.3928000000000003, 3.4036, 3.4144, 3.4252000000000002, 3.4360000000000004, 3.4468000000000005, 3.4576000000000002, 3.4684, 3.4792, 3.49, 3.5008000000000004, 3.5116000000000005, 3.5224, 3.5332, 3.5440000000000005, 3.5548, 3.5656000000000003, 3.5764000000000005, 3.5872, 3.5980000000000003, 3.6088000000000005, 3.6196, 3.6304000000000003, 3.6412, 3.652, 3.6628000000000003, 3.6736000000000004, 3.6844, 3.6952000000000003, 3.706, 3.7168, 3.7276000000000002, 3.7384000000000004, 3.7492000000000005, 3.7600000000000002, 3.7708000000000004, 3.7816000000000005, 3.7924, 3.8032000000000004, 3.814, 3.8248, 3.8356000000000003, 3.8464, 3.8572, 3.868, 3.8788000000000005, 3.8896000000000006, 3.9004000000000003, 3.9112000000000005, 3.922, 3.9328000000000003, 3.9436000000000004, 3.9544, 3.9652000000000003, 3.976, 3.9868, 3.9976000000000003, 4.0084, 4.0192000000000005, 4.03, 4.040800000000001, 4.0516000000000005, 4.0624, 4.0732, 4.084, 4.0948, 4.105600000000001, 4.1164000000000005, 4.1272, 4.138, 4.1488000000000005, 4.159600000000001, 4.170400000000001, 4.1812000000000005, 4.192, 4.2028, 4.2136000000000005, 4.2244, 4.235200000000001, 4.246, 4.2568, 4.2676, 4.2783999999999995, 4.289200000000001, 4.300000000000001, 4.3108, 4.3216, 4.3324, 4.3432, 4.354, 4.364800000000001, 4.3756, 4.3864, 4.3972, 4.4079999999999995, 4.4188, 4.429600000000001, 4.4404, 4.4512, 4.462, 4.4728, 4.483600000000001, 4.494400000000001, 4.5052, 4.516, 4.5268, 4.5376, 4.5484, 4.559200000000001, 4.57, 4.5808, 4.591600000000001, 4.6024, 4.613200000000001, 4.6240000000000006, 4.6348, 4.6456, 4.6564, 4.6672, 4.678, 4.6888000000000005, 4.6996, 4.7104, 4.7212000000000005, 4.732, 4.742800000000001, 4.7536000000000005, 4.7644, 4.7752, 4.786, 4.7968, 4.807600000000001, 4.8184000000000005, 4.8292, 4.84, 4.8508000000000004, 4.861600000000001, 4.872400000000001, 4.8832, 4.894, 4.9048, 4.9156, 4.9264, 4.937200000000001, 4.948, 4.9588, 4.9696, 4.9804, 4.991200000000001, 5.002000000000001, 5.0128, 5.0236, 5.0344, 5.0452, 5.056, 5.066800000000001, 5.0776, 5.0884, 5.0992, 5.110000000000001, 5.120800000000001, 5.131600000000001, 5.1424, 5.1532, 5.164000000000001, 5.1748, 5.185600000000001, 5.196400000000001, 5.2072, 5.218, 5.2288, 5.2396, 5.250400000000001, 5.2612000000000005, 5.272, 5.2828, 5.2936000000000005, 5.3044, 5.315200000000001, 5.3260000000000005, 5.3368, 5.3476, 5.3584, 5.3692, 5.380000000000001, 5.3908000000000005, 5.4016, 5.4124, 5.4232000000000005, 5.434000000000001, 5.444800000000001, 5.4556000000000004, 5.4664, 5.4772, 5.488, 5.4988, 5.509600000000001, 5.5204, 5.5312, 5.542000000000001, 5.5528, 5.563600000000001, 5.574400000000001, 5.5852, 5.596, 5.6068, 5.617600000000001, 5.628400000000001, 5.639200000000001, 5.65, 5.6608, 5.6716, 5.6823999999999995, 5.693200000000001, 5.704000000000001, 5.7148, 5.7256, 5.7364000000000015, 5.747200000000001, 5.758000000000001, 5.768800000000001, 5.7796, 5.7904, 5.8012000000000015, 5.811999999999999, 5.822800000000001, 5.833600000000001, 5.8444, 5.8552, 5.866, 5.876800000000001, 5.887600000000001, 5.8984000000000005, 5.9092, 5.92, 5.9308, 5.941600000000001, 5.952400000000001, 5.9632000000000005, 5.974, 5.9848, 5.9956, 6.006400000000001, 6.017200000000001, 6.0280000000000005, 6.0388, 6.0496, 6.060400000000001, 6.071200000000001, 6.082000000000001, 6.0928, 6.1036, 6.1144, 6.125200000000001, 6.135999999999999, 6.146800000000001, 6.1576, 6.1684, 6.179200000000002, 6.1899999999999995, 6.200800000000001, 6.211600000000001, 6.2224, 6.2332, 6.244, 6.2547999999999995, 6.265600000000001, 6.276400000000001, 6.2872, 6.298, 6.3088, 6.319600000000001, 6.330400000000001, 6.341200000000001, 6.352, 6.3628, 6.3736, 6.384400000000001, 6.395200000000001, 6.406000000000001, 6.4168, 6.4276, 6.4384000000000015, 6.449200000000001, 6.460000000000001, 6.4708000000000006, 6.4816, 6.4924, 6.503200000000001, 6.513999999999999, 6.524800000000001, 6.5356000000000005, 6.5464, 6.557200000000002, 6.568, 6.578800000000001, 6.589600000000001, 6.6004000000000005, 6.6112, 6.622, 6.6328, 6.643600000000001, 6.654400000000001, 6.6652000000000005, 6.676, 6.6868, 6.697600000000001, 6.708400000000001, 6.719200000000001, 6.73, 6.7408, 6.7516, 6.762400000000001, 6.773200000000001, 6.784000000000001, 6.7948, 6.8056, 6.8164, 6.827200000000001, 6.838000000000001, 6.848800000000001, 6.8596, 6.8704, 6.8812000000000015, 6.8919999999999995, 6.902800000000001, 6.913600000000001, 6.9244, 6.9352, 6.946, 6.956799999999999, 6.967600000000001, 6.978400000000001, 6.9892], \"xaxis\": \"x\", \"y\": [0.0029639245461833296, 0.0030321405479411478, 0.0030991413179457575, 0.0031649316247666145, 0.0032295310040640905, 0.003292973382548362, 0.0033553065702520432, 0.003416591632751656, 0.0034769021563826174, 0.0035363234205878637, 0.003594951492309201, 0.00365289225777062, 0.0037102604071202042, 0.0037671783872066248, 0.003823775337290284, 0.0038801860217574044, 0.003936549772952764, 0.0039930094561130116, 0.004049710467109619, 0.004106799772342443, 0.0041644249987046345, 0.004222733580109269, 0.004281871965665921, 0.004341984893255818, 0.0044032147310062155, 0.0044657008880307535, 0.004529579294799345, 0.004594981952637306, 0.004662036551131929, 0.004730866151640985, 0.004801588934641789, 0.004874318008316731, 0.004949161275521719, 0.005026221356106784, 0.005105595561429099, 0.0051873759177946425, 0.005271649235463479, 0.005358497219735602, 0.005447996620483184, 0.005540219416300522, 0.0056352330291987865, 0.005733100565480019, 0.005833881078090335, 0.005937629845389578, 0.006044398660902698, 0.006154236128261706, 0.006267187955234664, 0.006383297240501924, 0.0065026047467128196, 0.006625149153371867, 0.006750967283293656, 0.006880094296757966, 0.0070125638481142215, 0.007148408200442356, 0.007287658294983651, 0.007430343773406866, 0.007576492952559884, 0.007726132753150699, 0.00787928858576862, 0.008035984199751154, 0.008196241502566986, 0.008360080359556127, 0.008527518385971327, 0.008698570745221476, 0.008873249968948175, 0.009051565815988219, 0.009233525188308654, 0.009419132122575512, 0.009608387876066098, 0.009801291125105584, 0.009997838293064013, 0.010198024023165926, 0.010401841808940208, 0.010609284792089156, 0.010820346733921333, 0.011035023162332338, 0.01125331269171257, 0.011475218508211907, 0.011700750007615687, 0.011929924567820424, 0.01216276943268636, 0.01239932367904199, 0.012639640233982907, 0.01288378790550195, 0.013131853386061928, 0.013383943186121246, 0.01364018545297225, 0.013900731629662611, 0.01416575790932456, 0.014435466441992284, 0.014710086253972177, 0.014989873844035098, 0.015275113426084883, 0.015566116794448241, 0.015863222795416767, 0.016166796397011116, 0.016477227357959628, 0.016794928506388317, 0.017120333648487727, 0.01745389513721726, 0.017796081140680313, 0.018147372658899846, 0.018508260346094728, 0.018879241202954384, 0.019260815209607225, 0.01965348197476759, 0.020057737479744406, 0.020474070997454658, 0.020902962266194737, 0.021344878995607514, 0.021800274778020406, 0.022269587472132587, 0.022753238117962715, 0.023251630432142182, 0.023765150921207012, 0.024294169637694762, 0.024839041589832436, 0.02540010880066841, 0.025977702996954285, 0.026572148892241295, 0.02718376801285627, 0.02781288300000409, 0.02845982230656302, 0.029124925193531936, 0.02980854691888516, 0.030511064001108482, 0.03123287943120789, 0.0319744277007564, 0.03273617950979221, 0.03351864601727099, 0.03432238249843534, 0.035147991277968894, 0.035996123815169916, 0.03686748182757795, 0.03776281735242633, 0.0386829316608244, 0.03962867295750075, 0.0406009328190061, 0.04160064134518376, 0.04262876102211686, 0.04368627931927828, 0.04477420006881107, 0.04589353370031921, 0.047045286429783124, 0.048230448525749384, 0.04944998179931083, 0.050704806486111365, 0.051995787708218937, 0.0533237217207821, 0.054689322162508845, 0.05609320653982257, 0.05753588318174284, 0.05901773890584862, 0.06053902763491259, 0.06209986019881635, 0.06370019554711055, 0.06533983358408783, 0.06701840982058391, 0.06873539201508294, 0.07049007895132466, 0.07228160147081218, 0.07410892584678805, 0.07597085955183745, 0.07786605943479682, 0.07979304228465495, 0.08175019772022679, 0.08373580330518747, 0.08574804174921968, 0.08778502001820687, 0.0898447901402465, 0.09192537146040221, 0.09402477406616146, 0.09614102307809423, 0.09827218347674223, 0.10041638511776985, 0.10257184757328162, 0.10473690442828926, 0.10691002665783725, 0.10908984471244396, 0.1112751689473661, 0.11346500804473965, 0.11565858509679756, 0.11785535104293868, 0.12005499518314498, 0.12225745252479037, 0.12446290775881563, 0.1266717957040812, 0.12888479810489903, 0.13110283671567838, 0.1333270626576417, 0.1355588420849962, 0.13779973825104858, 0.14005149011779963, 0.1423159877047969, 0.14459524442371258, 0.14689136669350736, 0.14920652117643043, 0.15154290001678763, 0.15390268450174435, 0.15628800759580366, 0.15870091582746923, 0.16114333102747203, 0.16361701243240304, 0.1661235196753071, 0.16866417718550356, 0.17124004051343295, 0.17385186508264336, 0.17650007785011118, 0.17918475232810424, 0.1819055873859484, 0.1846618902086922, 0.18745256374220706, 0.1902760989012435, 0.1931305717590166, 0.19601364587471062, 0.1989225798496819, 0.20185424013496453, 0.20480511904282436, 0.2077713578446037, 0.21074877476688458, 0.21373289762912387, 0.21671900079943146, 0.21970214608201266, 0.22267722709105206, 0.225639016612345, 0.22858221640668686, 0.23150150886873616, 0.23439160992241415, 0.23724732250956299, 0.2400635900129849, 0.24283554894850046, 0.24555858026350197, 0.24822835859171202, 0.25084089883540595, 0.2533925994769911, 0.25588028206119917, 0.25830122633670455, 0.26065320060109465, 0.26293448685501536, 0.26514390043908087, 0.2672808038998081, 0.26934511490731833, 0.27133730812669404, 0.27325841102548987, 0.2751099936807737, 0.2768941527289255, 0.2786134896790859, 0.28027108388538313, 0.2818704605427499, 0.28341555413520425, 0.2849106678229161, 0.2863604293043441, 0.287769743731443, 0.2891437442888022, 0.29048774107108705, 0.2918071689070062, 0.29310753478206375, 0.2943943655065597, 0.2956731562598657, 0.2969493206172409, 0.2982281426318586, 0.2995147315029285, 0.30081397931159626, 0.30213052225058873, 0.3034687057123644, 0.30483255353492356, 0.30622574163564104, 0.30765157619268513, 0.3091129764621111, 0.31061246224776334, 0.3121521459719864, 0.31373372922900833, 0.31535850364086854, 0.3170273557789559, 0.31874077586355265, 0.32049886991003323, 0.322301374954229, 0.32414767696140934, 0.32603683100371117, 0.32796758327978914, 0.3299383945479423, 0.3319474645497982, 0.33399275701537995, 0.3360720248615296, 0.3381828352234772, 0.3403225939929876, 0.3424885695750312, 0.34467791561723926, 0.3468876925114048, 0.3491148875127921, 0.3513564333698642, 0.35360922540303247, 0.35587013701508013, 0.3581360336569599, 0.36040378530975076, 0.36267027757587406, 0.36493242149952493, 0.367187162257138, 0.3694314868732393, 0.37166243112506875, 0.37387708580088447, 0.3760726024721069, 0.37824619892877415, 0.3803951644117116, 0.38251686475404206, 0.38460874751999885, 0.386668347201374, 0.3886932905023156, 0.3906813017126457, 0.3926302081394659, 0.3945379455375831, 0.3964025634522662, 0.3982222303639478, 0.3999952385045625, 0.40172000819998294, 0.4033950915830509, 0.4050191755173981, 0.40659108357386436, 0.40810977690890365, 0.40957435390777064, 0.41098404847423065, 0.4123382268725279, 0.4136363830557539, 0.4148781324468117, 0.41606320417297604, 0.41719143179161533, 0.4182627425819381, 0.41927714551457473, 0.4202347180463122, 0.4211355919203496, 0.4219799381820316, 0.4227679516452532, 0.4234998350648595, 0.4241757832847265, 0.42479596763935107, 0.4253605208883865, 0.42586952295851616, 0.42632298775543626, 0.42672085129075016, 0.4270629613447156, 0.4273490688565911, 0.42757882120056384, 0.427751757467753, 0.42786730583454086, 0.4279247830555194, 0.42792339607673546, 0.42786224572275744, 0.4277403323704364, 0.4275565634841262, 0.4273097628524805, 0.4269986813366208, 0.42662200891414426, 0.42617838778371386, 0.425666426281208, 0.4250847133508687, 0.4244318333136132, 0.42370638067955224, 0.42290697476252603, 0.4220322738706567, 0.4210809888679773, 0.420051895927413, 0.41894384832396825, 0.41775578714803757, 0.4164867508513939, 0.4151358835716575, 0.413702442213995, 0.4121858023005309, 0.4105854626276168, 0.4089010487979664, 0.40713231571802777, 0.4052791491703166, 0.40334156658533893, 0.4013197171479362, 0.39921388137823177, 0.39702447032788163, 0.39475202452817787, 0.3923972128179811, 0.3899608311668986, 0.38744380159306974, 0.3848471712559413, 0.38217211178321364, 0.37941991886837284, 0.37659201215166976, 0.3736899353737579, 0.37071535676822526, 0.36767006963756976, 0.3645559930374876, 0.36137517247712875, 0.35812978052878525, 0.35482211722962725, 0.3514546101509258, 0.3480298140067909, 0.3445504096749923, 0.34101920250669804, 0.3374391198100291, 0.333813207403732, 0.3301446251518578, 0.32643664140760764, 0.32269262631401846, 0.3189160439304564, 0.31511044317634834, 0.3112794476067104, 0.3074267440572605, 0.30355607021968, 0.29967120122937785, 0.295775935368507, 0.2918740790054614, 0.2879694309083442, 0.28406576608361794, 0.2801668193020923, 0.27627626848238146, 0.27239771810696617, 0.2685346828478949, 0.26469057157809384, 0.26086867194030766, 0.2570721356390154, 0.25330396461151977, 0.24956699822300624, 0.24586390161704635, 0.24219715533805655, 0.2385690463259759, 0.23498166036619125, 0.231436876059901, 0.2279363603618734, 0.22448156571438385, 0.22107372878808673, 0.21771387082307714, 0.21440279954659702, 0.21114111262781626, 0.2079292026151955, 0.2047672632880278, 0.2016552973410527, 0.1985931253095418, 0.1955803956319866, 0.1926165957384558, 0.18970106404486833, 0.18683300272672962, 0.18401149114035373, 0.18123549975513667, 0.17850390445705838, 0.17581550108125174, 0.17316902003012102, 0.17056314083319035, 0.16799650650556813, 0.1654677375636817, 0.16297544555979965, 0.160518246000896, 0.15809477052262758, 0.15570367819573294, 0.15334366585003734, 0.15101347731052636, 0.14871191145073095, 0.14643782898091254, 0.14419015790231304, 0.1419678975739984, 0.13977012135552325, 0.13759597780666447, 0.13544469044472773, 0.1333155560801402, 0.13120794177208428, 0.12912128046741908, 0.12705506540781014, 0.1250088434114724, 0.12298220715677312, 0.12097478661480472, 0.11898623979636444, 0.11701624299520798, 0.11506448072347002, 0.113130635546351, 0.11121437803115207, 0.10931535703014852, 0.10743319051728951, 0.10556745719510542, 0.10371768908031176, 0.10188336526434583, 0.10006390702852977, 0.09825867447279596, 0.09646696479222974, 0.09468801230737688, 0.09292099032281047, 0.0911650148543469, 0.08941915022922044, 0.08768241652610981, 0.0859537987839659, 0.08423225787087484, 0.08251674286756032, 0.08080620478537962, 0.07909961140663353, 0.07739596300643727, 0.0756943086910175, 0.07399376306772593, 0.07229352294782905, 0.07059288377469243, 0.06889125546755526, 0.06718817737494415, 0.06548333204182272, 0.06377655751075129, 0.06206785789934183, 0.06035741202373241, 0.058645579870117315], \"yaxis\": \"y\"}],\n",
              "                        {\"barmode\": \"overlay\", \"hovermode\": \"closest\", \"legend\": {\"traceorder\": \"reversed\"}, \"template\": {\"data\": {\"bar\": [{\"error_x\": {\"color\": \"#2a3f5f\"}, \"error_y\": {\"color\": \"#2a3f5f\"}, \"marker\": {\"line\": {\"color\": \"#E5ECF6\", \"width\": 0.5}}, \"type\": \"bar\"}], \"barpolar\": [{\"marker\": {\"line\": {\"color\": \"#E5ECF6\", \"width\": 0.5}}, \"type\": \"barpolar\"}], \"carpet\": [{\"aaxis\": {\"endlinecolor\": \"#2a3f5f\", \"gridcolor\": \"white\", \"linecolor\": \"white\", \"minorgridcolor\": \"white\", \"startlinecolor\": \"#2a3f5f\"}, \"baxis\": {\"endlinecolor\": \"#2a3f5f\", \"gridcolor\": \"white\", \"linecolor\": \"white\", \"minorgridcolor\": \"white\", \"startlinecolor\": \"#2a3f5f\"}, \"type\": \"carpet\"}], \"choropleth\": [{\"colorbar\": {\"outlinewidth\": 0, \"ticks\": \"\"}, \"type\": \"choropleth\"}], \"contour\": [{\"colorbar\": {\"outlinewidth\": 0, \"ticks\": \"\"}, \"colorscale\": [[0.0, \"#0d0887\"], [0.1111111111111111, \"#46039f\"], [0.2222222222222222, \"#7201a8\"], [0.3333333333333333, \"#9c179e\"], [0.4444444444444444, \"#bd3786\"], [0.5555555555555556, \"#d8576b\"], [0.6666666666666666, \"#ed7953\"], [0.7777777777777778, \"#fb9f3a\"], [0.8888888888888888, \"#fdca26\"], [1.0, \"#f0f921\"]], \"type\": \"contour\"}], \"contourcarpet\": [{\"colorbar\": {\"outlinewidth\": 0, \"ticks\": \"\"}, \"type\": \"contourcarpet\"}], \"heatmap\": [{\"colorbar\": {\"outlinewidth\": 0, \"ticks\": \"\"}, \"colorscale\": [[0.0, \"#0d0887\"], [0.1111111111111111, \"#46039f\"], [0.2222222222222222, \"#7201a8\"], [0.3333333333333333, \"#9c179e\"], [0.4444444444444444, \"#bd3786\"], [0.5555555555555556, \"#d8576b\"], [0.6666666666666666, \"#ed7953\"], [0.7777777777777778, \"#fb9f3a\"], [0.8888888888888888, \"#fdca26\"], [1.0, \"#f0f921\"]], \"type\": \"heatmap\"}], \"heatmapgl\": [{\"colorbar\": {\"outlinewidth\": 0, \"ticks\": \"\"}, \"colorscale\": [[0.0, \"#0d0887\"], [0.1111111111111111, \"#46039f\"], [0.2222222222222222, \"#7201a8\"], [0.3333333333333333, \"#9c179e\"], [0.4444444444444444, \"#bd3786\"], [0.5555555555555556, \"#d8576b\"], [0.6666666666666666, \"#ed7953\"], [0.7777777777777778, \"#fb9f3a\"], [0.8888888888888888, \"#fdca26\"], [1.0, \"#f0f921\"]], \"type\": \"heatmapgl\"}], \"histogram\": [{\"marker\": {\"colorbar\": {\"outlinewidth\": 0, \"ticks\": \"\"}}, \"type\": \"histogram\"}], \"histogram2d\": [{\"colorbar\": {\"outlinewidth\": 0, \"ticks\": \"\"}, \"colorscale\": [[0.0, \"#0d0887\"], [0.1111111111111111, \"#46039f\"], [0.2222222222222222, \"#7201a8\"], [0.3333333333333333, \"#9c179e\"], [0.4444444444444444, \"#bd3786\"], [0.5555555555555556, \"#d8576b\"], [0.6666666666666666, \"#ed7953\"], [0.7777777777777778, \"#fb9f3a\"], [0.8888888888888888, \"#fdca26\"], [1.0, \"#f0f921\"]], \"type\": \"histogram2d\"}], \"histogram2dcontour\": [{\"colorbar\": {\"outlinewidth\": 0, \"ticks\": \"\"}, \"colorscale\": [[0.0, \"#0d0887\"], [0.1111111111111111, \"#46039f\"], [0.2222222222222222, \"#7201a8\"], [0.3333333333333333, \"#9c179e\"], [0.4444444444444444, \"#bd3786\"], [0.5555555555555556, \"#d8576b\"], [0.6666666666666666, \"#ed7953\"], [0.7777777777777778, \"#fb9f3a\"], [0.8888888888888888, \"#fdca26\"], [1.0, \"#f0f921\"]], \"type\": \"histogram2dcontour\"}], \"mesh3d\": [{\"colorbar\": {\"outlinewidth\": 0, \"ticks\": \"\"}, \"type\": \"mesh3d\"}], \"parcoords\": [{\"line\": {\"colorbar\": {\"outlinewidth\": 0, \"ticks\": \"\"}}, \"type\": \"parcoords\"}], \"pie\": [{\"automargin\": true, \"type\": \"pie\"}], \"scatter\": [{\"marker\": {\"colorbar\": {\"outlinewidth\": 0, \"ticks\": \"\"}}, \"type\": \"scatter\"}], \"scatter3d\": [{\"line\": {\"colorbar\": {\"outlinewidth\": 0, \"ticks\": \"\"}}, \"marker\": {\"colorbar\": {\"outlinewidth\": 0, \"ticks\": \"\"}}, \"type\": \"scatter3d\"}], \"scattercarpet\": [{\"marker\": {\"colorbar\": {\"outlinewidth\": 0, \"ticks\": \"\"}}, \"type\": \"scattercarpet\"}], \"scattergeo\": [{\"marker\": {\"colorbar\": {\"outlinewidth\": 0, \"ticks\": \"\"}}, \"type\": \"scattergeo\"}], \"scattergl\": [{\"marker\": {\"colorbar\": {\"outlinewidth\": 0, \"ticks\": \"\"}}, \"type\": \"scattergl\"}], \"scattermapbox\": [{\"marker\": {\"colorbar\": {\"outlinewidth\": 0, \"ticks\": \"\"}}, \"type\": \"scattermapbox\"}], \"scatterpolar\": [{\"marker\": {\"colorbar\": {\"outlinewidth\": 0, \"ticks\": \"\"}}, \"type\": \"scatterpolar\"}], \"scatterpolargl\": [{\"marker\": {\"colorbar\": {\"outlinewidth\": 0, \"ticks\": \"\"}}, \"type\": \"scatterpolargl\"}], \"scatterternary\": [{\"marker\": {\"colorbar\": {\"outlinewidth\": 0, \"ticks\": \"\"}}, \"type\": \"scatterternary\"}], \"surface\": [{\"colorbar\": {\"outlinewidth\": 0, \"ticks\": \"\"}, \"colorscale\": [[0.0, \"#0d0887\"], [0.1111111111111111, \"#46039f\"], [0.2222222222222222, \"#7201a8\"], [0.3333333333333333, \"#9c179e\"], [0.4444444444444444, \"#bd3786\"], [0.5555555555555556, \"#d8576b\"], [0.6666666666666666, \"#ed7953\"], [0.7777777777777778, \"#fb9f3a\"], [0.8888888888888888, \"#fdca26\"], [1.0, \"#f0f921\"]], \"type\": \"surface\"}], \"table\": [{\"cells\": {\"fill\": {\"color\": \"#EBF0F8\"}, \"line\": {\"color\": \"white\"}}, \"header\": {\"fill\": {\"color\": \"#C8D4E3\"}, \"line\": {\"color\": \"white\"}}, \"type\": \"table\"}]}, \"layout\": {\"annotationdefaults\": {\"arrowcolor\": \"#2a3f5f\", \"arrowhead\": 0, \"arrowwidth\": 1}, \"coloraxis\": {\"colorbar\": {\"outlinewidth\": 0, \"ticks\": \"\"}}, \"colorscale\": {\"diverging\": [[0, \"#8e0152\"], [0.1, \"#c51b7d\"], [0.2, \"#de77ae\"], [0.3, \"#f1b6da\"], [0.4, \"#fde0ef\"], [0.5, \"#f7f7f7\"], [0.6, \"#e6f5d0\"], [0.7, \"#b8e186\"], [0.8, \"#7fbc41\"], [0.9, \"#4d9221\"], [1, \"#276419\"]], \"sequential\": [[0.0, \"#0d0887\"], [0.1111111111111111, \"#46039f\"], [0.2222222222222222, \"#7201a8\"], [0.3333333333333333, \"#9c179e\"], [0.4444444444444444, \"#bd3786\"], [0.5555555555555556, \"#d8576b\"], [0.6666666666666666, \"#ed7953\"], [0.7777777777777778, \"#fb9f3a\"], [0.8888888888888888, \"#fdca26\"], [1.0, \"#f0f921\"]], \"sequentialminus\": [[0.0, \"#0d0887\"], [0.1111111111111111, \"#46039f\"], [0.2222222222222222, \"#7201a8\"], [0.3333333333333333, \"#9c179e\"], [0.4444444444444444, \"#bd3786\"], [0.5555555555555556, \"#d8576b\"], [0.6666666666666666, \"#ed7953\"], [0.7777777777777778, \"#fb9f3a\"], [0.8888888888888888, \"#fdca26\"], [1.0, \"#f0f921\"]]}, \"colorway\": [\"#636efa\", \"#EF553B\", \"#00cc96\", \"#ab63fa\", \"#FFA15A\", \"#19d3f3\", \"#FF6692\", \"#B6E880\", \"#FF97FF\", \"#FECB52\"], \"font\": {\"color\": \"#2a3f5f\"}, \"geo\": {\"bgcolor\": \"white\", \"lakecolor\": \"white\", \"landcolor\": \"#E5ECF6\", \"showlakes\": true, \"showland\": true, \"subunitcolor\": \"white\"}, \"hoverlabel\": {\"align\": \"left\"}, \"hovermode\": \"closest\", \"mapbox\": {\"style\": \"light\"}, \"paper_bgcolor\": \"white\", \"plot_bgcolor\": \"#E5ECF6\", \"polar\": {\"angularaxis\": {\"gridcolor\": \"white\", \"linecolor\": \"white\", \"ticks\": \"\"}, \"bgcolor\": \"#E5ECF6\", \"radialaxis\": {\"gridcolor\": \"white\", \"linecolor\": \"white\", \"ticks\": \"\"}}, \"scene\": {\"xaxis\": {\"backgroundcolor\": \"#E5ECF6\", \"gridcolor\": \"white\", \"gridwidth\": 2, \"linecolor\": \"white\", \"showbackground\": true, \"ticks\": \"\", \"zerolinecolor\": \"white\"}, \"yaxis\": {\"backgroundcolor\": \"#E5ECF6\", \"gridcolor\": \"white\", \"gridwidth\": 2, \"linecolor\": \"white\", \"showbackground\": true, \"ticks\": \"\", \"zerolinecolor\": \"white\"}, \"zaxis\": {\"backgroundcolor\": \"#E5ECF6\", \"gridcolor\": \"white\", \"gridwidth\": 2, \"linecolor\": \"white\", \"showbackground\": true, \"ticks\": \"\", \"zerolinecolor\": \"white\"}}, \"shapedefaults\": {\"line\": {\"color\": \"#2a3f5f\"}}, \"ternary\": {\"aaxis\": {\"gridcolor\": \"white\", \"linecolor\": \"white\", \"ticks\": \"\"}, \"baxis\": {\"gridcolor\": \"white\", \"linecolor\": \"white\", \"ticks\": \"\"}, \"bgcolor\": \"#E5ECF6\", \"caxis\": {\"gridcolor\": \"white\", \"linecolor\": \"white\", \"ticks\": \"\"}}, \"title\": {\"x\": 0.05}, \"xaxis\": {\"automargin\": true, \"gridcolor\": \"white\", \"linecolor\": \"white\", \"ticks\": \"\", \"title\": {\"standoff\": 15}, \"zerolinecolor\": \"white\", \"zerolinewidth\": 2}, \"yaxis\": {\"automargin\": true, \"gridcolor\": \"white\", \"linecolor\": \"white\", \"ticks\": \"\", \"title\": {\"standoff\": 15}, \"zerolinecolor\": \"white\", \"zerolinewidth\": 2}}}, \"xaxis\": {\"anchor\": \"y2\", \"domain\": [0.0, 1.0], \"zeroline\": false}, \"yaxis\": {\"anchor\": \"free\", \"domain\": [0.0, 1], \"position\": 0.0}},\n",
              "                        {\"responsive\": true}\n",
              "                    ).then(function(){\n",
              "                            \n",
              "var gd = document.getElementById('ab795d4d-cee8-4023-90e8-900105c2f2be');\n",
              "var x = new MutationObserver(function (mutations, observer) {{\n",
              "        var display = window.getComputedStyle(gd).display;\n",
              "        if (!display || display === 'none') {{\n",
              "            console.log([gd, 'removed!']);\n",
              "            Plotly.purge(gd);\n",
              "            observer.disconnect();\n",
              "        }}\n",
              "}});\n",
              "\n",
              "// Listen for the removal of the full notebook cells\n",
              "var notebookContainer = gd.closest('#notebook-container');\n",
              "if (notebookContainer) {{\n",
              "    x.observe(notebookContainer, {childList: true});\n",
              "}}\n",
              "\n",
              "// Listen for the clearing of the current output cell\n",
              "var outputEl = gd.closest('.output');\n",
              "if (outputEl) {{\n",
              "    x.observe(outputEl, {childList: true});\n",
              "}}\n",
              "\n",
              "                        })\n",
              "                };\n",
              "                \n",
              "            </script>\n",
              "        </div>\n",
              "</body>\n",
              "</html>"
            ]
          },
          "metadata": {}
        }
      ]
    },
    {
      "cell_type": "markdown",
      "metadata": {
        "id": "-qrUYPERwuqt"
      },
      "source": [
        "**Histograma con Boxplots:**"
      ]
    },
    {
      "cell_type": "code",
      "metadata": {
        "colab": {
          "base_uri": "https://localhost:8080/",
          "height": 541
        },
        "id": "aIlDgfHRwuqt",
        "outputId": "6a7de9d0-9b48-4b2d-adca-12f31ae91042"
      },
      "source": [
        "def plot_hist_box(df):\n",
        "  math = df[['math score']]\n",
        "  math.columns = ['score']\n",
        "  math['subject'] = 'math score'\n",
        "\n",
        "  read = df[['reading score']]\n",
        "  read.columns = ['score']\n",
        "  read['subject'] = 'reading score'\n",
        "\n",
        "  write = df[['writing score']]\n",
        "  write.columns = ['score']\n",
        "  write['subject'] = 'writing score'\n",
        "\n",
        "  qw = pd.concat([math,read,write],axis=0)\n",
        "\n",
        "  fig = px.histogram(qw, x='score', color='subject',\n",
        "                   marginal=\"box\", nbins=7, barmode='group')\n",
        "  fig.show()\n",
        "\n",
        "plot_hist_box(df_grades)"
      ],
      "execution_count": 226,
      "outputs": [
        {
          "output_type": "display_data",
          "data": {
            "text/html": [
              "<html>\n",
              "<head><meta charset=\"utf-8\" /></head>\n",
              "<body>\n",
              "    <div>\n",
              "            <script src=\"https://cdnjs.cloudflare.com/ajax/libs/mathjax/2.7.5/MathJax.js?config=TeX-AMS-MML_SVG\"></script><script type=\"text/javascript\">if (window.MathJax) {MathJax.Hub.Config({SVG: {font: \"STIX-Web\"}});}</script>\n",
              "                <script type=\"text/javascript\">window.PlotlyConfig = {MathJaxConfig: 'local'};</script>\n",
              "        <script src=\"https://cdn.plot.ly/plotly-latest.min.js\"></script>    \n",
              "            <div id=\"71573f15-79fb-4e22-a42f-093fc0852968\" class=\"plotly-graph-div\" style=\"height:525px; width:100%;\"></div>\n",
              "            <script type=\"text/javascript\">\n",
              "                \n",
              "                    window.PLOTLYENV=window.PLOTLYENV || {};\n",
              "                    \n",
              "                if (document.getElementById(\"71573f15-79fb-4e22-a42f-093fc0852968\")) {\n",
              "                    Plotly.newPlot(\n",
              "                        '71573f15-79fb-4e22-a42f-093fc0852968',\n",
              "                        [{\"alignmentgroup\": \"True\", \"bingroup\": \"x\", \"hoverlabel\": {\"namelength\": 0}, \"hovertemplate\": \"subject=math score<br>score=%{x}<br>count=%{y}\", \"legendgroup\": \"subject=math score\", \"marker\": {\"color\": \"#636efa\"}, \"name\": \"subject=math score\", \"nbinsx\": 7, \"offsetgroup\": \"subject=math score\", \"orientation\": \"v\", \"showlegend\": true, \"type\": \"histogram\", \"x\": [3.22, 5.8, 5.38, 5.86, 6.64, 5.26, 5.5, 3.04, 4.78, 6.64, 4.9, 4.12, 4.72, 5.44, 4.72, 5.38, 3.76, 5.92, 4.78, 4.84, 5.8, 6.58, 5.14, 3.76, 6.16, 4.54, 6.04, 4.84, 5.38, 5.98, 5.5, 5.14, 5.08, 4.42, 4.96, 4.66, 3.4, 4.0, 3.88, 3.16, 5.68, 4.42, 5.14, 3.4, 6.52, 3.1, 4.78, 5.38, 4.78, 4.12, 5.38, 4.78, 5.26, 3.7, 6.1, 5.8, 5.62, 6.46, 4.6, 4.78, 3.4, 4.42, 4.48, 6.82, 5.86, 5.08, 4.54, 6.76, 6.22, 4.42, 6.64, 6.82, 4.9, 5.92, 5.32, 4.72, 3.64, 5.92, 5.5, 4.54, 5.5, 5.32, 5.08, 4.96, 5.02, 6.58, 5.14, 4.78, 3.76, 4.96, 4.72, 3.88, 5.26, 4.24, 5.8, 4.3, 6.4, 6.64, 5.86, 4.18, 4.66, 5.5, 5.44, 4.72, 5.2, 4.54, 4.72, 4.18, 5.8, 5.14, 5.14, 5.14, 3.94, 5.98, 4.9, 5.38, 5.08, 4.84, 4.9, 3.94, 4.48, 4.96, 4.9, 4.9, 5.2, 5.74, 4.0, 4.84, 5.08, 2.92, 5.08, 4.48, 2.14, 5.14, 5.32, 4.18, 4.66, 5.68, 4.18, 3.7, 3.64, 5.98, 4.9, 6.28, 6.28, 6.46, 6.04, 4.06, 3.2800000000000002, 3.8200000000000003, 4.96, 4.66, 4.6, 5.26, 3.7, 5.62, 4.18, 4.42, 5.32, 5.5600000000000005, 3.7, 6.94, 4.06, 4.84, 4.12, 5.8, 4.06, 4.0, 4.84, 5.44, 5.26, 4.42, 5.14, 5.62, 5.5, 3.58, 5.8, 4.54, 6.1, 4.3, 3.64, 3.52, 4.48, 4.66, 4.0, 6.28, 5.38, 5.02, 6.82, 4.66, 4.72, 4.24, 4.96, 5.68, 6.1, 6.04, 5.5600000000000005, 3.64, 5.86, 4.24, 4.48, 5.86, 5.32, 5.26, 4.66, 4.96, 5.26, 5.26, 6.34, 5.38, 5.86, 3.76, 2.32, 3.88, 3.64, 6.46, 5.5600000000000005, 5.62, 4.72, 5.02, 6.16, 4.48, 4.18, 4.42, 5.14, 4.72, 3.22, 6.28, 6.4, 5.08, 4.9, 4.78, 4.12, 3.88, 4.9, 4.24, 2.74, 2.56, 5.2, 5.5, 4.6, 6.88, 6.58, 4.54, 3.76, 5.5600000000000005, 5.74, 2.68, 4.3, 4.66, 3.1, 6.64, 3.76, 7.0, 5.02, 4.0, 5.74, 5.26, 5.98, 4.3, 3.88, 5.5600000000000005, 5.62, 4.72, 4.36, 5.08, 6.04, 5.8, 4.72, 4.6, 4.84, 2.74, 4.12, 4.18, 5.02, 5.92, 4.36, 5.74, 5.38, 4.96, 5.38, 4.96, 6.04, 5.44, 5.5600000000000005, 5.86, 5.74, 5.08, 4.78, 4.0, 5.32, 6.1, 5.98, 6.04, 4.9, 6.1, 5.2, 4.48, 6.16, 4.84, 4.9, 4.66, 3.94, 4.18, 6.82, 5.5, 5.32, 5.44, 4.54, 5.08, 5.68, 4.18, 5.32, 6.94, 5.74, 6.46, 5.98, 5.32, 4.66, 5.38, 4.54, 7.0, 4.66, 5.62, 5.26, 3.94, 4.72, 6.16, 5.5, 3.8200000000000003, 4.78, 5.2, 5.08, 4.66, 5.26, 5.86, 7.0, 5.62, 4.18, 5.26, 5.38, 4.9, 3.94, 4.12, 4.9, 4.54, 5.8, 4.72, 4.42, 3.76, 4.48, 5.02, 5.38, 5.32, 3.4, 5.68, 4.78, 4.66, 5.74, 5.62, 5.2, 4.18, 3.7, 3.4, 5.92, 5.68, 5.5, 5.2, 4.3, 5.2, 2.8, 5.5, 4.78, 5.92, 5.44, 4.24, 5.26, 5.38, 5.62, 5.62, 6.22, 6.22, 5.44, 5.02, 3.58, 3.94, 3.94, 4.18, 4.84, 4.66, 5.74, 5.14, 4.24, 4.9, 5.62, 4.48, 5.38, 4.24, 4.24, 4.84, 4.54, 5.5600000000000005, 6.1, 6.82, 4.18, 4.12, 5.62, 5.74, 4.42, 4.96, 4.78, 4.9, 5.08, 4.3, 5.32, 6.16, 6.82, 5.5, 4.12, 5.44, 5.2, 3.34, 4.66, 3.64, 6.22, 4.96, 5.08, 4.72, 5.86, 5.2, 5.44, 5.5600000000000005, 4.54, 5.08, 5.38, 7.0, 1.48, 4.9, 3.4, 3.88, 6.34, 5.62, 4.9, 5.14, 5.08, 3.94, 4.72, 4.36, 3.76, 4.6, 6.46, 6.4, 5.38, 5.2, 3.8200000000000003, 4.9, 5.86, 4.3, 6.58, 4.9, 4.72, 3.88, 5.08, 4.96, 4.3, 3.52, 5.44, 3.22, 4.96, 6.28, 5.14, 4.66, 3.34, 6.22, 4.84, 3.64, 4.54, 5.8, 5.26, 4.18, 5.68, 4.3, 5.2, 4.9, 6.16, 4.24, 3.46, 6.4, 4.54, 4.9, 5.02, 6.34, 4.54, 5.38, 5.44, 6.16, 4.66, 4.42, 4.48, 3.7, 4.78, 5.02, 6.64, 4.36, 4.72, 5.2, 5.2, 5.5600000000000005, 4.84, 3.8200000000000003, 4.96, 3.4, 4.96, 5.08, 4.06, 6.28, 6.4, 4.12, 3.94, 4.18, 5.26, 4.0, 4.48, 3.52, 5.02, 3.34, 6.1, 5.68, 5.38, 5.08, 6.34, 3.4, 5.92, 5.62, 5.14, 5.74, 4.18, 3.58, 4.48, 6.28, 5.14, 6.1, 5.14, 5.32, 4.42, 4.48, 4.72, 5.5, 6.28, 5.86, 5.02, 5.02, 5.44, 5.26, 6.1, 4.36, 5.92, 4.6, 5.86, 6.22, 3.76, 4.48, 4.72, 5.5600000000000005, 4.6, 4.0, 5.62, 4.84, 4.66, 4.6, 5.02, 4.84, 6.4, 4.18, 3.88, 4.6, 5.92, 4.48, 4.6, 4.96, 6.1, 3.94, 5.62, 5.02, 5.14, 4.0, 4.72, 5.98, 5.86, 5.32, 6.52, 5.26, 6.28, 5.92, 5.26, 5.5, 4.06, 4.72, 5.5, 4.78, 5.26, 5.02, 5.26, 4.66, 4.36, 6.88, 5.92, 5.5, 4.54, 5.26, 3.64, 5.62, 4.9, 4.42, 4.6, 2.62, 4.48, 5.2, 3.2800000000000002, 3.52, 7.0, 6.34, 3.1, 5.62, 4.72, 5.74, 3.76, 4.54, 4.96, 3.8200000000000003, 5.62, 5.68, 4.12, 5.2, 4.48, 5.08, 5.14, 6.22, 4.12, 5.32, 6.1, 3.46, 4.66, 5.02, 4.24, 4.78, 4.12, 4.72, 4.48, 4.72, 4.9, 5.44, 5.74, 5.08, 4.78, 4.12, 4.54, 4.3, 4.96, 5.44, 6.46, 5.44, 5.86, 5.74, 6.4, 4.24, 5.68, 6.28, 4.72, 5.8, 5.8, 5.26, 5.5, 4.6, 6.28, 4.3, 4.0, 3.52, 5.14, 3.52, 4.48, 2.44, 5.02, 4.54, 4.54, 6.76, 3.7, 6.28, 5.32, 4.66, 5.86, 5.74, 3.8200000000000003, 3.94, 4.24, 5.26, 4.54, 6.34, 4.54, 4.42, 5.62, 5.62, 4.6, 5.5600000000000005, 2.92, 3.94, 5.5600000000000005, 4.84, 4.78, 4.0, 3.64, 4.96, 5.02, 4.66, 5.14, 4.9, 4.18, 6.22, 4.18, 4.96, 3.94, 5.02, 4.3, 2.8, 5.38, 4.72, 5.74, 4.78, 4.12, 4.48, 5.68, 5.44, 5.08, 5.92, 5.38, 4.54, 5.44, 6.04, 5.02, 6.22, 5.62, 4.48, 5.14, 4.9, 6.52, 6.22, 5.14, 5.38, 4.66, 5.02, 5.14, 5.44, 4.84, 3.16, 3.46, 3.94, 4.54, 6.04, 5.5600000000000005, 4.66, 4.72, 5.02, 4.24, 4.54, 5.08, 6.46, 6.76, 5.08, 5.44, 5.26, 3.1, 5.86, 4.18, 5.8, 5.5600000000000005, 4.78, 4.42, 4.48, 5.32, 4.3, 5.8, 3.46, 4.06, 6.1, 5.86, 4.12, 2.08, 5.38, 4.78, 4.54, 4.78, 4.78, 5.8, 4.6, 4.84, 6.88, 4.54, 4.9, 6.22, 4.96, 4.12, 5.38, 6.22, 5.74, 5.14, 3.8200000000000003, 6.52, 4.42, 6.28, 5.74, 5.26, 5.86, 4.9, 5.92, 4.9, 3.4, 5.38, 4.36, 5.14, 5.02, 6.46, 5.02, 4.9, 4.48, 4.3, 3.88, 4.18, 6.1, 4.72, 4.9, 5.92, 5.62, 4.0, 5.14, 1.0, 4.9, 5.14, 5.32, 7.0, 4.9, 3.8200000000000003, 4.06, 5.26, 5.92, 4.3, 5.5, 4.96, 5.32, 5.2, 4.42, 6.04, 4.66, 3.7, 4.9, 2.62, 6.28, 4.9, 4.78, 5.68, 4.9, 6.4, 7.0, 5.02, 5.44, 5.5600000000000005, 4.96, 4.54, 4.72, 3.46, 2.74, 5.14, 2.38, 4.96, 4.24, 5.08], \"xaxis\": \"x\", \"yaxis\": \"y\"}, {\"alignmentgroup\": \"True\", \"hoverlabel\": {\"namelength\": 0}, \"hovertemplate\": \"subject=math score<br>score=%{x}\", \"legendgroup\": \"subject=math score\", \"marker\": {\"color\": \"#636efa\"}, \"name\": \"subject=math score\", \"notched\": true, \"offsetgroup\": \"subject=math score\", \"showlegend\": false, \"type\": \"box\", \"x\": [3.22, 5.8, 5.38, 5.86, 6.64, 5.26, 5.5, 3.04, 4.78, 6.64, 4.9, 4.12, 4.72, 5.44, 4.72, 5.38, 3.76, 5.92, 4.78, 4.84, 5.8, 6.58, 5.14, 3.76, 6.16, 4.54, 6.04, 4.84, 5.38, 5.98, 5.5, 5.14, 5.08, 4.42, 4.96, 4.66, 3.4, 4.0, 3.88, 3.16, 5.68, 4.42, 5.14, 3.4, 6.52, 3.1, 4.78, 5.38, 4.78, 4.12, 5.38, 4.78, 5.26, 3.7, 6.1, 5.8, 5.62, 6.46, 4.6, 4.78, 3.4, 4.42, 4.48, 6.82, 5.86, 5.08, 4.54, 6.76, 6.22, 4.42, 6.64, 6.82, 4.9, 5.92, 5.32, 4.72, 3.64, 5.92, 5.5, 4.54, 5.5, 5.32, 5.08, 4.96, 5.02, 6.58, 5.14, 4.78, 3.76, 4.96, 4.72, 3.88, 5.26, 4.24, 5.8, 4.3, 6.4, 6.64, 5.86, 4.18, 4.66, 5.5, 5.44, 4.72, 5.2, 4.54, 4.72, 4.18, 5.8, 5.14, 5.14, 5.14, 3.94, 5.98, 4.9, 5.38, 5.08, 4.84, 4.9, 3.94, 4.48, 4.96, 4.9, 4.9, 5.2, 5.74, 4.0, 4.84, 5.08, 2.92, 5.08, 4.48, 2.14, 5.14, 5.32, 4.18, 4.66, 5.68, 4.18, 3.7, 3.64, 5.98, 4.9, 6.28, 6.28, 6.46, 6.04, 4.06, 3.2800000000000002, 3.8200000000000003, 4.96, 4.66, 4.6, 5.26, 3.7, 5.62, 4.18, 4.42, 5.32, 5.5600000000000005, 3.7, 6.94, 4.06, 4.84, 4.12, 5.8, 4.06, 4.0, 4.84, 5.44, 5.26, 4.42, 5.14, 5.62, 5.5, 3.58, 5.8, 4.54, 6.1, 4.3, 3.64, 3.52, 4.48, 4.66, 4.0, 6.28, 5.38, 5.02, 6.82, 4.66, 4.72, 4.24, 4.96, 5.68, 6.1, 6.04, 5.5600000000000005, 3.64, 5.86, 4.24, 4.48, 5.86, 5.32, 5.26, 4.66, 4.96, 5.26, 5.26, 6.34, 5.38, 5.86, 3.76, 2.32, 3.88, 3.64, 6.46, 5.5600000000000005, 5.62, 4.72, 5.02, 6.16, 4.48, 4.18, 4.42, 5.14, 4.72, 3.22, 6.28, 6.4, 5.08, 4.9, 4.78, 4.12, 3.88, 4.9, 4.24, 2.74, 2.56, 5.2, 5.5, 4.6, 6.88, 6.58, 4.54, 3.76, 5.5600000000000005, 5.74, 2.68, 4.3, 4.66, 3.1, 6.64, 3.76, 7.0, 5.02, 4.0, 5.74, 5.26, 5.98, 4.3, 3.88, 5.5600000000000005, 5.62, 4.72, 4.36, 5.08, 6.04, 5.8, 4.72, 4.6, 4.84, 2.74, 4.12, 4.18, 5.02, 5.92, 4.36, 5.74, 5.38, 4.96, 5.38, 4.96, 6.04, 5.44, 5.5600000000000005, 5.86, 5.74, 5.08, 4.78, 4.0, 5.32, 6.1, 5.98, 6.04, 4.9, 6.1, 5.2, 4.48, 6.16, 4.84, 4.9, 4.66, 3.94, 4.18, 6.82, 5.5, 5.32, 5.44, 4.54, 5.08, 5.68, 4.18, 5.32, 6.94, 5.74, 6.46, 5.98, 5.32, 4.66, 5.38, 4.54, 7.0, 4.66, 5.62, 5.26, 3.94, 4.72, 6.16, 5.5, 3.8200000000000003, 4.78, 5.2, 5.08, 4.66, 5.26, 5.86, 7.0, 5.62, 4.18, 5.26, 5.38, 4.9, 3.94, 4.12, 4.9, 4.54, 5.8, 4.72, 4.42, 3.76, 4.48, 5.02, 5.38, 5.32, 3.4, 5.68, 4.78, 4.66, 5.74, 5.62, 5.2, 4.18, 3.7, 3.4, 5.92, 5.68, 5.5, 5.2, 4.3, 5.2, 2.8, 5.5, 4.78, 5.92, 5.44, 4.24, 5.26, 5.38, 5.62, 5.62, 6.22, 6.22, 5.44, 5.02, 3.58, 3.94, 3.94, 4.18, 4.84, 4.66, 5.74, 5.14, 4.24, 4.9, 5.62, 4.48, 5.38, 4.24, 4.24, 4.84, 4.54, 5.5600000000000005, 6.1, 6.82, 4.18, 4.12, 5.62, 5.74, 4.42, 4.96, 4.78, 4.9, 5.08, 4.3, 5.32, 6.16, 6.82, 5.5, 4.12, 5.44, 5.2, 3.34, 4.66, 3.64, 6.22, 4.96, 5.08, 4.72, 5.86, 5.2, 5.44, 5.5600000000000005, 4.54, 5.08, 5.38, 7.0, 1.48, 4.9, 3.4, 3.88, 6.34, 5.62, 4.9, 5.14, 5.08, 3.94, 4.72, 4.36, 3.76, 4.6, 6.46, 6.4, 5.38, 5.2, 3.8200000000000003, 4.9, 5.86, 4.3, 6.58, 4.9, 4.72, 3.88, 5.08, 4.96, 4.3, 3.52, 5.44, 3.22, 4.96, 6.28, 5.14, 4.66, 3.34, 6.22, 4.84, 3.64, 4.54, 5.8, 5.26, 4.18, 5.68, 4.3, 5.2, 4.9, 6.16, 4.24, 3.46, 6.4, 4.54, 4.9, 5.02, 6.34, 4.54, 5.38, 5.44, 6.16, 4.66, 4.42, 4.48, 3.7, 4.78, 5.02, 6.64, 4.36, 4.72, 5.2, 5.2, 5.5600000000000005, 4.84, 3.8200000000000003, 4.96, 3.4, 4.96, 5.08, 4.06, 6.28, 6.4, 4.12, 3.94, 4.18, 5.26, 4.0, 4.48, 3.52, 5.02, 3.34, 6.1, 5.68, 5.38, 5.08, 6.34, 3.4, 5.92, 5.62, 5.14, 5.74, 4.18, 3.58, 4.48, 6.28, 5.14, 6.1, 5.14, 5.32, 4.42, 4.48, 4.72, 5.5, 6.28, 5.86, 5.02, 5.02, 5.44, 5.26, 6.1, 4.36, 5.92, 4.6, 5.86, 6.22, 3.76, 4.48, 4.72, 5.5600000000000005, 4.6, 4.0, 5.62, 4.84, 4.66, 4.6, 5.02, 4.84, 6.4, 4.18, 3.88, 4.6, 5.92, 4.48, 4.6, 4.96, 6.1, 3.94, 5.62, 5.02, 5.14, 4.0, 4.72, 5.98, 5.86, 5.32, 6.52, 5.26, 6.28, 5.92, 5.26, 5.5, 4.06, 4.72, 5.5, 4.78, 5.26, 5.02, 5.26, 4.66, 4.36, 6.88, 5.92, 5.5, 4.54, 5.26, 3.64, 5.62, 4.9, 4.42, 4.6, 2.62, 4.48, 5.2, 3.2800000000000002, 3.52, 7.0, 6.34, 3.1, 5.62, 4.72, 5.74, 3.76, 4.54, 4.96, 3.8200000000000003, 5.62, 5.68, 4.12, 5.2, 4.48, 5.08, 5.14, 6.22, 4.12, 5.32, 6.1, 3.46, 4.66, 5.02, 4.24, 4.78, 4.12, 4.72, 4.48, 4.72, 4.9, 5.44, 5.74, 5.08, 4.78, 4.12, 4.54, 4.3, 4.96, 5.44, 6.46, 5.44, 5.86, 5.74, 6.4, 4.24, 5.68, 6.28, 4.72, 5.8, 5.8, 5.26, 5.5, 4.6, 6.28, 4.3, 4.0, 3.52, 5.14, 3.52, 4.48, 2.44, 5.02, 4.54, 4.54, 6.76, 3.7, 6.28, 5.32, 4.66, 5.86, 5.74, 3.8200000000000003, 3.94, 4.24, 5.26, 4.54, 6.34, 4.54, 4.42, 5.62, 5.62, 4.6, 5.5600000000000005, 2.92, 3.94, 5.5600000000000005, 4.84, 4.78, 4.0, 3.64, 4.96, 5.02, 4.66, 5.14, 4.9, 4.18, 6.22, 4.18, 4.96, 3.94, 5.02, 4.3, 2.8, 5.38, 4.72, 5.74, 4.78, 4.12, 4.48, 5.68, 5.44, 5.08, 5.92, 5.38, 4.54, 5.44, 6.04, 5.02, 6.22, 5.62, 4.48, 5.14, 4.9, 6.52, 6.22, 5.14, 5.38, 4.66, 5.02, 5.14, 5.44, 4.84, 3.16, 3.46, 3.94, 4.54, 6.04, 5.5600000000000005, 4.66, 4.72, 5.02, 4.24, 4.54, 5.08, 6.46, 6.76, 5.08, 5.44, 5.26, 3.1, 5.86, 4.18, 5.8, 5.5600000000000005, 4.78, 4.42, 4.48, 5.32, 4.3, 5.8, 3.46, 4.06, 6.1, 5.86, 4.12, 2.08, 5.38, 4.78, 4.54, 4.78, 4.78, 5.8, 4.6, 4.84, 6.88, 4.54, 4.9, 6.22, 4.96, 4.12, 5.38, 6.22, 5.74, 5.14, 3.8200000000000003, 6.52, 4.42, 6.28, 5.74, 5.26, 5.86, 4.9, 5.92, 4.9, 3.4, 5.38, 4.36, 5.14, 5.02, 6.46, 5.02, 4.9, 4.48, 4.3, 3.88, 4.18, 6.1, 4.72, 4.9, 5.92, 5.62, 4.0, 5.14, 1.0, 4.9, 5.14, 5.32, 7.0, 4.9, 3.8200000000000003, 4.06, 5.26, 5.92, 4.3, 5.5, 4.96, 5.32, 5.2, 4.42, 6.04, 4.66, 3.7, 4.9, 2.62, 6.28, 4.9, 4.78, 5.68, 4.9, 6.4, 7.0, 5.02, 5.44, 5.5600000000000005, 4.96, 4.54, 4.72, 3.46, 2.74, 5.14, 2.38, 4.96, 4.24, 5.08], \"xaxis\": \"x2\", \"yaxis\": \"y2\"}, {\"alignmentgroup\": \"True\", \"bingroup\": \"x\", \"hoverlabel\": {\"namelength\": 0}, \"hovertemplate\": \"subject=reading score<br>score=%{x}<br>count=%{y}\", \"legendgroup\": \"subject=reading score\", \"marker\": {\"color\": \"#EF553B\"}, \"name\": \"subject=reading score\", \"nbinsx\": 7, \"offsetgroup\": \"subject=reading score\", \"orientation\": \"v\", \"showlegend\": true, \"type\": \"histogram\", \"x\": [3.76, 5.68, 4.96, 5.5, 6.16, 4.66, 5.08, 3.88, 4.66, 5.38, 5.68, 5.5600000000000005, 4.9, 5.44, 4.42, 5.14, 3.52, 5.92, 4.66, 5.38, 5.5, 7.0, 5.5600000000000005, 4.66, 5.86, 5.32, 5.98, 4.84, 5.5600000000000005, 6.16, 6.28, 5.44, 5.32, 4.66, 4.84, 4.66, 4.54, 5.02, 4.72, 2.74, 5.74, 5.02, 4.48, 4.3, 6.22, 2.68, 5.02, 5.44, 4.84, 4.54, 5.74, 5.38, 4.6, 4.54, 6.52, 5.5600000000000005, 6.64, 6.1, 4.72, 3.88, 3.88, 4.24, 4.24, 5.92, 5.92, 4.9, 5.26, 6.4, 6.04, 5.5, 6.28, 6.58, 5.86, 6.58, 4.42, 5.44, 4.24, 6.04, 6.4, 3.46, 5.38, 5.08, 5.68, 5.44, 4.72, 6.4, 4.78, 5.44, 4.84, 5.08, 5.38, 4.36, 5.2, 5.32, 5.98, 4.54, 6.22, 6.94, 5.38, 3.58, 5.08, 6.1, 5.86, 5.32, 5.68, 4.06, 5.32, 4.0, 6.1, 4.96, 5.68, 5.62, 3.7, 6.58, 4.66, 4.84, 5.98, 4.96, 5.62, 4.42, 5.02, 5.68, 5.2, 5.74, 5.08, 5.86, 5.02, 4.24, 4.6, 4.06, 4.06, 4.42, 3.2800000000000002, 5.62, 5.74, 4.48, 4.06, 5.32, 4.72, 4.36, 4.06, 5.98, 5.5600000000000005, 5.68, 6.7, 6.34, 6.22, 4.96, 3.94, 4.18, 4.42, 5.38, 5.08, 5.26, 4.78, 6.16, 4.48, 4.06, 4.84, 5.26, 3.88, 6.58, 5.32, 4.6, 4.66, 5.38, 4.24, 3.88, 5.38, 5.44, 5.62, 5.44, 5.2, 6.4, 5.44, 4.06, 5.08, 5.32, 5.86, 5.5600000000000005, 4.78, 4.72, 4.54, 3.8200000000000003, 4.96, 5.44, 5.68, 6.16, 7.0, 4.48, 4.84, 4.78, 5.26, 6.46, 5.5, 6.04, 6.64, 4.66, 6.04, 3.94, 4.78, 5.92, 5.86, 3.94, 3.52, 5.62, 5.5600000000000005, 4.96, 6.28, 5.98, 5.86, 3.04, 3.34, 4.12, 4.84, 5.86, 5.8, 5.68, 5.32, 4.84, 5.86, 5.2, 4.12, 4.48, 5.38, 4.96, 4.42, 6.34, 5.5, 5.2, 5.5, 5.14, 4.42, 3.58, 4.24, 4.24, 3.46, 2.86, 5.5, 5.44, 4.42, 6.22, 6.04, 4.24, 4.24, 4.84, 6.28, 2.38, 5.26, 4.42, 4.18, 6.1, 4.48, 7.0, 5.8, 3.8200000000000003, 6.04, 5.86, 5.92, 4.84, 4.48, 5.38, 5.62, 5.68, 5.08, 6.16, 5.62, 5.5, 5.2, 4.96, 4.72, 3.4, 4.9, 4.66, 4.66, 6.7, 5.74, 5.5600000000000005, 5.08, 5.44, 6.16, 4.9, 5.38, 5.62, 5.26, 5.32, 6.34, 5.26, 5.68, 4.36, 4.9, 6.52, 5.68, 6.7, 5.62, 6.16, 5.2, 4.78, 5.8, 5.92, 5.86, 4.3, 4.06, 4.06, 6.82, 5.32, 5.38, 5.74, 5.02, 5.08, 5.62, 4.48, 4.42, 7.0, 6.34, 5.38, 5.32, 5.74, 4.72, 5.44, 4.24, 6.76, 4.96, 5.74, 5.02, 4.18, 4.66, 6.52, 5.86, 4.54, 5.5, 5.5, 4.78, 4.36, 4.96, 6.82, 7.0, 6.4, 3.64, 5.98, 5.08, 5.92, 3.94, 4.54, 5.5, 4.6, 4.84, 3.94, 3.58, 3.58, 5.38, 4.24, 4.96, 5.32, 3.58, 5.98, 4.9, 5.32, 5.44, 5.92, 6.04, 4.24, 4.18, 4.48, 6.1, 5.32, 4.96, 4.84, 4.3, 6.34, 2.56, 6.04, 4.84, 5.92, 5.86, 4.54, 6.04, 6.04, 6.28, 6.28, 6.04, 5.44, 5.38, 4.84, 4.72, 4.12, 4.9, 4.24, 4.18, 6.16, 6.52, 5.26, 4.12, 6.16, 6.46, 4.66, 5.5600000000000005, 4.84, 4.18, 4.48, 5.32, 5.44, 6.04, 6.52, 5.2, 4.3, 5.5600000000000005, 5.32, 5.62, 5.14, 5.38, 6.1, 5.02, 4.48, 4.96, 5.5600000000000005, 6.22, 5.08, 3.94, 5.2, 5.92, 4.12, 5.44, 4.0, 6.04, 4.9, 5.62, 5.02, 4.96, 4.78, 5.5, 5.68, 5.2, 5.08, 4.96, 7.0, 2.44, 4.84, 4.9, 4.96, 6.04, 5.92, 5.38, 5.62, 5.32, 4.06, 5.14, 5.08, 4.36, 4.06, 6.7, 6.4, 4.36, 5.32, 3.94, 4.9, 5.62, 3.76, 7.0, 5.2, 4.66, 3.7, 4.54, 5.14, 3.76, 4.3, 5.62, 4.36, 4.78, 5.68, 5.62, 5.26, 4.84, 7.0, 4.78, 3.46, 5.68, 5.74, 6.22, 4.48, 5.86, 5.38, 5.2, 5.14, 5.38, 4.12, 4.06, 6.4, 4.48, 5.86, 5.74, 6.04, 4.78, 5.26, 6.4, 5.98, 4.48, 5.68, 4.12, 3.22, 4.78, 5.38, 6.22, 4.12, 4.96, 4.9, 5.44, 5.98, 5.44, 4.24, 5.44, 4.12, 5.44, 5.44, 2.86, 6.04, 6.7, 4.42, 4.18, 4.12, 5.44, 3.88, 4.3, 4.12, 4.42, 3.34, 6.4, 5.44, 5.68, 5.2, 7.0, 3.52, 5.02, 6.1, 6.04, 6.16, 4.72, 3.7, 4.3, 5.62, 5.2, 6.46, 4.6, 5.8, 4.0, 4.66, 4.78, 5.62, 6.94, 6.46, 5.68, 5.14, 5.74, 5.44, 6.04, 4.24, 4.72, 4.84, 5.5, 6.1, 3.58, 5.08, 4.3, 5.32, 5.08, 3.52, 6.34, 4.0, 5.08, 4.54, 4.42, 5.38, 6.1, 3.7, 4.36, 5.2, 6.4, 5.02, 5.5, 4.54, 6.7, 4.12, 5.14, 5.5600000000000005, 5.74, 4.6, 4.36, 6.1, 5.26, 5.74, 7.0, 5.2, 6.94, 6.58, 5.14, 5.92, 3.94, 4.3, 5.86, 4.3, 5.98, 5.32, 5.98, 4.36, 4.66, 6.16, 6.04, 6.28, 4.72, 5.5, 3.7, 5.08, 5.5600000000000005, 3.88, 4.6, 3.04, 4.0, 4.84, 3.58, 4.96, 6.52, 5.5600000000000005, 3.64, 4.72, 4.84, 5.92, 3.46, 5.2, 5.62, 3.22, 5.08, 5.62, 3.88, 5.26, 4.42, 4.24, 5.32, 6.64, 4.18, 5.8, 6.34, 3.34, 5.26, 6.34, 3.88, 4.78, 4.48, 4.3, 4.6, 5.02, 5.62, 6.28, 5.38, 5.08, 5.8, 5.2, 3.52, 3.8200000000000003, 4.6, 5.5600000000000005, 6.16, 4.78, 5.44, 5.92, 5.68, 4.48, 5.92, 6.52, 5.02, 6.16, 4.78, 5.74, 6.16, 5.32, 5.5, 4.66, 4.6, 4.66, 5.5, 3.34, 5.5, 3.2800000000000002, 6.04, 4.72, 4.72, 6.76, 3.8200000000000003, 6.1, 5.02, 5.02, 5.8, 6.1, 4.72, 4.48, 4.6, 5.26, 4.48, 6.22, 6.1, 4.48, 5.02, 5.02, 4.78, 5.68, 3.04, 4.42, 4.72, 5.5600000000000005, 5.68, 4.18, 4.06, 4.72, 6.04, 4.6, 6.04, 5.38, 5.32, 6.4, 4.96, 5.98, 4.9, 5.44, 5.32, 2.44, 6.52, 4.72, 4.6, 4.42, 4.9, 5.5600000000000005, 6.4, 6.34, 5.5600000000000005, 6.82, 5.2, 4.96, 6.16, 5.98, 6.16, 6.7, 6.82, 4.06, 4.96, 4.96, 7.0, 5.44, 4.24, 5.02, 4.6, 5.86, 6.4, 5.86, 4.6, 4.18, 4.12, 4.48, 5.14, 6.22, 5.98, 5.32, 5.02, 5.5, 4.84, 4.78, 5.02, 5.44, 7.0, 4.84, 5.5, 5.5600000000000005, 4.66, 5.68, 3.22, 5.5600000000000005, 5.2, 5.26, 5.08, 5.2, 4.96, 4.9, 6.52, 4.3, 4.36, 5.5600000000000005, 6.52, 4.54, 2.92, 5.74, 5.02, 5.38, 4.6, 5.38, 6.4, 3.64, 4.36, 7.0, 5.26, 5.14, 6.46, 5.5600000000000005, 4.3, 5.5, 6.04, 5.02, 4.6, 4.48, 5.74, 5.14, 6.7, 5.68, 4.72, 5.86, 5.86, 5.68, 5.14, 3.76, 5.8, 5.32, 4.48, 5.32, 6.76, 5.5, 5.44, 4.54, 3.46, 4.48, 4.66, 4.96, 5.02, 6.04, 5.92, 4.72, 4.84, 4.9, 2.02, 5.02, 6.16, 5.02, 7.0, 4.48, 4.42, 4.06, 5.44, 5.92, 4.9, 5.92, 4.96, 5.32, 4.3, 4.36, 6.34, 3.88, 4.12, 4.54, 3.04, 5.38, 5.92, 4.96, 5.86, 5.32, 6.22, 6.82, 5.44, 5.5, 5.02, 5.32, 4.84, 5.5600000000000005, 3.76, 2.74, 5.5, 3.64, 5.44, 4.66, 5.8], \"xaxis\": \"x\", \"yaxis\": \"y\"}, {\"alignmentgroup\": \"True\", \"hoverlabel\": {\"namelength\": 0}, \"hovertemplate\": \"subject=reading score<br>score=%{x}\", \"legendgroup\": \"subject=reading score\", \"marker\": {\"color\": \"#EF553B\"}, \"name\": \"subject=reading score\", \"notched\": true, \"offsetgroup\": \"subject=reading score\", \"showlegend\": false, \"type\": \"box\", \"x\": [3.76, 5.68, 4.96, 5.5, 6.16, 4.66, 5.08, 3.88, 4.66, 5.38, 5.68, 5.5600000000000005, 4.9, 5.44, 4.42, 5.14, 3.52, 5.92, 4.66, 5.38, 5.5, 7.0, 5.5600000000000005, 4.66, 5.86, 5.32, 5.98, 4.84, 5.5600000000000005, 6.16, 6.28, 5.44, 5.32, 4.66, 4.84, 4.66, 4.54, 5.02, 4.72, 2.74, 5.74, 5.02, 4.48, 4.3, 6.22, 2.68, 5.02, 5.44, 4.84, 4.54, 5.74, 5.38, 4.6, 4.54, 6.52, 5.5600000000000005, 6.64, 6.1, 4.72, 3.88, 3.88, 4.24, 4.24, 5.92, 5.92, 4.9, 5.26, 6.4, 6.04, 5.5, 6.28, 6.58, 5.86, 6.58, 4.42, 5.44, 4.24, 6.04, 6.4, 3.46, 5.38, 5.08, 5.68, 5.44, 4.72, 6.4, 4.78, 5.44, 4.84, 5.08, 5.38, 4.36, 5.2, 5.32, 5.98, 4.54, 6.22, 6.94, 5.38, 3.58, 5.08, 6.1, 5.86, 5.32, 5.68, 4.06, 5.32, 4.0, 6.1, 4.96, 5.68, 5.62, 3.7, 6.58, 4.66, 4.84, 5.98, 4.96, 5.62, 4.42, 5.02, 5.68, 5.2, 5.74, 5.08, 5.86, 5.02, 4.24, 4.6, 4.06, 4.06, 4.42, 3.2800000000000002, 5.62, 5.74, 4.48, 4.06, 5.32, 4.72, 4.36, 4.06, 5.98, 5.5600000000000005, 5.68, 6.7, 6.34, 6.22, 4.96, 3.94, 4.18, 4.42, 5.38, 5.08, 5.26, 4.78, 6.16, 4.48, 4.06, 4.84, 5.26, 3.88, 6.58, 5.32, 4.6, 4.66, 5.38, 4.24, 3.88, 5.38, 5.44, 5.62, 5.44, 5.2, 6.4, 5.44, 4.06, 5.08, 5.32, 5.86, 5.5600000000000005, 4.78, 4.72, 4.54, 3.8200000000000003, 4.96, 5.44, 5.68, 6.16, 7.0, 4.48, 4.84, 4.78, 5.26, 6.46, 5.5, 6.04, 6.64, 4.66, 6.04, 3.94, 4.78, 5.92, 5.86, 3.94, 3.52, 5.62, 5.5600000000000005, 4.96, 6.28, 5.98, 5.86, 3.04, 3.34, 4.12, 4.84, 5.86, 5.8, 5.68, 5.32, 4.84, 5.86, 5.2, 4.12, 4.48, 5.38, 4.96, 4.42, 6.34, 5.5, 5.2, 5.5, 5.14, 4.42, 3.58, 4.24, 4.24, 3.46, 2.86, 5.5, 5.44, 4.42, 6.22, 6.04, 4.24, 4.24, 4.84, 6.28, 2.38, 5.26, 4.42, 4.18, 6.1, 4.48, 7.0, 5.8, 3.8200000000000003, 6.04, 5.86, 5.92, 4.84, 4.48, 5.38, 5.62, 5.68, 5.08, 6.16, 5.62, 5.5, 5.2, 4.96, 4.72, 3.4, 4.9, 4.66, 4.66, 6.7, 5.74, 5.5600000000000005, 5.08, 5.44, 6.16, 4.9, 5.38, 5.62, 5.26, 5.32, 6.34, 5.26, 5.68, 4.36, 4.9, 6.52, 5.68, 6.7, 5.62, 6.16, 5.2, 4.78, 5.8, 5.92, 5.86, 4.3, 4.06, 4.06, 6.82, 5.32, 5.38, 5.74, 5.02, 5.08, 5.62, 4.48, 4.42, 7.0, 6.34, 5.38, 5.32, 5.74, 4.72, 5.44, 4.24, 6.76, 4.96, 5.74, 5.02, 4.18, 4.66, 6.52, 5.86, 4.54, 5.5, 5.5, 4.78, 4.36, 4.96, 6.82, 7.0, 6.4, 3.64, 5.98, 5.08, 5.92, 3.94, 4.54, 5.5, 4.6, 4.84, 3.94, 3.58, 3.58, 5.38, 4.24, 4.96, 5.32, 3.58, 5.98, 4.9, 5.32, 5.44, 5.92, 6.04, 4.24, 4.18, 4.48, 6.1, 5.32, 4.96, 4.84, 4.3, 6.34, 2.56, 6.04, 4.84, 5.92, 5.86, 4.54, 6.04, 6.04, 6.28, 6.28, 6.04, 5.44, 5.38, 4.84, 4.72, 4.12, 4.9, 4.24, 4.18, 6.16, 6.52, 5.26, 4.12, 6.16, 6.46, 4.66, 5.5600000000000005, 4.84, 4.18, 4.48, 5.32, 5.44, 6.04, 6.52, 5.2, 4.3, 5.5600000000000005, 5.32, 5.62, 5.14, 5.38, 6.1, 5.02, 4.48, 4.96, 5.5600000000000005, 6.22, 5.08, 3.94, 5.2, 5.92, 4.12, 5.44, 4.0, 6.04, 4.9, 5.62, 5.02, 4.96, 4.78, 5.5, 5.68, 5.2, 5.08, 4.96, 7.0, 2.44, 4.84, 4.9, 4.96, 6.04, 5.92, 5.38, 5.62, 5.32, 4.06, 5.14, 5.08, 4.36, 4.06, 6.7, 6.4, 4.36, 5.32, 3.94, 4.9, 5.62, 3.76, 7.0, 5.2, 4.66, 3.7, 4.54, 5.14, 3.76, 4.3, 5.62, 4.36, 4.78, 5.68, 5.62, 5.26, 4.84, 7.0, 4.78, 3.46, 5.68, 5.74, 6.22, 4.48, 5.86, 5.38, 5.2, 5.14, 5.38, 4.12, 4.06, 6.4, 4.48, 5.86, 5.74, 6.04, 4.78, 5.26, 6.4, 5.98, 4.48, 5.68, 4.12, 3.22, 4.78, 5.38, 6.22, 4.12, 4.96, 4.9, 5.44, 5.98, 5.44, 4.24, 5.44, 4.12, 5.44, 5.44, 2.86, 6.04, 6.7, 4.42, 4.18, 4.12, 5.44, 3.88, 4.3, 4.12, 4.42, 3.34, 6.4, 5.44, 5.68, 5.2, 7.0, 3.52, 5.02, 6.1, 6.04, 6.16, 4.72, 3.7, 4.3, 5.62, 5.2, 6.46, 4.6, 5.8, 4.0, 4.66, 4.78, 5.62, 6.94, 6.46, 5.68, 5.14, 5.74, 5.44, 6.04, 4.24, 4.72, 4.84, 5.5, 6.1, 3.58, 5.08, 4.3, 5.32, 5.08, 3.52, 6.34, 4.0, 5.08, 4.54, 4.42, 5.38, 6.1, 3.7, 4.36, 5.2, 6.4, 5.02, 5.5, 4.54, 6.7, 4.12, 5.14, 5.5600000000000005, 5.74, 4.6, 4.36, 6.1, 5.26, 5.74, 7.0, 5.2, 6.94, 6.58, 5.14, 5.92, 3.94, 4.3, 5.86, 4.3, 5.98, 5.32, 5.98, 4.36, 4.66, 6.16, 6.04, 6.28, 4.72, 5.5, 3.7, 5.08, 5.5600000000000005, 3.88, 4.6, 3.04, 4.0, 4.84, 3.58, 4.96, 6.52, 5.5600000000000005, 3.64, 4.72, 4.84, 5.92, 3.46, 5.2, 5.62, 3.22, 5.08, 5.62, 3.88, 5.26, 4.42, 4.24, 5.32, 6.64, 4.18, 5.8, 6.34, 3.34, 5.26, 6.34, 3.88, 4.78, 4.48, 4.3, 4.6, 5.02, 5.62, 6.28, 5.38, 5.08, 5.8, 5.2, 3.52, 3.8200000000000003, 4.6, 5.5600000000000005, 6.16, 4.78, 5.44, 5.92, 5.68, 4.48, 5.92, 6.52, 5.02, 6.16, 4.78, 5.74, 6.16, 5.32, 5.5, 4.66, 4.6, 4.66, 5.5, 3.34, 5.5, 3.2800000000000002, 6.04, 4.72, 4.72, 6.76, 3.8200000000000003, 6.1, 5.02, 5.02, 5.8, 6.1, 4.72, 4.48, 4.6, 5.26, 4.48, 6.22, 6.1, 4.48, 5.02, 5.02, 4.78, 5.68, 3.04, 4.42, 4.72, 5.5600000000000005, 5.68, 4.18, 4.06, 4.72, 6.04, 4.6, 6.04, 5.38, 5.32, 6.4, 4.96, 5.98, 4.9, 5.44, 5.32, 2.44, 6.52, 4.72, 4.6, 4.42, 4.9, 5.5600000000000005, 6.4, 6.34, 5.5600000000000005, 6.82, 5.2, 4.96, 6.16, 5.98, 6.16, 6.7, 6.82, 4.06, 4.96, 4.96, 7.0, 5.44, 4.24, 5.02, 4.6, 5.86, 6.4, 5.86, 4.6, 4.18, 4.12, 4.48, 5.14, 6.22, 5.98, 5.32, 5.02, 5.5, 4.84, 4.78, 5.02, 5.44, 7.0, 4.84, 5.5, 5.5600000000000005, 4.66, 5.68, 3.22, 5.5600000000000005, 5.2, 5.26, 5.08, 5.2, 4.96, 4.9, 6.52, 4.3, 4.36, 5.5600000000000005, 6.52, 4.54, 2.92, 5.74, 5.02, 5.38, 4.6, 5.38, 6.4, 3.64, 4.36, 7.0, 5.26, 5.14, 6.46, 5.5600000000000005, 4.3, 5.5, 6.04, 5.02, 4.6, 4.48, 5.74, 5.14, 6.7, 5.68, 4.72, 5.86, 5.86, 5.68, 5.14, 3.76, 5.8, 5.32, 4.48, 5.32, 6.76, 5.5, 5.44, 4.54, 3.46, 4.48, 4.66, 4.96, 5.02, 6.04, 5.92, 4.72, 4.84, 4.9, 2.02, 5.02, 6.16, 5.02, 7.0, 4.48, 4.42, 4.06, 5.44, 5.92, 4.9, 5.92, 4.96, 5.32, 4.3, 4.36, 6.34, 3.88, 4.12, 4.54, 3.04, 5.38, 5.92, 4.96, 5.86, 5.32, 6.22, 6.82, 5.44, 5.5, 5.02, 5.32, 4.84, 5.5600000000000005, 3.76, 2.74, 5.5, 3.64, 5.44, 4.66, 5.8], \"xaxis\": \"x2\", \"yaxis\": \"y2\"}, {\"alignmentgroup\": \"True\", \"bingroup\": \"x\", \"hoverlabel\": {\"namelength\": 0}, \"hovertemplate\": \"subject=writing score<br>score=%{x}<br>count=%{y}\", \"legendgroup\": \"subject=writing score\", \"marker\": {\"color\": \"#00cc96\"}, \"name\": \"subject=writing score\", \"nbinsx\": 7, \"offsetgroup\": \"subject=writing score\", \"orientation\": \"v\", \"showlegend\": true, \"type\": \"histogram\", \"x\": [3.76, 5.86, 4.78, 5.5600000000000005, 6.22, 5.14, 4.84, 3.46, 4.66, 5.26, 5.92, 5.2, 4.48, 5.32, 4.72, 5.08, 3.76, 5.44, 4.6, 5.08, 5.62, 7.0, 5.44, 4.3, 5.8, 5.2, 5.5, 5.02, 5.68, 6.28, 6.1, 5.44, 4.9, 4.24, 4.72, 4.72, 4.24, 4.78, 4.6, 2.62, 5.5600000000000005, 5.32, 4.42, 4.18, 5.68, 2.62, 5.2, 4.66, 5.02, 4.9, 5.74, 5.26, 4.66, 4.84, 6.1, 4.9, 6.7, 6.1, 4.6, 3.8200000000000003, 4.0, 4.36, 4.12, 6.28, 5.92, 4.66, 4.9, 6.52, 6.16, 5.38, 5.68, 6.46, 5.86, 6.58, 4.48, 5.2, 4.18, 5.68, 6.28, 3.52, 5.44, 5.02, 5.62, 5.68, 4.6, 5.98, 4.66, 5.44, 4.96, 4.84, 5.2, 4.06, 5.2, 4.54, 5.98, 4.24, 6.1, 7.0, 5.32, 3.58, 4.78, 5.92, 5.26, 4.9, 5.68, 3.58, 5.44, 4.6, 6.1, 4.66, 5.5600000000000005, 5.62, 3.7, 6.7, 5.26, 4.42, 5.68, 4.54, 5.44, 3.76, 4.72, 5.68, 5.44, 5.86, 5.32, 5.92, 5.38, 4.0, 4.54, 3.64, 4.42, 4.24, 2.92, 5.38, 5.44, 4.42, 4.12, 5.14, 4.18, 4.24, 3.88, 6.4, 5.5, 5.98, 6.64, 6.52, 6.46, 4.72, 3.7, 4.48, 4.12, 4.78, 4.6, 5.44, 4.54, 6.16, 4.3, 4.24, 4.78, 5.38, 3.76, 6.4, 5.74, 4.48, 4.96, 5.32, 3.46, 3.52, 5.2, 5.32, 5.62, 5.5600000000000005, 5.02, 6.1, 4.96, 4.24, 5.32, 5.08, 6.1, 5.5600000000000005, 4.72, 4.6, 4.48, 4.36, 4.84, 5.5, 5.32, 5.98, 7.0, 4.36, 4.96, 5.02, 5.5600000000000005, 6.76, 5.08, 5.8, 6.22, 4.12, 5.92, 3.8200000000000003, 4.9, 6.04, 5.74, 4.12, 3.46, 5.38, 5.98, 4.9, 5.92, 5.5600000000000005, 5.74, 3.16, 2.98, 3.7, 4.48, 5.74, 5.38, 5.38, 5.2, 4.66, 5.5, 5.08, 3.94, 4.84, 5.38, 5.08, 4.36, 6.16, 5.14, 4.96, 5.2, 5.44, 4.36, 3.7, 4.42, 3.7, 3.8200000000000003, 3.2800000000000002, 5.68, 5.14, 4.06, 6.4, 6.4, 4.06, 4.48, 4.96, 6.64, 2.14, 5.14, 4.36, 3.76, 5.92, 4.42, 7.0, 5.86, 4.24, 6.46, 5.8, 6.04, 5.2, 4.12, 5.08, 5.38, 5.74, 5.2, 6.04, 5.44, 5.14, 5.5, 5.2, 5.08, 3.64, 5.14, 5.08, 5.08, 6.34, 5.32, 4.9, 4.96, 5.14, 5.92, 5.14, 5.14, 5.38, 5.32, 5.62, 6.16, 5.5, 5.8, 4.24, 5.08, 6.58, 5.38, 6.52, 5.44, 6.88, 5.2, 5.38, 5.5, 5.62, 5.86, 4.12, 4.06, 4.06, 6.76, 4.72, 5.44, 5.5, 4.66, 5.02, 5.62, 3.64, 4.72, 7.0, 6.34, 5.8, 5.68, 5.62, 4.66, 5.32, 5.02, 6.16, 4.66, 5.8, 5.02, 4.18, 4.3, 6.22, 5.26, 4.0, 5.86, 5.44, 4.24, 4.3, 4.6, 6.76, 6.58, 6.46, 3.52, 5.98, 4.96, 5.86, 3.46, 4.36, 5.62, 4.48, 4.96, 4.12, 3.8200000000000003, 3.46, 5.08, 4.78, 4.72, 5.26, 3.34, 5.8, 4.66, 5.2, 5.32, 6.34, 5.86, 3.88, 4.3, 4.24, 6.16, 5.2, 5.38, 5.32, 3.8200000000000003, 6.28, 2.32, 5.8, 4.96, 5.8, 5.98, 4.0, 6.22, 6.1, 6.22, 6.1, 6.22, 5.2, 5.02, 5.2, 4.66, 4.06, 4.66, 3.88, 4.42, 6.22, 6.34, 4.9, 4.12, 5.8, 6.28, 4.12, 5.8, 5.08, 3.8200000000000003, 4.06, 5.8, 5.38, 6.34, 6.16, 5.2, 4.42, 5.62, 5.14, 5.8, 4.78, 5.68, 5.5600000000000005, 5.38, 4.12, 4.96, 5.44, 5.92, 4.9, 3.76, 5.14, 5.5600000000000005, 3.76, 5.32, 4.06, 6.1, 4.6, 5.8, 4.48, 4.84, 4.48, 5.98, 5.8, 4.96, 4.84, 4.96, 7.0, 2.38, 4.72, 4.84, 4.9, 5.92, 6.46, 5.5, 5.14, 4.84, 3.58, 5.14, 5.44, 4.42, 4.36, 6.64, 6.46, 4.42, 5.5600000000000005, 4.0, 4.78, 5.74, 3.64, 6.7, 5.26, 4.42, 3.46, 4.72, 5.08, 3.58, 4.24, 5.5600000000000005, 3.8200000000000003, 4.84, 5.5, 5.68, 5.38, 4.42, 6.7, 4.96, 3.2800000000000002, 5.5600000000000005, 5.74, 5.92, 4.9, 6.16, 5.38, 4.9, 5.5600000000000005, 5.2, 4.06, 3.88, 5.92, 4.54, 5.38, 6.04, 5.62, 5.5, 5.08, 6.28, 6.16, 4.72, 5.74, 4.24, 3.22, 4.72, 5.08, 6.52, 4.3, 5.08, 4.6, 5.26, 6.28, 5.5, 4.18, 5.38, 3.58, 5.86, 5.44, 3.16, 5.5, 6.58, 4.0, 4.12, 3.52, 4.84, 4.18, 4.18, 4.06, 4.18, 3.04, 6.52, 5.32, 5.5600000000000005, 4.96, 7.0, 3.2800000000000002, 4.66, 6.22, 6.1, 6.52, 4.36, 4.0, 3.88, 5.62, 4.78, 6.34, 4.24, 5.98, 4.24, 4.96, 4.36, 5.98, 7.0, 6.22, 5.74, 5.5, 5.92, 5.08, 5.68, 4.12, 4.72, 5.44, 5.68, 6.58, 3.64, 4.66, 4.3, 5.26, 5.32, 3.88, 6.88, 3.58, 4.96, 4.24, 4.54, 5.26, 6.04, 3.4, 4.48, 5.2, 6.64, 5.32, 5.44, 4.12, 7.0, 4.24, 5.08, 5.5, 5.86, 4.54, 4.18, 6.4, 5.38, 5.92, 7.0, 5.5600000000000005, 6.7, 6.58, 5.08, 5.74, 4.06, 3.94, 6.04, 4.78, 5.68, 5.44, 5.62, 4.36, 4.6, 6.4, 5.92, 6.1, 4.84, 5.2, 3.7, 5.14, 5.5600000000000005, 4.06, 4.6, 3.16, 3.7, 5.2, 3.58, 5.14, 6.82, 5.44, 3.58, 4.72, 4.84, 5.92, 3.58, 4.9, 5.2, 3.1, 5.62, 5.8, 3.94, 5.44, 4.18, 4.18, 5.62, 6.7, 3.94, 5.5, 6.7, 3.04, 5.68, 5.92, 4.12, 4.6, 4.48, 4.24, 4.42, 5.02, 5.44, 6.4, 5.02, 4.66, 5.8, 4.72, 3.46, 3.64, 4.42, 5.38, 6.04, 4.42, 5.26, 5.38, 5.86, 4.66, 5.74, 6.7, 4.72, 5.98, 4.78, 5.26, 5.74, 5.44, 5.5600000000000005, 4.24, 4.6, 4.48, 5.68, 3.04, 5.62, 2.62, 6.16, 5.14, 4.66, 6.94, 3.94, 5.5600000000000005, 4.9, 4.96, 5.5600000000000005, 6.16, 4.96, 4.3, 4.78, 5.8, 3.8200000000000003, 5.74, 5.8, 4.42, 4.84, 5.08, 4.54, 5.5, 3.2800000000000002, 4.12, 4.96, 5.44, 5.74, 4.3, 4.3, 4.84, 5.86, 4.3, 5.92, 5.08, 4.84, 6.28, 5.38, 5.98, 4.3, 5.62, 5.74, 1.9, 6.04, 4.78, 4.9, 4.36, 4.66, 5.68, 6.58, 6.04, 5.02, 6.76, 5.5, 5.02, 6.34, 5.68, 5.98, 6.16, 6.64, 4.12, 4.6, 4.72, 6.94, 5.5600000000000005, 4.3, 4.54, 4.42, 5.74, 6.28, 5.5600000000000005, 5.44, 3.58, 4.06, 4.6, 4.9, 5.86, 5.74, 5.2, 4.66, 5.2, 5.02, 4.84, 5.14, 5.5600000000000005, 7.0, 4.96, 5.92, 5.2, 4.24, 5.68, 3.4, 4.84, 5.14, 5.14, 5.38, 5.02, 5.32, 4.72, 6.28, 4.06, 4.18, 5.26, 6.46, 4.72, 2.68, 6.04, 5.02, 5.14, 4.42, 5.08, 5.92, 3.8200000000000003, 4.12, 6.94, 5.2, 5.02, 5.86, 5.08, 3.94, 5.8, 5.5600000000000005, 5.02, 4.78, 5.02, 6.04, 5.08, 6.52, 5.62, 4.0, 6.04, 5.62, 5.44, 5.2, 4.0, 5.92, 4.9, 4.18, 5.02, 6.46, 5.32, 5.62, 4.96, 3.88, 4.24, 4.72, 5.26, 4.84, 6.04, 5.8, 4.84, 4.54, 5.44, 1.6, 4.72, 5.86, 4.84, 7.0, 3.94, 3.64, 4.24, 5.08, 6.28, 4.72, 6.4, 4.54, 5.44, 4.36, 4.24, 6.4, 3.76, 3.94, 4.18, 2.92, 5.68, 5.68, 5.02, 5.92, 5.44, 5.5, 6.94, 5.2, 5.74, 5.02, 5.2, 5.5, 5.8, 3.58, 2.8, 5.26, 3.16, 5.86, 4.72, 5.5600000000000005], \"xaxis\": \"x\", \"yaxis\": \"y\"}, {\"alignmentgroup\": \"True\", \"hoverlabel\": {\"namelength\": 0}, \"hovertemplate\": \"subject=writing score<br>score=%{x}\", \"legendgroup\": \"subject=writing score\", \"marker\": {\"color\": \"#00cc96\"}, \"name\": \"subject=writing score\", \"notched\": true, \"offsetgroup\": \"subject=writing score\", \"showlegend\": false, \"type\": \"box\", \"x\": [3.76, 5.86, 4.78, 5.5600000000000005, 6.22, 5.14, 4.84, 3.46, 4.66, 5.26, 5.92, 5.2, 4.48, 5.32, 4.72, 5.08, 3.76, 5.44, 4.6, 5.08, 5.62, 7.0, 5.44, 4.3, 5.8, 5.2, 5.5, 5.02, 5.68, 6.28, 6.1, 5.44, 4.9, 4.24, 4.72, 4.72, 4.24, 4.78, 4.6, 2.62, 5.5600000000000005, 5.32, 4.42, 4.18, 5.68, 2.62, 5.2, 4.66, 5.02, 4.9, 5.74, 5.26, 4.66, 4.84, 6.1, 4.9, 6.7, 6.1, 4.6, 3.8200000000000003, 4.0, 4.36, 4.12, 6.28, 5.92, 4.66, 4.9, 6.52, 6.16, 5.38, 5.68, 6.46, 5.86, 6.58, 4.48, 5.2, 4.18, 5.68, 6.28, 3.52, 5.44, 5.02, 5.62, 5.68, 4.6, 5.98, 4.66, 5.44, 4.96, 4.84, 5.2, 4.06, 5.2, 4.54, 5.98, 4.24, 6.1, 7.0, 5.32, 3.58, 4.78, 5.92, 5.26, 4.9, 5.68, 3.58, 5.44, 4.6, 6.1, 4.66, 5.5600000000000005, 5.62, 3.7, 6.7, 5.26, 4.42, 5.68, 4.54, 5.44, 3.76, 4.72, 5.68, 5.44, 5.86, 5.32, 5.92, 5.38, 4.0, 4.54, 3.64, 4.42, 4.24, 2.92, 5.38, 5.44, 4.42, 4.12, 5.14, 4.18, 4.24, 3.88, 6.4, 5.5, 5.98, 6.64, 6.52, 6.46, 4.72, 3.7, 4.48, 4.12, 4.78, 4.6, 5.44, 4.54, 6.16, 4.3, 4.24, 4.78, 5.38, 3.76, 6.4, 5.74, 4.48, 4.96, 5.32, 3.46, 3.52, 5.2, 5.32, 5.62, 5.5600000000000005, 5.02, 6.1, 4.96, 4.24, 5.32, 5.08, 6.1, 5.5600000000000005, 4.72, 4.6, 4.48, 4.36, 4.84, 5.5, 5.32, 5.98, 7.0, 4.36, 4.96, 5.02, 5.5600000000000005, 6.76, 5.08, 5.8, 6.22, 4.12, 5.92, 3.8200000000000003, 4.9, 6.04, 5.74, 4.12, 3.46, 5.38, 5.98, 4.9, 5.92, 5.5600000000000005, 5.74, 3.16, 2.98, 3.7, 4.48, 5.74, 5.38, 5.38, 5.2, 4.66, 5.5, 5.08, 3.94, 4.84, 5.38, 5.08, 4.36, 6.16, 5.14, 4.96, 5.2, 5.44, 4.36, 3.7, 4.42, 3.7, 3.8200000000000003, 3.2800000000000002, 5.68, 5.14, 4.06, 6.4, 6.4, 4.06, 4.48, 4.96, 6.64, 2.14, 5.14, 4.36, 3.76, 5.92, 4.42, 7.0, 5.86, 4.24, 6.46, 5.8, 6.04, 5.2, 4.12, 5.08, 5.38, 5.74, 5.2, 6.04, 5.44, 5.14, 5.5, 5.2, 5.08, 3.64, 5.14, 5.08, 5.08, 6.34, 5.32, 4.9, 4.96, 5.14, 5.92, 5.14, 5.14, 5.38, 5.32, 5.62, 6.16, 5.5, 5.8, 4.24, 5.08, 6.58, 5.38, 6.52, 5.44, 6.88, 5.2, 5.38, 5.5, 5.62, 5.86, 4.12, 4.06, 4.06, 6.76, 4.72, 5.44, 5.5, 4.66, 5.02, 5.62, 3.64, 4.72, 7.0, 6.34, 5.8, 5.68, 5.62, 4.66, 5.32, 5.02, 6.16, 4.66, 5.8, 5.02, 4.18, 4.3, 6.22, 5.26, 4.0, 5.86, 5.44, 4.24, 4.3, 4.6, 6.76, 6.58, 6.46, 3.52, 5.98, 4.96, 5.86, 3.46, 4.36, 5.62, 4.48, 4.96, 4.12, 3.8200000000000003, 3.46, 5.08, 4.78, 4.72, 5.26, 3.34, 5.8, 4.66, 5.2, 5.32, 6.34, 5.86, 3.88, 4.3, 4.24, 6.16, 5.2, 5.38, 5.32, 3.8200000000000003, 6.28, 2.32, 5.8, 4.96, 5.8, 5.98, 4.0, 6.22, 6.1, 6.22, 6.1, 6.22, 5.2, 5.02, 5.2, 4.66, 4.06, 4.66, 3.88, 4.42, 6.22, 6.34, 4.9, 4.12, 5.8, 6.28, 4.12, 5.8, 5.08, 3.8200000000000003, 4.06, 5.8, 5.38, 6.34, 6.16, 5.2, 4.42, 5.62, 5.14, 5.8, 4.78, 5.68, 5.5600000000000005, 5.38, 4.12, 4.96, 5.44, 5.92, 4.9, 3.76, 5.14, 5.5600000000000005, 3.76, 5.32, 4.06, 6.1, 4.6, 5.8, 4.48, 4.84, 4.48, 5.98, 5.8, 4.96, 4.84, 4.96, 7.0, 2.38, 4.72, 4.84, 4.9, 5.92, 6.46, 5.5, 5.14, 4.84, 3.58, 5.14, 5.44, 4.42, 4.36, 6.64, 6.46, 4.42, 5.5600000000000005, 4.0, 4.78, 5.74, 3.64, 6.7, 5.26, 4.42, 3.46, 4.72, 5.08, 3.58, 4.24, 5.5600000000000005, 3.8200000000000003, 4.84, 5.5, 5.68, 5.38, 4.42, 6.7, 4.96, 3.2800000000000002, 5.5600000000000005, 5.74, 5.92, 4.9, 6.16, 5.38, 4.9, 5.5600000000000005, 5.2, 4.06, 3.88, 5.92, 4.54, 5.38, 6.04, 5.62, 5.5, 5.08, 6.28, 6.16, 4.72, 5.74, 4.24, 3.22, 4.72, 5.08, 6.52, 4.3, 5.08, 4.6, 5.26, 6.28, 5.5, 4.18, 5.38, 3.58, 5.86, 5.44, 3.16, 5.5, 6.58, 4.0, 4.12, 3.52, 4.84, 4.18, 4.18, 4.06, 4.18, 3.04, 6.52, 5.32, 5.5600000000000005, 4.96, 7.0, 3.2800000000000002, 4.66, 6.22, 6.1, 6.52, 4.36, 4.0, 3.88, 5.62, 4.78, 6.34, 4.24, 5.98, 4.24, 4.96, 4.36, 5.98, 7.0, 6.22, 5.74, 5.5, 5.92, 5.08, 5.68, 4.12, 4.72, 5.44, 5.68, 6.58, 3.64, 4.66, 4.3, 5.26, 5.32, 3.88, 6.88, 3.58, 4.96, 4.24, 4.54, 5.26, 6.04, 3.4, 4.48, 5.2, 6.64, 5.32, 5.44, 4.12, 7.0, 4.24, 5.08, 5.5, 5.86, 4.54, 4.18, 6.4, 5.38, 5.92, 7.0, 5.5600000000000005, 6.7, 6.58, 5.08, 5.74, 4.06, 3.94, 6.04, 4.78, 5.68, 5.44, 5.62, 4.36, 4.6, 6.4, 5.92, 6.1, 4.84, 5.2, 3.7, 5.14, 5.5600000000000005, 4.06, 4.6, 3.16, 3.7, 5.2, 3.58, 5.14, 6.82, 5.44, 3.58, 4.72, 4.84, 5.92, 3.58, 4.9, 5.2, 3.1, 5.62, 5.8, 3.94, 5.44, 4.18, 4.18, 5.62, 6.7, 3.94, 5.5, 6.7, 3.04, 5.68, 5.92, 4.12, 4.6, 4.48, 4.24, 4.42, 5.02, 5.44, 6.4, 5.02, 4.66, 5.8, 4.72, 3.46, 3.64, 4.42, 5.38, 6.04, 4.42, 5.26, 5.38, 5.86, 4.66, 5.74, 6.7, 4.72, 5.98, 4.78, 5.26, 5.74, 5.44, 5.5600000000000005, 4.24, 4.6, 4.48, 5.68, 3.04, 5.62, 2.62, 6.16, 5.14, 4.66, 6.94, 3.94, 5.5600000000000005, 4.9, 4.96, 5.5600000000000005, 6.16, 4.96, 4.3, 4.78, 5.8, 3.8200000000000003, 5.74, 5.8, 4.42, 4.84, 5.08, 4.54, 5.5, 3.2800000000000002, 4.12, 4.96, 5.44, 5.74, 4.3, 4.3, 4.84, 5.86, 4.3, 5.92, 5.08, 4.84, 6.28, 5.38, 5.98, 4.3, 5.62, 5.74, 1.9, 6.04, 4.78, 4.9, 4.36, 4.66, 5.68, 6.58, 6.04, 5.02, 6.76, 5.5, 5.02, 6.34, 5.68, 5.98, 6.16, 6.64, 4.12, 4.6, 4.72, 6.94, 5.5600000000000005, 4.3, 4.54, 4.42, 5.74, 6.28, 5.5600000000000005, 5.44, 3.58, 4.06, 4.6, 4.9, 5.86, 5.74, 5.2, 4.66, 5.2, 5.02, 4.84, 5.14, 5.5600000000000005, 7.0, 4.96, 5.92, 5.2, 4.24, 5.68, 3.4, 4.84, 5.14, 5.14, 5.38, 5.02, 5.32, 4.72, 6.28, 4.06, 4.18, 5.26, 6.46, 4.72, 2.68, 6.04, 5.02, 5.14, 4.42, 5.08, 5.92, 3.8200000000000003, 4.12, 6.94, 5.2, 5.02, 5.86, 5.08, 3.94, 5.8, 5.5600000000000005, 5.02, 4.78, 5.02, 6.04, 5.08, 6.52, 5.62, 4.0, 6.04, 5.62, 5.44, 5.2, 4.0, 5.92, 4.9, 4.18, 5.02, 6.46, 5.32, 5.62, 4.96, 3.88, 4.24, 4.72, 5.26, 4.84, 6.04, 5.8, 4.84, 4.54, 5.44, 1.6, 4.72, 5.86, 4.84, 7.0, 3.94, 3.64, 4.24, 5.08, 6.28, 4.72, 6.4, 4.54, 5.44, 4.36, 4.24, 6.4, 3.76, 3.94, 4.18, 2.92, 5.68, 5.68, 5.02, 5.92, 5.44, 5.5, 6.94, 5.2, 5.74, 5.02, 5.2, 5.5, 5.8, 3.58, 2.8, 5.26, 3.16, 5.86, 4.72, 5.5600000000000005], \"xaxis\": \"x2\", \"yaxis\": \"y2\"}],\n",
              "                        {\"barmode\": \"group\", \"legend\": {\"tracegroupgap\": 0}, \"margin\": {\"t\": 60}, \"template\": {\"data\": {\"bar\": [{\"error_x\": {\"color\": \"#2a3f5f\"}, \"error_y\": {\"color\": \"#2a3f5f\"}, \"marker\": {\"line\": {\"color\": \"#E5ECF6\", \"width\": 0.5}}, \"type\": \"bar\"}], \"barpolar\": [{\"marker\": {\"line\": {\"color\": \"#E5ECF6\", \"width\": 0.5}}, \"type\": \"barpolar\"}], \"carpet\": [{\"aaxis\": {\"endlinecolor\": \"#2a3f5f\", \"gridcolor\": \"white\", \"linecolor\": \"white\", \"minorgridcolor\": \"white\", \"startlinecolor\": \"#2a3f5f\"}, \"baxis\": {\"endlinecolor\": \"#2a3f5f\", \"gridcolor\": \"white\", \"linecolor\": \"white\", \"minorgridcolor\": \"white\", \"startlinecolor\": \"#2a3f5f\"}, \"type\": \"carpet\"}], \"choropleth\": [{\"colorbar\": {\"outlinewidth\": 0, \"ticks\": \"\"}, \"type\": \"choropleth\"}], \"contour\": [{\"colorbar\": {\"outlinewidth\": 0, \"ticks\": \"\"}, \"colorscale\": [[0.0, \"#0d0887\"], [0.1111111111111111, \"#46039f\"], [0.2222222222222222, \"#7201a8\"], [0.3333333333333333, \"#9c179e\"], [0.4444444444444444, \"#bd3786\"], [0.5555555555555556, \"#d8576b\"], [0.6666666666666666, \"#ed7953\"], [0.7777777777777778, \"#fb9f3a\"], [0.8888888888888888, \"#fdca26\"], [1.0, \"#f0f921\"]], \"type\": \"contour\"}], \"contourcarpet\": [{\"colorbar\": {\"outlinewidth\": 0, \"ticks\": \"\"}, \"type\": \"contourcarpet\"}], \"heatmap\": [{\"colorbar\": {\"outlinewidth\": 0, \"ticks\": \"\"}, \"colorscale\": [[0.0, \"#0d0887\"], [0.1111111111111111, \"#46039f\"], [0.2222222222222222, \"#7201a8\"], [0.3333333333333333, \"#9c179e\"], [0.4444444444444444, \"#bd3786\"], [0.5555555555555556, \"#d8576b\"], [0.6666666666666666, \"#ed7953\"], [0.7777777777777778, \"#fb9f3a\"], [0.8888888888888888, \"#fdca26\"], [1.0, \"#f0f921\"]], \"type\": \"heatmap\"}], \"heatmapgl\": [{\"colorbar\": {\"outlinewidth\": 0, \"ticks\": \"\"}, \"colorscale\": [[0.0, \"#0d0887\"], [0.1111111111111111, \"#46039f\"], [0.2222222222222222, \"#7201a8\"], [0.3333333333333333, \"#9c179e\"], [0.4444444444444444, \"#bd3786\"], [0.5555555555555556, \"#d8576b\"], [0.6666666666666666, \"#ed7953\"], [0.7777777777777778, \"#fb9f3a\"], [0.8888888888888888, \"#fdca26\"], [1.0, \"#f0f921\"]], \"type\": \"heatmapgl\"}], \"histogram\": [{\"marker\": {\"colorbar\": {\"outlinewidth\": 0, \"ticks\": \"\"}}, \"type\": \"histogram\"}], \"histogram2d\": [{\"colorbar\": {\"outlinewidth\": 0, \"ticks\": \"\"}, \"colorscale\": [[0.0, \"#0d0887\"], [0.1111111111111111, \"#46039f\"], [0.2222222222222222, \"#7201a8\"], [0.3333333333333333, \"#9c179e\"], [0.4444444444444444, \"#bd3786\"], [0.5555555555555556, \"#d8576b\"], [0.6666666666666666, \"#ed7953\"], [0.7777777777777778, \"#fb9f3a\"], [0.8888888888888888, \"#fdca26\"], [1.0, \"#f0f921\"]], \"type\": \"histogram2d\"}], \"histogram2dcontour\": [{\"colorbar\": {\"outlinewidth\": 0, \"ticks\": \"\"}, \"colorscale\": [[0.0, \"#0d0887\"], [0.1111111111111111, \"#46039f\"], [0.2222222222222222, \"#7201a8\"], [0.3333333333333333, \"#9c179e\"], [0.4444444444444444, \"#bd3786\"], [0.5555555555555556, \"#d8576b\"], [0.6666666666666666, \"#ed7953\"], [0.7777777777777778, \"#fb9f3a\"], [0.8888888888888888, \"#fdca26\"], [1.0, \"#f0f921\"]], \"type\": \"histogram2dcontour\"}], \"mesh3d\": [{\"colorbar\": {\"outlinewidth\": 0, \"ticks\": \"\"}, \"type\": \"mesh3d\"}], \"parcoords\": [{\"line\": {\"colorbar\": {\"outlinewidth\": 0, \"ticks\": \"\"}}, \"type\": \"parcoords\"}], \"pie\": [{\"automargin\": true, \"type\": \"pie\"}], \"scatter\": [{\"marker\": {\"colorbar\": {\"outlinewidth\": 0, \"ticks\": \"\"}}, \"type\": \"scatter\"}], \"scatter3d\": [{\"line\": {\"colorbar\": {\"outlinewidth\": 0, \"ticks\": \"\"}}, \"marker\": {\"colorbar\": {\"outlinewidth\": 0, \"ticks\": \"\"}}, \"type\": \"scatter3d\"}], \"scattercarpet\": [{\"marker\": {\"colorbar\": {\"outlinewidth\": 0, \"ticks\": \"\"}}, \"type\": \"scattercarpet\"}], \"scattergeo\": [{\"marker\": {\"colorbar\": {\"outlinewidth\": 0, \"ticks\": \"\"}}, \"type\": \"scattergeo\"}], \"scattergl\": [{\"marker\": {\"colorbar\": {\"outlinewidth\": 0, \"ticks\": \"\"}}, \"type\": \"scattergl\"}], \"scattermapbox\": [{\"marker\": {\"colorbar\": {\"outlinewidth\": 0, \"ticks\": \"\"}}, \"type\": \"scattermapbox\"}], \"scatterpolar\": [{\"marker\": {\"colorbar\": {\"outlinewidth\": 0, \"ticks\": \"\"}}, \"type\": \"scatterpolar\"}], \"scatterpolargl\": [{\"marker\": {\"colorbar\": {\"outlinewidth\": 0, \"ticks\": \"\"}}, \"type\": \"scatterpolargl\"}], \"scatterternary\": [{\"marker\": {\"colorbar\": {\"outlinewidth\": 0, \"ticks\": \"\"}}, \"type\": \"scatterternary\"}], \"surface\": [{\"colorbar\": {\"outlinewidth\": 0, \"ticks\": \"\"}, \"colorscale\": [[0.0, \"#0d0887\"], [0.1111111111111111, \"#46039f\"], [0.2222222222222222, \"#7201a8\"], [0.3333333333333333, \"#9c179e\"], [0.4444444444444444, \"#bd3786\"], [0.5555555555555556, \"#d8576b\"], [0.6666666666666666, \"#ed7953\"], [0.7777777777777778, \"#fb9f3a\"], [0.8888888888888888, \"#fdca26\"], [1.0, \"#f0f921\"]], \"type\": \"surface\"}], \"table\": [{\"cells\": {\"fill\": {\"color\": \"#EBF0F8\"}, \"line\": {\"color\": \"white\"}}, \"header\": {\"fill\": {\"color\": \"#C8D4E3\"}, \"line\": {\"color\": \"white\"}}, \"type\": \"table\"}]}, \"layout\": {\"annotationdefaults\": {\"arrowcolor\": \"#2a3f5f\", \"arrowhead\": 0, \"arrowwidth\": 1}, \"coloraxis\": {\"colorbar\": {\"outlinewidth\": 0, \"ticks\": \"\"}}, \"colorscale\": {\"diverging\": [[0, \"#8e0152\"], [0.1, \"#c51b7d\"], [0.2, \"#de77ae\"], [0.3, \"#f1b6da\"], [0.4, \"#fde0ef\"], [0.5, \"#f7f7f7\"], [0.6, \"#e6f5d0\"], [0.7, \"#b8e186\"], [0.8, \"#7fbc41\"], [0.9, \"#4d9221\"], [1, \"#276419\"]], \"sequential\": [[0.0, \"#0d0887\"], [0.1111111111111111, \"#46039f\"], [0.2222222222222222, \"#7201a8\"], [0.3333333333333333, \"#9c179e\"], [0.4444444444444444, \"#bd3786\"], [0.5555555555555556, \"#d8576b\"], [0.6666666666666666, \"#ed7953\"], [0.7777777777777778, \"#fb9f3a\"], [0.8888888888888888, \"#fdca26\"], [1.0, \"#f0f921\"]], \"sequentialminus\": [[0.0, \"#0d0887\"], [0.1111111111111111, \"#46039f\"], [0.2222222222222222, \"#7201a8\"], [0.3333333333333333, \"#9c179e\"], [0.4444444444444444, \"#bd3786\"], [0.5555555555555556, \"#d8576b\"], [0.6666666666666666, \"#ed7953\"], [0.7777777777777778, \"#fb9f3a\"], [0.8888888888888888, \"#fdca26\"], [1.0, \"#f0f921\"]]}, \"colorway\": [\"#636efa\", \"#EF553B\", \"#00cc96\", \"#ab63fa\", \"#FFA15A\", \"#19d3f3\", \"#FF6692\", \"#B6E880\", \"#FF97FF\", \"#FECB52\"], \"font\": {\"color\": \"#2a3f5f\"}, \"geo\": {\"bgcolor\": \"white\", \"lakecolor\": \"white\", \"landcolor\": \"#E5ECF6\", \"showlakes\": true, \"showland\": true, \"subunitcolor\": \"white\"}, \"hoverlabel\": {\"align\": \"left\"}, \"hovermode\": \"closest\", \"mapbox\": {\"style\": \"light\"}, \"paper_bgcolor\": \"white\", \"plot_bgcolor\": \"#E5ECF6\", \"polar\": {\"angularaxis\": {\"gridcolor\": \"white\", \"linecolor\": \"white\", \"ticks\": \"\"}, \"bgcolor\": \"#E5ECF6\", \"radialaxis\": {\"gridcolor\": \"white\", \"linecolor\": \"white\", \"ticks\": \"\"}}, \"scene\": {\"xaxis\": {\"backgroundcolor\": \"#E5ECF6\", \"gridcolor\": \"white\", \"gridwidth\": 2, \"linecolor\": \"white\", \"showbackground\": true, \"ticks\": \"\", \"zerolinecolor\": \"white\"}, \"yaxis\": {\"backgroundcolor\": \"#E5ECF6\", \"gridcolor\": \"white\", \"gridwidth\": 2, \"linecolor\": \"white\", \"showbackground\": true, \"ticks\": \"\", \"zerolinecolor\": \"white\"}, \"zaxis\": {\"backgroundcolor\": \"#E5ECF6\", \"gridcolor\": \"white\", \"gridwidth\": 2, \"linecolor\": \"white\", \"showbackground\": true, \"ticks\": \"\", \"zerolinecolor\": \"white\"}}, \"shapedefaults\": {\"line\": {\"color\": \"#2a3f5f\"}}, \"ternary\": {\"aaxis\": {\"gridcolor\": \"white\", \"linecolor\": \"white\", \"ticks\": \"\"}, \"baxis\": {\"gridcolor\": \"white\", \"linecolor\": \"white\", \"ticks\": \"\"}, \"bgcolor\": \"#E5ECF6\", \"caxis\": {\"gridcolor\": \"white\", \"linecolor\": \"white\", \"ticks\": \"\"}}, \"title\": {\"x\": 0.05}, \"xaxis\": {\"automargin\": true, \"gridcolor\": \"white\", \"linecolor\": \"white\", \"ticks\": \"\", \"title\": {\"standoff\": 15}, \"zerolinecolor\": \"white\", \"zerolinewidth\": 2}, \"yaxis\": {\"automargin\": true, \"gridcolor\": \"white\", \"linecolor\": \"white\", \"ticks\": \"\", \"title\": {\"standoff\": 15}, \"zerolinecolor\": \"white\", \"zerolinewidth\": 2}}}, \"xaxis\": {\"anchor\": \"y\", \"domain\": [0.0, 1.0], \"title\": {\"text\": \"score\"}}, \"xaxis2\": {\"anchor\": \"y2\", \"domain\": [0.0, 1.0], \"matches\": \"x\", \"showgrid\": true, \"showticklabels\": false}, \"yaxis\": {\"anchor\": \"x\", \"domain\": [0.0, 0.7326], \"title\": {\"text\": \"count\"}}, \"yaxis2\": {\"anchor\": \"x2\", \"domain\": [0.7426, 1.0], \"matches\": \"y2\", \"showgrid\": false, \"showline\": false, \"showticklabels\": false, \"ticks\": \"\"}},\n",
              "                        {\"responsive\": true}\n",
              "                    ).then(function(){\n",
              "                            \n",
              "var gd = document.getElementById('71573f15-79fb-4e22-a42f-093fc0852968');\n",
              "var x = new MutationObserver(function (mutations, observer) {{\n",
              "        var display = window.getComputedStyle(gd).display;\n",
              "        if (!display || display === 'none') {{\n",
              "            console.log([gd, 'removed!']);\n",
              "            Plotly.purge(gd);\n",
              "            observer.disconnect();\n",
              "        }}\n",
              "}});\n",
              "\n",
              "// Listen for the removal of the full notebook cells\n",
              "var notebookContainer = gd.closest('#notebook-container');\n",
              "if (notebookContainer) {{\n",
              "    x.observe(notebookContainer, {childList: true});\n",
              "}}\n",
              "\n",
              "// Listen for the clearing of the current output cell\n",
              "var outputEl = gd.closest('.output');\n",
              "if (outputEl) {{\n",
              "    x.observe(outputEl, {childList: true});\n",
              "}}\n",
              "\n",
              "                        })\n",
              "                };\n",
              "                \n",
              "            </script>\n",
              "        </div>\n",
              "</body>\n",
              "</html>"
            ]
          },
          "metadata": {}
        }
      ]
    },
    {
      "cell_type": "markdown",
      "metadata": {
        "id": "uX_RK9uXwuqu"
      },
      "source": [
        "**Histograma con Faceta:**"
      ]
    },
    {
      "cell_type": "code",
      "metadata": {
        "colab": {
          "base_uri": "https://localhost:8080/",
          "height": 541
        },
        "id": "HnSq69LEwuqv",
        "outputId": "6e65c583-d363-48e6-a656-7f92cc88842d"
      },
      "source": [
        "def plot_hist_face(df):\n",
        "  math = df[['math score']]\n",
        "  math.columns = ['score']\n",
        "  math['subject'] = 'math score'\n",
        "\n",
        "  read = df[['reading score']]\n",
        "  read.columns = ['score']\n",
        "  read['subject'] = 'reading score'\n",
        "\n",
        "  write = df[['writing score']]\n",
        "  write.columns = ['score']\n",
        "  write['subject'] = 'writing score'\n",
        "\n",
        "  qw = pd.concat([math,read,write],axis=0)\n",
        "\n",
        "  fig = px.histogram(qw, x='score', color='subject',\n",
        "                   facet_row='subject')\n",
        "  fig.show()\n",
        "\n",
        "plot_hist_face(df_grades)"
      ],
      "execution_count": 227,
      "outputs": [
        {
          "output_type": "display_data",
          "data": {
            "text/html": [
              "<html>\n",
              "<head><meta charset=\"utf-8\" /></head>\n",
              "<body>\n",
              "    <div>\n",
              "            <script src=\"https://cdnjs.cloudflare.com/ajax/libs/mathjax/2.7.5/MathJax.js?config=TeX-AMS-MML_SVG\"></script><script type=\"text/javascript\">if (window.MathJax) {MathJax.Hub.Config({SVG: {font: \"STIX-Web\"}});}</script>\n",
              "                <script type=\"text/javascript\">window.PlotlyConfig = {MathJaxConfig: 'local'};</script>\n",
              "        <script src=\"https://cdn.plot.ly/plotly-latest.min.js\"></script>    \n",
              "            <div id=\"e8de99b4-d716-41e3-9674-2b008e2ab5a3\" class=\"plotly-graph-div\" style=\"height:525px; width:100%;\"></div>\n",
              "            <script type=\"text/javascript\">\n",
              "                \n",
              "                    window.PLOTLYENV=window.PLOTLYENV || {};\n",
              "                    \n",
              "                if (document.getElementById(\"e8de99b4-d716-41e3-9674-2b008e2ab5a3\")) {\n",
              "                    Plotly.newPlot(\n",
              "                        'e8de99b4-d716-41e3-9674-2b008e2ab5a3',\n",
              "                        [{\"alignmentgroup\": \"True\", \"bingroup\": \"x\", \"hoverlabel\": {\"namelength\": 0}, \"hovertemplate\": \"subject=math score<br>score=%{x}<br>count=%{y}\", \"legendgroup\": \"subject=math score\", \"marker\": {\"color\": \"#636efa\"}, \"name\": \"subject=math score\", \"offsetgroup\": \"subject=math score\", \"orientation\": \"v\", \"showlegend\": true, \"type\": \"histogram\", \"x\": [3.22, 5.8, 5.38, 5.86, 6.64, 5.26, 5.5, 3.04, 4.78, 6.64, 4.9, 4.12, 4.72, 5.44, 4.72, 5.38, 3.76, 5.92, 4.78, 4.84, 5.8, 6.58, 5.14, 3.76, 6.16, 4.54, 6.04, 4.84, 5.38, 5.98, 5.5, 5.14, 5.08, 4.42, 4.96, 4.66, 3.4, 4.0, 3.88, 3.16, 5.68, 4.42, 5.14, 3.4, 6.52, 3.1, 4.78, 5.38, 4.78, 4.12, 5.38, 4.78, 5.26, 3.7, 6.1, 5.8, 5.62, 6.46, 4.6, 4.78, 3.4, 4.42, 4.48, 6.82, 5.86, 5.08, 4.54, 6.76, 6.22, 4.42, 6.64, 6.82, 4.9, 5.92, 5.32, 4.72, 3.64, 5.92, 5.5, 4.54, 5.5, 5.32, 5.08, 4.96, 5.02, 6.58, 5.14, 4.78, 3.76, 4.96, 4.72, 3.88, 5.26, 4.24, 5.8, 4.3, 6.4, 6.64, 5.86, 4.18, 4.66, 5.5, 5.44, 4.72, 5.2, 4.54, 4.72, 4.18, 5.8, 5.14, 5.14, 5.14, 3.94, 5.98, 4.9, 5.38, 5.08, 4.84, 4.9, 3.94, 4.48, 4.96, 4.9, 4.9, 5.2, 5.74, 4.0, 4.84, 5.08, 2.92, 5.08, 4.48, 2.14, 5.14, 5.32, 4.18, 4.66, 5.68, 4.18, 3.7, 3.64, 5.98, 4.9, 6.28, 6.28, 6.46, 6.04, 4.06, 3.2800000000000002, 3.8200000000000003, 4.96, 4.66, 4.6, 5.26, 3.7, 5.62, 4.18, 4.42, 5.32, 5.5600000000000005, 3.7, 6.94, 4.06, 4.84, 4.12, 5.8, 4.06, 4.0, 4.84, 5.44, 5.26, 4.42, 5.14, 5.62, 5.5, 3.58, 5.8, 4.54, 6.1, 4.3, 3.64, 3.52, 4.48, 4.66, 4.0, 6.28, 5.38, 5.02, 6.82, 4.66, 4.72, 4.24, 4.96, 5.68, 6.1, 6.04, 5.5600000000000005, 3.64, 5.86, 4.24, 4.48, 5.86, 5.32, 5.26, 4.66, 4.96, 5.26, 5.26, 6.34, 5.38, 5.86, 3.76, 2.32, 3.88, 3.64, 6.46, 5.5600000000000005, 5.62, 4.72, 5.02, 6.16, 4.48, 4.18, 4.42, 5.14, 4.72, 3.22, 6.28, 6.4, 5.08, 4.9, 4.78, 4.12, 3.88, 4.9, 4.24, 2.74, 2.56, 5.2, 5.5, 4.6, 6.88, 6.58, 4.54, 3.76, 5.5600000000000005, 5.74, 2.68, 4.3, 4.66, 3.1, 6.64, 3.76, 7.0, 5.02, 4.0, 5.74, 5.26, 5.98, 4.3, 3.88, 5.5600000000000005, 5.62, 4.72, 4.36, 5.08, 6.04, 5.8, 4.72, 4.6, 4.84, 2.74, 4.12, 4.18, 5.02, 5.92, 4.36, 5.74, 5.38, 4.96, 5.38, 4.96, 6.04, 5.44, 5.5600000000000005, 5.86, 5.74, 5.08, 4.78, 4.0, 5.32, 6.1, 5.98, 6.04, 4.9, 6.1, 5.2, 4.48, 6.16, 4.84, 4.9, 4.66, 3.94, 4.18, 6.82, 5.5, 5.32, 5.44, 4.54, 5.08, 5.68, 4.18, 5.32, 6.94, 5.74, 6.46, 5.98, 5.32, 4.66, 5.38, 4.54, 7.0, 4.66, 5.62, 5.26, 3.94, 4.72, 6.16, 5.5, 3.8200000000000003, 4.78, 5.2, 5.08, 4.66, 5.26, 5.86, 7.0, 5.62, 4.18, 5.26, 5.38, 4.9, 3.94, 4.12, 4.9, 4.54, 5.8, 4.72, 4.42, 3.76, 4.48, 5.02, 5.38, 5.32, 3.4, 5.68, 4.78, 4.66, 5.74, 5.62, 5.2, 4.18, 3.7, 3.4, 5.92, 5.68, 5.5, 5.2, 4.3, 5.2, 2.8, 5.5, 4.78, 5.92, 5.44, 4.24, 5.26, 5.38, 5.62, 5.62, 6.22, 6.22, 5.44, 5.02, 3.58, 3.94, 3.94, 4.18, 4.84, 4.66, 5.74, 5.14, 4.24, 4.9, 5.62, 4.48, 5.38, 4.24, 4.24, 4.84, 4.54, 5.5600000000000005, 6.1, 6.82, 4.18, 4.12, 5.62, 5.74, 4.42, 4.96, 4.78, 4.9, 5.08, 4.3, 5.32, 6.16, 6.82, 5.5, 4.12, 5.44, 5.2, 3.34, 4.66, 3.64, 6.22, 4.96, 5.08, 4.72, 5.86, 5.2, 5.44, 5.5600000000000005, 4.54, 5.08, 5.38, 7.0, 1.48, 4.9, 3.4, 3.88, 6.34, 5.62, 4.9, 5.14, 5.08, 3.94, 4.72, 4.36, 3.76, 4.6, 6.46, 6.4, 5.38, 5.2, 3.8200000000000003, 4.9, 5.86, 4.3, 6.58, 4.9, 4.72, 3.88, 5.08, 4.96, 4.3, 3.52, 5.44, 3.22, 4.96, 6.28, 5.14, 4.66, 3.34, 6.22, 4.84, 3.64, 4.54, 5.8, 5.26, 4.18, 5.68, 4.3, 5.2, 4.9, 6.16, 4.24, 3.46, 6.4, 4.54, 4.9, 5.02, 6.34, 4.54, 5.38, 5.44, 6.16, 4.66, 4.42, 4.48, 3.7, 4.78, 5.02, 6.64, 4.36, 4.72, 5.2, 5.2, 5.5600000000000005, 4.84, 3.8200000000000003, 4.96, 3.4, 4.96, 5.08, 4.06, 6.28, 6.4, 4.12, 3.94, 4.18, 5.26, 4.0, 4.48, 3.52, 5.02, 3.34, 6.1, 5.68, 5.38, 5.08, 6.34, 3.4, 5.92, 5.62, 5.14, 5.74, 4.18, 3.58, 4.48, 6.28, 5.14, 6.1, 5.14, 5.32, 4.42, 4.48, 4.72, 5.5, 6.28, 5.86, 5.02, 5.02, 5.44, 5.26, 6.1, 4.36, 5.92, 4.6, 5.86, 6.22, 3.76, 4.48, 4.72, 5.5600000000000005, 4.6, 4.0, 5.62, 4.84, 4.66, 4.6, 5.02, 4.84, 6.4, 4.18, 3.88, 4.6, 5.92, 4.48, 4.6, 4.96, 6.1, 3.94, 5.62, 5.02, 5.14, 4.0, 4.72, 5.98, 5.86, 5.32, 6.52, 5.26, 6.28, 5.92, 5.26, 5.5, 4.06, 4.72, 5.5, 4.78, 5.26, 5.02, 5.26, 4.66, 4.36, 6.88, 5.92, 5.5, 4.54, 5.26, 3.64, 5.62, 4.9, 4.42, 4.6, 2.62, 4.48, 5.2, 3.2800000000000002, 3.52, 7.0, 6.34, 3.1, 5.62, 4.72, 5.74, 3.76, 4.54, 4.96, 3.8200000000000003, 5.62, 5.68, 4.12, 5.2, 4.48, 5.08, 5.14, 6.22, 4.12, 5.32, 6.1, 3.46, 4.66, 5.02, 4.24, 4.78, 4.12, 4.72, 4.48, 4.72, 4.9, 5.44, 5.74, 5.08, 4.78, 4.12, 4.54, 4.3, 4.96, 5.44, 6.46, 5.44, 5.86, 5.74, 6.4, 4.24, 5.68, 6.28, 4.72, 5.8, 5.8, 5.26, 5.5, 4.6, 6.28, 4.3, 4.0, 3.52, 5.14, 3.52, 4.48, 2.44, 5.02, 4.54, 4.54, 6.76, 3.7, 6.28, 5.32, 4.66, 5.86, 5.74, 3.8200000000000003, 3.94, 4.24, 5.26, 4.54, 6.34, 4.54, 4.42, 5.62, 5.62, 4.6, 5.5600000000000005, 2.92, 3.94, 5.5600000000000005, 4.84, 4.78, 4.0, 3.64, 4.96, 5.02, 4.66, 5.14, 4.9, 4.18, 6.22, 4.18, 4.96, 3.94, 5.02, 4.3, 2.8, 5.38, 4.72, 5.74, 4.78, 4.12, 4.48, 5.68, 5.44, 5.08, 5.92, 5.38, 4.54, 5.44, 6.04, 5.02, 6.22, 5.62, 4.48, 5.14, 4.9, 6.52, 6.22, 5.14, 5.38, 4.66, 5.02, 5.14, 5.44, 4.84, 3.16, 3.46, 3.94, 4.54, 6.04, 5.5600000000000005, 4.66, 4.72, 5.02, 4.24, 4.54, 5.08, 6.46, 6.76, 5.08, 5.44, 5.26, 3.1, 5.86, 4.18, 5.8, 5.5600000000000005, 4.78, 4.42, 4.48, 5.32, 4.3, 5.8, 3.46, 4.06, 6.1, 5.86, 4.12, 2.08, 5.38, 4.78, 4.54, 4.78, 4.78, 5.8, 4.6, 4.84, 6.88, 4.54, 4.9, 6.22, 4.96, 4.12, 5.38, 6.22, 5.74, 5.14, 3.8200000000000003, 6.52, 4.42, 6.28, 5.74, 5.26, 5.86, 4.9, 5.92, 4.9, 3.4, 5.38, 4.36, 5.14, 5.02, 6.46, 5.02, 4.9, 4.48, 4.3, 3.88, 4.18, 6.1, 4.72, 4.9, 5.92, 5.62, 4.0, 5.14, 1.0, 4.9, 5.14, 5.32, 7.0, 4.9, 3.8200000000000003, 4.06, 5.26, 5.92, 4.3, 5.5, 4.96, 5.32, 5.2, 4.42, 6.04, 4.66, 3.7, 4.9, 2.62, 6.28, 4.9, 4.78, 5.68, 4.9, 6.4, 7.0, 5.02, 5.44, 5.5600000000000005, 4.96, 4.54, 4.72, 3.46, 2.74, 5.14, 2.38, 4.96, 4.24, 5.08], \"xaxis\": \"x3\", \"yaxis\": \"y3\"}, {\"alignmentgroup\": \"True\", \"bingroup\": \"x\", \"hoverlabel\": {\"namelength\": 0}, \"hovertemplate\": \"subject=reading score<br>score=%{x}<br>count=%{y}\", \"legendgroup\": \"subject=reading score\", \"marker\": {\"color\": \"#EF553B\"}, \"name\": \"subject=reading score\", \"offsetgroup\": \"subject=reading score\", \"orientation\": \"v\", \"showlegend\": true, \"type\": \"histogram\", \"x\": [3.76, 5.68, 4.96, 5.5, 6.16, 4.66, 5.08, 3.88, 4.66, 5.38, 5.68, 5.5600000000000005, 4.9, 5.44, 4.42, 5.14, 3.52, 5.92, 4.66, 5.38, 5.5, 7.0, 5.5600000000000005, 4.66, 5.86, 5.32, 5.98, 4.84, 5.5600000000000005, 6.16, 6.28, 5.44, 5.32, 4.66, 4.84, 4.66, 4.54, 5.02, 4.72, 2.74, 5.74, 5.02, 4.48, 4.3, 6.22, 2.68, 5.02, 5.44, 4.84, 4.54, 5.74, 5.38, 4.6, 4.54, 6.52, 5.5600000000000005, 6.64, 6.1, 4.72, 3.88, 3.88, 4.24, 4.24, 5.92, 5.92, 4.9, 5.26, 6.4, 6.04, 5.5, 6.28, 6.58, 5.86, 6.58, 4.42, 5.44, 4.24, 6.04, 6.4, 3.46, 5.38, 5.08, 5.68, 5.44, 4.72, 6.4, 4.78, 5.44, 4.84, 5.08, 5.38, 4.36, 5.2, 5.32, 5.98, 4.54, 6.22, 6.94, 5.38, 3.58, 5.08, 6.1, 5.86, 5.32, 5.68, 4.06, 5.32, 4.0, 6.1, 4.96, 5.68, 5.62, 3.7, 6.58, 4.66, 4.84, 5.98, 4.96, 5.62, 4.42, 5.02, 5.68, 5.2, 5.74, 5.08, 5.86, 5.02, 4.24, 4.6, 4.06, 4.06, 4.42, 3.2800000000000002, 5.62, 5.74, 4.48, 4.06, 5.32, 4.72, 4.36, 4.06, 5.98, 5.5600000000000005, 5.68, 6.7, 6.34, 6.22, 4.96, 3.94, 4.18, 4.42, 5.38, 5.08, 5.26, 4.78, 6.16, 4.48, 4.06, 4.84, 5.26, 3.88, 6.58, 5.32, 4.6, 4.66, 5.38, 4.24, 3.88, 5.38, 5.44, 5.62, 5.44, 5.2, 6.4, 5.44, 4.06, 5.08, 5.32, 5.86, 5.5600000000000005, 4.78, 4.72, 4.54, 3.8200000000000003, 4.96, 5.44, 5.68, 6.16, 7.0, 4.48, 4.84, 4.78, 5.26, 6.46, 5.5, 6.04, 6.64, 4.66, 6.04, 3.94, 4.78, 5.92, 5.86, 3.94, 3.52, 5.62, 5.5600000000000005, 4.96, 6.28, 5.98, 5.86, 3.04, 3.34, 4.12, 4.84, 5.86, 5.8, 5.68, 5.32, 4.84, 5.86, 5.2, 4.12, 4.48, 5.38, 4.96, 4.42, 6.34, 5.5, 5.2, 5.5, 5.14, 4.42, 3.58, 4.24, 4.24, 3.46, 2.86, 5.5, 5.44, 4.42, 6.22, 6.04, 4.24, 4.24, 4.84, 6.28, 2.38, 5.26, 4.42, 4.18, 6.1, 4.48, 7.0, 5.8, 3.8200000000000003, 6.04, 5.86, 5.92, 4.84, 4.48, 5.38, 5.62, 5.68, 5.08, 6.16, 5.62, 5.5, 5.2, 4.96, 4.72, 3.4, 4.9, 4.66, 4.66, 6.7, 5.74, 5.5600000000000005, 5.08, 5.44, 6.16, 4.9, 5.38, 5.62, 5.26, 5.32, 6.34, 5.26, 5.68, 4.36, 4.9, 6.52, 5.68, 6.7, 5.62, 6.16, 5.2, 4.78, 5.8, 5.92, 5.86, 4.3, 4.06, 4.06, 6.82, 5.32, 5.38, 5.74, 5.02, 5.08, 5.62, 4.48, 4.42, 7.0, 6.34, 5.38, 5.32, 5.74, 4.72, 5.44, 4.24, 6.76, 4.96, 5.74, 5.02, 4.18, 4.66, 6.52, 5.86, 4.54, 5.5, 5.5, 4.78, 4.36, 4.96, 6.82, 7.0, 6.4, 3.64, 5.98, 5.08, 5.92, 3.94, 4.54, 5.5, 4.6, 4.84, 3.94, 3.58, 3.58, 5.38, 4.24, 4.96, 5.32, 3.58, 5.98, 4.9, 5.32, 5.44, 5.92, 6.04, 4.24, 4.18, 4.48, 6.1, 5.32, 4.96, 4.84, 4.3, 6.34, 2.56, 6.04, 4.84, 5.92, 5.86, 4.54, 6.04, 6.04, 6.28, 6.28, 6.04, 5.44, 5.38, 4.84, 4.72, 4.12, 4.9, 4.24, 4.18, 6.16, 6.52, 5.26, 4.12, 6.16, 6.46, 4.66, 5.5600000000000005, 4.84, 4.18, 4.48, 5.32, 5.44, 6.04, 6.52, 5.2, 4.3, 5.5600000000000005, 5.32, 5.62, 5.14, 5.38, 6.1, 5.02, 4.48, 4.96, 5.5600000000000005, 6.22, 5.08, 3.94, 5.2, 5.92, 4.12, 5.44, 4.0, 6.04, 4.9, 5.62, 5.02, 4.96, 4.78, 5.5, 5.68, 5.2, 5.08, 4.96, 7.0, 2.44, 4.84, 4.9, 4.96, 6.04, 5.92, 5.38, 5.62, 5.32, 4.06, 5.14, 5.08, 4.36, 4.06, 6.7, 6.4, 4.36, 5.32, 3.94, 4.9, 5.62, 3.76, 7.0, 5.2, 4.66, 3.7, 4.54, 5.14, 3.76, 4.3, 5.62, 4.36, 4.78, 5.68, 5.62, 5.26, 4.84, 7.0, 4.78, 3.46, 5.68, 5.74, 6.22, 4.48, 5.86, 5.38, 5.2, 5.14, 5.38, 4.12, 4.06, 6.4, 4.48, 5.86, 5.74, 6.04, 4.78, 5.26, 6.4, 5.98, 4.48, 5.68, 4.12, 3.22, 4.78, 5.38, 6.22, 4.12, 4.96, 4.9, 5.44, 5.98, 5.44, 4.24, 5.44, 4.12, 5.44, 5.44, 2.86, 6.04, 6.7, 4.42, 4.18, 4.12, 5.44, 3.88, 4.3, 4.12, 4.42, 3.34, 6.4, 5.44, 5.68, 5.2, 7.0, 3.52, 5.02, 6.1, 6.04, 6.16, 4.72, 3.7, 4.3, 5.62, 5.2, 6.46, 4.6, 5.8, 4.0, 4.66, 4.78, 5.62, 6.94, 6.46, 5.68, 5.14, 5.74, 5.44, 6.04, 4.24, 4.72, 4.84, 5.5, 6.1, 3.58, 5.08, 4.3, 5.32, 5.08, 3.52, 6.34, 4.0, 5.08, 4.54, 4.42, 5.38, 6.1, 3.7, 4.36, 5.2, 6.4, 5.02, 5.5, 4.54, 6.7, 4.12, 5.14, 5.5600000000000005, 5.74, 4.6, 4.36, 6.1, 5.26, 5.74, 7.0, 5.2, 6.94, 6.58, 5.14, 5.92, 3.94, 4.3, 5.86, 4.3, 5.98, 5.32, 5.98, 4.36, 4.66, 6.16, 6.04, 6.28, 4.72, 5.5, 3.7, 5.08, 5.5600000000000005, 3.88, 4.6, 3.04, 4.0, 4.84, 3.58, 4.96, 6.52, 5.5600000000000005, 3.64, 4.72, 4.84, 5.92, 3.46, 5.2, 5.62, 3.22, 5.08, 5.62, 3.88, 5.26, 4.42, 4.24, 5.32, 6.64, 4.18, 5.8, 6.34, 3.34, 5.26, 6.34, 3.88, 4.78, 4.48, 4.3, 4.6, 5.02, 5.62, 6.28, 5.38, 5.08, 5.8, 5.2, 3.52, 3.8200000000000003, 4.6, 5.5600000000000005, 6.16, 4.78, 5.44, 5.92, 5.68, 4.48, 5.92, 6.52, 5.02, 6.16, 4.78, 5.74, 6.16, 5.32, 5.5, 4.66, 4.6, 4.66, 5.5, 3.34, 5.5, 3.2800000000000002, 6.04, 4.72, 4.72, 6.76, 3.8200000000000003, 6.1, 5.02, 5.02, 5.8, 6.1, 4.72, 4.48, 4.6, 5.26, 4.48, 6.22, 6.1, 4.48, 5.02, 5.02, 4.78, 5.68, 3.04, 4.42, 4.72, 5.5600000000000005, 5.68, 4.18, 4.06, 4.72, 6.04, 4.6, 6.04, 5.38, 5.32, 6.4, 4.96, 5.98, 4.9, 5.44, 5.32, 2.44, 6.52, 4.72, 4.6, 4.42, 4.9, 5.5600000000000005, 6.4, 6.34, 5.5600000000000005, 6.82, 5.2, 4.96, 6.16, 5.98, 6.16, 6.7, 6.82, 4.06, 4.96, 4.96, 7.0, 5.44, 4.24, 5.02, 4.6, 5.86, 6.4, 5.86, 4.6, 4.18, 4.12, 4.48, 5.14, 6.22, 5.98, 5.32, 5.02, 5.5, 4.84, 4.78, 5.02, 5.44, 7.0, 4.84, 5.5, 5.5600000000000005, 4.66, 5.68, 3.22, 5.5600000000000005, 5.2, 5.26, 5.08, 5.2, 4.96, 4.9, 6.52, 4.3, 4.36, 5.5600000000000005, 6.52, 4.54, 2.92, 5.74, 5.02, 5.38, 4.6, 5.38, 6.4, 3.64, 4.36, 7.0, 5.26, 5.14, 6.46, 5.5600000000000005, 4.3, 5.5, 6.04, 5.02, 4.6, 4.48, 5.74, 5.14, 6.7, 5.68, 4.72, 5.86, 5.86, 5.68, 5.14, 3.76, 5.8, 5.32, 4.48, 5.32, 6.76, 5.5, 5.44, 4.54, 3.46, 4.48, 4.66, 4.96, 5.02, 6.04, 5.92, 4.72, 4.84, 4.9, 2.02, 5.02, 6.16, 5.02, 7.0, 4.48, 4.42, 4.06, 5.44, 5.92, 4.9, 5.92, 4.96, 5.32, 4.3, 4.36, 6.34, 3.88, 4.12, 4.54, 3.04, 5.38, 5.92, 4.96, 5.86, 5.32, 6.22, 6.82, 5.44, 5.5, 5.02, 5.32, 4.84, 5.5600000000000005, 3.76, 2.74, 5.5, 3.64, 5.44, 4.66, 5.8], \"xaxis\": \"x2\", \"yaxis\": \"y2\"}, {\"alignmentgroup\": \"True\", \"bingroup\": \"x\", \"hoverlabel\": {\"namelength\": 0}, \"hovertemplate\": \"subject=writing score<br>score=%{x}<br>count=%{y}\", \"legendgroup\": \"subject=writing score\", \"marker\": {\"color\": \"#00cc96\"}, \"name\": \"subject=writing score\", \"offsetgroup\": \"subject=writing score\", \"orientation\": \"v\", \"showlegend\": true, \"type\": \"histogram\", \"x\": [3.76, 5.86, 4.78, 5.5600000000000005, 6.22, 5.14, 4.84, 3.46, 4.66, 5.26, 5.92, 5.2, 4.48, 5.32, 4.72, 5.08, 3.76, 5.44, 4.6, 5.08, 5.62, 7.0, 5.44, 4.3, 5.8, 5.2, 5.5, 5.02, 5.68, 6.28, 6.1, 5.44, 4.9, 4.24, 4.72, 4.72, 4.24, 4.78, 4.6, 2.62, 5.5600000000000005, 5.32, 4.42, 4.18, 5.68, 2.62, 5.2, 4.66, 5.02, 4.9, 5.74, 5.26, 4.66, 4.84, 6.1, 4.9, 6.7, 6.1, 4.6, 3.8200000000000003, 4.0, 4.36, 4.12, 6.28, 5.92, 4.66, 4.9, 6.52, 6.16, 5.38, 5.68, 6.46, 5.86, 6.58, 4.48, 5.2, 4.18, 5.68, 6.28, 3.52, 5.44, 5.02, 5.62, 5.68, 4.6, 5.98, 4.66, 5.44, 4.96, 4.84, 5.2, 4.06, 5.2, 4.54, 5.98, 4.24, 6.1, 7.0, 5.32, 3.58, 4.78, 5.92, 5.26, 4.9, 5.68, 3.58, 5.44, 4.6, 6.1, 4.66, 5.5600000000000005, 5.62, 3.7, 6.7, 5.26, 4.42, 5.68, 4.54, 5.44, 3.76, 4.72, 5.68, 5.44, 5.86, 5.32, 5.92, 5.38, 4.0, 4.54, 3.64, 4.42, 4.24, 2.92, 5.38, 5.44, 4.42, 4.12, 5.14, 4.18, 4.24, 3.88, 6.4, 5.5, 5.98, 6.64, 6.52, 6.46, 4.72, 3.7, 4.48, 4.12, 4.78, 4.6, 5.44, 4.54, 6.16, 4.3, 4.24, 4.78, 5.38, 3.76, 6.4, 5.74, 4.48, 4.96, 5.32, 3.46, 3.52, 5.2, 5.32, 5.62, 5.5600000000000005, 5.02, 6.1, 4.96, 4.24, 5.32, 5.08, 6.1, 5.5600000000000005, 4.72, 4.6, 4.48, 4.36, 4.84, 5.5, 5.32, 5.98, 7.0, 4.36, 4.96, 5.02, 5.5600000000000005, 6.76, 5.08, 5.8, 6.22, 4.12, 5.92, 3.8200000000000003, 4.9, 6.04, 5.74, 4.12, 3.46, 5.38, 5.98, 4.9, 5.92, 5.5600000000000005, 5.74, 3.16, 2.98, 3.7, 4.48, 5.74, 5.38, 5.38, 5.2, 4.66, 5.5, 5.08, 3.94, 4.84, 5.38, 5.08, 4.36, 6.16, 5.14, 4.96, 5.2, 5.44, 4.36, 3.7, 4.42, 3.7, 3.8200000000000003, 3.2800000000000002, 5.68, 5.14, 4.06, 6.4, 6.4, 4.06, 4.48, 4.96, 6.64, 2.14, 5.14, 4.36, 3.76, 5.92, 4.42, 7.0, 5.86, 4.24, 6.46, 5.8, 6.04, 5.2, 4.12, 5.08, 5.38, 5.74, 5.2, 6.04, 5.44, 5.14, 5.5, 5.2, 5.08, 3.64, 5.14, 5.08, 5.08, 6.34, 5.32, 4.9, 4.96, 5.14, 5.92, 5.14, 5.14, 5.38, 5.32, 5.62, 6.16, 5.5, 5.8, 4.24, 5.08, 6.58, 5.38, 6.52, 5.44, 6.88, 5.2, 5.38, 5.5, 5.62, 5.86, 4.12, 4.06, 4.06, 6.76, 4.72, 5.44, 5.5, 4.66, 5.02, 5.62, 3.64, 4.72, 7.0, 6.34, 5.8, 5.68, 5.62, 4.66, 5.32, 5.02, 6.16, 4.66, 5.8, 5.02, 4.18, 4.3, 6.22, 5.26, 4.0, 5.86, 5.44, 4.24, 4.3, 4.6, 6.76, 6.58, 6.46, 3.52, 5.98, 4.96, 5.86, 3.46, 4.36, 5.62, 4.48, 4.96, 4.12, 3.8200000000000003, 3.46, 5.08, 4.78, 4.72, 5.26, 3.34, 5.8, 4.66, 5.2, 5.32, 6.34, 5.86, 3.88, 4.3, 4.24, 6.16, 5.2, 5.38, 5.32, 3.8200000000000003, 6.28, 2.32, 5.8, 4.96, 5.8, 5.98, 4.0, 6.22, 6.1, 6.22, 6.1, 6.22, 5.2, 5.02, 5.2, 4.66, 4.06, 4.66, 3.88, 4.42, 6.22, 6.34, 4.9, 4.12, 5.8, 6.28, 4.12, 5.8, 5.08, 3.8200000000000003, 4.06, 5.8, 5.38, 6.34, 6.16, 5.2, 4.42, 5.62, 5.14, 5.8, 4.78, 5.68, 5.5600000000000005, 5.38, 4.12, 4.96, 5.44, 5.92, 4.9, 3.76, 5.14, 5.5600000000000005, 3.76, 5.32, 4.06, 6.1, 4.6, 5.8, 4.48, 4.84, 4.48, 5.98, 5.8, 4.96, 4.84, 4.96, 7.0, 2.38, 4.72, 4.84, 4.9, 5.92, 6.46, 5.5, 5.14, 4.84, 3.58, 5.14, 5.44, 4.42, 4.36, 6.64, 6.46, 4.42, 5.5600000000000005, 4.0, 4.78, 5.74, 3.64, 6.7, 5.26, 4.42, 3.46, 4.72, 5.08, 3.58, 4.24, 5.5600000000000005, 3.8200000000000003, 4.84, 5.5, 5.68, 5.38, 4.42, 6.7, 4.96, 3.2800000000000002, 5.5600000000000005, 5.74, 5.92, 4.9, 6.16, 5.38, 4.9, 5.5600000000000005, 5.2, 4.06, 3.88, 5.92, 4.54, 5.38, 6.04, 5.62, 5.5, 5.08, 6.28, 6.16, 4.72, 5.74, 4.24, 3.22, 4.72, 5.08, 6.52, 4.3, 5.08, 4.6, 5.26, 6.28, 5.5, 4.18, 5.38, 3.58, 5.86, 5.44, 3.16, 5.5, 6.58, 4.0, 4.12, 3.52, 4.84, 4.18, 4.18, 4.06, 4.18, 3.04, 6.52, 5.32, 5.5600000000000005, 4.96, 7.0, 3.2800000000000002, 4.66, 6.22, 6.1, 6.52, 4.36, 4.0, 3.88, 5.62, 4.78, 6.34, 4.24, 5.98, 4.24, 4.96, 4.36, 5.98, 7.0, 6.22, 5.74, 5.5, 5.92, 5.08, 5.68, 4.12, 4.72, 5.44, 5.68, 6.58, 3.64, 4.66, 4.3, 5.26, 5.32, 3.88, 6.88, 3.58, 4.96, 4.24, 4.54, 5.26, 6.04, 3.4, 4.48, 5.2, 6.64, 5.32, 5.44, 4.12, 7.0, 4.24, 5.08, 5.5, 5.86, 4.54, 4.18, 6.4, 5.38, 5.92, 7.0, 5.5600000000000005, 6.7, 6.58, 5.08, 5.74, 4.06, 3.94, 6.04, 4.78, 5.68, 5.44, 5.62, 4.36, 4.6, 6.4, 5.92, 6.1, 4.84, 5.2, 3.7, 5.14, 5.5600000000000005, 4.06, 4.6, 3.16, 3.7, 5.2, 3.58, 5.14, 6.82, 5.44, 3.58, 4.72, 4.84, 5.92, 3.58, 4.9, 5.2, 3.1, 5.62, 5.8, 3.94, 5.44, 4.18, 4.18, 5.62, 6.7, 3.94, 5.5, 6.7, 3.04, 5.68, 5.92, 4.12, 4.6, 4.48, 4.24, 4.42, 5.02, 5.44, 6.4, 5.02, 4.66, 5.8, 4.72, 3.46, 3.64, 4.42, 5.38, 6.04, 4.42, 5.26, 5.38, 5.86, 4.66, 5.74, 6.7, 4.72, 5.98, 4.78, 5.26, 5.74, 5.44, 5.5600000000000005, 4.24, 4.6, 4.48, 5.68, 3.04, 5.62, 2.62, 6.16, 5.14, 4.66, 6.94, 3.94, 5.5600000000000005, 4.9, 4.96, 5.5600000000000005, 6.16, 4.96, 4.3, 4.78, 5.8, 3.8200000000000003, 5.74, 5.8, 4.42, 4.84, 5.08, 4.54, 5.5, 3.2800000000000002, 4.12, 4.96, 5.44, 5.74, 4.3, 4.3, 4.84, 5.86, 4.3, 5.92, 5.08, 4.84, 6.28, 5.38, 5.98, 4.3, 5.62, 5.74, 1.9, 6.04, 4.78, 4.9, 4.36, 4.66, 5.68, 6.58, 6.04, 5.02, 6.76, 5.5, 5.02, 6.34, 5.68, 5.98, 6.16, 6.64, 4.12, 4.6, 4.72, 6.94, 5.5600000000000005, 4.3, 4.54, 4.42, 5.74, 6.28, 5.5600000000000005, 5.44, 3.58, 4.06, 4.6, 4.9, 5.86, 5.74, 5.2, 4.66, 5.2, 5.02, 4.84, 5.14, 5.5600000000000005, 7.0, 4.96, 5.92, 5.2, 4.24, 5.68, 3.4, 4.84, 5.14, 5.14, 5.38, 5.02, 5.32, 4.72, 6.28, 4.06, 4.18, 5.26, 6.46, 4.72, 2.68, 6.04, 5.02, 5.14, 4.42, 5.08, 5.92, 3.8200000000000003, 4.12, 6.94, 5.2, 5.02, 5.86, 5.08, 3.94, 5.8, 5.5600000000000005, 5.02, 4.78, 5.02, 6.04, 5.08, 6.52, 5.62, 4.0, 6.04, 5.62, 5.44, 5.2, 4.0, 5.92, 4.9, 4.18, 5.02, 6.46, 5.32, 5.62, 4.96, 3.88, 4.24, 4.72, 5.26, 4.84, 6.04, 5.8, 4.84, 4.54, 5.44, 1.6, 4.72, 5.86, 4.84, 7.0, 3.94, 3.64, 4.24, 5.08, 6.28, 4.72, 6.4, 4.54, 5.44, 4.36, 4.24, 6.4, 3.76, 3.94, 4.18, 2.92, 5.68, 5.68, 5.02, 5.92, 5.44, 5.5, 6.94, 5.2, 5.74, 5.02, 5.2, 5.5, 5.8, 3.58, 2.8, 5.26, 3.16, 5.86, 4.72, 5.5600000000000005], \"xaxis\": \"x\", \"yaxis\": \"y\"}],\n",
              "                        {\"annotations\": [{\"font\": {}, \"showarrow\": false, \"text\": \"subject=writing score\", \"textangle\": 90, \"x\": 0.98, \"xanchor\": \"left\", \"xref\": \"paper\", \"y\": 0.15666666666666665, \"yanchor\": \"middle\", \"yref\": \"paper\"}, {\"font\": {}, \"showarrow\": false, \"text\": \"subject=reading score\", \"textangle\": 90, \"x\": 0.98, \"xanchor\": \"left\", \"xref\": \"paper\", \"y\": 0.4999999999999999, \"yanchor\": \"middle\", \"yref\": \"paper\"}, {\"font\": {}, \"showarrow\": false, \"text\": \"subject=math score\", \"textangle\": 90, \"x\": 0.98, \"xanchor\": \"left\", \"xref\": \"paper\", \"y\": 0.8433333333333332, \"yanchor\": \"middle\", \"yref\": \"paper\"}], \"barmode\": \"relative\", \"legend\": {\"tracegroupgap\": 0}, \"margin\": {\"t\": 60}, \"template\": {\"data\": {\"bar\": [{\"error_x\": {\"color\": \"#2a3f5f\"}, \"error_y\": {\"color\": \"#2a3f5f\"}, \"marker\": {\"line\": {\"color\": \"#E5ECF6\", \"width\": 0.5}}, \"type\": \"bar\"}], \"barpolar\": [{\"marker\": {\"line\": {\"color\": \"#E5ECF6\", \"width\": 0.5}}, \"type\": \"barpolar\"}], \"carpet\": [{\"aaxis\": {\"endlinecolor\": \"#2a3f5f\", \"gridcolor\": \"white\", \"linecolor\": \"white\", \"minorgridcolor\": \"white\", \"startlinecolor\": \"#2a3f5f\"}, \"baxis\": {\"endlinecolor\": \"#2a3f5f\", \"gridcolor\": \"white\", \"linecolor\": \"white\", \"minorgridcolor\": \"white\", \"startlinecolor\": \"#2a3f5f\"}, \"type\": \"carpet\"}], \"choropleth\": [{\"colorbar\": {\"outlinewidth\": 0, \"ticks\": \"\"}, \"type\": \"choropleth\"}], \"contour\": [{\"colorbar\": {\"outlinewidth\": 0, \"ticks\": \"\"}, \"colorscale\": [[0.0, \"#0d0887\"], [0.1111111111111111, \"#46039f\"], [0.2222222222222222, \"#7201a8\"], [0.3333333333333333, \"#9c179e\"], [0.4444444444444444, \"#bd3786\"], [0.5555555555555556, \"#d8576b\"], [0.6666666666666666, \"#ed7953\"], [0.7777777777777778, \"#fb9f3a\"], [0.8888888888888888, \"#fdca26\"], [1.0, \"#f0f921\"]], \"type\": \"contour\"}], \"contourcarpet\": [{\"colorbar\": {\"outlinewidth\": 0, \"ticks\": \"\"}, \"type\": \"contourcarpet\"}], \"heatmap\": [{\"colorbar\": {\"outlinewidth\": 0, \"ticks\": \"\"}, \"colorscale\": [[0.0, \"#0d0887\"], [0.1111111111111111, \"#46039f\"], [0.2222222222222222, \"#7201a8\"], [0.3333333333333333, \"#9c179e\"], [0.4444444444444444, \"#bd3786\"], [0.5555555555555556, \"#d8576b\"], [0.6666666666666666, \"#ed7953\"], [0.7777777777777778, \"#fb9f3a\"], [0.8888888888888888, \"#fdca26\"], [1.0, \"#f0f921\"]], \"type\": \"heatmap\"}], \"heatmapgl\": [{\"colorbar\": {\"outlinewidth\": 0, \"ticks\": \"\"}, \"colorscale\": [[0.0, \"#0d0887\"], [0.1111111111111111, \"#46039f\"], [0.2222222222222222, \"#7201a8\"], [0.3333333333333333, \"#9c179e\"], [0.4444444444444444, \"#bd3786\"], [0.5555555555555556, \"#d8576b\"], [0.6666666666666666, \"#ed7953\"], [0.7777777777777778, \"#fb9f3a\"], [0.8888888888888888, \"#fdca26\"], [1.0, \"#f0f921\"]], \"type\": \"heatmapgl\"}], \"histogram\": [{\"marker\": {\"colorbar\": {\"outlinewidth\": 0, \"ticks\": \"\"}}, \"type\": \"histogram\"}], \"histogram2d\": [{\"colorbar\": {\"outlinewidth\": 0, \"ticks\": \"\"}, \"colorscale\": [[0.0, \"#0d0887\"], [0.1111111111111111, \"#46039f\"], [0.2222222222222222, \"#7201a8\"], [0.3333333333333333, \"#9c179e\"], [0.4444444444444444, \"#bd3786\"], [0.5555555555555556, \"#d8576b\"], [0.6666666666666666, \"#ed7953\"], [0.7777777777777778, \"#fb9f3a\"], [0.8888888888888888, \"#fdca26\"], [1.0, \"#f0f921\"]], \"type\": \"histogram2d\"}], \"histogram2dcontour\": [{\"colorbar\": {\"outlinewidth\": 0, \"ticks\": \"\"}, \"colorscale\": [[0.0, \"#0d0887\"], [0.1111111111111111, \"#46039f\"], [0.2222222222222222, \"#7201a8\"], [0.3333333333333333, \"#9c179e\"], [0.4444444444444444, \"#bd3786\"], [0.5555555555555556, \"#d8576b\"], [0.6666666666666666, \"#ed7953\"], [0.7777777777777778, \"#fb9f3a\"], [0.8888888888888888, \"#fdca26\"], [1.0, \"#f0f921\"]], \"type\": \"histogram2dcontour\"}], \"mesh3d\": [{\"colorbar\": {\"outlinewidth\": 0, \"ticks\": \"\"}, \"type\": \"mesh3d\"}], \"parcoords\": [{\"line\": {\"colorbar\": {\"outlinewidth\": 0, \"ticks\": \"\"}}, \"type\": \"parcoords\"}], \"pie\": [{\"automargin\": true, \"type\": \"pie\"}], \"scatter\": [{\"marker\": {\"colorbar\": {\"outlinewidth\": 0, \"ticks\": \"\"}}, \"type\": \"scatter\"}], \"scatter3d\": [{\"line\": {\"colorbar\": {\"outlinewidth\": 0, \"ticks\": \"\"}}, \"marker\": {\"colorbar\": {\"outlinewidth\": 0, \"ticks\": \"\"}}, \"type\": \"scatter3d\"}], \"scattercarpet\": [{\"marker\": {\"colorbar\": {\"outlinewidth\": 0, \"ticks\": \"\"}}, \"type\": \"scattercarpet\"}], \"scattergeo\": [{\"marker\": {\"colorbar\": {\"outlinewidth\": 0, \"ticks\": \"\"}}, \"type\": \"scattergeo\"}], \"scattergl\": [{\"marker\": {\"colorbar\": {\"outlinewidth\": 0, \"ticks\": \"\"}}, \"type\": \"scattergl\"}], \"scattermapbox\": [{\"marker\": {\"colorbar\": {\"outlinewidth\": 0, \"ticks\": \"\"}}, \"type\": \"scattermapbox\"}], \"scatterpolar\": [{\"marker\": {\"colorbar\": {\"outlinewidth\": 0, \"ticks\": \"\"}}, \"type\": \"scatterpolar\"}], \"scatterpolargl\": [{\"marker\": {\"colorbar\": {\"outlinewidth\": 0, \"ticks\": \"\"}}, \"type\": \"scatterpolargl\"}], \"scatterternary\": [{\"marker\": {\"colorbar\": {\"outlinewidth\": 0, \"ticks\": \"\"}}, \"type\": \"scatterternary\"}], \"surface\": [{\"colorbar\": {\"outlinewidth\": 0, \"ticks\": \"\"}, \"colorscale\": [[0.0, \"#0d0887\"], [0.1111111111111111, \"#46039f\"], [0.2222222222222222, \"#7201a8\"], [0.3333333333333333, \"#9c179e\"], [0.4444444444444444, \"#bd3786\"], [0.5555555555555556, \"#d8576b\"], [0.6666666666666666, \"#ed7953\"], [0.7777777777777778, \"#fb9f3a\"], [0.8888888888888888, \"#fdca26\"], [1.0, \"#f0f921\"]], \"type\": \"surface\"}], \"table\": [{\"cells\": {\"fill\": {\"color\": \"#EBF0F8\"}, \"line\": {\"color\": \"white\"}}, \"header\": {\"fill\": {\"color\": \"#C8D4E3\"}, \"line\": {\"color\": \"white\"}}, \"type\": \"table\"}]}, \"layout\": {\"annotationdefaults\": {\"arrowcolor\": \"#2a3f5f\", \"arrowhead\": 0, \"arrowwidth\": 1}, \"coloraxis\": {\"colorbar\": {\"outlinewidth\": 0, \"ticks\": \"\"}}, \"colorscale\": {\"diverging\": [[0, \"#8e0152\"], [0.1, \"#c51b7d\"], [0.2, \"#de77ae\"], [0.3, \"#f1b6da\"], [0.4, \"#fde0ef\"], [0.5, \"#f7f7f7\"], [0.6, \"#e6f5d0\"], [0.7, \"#b8e186\"], [0.8, \"#7fbc41\"], [0.9, \"#4d9221\"], [1, \"#276419\"]], \"sequential\": [[0.0, \"#0d0887\"], [0.1111111111111111, \"#46039f\"], [0.2222222222222222, \"#7201a8\"], [0.3333333333333333, \"#9c179e\"], [0.4444444444444444, \"#bd3786\"], [0.5555555555555556, \"#d8576b\"], [0.6666666666666666, \"#ed7953\"], [0.7777777777777778, \"#fb9f3a\"], [0.8888888888888888, \"#fdca26\"], [1.0, \"#f0f921\"]], \"sequentialminus\": [[0.0, \"#0d0887\"], [0.1111111111111111, \"#46039f\"], [0.2222222222222222, \"#7201a8\"], [0.3333333333333333, \"#9c179e\"], [0.4444444444444444, \"#bd3786\"], [0.5555555555555556, \"#d8576b\"], [0.6666666666666666, \"#ed7953\"], [0.7777777777777778, \"#fb9f3a\"], [0.8888888888888888, \"#fdca26\"], [1.0, \"#f0f921\"]]}, \"colorway\": [\"#636efa\", \"#EF553B\", \"#00cc96\", \"#ab63fa\", \"#FFA15A\", \"#19d3f3\", \"#FF6692\", \"#B6E880\", \"#FF97FF\", \"#FECB52\"], \"font\": {\"color\": \"#2a3f5f\"}, \"geo\": {\"bgcolor\": \"white\", \"lakecolor\": \"white\", \"landcolor\": \"#E5ECF6\", \"showlakes\": true, \"showland\": true, \"subunitcolor\": \"white\"}, \"hoverlabel\": {\"align\": \"left\"}, \"hovermode\": \"closest\", \"mapbox\": {\"style\": \"light\"}, \"paper_bgcolor\": \"white\", \"plot_bgcolor\": \"#E5ECF6\", \"polar\": {\"angularaxis\": {\"gridcolor\": \"white\", \"linecolor\": \"white\", \"ticks\": \"\"}, \"bgcolor\": \"#E5ECF6\", \"radialaxis\": {\"gridcolor\": \"white\", \"linecolor\": \"white\", \"ticks\": \"\"}}, \"scene\": {\"xaxis\": {\"backgroundcolor\": \"#E5ECF6\", \"gridcolor\": \"white\", \"gridwidth\": 2, \"linecolor\": \"white\", \"showbackground\": true, \"ticks\": \"\", \"zerolinecolor\": \"white\"}, \"yaxis\": {\"backgroundcolor\": \"#E5ECF6\", \"gridcolor\": \"white\", \"gridwidth\": 2, \"linecolor\": \"white\", \"showbackground\": true, \"ticks\": \"\", \"zerolinecolor\": \"white\"}, \"zaxis\": {\"backgroundcolor\": \"#E5ECF6\", \"gridcolor\": \"white\", \"gridwidth\": 2, \"linecolor\": \"white\", \"showbackground\": true, \"ticks\": \"\", \"zerolinecolor\": \"white\"}}, \"shapedefaults\": {\"line\": {\"color\": \"#2a3f5f\"}}, \"ternary\": {\"aaxis\": {\"gridcolor\": \"white\", \"linecolor\": \"white\", \"ticks\": \"\"}, \"baxis\": {\"gridcolor\": \"white\", \"linecolor\": \"white\", \"ticks\": \"\"}, \"bgcolor\": \"#E5ECF6\", \"caxis\": {\"gridcolor\": \"white\", \"linecolor\": \"white\", \"ticks\": \"\"}}, \"title\": {\"x\": 0.05}, \"xaxis\": {\"automargin\": true, \"gridcolor\": \"white\", \"linecolor\": \"white\", \"ticks\": \"\", \"title\": {\"standoff\": 15}, \"zerolinecolor\": \"white\", \"zerolinewidth\": 2}, \"yaxis\": {\"automargin\": true, \"gridcolor\": \"white\", \"linecolor\": \"white\", \"ticks\": \"\", \"title\": {\"standoff\": 15}, \"zerolinecolor\": \"white\", \"zerolinewidth\": 2}}}, \"xaxis\": {\"anchor\": \"y\", \"domain\": [0.0, 0.98], \"title\": {\"text\": \"score\"}}, \"xaxis2\": {\"anchor\": \"y2\", \"domain\": [0.0, 0.98], \"matches\": \"x\", \"showticklabels\": false}, \"xaxis3\": {\"anchor\": \"y3\", \"domain\": [0.0, 0.98], \"matches\": \"x\", \"showticklabels\": false}, \"yaxis\": {\"anchor\": \"x\", \"domain\": [0.0, 0.3133333333333333], \"title\": {\"text\": \"count\"}}, \"yaxis2\": {\"anchor\": \"x2\", \"domain\": [0.34333333333333327, 0.6566666666666665], \"matches\": \"y\", \"title\": {\"text\": \"count\"}}, \"yaxis3\": {\"anchor\": \"x3\", \"domain\": [0.6866666666666665, 0.9999999999999998], \"matches\": \"y\", \"title\": {\"text\": \"count\"}}},\n",
              "                        {\"responsive\": true}\n",
              "                    ).then(function(){\n",
              "                            \n",
              "var gd = document.getElementById('e8de99b4-d716-41e3-9674-2b008e2ab5a3');\n",
              "var x = new MutationObserver(function (mutations, observer) {{\n",
              "        var display = window.getComputedStyle(gd).display;\n",
              "        if (!display || display === 'none') {{\n",
              "            console.log([gd, 'removed!']);\n",
              "            Plotly.purge(gd);\n",
              "            observer.disconnect();\n",
              "        }}\n",
              "}});\n",
              "\n",
              "// Listen for the removal of the full notebook cells\n",
              "var notebookContainer = gd.closest('#notebook-container');\n",
              "if (notebookContainer) {{\n",
              "    x.observe(notebookContainer, {childList: true});\n",
              "}}\n",
              "\n",
              "// Listen for the clearing of the current output cell\n",
              "var outputEl = gd.closest('.output');\n",
              "if (outputEl) {{\n",
              "    x.observe(outputEl, {childList: true});\n",
              "}}\n",
              "\n",
              "                        })\n",
              "                };\n",
              "                \n",
              "            </script>\n",
              "        </div>\n",
              "</body>\n",
              "</html>"
            ]
          },
          "metadata": {}
        }
      ]
    },
    {
      "cell_type": "markdown",
      "metadata": {
        "id": "Eoc4rniBwuqw"
      },
      "source": [
        "**Justifique:**"
      ]
    },
    {
      "cell_type": "markdown",
      "metadata": {
        "id": "OIrFhqRSwuqw"
      },
      "source": [
        "¿Existe una diferencia notable entre las notas?\n",
        "\n",
        "¿Cuál de los gráficos mostrados cree que es adecuado para mostrarle al rector? ¿Y a los padres? ¿Y a un centro de estudios educativos? ¿Por qué?. Base sus respuestas en lo visto en la clase de visualizaciones como también en lo que usted y su equipo consideren correcto\n",
        "\n",
        "> No, no existe una diferencia notable entre las notas en las 3 asignaturas.\n",
        "\n",
        "> A mi juicio, la visualización de histograma con boxplots es la más adecuada de presentar. Pues es la visualización que mezcla la simplicidad para generar entendimiento en el espectador a su vez que incorpora la mayor cantidad de información, en palabras sencillas esta visualización \"tiene mucha información y es fácil de entender y explicar\". Entre los beneficios de esta visualización se puede mencionar que es simple de identificar la distribución de las notas \"por segmento de nota\" y la distribución general de todas las notas."
      ]
    },
    {
      "cell_type": "markdown",
      "metadata": {
        "id": "zZnf6y18wuqx"
      },
      "source": [
        "## Análisis por Nivel Educacional Etnia de los Padres [1.5 Puntos]\n",
        "\n",
        "El rector, basado en su experiencia, cree fuertemente que el nivel educacional y la etnia de los padres influyen en las notas que obtienen sus hijos. \n",
        "Como científicos de datos, ud. y su equipo creen que deben encontrar evidencia para confirmar o refutar la hipótesis del rector.\n",
        "\n",
        "Para esto, deciden generar dos análisis: una tabla de resumen por una parte y gráficos de caja por otro.\n",
        "\n",
        "### Tabla de Resumen\n",
        "\n",
        "Para generar la tabla de resumen:\n",
        "\n",
        "- [x] Calcular el promedio de las notas y guardarlo en una variable `GPA` (grade point average).\n",
        "- [x] Hacer una simplificación a través de un mapeo (investigar `map()`) de la variable `parental level of education`  según la siguiente conversión: \n",
        "\n",
        "        some high school -> school\n",
        "        some college -> school\n",
        "        high school -> school\n",
        "        bachelor's degree -> college\n",
        "        associate's degree -> college\n",
        "        master's degree -> postgraduate\n",
        "\n",
        "  Los resultados de este mapeo deben ser guardados en la columna `simple parental level of education`.\n",
        "\n",
        "\n",
        "- [x] Agregar según 2 niveles: `race/ethnicity` y `simple parental level of education` para obtener el promedio de las notas. \n",
        "- [x] Agregar según 2 niveles: `race/ethnicity` y `simple parental level of education` para obtener un conteo de los alumnos en cada grupo y agregarlos como una nueva fila count.\n",
        "- [x] Obtener el porcentaje de alumnos con respecto al total. Los porcentajes deben ser strings que contienen la frecuencia de cada grupo con respecto al total y deben ser terminados en '%'. \n",
        "\n",
        "\n",
        "Utilizar la tabla de resultados esperados como guía para desarrollar este punto."
      ]
    },
    {
      "cell_type": "markdown",
      "metadata": {
        "id": "nFP8X1L4B1v9"
      },
      "source": [
        "### 1.3.4 Información por Categorías [1 punto]"
      ]
    },
    {
      "cell_type": "code",
      "metadata": {
        "id": "DCTZNHKOwuqy"
      },
      "source": [
        "def estudia_hipotesis(df):\n",
        "  df['GPA'] = np.round((df['math score'] + df['reading score'] + df['writing score'])/3,2)\n",
        "\n",
        "  df['simple parental level of education'] = df['parental level of education'].map(\n",
        "    {   \"some high school\": \"school\",\n",
        "        \"some college\": \"school\",\n",
        "        \"high school\": \"school\",\n",
        "        \"bachelor's degree\": \"college\",\n",
        "        \"associate's degree\": \"college\",\n",
        "        \"master's degree\": \"postgraduate\"    })\n",
        "  \n",
        "  qw = df.groupby(['race/ethnicity','simple parental level of education']).agg({'math score':['mean'],\n",
        "                                                                         'reading score':['mean'],\n",
        "                                                                         'writing score':['mean'],\n",
        "                                                                         'GPA':['mean','count']})\n",
        "  #qw = qw.reset_index()\n",
        "  qw.columns = ['math score', 'reading score', 'writing score', 'GPA', 'count']\n",
        "\n",
        "  total = len(df)\n",
        "  porcentaje = [100*i/total for i in qw['count']]\n",
        "  porcentaje = [str(i)[:4]+'%' for i in porcentaje]\n",
        "  qw['porcentaje'] = porcentaje\n",
        "  qw = qw.reset_index()\n",
        "\n",
        "  return qw\n",
        "\n",
        "df_grades_new = estudia_hipotesis(df_grades)"
      ],
      "execution_count": 179,
      "outputs": []
    },
    {
      "cell_type": "code",
      "metadata": {
        "colab": {
          "base_uri": "https://localhost:8080/",
          "height": 519
        },
        "id": "hG8hZxp4JYLy",
        "outputId": "187e355a-78ff-4e37-fbf8-cfae87eb5d31"
      },
      "source": [
        "df_grades_new"
      ],
      "execution_count": 175,
      "outputs": [
        {
          "output_type": "execute_result",
          "data": {
            "text/html": [
              "<div>\n",
              "<style scoped>\n",
              "    .dataframe tbody tr th:only-of-type {\n",
              "        vertical-align: middle;\n",
              "    }\n",
              "\n",
              "    .dataframe tbody tr th {\n",
              "        vertical-align: top;\n",
              "    }\n",
              "\n",
              "    .dataframe thead th {\n",
              "        text-align: right;\n",
              "    }\n",
              "</style>\n",
              "<table border=\"1\" class=\"dataframe\">\n",
              "  <thead>\n",
              "    <tr style=\"text-align: right;\">\n",
              "      <th></th>\n",
              "      <th>race/ethnicity</th>\n",
              "      <th>simple parental level of education</th>\n",
              "      <th>math score</th>\n",
              "      <th>reading score</th>\n",
              "      <th>writing score</th>\n",
              "      <th>GPA</th>\n",
              "      <th>count</th>\n",
              "      <th>porcentaje</th>\n",
              "    </tr>\n",
              "  </thead>\n",
              "  <tbody>\n",
              "    <tr>\n",
              "      <th>0</th>\n",
              "      <td>group A</td>\n",
              "      <td>college</td>\n",
              "      <td>4.735000</td>\n",
              "      <td>5.005000</td>\n",
              "      <td>4.890000</td>\n",
              "      <td>4.876667</td>\n",
              "      <td>24</td>\n",
              "      <td>2.74%</td>\n",
              "    </tr>\n",
              "    <tr>\n",
              "      <th>1</th>\n",
              "      <td>group A</td>\n",
              "      <td>postgraduate</td>\n",
              "      <td>4.690000</td>\n",
              "      <td>5.230000</td>\n",
              "      <td>5.350000</td>\n",
              "      <td>5.090000</td>\n",
              "      <td>2</td>\n",
              "      <td>0.22%</td>\n",
              "    </tr>\n",
              "    <tr>\n",
              "      <th>2</th>\n",
              "      <td>group A</td>\n",
              "      <td>school</td>\n",
              "      <td>4.568235</td>\n",
              "      <td>4.725882</td>\n",
              "      <td>4.558824</td>\n",
              "      <td>4.617647</td>\n",
              "      <td>51</td>\n",
              "      <td>5.82%</td>\n",
              "    </tr>\n",
              "    <tr>\n",
              "      <th>3</th>\n",
              "      <td>group B</td>\n",
              "      <td>college</td>\n",
              "      <td>5.070000</td>\n",
              "      <td>5.264444</td>\n",
              "      <td>5.192222</td>\n",
              "      <td>5.175556</td>\n",
              "      <td>54</td>\n",
              "      <td>6.17%</td>\n",
              "    </tr>\n",
              "    <tr>\n",
              "      <th>4</th>\n",
              "      <td>group B</td>\n",
              "      <td>postgraduate</td>\n",
              "      <td>4.912000</td>\n",
              "      <td>5.692000</td>\n",
              "      <td>5.548000</td>\n",
              "      <td>5.384000</td>\n",
              "      <td>5</td>\n",
              "      <td>0.57%</td>\n",
              "    </tr>\n",
              "    <tr>\n",
              "      <th>5</th>\n",
              "      <td>group B</td>\n",
              "      <td>school</td>\n",
              "      <td>4.689159</td>\n",
              "      <td>4.887664</td>\n",
              "      <td>4.764299</td>\n",
              "      <td>4.780374</td>\n",
              "      <td>107</td>\n",
              "      <td>12.2%</td>\n",
              "    </tr>\n",
              "    <tr>\n",
              "      <th>6</th>\n",
              "      <td>group C</td>\n",
              "      <td>college</td>\n",
              "      <td>5.021765</td>\n",
              "      <td>5.370588</td>\n",
              "      <td>5.354706</td>\n",
              "      <td>5.249020</td>\n",
              "      <td>102</td>\n",
              "      <td>11.6%</td>\n",
              "    </tr>\n",
              "    <tr>\n",
              "      <th>7</th>\n",
              "      <td>group C</td>\n",
              "      <td>postgraduate</td>\n",
              "      <td>4.924000</td>\n",
              "      <td>5.144000</td>\n",
              "      <td>5.104000</td>\n",
              "      <td>5.057333</td>\n",
              "      <td>15</td>\n",
              "      <td>1.71%</td>\n",
              "    </tr>\n",
              "    <tr>\n",
              "      <th>8</th>\n",
              "      <td>group C</td>\n",
              "      <td>school</td>\n",
              "      <td>4.764516</td>\n",
              "      <td>5.023871</td>\n",
              "      <td>4.919355</td>\n",
              "      <td>4.902581</td>\n",
              "      <td>155</td>\n",
              "      <td>17.7%</td>\n",
              "    </tr>\n",
              "    <tr>\n",
              "      <th>9</th>\n",
              "      <td>group D</td>\n",
              "      <td>college</td>\n",
              "      <td>5.108286</td>\n",
              "      <td>5.248000</td>\n",
              "      <td>5.248857</td>\n",
              "      <td>5.201714</td>\n",
              "      <td>70</td>\n",
              "      <td>8.0%</td>\n",
              "    </tr>\n",
              "    <tr>\n",
              "      <th>10</th>\n",
              "      <td>group D</td>\n",
              "      <td>postgraduate</td>\n",
              "      <td>5.218000</td>\n",
              "      <td>5.542000</td>\n",
              "      <td>5.734000</td>\n",
              "      <td>5.498000</td>\n",
              "      <td>20</td>\n",
              "      <td>2.28%</td>\n",
              "    </tr>\n",
              "    <tr>\n",
              "      <th>11</th>\n",
              "      <td>group D</td>\n",
              "      <td>school</td>\n",
              "      <td>5.018792</td>\n",
              "      <td>5.128725</td>\n",
              "      <td>5.110201</td>\n",
              "      <td>5.085906</td>\n",
              "      <td>149</td>\n",
              "      <td>17.0%</td>\n",
              "    </tr>\n",
              "    <tr>\n",
              "      <th>12</th>\n",
              "      <td>group E</td>\n",
              "      <td>college</td>\n",
              "      <td>5.542692</td>\n",
              "      <td>5.453846</td>\n",
              "      <td>5.450385</td>\n",
              "      <td>5.482308</td>\n",
              "      <td>52</td>\n",
              "      <td>5.94%</td>\n",
              "    </tr>\n",
              "    <tr>\n",
              "      <th>13</th>\n",
              "      <td>group E</td>\n",
              "      <td>postgraduate</td>\n",
              "      <td>5.540000</td>\n",
              "      <td>6.030000</td>\n",
              "      <td>5.890000</td>\n",
              "      <td>5.820000</td>\n",
              "      <td>6</td>\n",
              "      <td>0.68%</td>\n",
              "    </tr>\n",
              "    <tr>\n",
              "      <th>14</th>\n",
              "      <td>group E</td>\n",
              "      <td>school</td>\n",
              "      <td>5.396190</td>\n",
              "      <td>5.311429</td>\n",
              "      <td>5.159048</td>\n",
              "      <td>5.288889</td>\n",
              "      <td>63</td>\n",
              "      <td>7.2%</td>\n",
              "    </tr>\n",
              "  </tbody>\n",
              "</table>\n",
              "</div>"
            ],
            "text/plain": [
              "   race/ethnicity simple parental level of education  ...  count  porcentaje\n",
              "0         group A                            college  ...     24       2.74%\n",
              "1         group A                       postgraduate  ...      2       0.22%\n",
              "2         group A                             school  ...     51       5.82%\n",
              "3         group B                            college  ...     54       6.17%\n",
              "4         group B                       postgraduate  ...      5       0.57%\n",
              "5         group B                             school  ...    107       12.2%\n",
              "6         group C                            college  ...    102       11.6%\n",
              "7         group C                       postgraduate  ...     15       1.71%\n",
              "8         group C                             school  ...    155       17.7%\n",
              "9         group D                            college  ...     70        8.0%\n",
              "10        group D                       postgraduate  ...     20       2.28%\n",
              "11        group D                             school  ...    149       17.0%\n",
              "12        group E                            college  ...     52       5.94%\n",
              "13        group E                       postgraduate  ...      6       0.68%\n",
              "14        group E                             school  ...     63        7.2%\n",
              "\n",
              "[15 rows x 8 columns]"
            ]
          },
          "metadata": {},
          "execution_count": 175
        }
      ]
    },
    {
      "cell_type": "markdown",
      "metadata": {
        "id": "TCRY0oBNwuqz"
      },
      "source": [
        "**Resultado Esperado**\n",
        "\n",
        "|    | race/ethnicity   | simple parental level of education   |   math score |   reading score |   writing score |   GPA |   count | percentage   |\n",
        "|---:|:-----------------|:-------------------------------------|-------------:|----------------:|----------------:|------:|--------:|:-------------|\n",
        "|  0 | group A          | college                              |         4.74 |            5    |            4.89 |  4.88 |      24 | 2.74 %       |\n",
        "|  1 |           | postgraduate                         |         4.69 |            5.23 |            5.35 |  5.09 |       2 | 0.23 %       |\n",
        "|  2 |           | school                               |         4.57 |            4.73 |            4.56 |  4.62 |      51 | 5.83 %       |\n",
        "|  3 | group B          | college                              |         5.07 |            5.26 |            5.19 |  5.18 |      54 | 6.17 %       |\n",
        "|  4 |           | postgraduate                         |         4.91 |            5.69 |            5.55 |  5.38 |       5 | 0.57 %       |\n",
        "|  5 |           | school                               |         4.69 |            4.89 |            4.76 |  4.78 |     107 | 12.23 %      |\n",
        "|  6 | group C          | college                              |         5.02 |            5.37 |            5.35 |  5.25 |     102 | 11.66 %      |\n",
        "|  7 |           | postgraduate                         |         4.92 |            5.14 |            5.1  |  5.06 |      15 | 1.71 %       |\n",
        "|  8 |           | school                               |         4.76 |            5.02 |            4.92 |  4.9  |     155 | 17.71 %      |\n",
        "|  9 | group D          | college                              |         5.11 |            5.25 |            5.25 |  5.2  |      70 | 8.0 %        |\n",
        "| 10 |           | postgraduate                         |         5.22 |            5.54 |            5.73 |  5.5  |      20 | 2.29 %       |\n",
        "| 11 |           | school                               |         5.02 |            5.13 |            5.11 |  5.09 |     149 | 17.03 %      |\n",
        "| 12 | group E          | college                              |         5.54 |            5.45 |            5.45 |  5.48 |      52 | 5.94 %       |\n",
        "| 13 |          | postgraduate                         |         5.54 |            6.03 |            5.89 |  5.82 |       6 | 0.69 %       |\n",
        "| 14 |          | school                               |         5.4  |            5.31 |            5.16 |  5.29 |      63 | 7.2 %        |"
      ]
    },
    {
      "cell_type": "markdown",
      "metadata": {
        "id": "AStUBdZ1wuqz"
      },
      "source": [
        "## Visualizaciones [0.5 Puntos]\n",
        "\n",
        "Ahora, implemente un gráfico de caja en donde se muestre el GPA con respecto al nivel educacional y que la variable de color sea la etnicidad y luego comente."
      ]
    },
    {
      "cell_type": "code",
      "metadata": {
        "colab": {
          "base_uri": "https://localhost:8080/",
          "height": 541
        },
        "id": "4ZaLbQ8Wwuq0",
        "outputId": "42c2c927-9cee-4485-e597-9ee79092b440"
      },
      "source": [
        "def plot_box_etnia(df):\n",
        "  fig = px.box(df_grades, x=\"simple parental level of education\", y=\"GPA\", color='race/ethnicity')\n",
        "  fig.show()  \n",
        "plot_box_etnia(df_grades)"
      ],
      "execution_count": 181,
      "outputs": [
        {
          "output_type": "display_data",
          "data": {
            "text/html": [
              "<html>\n",
              "<head><meta charset=\"utf-8\" /></head>\n",
              "<body>\n",
              "    <div>\n",
              "            <script src=\"https://cdnjs.cloudflare.com/ajax/libs/mathjax/2.7.5/MathJax.js?config=TeX-AMS-MML_SVG\"></script><script type=\"text/javascript\">if (window.MathJax) {MathJax.Hub.Config({SVG: {font: \"STIX-Web\"}});}</script>\n",
              "                <script type=\"text/javascript\">window.PlotlyConfig = {MathJaxConfig: 'local'};</script>\n",
              "        <script src=\"https://cdn.plot.ly/plotly-latest.min.js\"></script>    \n",
              "            <div id=\"d78e244b-f381-4dce-9b51-6d1d6cd61c52\" class=\"plotly-graph-div\" style=\"height:525px; width:100%;\"></div>\n",
              "            <script type=\"text/javascript\">\n",
              "                \n",
              "                    window.PLOTLYENV=window.PLOTLYENV || {};\n",
              "                    \n",
              "                if (document.getElementById(\"d78e244b-f381-4dce-9b51-6d1d6cd61c52\")) {\n",
              "                    Plotly.newPlot(\n",
              "                        'd78e244b-f381-4dce-9b51-6d1d6cd61c52',\n",
              "                        [{\"alignmentgroup\": \"True\", \"hoverlabel\": {\"namelength\": 0}, \"hovertemplate\": \"race/ethnicity=group B<br>simple parental level of education=%{x}<br>GPA=%{y}\", \"legendgroup\": \"race/ethnicity=group B\", \"marker\": {\"color\": \"#636efa\"}, \"name\": \"race/ethnicity=group B\", \"notched\": false, \"offsetgroup\": \"race/ethnicity=group B\", \"orientation\": \"v\", \"showlegend\": true, \"type\": \"box\", \"x\": [\"school\", \"school\", \"college\", \"school\", \"school\", \"college\", \"school\", \"school\", \"school\", \"school\", \"college\", \"school\", \"school\", \"school\", \"school\", \"college\", \"college\", \"school\", \"college\", \"college\", \"school\", \"college\", \"college\", \"college\", \"college\", \"school\", \"school\", \"school\", \"school\", \"college\", \"school\", \"school\", \"college\", \"college\", \"school\", \"college\", \"college\", \"school\", \"college\", \"college\", \"school\", \"school\", \"school\", \"school\", \"school\", \"college\", \"college\", \"school\", \"school\", \"college\", \"school\", \"school\", \"college\", \"school\", \"college\", \"school\", \"school\", \"school\", \"school\", \"school\", \"school\", \"college\", \"school\", \"school\", \"college\", \"college\", \"school\", \"college\", \"school\", \"school\", \"school\", \"college\", \"college\", \"school\", \"school\", \"college\", \"college\", \"college\", \"college\", \"school\", \"school\", \"school\", \"college\", \"school\", \"college\", \"school\", \"school\", \"school\", \"school\", \"college\", \"school\", \"college\", \"school\", \"postgraduate\", \"postgraduate\", \"school\", \"college\", \"school\", \"college\", \"school\", \"college\", \"school\", \"school\", \"school\", \"school\", \"school\", \"school\", \"school\", \"college\", \"college\", \"school\", \"school\", \"school\", \"school\", \"school\", \"school\", \"school\", \"college\", \"school\", \"school\", \"school\", \"school\", \"school\", \"postgraduate\", \"college\", \"school\", \"college\", \"college\", \"college\", \"school\", \"school\", \"school\", \"school\", \"school\", \"school\", \"school\", \"college\", \"school\", \"school\", \"school\", \"school\", \"postgraduate\", \"school\", \"postgraduate\", \"school\", \"school\", \"school\", \"college\", \"school\", \"college\", \"college\", \"school\", \"school\", \"school\", \"school\", \"school\", \"college\", \"school\", \"college\", \"school\", \"school\", \"college\", \"school\", \"school\", \"school\", \"school\"], \"x0\": \" \", \"xaxis\": \"x\", \"y\": [3.58, 6.34, 4.96, 5.2, 5.38, 4.24, 5.84, 4.6, 4.4, 2.84, 5.66, 4.92, 5.62, 4.64, 4.16, 3.76, 5.9, 6.14, 5.54, 5.88, 5.14, 4.78, 4.36, 5.52, 5.84, 3.78, 5.58, 3.54, 2.78, 6.44, 4.76, 3.92, 5.72, 4.5, 4.84, 6.14, 4.72, 5.64, 3.88, 5.64, 3.9, 4.84, 4.92, 4.92, 5.2, 3.72, 4.52, 4.06, 5.46, 4.28, 4.16, 5.56, 4.72, 5.1, 6.8, 3.44, 4.78, 5.96, 4.06, 5.12, 4.14, 5.78, 5.88, 4.48, 5.68, 5.58, 4.72, 4.86, 5.16, 3.94, 4.82, 5.5, 4.9, 2.1, 4.82, 6.42, 4.72, 3.92, 4.86, 4.6, 5.06, 5.54, 3.46, 5.8, 4.52, 4.14, 5.38, 5.24, 6.04, 6.46, 4.9, 5.42, 5.94, 6.56, 4.08, 3.9, 5.98, 6.14, 5.04, 4.7, 4.62, 5.48, 5.94, 4.74, 4.9, 5.16, 4.24, 5.0, 4.1, 5.64, 4.46, 5.32, 4.12, 4.6, 4.06, 5.26, 3.98, 4.36, 4.5, 3.28, 5.76, 4.42, 4.92, 4.68, 4.66, 4.88, 5.98, 5.98, 5.78, 2.78, 5.98, 6.0, 4.24, 4.28, 5.4, 4.16, 6.3, 4.84, 2.38, 4.74, 5.08, 5.24, 6.36, 6.36, 4.86, 4.56, 5.62, 5.06, 4.72, 5.4, 5.06, 3.94, 2.56, 4.94, 4.02, 5.26, 4.88, 6.5, 5.68, 6.56, 5.88, 5.36, 5.5, 5.16, 3.06, 4.54], \"y0\": \" \", \"yaxis\": \"y\"}, {\"alignmentgroup\": \"True\", \"hoverlabel\": {\"namelength\": 0}, \"hovertemplate\": \"race/ethnicity=group A<br>simple parental level of education=%{x}<br>GPA=%{y}\", \"legendgroup\": \"race/ethnicity=group A\", \"marker\": {\"color\": \"#EF553B\"}, \"name\": \"race/ethnicity=group A\", \"notched\": false, \"offsetgroup\": \"race/ethnicity=group A\", \"orientation\": \"v\", \"showlegend\": true, \"type\": \"box\", \"x\": [\"college\", \"school\", \"college\", \"college\", \"college\", \"college\", \"college\", \"school\", \"school\", \"school\", \"college\", \"school\", \"college\", \"postgraduate\", \"school\", \"school\", \"college\", \"school\", \"school\", \"college\", \"school\", \"school\", \"school\", \"school\", \"school\", \"school\", \"postgraduate\", \"school\", \"college\", \"school\", \"school\", \"school\", \"school\", \"school\", \"college\", \"college\", \"college\", \"college\", \"school\", \"school\", \"school\", \"school\", \"school\", \"college\", \"school\", \"school\", \"school\", \"college\", \"school\", \"school\", \"school\", \"school\", \"college\", \"school\", \"college\", \"school\", \"school\", \"school\", \"college\", \"school\", \"school\", \"school\", \"school\", \"school\", \"school\", \"college\", \"school\", \"school\", \"school\", \"college\", \"school\", \"college\", \"school\", \"school\", \"college\", \"school\", \"school\"], \"x0\": \" \", \"xaxis\": \"x\", \"y\": [5.78, 3.46, 4.7, 5.02, 4.84, 3.96, 4.36, 4.96, 3.78, 4.84, 4.98, 4.26, 5.18, 4.8, 4.28, 4.24, 4.64, 4.68, 4.32, 4.0, 5.08, 2.4, 4.02, 5.38, 4.1, 4.68, 5.38, 6.64, 4.56, 4.12, 3.94, 4.1, 5.4, 6.0, 6.16, 4.08, 6.5, 5.52, 4.58, 5.08, 3.68, 3.88, 5.02, 3.8, 4.76, 3.36, 5.18, 4.54, 3.24, 6.34, 4.14, 5.66, 6.36, 5.72, 4.02, 5.62, 3.68, 3.48, 5.86, 3.6, 4.5, 5.68, 3.82, 5.08, 5.48, 5.24, 5.7, 4.38, 4.56, 4.34, 4.9, 4.64, 5.02, 4.66, 3.96, 4.54, 5.48], \"y0\": \" \", \"yaxis\": \"y\"}, {\"alignmentgroup\": \"True\", \"hoverlabel\": {\"namelength\": 0}, \"hovertemplate\": \"race/ethnicity=group C<br>simple parental level of education=%{x}<br>GPA=%{y}\", \"legendgroup\": \"race/ethnicity=group C\", \"marker\": {\"color\": \"#00cc96\"}, \"name\": \"race/ethnicity=group C\", \"notched\": false, \"offsetgroup\": \"race/ethnicity=group C\", \"orientation\": \"v\", \"showlegend\": true, \"type\": \"box\", \"x\": [\"school\", \"college\", \"postgraduate\", \"college\", \"school\", \"school\", \"school\", \"school\", \"college\", \"school\", \"school\", \"school\", \"college\", \"postgraduate\", \"college\", \"college\", \"college\", \"school\", \"college\", \"college\", \"college\", \"college\", \"school\", \"college\", \"school\", \"school\", \"school\", \"school\", \"school\", \"college\", \"college\", \"college\", \"college\", \"school\", \"school\", \"college\", \"school\", \"school\", \"school\", \"school\", \"school\", \"college\", \"college\", \"college\", \"school\", \"college\", \"school\", \"college\", \"school\", \"college\", \"school\", \"school\", \"college\", \"school\", \"school\", \"school\", \"college\", \"school\", \"school\", \"college\", \"school\", \"school\", \"school\", \"school\", \"school\", \"school\", \"school\", \"college\", \"school\", \"school\", \"school\", \"college\", \"school\", \"college\", \"school\", \"college\", \"college\", \"college\", \"school\", \"school\", \"college\", \"school\", \"school\", \"school\", \"school\", \"college\", \"college\", \"school\", \"postgraduate\", \"college\", \"school\", \"school\", \"college\", \"college\", \"school\", \"college\", \"postgraduate\", \"college\", \"college\", \"school\", \"college\", \"college\", \"school\", \"school\", \"school\", \"school\", \"college\", \"school\", \"school\", \"school\", \"college\", \"school\", \"school\", \"postgraduate\", \"school\", \"college\", \"postgraduate\", \"school\", \"college\", \"college\", \"college\", \"college\", \"school\", \"school\", \"school\", \"school\", \"school\", \"college\", \"postgraduate\", \"college\", \"college\", \"school\", \"school\", \"school\", \"school\", \"college\", \"school\", \"college\", \"college\", \"school\", \"college\", \"college\", \"school\", \"college\", \"college\", \"college\", \"college\", \"school\", \"school\", \"school\", \"college\", \"school\", \"school\", \"school\", \"school\", \"school\", \"school\", \"college\", \"postgraduate\", \"school\", \"college\", \"college\", \"school\", \"postgraduate\", \"college\", \"college\", \"school\", \"school\", \"school\", \"postgraduate\", \"school\", \"school\", \"college\", \"school\", \"college\", \"college\", \"school\", \"school\", \"school\", \"school\", \"school\", \"school\", \"school\", \"college\", \"school\", \"school\", \"school\", \"college\", \"school\", \"school\", \"college\", \"school\", \"school\", \"school\", \"school\", \"college\", \"college\", \"school\", \"school\", \"school\", \"college\", \"school\", \"school\", \"school\", \"college\", \"college\", \"postgraduate\", \"college\", \"school\", \"college\", \"school\", \"school\", \"college\", \"school\", \"college\", \"school\", \"college\", \"school\", \"college\", \"postgraduate\", \"college\", \"college\", \"school\", \"college\", \"school\", \"school\", \"school\", \"school\", \"school\", \"school\", \"postgraduate\", \"college\", \"school\", \"college\", \"school\", \"school\", \"school\", \"postgraduate\", \"school\", \"college\", \"college\", \"school\", \"school\", \"school\", \"school\", \"school\", \"college\", \"postgraduate\", \"school\", \"school\", \"school\", \"college\", \"school\", \"school\", \"college\", \"school\", \"college\", \"school\", \"school\", \"school\", \"school\", \"college\", \"school\", \"school\", \"college\", \"college\", \"school\", \"college\", \"college\", \"school\", \"school\", \"college\"], \"x0\": \" \", \"xaxis\": \"x\", \"y\": [5.04, 4.7, 3.68, 5.1, 5.94, 4.44, 4.68, 2.8, 5.0, 5.16, 5.14, 4.84, 6.32, 6.22, 4.34, 4.28, 4.88, 4.9, 6.56, 6.62, 6.36, 5.12, 3.84, 4.86, 5.22, 4.52, 4.1, 4.7, 5.46, 6.42, 4.78, 5.32, 5.5, 4.38, 5.38, 4.36, 6.12, 5.32, 6.54, 6.24, 4.94, 4.32, 5.04, 4.58, 3.8, 5.5, 6.04, 3.96, 4.98, 4.38, 4.28, 4.6, 5.46, 5.26, 4.14, 5.94, 5.32, 5.04, 2.88, 6.02, 5.58, 5.08, 4.08, 5.3, 6.26, 5.68, 5.12, 6.5, 6.34, 4.48, 3.68, 4.22, 5.64, 5.98, 4.16, 5.38, 4.88, 5.76, 5.7, 3.26, 5.14, 5.4, 5.48, 5.42, 6.4, 5.68, 5.32, 5.46, 5.54, 4.02, 4.1, 5.18, 5.64, 5.66, 4.6, 4.76, 5.1, 4.1, 6.3, 5.54, 5.38, 5.38, 4.7, 4.44, 6.16, 3.78, 5.14, 3.78, 4.54, 5.2, 4.98, 5.3, 5.06, 4.04, 5.94, 4.86, 4.26, 5.84, 6.04, 5.28, 4.32, 6.2, 5.1, 5.62, 6.12, 4.42, 4.46, 4.28, 5.4, 5.28, 5.16, 5.56, 3.9, 4.74, 5.22, 5.64, 5.1, 5.3, 3.86, 5.0, 4.34, 6.6, 5.36, 5.74, 3.8, 4.2, 6.64, 5.1, 5.2, 5.6, 6.1, 4.28, 5.16, 5.3, 5.94, 4.08, 4.02, 4.32, 5.76, 4.42, 3.76, 4.22, 5.7, 6.18, 5.22, 5.26, 4.96, 4.44, 5.0, 4.66, 6.32, 4.94, 5.18, 4.54, 4.38, 6.16, 4.32, 5.8, 4.54, 6.48, 5.96, 5.96, 4.7, 5.34, 2.94, 4.54, 3.44, 3.38, 4.08, 5.54, 6.38, 4.08, 4.72, 4.36, 4.94, 6.22, 4.46, 4.82, 5.42, 5.12, 4.4, 4.4, 5.44, 5.2, 5.74, 6.82, 4.88, 4.5, 5.44, 5.16, 5.58, 4.0, 5.64, 4.52, 5.12, 4.78, 5.64, 5.36, 5.12, 4.56, 4.84, 5.98, 4.22, 6.82, 5.54, 5.94, 3.64, 4.86, 6.04, 5.24, 4.7, 5.08, 5.82, 6.92, 5.62, 4.0, 3.6, 5.2, 4.2, 5.64, 4.46, 4.6, 5.08, 5.0, 5.02, 5.2, 6.1, 5.68, 3.72, 5.7, 4.6, 5.28, 5.32, 4.66, 4.52, 4.86, 5.66, 1.54, 5.06, 4.44, 4.64, 5.94, 4.82, 3.92, 5.82, 5.22, 5.22, 4.96, 5.36, 3.6, 2.76, 5.42], \"y0\": \" \", \"yaxis\": \"y\"}, {\"alignmentgroup\": \"True\", \"hoverlabel\": {\"namelength\": 0}, \"hovertemplate\": \"race/ethnicity=group E<br>simple parental level of education=%{x}<br>GPA=%{y}\", \"legendgroup\": \"race/ethnicity=group E\", \"marker\": {\"color\": \"#ab63fa\"}, \"name\": \"race/ethnicity=group E\", \"notched\": false, \"offsetgroup\": \"race/ethnicity=group E\", \"orientation\": \"v\", \"showlegend\": true, \"type\": \"box\", \"x\": [\"school\", \"school\", \"college\", \"college\", \"school\", \"school\", \"school\", \"college\", \"school\", \"college\", \"school\", \"school\", \"school\", \"school\", \"school\", \"college\", \"college\", \"postgraduate\", \"school\", \"school\", \"school\", \"school\", \"college\", \"college\", \"school\", \"school\", \"school\", \"postgraduate\", \"school\", \"school\", \"college\", \"school\", \"college\", \"school\", \"school\", \"college\", \"school\", \"college\", \"college\", \"college\", \"school\", \"college\", \"school\", \"school\", \"college\", \"college\", \"college\", \"college\", \"college\", \"school\", \"school\", \"college\", \"college\", \"college\", \"school\", \"college\", \"college\", \"college\", \"school\", \"school\", \"school\", \"school\", \"school\", \"school\", \"school\", \"college\", \"college\", \"college\", \"college\", \"school\", \"college\", \"college\", \"school\", \"school\", \"college\", \"school\", \"college\", \"school\", \"school\", \"school\", \"school\", \"college\", \"school\", \"college\", \"postgraduate\", \"college\", \"college\", \"school\", \"college\", \"school\", \"postgraduate\", \"college\", \"school\", \"college\", \"college\", \"school\", \"school\", \"school\", \"college\", \"school\", \"school\", \"school\", \"college\", \"college\", \"school\", \"college\", \"school\", \"school\", \"college\", \"postgraduate\", \"college\", \"school\", \"school\", \"postgraduate\", \"college\", \"college\", \"college\", \"college\", \"school\", \"school\", \"school\"], \"x0\": \" \", \"xaxis\": \"x\", \"y\": [5.64, 5.76, 5.54, 6.14, 5.96, 5.1, 6.14, 6.24, 5.42, 6.34, 5.1, 6.2, 5.36, 6.32, 5.1, 5.22, 5.92, 6.86, 5.52, 4.06, 6.0, 4.88, 5.2, 5.84, 4.74, 4.52, 4.36, 4.1, 3.64, 4.5, 4.98, 6.64, 5.14, 5.4, 5.56, 5.82, 5.84, 6.22, 6.22, 7.0, 4.88, 5.0, 5.52, 5.38, 4.2, 6.42, 4.82, 6.98, 5.88, 5.56, 5.72, 6.86, 5.34, 3.6, 5.82, 5.5, 5.7, 6.06, 2.56, 5.62, 4.04, 5.6, 5.72, 6.32, 5.68, 5.0, 7.0, 5.26, 6.76, 4.02, 4.86, 6.24, 6.0, 4.94, 4.62, 5.26, 5.48, 5.54, 5.08, 5.2, 4.66, 5.12, 6.3, 3.66, 6.18, 3.76, 5.28, 5.36, 4.42, 5.34, 6.64, 5.08, 6.78, 5.78, 6.52, 5.46, 5.52, 5.8, 4.8, 5.74, 4.44, 3.08, 5.08, 5.22, 5.9, 5.74, 4.98, 5.34, 4.96, 6.28, 4.44, 6.18, 5.94, 4.86, 5.44, 7.0, 4.12, 5.26, 4.62, 4.34, 5.2], \"y0\": \" \", \"yaxis\": \"y\"}, {\"alignmentgroup\": \"True\", \"hoverlabel\": {\"namelength\": 0}, \"hovertemplate\": \"race/ethnicity=group D<br>simple parental level of education=%{x}<br>GPA=%{y}\", \"legendgroup\": \"race/ethnicity=group D\", \"marker\": {\"color\": \"#FFA15A\"}, \"name\": \"race/ethnicity=group D\", \"notched\": false, \"offsetgroup\": \"race/ethnicity=group D\", \"orientation\": \"v\", \"showlegend\": true, \"type\": \"box\", \"x\": [\"school\", \"college\", \"school\", \"school\", \"school\", \"postgraduate\", \"school\", \"college\", \"college\", \"school\", \"school\", \"postgraduate\", \"college\", \"school\", \"school\", \"school\", \"school\", \"college\", \"college\", \"school\", \"college\", \"school\", \"college\", \"school\", \"school\", \"school\", \"school\", \"school\", \"school\", \"school\", \"school\", \"college\", \"school\", \"college\", \"school\", \"college\", \"college\", \"school\", \"school\", \"school\", \"school\", \"college\", \"college\", \"school\", \"school\", \"college\", \"school\", \"college\", \"school\", \"school\", \"school\", \"school\", \"postgraduate\", \"school\", \"college\", \"school\", \"school\", \"college\", \"school\", \"school\", \"college\", \"school\", \"school\", \"college\", \"college\", \"school\", \"school\", \"school\", \"school\", \"school\", \"postgraduate\", \"school\", \"college\", \"college\", \"postgraduate\", \"school\", \"postgraduate\", \"college\", \"college\", \"school\", \"school\", \"school\", \"college\", \"school\", \"school\", \"school\", \"school\", \"school\", \"school\", \"college\", \"college\", \"school\", \"college\", \"college\", \"college\", \"school\", \"school\", \"school\", \"college\", \"school\", \"college\", \"school\", \"college\", \"college\", \"school\", \"school\", \"school\", \"college\", \"school\", \"school\", \"college\", \"postgraduate\", \"school\", \"college\", \"school\", \"school\", \"school\", \"school\", \"school\", \"college\", \"school\", \"school\", \"postgraduate\", \"postgraduate\", \"school\", \"college\", \"college\", \"school\", \"school\", \"school\", \"school\", \"college\", \"postgraduate\", \"school\", \"school\", \"school\", \"school\", \"school\", \"college\", \"school\", \"school\", \"school\", \"school\", \"college\", \"college\", \"college\", \"school\", \"college\", \"school\", \"school\", \"college\", \"school\", \"school\", \"school\", \"postgraduate\", \"school\", \"college\", \"school\", \"college\", \"college\", \"school\", \"postgraduate\", \"school\", \"college\", \"postgraduate\", \"school\", \"school\", \"school\", \"school\", \"school\", \"school\", \"college\", \"school\", \"school\", \"postgraduate\", \"school\", \"postgraduate\", \"school\", \"college\", \"school\", \"school\", \"school\", \"school\", \"college\", \"college\", \"college\", \"college\", \"school\", \"school\", \"postgraduate\", \"school\", \"school\", \"school\", \"college\", \"college\", \"school\", \"school\", \"college\", \"school\", \"school\", \"postgraduate\", \"school\", \"school\", \"school\", \"school\", \"school\", \"school\", \"school\", \"school\", \"school\", \"school\", \"college\", \"school\", \"school\", \"college\", \"college\", \"school\", \"postgraduate\", \"postgraduate\", \"school\", \"college\", \"college\", \"school\", \"school\", \"school\", \"school\", \"school\", \"college\", \"school\", \"school\", \"postgraduate\", \"college\", \"school\", \"school\", \"college\", \"college\", \"school\", \"school\", \"school\"], \"x0\": \" \", \"xaxis\": \"x\", \"y\": [5.02, 5.14, 5.5, 5.4, 4.62, 5.76, 4.68, 5.64, 6.86, 4.9, 5.34, 4.06, 4.68, 4.88, 4.52, 4.74, 4.02, 6.06, 5.44, 5.46, 6.24, 5.52, 5.16, 4.92, 5.46, 4.94, 4.04, 4.74, 5.44, 4.36, 5.38, 5.5, 3.86, 5.98, 4.58, 4.16, 5.32, 4.34, 5.98, 5.4, 3.78, 5.5, 5.14, 5.12, 5.3, 5.4, 6.02, 5.14, 4.5, 4.28, 5.74, 6.94, 6.3, 5.96, 4.0, 5.94, 4.44, 5.6, 6.18, 3.32, 5.56, 4.58, 4.3, 3.34, 2.9, 5.36, 4.36, 5.12, 4.9, 6.08, 4.78, 5.34, 5.54, 5.48, 5.14, 4.92, 4.64, 4.92, 6.32, 5.14, 5.18, 5.82, 5.6, 6.08, 5.28, 6.38, 5.2, 4.88, 5.82, 4.36, 5.56, 4.74, 5.06, 6.14, 4.94, 6.48, 5.74, 5.56, 4.34, 4.26, 4.68, 5.02, 5.28, 5.76, 5.84, 5.02, 4.5, 4.1, 4.16, 5.22, 5.46, 6.16, 4.96, 5.28, 4.3, 5.08, 5.26, 3.74, 5.14, 6.12, 4.82, 4.38, 6.1, 6.0, 4.96, 4.18, 3.9, 5.12, 4.78, 5.82, 5.48, 5.1, 4.86, 5.26, 5.76, 5.9, 5.58, 4.52, 5.28, 3.38, 4.26, 4.92, 5.26, 3.7, 5.32, 4.18, 3.94, 6.78, 3.4, 5.84, 6.3, 4.22, 5.7, 6.74, 5.7, 4.24, 5.68, 5.38, 3.8, 6.28, 4.46, 6.6, 5.58, 5.5, 6.84, 5.16, 4.62, 5.26, 5.28, 5.02, 4.8, 4.88, 5.44, 5.7, 5.3, 5.36, 5.2, 5.32, 6.04, 5.38, 5.46, 3.84, 3.92, 5.78, 6.5, 5.12, 4.22, 3.3, 4.64, 4.54, 6.1, 4.64, 4.16, 5.28, 4.84, 5.98, 4.52, 6.22, 5.94, 6.5, 5.36, 5.72, 4.9, 4.96, 3.88, 5.76, 4.8, 4.96, 5.74, 5.3, 6.2, 5.72, 6.04, 6.94, 4.12, 5.56, 4.84, 4.44, 5.92, 5.46, 5.08, 5.12, 3.88, 4.2, 5.06, 4.46, 5.16, 4.88, 5.72, 6.04, 6.26, 4.1, 2.86, 5.78, 4.92, 6.04, 6.92, 5.56, 5.3], \"y0\": \" \", \"yaxis\": \"y\"}],\n",
              "                        {\"boxmode\": \"group\", \"legend\": {\"tracegroupgap\": 0}, \"margin\": {\"t\": 60}, \"template\": {\"data\": {\"bar\": [{\"error_x\": {\"color\": \"#2a3f5f\"}, \"error_y\": {\"color\": \"#2a3f5f\"}, \"marker\": {\"line\": {\"color\": \"#E5ECF6\", \"width\": 0.5}}, \"type\": \"bar\"}], \"barpolar\": [{\"marker\": {\"line\": {\"color\": \"#E5ECF6\", \"width\": 0.5}}, \"type\": \"barpolar\"}], \"carpet\": [{\"aaxis\": {\"endlinecolor\": \"#2a3f5f\", \"gridcolor\": \"white\", \"linecolor\": \"white\", \"minorgridcolor\": \"white\", \"startlinecolor\": \"#2a3f5f\"}, \"baxis\": {\"endlinecolor\": \"#2a3f5f\", \"gridcolor\": \"white\", \"linecolor\": \"white\", \"minorgridcolor\": \"white\", \"startlinecolor\": \"#2a3f5f\"}, \"type\": \"carpet\"}], \"choropleth\": [{\"colorbar\": {\"outlinewidth\": 0, \"ticks\": \"\"}, \"type\": \"choropleth\"}], \"contour\": [{\"colorbar\": {\"outlinewidth\": 0, \"ticks\": \"\"}, \"colorscale\": [[0.0, \"#0d0887\"], [0.1111111111111111, \"#46039f\"], [0.2222222222222222, \"#7201a8\"], [0.3333333333333333, \"#9c179e\"], [0.4444444444444444, \"#bd3786\"], [0.5555555555555556, \"#d8576b\"], [0.6666666666666666, \"#ed7953\"], [0.7777777777777778, \"#fb9f3a\"], [0.8888888888888888, \"#fdca26\"], [1.0, \"#f0f921\"]], \"type\": \"contour\"}], \"contourcarpet\": [{\"colorbar\": {\"outlinewidth\": 0, \"ticks\": \"\"}, \"type\": \"contourcarpet\"}], \"heatmap\": [{\"colorbar\": {\"outlinewidth\": 0, \"ticks\": \"\"}, \"colorscale\": [[0.0, \"#0d0887\"], [0.1111111111111111, \"#46039f\"], [0.2222222222222222, \"#7201a8\"], [0.3333333333333333, \"#9c179e\"], [0.4444444444444444, \"#bd3786\"], [0.5555555555555556, \"#d8576b\"], [0.6666666666666666, \"#ed7953\"], [0.7777777777777778, \"#fb9f3a\"], [0.8888888888888888, \"#fdca26\"], [1.0, \"#f0f921\"]], \"type\": \"heatmap\"}], \"heatmapgl\": [{\"colorbar\": {\"outlinewidth\": 0, \"ticks\": \"\"}, \"colorscale\": [[0.0, \"#0d0887\"], [0.1111111111111111, \"#46039f\"], [0.2222222222222222, \"#7201a8\"], [0.3333333333333333, \"#9c179e\"], [0.4444444444444444, \"#bd3786\"], [0.5555555555555556, \"#d8576b\"], [0.6666666666666666, \"#ed7953\"], [0.7777777777777778, \"#fb9f3a\"], [0.8888888888888888, \"#fdca26\"], [1.0, \"#f0f921\"]], \"type\": \"heatmapgl\"}], \"histogram\": [{\"marker\": {\"colorbar\": {\"outlinewidth\": 0, \"ticks\": \"\"}}, \"type\": \"histogram\"}], \"histogram2d\": [{\"colorbar\": {\"outlinewidth\": 0, \"ticks\": \"\"}, \"colorscale\": [[0.0, \"#0d0887\"], [0.1111111111111111, \"#46039f\"], [0.2222222222222222, \"#7201a8\"], [0.3333333333333333, \"#9c179e\"], [0.4444444444444444, \"#bd3786\"], [0.5555555555555556, \"#d8576b\"], [0.6666666666666666, \"#ed7953\"], [0.7777777777777778, \"#fb9f3a\"], [0.8888888888888888, \"#fdca26\"], [1.0, \"#f0f921\"]], \"type\": \"histogram2d\"}], \"histogram2dcontour\": [{\"colorbar\": {\"outlinewidth\": 0, \"ticks\": \"\"}, \"colorscale\": [[0.0, \"#0d0887\"], [0.1111111111111111, \"#46039f\"], [0.2222222222222222, \"#7201a8\"], [0.3333333333333333, \"#9c179e\"], [0.4444444444444444, \"#bd3786\"], [0.5555555555555556, \"#d8576b\"], [0.6666666666666666, \"#ed7953\"], [0.7777777777777778, \"#fb9f3a\"], [0.8888888888888888, \"#fdca26\"], [1.0, \"#f0f921\"]], \"type\": \"histogram2dcontour\"}], \"mesh3d\": [{\"colorbar\": {\"outlinewidth\": 0, \"ticks\": \"\"}, \"type\": \"mesh3d\"}], \"parcoords\": [{\"line\": {\"colorbar\": {\"outlinewidth\": 0, \"ticks\": \"\"}}, \"type\": \"parcoords\"}], \"pie\": [{\"automargin\": true, \"type\": \"pie\"}], \"scatter\": [{\"marker\": {\"colorbar\": {\"outlinewidth\": 0, \"ticks\": \"\"}}, \"type\": \"scatter\"}], \"scatter3d\": [{\"line\": {\"colorbar\": {\"outlinewidth\": 0, \"ticks\": \"\"}}, \"marker\": {\"colorbar\": {\"outlinewidth\": 0, \"ticks\": \"\"}}, \"type\": \"scatter3d\"}], \"scattercarpet\": [{\"marker\": {\"colorbar\": {\"outlinewidth\": 0, \"ticks\": \"\"}}, \"type\": \"scattercarpet\"}], \"scattergeo\": [{\"marker\": {\"colorbar\": {\"outlinewidth\": 0, \"ticks\": \"\"}}, \"type\": \"scattergeo\"}], \"scattergl\": [{\"marker\": {\"colorbar\": {\"outlinewidth\": 0, \"ticks\": \"\"}}, \"type\": \"scattergl\"}], \"scattermapbox\": [{\"marker\": {\"colorbar\": {\"outlinewidth\": 0, \"ticks\": \"\"}}, \"type\": \"scattermapbox\"}], \"scatterpolar\": [{\"marker\": {\"colorbar\": {\"outlinewidth\": 0, \"ticks\": \"\"}}, \"type\": \"scatterpolar\"}], \"scatterpolargl\": [{\"marker\": {\"colorbar\": {\"outlinewidth\": 0, \"ticks\": \"\"}}, \"type\": \"scatterpolargl\"}], \"scatterternary\": [{\"marker\": {\"colorbar\": {\"outlinewidth\": 0, \"ticks\": \"\"}}, \"type\": \"scatterternary\"}], \"surface\": [{\"colorbar\": {\"outlinewidth\": 0, \"ticks\": \"\"}, \"colorscale\": [[0.0, \"#0d0887\"], [0.1111111111111111, \"#46039f\"], [0.2222222222222222, \"#7201a8\"], [0.3333333333333333, \"#9c179e\"], [0.4444444444444444, \"#bd3786\"], [0.5555555555555556, \"#d8576b\"], [0.6666666666666666, \"#ed7953\"], [0.7777777777777778, \"#fb9f3a\"], [0.8888888888888888, \"#fdca26\"], [1.0, \"#f0f921\"]], \"type\": \"surface\"}], \"table\": [{\"cells\": {\"fill\": {\"color\": \"#EBF0F8\"}, \"line\": {\"color\": \"white\"}}, \"header\": {\"fill\": {\"color\": \"#C8D4E3\"}, \"line\": {\"color\": \"white\"}}, \"type\": \"table\"}]}, \"layout\": {\"annotationdefaults\": {\"arrowcolor\": \"#2a3f5f\", \"arrowhead\": 0, \"arrowwidth\": 1}, \"coloraxis\": {\"colorbar\": {\"outlinewidth\": 0, \"ticks\": \"\"}}, \"colorscale\": {\"diverging\": [[0, \"#8e0152\"], [0.1, \"#c51b7d\"], [0.2, \"#de77ae\"], [0.3, \"#f1b6da\"], [0.4, \"#fde0ef\"], [0.5, \"#f7f7f7\"], [0.6, \"#e6f5d0\"], [0.7, \"#b8e186\"], [0.8, \"#7fbc41\"], [0.9, \"#4d9221\"], [1, \"#276419\"]], \"sequential\": [[0.0, \"#0d0887\"], [0.1111111111111111, \"#46039f\"], [0.2222222222222222, \"#7201a8\"], [0.3333333333333333, \"#9c179e\"], [0.4444444444444444, \"#bd3786\"], [0.5555555555555556, \"#d8576b\"], [0.6666666666666666, \"#ed7953\"], [0.7777777777777778, \"#fb9f3a\"], [0.8888888888888888, \"#fdca26\"], [1.0, \"#f0f921\"]], \"sequentialminus\": [[0.0, \"#0d0887\"], [0.1111111111111111, \"#46039f\"], [0.2222222222222222, \"#7201a8\"], [0.3333333333333333, \"#9c179e\"], [0.4444444444444444, \"#bd3786\"], [0.5555555555555556, \"#d8576b\"], [0.6666666666666666, \"#ed7953\"], [0.7777777777777778, \"#fb9f3a\"], [0.8888888888888888, \"#fdca26\"], [1.0, \"#f0f921\"]]}, \"colorway\": [\"#636efa\", \"#EF553B\", \"#00cc96\", \"#ab63fa\", \"#FFA15A\", \"#19d3f3\", \"#FF6692\", \"#B6E880\", \"#FF97FF\", \"#FECB52\"], \"font\": {\"color\": \"#2a3f5f\"}, \"geo\": {\"bgcolor\": \"white\", \"lakecolor\": \"white\", \"landcolor\": \"#E5ECF6\", \"showlakes\": true, \"showland\": true, \"subunitcolor\": \"white\"}, \"hoverlabel\": {\"align\": \"left\"}, \"hovermode\": \"closest\", \"mapbox\": {\"style\": \"light\"}, \"paper_bgcolor\": \"white\", \"plot_bgcolor\": \"#E5ECF6\", \"polar\": {\"angularaxis\": {\"gridcolor\": \"white\", \"linecolor\": \"white\", \"ticks\": \"\"}, \"bgcolor\": \"#E5ECF6\", \"radialaxis\": {\"gridcolor\": \"white\", \"linecolor\": \"white\", \"ticks\": \"\"}}, \"scene\": {\"xaxis\": {\"backgroundcolor\": \"#E5ECF6\", \"gridcolor\": \"white\", \"gridwidth\": 2, \"linecolor\": \"white\", \"showbackground\": true, \"ticks\": \"\", \"zerolinecolor\": \"white\"}, \"yaxis\": {\"backgroundcolor\": \"#E5ECF6\", \"gridcolor\": \"white\", \"gridwidth\": 2, \"linecolor\": \"white\", \"showbackground\": true, \"ticks\": \"\", \"zerolinecolor\": \"white\"}, \"zaxis\": {\"backgroundcolor\": \"#E5ECF6\", \"gridcolor\": \"white\", \"gridwidth\": 2, \"linecolor\": \"white\", \"showbackground\": true, \"ticks\": \"\", \"zerolinecolor\": \"white\"}}, \"shapedefaults\": {\"line\": {\"color\": \"#2a3f5f\"}}, \"ternary\": {\"aaxis\": {\"gridcolor\": \"white\", \"linecolor\": \"white\", \"ticks\": \"\"}, \"baxis\": {\"gridcolor\": \"white\", \"linecolor\": \"white\", \"ticks\": \"\"}, \"bgcolor\": \"#E5ECF6\", \"caxis\": {\"gridcolor\": \"white\", \"linecolor\": \"white\", \"ticks\": \"\"}}, \"title\": {\"x\": 0.05}, \"xaxis\": {\"automargin\": true, \"gridcolor\": \"white\", \"linecolor\": \"white\", \"ticks\": \"\", \"title\": {\"standoff\": 15}, \"zerolinecolor\": \"white\", \"zerolinewidth\": 2}, \"yaxis\": {\"automargin\": true, \"gridcolor\": \"white\", \"linecolor\": \"white\", \"ticks\": \"\", \"title\": {\"standoff\": 15}, \"zerolinecolor\": \"white\", \"zerolinewidth\": 2}}}, \"xaxis\": {\"anchor\": \"y\", \"domain\": [0.0, 1.0], \"title\": {\"text\": \"simple parental level of education\"}}, \"yaxis\": {\"anchor\": \"x\", \"domain\": [0.0, 1.0], \"title\": {\"text\": \"GPA\"}}},\n",
              "                        {\"responsive\": true}\n",
              "                    ).then(function(){\n",
              "                            \n",
              "var gd = document.getElementById('d78e244b-f381-4dce-9b51-6d1d6cd61c52');\n",
              "var x = new MutationObserver(function (mutations, observer) {{\n",
              "        var display = window.getComputedStyle(gd).display;\n",
              "        if (!display || display === 'none') {{\n",
              "            console.log([gd, 'removed!']);\n",
              "            Plotly.purge(gd);\n",
              "            observer.disconnect();\n",
              "        }}\n",
              "}});\n",
              "\n",
              "// Listen for the removal of the full notebook cells\n",
              "var notebookContainer = gd.closest('#notebook-container');\n",
              "if (notebookContainer) {{\n",
              "    x.observe(notebookContainer, {childList: true});\n",
              "}}\n",
              "\n",
              "// Listen for the clearing of the current output cell\n",
              "var outputEl = gd.closest('.output');\n",
              "if (outputEl) {{\n",
              "    x.observe(outputEl, {childList: true});\n",
              "}}\n",
              "\n",
              "                        })\n",
              "                };\n",
              "                \n",
              "            </script>\n",
              "        </div>\n",
              "</body>\n",
              "</html>"
            ]
          },
          "metadata": {}
        }
      ]
    },
    {
      "cell_type": "markdown",
      "metadata": {
        "id": "loUzspGXijp1"
      },
      "source": [
        "> 1. ¿Hay alguna diferencia entre los grupos graficados tanto para el nivel educacional de los padres como también para la etnicidad?\n",
        "> 2. ¿Este gráfico permite hacer facilmente un análisis conjunto de estas dos variables de forma sencilla?"
      ]
    },
    {
      "cell_type": "markdown",
      "metadata": {
        "id": "jb9sjfJlwolM"
      },
      "source": [
        "**Justifique:**"
      ]
    },
    {
      "cell_type": "markdown",
      "metadata": {
        "id": "vDl7h7JbwrKh"
      },
      "source": [
        "> Con respecto al nivel educacional, se observa que el GPA de los estudiantes de peor rendimiento es mayor en los grupos de padres de mayor educación, en otras palabras, los estudiantes con peores notas cuyos padres tengan estudios de posgrado tienen mejores notas que los estudiantes con peores notas cuyos padres solo tengan estudios escolares. Con respecto a la raza/etnia, se observa que los pertenecientes al grupo B son los que obtienen mejores resultados en los tres segmentos de educacion parental.\n",
        "\n",
        "> El gráfico si bien tiene mucha información, esta no es fácil de analizar."
      ]
    },
    {
      "cell_type": "markdown",
      "metadata": {
        "id": "PzF4GclNrwAt"
      },
      "source": [
        "# 1.3.5 Combinar Dataset [1 punto]"
      ]
    },
    {
      "cell_type": "markdown",
      "metadata": {
        "id": "8p4P1F9q06SP"
      },
      "source": [
        "Mientras le notificaba por videollamada los resultados de sus descubrimientos a Don Caguayo, un exaltado practicante del area de TI entra a la reunión y les informa que ha encontrado una nueva base de datos que cuenta con las notas de dos asignaturas (en escala chilena): historia y ciencias. \n",
        "Para más remate, antes de huir, el practicante les cuenta que este dataframe lamentablemente contiene nuevamente los alumnos de los registros corruptos que ud. y su equipo filtraron en el análisis anterior.\n",
        " \n",
        " \n",
        "El rector (evidentemente molesto por la situación) les ruega incluir estos datos (vaciados en el archivo other_grades.csv) al estudio original(`students_grades.csv`). \n",
        "\n",
        "\n",
        "Para esto, carge el archivo `other_grades.csv` y busque la forma de unir ambos DataFrames, de tal manera que las columnas de `history score` y `science score` se anexen al final del DataFrame original. **NO LIMPIE LOS DATOS**, si no que explore los distintos tipos de merge para encontrar el mas situable para su situación (y así evitar buscar duplicados).\n",
        "\n",
        "**To-Do**\n",
        "\n",
        "- [x] Cargar el `other_grades.csv`\n",
        "- [x] Unir `df_grades` con `other_grades.csv` usando outer join y explique el resultado.\n",
        "- [x] Unir `df_grades` con `other_grades.csv` usando left join y explique el resultado.\n",
        "- [x] Unir `df_grades` con `other_grades.csv` usando right join y explique el resultado.\n",
        "- [x] Unir `df_grades` con `other_grades.csv` usando inner join y explique el resultado.\n",
        "- [x] Defina cuál join es el que utilizará para generar el nuevo DataFrame.\n",
        "\n",
        "> **Hint**: Puede explicar los resultados del merge a través de la cantidad de filas resultantes y los valores que estas contienen."
      ]
    },
    {
      "cell_type": "code",
      "metadata": {
        "id": "WKBJJqLJ0DXN",
        "colab": {
          "base_uri": "https://localhost:8080/"
        },
        "outputId": "2e7229b1-5491-4a3d-bb93-afa492c18a45"
      },
      "source": [
        "df_other = pd.read_csv('other_grades.csv')\n",
        "df_other.shape"
      ],
      "execution_count": 188,
      "outputs": [
        {
          "output_type": "execute_result",
          "data": {
            "text/plain": [
              "(1000, 3)"
            ]
          },
          "metadata": {},
          "execution_count": 188
        }
      ]
    },
    {
      "cell_type": "code",
      "metadata": {
        "colab": {
          "base_uri": "https://localhost:8080/"
        },
        "id": "7y9RfUKBZhs2",
        "outputId": "6d436926-bdae-4279-9426-b48787268a02"
      },
      "source": [
        "df_other.isna().sum()"
      ],
      "execution_count": 212,
      "outputs": [
        {
          "output_type": "execute_result",
          "data": {
            "text/plain": [
              "names            0\n",
              "science score    0\n",
              "history score    0\n",
              "dtype: int64"
            ]
          },
          "metadata": {},
          "execution_count": 212
        }
      ]
    },
    {
      "cell_type": "code",
      "metadata": {
        "colab": {
          "base_uri": "https://localhost:8080/"
        },
        "id": "Cz92JjPKViPN",
        "outputId": "6bf7e997-cb8f-4ea8-e76d-054853b7ce6a"
      },
      "source": [
        "df_outer = pd.merge(df_grades, df_other, on='names', how='outer')\n",
        "df_outer.shape"
      ],
      "execution_count": 204,
      "outputs": [
        {
          "output_type": "execute_result",
          "data": {
            "text/plain": [
              "(1000, 11)"
            ]
          },
          "metadata": {},
          "execution_count": 204
        }
      ]
    },
    {
      "cell_type": "code",
      "metadata": {
        "colab": {
          "base_uri": "https://localhost:8080/"
        },
        "id": "SCP33bA5ZmyH",
        "outputId": "db7d2953-6c11-4e17-9e24-dbb36cdd1f9a"
      },
      "source": [
        "df_outer.isna().sum()"
      ],
      "execution_count": 213,
      "outputs": [
        {
          "output_type": "execute_result",
          "data": {
            "text/plain": [
              "names                            0\n",
              "science score                    0\n",
              "history score                    0\n",
              "gender                         125\n",
              "race/ethnicity                 125\n",
              "parental level of education    125\n",
              "lunch                          125\n",
              "test preparation course        125\n",
              "math score                     125\n",
              "reading score                  125\n",
              "writing score                  125\n",
              "dtype: int64"
            ]
          },
          "metadata": {},
          "execution_count": 213
        }
      ]
    },
    {
      "cell_type": "code",
      "metadata": {
        "colab": {
          "base_uri": "https://localhost:8080/"
        },
        "id": "mqSKCe3fViSG",
        "outputId": "f350a552-08ec-437a-8eac-08d22ffb6db5"
      },
      "source": [
        "df_left = pd.merge(df_grades, df_other, on='names', how='left')\n",
        "df_left.shape"
      ],
      "execution_count": 205,
      "outputs": [
        {
          "output_type": "execute_result",
          "data": {
            "text/plain": [
              "(1000, 11)"
            ]
          },
          "metadata": {},
          "execution_count": 205
        }
      ]
    },
    {
      "cell_type": "code",
      "metadata": {
        "colab": {
          "base_uri": "https://localhost:8080/"
        },
        "id": "rtYWbfbOZpHo",
        "outputId": "3116bcca-8e79-47ab-cf3f-8cc1ed56d072"
      },
      "source": [
        "df_left.isna().sum()"
      ],
      "execution_count": 214,
      "outputs": [
        {
          "output_type": "execute_result",
          "data": {
            "text/plain": [
              "names                            0\n",
              "science score                    0\n",
              "history score                    0\n",
              "gender                         125\n",
              "race/ethnicity                 125\n",
              "parental level of education    125\n",
              "lunch                          125\n",
              "test preparation course        125\n",
              "math score                     125\n",
              "reading score                  125\n",
              "writing score                  125\n",
              "dtype: int64"
            ]
          },
          "metadata": {},
          "execution_count": 214
        }
      ]
    },
    {
      "cell_type": "code",
      "metadata": {
        "colab": {
          "base_uri": "https://localhost:8080/"
        },
        "id": "6LIoXmFyViUw",
        "outputId": "69972c30-89d9-49f2-d9d7-908dd45554c3"
      },
      "source": [
        "df_right = pd.merge(df_grades, df_other, on='names', how='right')\n",
        "df_right.shape"
      ],
      "execution_count": 206,
      "outputs": [
        {
          "output_type": "execute_result",
          "data": {
            "text/plain": [
              "(875, 11)"
            ]
          },
          "metadata": {},
          "execution_count": 206
        }
      ]
    },
    {
      "cell_type": "code",
      "metadata": {
        "colab": {
          "base_uri": "https://localhost:8080/"
        },
        "id": "xAqYSBtDZtXP",
        "outputId": "28a137f7-5536-4c7e-902d-dd16520cba35"
      },
      "source": [
        "df_right.isna().sum()"
      ],
      "execution_count": 215,
      "outputs": [
        {
          "output_type": "execute_result",
          "data": {
            "text/plain": [
              "names                          0\n",
              "science score                  0\n",
              "history score                  0\n",
              "gender                         0\n",
              "race/ethnicity                 0\n",
              "parental level of education    0\n",
              "lunch                          0\n",
              "test preparation course        0\n",
              "math score                     0\n",
              "reading score                  0\n",
              "writing score                  0\n",
              "dtype: int64"
            ]
          },
          "metadata": {},
          "execution_count": 215
        }
      ]
    },
    {
      "cell_type": "code",
      "metadata": {
        "colab": {
          "base_uri": "https://localhost:8080/"
        },
        "id": "k8cwzLBTViXn",
        "outputId": "33126ffe-cbe8-4fe3-feff-a86b58066a46"
      },
      "source": [
        "df_inner = pd.merge(df_grades, df_other, on='names', how='inner')\n",
        "df_inner.shape"
      ],
      "execution_count": 207,
      "outputs": [
        {
          "output_type": "execute_result",
          "data": {
            "text/plain": [
              "(875, 11)"
            ]
          },
          "metadata": {},
          "execution_count": 207
        }
      ]
    },
    {
      "cell_type": "code",
      "metadata": {
        "colab": {
          "base_uri": "https://localhost:8080/"
        },
        "id": "g4_upZctZvDx",
        "outputId": "68f86ef9-d092-457c-e377-6375b7d2d951"
      },
      "source": [
        "df_inner.isna().sum()"
      ],
      "execution_count": 216,
      "outputs": [
        {
          "output_type": "execute_result",
          "data": {
            "text/plain": [
              "names                          0\n",
              "science score                  0\n",
              "history score                  0\n",
              "gender                         0\n",
              "race/ethnicity                 0\n",
              "parental level of education    0\n",
              "lunch                          0\n",
              "test preparation course        0\n",
              "math score                     0\n",
              "reading score                  0\n",
              "writing score                  0\n",
              "dtype: int64"
            ]
          },
          "metadata": {},
          "execution_count": 216
        }
      ]
    },
    {
      "cell_type": "code",
      "metadata": {
        "colab": {
          "base_uri": "https://localhost:8080/",
          "height": 258
        },
        "id": "hgvu9-JwYfV1",
        "outputId": "13d5fa76-9e63-4abf-d199-606cfe4a7b50"
      },
      "source": [
        "df_total = pd.merge(df_grades, df_other, on='names', how='inner')\n",
        "df_total.head()"
      ],
      "execution_count": 210,
      "outputs": [
        {
          "output_type": "execute_result",
          "data": {
            "text/html": [
              "<div>\n",
              "<style scoped>\n",
              "    .dataframe tbody tr th:only-of-type {\n",
              "        vertical-align: middle;\n",
              "    }\n",
              "\n",
              "    .dataframe tbody tr th {\n",
              "        vertical-align: top;\n",
              "    }\n",
              "\n",
              "    .dataframe thead th {\n",
              "        text-align: right;\n",
              "    }\n",
              "</style>\n",
              "<table border=\"1\" class=\"dataframe\">\n",
              "  <thead>\n",
              "    <tr style=\"text-align: right;\">\n",
              "      <th></th>\n",
              "      <th>names</th>\n",
              "      <th>gender</th>\n",
              "      <th>race/ethnicity</th>\n",
              "      <th>parental level of education</th>\n",
              "      <th>lunch</th>\n",
              "      <th>test preparation course</th>\n",
              "      <th>math score</th>\n",
              "      <th>reading score</th>\n",
              "      <th>writing score</th>\n",
              "      <th>science score</th>\n",
              "      <th>history score</th>\n",
              "    </tr>\n",
              "  </thead>\n",
              "  <tbody>\n",
              "    <tr>\n",
              "      <th>0</th>\n",
              "      <td>Rita Courtney</td>\n",
              "      <td>female</td>\n",
              "      <td>group B</td>\n",
              "      <td>some high school</td>\n",
              "      <td>standard</td>\n",
              "      <td>none</td>\n",
              "      <td>3.22</td>\n",
              "      <td>3.76</td>\n",
              "      <td>3.76</td>\n",
              "      <td>25</td>\n",
              "      <td>3.8</td>\n",
              "    </tr>\n",
              "    <tr>\n",
              "      <th>1</th>\n",
              "      <td>Charles Linstrom</td>\n",
              "      <td>male</td>\n",
              "      <td>group A</td>\n",
              "      <td>bachelor's degree</td>\n",
              "      <td>standard</td>\n",
              "      <td>completed</td>\n",
              "      <td>5.80</td>\n",
              "      <td>5.68</td>\n",
              "      <td>5.86</td>\n",
              "      <td>56</td>\n",
              "      <td>5.2</td>\n",
              "    </tr>\n",
              "    <tr>\n",
              "      <th>2</th>\n",
              "      <td>Brian Young</td>\n",
              "      <td>male</td>\n",
              "      <td>group C</td>\n",
              "      <td>some high school</td>\n",
              "      <td>standard</td>\n",
              "      <td>none</td>\n",
              "      <td>5.38</td>\n",
              "      <td>4.96</td>\n",
              "      <td>4.78</td>\n",
              "      <td>58</td>\n",
              "      <td>3.8</td>\n",
              "    </tr>\n",
              "    <tr>\n",
              "      <th>3</th>\n",
              "      <td>Howard Jimenez</td>\n",
              "      <td>male</td>\n",
              "      <td>group E</td>\n",
              "      <td>some high school</td>\n",
              "      <td>standard</td>\n",
              "      <td>completed</td>\n",
              "      <td>5.86</td>\n",
              "      <td>5.50</td>\n",
              "      <td>5.56</td>\n",
              "      <td>72</td>\n",
              "      <td>5.0</td>\n",
              "    </tr>\n",
              "    <tr>\n",
              "      <th>4</th>\n",
              "      <td>Wayne Wilson</td>\n",
              "      <td>male</td>\n",
              "      <td>group B</td>\n",
              "      <td>some high school</td>\n",
              "      <td>standard</td>\n",
              "      <td>completed</td>\n",
              "      <td>6.64</td>\n",
              "      <td>6.16</td>\n",
              "      <td>6.22</td>\n",
              "      <td>94</td>\n",
              "      <td>4.6</td>\n",
              "    </tr>\n",
              "  </tbody>\n",
              "</table>\n",
              "</div>"
            ],
            "text/plain": [
              "              names  gender  ... science score history score\n",
              "0     Rita Courtney  female  ...            25           3.8\n",
              "1  Charles Linstrom    male  ...            56           5.2\n",
              "2       Brian Young    male  ...            58           3.8\n",
              "3    Howard Jimenez    male  ...            72           5.0\n",
              "4      Wayne Wilson    male  ...            94           4.6\n",
              "\n",
              "[5 rows x 11 columns]"
            ]
          },
          "metadata": {},
          "execution_count": 210
        }
      ]
    },
    {
      "cell_type": "markdown",
      "metadata": {
        "id": "6LWXxvU5wuq3"
      },
      "source": [
        " **Justificación:**\n"
      ]
    },
    {
      "cell_type": "markdown",
      "metadata": {
        "id": "OTj6N88Owuq4"
      },
      "source": [
        "> Con este cruce de datos no agregamos datos faltantes a la base de datos resultantes."
      ]
    },
    {
      "cell_type": "markdown",
      "metadata": {
        "id": "pj7LOu6GTH5Q"
      },
      "source": [
        "## 1.4 Más visualizaciones [Bonus - 0.5 puntos por cada Gráfico, máximo 1 punto]\n",
        "\n",
        "\n",
        "**Desde aquí parte el bonus para el lab.**\n",
        "\n",
        "\n",
        "<p align=\"center\">\n",
        "  <img src=\"https://media4.giphy.com/media/xT5LMWNOjGqJzUfyve/giphy.gif?cid=ecf05e47phkhvg6vadqvcoobvxwj9bzxxk38jjvkcc6eak6t&rid=giphy.gif&ct=g\">\n",
        "</p>\n",
        "\n",
        "\n"
      ]
    },
    {
      "cell_type": "markdown",
      "metadata": {
        "id": "4f1PIBgMDt5H"
      },
      "source": [
        "Genere dos visualizaciones extras que encuentre interesantes (y no triviales) con estos datos y explique sus resultados. Agrupe los atributos que estime convenientes.\n",
        "\n",
        "\n",
        "**To-Do:**\n",
        "- [ ] Generar dos nuevas visualizaciones con los datos y explicar que están representando.\n",
        "\n",
        "\n",
        "> **NOTA: No utilice historia ni ciencias, son notas generadas aleatoriamente.**"
      ]
    },
    {
      "cell_type": "code",
      "metadata": {
        "colab": {
          "base_uri": "https://localhost:8080/",
          "height": 541
        },
        "id": "UPn-ueOxa0bJ",
        "outputId": "da1a54a8-ecf8-487d-824d-2ff77590af28"
      },
      "source": [
        "def plot_box_gen(df):\n",
        "  df['GPA'] = np.round((df['math score'] + df['reading score'] + df['writing score'])/3,2)\n",
        "  \n",
        "  fig = px.box(df_grades, x=\"race/ethnicity\", y=\"GPA\", color=\"gender\")\n",
        "  fig.show()  \n",
        "plot_box_gen(df_grades)"
      ],
      "execution_count": 222,
      "outputs": [
        {
          "output_type": "display_data",
          "data": {
            "text/html": [
              "<html>\n",
              "<head><meta charset=\"utf-8\" /></head>\n",
              "<body>\n",
              "    <div>\n",
              "            <script src=\"https://cdnjs.cloudflare.com/ajax/libs/mathjax/2.7.5/MathJax.js?config=TeX-AMS-MML_SVG\"></script><script type=\"text/javascript\">if (window.MathJax) {MathJax.Hub.Config({SVG: {font: \"STIX-Web\"}});}</script>\n",
              "                <script type=\"text/javascript\">window.PlotlyConfig = {MathJaxConfig: 'local'};</script>\n",
              "        <script src=\"https://cdn.plot.ly/plotly-latest.min.js\"></script>    \n",
              "            <div id=\"51a9ab76-e9e5-4c96-8c1b-e798f5f22112\" class=\"plotly-graph-div\" style=\"height:525px; width:100%;\"></div>\n",
              "            <script type=\"text/javascript\">\n",
              "                \n",
              "                    window.PLOTLYENV=window.PLOTLYENV || {};\n",
              "                    \n",
              "                if (document.getElementById(\"51a9ab76-e9e5-4c96-8c1b-e798f5f22112\")) {\n",
              "                    Plotly.newPlot(\n",
              "                        '51a9ab76-e9e5-4c96-8c1b-e798f5f22112',\n",
              "                        [{\"alignmentgroup\": \"True\", \"hoverlabel\": {\"namelength\": 0}, \"hovertemplate\": \"gender=female<br>race/ethnicity=%{x}<br>GPA=%{y}\", \"legendgroup\": \"gender=female\", \"marker\": {\"color\": \"#636efa\"}, \"name\": \"gender=female\", \"notched\": false, \"offsetgroup\": \"gender=female\", \"orientation\": \"v\", \"showlegend\": true, \"type\": \"box\", \"x\": [\"group B\", \"group A\", \"group D\", \"group B\", \"group C\", \"group D\", \"group B\", \"group B\", \"group A\", \"group E\", \"group E\", \"group E\", \"group D\", \"group D\", \"group B\", \"group B\", \"group B\", \"group B\", \"group C\", \"group D\", \"group D\", \"group B\", \"group C\", \"group A\", \"group E\", \"group C\", \"group B\", \"group C\", \"group E\", \"group B\", \"group C\", \"group C\", \"group D\", \"group D\", \"group E\", \"group C\", \"group C\", \"group E\", \"group C\", \"group E\", \"group E\", \"group E\", \"group A\", \"group B\", \"group E\", \"group D\", \"group D\", \"group A\", \"group E\", \"group C\", \"group D\", \"group C\", \"group D\", \"group B\", \"group C\", \"group D\", \"group D\", \"group A\", \"group C\", \"group E\", \"group A\", \"group B\", \"group B\", \"group D\", \"group E\", \"group C\", \"group E\", \"group C\", \"group C\", \"group C\", \"group C\", \"group D\", \"group E\", \"group D\", \"group C\", \"group D\", \"group D\", \"group D\", \"group E\", \"group C\", \"group C\", \"group E\", \"group E\", \"group C\", \"group D\", \"group C\", \"group C\", \"group C\", \"group D\", \"group C\", \"group C\", \"group C\", \"group B\", \"group D\", \"group B\", \"group A\", \"group C\", \"group D\", \"group B\", \"group C\", \"group C\", \"group B\", \"group B\", \"group C\", \"group D\", \"group B\", \"group C\", \"group A\", \"group C\", \"group B\", \"group D\", \"group C\", \"group A\", \"group B\", \"group C\", \"group D\", \"group D\", \"group D\", \"group B\", \"group B\", \"group E\", \"group D\", \"group C\", \"group C\", \"group E\", \"group B\", \"group D\", \"group C\", \"group D\", \"group C\", \"group D\", \"group C\", \"group C\", \"group C\", \"group D\", \"group D\", \"group E\", \"group C\", \"group B\", \"group D\", \"group D\", \"group C\", \"group D\", \"group E\", \"group D\", \"group D\", \"group C\", \"group E\", \"group C\", \"group E\", \"group C\", \"group D\", \"group D\", \"group C\", \"group C\", \"group B\", \"group D\", \"group E\", \"group D\", \"group E\", \"group C\", \"group E\", \"group C\", \"group C\", \"group A\", \"group C\", \"group D\", \"group C\", \"group D\", \"group D\", \"group D\", \"group E\", \"group C\", \"group C\", \"group B\", \"group C\", \"group B\", \"group E\", \"group B\", \"group C\", \"group E\", \"group B\", \"group C\", \"group B\", \"group B\", \"group D\", \"group C\", \"group D\", \"group C\", \"group A\", \"group C\", \"group D\", \"group B\", \"group C\", \"group C\", \"group C\", \"group B\", \"group B\", \"group D\", \"group D\", \"group B\", \"group C\", \"group C\", \"group D\", \"group A\", \"group C\", \"group C\", \"group D\", \"group D\", \"group C\", \"group B\", \"group C\", \"group E\", \"group B\", \"group B\", \"group B\", \"group D\", \"group A\", \"group D\", \"group E\", \"group C\", \"group D\", \"group D\", \"group C\", \"group B\", \"group C\", \"group B\", \"group C\", \"group E\", \"group D\", \"group B\", \"group E\", \"group D\", \"group C\", \"group D\", \"group D\", \"group B\", \"group B\", \"group A\", \"group C\", \"group A\", \"group D\", \"group B\", \"group C\", \"group E\", \"group B\", \"group E\", \"group D\", \"group B\", \"group D\", \"group C\", \"group D\", \"group C\", \"group E\", \"group B\", \"group B\", \"group B\", \"group A\", \"group E\", \"group E\", \"group D\", \"group B\", \"group C\", \"group B\", \"group C\", \"group D\", \"group C\", \"group B\", \"group D\", \"group D\", \"group C\", \"group B\", \"group C\", \"group D\", \"group C\", \"group E\", \"group B\", \"group D\", \"group C\", \"group D\", \"group B\", \"group B\", \"group B\", \"group B\", \"group C\", \"group C\", \"group C\", \"group D\", \"group B\", \"group E\", \"group D\", \"group C\", \"group C\", \"group A\", \"group D\", \"group E\", \"group E\", \"group A\", \"group A\", \"group A\", \"group C\", \"group B\", \"group D\", \"group A\", \"group C\", \"group C\", \"group A\", \"group C\", \"group A\", \"group C\", \"group E\", \"group C\", \"group D\", \"group D\", \"group D\", \"group D\", \"group D\", \"group E\", \"group C\", \"group C\", \"group D\", \"group B\", \"group C\", \"group C\", \"group B\", \"group D\", \"group D\", \"group B\", \"group E\", \"group C\", \"group C\", \"group D\", \"group D\", \"group C\", \"group B\", \"group E\", \"group C\", \"group C\", \"group D\", \"group C\", \"group C\", \"group B\", \"group C\", \"group E\", \"group C\", \"group C\", \"group B\", \"group D\", \"group C\", \"group A\", \"group E\", \"group E\", \"group D\", \"group D\", \"group B\", \"group B\", \"group C\", \"group C\", \"group A\", \"group C\", \"group B\", \"group C\", \"group A\", \"group C\", \"group C\", \"group D\", \"group B\", \"group C\", \"group B\", \"group D\", \"group D\", \"group E\", \"group D\", \"group C\", \"group C\", \"group D\", \"group B\", \"group B\", \"group C\", \"group A\", \"group C\", \"group C\", \"group B\", \"group D\", \"group C\", \"group B\", \"group C\", \"group C\", \"group B\", \"group C\", \"group C\", \"group C\", \"group E\", \"group C\", \"group E\", \"group A\", \"group A\", \"group D\", \"group B\", \"group E\", \"group C\", \"group B\", \"group D\", \"group A\", \"group C\", \"group D\", \"group D\", \"group C\", \"group C\", \"group C\", \"group D\", \"group D\", \"group B\", \"group B\", \"group D\", \"group D\", \"group C\", \"group E\", \"group C\", \"group C\", \"group C\", \"group D\", \"group C\", \"group C\", \"group C\", \"group D\", \"group D\", \"group C\", \"group D\", \"group D\", \"group E\", \"group E\", \"group C\", \"group C\", \"group B\", \"group D\", \"group B\", \"group C\", \"group D\", \"group B\", \"group C\", \"group C\", \"group C\", \"group C\", \"group B\", \"group C\", \"group B\", \"group A\"], \"x0\": \" \", \"xaxis\": \"x\", \"y\": [3.58, 3.46, 5.5, 4.96, 5.1, 6.86, 5.38, 4.24, 5.02, 5.54, 6.14, 5.96, 5.34, 4.06, 4.6, 4.4, 5.66, 4.92, 5.0, 4.88, 4.52, 5.62, 5.14, 4.36, 6.24, 6.32, 3.76, 4.9, 5.1, 5.54, 6.36, 5.12, 6.06, 5.46, 5.36, 5.22, 4.52, 5.1, 4.1, 5.22, 5.92, 6.86, 4.84, 5.84, 5.52, 5.52, 5.16, 4.26, 6.0, 5.46, 5.46, 6.42, 4.94, 5.58, 5.32, 4.74, 5.44, 5.18, 5.5, 5.84, 4.8, 3.54, 2.78, 5.38, 4.36, 4.36, 4.1, 6.12, 5.32, 6.54, 6.24, 4.58, 3.64, 4.16, 4.94, 5.32, 4.34, 5.98, 6.64, 5.04, 4.58, 5.14, 5.4, 5.5, 5.14, 6.04, 3.96, 4.98, 5.14, 4.38, 4.28, 4.6, 5.72, 6.94, 4.84, 4.68, 5.26, 6.3, 6.14, 4.14, 5.94, 4.72, 5.64, 5.32, 5.6, 5.64, 2.88, 4.32, 5.08, 4.92, 4.58, 5.3, 4.0, 5.2, 5.12, 4.3, 3.34, 2.9, 5.46, 4.16, 6.22, 4.9, 3.68, 4.22, 7.0, 5.56, 6.08, 5.64, 4.78, 4.16, 5.54, 5.38, 4.88, 5.76, 5.14, 4.92, 4.88, 3.26, 4.72, 4.64, 6.32, 5.14, 5.82, 5.0, 6.08, 5.28, 5.42, 4.2, 6.4, 6.42, 5.32, 6.38, 4.88, 5.46, 5.54, 6.8, 4.74, 6.98, 6.14, 5.56, 4.6, 5.72, 4.1, 6.3, 4.12, 5.38, 6.48, 6.16, 5.74, 5.56, 4.34, 5.34, 4.98, 5.3, 4.78, 5.06, 5.96, 5.7, 4.06, 4.04, 6.06, 5.12, 5.94, 5.78, 5.88, 5.76, 5.84, 5.84, 6.04, 6.0, 4.32, 4.5, 5.68, 6.2, 5.62, 6.12, 5.58, 4.72, 5.22, 5.46, 4.86, 4.28, 5.28, 5.28, 5.52, 5.16, 5.56, 3.74, 5.14, 3.9, 5.5, 5.64, 5.68, 4.9, 2.1, 4.82, 4.38, 4.58, 6.0, 5.26, 5.0, 4.96, 4.18, 6.6, 6.42, 5.36, 3.92, 5.74, 6.76, 5.12, 5.06, 4.02, 5.48, 4.2, 4.86, 5.26, 5.8, 4.52, 5.02, 5.2, 3.8, 4.52, 5.38, 5.6, 4.94, 6.04, 4.62, 5.28, 6.46, 4.26, 5.94, 5.26, 4.08, 5.26, 5.42, 6.56, 3.9, 6.34, 5.54, 5.08, 6.78, 5.98, 5.76, 6.14, 4.42, 6.3, 5.7, 4.7, 5.7, 6.74, 6.18, 5.48, 5.22, 5.7, 4.96, 6.3, 4.74, 5.38, 5.0, 6.28, 4.9, 5.16, 4.24, 5.0, 6.32, 4.94, 5.18, 6.6, 4.1, 5.36, 5.58, 4.38, 6.16, 5.66, 6.84, 5.34, 6.64, 6.36, 5.72, 4.02, 5.8, 5.64, 5.26, 5.62, 5.96, 4.7, 3.68, 5.34, 3.48, 4.54, 6.78, 3.44, 4.8, 4.88, 5.44, 5.3, 5.36, 6.52, 5.54, 6.38, 5.2, 5.76, 4.08, 4.36, 4.92, 6.04, 5.46, 4.68, 5.46, 6.22, 4.46, 5.78, 6.5, 4.82, 5.98, 5.8, 5.12, 4.4, 4.22, 5.44, 5.2, 2.78, 5.74, 4.8, 6.82, 4.5, 4.24, 4.54, 5.44, 5.48, 4.44, 3.08, 4.16, 5.28, 5.4, 4.16, 4.0, 5.64, 5.7, 4.78, 4.84, 5.64, 4.38, 5.36, 5.12, 5.98, 4.74, 4.56, 5.24, 6.22, 5.94, 5.22, 6.5, 4.84, 5.98, 5.72, 6.36, 6.36, 6.82, 4.56, 5.54, 5.94, 5.62, 4.96, 3.64, 5.06, 5.24, 4.7, 4.72, 5.08, 6.92, 5.62, 5.34, 4.0, 4.96, 4.9, 4.64, 6.2, 3.94, 6.28, 4.46, 2.56, 5.72, 5.02, 5.08, 6.04, 6.94, 5.0, 5.02, 5.2, 5.56, 4.44, 4.88, 6.5, 5.46, 5.08, 5.7, 4.86, 5.28, 5.32, 4.66, 4.2, 4.52, 4.86, 5.66, 4.46, 5.16, 1.54, 4.88, 5.72, 7.0, 4.12, 4.64, 5.94, 5.36, 2.86, 5.5, 5.22, 5.56, 5.16, 4.96, 5.36, 3.6, 2.76, 3.06, 5.42, 4.54, 5.48], \"y0\": \" \", \"yaxis\": \"y\"}, {\"alignmentgroup\": \"True\", \"hoverlabel\": {\"namelength\": 0}, \"hovertemplate\": \"gender=male<br>race/ethnicity=%{x}<br>GPA=%{y}\", \"legendgroup\": \"gender=male\", \"marker\": {\"color\": \"#EF553B\"}, \"name\": \"gender=male\", \"notched\": false, \"offsetgroup\": \"gender=male\", \"orientation\": \"v\", \"showlegend\": true, \"type\": \"box\", \"x\": [\"group A\", \"group C\", \"group E\", \"group B\", \"group D\", \"group D\", \"group A\", \"group E\", \"group C\", \"group D\", \"group D\", \"group B\", \"group C\", \"group D\", \"group D\", \"group D\", \"group C\", \"group B\", \"group D\", \"group E\", \"group C\", \"group A\", \"group C\", \"group B\", \"group D\", \"group A\", \"group E\", \"group C\", \"group C\", \"group C\", \"group E\", \"group C\", \"group B\", \"group B\", \"group C\", \"group C\", \"group E\", \"group B\", \"group C\", \"group C\", \"group B\", \"group E\", \"group C\", \"group D\", \"group D\", \"group B\", \"group C\", \"group D\", \"group B\", \"group B\", \"group E\", \"group C\", \"group A\", \"group C\", \"group B\", \"group D\", \"group B\", \"group A\", \"group A\", \"group E\", \"group D\", \"group B\", \"group E\", \"group C\", \"group D\", \"group E\", \"group D\", \"group E\", \"group E\", \"group C\", \"group D\", \"group A\", \"group C\", \"group D\", \"group D\", \"group B\", \"group E\", \"group B\", \"group C\", \"group A\", \"group E\", \"group D\", \"group D\", \"group A\", \"group D\", \"group B\", \"group C\", \"group D\", \"group D\", \"group D\", \"group D\", \"group D\", \"group D\", \"group D\", \"group C\", \"group B\", \"group E\", \"group D\", \"group D\", \"group D\", \"group D\", \"group B\", \"group C\", \"group D\", \"group E\", \"group D\", \"group B\", \"group C\", \"group C\", \"group D\", \"group B\", \"group E\", \"group C\", \"group B\", \"group C\", \"group C\", \"group A\", \"group B\", \"group B\", \"group B\", \"group D\", \"group D\", \"group C\", \"group C\", \"group B\", \"group D\", \"group A\", \"group C\", \"group E\", \"group A\", \"group C\", \"group D\", \"group C\", \"group D\", \"group D\", \"group C\", \"group D\", \"group D\", \"group E\", \"group C\", \"group E\", \"group D\", \"group B\", \"group C\", \"group D\", \"group D\", \"group D\", \"group C\", \"group C\", \"group C\", \"group A\", \"group D\", \"group D\", \"group C\", \"group A\", \"group E\", \"group E\", \"group C\", \"group A\", \"group A\", \"group A\", \"group C\", \"group C\", \"group A\", \"group C\", \"group C\", \"group C\", \"group C\", \"group D\", \"group E\", \"group C\", \"group C\", \"group C\", \"group C\", \"group C\", \"group D\", \"group A\", \"group E\", \"group D\", \"group D\", \"group B\", \"group E\", \"group E\", \"group A\", \"group A\", \"group D\", \"group B\", \"group E\", \"group C\", \"group C\", \"group A\", \"group E\", \"group C\", \"group D\", \"group E\", \"group D\", \"group B\", \"group C\", \"group D\", \"group C\", \"group A\", \"group C\", \"group D\", \"group A\", \"group E\", \"group C\", \"group D\", \"group D\", \"group D\", \"group E\", \"group E\", \"group B\", \"group B\", \"group D\", \"group D\", \"group B\", \"group C\", \"group C\", \"group D\", \"group E\", \"group C\", \"group E\", \"group D\", \"group C\", \"group A\", \"group C\", \"group C\", \"group B\", \"group B\", \"group D\", \"group B\", \"group A\", \"group D\", \"group A\", \"group B\", \"group C\", \"group E\", \"group D\", \"group D\", \"group C\", \"group B\", \"group D\", \"group D\", \"group C\", \"group D\", \"group B\", \"group E\", \"group E\", \"group B\", \"group C\", \"group C\", \"group D\", \"group A\", \"group C\", \"group D\", \"group B\", \"group C\", \"group D\", \"group D\", \"group A\", \"group B\", \"group D\", \"group B\", \"group D\", \"group A\", \"group C\", \"group C\", \"group A\", \"group A\", \"group E\", \"group D\", \"group E\", \"group C\", \"group C\", \"group D\", \"group B\", \"group E\", \"group D\", \"group B\", \"group C\", \"group B\", \"group D\", \"group E\", \"group D\", \"group E\", \"group C\", \"group D\", \"group A\", \"group D\", \"group C\", \"group E\", \"group E\", \"group C\", \"group E\", \"group E\", \"group D\", \"group D\", \"group C\", \"group D\", \"group B\", \"group C\", \"group C\", \"group C\", \"group B\", \"group D\", \"group B\", \"group B\", \"group C\", \"group B\", \"group E\", \"group E\", \"group D\", \"group A\", \"group A\", \"group B\", \"group C\", \"group D\", \"group B\", \"group B\", \"group B\", \"group C\", \"group B\", \"group C\", \"group B\", \"group A\", \"group D\", \"group D\", \"group C\", \"group D\", \"group D\", \"group B\", \"group B\", \"group E\", \"group A\", \"group B\", \"group D\", \"group C\", \"group B\", \"group C\", \"group D\", \"group D\", \"group A\", \"group B\", \"group A\", \"group C\", \"group E\", \"group B\", \"group B\", \"group D\", \"group C\", \"group A\", \"group D\", \"group C\", \"group E\", \"group D\", \"group C\", \"group C\", \"group B\", \"group B\", \"group B\", \"group D\", \"group D\", \"group E\", \"group C\", \"group D\", \"group B\", \"group E\", \"group B\", \"group E\", \"group D\", \"group A\", \"group C\", \"group C\", \"group D\", \"group D\", \"group C\", \"group D\", \"group D\", \"group C\", \"group B\", \"group D\", \"group B\", \"group C\", \"group C\", \"group C\", \"group B\", \"group C\", \"group B\", \"group E\", \"group E\", \"group D\", \"group E\", \"group B\", \"group D\", \"group C\", \"group C\", \"group A\", \"group D\", \"group B\", \"group C\", \"group C\", \"group D\", \"group B\", \"group D\", \"group E\", \"group B\", \"group D\", \"group C\", \"group C\", \"group A\", \"group E\", \"group D\", \"group C\", \"group E\", \"group E\", \"group D\", \"group D\", \"group C\", \"group A\", \"group D\", \"group D\", \"group C\", \"group D\", \"group D\", \"group C\", \"group E\", \"group D\"], \"x0\": \" \", \"xaxis\": \"x\", \"y\": [5.78, 5.04, 5.64, 6.34, 5.02, 5.14, 4.7, 5.76, 4.7, 5.4, 4.62, 5.2, 3.68, 5.76, 4.68, 5.64, 5.94, 5.84, 4.9, 5.1, 4.44, 4.84, 4.68, 2.84, 4.68, 3.96, 6.14, 2.8, 5.16, 4.84, 5.42, 6.22, 4.64, 4.16, 4.34, 4.28, 6.34, 5.9, 4.88, 6.56, 6.14, 6.2, 6.62, 4.74, 4.02, 5.88, 3.84, 5.44, 5.14, 4.78, 6.32, 4.86, 4.96, 4.7, 4.36, 6.24, 5.52, 3.78, 4.98, 4.06, 4.92, 3.78, 4.88, 4.78, 4.04, 5.2, 4.36, 4.74, 4.52, 4.38, 5.5, 4.28, 5.38, 3.86, 5.98, 6.44, 4.5, 4.76, 4.32, 4.24, 4.98, 5.4, 3.78, 4.64, 5.5, 3.92, 3.8, 5.12, 5.3, 5.4, 6.02, 4.5, 4.28, 5.74, 5.46, 4.5, 5.56, 5.96, 4.0, 5.94, 4.44, 3.88, 5.04, 6.18, 5.82, 3.32, 3.9, 6.02, 5.58, 5.56, 4.84, 5.84, 4.08, 4.92, 6.26, 5.68, 5.08, 3.72, 4.52, 4.06, 5.36, 4.36, 6.5, 6.34, 4.28, 5.12, 2.4, 4.48, 6.22, 4.02, 5.98, 5.34, 5.7, 5.48, 4.92, 5.4, 5.14, 5.18, 5.52, 5.48, 5.38, 5.6, 5.1, 5.68, 5.2, 5.82, 4.36, 4.02, 4.1, 5.18, 5.38, 5.56, 5.06, 5.64, 4.1, 4.82, 5.88, 5.66, 4.68, 5.38, 6.64, 4.76, 5.1, 4.56, 5.54, 5.38, 4.7, 4.44, 4.94, 6.86, 3.78, 5.14, 3.78, 4.54, 5.2, 4.26, 3.94, 3.6, 4.68, 5.02, 3.44, 5.82, 5.5, 4.1, 5.4, 5.28, 4.14, 2.56, 4.86, 4.26, 6.16, 5.62, 5.28, 5.02, 4.04, 4.1, 4.48, 5.1, 4.16, 4.42, 4.08, 4.46, 6.16, 6.5, 5.6, 5.4, 4.96, 4.3, 5.08, 5.72, 6.32, 5.16, 3.94, 5.26, 6.12, 4.82, 4.74, 5.22, 4.82, 5.0, 5.1, 7.0, 6.1, 5.3, 5.08, 3.86, 4.34, 4.72, 4.86, 3.9, 4.6, 3.68, 4.78, 3.88, 5.54, 3.8, 4.86, 5.82, 5.1, 6.64, 3.46, 5.76, 5.9, 5.1, 5.58, 4.14, 6.24, 6.0, 5.24, 6.1, 4.28, 3.38, 4.76, 5.16, 4.92, 4.9, 5.3, 3.7, 5.32, 3.36, 5.94, 4.18, 4.08, 3.94, 5.18, 4.02, 4.32, 4.54, 3.24, 5.48, 3.4, 5.2, 3.76, 4.22, 5.84, 5.04, 4.66, 4.22, 4.62, 5.26, 5.94, 4.24, 5.12, 5.68, 3.66, 4.44, 3.8, 4.14, 4.46, 4.66, 6.18, 3.76, 4.54, 5.28, 4.42, 5.5, 5.16, 4.32, 4.62, 4.46, 4.54, 6.48, 5.96, 5.32, 5.28, 4.12, 4.6, 2.94, 4.06, 5.08, 5.78, 5.02, 5.86, 3.6, 5.26, 3.38, 5.7, 3.98, 4.36, 4.5, 4.08, 3.28, 4.72, 4.42, 4.5, 5.32, 5.38, 4.94, 3.84, 3.92, 4.66, 4.88, 5.52, 5.68, 5.98, 5.12, 5.42, 5.78, 4.4, 3.3, 4.64, 3.82, 5.98, 5.08, 4.88, 5.74, 6.0, 4.28, 6.1, 5.16, 5.24, 4.64, 5.58, 5.08, 4.84, 4.52, 5.12, 6.3, 2.38, 5.08, 4.52, 5.36, 5.9, 4.22, 4.9, 4.86, 5.74, 4.56, 4.98, 3.88, 4.34, 4.86, 6.04, 5.76, 4.8, 5.82, 4.96, 5.74, 3.6, 5.4, 5.3, 5.06, 5.2, 4.2, 5.64, 4.94, 4.6, 4.02, 4.44, 6.18, 4.12, 5.94, 5.26, 4.84, 6.1, 5.68, 4.66, 5.92, 5.68, 3.72, 4.6, 5.12, 6.56, 3.88, 5.44, 5.88, 5.06, 5.06, 4.44, 3.96, 5.26, 6.04, 4.82, 4.62, 4.34, 6.26, 4.1, 3.92, 4.54, 5.78, 4.92, 5.82, 6.04, 6.92, 5.22, 5.2, 5.3], \"y0\": \" \", \"yaxis\": \"y\"}],\n",
              "                        {\"boxmode\": \"group\", \"legend\": {\"tracegroupgap\": 0}, \"margin\": {\"t\": 60}, \"template\": {\"data\": {\"bar\": [{\"error_x\": {\"color\": \"#2a3f5f\"}, \"error_y\": {\"color\": \"#2a3f5f\"}, \"marker\": {\"line\": {\"color\": \"#E5ECF6\", \"width\": 0.5}}, \"type\": \"bar\"}], \"barpolar\": [{\"marker\": {\"line\": {\"color\": \"#E5ECF6\", \"width\": 0.5}}, \"type\": \"barpolar\"}], \"carpet\": [{\"aaxis\": {\"endlinecolor\": \"#2a3f5f\", \"gridcolor\": \"white\", \"linecolor\": \"white\", \"minorgridcolor\": \"white\", \"startlinecolor\": \"#2a3f5f\"}, \"baxis\": {\"endlinecolor\": \"#2a3f5f\", \"gridcolor\": \"white\", \"linecolor\": \"white\", \"minorgridcolor\": \"white\", \"startlinecolor\": \"#2a3f5f\"}, \"type\": \"carpet\"}], \"choropleth\": [{\"colorbar\": {\"outlinewidth\": 0, \"ticks\": \"\"}, \"type\": \"choropleth\"}], \"contour\": [{\"colorbar\": {\"outlinewidth\": 0, \"ticks\": \"\"}, \"colorscale\": [[0.0, \"#0d0887\"], [0.1111111111111111, \"#46039f\"], [0.2222222222222222, \"#7201a8\"], [0.3333333333333333, \"#9c179e\"], [0.4444444444444444, \"#bd3786\"], [0.5555555555555556, \"#d8576b\"], [0.6666666666666666, \"#ed7953\"], [0.7777777777777778, \"#fb9f3a\"], [0.8888888888888888, \"#fdca26\"], [1.0, \"#f0f921\"]], \"type\": \"contour\"}], \"contourcarpet\": [{\"colorbar\": {\"outlinewidth\": 0, \"ticks\": \"\"}, \"type\": \"contourcarpet\"}], \"heatmap\": [{\"colorbar\": {\"outlinewidth\": 0, \"ticks\": \"\"}, \"colorscale\": [[0.0, \"#0d0887\"], [0.1111111111111111, \"#46039f\"], [0.2222222222222222, \"#7201a8\"], [0.3333333333333333, \"#9c179e\"], [0.4444444444444444, \"#bd3786\"], [0.5555555555555556, \"#d8576b\"], [0.6666666666666666, \"#ed7953\"], [0.7777777777777778, \"#fb9f3a\"], [0.8888888888888888, \"#fdca26\"], [1.0, \"#f0f921\"]], \"type\": \"heatmap\"}], \"heatmapgl\": [{\"colorbar\": {\"outlinewidth\": 0, \"ticks\": \"\"}, \"colorscale\": [[0.0, \"#0d0887\"], [0.1111111111111111, \"#46039f\"], [0.2222222222222222, \"#7201a8\"], [0.3333333333333333, \"#9c179e\"], [0.4444444444444444, \"#bd3786\"], [0.5555555555555556, \"#d8576b\"], [0.6666666666666666, \"#ed7953\"], [0.7777777777777778, \"#fb9f3a\"], [0.8888888888888888, \"#fdca26\"], [1.0, \"#f0f921\"]], \"type\": \"heatmapgl\"}], \"histogram\": [{\"marker\": {\"colorbar\": {\"outlinewidth\": 0, \"ticks\": \"\"}}, \"type\": \"histogram\"}], \"histogram2d\": [{\"colorbar\": {\"outlinewidth\": 0, \"ticks\": \"\"}, \"colorscale\": [[0.0, \"#0d0887\"], [0.1111111111111111, \"#46039f\"], [0.2222222222222222, \"#7201a8\"], [0.3333333333333333, \"#9c179e\"], [0.4444444444444444, \"#bd3786\"], [0.5555555555555556, \"#d8576b\"], [0.6666666666666666, \"#ed7953\"], [0.7777777777777778, \"#fb9f3a\"], [0.8888888888888888, \"#fdca26\"], [1.0, \"#f0f921\"]], \"type\": \"histogram2d\"}], \"histogram2dcontour\": [{\"colorbar\": {\"outlinewidth\": 0, \"ticks\": \"\"}, \"colorscale\": [[0.0, \"#0d0887\"], [0.1111111111111111, \"#46039f\"], [0.2222222222222222, \"#7201a8\"], [0.3333333333333333, \"#9c179e\"], [0.4444444444444444, \"#bd3786\"], [0.5555555555555556, \"#d8576b\"], [0.6666666666666666, \"#ed7953\"], [0.7777777777777778, \"#fb9f3a\"], [0.8888888888888888, \"#fdca26\"], [1.0, \"#f0f921\"]], \"type\": \"histogram2dcontour\"}], \"mesh3d\": [{\"colorbar\": {\"outlinewidth\": 0, \"ticks\": \"\"}, \"type\": \"mesh3d\"}], \"parcoords\": [{\"line\": {\"colorbar\": {\"outlinewidth\": 0, \"ticks\": \"\"}}, \"type\": \"parcoords\"}], \"pie\": [{\"automargin\": true, \"type\": \"pie\"}], \"scatter\": [{\"marker\": {\"colorbar\": {\"outlinewidth\": 0, \"ticks\": \"\"}}, \"type\": \"scatter\"}], \"scatter3d\": [{\"line\": {\"colorbar\": {\"outlinewidth\": 0, \"ticks\": \"\"}}, \"marker\": {\"colorbar\": {\"outlinewidth\": 0, \"ticks\": \"\"}}, \"type\": \"scatter3d\"}], \"scattercarpet\": [{\"marker\": {\"colorbar\": {\"outlinewidth\": 0, \"ticks\": \"\"}}, \"type\": \"scattercarpet\"}], \"scattergeo\": [{\"marker\": {\"colorbar\": {\"outlinewidth\": 0, \"ticks\": \"\"}}, \"type\": \"scattergeo\"}], \"scattergl\": [{\"marker\": {\"colorbar\": {\"outlinewidth\": 0, \"ticks\": \"\"}}, \"type\": \"scattergl\"}], \"scattermapbox\": [{\"marker\": {\"colorbar\": {\"outlinewidth\": 0, \"ticks\": \"\"}}, \"type\": \"scattermapbox\"}], \"scatterpolar\": [{\"marker\": {\"colorbar\": {\"outlinewidth\": 0, \"ticks\": \"\"}}, \"type\": \"scatterpolar\"}], \"scatterpolargl\": [{\"marker\": {\"colorbar\": {\"outlinewidth\": 0, \"ticks\": \"\"}}, \"type\": \"scatterpolargl\"}], \"scatterternary\": [{\"marker\": {\"colorbar\": {\"outlinewidth\": 0, \"ticks\": \"\"}}, \"type\": \"scatterternary\"}], \"surface\": [{\"colorbar\": {\"outlinewidth\": 0, \"ticks\": \"\"}, \"colorscale\": [[0.0, \"#0d0887\"], [0.1111111111111111, \"#46039f\"], [0.2222222222222222, \"#7201a8\"], [0.3333333333333333, \"#9c179e\"], [0.4444444444444444, \"#bd3786\"], [0.5555555555555556, \"#d8576b\"], [0.6666666666666666, \"#ed7953\"], [0.7777777777777778, \"#fb9f3a\"], [0.8888888888888888, \"#fdca26\"], [1.0, \"#f0f921\"]], \"type\": \"surface\"}], \"table\": [{\"cells\": {\"fill\": {\"color\": \"#EBF0F8\"}, \"line\": {\"color\": \"white\"}}, \"header\": {\"fill\": {\"color\": \"#C8D4E3\"}, \"line\": {\"color\": \"white\"}}, \"type\": \"table\"}]}, \"layout\": {\"annotationdefaults\": {\"arrowcolor\": \"#2a3f5f\", \"arrowhead\": 0, \"arrowwidth\": 1}, \"coloraxis\": {\"colorbar\": {\"outlinewidth\": 0, \"ticks\": \"\"}}, \"colorscale\": {\"diverging\": [[0, \"#8e0152\"], [0.1, \"#c51b7d\"], [0.2, \"#de77ae\"], [0.3, \"#f1b6da\"], [0.4, \"#fde0ef\"], [0.5, \"#f7f7f7\"], [0.6, \"#e6f5d0\"], [0.7, \"#b8e186\"], [0.8, \"#7fbc41\"], [0.9, \"#4d9221\"], [1, \"#276419\"]], \"sequential\": [[0.0, \"#0d0887\"], [0.1111111111111111, \"#46039f\"], [0.2222222222222222, \"#7201a8\"], [0.3333333333333333, \"#9c179e\"], [0.4444444444444444, \"#bd3786\"], [0.5555555555555556, \"#d8576b\"], [0.6666666666666666, \"#ed7953\"], [0.7777777777777778, \"#fb9f3a\"], [0.8888888888888888, \"#fdca26\"], [1.0, \"#f0f921\"]], \"sequentialminus\": [[0.0, \"#0d0887\"], [0.1111111111111111, \"#46039f\"], [0.2222222222222222, \"#7201a8\"], [0.3333333333333333, \"#9c179e\"], [0.4444444444444444, \"#bd3786\"], [0.5555555555555556, \"#d8576b\"], [0.6666666666666666, \"#ed7953\"], [0.7777777777777778, \"#fb9f3a\"], [0.8888888888888888, \"#fdca26\"], [1.0, \"#f0f921\"]]}, \"colorway\": [\"#636efa\", \"#EF553B\", \"#00cc96\", \"#ab63fa\", \"#FFA15A\", \"#19d3f3\", \"#FF6692\", \"#B6E880\", \"#FF97FF\", \"#FECB52\"], \"font\": {\"color\": \"#2a3f5f\"}, \"geo\": {\"bgcolor\": \"white\", \"lakecolor\": \"white\", \"landcolor\": \"#E5ECF6\", \"showlakes\": true, \"showland\": true, \"subunitcolor\": \"white\"}, \"hoverlabel\": {\"align\": \"left\"}, \"hovermode\": \"closest\", \"mapbox\": {\"style\": \"light\"}, \"paper_bgcolor\": \"white\", \"plot_bgcolor\": \"#E5ECF6\", \"polar\": {\"angularaxis\": {\"gridcolor\": \"white\", \"linecolor\": \"white\", \"ticks\": \"\"}, \"bgcolor\": \"#E5ECF6\", \"radialaxis\": {\"gridcolor\": \"white\", \"linecolor\": \"white\", \"ticks\": \"\"}}, \"scene\": {\"xaxis\": {\"backgroundcolor\": \"#E5ECF6\", \"gridcolor\": \"white\", \"gridwidth\": 2, \"linecolor\": \"white\", \"showbackground\": true, \"ticks\": \"\", \"zerolinecolor\": \"white\"}, \"yaxis\": {\"backgroundcolor\": \"#E5ECF6\", \"gridcolor\": \"white\", \"gridwidth\": 2, \"linecolor\": \"white\", \"showbackground\": true, \"ticks\": \"\", \"zerolinecolor\": \"white\"}, \"zaxis\": {\"backgroundcolor\": \"#E5ECF6\", \"gridcolor\": \"white\", \"gridwidth\": 2, \"linecolor\": \"white\", \"showbackground\": true, \"ticks\": \"\", \"zerolinecolor\": \"white\"}}, \"shapedefaults\": {\"line\": {\"color\": \"#2a3f5f\"}}, \"ternary\": {\"aaxis\": {\"gridcolor\": \"white\", \"linecolor\": \"white\", \"ticks\": \"\"}, \"baxis\": {\"gridcolor\": \"white\", \"linecolor\": \"white\", \"ticks\": \"\"}, \"bgcolor\": \"#E5ECF6\", \"caxis\": {\"gridcolor\": \"white\", \"linecolor\": \"white\", \"ticks\": \"\"}}, \"title\": {\"x\": 0.05}, \"xaxis\": {\"automargin\": true, \"gridcolor\": \"white\", \"linecolor\": \"white\", \"ticks\": \"\", \"title\": {\"standoff\": 15}, \"zerolinecolor\": \"white\", \"zerolinewidth\": 2}, \"yaxis\": {\"automargin\": true, \"gridcolor\": \"white\", \"linecolor\": \"white\", \"ticks\": \"\", \"title\": {\"standoff\": 15}, \"zerolinecolor\": \"white\", \"zerolinewidth\": 2}}}, \"xaxis\": {\"anchor\": \"y\", \"domain\": [0.0, 1.0], \"title\": {\"text\": \"race/ethnicity\"}}, \"yaxis\": {\"anchor\": \"x\", \"domain\": [0.0, 1.0], \"title\": {\"text\": \"GPA\"}}},\n",
              "                        {\"responsive\": true}\n",
              "                    ).then(function(){\n",
              "                            \n",
              "var gd = document.getElementById('51a9ab76-e9e5-4c96-8c1b-e798f5f22112');\n",
              "var x = new MutationObserver(function (mutations, observer) {{\n",
              "        var display = window.getComputedStyle(gd).display;\n",
              "        if (!display || display === 'none') {{\n",
              "            console.log([gd, 'removed!']);\n",
              "            Plotly.purge(gd);\n",
              "            observer.disconnect();\n",
              "        }}\n",
              "}});\n",
              "\n",
              "// Listen for the removal of the full notebook cells\n",
              "var notebookContainer = gd.closest('#notebook-container');\n",
              "if (notebookContainer) {{\n",
              "    x.observe(notebookContainer, {childList: true});\n",
              "}}\n",
              "\n",
              "// Listen for the clearing of the current output cell\n",
              "var outputEl = gd.closest('.output');\n",
              "if (outputEl) {{\n",
              "    x.observe(outputEl, {childList: true});\n",
              "}}\n",
              "\n",
              "                        })\n",
              "                };\n",
              "                \n",
              "            </script>\n",
              "        </div>\n",
              "</body>\n",
              "</html>"
            ]
          },
          "metadata": {}
        }
      ]
    },
    {
      "cell_type": "markdown",
      "metadata": {
        "id": "7NESp20gbjRn"
      },
      "source": [
        "En esta visualización se observa el pormedio general de los alumnos, diferenciando por genero y raza/etnia."
      ]
    },
    {
      "cell_type": "code",
      "metadata": {
        "colab": {
          "base_uri": "https://localhost:8080/",
          "height": 541
        },
        "id": "EcFUEZgXbrl-",
        "outputId": "fa48aed9-9411-4c8d-f0ee-949995f8b54d"
      },
      "source": [
        "def plot_dist_lun(df):\n",
        "  hist_data = [df[df['lunch']=='standard'].GPA,df[df['lunch']=='free/reduced'].GPA]\n",
        "  labels = ['standard', 'free/reduced']\n",
        "\n",
        "  fig = ff.create_distplot(hist_data, labels, bin_size=.25)\n",
        "  fig.show()  \n",
        "\n",
        "plot_dist_lun(df_grades)"
      ],
      "execution_count": 236,
      "outputs": [
        {
          "output_type": "display_data",
          "data": {
            "text/html": [
              "<html>\n",
              "<head><meta charset=\"utf-8\" /></head>\n",
              "<body>\n",
              "    <div>\n",
              "            <script src=\"https://cdnjs.cloudflare.com/ajax/libs/mathjax/2.7.5/MathJax.js?config=TeX-AMS-MML_SVG\"></script><script type=\"text/javascript\">if (window.MathJax) {MathJax.Hub.Config({SVG: {font: \"STIX-Web\"}});}</script>\n",
              "                <script type=\"text/javascript\">window.PlotlyConfig = {MathJaxConfig: 'local'};</script>\n",
              "        <script src=\"https://cdn.plot.ly/plotly-latest.min.js\"></script>    \n",
              "            <div id=\"f1579f15-7b56-465c-8639-d86361962458\" class=\"plotly-graph-div\" style=\"height:525px; width:100%;\"></div>\n",
              "            <script type=\"text/javascript\">\n",
              "                \n",
              "                    window.PLOTLYENV=window.PLOTLYENV || {};\n",
              "                    \n",
              "                if (document.getElementById(\"f1579f15-7b56-465c-8639-d86361962458\")) {\n",
              "                    Plotly.newPlot(\n",
              "                        'f1579f15-7b56-465c-8639-d86361962458',\n",
              "                        [{\"autobinx\": false, \"histnorm\": \"probability density\", \"legendgroup\": \"standard\", \"marker\": {\"color\": \"rgb(31, 119, 180)\"}, \"name\": \"standard\", \"opacity\": 0.7, \"type\": \"histogram\", \"x\": [3.58, 5.78, 5.04, 5.64, 6.34, 5.02, 5.14, 4.7, 5.76, 5.5, 4.7, 5.4, 5.2, 5.76, 5.64, 5.38, 5.94, 5.02, 5.84, 5.34, 5.1, 4.44, 4.84, 4.68, 4.4, 4.92, 4.68, 6.14, 5.0, 5.16, 4.88, 5.62, 4.84, 4.36, 6.24, 5.42, 6.32, 6.22, 3.76, 4.34, 4.28, 6.34, 5.9, 6.56, 6.14, 6.2, 6.62, 5.54, 4.74, 5.12, 4.02, 5.88, 3.84, 5.44, 5.14, 5.46, 4.86, 5.22, 4.96, 5.1, 5.22, 5.92, 6.24, 6.86, 5.52, 3.78, 4.84, 5.52, 4.06, 6.0, 4.92, 5.46, 5.46, 6.42, 4.88, 5.58, 5.44, 5.18, 5.5, 5.84, 4.36, 4.74, 3.54, 4.52, 2.78, 5.38, 5.5, 4.28, 5.38, 4.36, 6.12, 5.98, 6.54, 6.44, 6.24, 4.58, 4.5, 4.94, 4.76, 5.32, 4.34, 4.24, 4.98, 5.4, 3.78, 6.64, 4.64, 4.58, 5.5, 3.92, 3.8, 5.14, 5.5, 6.04, 5.4, 4.98, 6.02, 4.5, 5.74, 5.46, 5.72, 6.94, 4.84, 4.68, 5.26, 6.3, 5.56, 5.96, 4.14, 5.94, 4.0, 4.72, 5.94, 4.44, 3.88, 5.32, 5.6, 5.04, 6.18, 5.64, 5.82, 3.32, 6.02, 5.58, 4.84, 4.92, 4.08, 4.58, 5.3, 4.92, 6.26, 5.68, 5.08, 5.12, 3.72, 4.52, 5.46, 5.36, 6.5, 6.34, 4.28, 5.12, 6.22, 6.22, 4.22, 7.0, 6.08, 5.64, 5.98, 4.78, 5.34, 5.54, 5.76, 5.7, 5.48, 5.14, 4.72, 4.64, 4.92, 6.32, 5.14, 5.82, 5.0, 5.52, 5.38, 5.6, 5.28, 5.42, 5.1, 6.4, 5.68, 6.42, 5.32, 6.38, 5.2, 5.82, 5.46, 4.36, 6.8, 5.18, 5.38, 4.74, 5.64, 4.82, 6.98, 6.14, 5.66, 4.6, 6.64, 5.72, 5.1, 4.1, 6.3, 5.54, 5.38, 4.44, 4.94, 6.48, 3.78, 5.56, 3.78, 5.34, 4.54, 3.94, 4.98, 4.68, 5.02, 5.3, 4.78, 5.06, 5.96, 4.1, 6.06, 5.4, 5.12, 5.94, 2.56, 5.78, 4.86, 5.88, 5.76, 5.84, 6.04, 6.16, 5.28, 5.02, 4.48, 5.68, 6.2, 4.16, 6.12, 5.58, 4.72, 4.08, 4.46, 5.22, 5.46, 6.16, 6.5, 4.28, 5.6, 5.4, 5.28, 4.96, 5.16, 4.3, 5.08, 5.72, 6.32, 3.94, 5.56, 5.14, 6.12, 4.82, 4.74, 5.22, 5.64, 5.68, 4.9, 5.0, 5.1, 7.0, 4.82, 4.58, 6.1, 6.0, 5.26, 5.3, 3.86, 5.0, 4.96, 6.6, 6.42, 5.36, 3.92, 4.86, 5.74, 6.76, 5.12, 4.6, 4.78, 5.06, 4.86, 5.82, 5.48, 4.2, 6.64, 4.86, 4.52, 5.9, 5.02, 5.1, 5.2, 5.58, 4.14, 4.52, 5.38, 6.0, 4.94, 5.24, 6.1, 5.28, 4.28, 4.76, 5.16, 6.46, 4.26, 4.92, 4.9, 5.3, 4.08, 5.26, 3.7, 5.42, 5.32, 3.36, 5.94, 6.56, 3.94, 5.18, 3.9, 4.54, 6.34, 5.54, 5.08, 6.78, 3.4, 5.2, 5.76, 6.14, 4.42, 4.22, 5.84, 6.3, 4.66, 5.7, 4.22, 5.7, 6.74, 6.18, 5.22, 5.7, 5.26, 5.94, 5.12, 4.96, 6.3, 4.74, 5.38, 5.0, 4.14, 4.46, 4.66, 6.18, 3.76, 5.0, 6.32, 4.94, 4.54, 4.1, 5.36, 5.58, 4.42, 6.16, 5.5, 5.66, 6.84, 5.34, 6.64, 6.36, 5.16, 5.72, 4.02, 4.32, 5.8, 4.62, 5.64, 5.26, 5.62, 4.46, 6.48, 5.96, 5.96, 5.32, 5.28, 5.34, 4.12, 4.06, 5.08, 6.78, 5.78, 5.02, 4.8, 3.6, 4.88, 3.38, 5.44, 3.98, 5.3, 4.5, 5.36, 6.52, 4.08, 5.54, 6.38, 5.76, 4.08, 4.72, 4.36, 4.42, 4.92, 5.32, 5.38, 3.92, 4.66, 5.46, 6.22, 4.88, 5.52, 5.98, 5.78, 6.5, 5.98, 5.12, 5.42, 5.8, 5.12, 5.44, 5.2, 5.74, 4.8, 6.82, 5.98, 5.74, 6.0, 4.54, 5.44, 4.28, 6.1, 5.48, 5.24, 4.64, 5.58, 5.08, 5.28, 4.16, 4.0, 5.64, 5.7, 5.36, 5.12, 4.74, 5.08, 5.94, 5.22, 6.5, 5.36, 4.84, 5.9, 6.36, 4.86, 6.82, 5.74, 4.56, 5.54, 5.94, 4.96, 3.88, 6.04, 5.76, 5.06, 4.8, 4.7, 5.82, 6.92, 4.96, 5.62, 5.74, 5.4, 5.3, 5.06, 4.9, 4.64, 6.2, 3.94, 5.64, 6.28, 4.46, 4.94, 4.6, 5.08, 6.04, 4.02, 6.94, 5.0, 5.02, 6.18, 4.12, 5.56, 5.94, 5.26, 6.1, 4.88, 6.5, 5.68, 4.66, 5.92, 5.08, 5.7, 4.6, 5.12, 6.56, 5.32, 4.66, 3.88, 4.2, 5.44, 5.66, 5.88, 4.88, 5.06, 7.0, 4.12, 5.26, 6.04, 5.94, 5.36, 4.62, 4.1, 5.78, 5.5, 5.22, 6.92, 5.56, 5.2, 5.16, 4.96, 5.36, 2.76, 5.3, 4.54, 5.48], \"xaxis\": \"x\", \"xbins\": {\"end\": 7.0, \"size\": 0.25, \"start\": 2.56}, \"yaxis\": \"y\"}, {\"autobinx\": false, \"histnorm\": \"probability density\", \"legendgroup\": \"free/reduced\", \"marker\": {\"color\": \"rgb(255, 127, 14)\"}, \"name\": \"free/reduced\", \"opacity\": 0.7, \"type\": \"histogram\", \"x\": [3.46, 4.96, 4.62, 3.68, 4.68, 5.1, 6.86, 4.24, 4.9, 5.54, 6.14, 5.96, 4.06, 4.6, 2.84, 5.66, 3.96, 2.8, 4.52, 5.14, 4.64, 4.16, 4.88, 4.9, 5.1, 6.36, 6.06, 5.36, 4.78, 6.32, 4.52, 4.1, 4.7, 4.36, 5.84, 4.98, 5.52, 5.16, 4.26, 3.78, 4.94, 4.78, 5.32, 4.04, 4.74, 5.2, 4.8, 4.38, 4.36, 4.1, 3.86, 5.32, 3.64, 4.16, 5.98, 4.32, 5.04, 5.4, 5.14, 5.12, 5.3, 3.96, 5.14, 4.38, 4.28, 4.28, 4.6, 4.5, 6.14, 5.64, 2.88, 3.9, 4.32, 5.56, 5.08, 5.84, 4.0, 5.2, 4.3, 4.06, 3.34, 2.9, 4.36, 4.16, 2.4, 4.9, 4.48, 3.68, 5.56, 4.02, 4.16, 5.38, 4.88, 4.92, 4.88, 3.26, 5.4, 5.14, 5.18, 5.48, 6.08, 4.2, 4.88, 5.54, 4.02, 4.1, 5.56, 5.06, 4.1, 5.88, 5.56, 4.68, 5.38, 4.76, 4.56, 4.12, 5.38, 4.7, 6.86, 6.16, 5.74, 5.14, 4.34, 5.2, 4.26, 3.6, 3.44, 5.82, 5.5, 5.7, 4.06, 4.04, 5.28, 4.14, 4.26, 5.84, 6.0, 5.62, 4.32, 4.04, 4.5, 4.1, 5.1, 5.62, 4.42, 4.86, 5.28, 5.52, 5.16, 5.26, 3.74, 3.9, 5.5, 4.82, 2.1, 4.38, 5.08, 4.18, 4.34, 4.72, 3.9, 3.68, 3.88, 4.02, 5.54, 3.8, 5.1, 3.46, 5.26, 5.76, 5.8, 3.8, 6.24, 5.6, 6.04, 4.62, 3.38, 5.94, 5.26, 4.18, 4.08, 4.02, 4.32, 3.24, 5.48, 5.98, 3.76, 5.04, 4.7, 4.62, 5.48, 4.24, 5.68, 3.66, 4.44, 3.8, 6.28, 4.9, 5.16, 4.24, 5.18, 6.6, 5.28, 4.38, 4.54, 4.7, 3.68, 4.6, 2.94, 3.48, 4.54, 3.44, 5.86, 5.26, 5.7, 4.36, 3.28, 5.2, 4.5, 6.04, 4.94, 5.46, 4.68, 3.84, 5.68, 4.46, 4.82, 5.78, 4.4, 4.4, 4.22, 3.3, 2.78, 4.64, 3.82, 5.08, 4.88, 4.5, 4.24, 4.44, 5.16, 3.08, 4.16, 5.4, 4.84, 4.52, 5.12, 4.78, 6.3, 4.84, 5.64, 4.38, 2.38, 5.98, 4.52, 4.56, 5.24, 6.22, 5.98, 5.72, 6.36, 4.22, 4.9, 4.98, 4.56, 5.62, 3.64, 4.34, 4.86, 5.24, 4.72, 5.08, 5.34, 4.0, 3.6, 4.96, 5.2, 4.2, 2.56, 5.72, 5.02, 4.44, 5.2, 4.84, 4.44, 5.46, 5.68, 3.72, 4.86, 5.28, 4.52, 4.86, 5.06, 4.46, 5.16, 1.54, 5.72, 4.44, 3.96, 4.64, 4.82, 4.34, 6.26, 3.92, 4.54, 2.86, 4.92, 5.82, 6.04, 5.22, 3.6, 3.06, 5.42], \"xaxis\": \"x\", \"xbins\": {\"end\": 6.86, \"size\": 0.25, \"start\": 1.54}, \"yaxis\": \"y\"}, {\"legendgroup\": \"standard\", \"marker\": {\"color\": \"rgb(31, 119, 180)\"}, \"mode\": \"lines\", \"name\": \"standard\", \"showlegend\": false, \"type\": \"scatter\", \"x\": [2.56, 2.56888, 2.57776, 2.58664, 2.59552, 2.6044, 2.61328, 2.62216, 2.63104, 2.63992, 2.6488, 2.65768, 2.66656, 2.67544, 2.68432, 2.6932, 2.70208, 2.71096, 2.71984, 2.72872, 2.7376, 2.74648, 2.75536, 2.76424, 2.77312, 2.782, 2.79088, 2.79976, 2.80864, 2.81752, 2.8264, 2.83528, 2.84416, 2.85304, 2.86192, 2.8708, 2.87968, 2.88856, 2.89744, 2.90632, 2.9152, 2.92408, 2.93296, 2.94184, 2.95072, 2.9596, 2.96848, 2.97736, 2.98624, 2.99512, 3.004, 3.01288, 3.02176, 3.03064, 3.03952, 3.0484, 3.05728, 3.06616, 3.07504, 3.08392, 3.0928, 3.10168, 3.11056, 3.11944, 3.12832, 3.1372, 3.14608, 3.15496, 3.16384, 3.17272, 3.1816, 3.19048, 3.19936, 3.20824, 3.21712, 3.226, 3.23488, 3.24376, 3.25264, 3.26152, 3.2704, 3.27928, 3.28816, 3.29704, 3.30592, 3.3148, 3.32368, 3.33256, 3.34144, 3.35032, 3.3592, 3.36808, 3.37696, 3.38584, 3.39472, 3.4036, 3.41248, 3.42136, 3.43024, 3.43912, 3.448, 3.45688, 3.46576, 3.47464, 3.48352, 3.4924, 3.50128, 3.51016, 3.51904, 3.52792, 3.5368, 3.54568, 3.55456, 3.56344, 3.57232, 3.5812, 3.59008, 3.59896, 3.60784, 3.61672, 3.6256, 3.63448, 3.64336, 3.65224, 3.66112, 3.67, 3.67888, 3.68776, 3.69664, 3.70552, 3.7144, 3.72328, 3.73216, 3.74104, 3.74992, 3.7588, 3.76768, 3.77656, 3.78544, 3.79432, 3.8032, 3.81208, 3.82096, 3.82984, 3.83872, 3.8476, 3.85648, 3.86536, 3.87424, 3.88312, 3.892, 3.90088, 3.90976, 3.91864, 3.92752, 3.9364, 3.94528, 3.95416, 3.96304, 3.97192, 3.9807999999999995, 3.98968, 3.99856, 4.00744, 4.01632, 4.0252, 4.034079999999999, 4.04296, 4.05184, 4.06072, 4.069599999999999, 4.07848, 4.08736, 4.09624, 4.105119999999999, 4.114, 4.12288, 4.13176, 4.140639999999999, 4.14952, 4.1584, 4.16728, 4.176159999999999, 4.18504, 4.19392, 4.2028, 4.211679999999999, 4.22056, 4.22944, 4.23832, 4.247199999999999, 4.25608, 4.26496, 4.27384, 4.282719999999999, 4.2916, 4.30048, 4.30936, 4.318239999999999, 4.32712, 4.336, 4.34488, 4.353759999999999, 4.36264, 4.37152, 4.3804, 4.389279999999999, 4.39816, 4.40704, 4.41592, 4.424799999999999, 4.43368, 4.44256, 4.45144, 4.460319999999999, 4.4692, 4.47808, 4.48696, 4.495839999999999, 4.50472, 4.5136, 4.52248, 4.531359999999999, 4.54024, 4.54912, 4.558, 4.566879999999999, 4.57576, 4.58464, 4.59352, 4.602399999999999, 4.61128, 4.62016, 4.62904, 4.637919999999999, 4.6468, 4.65568, 4.66456, 4.673439999999999, 4.68232, 4.6912, 4.70008, 4.708959999999999, 4.71784, 4.72672, 4.7356, 4.744479999999999, 4.75336, 4.76224, 4.77112, 4.779999999999999, 4.78888, 4.79776, 4.80664, 4.815519999999999, 4.8244, 4.83328, 4.84216, 4.851039999999999, 4.85992, 4.8688, 4.87768, 4.886559999999999, 4.89544, 4.90432, 4.9132, 4.922079999999999, 4.93096, 4.93984, 4.94872, 4.957599999999999, 4.96648, 4.97536, 4.98424, 4.993119999999999, 5.002, 5.01088, 5.01976, 5.028639999999999, 5.03752, 5.0464, 5.05528, 5.064159999999999, 5.07304, 5.08192, 5.0908, 5.099679999999999, 5.108559999999999, 5.11744, 5.12632, 5.135199999999999, 5.14408, 5.15296, 5.16184, 5.170719999999999, 5.1796, 5.18848, 5.19736, 5.206239999999999, 5.21512, 5.224, 5.23288, 5.241759999999999, 5.25064, 5.25952, 5.2684, 5.277279999999999, 5.28616, 5.29504, 5.30392, 5.312799999999999, 5.32168, 5.33056, 5.33944, 5.348319999999999, 5.3572, 5.36608, 5.37496, 5.383839999999999, 5.39272, 5.401599999999999, 5.41048, 5.419359999999999, 5.42824, 5.43712, 5.446, 5.454879999999999, 5.46376, 5.47264, 5.48152, 5.490399999999999, 5.49928, 5.50816, 5.51704, 5.525919999999999, 5.5348, 5.54368, 5.55256, 5.561439999999999, 5.57032, 5.5792, 5.58808, 5.596959999999999, 5.60584, 5.61472, 5.6236, 5.632479999999999, 5.64136, 5.65024, 5.65912, 5.667999999999999, 5.67688, 5.68576, 5.69464, 5.703519999999999, 5.7124, 5.72128, 5.73016, 5.739039999999999, 5.74792, 5.7568, 5.76568, 5.774559999999999, 5.78344, 5.79232, 5.8012, 5.810079999999999, 5.81896, 5.82784, 5.83672, 5.845599999999999, 5.85448, 5.86336, 5.87224, 5.881119999999999, 5.89, 5.89888, 5.90776, 5.916639999999999, 5.92552, 5.9344, 5.94328, 5.952159999999999, 5.96104, 5.96992, 5.9788, 5.987679999999999, 5.99656, 6.00544, 6.01432, 6.023199999999999, 6.03208, 6.04096, 6.04984, 6.058719999999999, 6.0676, 6.07648, 6.08536, 6.094239999999999, 6.10312, 6.112, 6.12088, 6.129759999999999, 6.13864, 6.14752, 6.1564, 6.165279999999999, 6.17416, 6.18304, 6.19192, 6.200799999999999, 6.20968, 6.21856, 6.22744, 6.236319999999999, 6.245199999999999, 6.25408, 6.26296, 6.271839999999999, 6.28072, 6.2896, 6.29848, 6.307359999999999, 6.31624, 6.32512, 6.334, 6.342879999999999, 6.35176, 6.36064, 6.36952, 6.378399999999999, 6.38728, 6.39616, 6.40504, 6.413919999999999, 6.4228, 6.43168, 6.44056, 6.449439999999999, 6.45832, 6.4672, 6.47608, 6.484959999999999, 6.49384, 6.50272, 6.5116, 6.520479999999999, 6.52936, 6.53824, 6.54712, 6.555999999999999, 6.5648800000000005, 6.57376, 6.58264, 6.591519999999999, 6.6004000000000005, 6.60928, 6.61816, 6.627039999999999, 6.6359200000000005, 6.6448, 6.65368, 6.662559999999999, 6.6714400000000005, 6.68032, 6.6892, 6.698079999999999, 6.706959999999999, 6.71584, 6.72472, 6.733599999999999, 6.7424800000000005, 6.75136, 6.76024, 6.769119999999999, 6.777999999999999, 6.78688, 6.79576, 6.804639999999999, 6.8135200000000005, 6.8224, 6.83128, 6.840159999999999, 6.8490400000000005, 6.85792, 6.8668, 6.875679999999999, 6.884559999999999, 6.89344, 6.90232, 6.911199999999999, 6.9200800000000005, 6.92896, 6.93784, 6.946719999999999, 6.955599999999999, 6.96448, 6.97336, 6.982239999999999, 6.9911200000000004], \"xaxis\": \"x\", \"y\": [0.007327825968665849, 0.007484209365862251, 0.007634631393926385, 0.007778629221082136, 0.007915759338964247, 0.008045600837557548, 0.00816775868305086, 0.008281866976369404, 0.008387592169162595, 0.00848463621319064, 0.008572739618393058, 0.008651684394453516, 0.008721296850417342, 0.008781450226885123, 0.008832067135513178, 0.008873121781010181, 0.00890464194153743, 0.008926710684404234, 0.00893946779520179, 0.008943110900037419, 0.008937896262312225, 0.008924139237520133, 0.008902214371823964, 0.008872555132669012, 0.008835653262408536, 0.00879205774881684, 0.008742373409430276, 0.00868725908985769, 0.008627425479510504, 0.008563632551588683, 0.00849668663758956, 0.008427437150049878, 0.008356772970652956, 0.008285618524199925, 0.008214929562222284, 0.008145688683170225, 0.008078900619114898, 0.00801558732172238, 0.007956782882862879, 0.007903528327582628, 0.007856866319262266, 0.007817835818589051, 0.007787466739459623, 0.007766774646084096, 0.007756755536363163, 0.00775838075704166, 0.007772592096190305, 0.007800297098221176, 0.00784236464589196, 0.007899620852592729, 0.007972845306632293, 0.008062767707247667, 0.008170064929650594, 0.00829535855360396, 0.008439212886795593, 0.008602133510657818, 0.008784566372283687, 0.008986897441732622, 0.009209452949322548, 0.00945250021249995, 0.009716249056594647, 0.010000853828239488, 0.010306415994508676, 0.010632987314946217, 0.010980573567671896, 0.011349138804718713, 0.011738610105734647, 0.012148882793235883, 0.012579826066794069, 0.013031289007947894, 0.013503106902318809, 0.013995107820454784, 0.014507119394397687, 0.015038975722937857, 0.015590524335054045, 0.01616163313820386, 0.016752197275986102, 0.017362145818301568, 0.017991448206535365, 0.018640120376513334, 0.01930823048307812, 0.01999590415210202, 0.020703329188618513, 0.021430759673502123, 0.02217851938574576, 0.02294700449284643, 0.02373668545807098, 0.024548108120382342, 0.025381893910498016, 0.026238739174845087, 0.02711941358798879, 0.028024757643340382, 0.028955679221492777, 0.02991314924527798, 0.030898196440463835, 0.03191190123079811, 0.032955388805731095, 0.03402982140848924, 0.0351363899011072, 0.03627630467143724, 0.03745078595493261, 0.038661053651046065, 0.03990831672029407, 0.04119376225334115, 0.0425185443077758, 0.04388377261153118, 0.04529050123410805, 0.04673971732785278, 0.04823233004152882, 0.0497691597072924, 0.051350927399969604, 0.0529782449642708, 0.054651605601314816, 0.05637137510064247, 0.05813778379785134, 0.05995091933117438, 0.06181072026284393, 0.06371697062305226, 0.06566929542584081, 0.06766715719743825, 0.06970985354855434, 0.07179651581302708, 0.07392610876613119, 0.07609743142691063, 0.07830911894018312, 0.08055964552549559, 0.08284732847235281, 0.08517033315359604, 0.08752667902192242, 0.08991424654825772, 0.0923307850550807, 0.09477392139285377, 0.09724116940345029, 0.09972994011089902, 0.10223755257685796, 0.10476124535595319, 0.10729818848445691, 0.10984549593465727, 0.11240023846666003, 0.11495945680917603, 0.11752017510104686, 0.12007941452576218, 0.12263420707195741, 0.12518160935380354, 0.12771871642623558, 0.13024267553105506, 0.13275069971105918, 0.13524008123043432, 0.13770820474067977, 0.1401525601322964, 0.14257075501335378, 0.1449605267568648, 0.14731975405964215, 0.1496464679560372, 0.15193886223068778, 0.15419530317517088, 0.15641433863434323, 0.15859470628919506, 0.16073534112430687, 0.1628353820295685, 0.16489417748773874, 0.1669112903017669, 0.1688865013186267, 0.17081981210977643, 0.172711446572305, 0.17456185141938277, 0.17637169553384272, 0.17814186816456434, 0.17987347595182895, 0.18156783877494126, 0.18322648442311457, 0.1848511420988665, 0.18644373477188825, 0.188006370410455, 0.18954133212683222, 0.19105106728271404, 0.19253817561035932, 0.1940053964146604, 0.19545559493074052, 0.19689174792068623, 0.19831692860155709, 0.19973429100470372, 0.2011470538735558, 0.20255848421326858, 0.20397188061081503, 0.205390556448182, 0.20681782313415129, 0.2082569734816619, 0.20971126535787982, 0.21118390573279852, 0.21267803524944567, 0.21419671343455635, 0.2157429046629287, 0.2173194649816308, 0.2189291298918474, 0.22057450317651778, 0.2222580468511447, 0.22398207230334596, 0.22574873267403764, 0.22756001651972693, 0.22941774278142474, 0.231323557071352, 0.2332789292740769, 0.23528515244420775, 0.23734334296844253, 0.23945444194587193, 0.24161921772710204, 0.2438382695402271, 0.24611203212010077, 0.24844078124689542, 0.2508246400907505, 0.2532635862515349, 0.25575745937649064, 0.25830596923388355, 0.2609087041178286, 0.2635651394582261, 0.26627464651028177, 0.269036501000347, 0.2718498916088151, 0.2747139281764594, 0.2776276495278359, 0.2805900308140939, 0.28359999028759053, 0.2866563954319789, 0.28975806838373186, 0.29290379059422234, 0.29609230669527087, 0.2993223275453266, 0.3025925324479145, 0.30590157054846323, 0.3092480614298883, 0.3126305949411209, 0.3160477303059566, 0.31949799457190187, 0.3229798804699587, 0.32649184376632195, 0.3300323001956071, 0.3335996220723492, 0.3371921346829892, 0.3408081125643107, 0.3444457757762638, 0.3481032862772384, 0.35177874450817764, 0.35547018628842325, 0.35917558012096884, 0.3628928249979083, 0.36661974878843206, 0.3703541072818803, 0.37409358394728437, 0.3778357904586671, 0.3815782680223635, 0.3853184895289611, 0.3890538625383836, 0.3927817330923932, 0.39649939033457665, 0.4002040719039926, 0.40389297005529523, 0.407563238445561, 0.4112119995164271, 0.41483635238972416, 0.41843338118572415, 0.42200016366558857, 0.4255337800937109, 0.4290313222115442, 0.43248990221221884, 0.4359066616048745, 0.43927877985913744, 0.4426034827235539, 0.44587805011702336, 0.4490998234992129, 0.45226621263452477, 0.4553747016742448, 0.4584228544928702, 0.46140831922710335, 0.46432883197937236, 0.4671822196617799, 0.46996640197085154, 0.4726793924980714, 0.4753192989957126, 0.47788432283164667, 0.48037275768036, 0.4827829875101136, 0.48511348393778747, 0.4873628030332613, 0.4895295816640155, 0.49161253347780237, 0.49361044462662257, 0.495522169338745, 0.4973466254470531, 0.49908278998155586, 0.5007296949314947, 0.5022864232780988, 0.5037521053928499, 0.5051259158881399, 0.5064070709976579, 0.507594826552862, 0.5086884766097037, 0.5096873527665945, 0.5105908242006935, 0.5113982984351929, 0.5121092228356985, 0.5127230868192522, 0.5132394247453756, 0.5136578194449186, 0.5139779063297877, 0.5141993780149994, 0.5143219893741914, 0.5143455629409095, 0.5142699945608156, 0.5140952591945777, 0.5138214167676658, 0.5134486179616607, 0.5129771098419791, 0.5124072412191086, 0.5117394676444649, 0.510974355947721, 0.5101125882297932, 0.5091549652344188, 0.5081024090312495, 0.5069559649543941, 0.5057168027521356, 0.5043862169158889, 0.502965626169111, 0.5014565721095547, 0.49986071701075757, 0.49817984080070565, 0.49641583724703137, 0.49457070938865355, 0.49264656426329395, 0.4906456069886605, 0.48857013426212764, 0.4864225273494108, 0.4842052446369566, 0.4819208138255087, 0.47957182384362224, 0.4771609165597782, 0.47469077837028556, 0.4721641317374594, 0.46958372674873555, 0.4669523327625678, 0.46427273020132326, 0.4615477025450855, 0.45878002857350986, 0.455972474895787, 0.45312778880154814, 0.45024869145838287, 0.44733787147463705, 0.44439797883953136, 0.4414316192464467, 0.43844134879962127, 0.43542966909955066, 0.4323990226981648, 0.4293517889113814, 0.42629027997396257, 0.42321673751970235, 0.4201333293688261, 0.4170421466040468, 0.413945200916948, 0.41084442220716283, 0.407741656418117, 0.40463866359480755, 0.40153711615109494, 0.3984385973362144, 0.3953445998925512, 0.3922565248990761, 0.3891756807971391, 0.38610328259747906, 0.38304045126925185, 0.37998821331357957, 0.37694750052550935, 0.37391914994933834, 0.37090390403298806, 0.3679024109874757, 0.36491522535758514, 0.3619428088095623, 0.3589855311411082, 0.35604367151813937, 0.3531174199417731, 0.35020687894784225, 0.34731206553996363, 0.3444329133558488, 0.3415692750652025, 0.3387209249962213, 0.3358875619864575, 0.3330688124526439, 0.3302642336730321, 0.327473317274894, 0.3246954929190808, 0.3219301321729132, 0.3191765525622119, 0.31643402179293934, 0.3137017621326887, 0.31097895494212047, 0.30826474534635595, 0.3055582470362943, 0.3028585471897673, 0.30016471150236, 0.297475789317588, 0.2947908188458888, 0.29210883246154873, 0.2894288620662146, 0.28674994450702135, 0.2840711270366037, 0.2813914728013376, 0.2787100663430719, 0.27602601909839913, 0.2733384748781581, 0.2706466153084087, 0.2679496652125665, 0.26524689791278944, 0.26253764042708383, 0.25982127853698167, 0.25709726169907704, 0.2543651077722173, 0.2516244075307952, 0.24887482893338025, 0.24611612111491976, 0.2433481180699724, 0.2405707419939066, 0.23778400624879845, 0.23498801792084048, 0.23218297993652456, 0.22936919270566083, 0.22654705526048893, 0.22371706586170031, 0.22087982204418377, 0.21803602007769193, 0.21518645382042653, 0.21233201294675494, 0.20947368053387272, 0.20661252999624322, 0.20374972136102518, 0.20088649688243668, 0.19802417599808955, 0.19516414963570158, 0.19230787388426074, 0.18945686304959444, 0.18661268212037385, 0.18377693867679568, 0.18095127428047972, 0.17813735539041894, 0.17533686385608824, 0.17255148704495202, 0.16978290766755078, 0.16703279336900767, 0.16430278616108493, 0.16159449177377525, 0.15890946900972042, 0.15624921918843454, 0.15361517577029704, 0.1510086942524692, 0.14843104243022842, 0.1458833911176119, 0.14336680542066493, 0.14088223665497834, 0.13843051499646328, 0.1360123429505214, 0.13362828971981908, 0.1312787865448558, 0.12896412308437777, 0.1266844448945227, 0.12443975205641254, 0.1222298989918405, 0.12005459549578085, 0.11791340900283906, 0.11580576809252562, 0.11373096722558278, 0.1116881726905928, 0.10967642972697282, 0.10769467077735699, 0.10574172480943314, 0.10381632763477495, 0.10191713314019472, 0.10004272533586248, 0.09819163111405131, 0.09636233360301187, 0.09455328599232601, 0.09276292569926577, 0.09098968874028872, 0.08923202416796618, 0.08748840843140537, 0.08575735951766328, 0.08403745073280665, 0.08232732398410862, 0.08062570242941987, 0.07893140236592439, 0.07724334423826192, 0.07556056265522468, 0.07388221531485868, 0.07220759074964347, 0.07053611481634671, 0.06886735586900364, 0.06720102856802924, 0.06553699629358282, 0.06387527214675207, 0.062216018537685776, 0.06055954537530793, 0.05890630688845452, 0.05725689712300605, 0.05561204417365697], \"yaxis\": \"y\"}, {\"legendgroup\": \"free/reduced\", \"marker\": {\"color\": \"rgb(255, 127, 14)\"}, \"mode\": \"lines\", \"name\": \"free/reduced\", \"showlegend\": false, \"type\": \"scatter\", \"x\": [1.54, 1.55064, 1.56128, 1.57192, 1.58256, 1.5932, 1.60384, 1.6144800000000001, 1.6251200000000001, 1.63576, 1.6464, 1.65704, 1.66768, 1.67832, 1.68896, 1.6996, 1.71024, 1.72088, 1.7315200000000002, 1.7421600000000002, 1.7528000000000001, 1.7634400000000001, 1.77408, 1.78472, 1.79536, 1.806, 1.81664, 1.82728, 1.83792, 1.84856, 1.8592, 1.86984, 1.88048, 1.89112, 1.90176, 1.9124, 1.92304, 1.93368, 1.94432, 1.95496, 1.9656, 1.97624, 1.98688, 1.9975200000000002, 2.00816, 2.0188, 2.02944, 2.04008, 2.05072, 2.06136, 2.072, 2.08264, 2.09328, 2.10392, 2.11456, 2.1252, 2.13584, 2.14648, 2.15712, 2.16776, 2.1784, 2.1890400000000003, 2.19968, 2.2103200000000003, 2.22096, 2.2316000000000003, 2.24224, 2.25288, 2.2635199999999998, 2.27416, 2.2848, 2.29544, 2.30608, 2.31672, 2.32736, 2.338, 2.34864, 2.35928, 2.36992, 2.38056, 2.3912, 2.40184, 2.41248, 2.42312, 2.43376, 2.4444, 2.4550400000000003, 2.46568, 2.4763200000000003, 2.48696, 2.4976000000000003, 2.50824, 2.5188800000000002, 2.52952, 2.54016, 2.5508, 2.56144, 2.57208, 2.58272, 2.59336, 2.604, 2.61464, 2.62528, 2.63592, 2.64656, 2.6572, 2.66784, 2.67848, 2.68912, 2.69976, 2.7104, 2.72104, 2.73168, 2.7423200000000003, 2.75296, 2.7636000000000003, 2.77424, 2.7848800000000002, 2.79552, 2.80616, 2.8168, 2.82744, 2.83808, 2.84872, 2.85936, 2.87, 2.88064, 2.89128, 2.90192, 2.91256, 2.9232, 2.93384, 2.94448, 2.95512, 2.96576, 2.9764, 2.98704, 2.99768, 3.0083200000000003, 3.01896, 3.0296000000000003, 3.04024, 3.0508800000000003, 3.06152, 3.0721600000000002, 3.0828, 3.09344, 3.10408, 3.11472, 3.12536, 3.136, 3.14664, 3.15728, 3.16792, 3.17856, 3.1892, 3.19984, 3.21048, 3.22112, 3.23176, 3.2424, 3.2530400000000004, 3.26368, 3.2743200000000003, 3.28496, 3.2956000000000003, 3.30624, 3.3168800000000003, 3.32752, 3.3381600000000002, 3.3488, 3.35944, 3.37008, 3.38072, 3.39136, 3.402, 3.41264, 3.42328, 3.43392, 3.44456, 3.4552, 3.46584, 3.47648, 3.48712, 3.4977600000000004, 3.5084, 3.5190400000000004, 3.52968, 3.5403200000000004, 3.55096, 3.5616000000000003, 3.57224, 3.5828800000000003, 3.59352, 3.6041600000000003, 3.6148000000000002, 3.62544, 3.6360799999999998, 3.64672, 3.65736, 3.668, 3.6786400000000006, 3.68928, 3.69992, 3.71056, 3.7212000000000005, 3.73184, 3.74248, 3.75312, 3.7637600000000004, 3.7744, 3.78504, 3.7956800000000004, 3.8063200000000004, 3.81696, 3.8276, 3.8382400000000003, 3.8488800000000003, 3.85952, 3.8701600000000003, 3.8808000000000002, 3.8914400000000002, 3.9020799999999998, 3.91272, 3.92336, 3.934, 3.94464, 3.95528, 3.96592, 3.97656, 3.9872000000000005, 3.99784, 4.0084800000000005, 4.019120000000001, 4.0297600000000005, 4.0404, 4.05104, 4.061680000000001, 4.07232, 4.08296, 4.0936, 4.104240000000001, 4.11488, 4.12552, 4.13616, 4.146800000000001, 4.15744, 4.16808, 4.17872, 4.189360000000001, 4.2, 4.21064, 4.22128, 4.231920000000001, 4.24256, 4.2532, 4.26384, 4.2744800000000005, 4.285120000000001, 4.2957600000000005, 4.3064, 4.31704, 4.327680000000001, 4.33832, 4.34896, 4.3596, 4.370240000000001, 4.38088, 4.39152, 4.40216, 4.412800000000001, 4.42344, 4.43408, 4.44472, 4.455360000000001, 4.466, 4.47664, 4.48728, 4.497920000000001, 4.50856, 4.5192, 4.52984, 4.5404800000000005, 4.551120000000001, 4.56176, 4.5724, 4.5830400000000004, 4.593680000000001, 4.60432, 4.61496, 4.6256, 4.636240000000001, 4.64688, 4.65752, 4.66816, 4.678800000000001, 4.68944, 4.70008, 4.71072, 4.721360000000001, 4.732, 4.74264, 4.75328, 4.763920000000001, 4.774560000000001, 4.7852, 4.79584, 4.8064800000000005, 4.817120000000001, 4.82776, 4.8384, 4.8490400000000005, 4.859680000000001, 4.8703199999999995, 4.88096, 4.8916, 4.902240000000001, 4.91288, 4.92352, 4.93416, 4.944800000000001, 4.95544, 4.96608, 4.97672, 4.987360000000001, 4.998, 5.00864, 5.01928, 5.029920000000001, 5.040560000000001, 5.0512, 5.06184, 5.0724800000000005, 5.083120000000001, 5.09376, 5.1044, 5.1150400000000005, 5.125680000000001, 5.1363199999999996, 5.14696, 5.1576, 5.168240000000001, 5.1788799999999995, 5.18952, 5.20016, 5.210800000000001, 5.22144, 5.23208, 5.24272, 5.253360000000001, 5.264, 5.27464, 5.28528, 5.295920000000001, 5.306560000000001, 5.3172, 5.32784, 5.338480000000001, 5.349120000000001, 5.35976, 5.3704, 5.3810400000000005, 5.391680000000001, 5.40232, 5.41296, 5.4236, 5.434240000000001, 5.4448799999999995, 5.45552, 5.46616, 5.476800000000001, 5.487439999999999, 5.49808, 5.50872, 5.519360000000001, 5.53, 5.540640000000001, 5.55128, 5.56192, 5.57256, 5.583200000000001, 5.59384, 5.60448, 5.61512, 5.6257600000000005, 5.636400000000001, 5.64704, 5.65768, 5.6683200000000005, 5.67896, 5.6896, 5.70024, 5.71088, 5.721520000000001, 5.7321599999999995, 5.7428, 5.75344, 5.76408, 5.77472, 5.785360000000001, 5.796, 5.806640000000001, 5.817280000000001, 5.82792, 5.83856, 5.8492, 5.85984, 5.870480000000001, 5.88112, 5.8917600000000006, 5.902400000000001, 5.91304, 5.92368, 5.9343200000000005, 5.94496, 5.9556000000000004, 5.96624, 5.97688, 5.987520000000001, 5.9981599999999995, 6.0088, 6.01944, 6.03008, 6.04072, 6.051360000000001, 6.062, 6.072640000000001, 6.083280000000001, 6.09392, 6.10456, 6.1152, 6.12584, 6.136480000000001, 6.14712, 6.157760000000001, 6.168400000000001, 6.17904, 6.18968, 6.2003200000000005, 6.21096, 6.2216000000000005, 6.232240000000001, 6.24288, 6.253520000000001, 6.2641599999999995, 6.2748, 6.28544, 6.29608, 6.30672, 6.317360000000001, 6.328, 6.338640000000001, 6.34928, 6.35992, 6.37056, 6.3812, 6.39184, 6.402480000000001, 6.41312, 6.423760000000001, 6.434400000000001, 6.44504, 6.45568, 6.4663200000000005, 6.47696, 6.4876000000000005, 6.498240000000001, 6.50888, 6.519520000000001, 6.5301599999999995, 6.5408, 6.55144, 6.56208, 6.57272, 6.583360000000001, 6.594, 6.604640000000001, 6.61528, 6.62592, 6.63656, 6.647200000000001, 6.65784, 6.668480000000001, 6.67912, 6.689760000000001, 6.700400000000001, 6.71104, 6.72168, 6.7323200000000005, 6.74296, 6.7536000000000005, 6.764240000000001, 6.7748800000000005, 6.785520000000001, 6.7961599999999995, 6.8068, 6.81744, 6.82808, 6.83872, 6.849360000000001], \"xaxis\": \"x\", \"y\": [0.005298814842810004, 0.005353550392889543, 0.005405432943019865, 0.00545469429493297, 0.005501597334264292, 0.005546434800426719, 0.005589527808041756, 0.005631224132071269, 0.005671896271359009, 0.005711939307690183, 0.005751768579678253, 0.005791817192762133, 0.005832533388318885, 0.005874377796345452, 0.0059178205973208385, 0.005963338619715131, 0.006011412400155065, 0.006062523233485409, 0.006117150239881376, 0.006175767475776893, 0.006238841114686413, 0.006306826723029467, 0.0063801666548352984, 0.006459287587732114, 0.006544598220936355, 0.006636487154079239, 0.006735320963670198, 0.006841442491829665, 0.006955169359658354, 0.007076792715278233, 0.007206576224211363, 0.007344755307387608, 0.007491536629717604, 0.007647097839859832, 0.007811587559572963, 0.007985125618897821, 0.008167803531373882, 0.008359685201578154, 0.008560807855489173, 0.008771183182534162, 0.008990798676676128, 0.009219619162541689, 0.009457588491377202, 0.009704631390546859, 0.009960655449344736, 0.010225553223076425, 0.01049920443666525, 0.010781478268444217, 0.011072235694298632, 0.011371331871916832, 0.011678618544579817, 0.011993946443669813, 0.012317167668897877, 0.012648138025140646, 0.012986719294737048, 0.013332781424131817, 0.013686204603869653, 0.014046881221152595, 0.014414717664485936, 0.01478963596036909, 0.015171575222554431, 0.015560492895118423, 0.01595636577148314, 0.0163591907726148, 0.016768985468924368, 0.017185788331927236, 0.017609658703493253, 0.018040676472555073, 0.018478941451443215, 0.018924572446591955, 0.019377706021202624, 0.019838494950559414, 0.020307106374048416, 0.02078371965151366, 0.021268523935367996, 0.021761715473822243, 0.022263494664662778, 0.022774062883143174, 0.023293619111705893, 0.02382235640334685, 0.024360458214418377, 0.0249080946464558, 0.025465418640140434, 0.026032562167695967, 0.02660963247278639, 0.02719670840926027, 0.02779383693180268, 0.028401029792644972, 0.029018260498883286, 0.02964546158461821, 0.030282522251014018, 0.030929286425446883, 0.03158555128816107, 0.03225106631126625, 0.03292553285050907, 0.03360860432504845, 0.034299887014516, 0.034998941495988325, 0.035705284736218486, 0.03641839284665026, 0.03713770450046835, 0.037862625002330605, 0.038592530992603805, 0.03932677575901332, 0.0400646951197476, 0.04080561383337806, 0.04154885248259628, 0.04229373477087806, 0.04303959516389128, 0.043785786800903635, 0.0445316895957378, 0.04527671844207566, 0.04602033143423021, 0.046762038011959266, 0.04750140693656376, 0.04823807400543129, 0.048971749413385, 0.04970222467168375, 0.05042937899927387, 0.05115318510588099, 0.05187371429269087, 0.052591140803630976, 0.05330574536852129, 0.05401791788850648, 0.054728159224086026, 0.055437082056566, 0.05614541080472814, 0.05685398058977744, 0.05756373525301935, 0.058275724442068244, 0.05899109979252431, 0.059711110242814516, 0.0604370965301112, 0.061170484924774685, 0.06191278026947171, 0.06266555839687546, 0.06343045800655496, 0.06420917208721363, 0.06500343897477528, 0.06581503313989705, 0.06664575580026974, 0.06749742545356302, 0.06837186842608207, 0.06927090953017145, 0.07019636292018398, 0.07115002323249857, 0.07213365708971757, 0.0731489950428969, 0.07419772401859115, 0.0752814803297424, 0.07640184330115196, 0.07756032955158106, 0.07875838796556733, 0.07999739537896551, 0.08127865299314811, 0.08260338352387553, 0.08397272908217697, 0.08538774977628977, 0.08684942301588987, 0.0883586434925805, 0.08991622380398571, 0.09152289568285803, 0.09317931178740327, 0.0948860480045905, 0.09664360621453867, 0.09845241746118102, 0.10031284547226466, 0.10222519047033911, 0.10418969321566733, 0.10620653922193728, 0.1082758630861737, 0.11039775287532641, 0.11257225451355546, 0.11479937611619122, 0.11707909221866629, 0.11941134785130948, 0.12179606241373664, 0.12423313330558075, 0.12672243927345944, 0.12926384343731281, 0.1318571959625545, 0.13450233634779413, 0.13719909530126412, 0.13994729618240603, 0.142746755988438, 0.1455972858690655, 0.14849869115585873, 0.15145077089617145, 0.15445331688490105, 0.15750611219081145, 0.1606089291776509, 0.16376152702387806, 0.16696364874846492, 0.1702150177539997, 0.17351533390217558, 0.1768642691406843, 0.18026146270458832, 0.18370651591934106, 0.1871989866367944, 0.19073838333971738, 0.19432415895452732, 0.19795570441605292, 0.20163234203217825, 0.20535331870008447, 0.20911779902947208, 0.2129248584315551, 0.2167734762356794, 0.22066252889813492, 0.22459078336996507, 0.2285568906923479, 0.2325593798893343, 0.23659665222836088, 0.24066697591893493, 0.24476848131926104, 0.24889915671920845, 0.25305684476601603, 0.25723923959641054, 0.26144388473538605, 0.2656681718178647, 0.26990934018470153, 0.27416447739921557, 0.27843052072453606, 0.2827042595956683, 0.2869823391133671, 0.29126126457966106, 0.2955374070873511, 0.2998070101680228, 0.3040661974951347, 0.3083109816307022, 0.31253727379599816, 0.31674089463862926, 0.3209175859604296, 0.3250630233628181, 0.3291728297587357, 0.33324258969303533, 0.3372678644062722, 0.34124420757031393, 0.3451671816180711, 0.34903237458401265, 0.35283541736694174, 0.3565720013218465, 0.36023789608355006, 0.363828967521282, 0.36734119572030505, 0.3707706928843261, 0.3741137210505895, 0.3773667095083711, 0.38052627181098, 0.38358922227146147, 0.3865525918328629, 0.3894136432053306, 0.39216988516429413, 0.39481908590672726, 0.39735928536589704, 0.39978880638908687, 0.4021062646876173, 0.40431057747399834, 0.406400970707275, 0.4083769848745636, 0.41023847924437995, 0.41198563453566334, 0.4136189539552924, 0.41513926256646116, 0.4165477049603249, 0.4178457412139534, 0.4190351411286337, 0.42011797675397944, 0.4210966132149848, 0.4219736978710094, 0.4227521478476917, 0.4234351359946901, 0.42402607533401065, 0.424528602075247, 0.4249465572852916, 0.42528396731081325, 0.4255450230619706, 0.4257340582752398, 0.42585552688191125, 0.42591397961648214, 0.42591404000592487, 0.42586037988639086, 0.42575769459844615, 0.42561067801514496, 0.4254239975593345, 0.4252022693673252, 0.42495003375556784, 0.4246717311452444, 0.42437167859666625, 0.4240540471012188, 0.4237228397732844, 0.42338187107817904, 0.42303474722480516, 0.42268484784343896, 0.42233530906002936, 0.42198900806861417, 0.4216485492931029, 0.4213162522188626, 0.4209941409632626, 0.4206839356428974, 0.4203870455834598, 0.4201045644065081, 0.4198372670155391, 0.41958560849210047, 0.41934972490106787, 0.4191294359928341, 0.4189242497789942, 0.41873336894723573, 0.4185556990705819, 0.4183898585558908, 0.4182341902666267, 0.41808677474538863, 0.41794544495254077, 0.4178078024285074, 0.4176712347789161, 0.41753293437382616, 0.41738991814471105, 0.417239048355794, 0.4170770542197103, 0.4169005542213977, 0.4167060790085627, 0.41649009470219434, 0.41624902647635215, 0.4159792822530011, 0.4156772763550112, 0.4153394529587158, 0.41496230918667737, 0.4145424176816291, 0.4140764485040687, 0.4135611901986521, 0.4129935698785794, 0.4123706721824849, 0.41168975696509985, 0.4109482755911093, 0.4101438857111925, 0.40927446441021686, 0.4083381196298872, 0.4073331997817933, 0.4062583014816274, 0.4051122753512893, 0.40389422985246415, 0.4026035331329455, 0.40123981288522503, 0.39980295423553774, 0.398293095700386, 0.3967106232663002, 0.39505616266705496, 0.3933305699504134, 0.3915349204435188, 0.3896704962420214, 0.38773877236269355, 0.3857414017123831, 0.3836801990375353, 0.38155712402795267, 0.3793742637557783, 0.37713381463584217, 0.37483806409629455, 0.3724893721489032, 0.3700901530464448, 0.36764285721028506, 0.3651499536046273, 0.3626139127250486, 0.36003719035801873, 0.35742221225523235, 0.35477135985205077, 0.3520869571432613, 0.34937125881210324, 0.3466264396902418, 0.3438545856074352, 0.3410576856703329, 0.3382376259904397, 0.3353961848620834, 0.33253502937253515, 0.3296557134085547, 0.32675967700672187, 0.3238482469793805, 0.3209226387338959, 0.31798395919054695, 0.3150332106937823, 0.31207129580294757, 0.30909902284199114, 0.30611711208315495, 0.303126202437204, 0.30012685852239546, 0.29711957798602073, 0.29410479895588537, 0.29108290750441135, 0.2880542450150185, 0.28501911534882846, 0.28197779171945925, 0.2789305231943707, 0.2758775407528442, 0.2728190628428556, 0.2697553003916682, 0.26668646123773687, 0.26361275396414524, 0.2605343911262205, 0.2574515918778696, 0.254364584012433, 0.2512736054442841, 0.2481789051668526, 0.24508074373111552, 0.24197939329576712, 0.23887513730618157, 0.23576826986386396, 0.23265909485133024, 0.22954792487925102, 0.22643508012325295, 0.2233208871170674, 0.2202056775667623, 0.217089787247705, 0.2139735550417698, 0.21085732216719177, 0.20774143164756034, 0.20462622805982275, 0.20151205759393956, 0.19839926844921688, 0.19528821158438028, 0.19217924183034124, 0.1890727193664564, 0.1859690115530201, 0.1828684951048785, 0.17977155858355046, 0.1766786051781255, 0.17359005573868458, 0.1705063520200194, 0.16742796008818459, 0.16435537383790405, 0.16128911856515943, 0.15822975453641636, 0.15517788049395098, 0.15213413703565234, 0.14909920980742047, 0.14607383244698796, 0.14305878921950047, 0.1400549172875788, 0.1370631085617846, 0.13408431108133578, 0.13111952987960543, 0.1281698272942515, 0.12523632268771273, 0.1223201915502508, 0.1194226639645734, 0.1165450224182829, 0.11368859895790594, 0.11085477168593705, 0.10804496061009541, 0.10526062286179574, 0.10250324730851777, 0.09977434859228085, 0.0970754606336958, 0.09440812964795198, 0.09177390672557498, 0.08917434003673252, 0.08661096672322784, 0.08408530454701629, 0.08159884336806551, 0.07915303652757938, 0.07674929221500508, 0.07438896489876184, 0.07207334690129903, 0.06980366019883692, 0.06758104852500528, 0.06540656985555184, 0.06328118934838019, 0.06120577280939291, 0.05918108075003983, 0.05720776309712182, 0.055286354609330256, 0.053417271048314854, 0.05160080614480882, 0.04983712939258775, 0.04812628469491804, 0.046468189879708625, 0.04486263709095773, 0.043309294055368174, 0.04180770621428377, 0.040357299702504346, 0.03895738514714893, 0.03760716225166107, 0.03630572512238542, 0.035052068287980145, 0.03384509335534049, 0.03268361623978259, 0.0315663749020314, 0.03049203752013122, 0.02945921102080044, 0.028466449892019748, 0.02751226519679532, 0.02659513370709772, 0.02571350707692622, 0.024865820974307087, 0.024050504093743947, 0.023265986973199648, 0.022510710543035967, 0.021783134338432864, 0.02108174431157565, 0.02040506018528899, 0.019751642295708412, 0.019120097877956616, 0.01850908675553132], \"yaxis\": \"y\"}, {\"legendgroup\": \"standard\", \"marker\": {\"color\": \"rgb(31, 119, 180)\", \"symbol\": \"line-ns-open\"}, \"mode\": \"markers\", \"name\": \"standard\", \"showlegend\": false, \"type\": \"scatter\", \"x\": [3.58, 5.78, 5.04, 5.64, 6.34, 5.02, 5.14, 4.7, 5.76, 5.5, 4.7, 5.4, 5.2, 5.76, 5.64, 5.38, 5.94, 5.02, 5.84, 5.34, 5.1, 4.44, 4.84, 4.68, 4.4, 4.92, 4.68, 6.14, 5.0, 5.16, 4.88, 5.62, 4.84, 4.36, 6.24, 5.42, 6.32, 6.22, 3.76, 4.34, 4.28, 6.34, 5.9, 6.56, 6.14, 6.2, 6.62, 5.54, 4.74, 5.12, 4.02, 5.88, 3.84, 5.44, 5.14, 5.46, 4.86, 5.22, 4.96, 5.1, 5.22, 5.92, 6.24, 6.86, 5.52, 3.78, 4.84, 5.52, 4.06, 6.0, 4.92, 5.46, 5.46, 6.42, 4.88, 5.58, 5.44, 5.18, 5.5, 5.84, 4.36, 4.74, 3.54, 4.52, 2.78, 5.38, 5.5, 4.28, 5.38, 4.36, 6.12, 5.98, 6.54, 6.44, 6.24, 4.58, 4.5, 4.94, 4.76, 5.32, 4.34, 4.24, 4.98, 5.4, 3.78, 6.64, 4.64, 4.58, 5.5, 3.92, 3.8, 5.14, 5.5, 6.04, 5.4, 4.98, 6.02, 4.5, 5.74, 5.46, 5.72, 6.94, 4.84, 4.68, 5.26, 6.3, 5.56, 5.96, 4.14, 5.94, 4.0, 4.72, 5.94, 4.44, 3.88, 5.32, 5.6, 5.04, 6.18, 5.64, 5.82, 3.32, 6.02, 5.58, 4.84, 4.92, 4.08, 4.58, 5.3, 4.92, 6.26, 5.68, 5.08, 5.12, 3.72, 4.52, 5.46, 5.36, 6.5, 6.34, 4.28, 5.12, 6.22, 6.22, 4.22, 7.0, 6.08, 5.64, 5.98, 4.78, 5.34, 5.54, 5.76, 5.7, 5.48, 5.14, 4.72, 4.64, 4.92, 6.32, 5.14, 5.82, 5.0, 5.52, 5.38, 5.6, 5.28, 5.42, 5.1, 6.4, 5.68, 6.42, 5.32, 6.38, 5.2, 5.82, 5.46, 4.36, 6.8, 5.18, 5.38, 4.74, 5.64, 4.82, 6.98, 6.14, 5.66, 4.6, 6.64, 5.72, 5.1, 4.1, 6.3, 5.54, 5.38, 4.44, 4.94, 6.48, 3.78, 5.56, 3.78, 5.34, 4.54, 3.94, 4.98, 4.68, 5.02, 5.3, 4.78, 5.06, 5.96, 4.1, 6.06, 5.4, 5.12, 5.94, 2.56, 5.78, 4.86, 5.88, 5.76, 5.84, 6.04, 6.16, 5.28, 5.02, 4.48, 5.68, 6.2, 4.16, 6.12, 5.58, 4.72, 4.08, 4.46, 5.22, 5.46, 6.16, 6.5, 4.28, 5.6, 5.4, 5.28, 4.96, 5.16, 4.3, 5.08, 5.72, 6.32, 3.94, 5.56, 5.14, 6.12, 4.82, 4.74, 5.22, 5.64, 5.68, 4.9, 5.0, 5.1, 7.0, 4.82, 4.58, 6.1, 6.0, 5.26, 5.3, 3.86, 5.0, 4.96, 6.6, 6.42, 5.36, 3.92, 4.86, 5.74, 6.76, 5.12, 4.6, 4.78, 5.06, 4.86, 5.82, 5.48, 4.2, 6.64, 4.86, 4.52, 5.9, 5.02, 5.1, 5.2, 5.58, 4.14, 4.52, 5.38, 6.0, 4.94, 5.24, 6.1, 5.28, 4.28, 4.76, 5.16, 6.46, 4.26, 4.92, 4.9, 5.3, 4.08, 5.26, 3.7, 5.42, 5.32, 3.36, 5.94, 6.56, 3.94, 5.18, 3.9, 4.54, 6.34, 5.54, 5.08, 6.78, 3.4, 5.2, 5.76, 6.14, 4.42, 4.22, 5.84, 6.3, 4.66, 5.7, 4.22, 5.7, 6.74, 6.18, 5.22, 5.7, 5.26, 5.94, 5.12, 4.96, 6.3, 4.74, 5.38, 5.0, 4.14, 4.46, 4.66, 6.18, 3.76, 5.0, 6.32, 4.94, 4.54, 4.1, 5.36, 5.58, 4.42, 6.16, 5.5, 5.66, 6.84, 5.34, 6.64, 6.36, 5.16, 5.72, 4.02, 4.32, 5.8, 4.62, 5.64, 5.26, 5.62, 4.46, 6.48, 5.96, 5.96, 5.32, 5.28, 5.34, 4.12, 4.06, 5.08, 6.78, 5.78, 5.02, 4.8, 3.6, 4.88, 3.38, 5.44, 3.98, 5.3, 4.5, 5.36, 6.52, 4.08, 5.54, 6.38, 5.76, 4.08, 4.72, 4.36, 4.42, 4.92, 5.32, 5.38, 3.92, 4.66, 5.46, 6.22, 4.88, 5.52, 5.98, 5.78, 6.5, 5.98, 5.12, 5.42, 5.8, 5.12, 5.44, 5.2, 5.74, 4.8, 6.82, 5.98, 5.74, 6.0, 4.54, 5.44, 4.28, 6.1, 5.48, 5.24, 4.64, 5.58, 5.08, 5.28, 4.16, 4.0, 5.64, 5.7, 5.36, 5.12, 4.74, 5.08, 5.94, 5.22, 6.5, 5.36, 4.84, 5.9, 6.36, 4.86, 6.82, 5.74, 4.56, 5.54, 5.94, 4.96, 3.88, 6.04, 5.76, 5.06, 4.8, 4.7, 5.82, 6.92, 4.96, 5.62, 5.74, 5.4, 5.3, 5.06, 4.9, 4.64, 6.2, 3.94, 5.64, 6.28, 4.46, 4.94, 4.6, 5.08, 6.04, 4.02, 6.94, 5.0, 5.02, 6.18, 4.12, 5.56, 5.94, 5.26, 6.1, 4.88, 6.5, 5.68, 4.66, 5.92, 5.08, 5.7, 4.6, 5.12, 6.56, 5.32, 4.66, 3.88, 4.2, 5.44, 5.66, 5.88, 4.88, 5.06, 7.0, 4.12, 5.26, 6.04, 5.94, 5.36, 4.62, 4.1, 5.78, 5.5, 5.22, 6.92, 5.56, 5.2, 5.16, 4.96, 5.36, 2.76, 5.3, 4.54, 5.48], \"xaxis\": \"x\", \"y\": [\"standard\", \"standard\", \"standard\", \"standard\", \"standard\", \"standard\", \"standard\", \"standard\", \"standard\", \"standard\", \"standard\", \"standard\", \"standard\", \"standard\", \"standard\", \"standard\", \"standard\", \"standard\", \"standard\", \"standard\", \"standard\", \"standard\", \"standard\", \"standard\", \"standard\", \"standard\", \"standard\", \"standard\", \"standard\", \"standard\", \"standard\", \"standard\", \"standard\", \"standard\", \"standard\", \"standard\", \"standard\", \"standard\", \"standard\", \"standard\", \"standard\", \"standard\", \"standard\", \"standard\", \"standard\", \"standard\", \"standard\", \"standard\", \"standard\", \"standard\", \"standard\", \"standard\", \"standard\", \"standard\", \"standard\", \"standard\", \"standard\", \"standard\", \"standard\", \"standard\", \"standard\", \"standard\", \"standard\", \"standard\", \"standard\", \"standard\", \"standard\", \"standard\", \"standard\", \"standard\", \"standard\", \"standard\", \"standard\", \"standard\", \"standard\", \"standard\", \"standard\", \"standard\", \"standard\", \"standard\", \"standard\", \"standard\", \"standard\", \"standard\", \"standard\", \"standard\", \"standard\", \"standard\", \"standard\", \"standard\", \"standard\", \"standard\", \"standard\", \"standard\", \"standard\", \"standard\", \"standard\", \"standard\", \"standard\", \"standard\", \"standard\", \"standard\", \"standard\", \"standard\", \"standard\", \"standard\", \"standard\", \"standard\", \"standard\", \"standard\", \"standard\", \"standard\", \"standard\", \"standard\", \"standard\", \"standard\", \"standard\", \"standard\", \"standard\", \"standard\", \"standard\", \"standard\", \"standard\", \"standard\", \"standard\", \"standard\", \"standard\", \"standard\", \"standard\", \"standard\", \"standard\", \"standard\", \"standard\", \"standard\", \"standard\", \"standard\", \"standard\", \"standard\", \"standard\", \"standard\", \"standard\", \"standard\", \"standard\", \"standard\", \"standard\", \"standard\", \"standard\", \"standard\", \"standard\", \"standard\", \"standard\", \"standard\", \"standard\", \"standard\", \"standard\", \"standard\", \"standard\", \"standard\", \"standard\", \"standard\", \"standard\", \"standard\", \"standard\", \"standard\", \"standard\", \"standard\", \"standard\", \"standard\", \"standard\", \"standard\", \"standard\", \"standard\", \"standard\", \"standard\", \"standard\", \"standard\", \"standard\", \"standard\", \"standard\", \"standard\", \"standard\", \"standard\", \"standard\", \"standard\", \"standard\", \"standard\", \"standard\", \"standard\", \"standard\", \"standard\", \"standard\", \"standard\", \"standard\", \"standard\", \"standard\", \"standard\", \"standard\", \"standard\", \"standard\", \"standard\", \"standard\", \"standard\", \"standard\", \"standard\", \"standard\", \"standard\", \"standard\", \"standard\", \"standard\", \"standard\", \"standard\", \"standard\", \"standard\", \"standard\", \"standard\", \"standard\", \"standard\", \"standard\", \"standard\", \"standard\", \"standard\", \"standard\", \"standard\", \"standard\", \"standard\", \"standard\", \"standard\", \"standard\", \"standard\", \"standard\", \"standard\", \"standard\", \"standard\", \"standard\", \"standard\", \"standard\", \"standard\", \"standard\", \"standard\", \"standard\", \"standard\", \"standard\", \"standard\", \"standard\", \"standard\", \"standard\", \"standard\", \"standard\", \"standard\", \"standard\", \"standard\", \"standard\", \"standard\", \"standard\", \"standard\", \"standard\", \"standard\", \"standard\", \"standard\", \"standard\", \"standard\", \"standard\", \"standard\", \"standard\", \"standard\", \"standard\", \"standard\", \"standard\", \"standard\", \"standard\", \"standard\", \"standard\", \"standard\", \"standard\", \"standard\", \"standard\", \"standard\", \"standard\", \"standard\", \"standard\", \"standard\", \"standard\", \"standard\", \"standard\", \"standard\", \"standard\", \"standard\", \"standard\", \"standard\", \"standard\", \"standard\", \"standard\", \"standard\", \"standard\", \"standard\", \"standard\", \"standard\", \"standard\", \"standard\", \"standard\", \"standard\", \"standard\", \"standard\", \"standard\", \"standard\", \"standard\", \"standard\", \"standard\", \"standard\", \"standard\", \"standard\", \"standard\", \"standard\", \"standard\", \"standard\", \"standard\", \"standard\", \"standard\", \"standard\", \"standard\", \"standard\", \"standard\", \"standard\", \"standard\", \"standard\", \"standard\", \"standard\", \"standard\", \"standard\", \"standard\", \"standard\", \"standard\", \"standard\", \"standard\", \"standard\", \"standard\", \"standard\", \"standard\", \"standard\", \"standard\", \"standard\", \"standard\", \"standard\", \"standard\", \"standard\", \"standard\", \"standard\", \"standard\", \"standard\", \"standard\", \"standard\", \"standard\", \"standard\", \"standard\", \"standard\", \"standard\", \"standard\", \"standard\", \"standard\", \"standard\", \"standard\", \"standard\", \"standard\", \"standard\", \"standard\", \"standard\", \"standard\", \"standard\", \"standard\", \"standard\", \"standard\", \"standard\", \"standard\", \"standard\", \"standard\", \"standard\", \"standard\", \"standard\", \"standard\", \"standard\", \"standard\", \"standard\", \"standard\", \"standard\", \"standard\", \"standard\", \"standard\", \"standard\", \"standard\", \"standard\", \"standard\", \"standard\", \"standard\", \"standard\", \"standard\", \"standard\", \"standard\", \"standard\", \"standard\", \"standard\", \"standard\", \"standard\", \"standard\", \"standard\", \"standard\", \"standard\", \"standard\", \"standard\", \"standard\", \"standard\", \"standard\", \"standard\", \"standard\", \"standard\", \"standard\", \"standard\", \"standard\", \"standard\", \"standard\", \"standard\", \"standard\", \"standard\", \"standard\", \"standard\", \"standard\", \"standard\", \"standard\", \"standard\", \"standard\", \"standard\", \"standard\", \"standard\", \"standard\", \"standard\", \"standard\", \"standard\", \"standard\", \"standard\", \"standard\", \"standard\", \"standard\", \"standard\", \"standard\", \"standard\", \"standard\", \"standard\", \"standard\", \"standard\", \"standard\", \"standard\", \"standard\", \"standard\", \"standard\", \"standard\", \"standard\", \"standard\", \"standard\", \"standard\", \"standard\", \"standard\", \"standard\", \"standard\", \"standard\", \"standard\", \"standard\", \"standard\", \"standard\", \"standard\", \"standard\", \"standard\", \"standard\", \"standard\", \"standard\", \"standard\", \"standard\", \"standard\", \"standard\", \"standard\", \"standard\", \"standard\", \"standard\", \"standard\", \"standard\", \"standard\", \"standard\", \"standard\", \"standard\", \"standard\", \"standard\", \"standard\", \"standard\", \"standard\", \"standard\", \"standard\", \"standard\", \"standard\", \"standard\", \"standard\", \"standard\", \"standard\", \"standard\", \"standard\", \"standard\", \"standard\", \"standard\", \"standard\", \"standard\", \"standard\", \"standard\", \"standard\", \"standard\", \"standard\", \"standard\", \"standard\", \"standard\", \"standard\", \"standard\", \"standard\", \"standard\", \"standard\", \"standard\", \"standard\", \"standard\", \"standard\", \"standard\", \"standard\", \"standard\", \"standard\", \"standard\", \"standard\", \"standard\", \"standard\", \"standard\", \"standard\", \"standard\", \"standard\", \"standard\", \"standard\", \"standard\", \"standard\", \"standard\", \"standard\", \"standard\", \"standard\", \"standard\", \"standard\", \"standard\", \"standard\", \"standard\", \"standard\", \"standard\", \"standard\", \"standard\", \"standard\", \"standard\", \"standard\", \"standard\", \"standard\", \"standard\", \"standard\", \"standard\", \"standard\"], \"yaxis\": \"y2\"}, {\"legendgroup\": \"free/reduced\", \"marker\": {\"color\": \"rgb(255, 127, 14)\", \"symbol\": \"line-ns-open\"}, \"mode\": \"markers\", \"name\": \"free/reduced\", \"showlegend\": false, \"type\": \"scatter\", \"x\": [3.46, 4.96, 4.62, 3.68, 4.68, 5.1, 6.86, 4.24, 4.9, 5.54, 6.14, 5.96, 4.06, 4.6, 2.84, 5.66, 3.96, 2.8, 4.52, 5.14, 4.64, 4.16, 4.88, 4.9, 5.1, 6.36, 6.06, 5.36, 4.78, 6.32, 4.52, 4.1, 4.7, 4.36, 5.84, 4.98, 5.52, 5.16, 4.26, 3.78, 4.94, 4.78, 5.32, 4.04, 4.74, 5.2, 4.8, 4.38, 4.36, 4.1, 3.86, 5.32, 3.64, 4.16, 5.98, 4.32, 5.04, 5.4, 5.14, 5.12, 5.3, 3.96, 5.14, 4.38, 4.28, 4.28, 4.6, 4.5, 6.14, 5.64, 2.88, 3.9, 4.32, 5.56, 5.08, 5.84, 4.0, 5.2, 4.3, 4.06, 3.34, 2.9, 4.36, 4.16, 2.4, 4.9, 4.48, 3.68, 5.56, 4.02, 4.16, 5.38, 4.88, 4.92, 4.88, 3.26, 5.4, 5.14, 5.18, 5.48, 6.08, 4.2, 4.88, 5.54, 4.02, 4.1, 5.56, 5.06, 4.1, 5.88, 5.56, 4.68, 5.38, 4.76, 4.56, 4.12, 5.38, 4.7, 6.86, 6.16, 5.74, 5.14, 4.34, 5.2, 4.26, 3.6, 3.44, 5.82, 5.5, 5.7, 4.06, 4.04, 5.28, 4.14, 4.26, 5.84, 6.0, 5.62, 4.32, 4.04, 4.5, 4.1, 5.1, 5.62, 4.42, 4.86, 5.28, 5.52, 5.16, 5.26, 3.74, 3.9, 5.5, 4.82, 2.1, 4.38, 5.08, 4.18, 4.34, 4.72, 3.9, 3.68, 3.88, 4.02, 5.54, 3.8, 5.1, 3.46, 5.26, 5.76, 5.8, 3.8, 6.24, 5.6, 6.04, 4.62, 3.38, 5.94, 5.26, 4.18, 4.08, 4.02, 4.32, 3.24, 5.48, 5.98, 3.76, 5.04, 4.7, 4.62, 5.48, 4.24, 5.68, 3.66, 4.44, 3.8, 6.28, 4.9, 5.16, 4.24, 5.18, 6.6, 5.28, 4.38, 4.54, 4.7, 3.68, 4.6, 2.94, 3.48, 4.54, 3.44, 5.86, 5.26, 5.7, 4.36, 3.28, 5.2, 4.5, 6.04, 4.94, 5.46, 4.68, 3.84, 5.68, 4.46, 4.82, 5.78, 4.4, 4.4, 4.22, 3.3, 2.78, 4.64, 3.82, 5.08, 4.88, 4.5, 4.24, 4.44, 5.16, 3.08, 4.16, 5.4, 4.84, 4.52, 5.12, 4.78, 6.3, 4.84, 5.64, 4.38, 2.38, 5.98, 4.52, 4.56, 5.24, 6.22, 5.98, 5.72, 6.36, 4.22, 4.9, 4.98, 4.56, 5.62, 3.64, 4.34, 4.86, 5.24, 4.72, 5.08, 5.34, 4.0, 3.6, 4.96, 5.2, 4.2, 2.56, 5.72, 5.02, 4.44, 5.2, 4.84, 4.44, 5.46, 5.68, 3.72, 4.86, 5.28, 4.52, 4.86, 5.06, 4.46, 5.16, 1.54, 5.72, 4.44, 3.96, 4.64, 4.82, 4.34, 6.26, 3.92, 4.54, 2.86, 4.92, 5.82, 6.04, 5.22, 3.6, 3.06, 5.42], \"xaxis\": \"x\", \"y\": [\"free/reduced\", \"free/reduced\", \"free/reduced\", \"free/reduced\", \"free/reduced\", \"free/reduced\", \"free/reduced\", \"free/reduced\", \"free/reduced\", \"free/reduced\", \"free/reduced\", \"free/reduced\", \"free/reduced\", \"free/reduced\", \"free/reduced\", \"free/reduced\", \"free/reduced\", \"free/reduced\", \"free/reduced\", \"free/reduced\", \"free/reduced\", \"free/reduced\", \"free/reduced\", \"free/reduced\", \"free/reduced\", \"free/reduced\", \"free/reduced\", \"free/reduced\", \"free/reduced\", \"free/reduced\", \"free/reduced\", \"free/reduced\", \"free/reduced\", \"free/reduced\", \"free/reduced\", \"free/reduced\", \"free/reduced\", \"free/reduced\", \"free/reduced\", \"free/reduced\", \"free/reduced\", \"free/reduced\", \"free/reduced\", \"free/reduced\", \"free/reduced\", \"free/reduced\", \"free/reduced\", \"free/reduced\", \"free/reduced\", \"free/reduced\", \"free/reduced\", \"free/reduced\", \"free/reduced\", \"free/reduced\", \"free/reduced\", \"free/reduced\", \"free/reduced\", \"free/reduced\", \"free/reduced\", \"free/reduced\", \"free/reduced\", \"free/reduced\", \"free/reduced\", \"free/reduced\", \"free/reduced\", \"free/reduced\", \"free/reduced\", \"free/reduced\", \"free/reduced\", \"free/reduced\", \"free/reduced\", \"free/reduced\", \"free/reduced\", \"free/reduced\", \"free/reduced\", \"free/reduced\", \"free/reduced\", \"free/reduced\", \"free/reduced\", \"free/reduced\", \"free/reduced\", \"free/reduced\", \"free/reduced\", \"free/reduced\", \"free/reduced\", \"free/reduced\", \"free/reduced\", \"free/reduced\", \"free/reduced\", \"free/reduced\", \"free/reduced\", \"free/reduced\", \"free/reduced\", \"free/reduced\", \"free/reduced\", \"free/reduced\", \"free/reduced\", \"free/reduced\", \"free/reduced\", \"free/reduced\", \"free/reduced\", \"free/reduced\", \"free/reduced\", \"free/reduced\", \"free/reduced\", \"free/reduced\", \"free/reduced\", \"free/reduced\", \"free/reduced\", \"free/reduced\", \"free/reduced\", \"free/reduced\", \"free/reduced\", \"free/reduced\", \"free/reduced\", \"free/reduced\", \"free/reduced\", \"free/reduced\", \"free/reduced\", \"free/reduced\", \"free/reduced\", \"free/reduced\", \"free/reduced\", \"free/reduced\", \"free/reduced\", \"free/reduced\", \"free/reduced\", \"free/reduced\", \"free/reduced\", \"free/reduced\", \"free/reduced\", \"free/reduced\", \"free/reduced\", \"free/reduced\", \"free/reduced\", \"free/reduced\", \"free/reduced\", \"free/reduced\", \"free/reduced\", \"free/reduced\", \"free/reduced\", \"free/reduced\", \"free/reduced\", \"free/reduced\", \"free/reduced\", \"free/reduced\", \"free/reduced\", \"free/reduced\", \"free/reduced\", \"free/reduced\", \"free/reduced\", \"free/reduced\", \"free/reduced\", \"free/reduced\", \"free/reduced\", \"free/reduced\", \"free/reduced\", \"free/reduced\", \"free/reduced\", \"free/reduced\", \"free/reduced\", \"free/reduced\", \"free/reduced\", \"free/reduced\", \"free/reduced\", \"free/reduced\", \"free/reduced\", \"free/reduced\", \"free/reduced\", \"free/reduced\", \"free/reduced\", \"free/reduced\", \"free/reduced\", \"free/reduced\", \"free/reduced\", \"free/reduced\", \"free/reduced\", \"free/reduced\", \"free/reduced\", \"free/reduced\", \"free/reduced\", \"free/reduced\", \"free/reduced\", \"free/reduced\", \"free/reduced\", \"free/reduced\", \"free/reduced\", \"free/reduced\", \"free/reduced\", \"free/reduced\", \"free/reduced\", \"free/reduced\", \"free/reduced\", \"free/reduced\", \"free/reduced\", \"free/reduced\", \"free/reduced\", \"free/reduced\", \"free/reduced\", \"free/reduced\", \"free/reduced\", \"free/reduced\", \"free/reduced\", \"free/reduced\", \"free/reduced\", \"free/reduced\", \"free/reduced\", \"free/reduced\", \"free/reduced\", \"free/reduced\", \"free/reduced\", \"free/reduced\", \"free/reduced\", \"free/reduced\", \"free/reduced\", \"free/reduced\", \"free/reduced\", \"free/reduced\", \"free/reduced\", \"free/reduced\", \"free/reduced\", \"free/reduced\", \"free/reduced\", \"free/reduced\", \"free/reduced\", \"free/reduced\", \"free/reduced\", \"free/reduced\", \"free/reduced\", \"free/reduced\", \"free/reduced\", \"free/reduced\", \"free/reduced\", \"free/reduced\", \"free/reduced\", \"free/reduced\", \"free/reduced\", \"free/reduced\", \"free/reduced\", \"free/reduced\", \"free/reduced\", \"free/reduced\", \"free/reduced\", \"free/reduced\", \"free/reduced\", \"free/reduced\", \"free/reduced\", \"free/reduced\", \"free/reduced\", \"free/reduced\", \"free/reduced\", \"free/reduced\", \"free/reduced\", \"free/reduced\", \"free/reduced\", \"free/reduced\", \"free/reduced\", \"free/reduced\", \"free/reduced\", \"free/reduced\", \"free/reduced\", \"free/reduced\", \"free/reduced\", \"free/reduced\", \"free/reduced\", \"free/reduced\", \"free/reduced\", \"free/reduced\", \"free/reduced\", \"free/reduced\", \"free/reduced\", \"free/reduced\", \"free/reduced\", \"free/reduced\", \"free/reduced\", \"free/reduced\", \"free/reduced\", \"free/reduced\", \"free/reduced\", \"free/reduced\", \"free/reduced\", \"free/reduced\", \"free/reduced\", \"free/reduced\", \"free/reduced\", \"free/reduced\", \"free/reduced\", \"free/reduced\", \"free/reduced\", \"free/reduced\", \"free/reduced\", \"free/reduced\", \"free/reduced\", \"free/reduced\", \"free/reduced\", \"free/reduced\", \"free/reduced\", \"free/reduced\", \"free/reduced\", \"free/reduced\", \"free/reduced\", \"free/reduced\", \"free/reduced\", \"free/reduced\", \"free/reduced\", \"free/reduced\", \"free/reduced\", \"free/reduced\", \"free/reduced\", \"free/reduced\", \"free/reduced\", \"free/reduced\", \"free/reduced\"], \"yaxis\": \"y2\"}],\n",
              "                        {\"barmode\": \"overlay\", \"hovermode\": \"closest\", \"legend\": {\"traceorder\": \"reversed\"}, \"template\": {\"data\": {\"bar\": [{\"error_x\": {\"color\": \"#2a3f5f\"}, \"error_y\": {\"color\": \"#2a3f5f\"}, \"marker\": {\"line\": {\"color\": \"#E5ECF6\", \"width\": 0.5}}, \"type\": \"bar\"}], \"barpolar\": [{\"marker\": {\"line\": {\"color\": \"#E5ECF6\", \"width\": 0.5}}, \"type\": \"barpolar\"}], \"carpet\": [{\"aaxis\": {\"endlinecolor\": \"#2a3f5f\", \"gridcolor\": \"white\", \"linecolor\": \"white\", \"minorgridcolor\": \"white\", \"startlinecolor\": \"#2a3f5f\"}, \"baxis\": {\"endlinecolor\": \"#2a3f5f\", \"gridcolor\": \"white\", \"linecolor\": \"white\", \"minorgridcolor\": \"white\", \"startlinecolor\": \"#2a3f5f\"}, \"type\": \"carpet\"}], \"choropleth\": [{\"colorbar\": {\"outlinewidth\": 0, \"ticks\": \"\"}, \"type\": \"choropleth\"}], \"contour\": [{\"colorbar\": {\"outlinewidth\": 0, \"ticks\": \"\"}, \"colorscale\": [[0.0, \"#0d0887\"], [0.1111111111111111, \"#46039f\"], [0.2222222222222222, \"#7201a8\"], [0.3333333333333333, \"#9c179e\"], [0.4444444444444444, \"#bd3786\"], [0.5555555555555556, \"#d8576b\"], [0.6666666666666666, \"#ed7953\"], [0.7777777777777778, \"#fb9f3a\"], [0.8888888888888888, \"#fdca26\"], [1.0, \"#f0f921\"]], \"type\": \"contour\"}], \"contourcarpet\": [{\"colorbar\": {\"outlinewidth\": 0, \"ticks\": \"\"}, \"type\": \"contourcarpet\"}], \"heatmap\": [{\"colorbar\": {\"outlinewidth\": 0, \"ticks\": \"\"}, \"colorscale\": [[0.0, \"#0d0887\"], [0.1111111111111111, \"#46039f\"], [0.2222222222222222, \"#7201a8\"], [0.3333333333333333, \"#9c179e\"], [0.4444444444444444, \"#bd3786\"], [0.5555555555555556, \"#d8576b\"], [0.6666666666666666, \"#ed7953\"], [0.7777777777777778, \"#fb9f3a\"], [0.8888888888888888, \"#fdca26\"], [1.0, \"#f0f921\"]], \"type\": \"heatmap\"}], \"heatmapgl\": [{\"colorbar\": {\"outlinewidth\": 0, \"ticks\": \"\"}, \"colorscale\": [[0.0, \"#0d0887\"], [0.1111111111111111, \"#46039f\"], [0.2222222222222222, \"#7201a8\"], [0.3333333333333333, \"#9c179e\"], [0.4444444444444444, \"#bd3786\"], [0.5555555555555556, \"#d8576b\"], [0.6666666666666666, \"#ed7953\"], [0.7777777777777778, \"#fb9f3a\"], [0.8888888888888888, \"#fdca26\"], [1.0, \"#f0f921\"]], \"type\": \"heatmapgl\"}], \"histogram\": [{\"marker\": {\"colorbar\": {\"outlinewidth\": 0, \"ticks\": \"\"}}, \"type\": \"histogram\"}], \"histogram2d\": [{\"colorbar\": {\"outlinewidth\": 0, \"ticks\": \"\"}, \"colorscale\": [[0.0, \"#0d0887\"], [0.1111111111111111, \"#46039f\"], [0.2222222222222222, \"#7201a8\"], [0.3333333333333333, \"#9c179e\"], [0.4444444444444444, \"#bd3786\"], [0.5555555555555556, \"#d8576b\"], [0.6666666666666666, \"#ed7953\"], [0.7777777777777778, \"#fb9f3a\"], [0.8888888888888888, \"#fdca26\"], [1.0, \"#f0f921\"]], \"type\": \"histogram2d\"}], \"histogram2dcontour\": [{\"colorbar\": {\"outlinewidth\": 0, \"ticks\": \"\"}, \"colorscale\": [[0.0, \"#0d0887\"], [0.1111111111111111, \"#46039f\"], [0.2222222222222222, \"#7201a8\"], [0.3333333333333333, \"#9c179e\"], [0.4444444444444444, \"#bd3786\"], [0.5555555555555556, \"#d8576b\"], [0.6666666666666666, \"#ed7953\"], [0.7777777777777778, \"#fb9f3a\"], [0.8888888888888888, \"#fdca26\"], [1.0, \"#f0f921\"]], \"type\": \"histogram2dcontour\"}], \"mesh3d\": [{\"colorbar\": {\"outlinewidth\": 0, \"ticks\": \"\"}, \"type\": \"mesh3d\"}], \"parcoords\": [{\"line\": {\"colorbar\": {\"outlinewidth\": 0, \"ticks\": \"\"}}, \"type\": \"parcoords\"}], \"pie\": [{\"automargin\": true, \"type\": \"pie\"}], \"scatter\": [{\"marker\": {\"colorbar\": {\"outlinewidth\": 0, \"ticks\": \"\"}}, \"type\": \"scatter\"}], \"scatter3d\": [{\"line\": {\"colorbar\": {\"outlinewidth\": 0, \"ticks\": \"\"}}, \"marker\": {\"colorbar\": {\"outlinewidth\": 0, \"ticks\": \"\"}}, \"type\": \"scatter3d\"}], \"scattercarpet\": [{\"marker\": {\"colorbar\": {\"outlinewidth\": 0, \"ticks\": \"\"}}, \"type\": \"scattercarpet\"}], \"scattergeo\": [{\"marker\": {\"colorbar\": {\"outlinewidth\": 0, \"ticks\": \"\"}}, \"type\": \"scattergeo\"}], \"scattergl\": [{\"marker\": {\"colorbar\": {\"outlinewidth\": 0, \"ticks\": \"\"}}, \"type\": \"scattergl\"}], \"scattermapbox\": [{\"marker\": {\"colorbar\": {\"outlinewidth\": 0, \"ticks\": \"\"}}, \"type\": \"scattermapbox\"}], \"scatterpolar\": [{\"marker\": {\"colorbar\": {\"outlinewidth\": 0, \"ticks\": \"\"}}, \"type\": \"scatterpolar\"}], \"scatterpolargl\": [{\"marker\": {\"colorbar\": {\"outlinewidth\": 0, \"ticks\": \"\"}}, \"type\": \"scatterpolargl\"}], \"scatterternary\": [{\"marker\": {\"colorbar\": {\"outlinewidth\": 0, \"ticks\": \"\"}}, \"type\": \"scatterternary\"}], \"surface\": [{\"colorbar\": {\"outlinewidth\": 0, \"ticks\": \"\"}, \"colorscale\": [[0.0, \"#0d0887\"], [0.1111111111111111, \"#46039f\"], [0.2222222222222222, \"#7201a8\"], [0.3333333333333333, \"#9c179e\"], [0.4444444444444444, \"#bd3786\"], [0.5555555555555556, \"#d8576b\"], [0.6666666666666666, \"#ed7953\"], [0.7777777777777778, \"#fb9f3a\"], [0.8888888888888888, \"#fdca26\"], [1.0, \"#f0f921\"]], \"type\": \"surface\"}], \"table\": [{\"cells\": {\"fill\": {\"color\": \"#EBF0F8\"}, \"line\": {\"color\": \"white\"}}, \"header\": {\"fill\": {\"color\": \"#C8D4E3\"}, \"line\": {\"color\": \"white\"}}, \"type\": \"table\"}]}, \"layout\": {\"annotationdefaults\": {\"arrowcolor\": \"#2a3f5f\", \"arrowhead\": 0, \"arrowwidth\": 1}, \"coloraxis\": {\"colorbar\": {\"outlinewidth\": 0, \"ticks\": \"\"}}, \"colorscale\": {\"diverging\": [[0, \"#8e0152\"], [0.1, \"#c51b7d\"], [0.2, \"#de77ae\"], [0.3, \"#f1b6da\"], [0.4, \"#fde0ef\"], [0.5, \"#f7f7f7\"], [0.6, \"#e6f5d0\"], [0.7, \"#b8e186\"], [0.8, \"#7fbc41\"], [0.9, \"#4d9221\"], [1, \"#276419\"]], \"sequential\": [[0.0, \"#0d0887\"], [0.1111111111111111, \"#46039f\"], [0.2222222222222222, \"#7201a8\"], [0.3333333333333333, \"#9c179e\"], [0.4444444444444444, \"#bd3786\"], [0.5555555555555556, \"#d8576b\"], [0.6666666666666666, \"#ed7953\"], [0.7777777777777778, \"#fb9f3a\"], [0.8888888888888888, \"#fdca26\"], [1.0, \"#f0f921\"]], \"sequentialminus\": [[0.0, \"#0d0887\"], [0.1111111111111111, \"#46039f\"], [0.2222222222222222, \"#7201a8\"], [0.3333333333333333, \"#9c179e\"], [0.4444444444444444, \"#bd3786\"], [0.5555555555555556, \"#d8576b\"], [0.6666666666666666, \"#ed7953\"], [0.7777777777777778, \"#fb9f3a\"], [0.8888888888888888, \"#fdca26\"], [1.0, \"#f0f921\"]]}, \"colorway\": [\"#636efa\", \"#EF553B\", \"#00cc96\", \"#ab63fa\", \"#FFA15A\", \"#19d3f3\", \"#FF6692\", \"#B6E880\", \"#FF97FF\", \"#FECB52\"], \"font\": {\"color\": \"#2a3f5f\"}, \"geo\": {\"bgcolor\": \"white\", \"lakecolor\": \"white\", \"landcolor\": \"#E5ECF6\", \"showlakes\": true, \"showland\": true, \"subunitcolor\": \"white\"}, \"hoverlabel\": {\"align\": \"left\"}, \"hovermode\": \"closest\", \"mapbox\": {\"style\": \"light\"}, \"paper_bgcolor\": \"white\", \"plot_bgcolor\": \"#E5ECF6\", \"polar\": {\"angularaxis\": {\"gridcolor\": \"white\", \"linecolor\": \"white\", \"ticks\": \"\"}, \"bgcolor\": \"#E5ECF6\", \"radialaxis\": {\"gridcolor\": \"white\", \"linecolor\": \"white\", \"ticks\": \"\"}}, \"scene\": {\"xaxis\": {\"backgroundcolor\": \"#E5ECF6\", \"gridcolor\": \"white\", \"gridwidth\": 2, \"linecolor\": \"white\", \"showbackground\": true, \"ticks\": \"\", \"zerolinecolor\": \"white\"}, \"yaxis\": {\"backgroundcolor\": \"#E5ECF6\", \"gridcolor\": \"white\", \"gridwidth\": 2, \"linecolor\": \"white\", \"showbackground\": true, \"ticks\": \"\", \"zerolinecolor\": \"white\"}, \"zaxis\": {\"backgroundcolor\": \"#E5ECF6\", \"gridcolor\": \"white\", \"gridwidth\": 2, \"linecolor\": \"white\", \"showbackground\": true, \"ticks\": \"\", \"zerolinecolor\": \"white\"}}, \"shapedefaults\": {\"line\": {\"color\": \"#2a3f5f\"}}, \"ternary\": {\"aaxis\": {\"gridcolor\": \"white\", \"linecolor\": \"white\", \"ticks\": \"\"}, \"baxis\": {\"gridcolor\": \"white\", \"linecolor\": \"white\", \"ticks\": \"\"}, \"bgcolor\": \"#E5ECF6\", \"caxis\": {\"gridcolor\": \"white\", \"linecolor\": \"white\", \"ticks\": \"\"}}, \"title\": {\"x\": 0.05}, \"xaxis\": {\"automargin\": true, \"gridcolor\": \"white\", \"linecolor\": \"white\", \"ticks\": \"\", \"title\": {\"standoff\": 15}, \"zerolinecolor\": \"white\", \"zerolinewidth\": 2}, \"yaxis\": {\"automargin\": true, \"gridcolor\": \"white\", \"linecolor\": \"white\", \"ticks\": \"\", \"title\": {\"standoff\": 15}, \"zerolinecolor\": \"white\", \"zerolinewidth\": 2}}}, \"xaxis\": {\"anchor\": \"y2\", \"domain\": [0.0, 1.0], \"zeroline\": false}, \"yaxis\": {\"anchor\": \"free\", \"domain\": [0.35, 1], \"position\": 0.0}, \"yaxis2\": {\"anchor\": \"x\", \"domain\": [0, 0.25], \"dtick\": 1, \"showticklabels\": false}},\n",
              "                        {\"responsive\": true}\n",
              "                    ).then(function(){\n",
              "                            \n",
              "var gd = document.getElementById('f1579f15-7b56-465c-8639-d86361962458');\n",
              "var x = new MutationObserver(function (mutations, observer) {{\n",
              "        var display = window.getComputedStyle(gd).display;\n",
              "        if (!display || display === 'none') {{\n",
              "            console.log([gd, 'removed!']);\n",
              "            Plotly.purge(gd);\n",
              "            observer.disconnect();\n",
              "        }}\n",
              "}});\n",
              "\n",
              "// Listen for the removal of the full notebook cells\n",
              "var notebookContainer = gd.closest('#notebook-container');\n",
              "if (notebookContainer) {{\n",
              "    x.observe(notebookContainer, {childList: true});\n",
              "}}\n",
              "\n",
              "// Listen for the clearing of the current output cell\n",
              "var outputEl = gd.closest('.output');\n",
              "if (outputEl) {{\n",
              "    x.observe(outputEl, {childList: true});\n",
              "}}\n",
              "\n",
              "                        })\n",
              "                };\n",
              "                \n",
              "            </script>\n",
              "        </div>\n",
              "</body>\n",
              "</html>"
            ]
          },
          "metadata": {}
        }
      ]
    },
    {
      "cell_type": "markdown",
      "metadata": {
        "id": "qzlz3vuydter"
      },
      "source": [
        "En esta visualización se observa como distribuye el promedio general de los alumnos, diferenciando por tipo de almuerzo."
      ]
    },
    {
      "cell_type": "markdown",
      "metadata": {
        "id": "Rg4ZMq8ezAH6"
      },
      "source": [
        "# Conclusión\n",
        "Eso ha sido todo para el lab de hoy, recuerden que el laboratorio tiene un plazo de entrega de una semana y que **los días de atraso no se pueden utilizar para entregas de lab** solo para tareas. Cualquier duda del laboratorio, no duden en contactarnos por mail o U-cursos.\n",
        "\n",
        "<p align=\"center\">\n",
        "  <img src=\"https://media1.tenor.com/images/2f7df460196625edc45b8380d158e5ee/tenor.gif?itemid=16669403\">\n",
        "</p>"
      ]
    },
    {
      "cell_type": "markdown",
      "metadata": {
        "id": "wCL1lACBzAH7"
      },
      "source": [
        "<br>\n",
        "<center>\n",
        "<img src=\"https://i.kym-cdn.com/photos/images/original/001/194/195/b18.png\" width=100 height=50 />\n",
        "</center>\n",
        "<br>"
      ]
    }
  ]
}