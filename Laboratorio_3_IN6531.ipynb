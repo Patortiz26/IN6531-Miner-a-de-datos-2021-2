{
  "nbformat": 4,
  "nbformat_minor": 0,
  "metadata": {
    "colab": {
      "name": "Laboratorio_3_IN6531.ipynb",
      "provenance": [],
      "collapsed_sections": [
        "WPRshrh-OYxX"
      ],
      "include_colab_link": true
    },
    "kernelspec": {
      "name": "python3",
      "display_name": "Python 3"
    },
    "language_info": {
      "name": "python"
    }
  },
  "cells": [
    {
      "cell_type": "markdown",
      "metadata": {
        "id": "view-in-github",
        "colab_type": "text"
      },
      "source": [
        "<a href=\"https://colab.research.google.com/github/Patortiz26/IN6531-Miner-a-de-datos-2021-2/blob/main/Laboratorio_3_IN6531.ipynb\" target=\"_parent\"><img src=\"https://colab.research.google.com/assets/colab-badge.svg\" alt=\"Open In Colab\"/></a>"
      ]
    },
    {
      "cell_type": "markdown",
      "metadata": {
        "id": "5cI8k7Urqj6K"
      },
      "source": [
        "<center><h1>Laboratorio N°3</center></h1>\n",
        "\n",
        "<center><strong>IN6531: Introducción a la Minería de Datos - Primavera 2021</strong></center>"
      ]
    },
    {
      "cell_type": "markdown",
      "metadata": {
        "id": "S1L7VhMFsMcx"
      },
      "source": [
        "##Presentación"
      ]
    },
    {
      "cell_type": "markdown",
      "metadata": {
        "id": "Vp_vOHK7V97e"
      },
      "source": [
        "###Cuerpo Docente:\n",
        "\n",
        "- Profesor: Richard Weber\n",
        "- Auxiliar: Patricio Ortiz\n",
        "- Ayudantes: Felipe Arias, Walter Guzman, Esteban Rojas"
      ]
    },
    {
      "cell_type": "markdown",
      "metadata": {
        "id": "frf-PYzfy1-x"
      },
      "source": [
        "###Declaración de compromiso ético\n",
        "\n",
        "Nosotros **Integrante 1, Integrante 2 e Integrante 3** declaramos que realizamos de manera grupal los pasos de la presente actividad. También declaramos no incurrir en copia, ni compartir nuestras respuestas con otras personas ni con otros grupos. Por lo que, ratificamos que las respuestas son de nuestra propia confección y reflejan nuestro propio conocimiento."
      ]
    },
    {
      "cell_type": "markdown",
      "metadata": {
        "id": "9el9ERaKWW3i"
      },
      "source": [
        "### Reglas:\n",
        "\n",
        "- Fecha de entrega: 4 días desde la publicación, 3 días de atraso con 1 punto de descuento c/u. Pueden utilizar días bonus sin descuento.\n",
        "- **Grupos de máximo 3 personas**.\n",
        "- Para trabajar este laboratorio edite este documento `.ipynb` agregando sus respuestas donde corresponda.\n",
        "- Para cada pregunta, cuando corresponda, incluya el código fuente que utilizó para llegar a su respuesta.\n",
        "- El formato de entrega para esta actividad debe ser un archivo `.ipynb` el cual debe ser subido a U-Cursos. Basta con que uno de los integrantes haga la entrega. Si más integrantes hacen una entrega en U-Cursos, se revisará cualquiera de éstas.\n",
        "- Cualquier duda fuera del horario de clases al foro. Mensajes al equipo docente serán respondidos por este medio.\n",
        "- Prohibidas las copias. En caso de sospecha de copia se activaran los protocolos correspondientes.\n",
        "- Pueden usar cualquer material del curso que estimen conveniente.\n",
        "\n",
        "\n",
        "\n",
        "\n"
      ]
    },
    {
      "cell_type": "markdown",
      "metadata": {
        "id": "4708b9b7"
      },
      "source": [
        "### Objetivos del lab: \n",
        "\n",
        "- Demostrar suficiencia de conocimientos teoricos respecto a clustering.\n",
        "- Aplicar modelo K-means.\n",
        "- Aplicar modelos de clustering jerarquico.\n",
        "- Mostrar manejo de habilidades frente a un \"caso real\""
      ]
    },
    {
      "cell_type": "markdown",
      "metadata": {
        "id": "xqRnDvp1qj8o"
      },
      "source": [
        "##Preguntas teoricas (1.0 Puntos)"
      ]
    },
    {
      "cell_type": "markdown",
      "metadata": {
        "id": "LBgm6aWB4vuL"
      },
      "source": [
        "Cada pregunta \"pesa\" lo mismo en la asignación de nota, es decir, 2 décimas. Al final hay una pregunta bonus, esta sólo aplica sobre el puntaje de esta sección, i.e. si en esta sección tienen puntaje perfecto, el puntaje del bonus no se suma al puntaje de las preguntas prácticas."
      ]
    },
    {
      "cell_type": "markdown",
      "metadata": {
        "id": "4A8i-9_etU96"
      },
      "source": [
        "P1.- ¿Cual es la diferencia entre un modelo supervisado y un modelo no-supervisado?"
      ]
    },
    {
      "cell_type": "markdown",
      "metadata": {
        "id": "sWJFIQxP0eHn"
      },
      "source": [
        "**Respuesta:**\n"
      ]
    },
    {
      "cell_type": "markdown",
      "metadata": {
        "id": "KhK5JNeetU1a"
      },
      "source": [
        "P2.- ¿Cuales son los objetivos que persigue el clustering?"
      ]
    },
    {
      "cell_type": "markdown",
      "metadata": {
        "id": "bZGWVNg600zt"
      },
      "source": [
        "**Respuesta:**\n"
      ]
    },
    {
      "cell_type": "markdown",
      "metadata": {
        "id": "wiVo6oZWtU7J"
      },
      "source": [
        "P3.- Explique, en sus palabras, el funcionamiento de los algoritmos aglomerativos."
      ]
    },
    {
      "cell_type": "markdown",
      "metadata": {
        "id": "iiHQZj5C03Ss"
      },
      "source": [
        "**Respuesta:**\n"
      ]
    },
    {
      "cell_type": "markdown",
      "metadata": {
        "id": "4WLh1kwXtVAr"
      },
      "source": [
        "P4.- Describa una ventaja y desventaja de los siguientes métodos de clustering:\n",
        "* K-Means\n",
        "* Clustering Jerarquico Aglomerativo"
      ]
    },
    {
      "cell_type": "markdown",
      "metadata": {
        "id": "Iz2nQ5dY03m6"
      },
      "source": [
        "**Respuesta:**"
      ]
    },
    {
      "cell_type": "markdown",
      "metadata": {
        "id": "uGt2ralxtVCa"
      },
      "source": [
        "P5.- Explique el funcionamiento del \"método del codo\". "
      ]
    },
    {
      "cell_type": "markdown",
      "metadata": {
        "id": "K8FEpFSi04G8"
      },
      "source": [
        "**Respuesta:**"
      ]
    },
    {
      "cell_type": "markdown",
      "metadata": {
        "id": "WcfN8xmyqj-p"
      },
      "source": [
        "##Preguntas prácticas (5.0 Puntos)\n",
        "\n"
      ]
    },
    {
      "cell_type": "markdown",
      "metadata": {
        "id": "DYM7St5zqffh"
      },
      "source": [
        "###Problema \"dirigido\" (3.0 Puntos)"
      ]
    },
    {
      "cell_type": "markdown",
      "metadata": {
        "id": "_I2oUPy-2IYn"
      },
      "source": [
        "Para esta parte usaremos el dataset de cantidad de denuncias por 100 mil habitantes por tipo de delito desde el año 2001 al 2016 en Chile (Fuente: http://www.seguridadpublica.gov.cl/estadisticas/tasa-de-denuncias-y-detenciones/delitos-de-mayor-connotacion-social-series-de-datos-2001-2017/).\n",
        "\n",
        "Ejecute el siguiete código para cargar el dataset:"
      ]
    },
    {
      "cell_type": "code",
      "metadata": {
        "id": "_BVTmEUwDaWV",
        "colab": {
          "base_uri": "https://localhost:8080/",
          "height": 424
        },
        "outputId": "dc3bba52-e8bb-4b88-9b60-cecb9710ddbf"
      },
      "source": [
        "import pandas as pd\n",
        "import numpy as np\n",
        "\n",
        "dataframe = pd.read_csv(\"https://users.dcc.uchile.cl/~hsarmien/mineria/datasets/denuncias-2001-2016.txt\", sep=\" \")\n",
        "dataframe"
      ],
      "execution_count": null,
      "outputs": [
        {
          "output_type": "execute_result",
          "data": {
            "text/html": [
              "<div>\n",
              "<style scoped>\n",
              "    .dataframe tbody tr th:only-of-type {\n",
              "        vertical-align: middle;\n",
              "    }\n",
              "\n",
              "    .dataframe tbody tr th {\n",
              "        vertical-align: top;\n",
              "    }\n",
              "\n",
              "    .dataframe thead th {\n",
              "        text-align: right;\n",
              "    }\n",
              "</style>\n",
              "<table border=\"1\" class=\"dataframe\">\n",
              "  <thead>\n",
              "    <tr style=\"text-align: right;\">\n",
              "      <th></th>\n",
              "      <th>comuna</th>\n",
              "      <th>anio</th>\n",
              "      <th>homicidios</th>\n",
              "      <th>hurtos</th>\n",
              "      <th>robo_lugar</th>\n",
              "      <th>robo_sorpresa</th>\n",
              "      <th>robo_vehiculo</th>\n",
              "      <th>robo_violencia</th>\n",
              "      <th>violacion</th>\n",
              "    </tr>\n",
              "  </thead>\n",
              "  <tbody>\n",
              "    <tr>\n",
              "      <th>1</th>\n",
              "      <td>Arica</td>\n",
              "      <td>2001</td>\n",
              "      <td>1.6</td>\n",
              "      <td>370.3</td>\n",
              "      <td>NaN</td>\n",
              "      <td>9.5</td>\n",
              "      <td>NaN</td>\n",
              "      <td>107.2</td>\n",
              "      <td>16.4</td>\n",
              "    </tr>\n",
              "    <tr>\n",
              "      <th>2</th>\n",
              "      <td>Arica</td>\n",
              "      <td>2002</td>\n",
              "      <td>1.1</td>\n",
              "      <td>346.7</td>\n",
              "      <td>NaN</td>\n",
              "      <td>34.0</td>\n",
              "      <td>NaN</td>\n",
              "      <td>122.8</td>\n",
              "      <td>14.9</td>\n",
              "    </tr>\n",
              "    <tr>\n",
              "      <th>3</th>\n",
              "      <td>Arica</td>\n",
              "      <td>2003</td>\n",
              "      <td>1.6</td>\n",
              "      <td>460.1</td>\n",
              "      <td>464.4</td>\n",
              "      <td>52.8</td>\n",
              "      <td>172.2</td>\n",
              "      <td>196.2</td>\n",
              "      <td>15.5</td>\n",
              "    </tr>\n",
              "    <tr>\n",
              "      <th>4</th>\n",
              "      <td>Arica</td>\n",
              "      <td>2004</td>\n",
              "      <td>1.1</td>\n",
              "      <td>452.2</td>\n",
              "      <td>395.0</td>\n",
              "      <td>64.1</td>\n",
              "      <td>203.7</td>\n",
              "      <td>143.8</td>\n",
              "      <td>13.9</td>\n",
              "    </tr>\n",
              "    <tr>\n",
              "      <th>5</th>\n",
              "      <td>Arica</td>\n",
              "      <td>2005</td>\n",
              "      <td>0.0</td>\n",
              "      <td>421.8</td>\n",
              "      <td>287.8</td>\n",
              "      <td>58.4</td>\n",
              "      <td>144.2</td>\n",
              "      <td>144.7</td>\n",
              "      <td>7.5</td>\n",
              "    </tr>\n",
              "    <tr>\n",
              "      <th>...</th>\n",
              "      <td>...</td>\n",
              "      <td>...</td>\n",
              "      <td>...</td>\n",
              "      <td>...</td>\n",
              "      <td>...</td>\n",
              "      <td>...</td>\n",
              "      <td>...</td>\n",
              "      <td>...</td>\n",
              "      <td>...</td>\n",
              "    </tr>\n",
              "    <tr>\n",
              "      <th>5532</th>\n",
              "      <td>Peñaflor</td>\n",
              "      <td>2012</td>\n",
              "      <td>1.1</td>\n",
              "      <td>375.0</td>\n",
              "      <td>436.5</td>\n",
              "      <td>78.6</td>\n",
              "      <td>59.3</td>\n",
              "      <td>191.5</td>\n",
              "      <td>14.8</td>\n",
              "    </tr>\n",
              "    <tr>\n",
              "      <th>5533</th>\n",
              "      <td>Peñaflor</td>\n",
              "      <td>2013</td>\n",
              "      <td>0.0</td>\n",
              "      <td>370.0</td>\n",
              "      <td>408.1</td>\n",
              "      <td>107.6</td>\n",
              "      <td>77.4</td>\n",
              "      <td>213.0</td>\n",
              "      <td>14.6</td>\n",
              "    </tr>\n",
              "    <tr>\n",
              "      <th>5534</th>\n",
              "      <td>Peñaflor</td>\n",
              "      <td>2014</td>\n",
              "      <td>1.1</td>\n",
              "      <td>301.3</td>\n",
              "      <td>376.3</td>\n",
              "      <td>112.6</td>\n",
              "      <td>65.1</td>\n",
              "      <td>224.0</td>\n",
              "      <td>5.5</td>\n",
              "    </tr>\n",
              "    <tr>\n",
              "      <th>5535</th>\n",
              "      <td>Peñaflor</td>\n",
              "      <td>2015</td>\n",
              "      <td>0.0</td>\n",
              "      <td>321.6</td>\n",
              "      <td>334.7</td>\n",
              "      <td>111.9</td>\n",
              "      <td>73.9</td>\n",
              "      <td>199.9</td>\n",
              "      <td>7.6</td>\n",
              "    </tr>\n",
              "    <tr>\n",
              "      <th>5536</th>\n",
              "      <td>Peñaflor</td>\n",
              "      <td>2016</td>\n",
              "      <td>2.1</td>\n",
              "      <td>331.6</td>\n",
              "      <td>259.7</td>\n",
              "      <td>99.8</td>\n",
              "      <td>49.4</td>\n",
              "      <td>151.3</td>\n",
              "      <td>11.8</td>\n",
              "    </tr>\n",
              "  </tbody>\n",
              "</table>\n",
              "<p>5536 rows × 9 columns</p>\n",
              "</div>"
            ],
            "text/plain": [
              "        comuna  anio  homicidios  ...  robo_vehiculo  robo_violencia  violacion\n",
              "1        Arica  2001         1.6  ...            NaN           107.2       16.4\n",
              "2        Arica  2002         1.1  ...            NaN           122.8       14.9\n",
              "3        Arica  2003         1.6  ...          172.2           196.2       15.5\n",
              "4        Arica  2004         1.1  ...          203.7           143.8       13.9\n",
              "5        Arica  2005         0.0  ...          144.2           144.7        7.5\n",
              "...        ...   ...         ...  ...            ...             ...        ...\n",
              "5532  Peñaflor  2012         1.1  ...           59.3           191.5       14.8\n",
              "5533  Peñaflor  2013         0.0  ...           77.4           213.0       14.6\n",
              "5534  Peñaflor  2014         1.1  ...           65.1           224.0        5.5\n",
              "5535  Peñaflor  2015         0.0  ...           73.9           199.9        7.6\n",
              "5536  Peñaflor  2016         2.1  ...           49.4           151.3       11.8\n",
              "\n",
              "[5536 rows x 9 columns]"
            ]
          },
          "metadata": {},
          "execution_count": 1
        }
      ]
    },
    {
      "cell_type": "markdown",
      "metadata": {
        "id": "DvGlIei0D_v7"
      },
      "source": [
        "Se desea utilizar los datos del año 2006. A continuación ejecute una celda de código en la cual se filtre según esta fecha. Posteriormente elimine las columnas `anio` y `comuna`. Finalmente asigne el resultado a una variable llamada `X`\n",
        "\n",
        "<font size=\"-1\"><b>Puntaje: 0.1 Puntos</b></font> "
      ]
    },
    {
      "cell_type": "code",
      "metadata": {
        "id": "ZCYJMIBsD_Tj"
      },
      "source": [
        "# Respuesta"
      ],
      "execution_count": null,
      "outputs": []
    },
    {
      "cell_type": "markdown",
      "metadata": {
        "id": "7TK8ycw1ntw6"
      },
      "source": [
        "**Respuesta esperada**"
      ]
    },
    {
      "cell_type": "code",
      "metadata": {
        "colab": {
          "base_uri": "https://localhost:8080/",
          "height": 424
        },
        "id": "Tjon8hhXnvlu",
        "outputId": "b45c57bd-5594-423a-e168-167adc510994"
      },
      "source": [
        "X"
      ],
      "execution_count": null,
      "outputs": [
        {
          "output_type": "execute_result",
          "data": {
            "text/html": [
              "<div>\n",
              "<style scoped>\n",
              "    .dataframe tbody tr th:only-of-type {\n",
              "        vertical-align: middle;\n",
              "    }\n",
              "\n",
              "    .dataframe tbody tr th {\n",
              "        vertical-align: top;\n",
              "    }\n",
              "\n",
              "    .dataframe thead th {\n",
              "        text-align: right;\n",
              "    }\n",
              "</style>\n",
              "<table border=\"1\" class=\"dataframe\">\n",
              "  <thead>\n",
              "    <tr style=\"text-align: right;\">\n",
              "      <th></th>\n",
              "      <th>homicidios</th>\n",
              "      <th>hurtos</th>\n",
              "      <th>robo_lugar</th>\n",
              "      <th>robo_sorpresa</th>\n",
              "      <th>robo_vehiculo</th>\n",
              "      <th>robo_violencia</th>\n",
              "      <th>violacion</th>\n",
              "    </tr>\n",
              "  </thead>\n",
              "  <tbody>\n",
              "    <tr>\n",
              "      <th>6</th>\n",
              "      <td>1.1</td>\n",
              "      <td>507.5</td>\n",
              "      <td>320.3</td>\n",
              "      <td>60.9</td>\n",
              "      <td>89.0</td>\n",
              "      <td>161.2</td>\n",
              "      <td>8.6</td>\n",
              "    </tr>\n",
              "    <tr>\n",
              "      <th>22</th>\n",
              "      <td>0.0</td>\n",
              "      <td>68.0</td>\n",
              "      <td>0.0</td>\n",
              "      <td>0.0</td>\n",
              "      <td>0.0</td>\n",
              "      <td>0.0</td>\n",
              "      <td>0.0</td>\n",
              "    </tr>\n",
              "    <tr>\n",
              "      <th>38</th>\n",
              "      <td>0.0</td>\n",
              "      <td>834.9</td>\n",
              "      <td>256.9</td>\n",
              "      <td>0.0</td>\n",
              "      <td>0.0</td>\n",
              "      <td>0.0</td>\n",
              "      <td>64.2</td>\n",
              "    </tr>\n",
              "    <tr>\n",
              "      <th>54</th>\n",
              "      <td>0.0</td>\n",
              "      <td>81.2</td>\n",
              "      <td>81.2</td>\n",
              "      <td>0.0</td>\n",
              "      <td>0.0</td>\n",
              "      <td>0.0</td>\n",
              "      <td>0.0</td>\n",
              "    </tr>\n",
              "    <tr>\n",
              "      <th>70</th>\n",
              "      <td>0.6</td>\n",
              "      <td>680.3</td>\n",
              "      <td>327.2</td>\n",
              "      <td>211.5</td>\n",
              "      <td>169.7</td>\n",
              "      <td>287.0</td>\n",
              "      <td>18.2</td>\n",
              "    </tr>\n",
              "    <tr>\n",
              "      <th>...</th>\n",
              "      <td>...</td>\n",
              "      <td>...</td>\n",
              "      <td>...</td>\n",
              "      <td>...</td>\n",
              "      <td>...</td>\n",
              "      <td>...</td>\n",
              "      <td>...</td>\n",
              "    </tr>\n",
              "    <tr>\n",
              "      <th>5462</th>\n",
              "      <td>2.8</td>\n",
              "      <td>359.0</td>\n",
              "      <td>451.3</td>\n",
              "      <td>44.0</td>\n",
              "      <td>27.0</td>\n",
              "      <td>293.8</td>\n",
              "      <td>5.7</td>\n",
              "    </tr>\n",
              "    <tr>\n",
              "      <th>5478</th>\n",
              "      <td>3.4</td>\n",
              "      <td>233.4</td>\n",
              "      <td>375.4</td>\n",
              "      <td>27.1</td>\n",
              "      <td>6.8</td>\n",
              "      <td>60.9</td>\n",
              "      <td>6.8</td>\n",
              "    </tr>\n",
              "    <tr>\n",
              "      <th>5494</th>\n",
              "      <td>3.4</td>\n",
              "      <td>332.7</td>\n",
              "      <td>492.3</td>\n",
              "      <td>23.8</td>\n",
              "      <td>20.4</td>\n",
              "      <td>71.3</td>\n",
              "      <td>3.4</td>\n",
              "    </tr>\n",
              "    <tr>\n",
              "      <th>5510</th>\n",
              "      <td>0.0</td>\n",
              "      <td>263.6</td>\n",
              "      <td>529.3</td>\n",
              "      <td>57.1</td>\n",
              "      <td>22.0</td>\n",
              "      <td>235.0</td>\n",
              "      <td>11.0</td>\n",
              "    </tr>\n",
              "    <tr>\n",
              "      <th>5526</th>\n",
              "      <td>0.0</td>\n",
              "      <td>344.3</td>\n",
              "      <td>558.5</td>\n",
              "      <td>88.0</td>\n",
              "      <td>26.8</td>\n",
              "      <td>232.1</td>\n",
              "      <td>3.8</td>\n",
              "    </tr>\n",
              "  </tbody>\n",
              "</table>\n",
              "<p>346 rows × 7 columns</p>\n",
              "</div>"
            ],
            "text/plain": [
              "      homicidios  hurtos  robo_lugar  ...  robo_vehiculo  robo_violencia  violacion\n",
              "6            1.1   507.5       320.3  ...           89.0           161.2        8.6\n",
              "22           0.0    68.0         0.0  ...            0.0             0.0        0.0\n",
              "38           0.0   834.9       256.9  ...            0.0             0.0       64.2\n",
              "54           0.0    81.2        81.2  ...            0.0             0.0        0.0\n",
              "70           0.6   680.3       327.2  ...          169.7           287.0       18.2\n",
              "...          ...     ...         ...  ...            ...             ...        ...\n",
              "5462         2.8   359.0       451.3  ...           27.0           293.8        5.7\n",
              "5478         3.4   233.4       375.4  ...            6.8            60.9        6.8\n",
              "5494         3.4   332.7       492.3  ...           20.4            71.3        3.4\n",
              "5510         0.0   263.6       529.3  ...           22.0           235.0       11.0\n",
              "5526         0.0   344.3       558.5  ...           26.8           232.1        3.8\n",
              "\n",
              "[346 rows x 7 columns]"
            ]
          },
          "metadata": {},
          "execution_count": 8
        }
      ]
    },
    {
      "cell_type": "markdown",
      "metadata": {
        "id": "eyuX5-IUkfqv"
      },
      "source": [
        "#### K-Means (1.4 Puntos)"
      ]
    },
    {
      "cell_type": "markdown",
      "metadata": {
        "id": "059XFn5p8IWs"
      },
      "source": [
        "1. Cuando usamos K-Means debemos definir previamente el número de clusters que queremos generar. Teniendo en cuenta estos datos, implemente un método que nos permita determinar cuántos clusters usar.\n",
        "<font size=\"-1\"><b>Puntaje: 0.5 Puntos</b></font> \n",
        "\n",
        "- Se recomienda \"customizar\" el gráfico para que \"se vea mas grande\"."
      ]
    },
    {
      "cell_type": "code",
      "metadata": {
        "id": "2ATS_WFf9p_I"
      },
      "source": [
        "from sklearn.cluster import KMeans\n",
        "import matplotlib.pyplot as plt #pueden usar plotly si así lo desean.\n",
        "\n",
        "# Respuesta"
      ],
      "execution_count": null,
      "outputs": []
    },
    {
      "cell_type": "markdown",
      "metadata": {
        "id": "rufj_NTakxcI"
      },
      "source": [
        "2. ¿Cuántos clusters propone usar para este dataset? Justifique su elección. <font size=\"-1\"><b>Puntaje: 0.3 Puntos</b></font> "
      ]
    },
    {
      "cell_type": "markdown",
      "metadata": {
        "id": "8qRakgJmlTz3"
      },
      "source": [
        "**Respuesta:**\n",
        "\n"
      ]
    },
    {
      "cell_type": "markdown",
      "metadata": {
        "id": "T06C-LAAlW-v"
      },
      "source": [
        "3. Entrene un modelo de K-Means usando el número de clusters que eligió en la pregunta anterior e imprima las asignaciones de clusters para cada dato.\n",
        "<font size=\"-1\"><b>Puntaje: 0.2 Puntos</b></font> "
      ]
    },
    {
      "cell_type": "code",
      "metadata": {
        "id": "FvgWW65wlSDJ"
      },
      "source": [
        "# Respuesta"
      ],
      "execution_count": null,
      "outputs": []
    },
    {
      "cell_type": "markdown",
      "metadata": {
        "id": "67ZfQ9tYmgxR"
      },
      "source": [
        "4. Ejecute el siguiente código que bajará la dimensionalidad de los datos de 7 a 2. Grafique los datos transformados y pinte los gráficos para tener una representación visual de los clusters. <font size=\"-1\"><b>Puntaje: 0.4 Puntos</b></font> "
      ]
    },
    {
      "cell_type": "code",
      "metadata": {
        "id": "sddKK5Swmffo"
      },
      "source": [
        "from sklearn.decomposition import PCA\n",
        "\n",
        "new_X = PCA(n_components=2, random_state=0).fit_transform(X)"
      ],
      "execution_count": null,
      "outputs": []
    },
    {
      "cell_type": "code",
      "metadata": {
        "colab": {
          "base_uri": "https://localhost:8080/",
          "height": 282
        },
        "id": "cubIYv-unOHa",
        "outputId": "3df6ae1f-bad5-4a1e-c19d-6d2d41fbde04"
      },
      "source": [
        "plt.scatter(new_X[:, 0], new_X[:, 1])"
      ],
      "execution_count": null,
      "outputs": [
        {
          "output_type": "execute_result",
          "data": {
            "text/plain": [
              "<matplotlib.collections.PathCollection at 0x7f9eeae7dd90>"
            ]
          },
          "metadata": {},
          "execution_count": 10
        },
        {
          "output_type": "display_data",
          "data": {
            "image/png": "[encoded data removed]",
            "text/plain": [
              "<Figure size 432x288 with 1 Axes>"
            ]
          },
          "metadata": {
            "needs_background": "light"
          }
        }
      ]
    },
    {
      "cell_type": "code",
      "metadata": {
        "id": "r402rezvnQzA"
      },
      "source": [
        "#Respuesta"
      ],
      "execution_count": null,
      "outputs": []
    },
    {
      "cell_type": "markdown",
      "metadata": {
        "id": "ok1Timdnn_rw"
      },
      "source": [
        "#### Clustering Jerárquico Aglomerativo (1.5 Puntos)"
      ]
    },
    {
      "cell_type": "markdown",
      "metadata": {
        "id": "8z6u6MyXnCM6"
      },
      "source": [
        "1. Usando los datos anteriores, ejecute cada uno de los 4 métodos de clustering jerárquico: complete, single, average y ward, y visualice los dendrogramas formados. Adjunte el código necesario. No necesita generar los 4 dendrogramas en el mismo gráfico, pueden ser distintos.\n",
        "<font size=\"-1\"><b>Puntaje: 0.2 Puntos</b></font> "
      ]
    },
    {
      "cell_type": "code",
      "metadata": {
        "id": "-fB9mrVxoOzr"
      },
      "source": [
        "from scipy.cluster.hierarchy import dendrogram, linkage\n",
        "from sklearn.cluster import AgglomerativeClustering\n",
        "\n",
        "# Respuesta"
      ],
      "execution_count": null,
      "outputs": []
    },
    {
      "cell_type": "code",
      "metadata": {
        "id": "xXI6yM2hoUHy"
      },
      "source": [
        "#Grafico 1"
      ],
      "execution_count": null,
      "outputs": []
    },
    {
      "cell_type": "code",
      "metadata": {
        "id": "4zufMJw-oWtQ"
      },
      "source": [
        "#Grafico 2"
      ],
      "execution_count": null,
      "outputs": []
    },
    {
      "cell_type": "code",
      "metadata": {
        "id": "O42KjERUoYKa"
      },
      "source": [
        "#Grafico 3"
      ],
      "execution_count": null,
      "outputs": []
    },
    {
      "cell_type": "code",
      "metadata": {
        "id": "rkBTKNPyoZQ4"
      },
      "source": [
        "#Grafico 4"
      ],
      "execution_count": null,
      "outputs": []
    },
    {
      "cell_type": "markdown",
      "metadata": {
        "id": "_QxZkaWknCqm"
      },
      "source": [
        "2. Fijándose en el método `single`, a qué altura recomendaría cortar el árbol? <font size=\"-1\"><b>Puntaje: 0.2 Puntos</b></font> "
      ]
    },
    {
      "cell_type": "markdown",
      "metadata": {
        "id": "ZVBRl_1zojg_"
      },
      "source": [
        "**Respuesta:**\n",
        "\n"
      ]
    },
    {
      "cell_type": "markdown",
      "metadata": {
        "id": "j27s1GtbopU0"
      },
      "source": [
        "3. Ahora si miramos el método `ward`, cuántos clusters propone usar? A qué altura se debe cortar el arbol para obtener esa cantidad de clusters? <font size=\"-1\"><b>Puntaje: 0.2 Puntos</b></font> "
      ]
    },
    {
      "cell_type": "markdown",
      "metadata": {
        "id": "KBexCvnzoxsD"
      },
      "source": [
        "**Respuesta:**"
      ]
    },
    {
      "cell_type": "markdown",
      "metadata": {
        "id": "zEB4HtB5o0Jw"
      },
      "source": [
        "4. Implemente el código para asignar clusters a los datos siguiendo lo que usted propuso en la pregunta **2.** y **3.** y liste la asignación de clusters para cada punto del dataset para `single` y `ward`. Cuántos clusters se generan para el método `single` cortando a la altura que propuso en la pregunta **2.**? <font size=\"-1\"><b>Puntaje: 0.4 Puntos</b></font> "
      ]
    },
    {
      "cell_type": "code",
      "metadata": {
        "id": "a60ojsk4pVFI"
      },
      "source": [
        "#Respuesta"
      ],
      "execution_count": null,
      "outputs": []
    },
    {
      "cell_type": "markdown",
      "metadata": {
        "id": "u54YBGYfnC4P"
      },
      "source": [
        "5. Cuántos datos quedan asignados a cada cluster? Agregue el código necesario para objener esta información para los métodos `single` y `ward`. <font size=\"-1\"><b>Puntaje: 0.3 Puntos</b></font> "
      ]
    },
    {
      "cell_type": "code",
      "metadata": {
        "id": "tQavlT0rpaZI"
      },
      "source": [
        "#Respuesta"
      ],
      "execution_count": null,
      "outputs": []
    },
    {
      "cell_type": "markdown",
      "metadata": {
        "id": "qsjwyvAunDEO"
      },
      "source": [
        "6. Usando el dataset con dimensiones reducidas generado en la parte anterior: `new_X`, grafique los datos y pinte los datos con su asignacion de cluster para los métodos `single` y `ward` para tener una representación visual de los clusters. <font size=\"-1\"><b>Puntaje: 0.2 Puntos</b></font> "
      ]
    },
    {
      "cell_type": "code",
      "metadata": {
        "id": "0E9_f-TRpolB"
      },
      "source": [
        "#Respuesta"
      ],
      "execution_count": null,
      "outputs": []
    },
    {
      "cell_type": "markdown",
      "metadata": {
        "id": "WPRshrh-OYxX"
      },
      "source": [
        "### Problema \"libre\" (2.0 Puntos)"
      ]
    },
    {
      "cell_type": "markdown",
      "metadata": {
        "id": "_8qKN5Uo-taX"
      },
      "source": [
        "En esta sección evaluaremos su manejo a la hora de enfrentar un problema \"real\", para ello se les entrega la base de datos \"bankloan.csv\" para la cual deben realizar 2 etapas fundamentales (+1 de bonus):\n",
        "1. Analisis Exploratorio de Datos: Realice un análisis exploratorio de los datos (cantidad de registros, medias, medianas, missing values, etc) y muestre al menos 2 gráficos de variables que considere relevantes para el análisis.\n",
        "\n",
        "**Nota**: Si solo muestra resultados y no realiza un análisis relevante de estos se dará **0 ptos**.\n",
        "\n",
        "2. Limpieza de Datos: Cree una base de datos consistente para la utilización de algoritmos de clustering. Esto significa realizar `tratamiento de valores pérdidos, tratamiento de valores anómalos, transformaciones y selección de características`. Debe claramente expresar las **features** que utilizará para hacer clustering, las cuales deben ser **al menos 3**. **Justifique** las variables escogidas apoyándose en el análisis exploratorio del punto anterior.\n",
        "\n",
        "**Nota**: Debe justificar cada acción realizada (o no realizada, ej: decidí no imputar por x razón) sobre los datos, sino las justifica se dara **0 ptos**.\n",
        "\n",
        "3. Aplicación de modelos de clustering: Usando la base anterior, aplique los dos modelos vistos en este laboratorio, usando el siguiente flujo de trabajo:\n",
        "\n",
        "      a. Identifique el número de clusters óptimo para K-Means.\n",
        "\n",
        "      b. Ejecute el código para segmentar sus datos según el número de clusters identificados.\n",
        "\n",
        "      c. Realice un análisis descriptivo de dichos clusters. (se recomienda utilizar visualizaciones)\n",
        "\n",
        "      d. Realice clustering jerarquico \"heredando\" el número de clusters anterior.\n",
        "\n",
        "      e. Repita el analisis descriptivo para estos clusters nuevos:\n",
        "\n",
        "4. **(BONUS)** Interpretación de resultados: Interprete los resultados obtenidos en el punto 3. Comentando cosas como: ¿Que modelo era idoneo de utilizar? y ¿Que clusters arroja el modelo? (i.e. ¿como son los clientes de cada segmento?)\n"
      ]
    },
    {
      "cell_type": "markdown",
      "metadata": {
        "id": "KpC4rqqD_qC9"
      },
      "source": [
        "####Contexto"
      ]
    },
    {
      "cell_type": "markdown",
      "metadata": {
        "id": "iMpeZv0R-OsO"
      },
      "source": [
        "Una institución financiera tradicional le interesa caracterizar a los clientes que han contraído un crédito con el objetivo de ofrecer productos específicos a cada grupo. Para lo anterior cuenta con los siguientes datos:\n",
        "\n",
        "|**Variable**|**Descripción**|\n",
        "|--|--|\n",
        "|`CUSTOMER_ID`|identificador único del cliente|\n",
        "|`AGE`|edad del cliente al contraer el crédito|\n",
        "|`EDUCATION`|nivel educacional  que declara el cliente al momento de solicitar el crédito|\n",
        "|`NATIONALITY`|nacionalidad del cliente|\n",
        "|`YRS_WORK`|número de años trabajando e la empresa que declara el cliente al momento de solicitar el crédito|\n",
        "|`YRS_ADDRESS`|número de años viviendo en la misma morada al momento de solicitar el crédito|\n",
        "|`INCOME`|ingreso en miles de dólares americanos|\n",
        "|`DEBT_INCOME`|deuda en consumo en miles de dólares americanos|\n",
        "|`CREDIT_DEBT`| deuda en tarjetas de credito en miles de dólares americanos|\n",
        "|`OTHER_DEBT`|otras deudas en miles de dólares americanos|"
      ]
    },
    {
      "cell_type": "markdown",
      "metadata": {
        "id": "e76zUxhMsjO3"
      },
      "source": [
        "#### Exploración del dataset (0.5 Puntos)"
      ]
    },
    {
      "cell_type": "code",
      "metadata": {
        "id": "Jl2WW3Xi_96R"
      },
      "source": [
        "#Respuesta"
      ],
      "execution_count": null,
      "outputs": []
    },
    {
      "cell_type": "markdown",
      "metadata": {
        "id": "OU9TWxJWBtXj"
      },
      "source": [
        "####Limpeza de datos (0.5 Puntos)"
      ]
    },
    {
      "cell_type": "code",
      "metadata": {
        "id": "J8G4nqdxBsni"
      },
      "source": [
        "#Respuesta"
      ],
      "execution_count": null,
      "outputs": []
    },
    {
      "cell_type": "markdown",
      "metadata": {
        "id": "zrgyo-owsr8Q"
      },
      "source": [
        "#### Aplicar modelos de clustering (1.0 Puntos)"
      ]
    },
    {
      "cell_type": "code",
      "metadata": {
        "id": "olBQ_qqdBiAi"
      },
      "source": [
        "#modelo 1"
      ],
      "execution_count": null,
      "outputs": []
    },
    {
      "cell_type": "code",
      "metadata": {
        "id": "2LHEXwCXCd2F"
      },
      "source": [
        "#modelo 2"
      ],
      "execution_count": null,
      "outputs": []
    },
    {
      "cell_type": "markdown",
      "metadata": {
        "id": "99rIjo-FssAf"
      },
      "source": [
        "**Bonus**\n",
        "#### Interpretar resultados (1.0 Puntos)"
      ]
    },
    {
      "cell_type": "markdown",
      "metadata": {
        "id": "dL04U-GdCsSr"
      },
      "source": [
        "**Respuesta:**"
      ]
    }
  ]
}