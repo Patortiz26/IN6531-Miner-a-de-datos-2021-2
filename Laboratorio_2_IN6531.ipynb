{
  "nbformat": 4,
  "nbformat_minor": 0,
  "metadata": {
    "colab": {
      "name": "Laboratorio 2 IN6531.ipynb",
      "provenance": [],
      "collapsed_sections": [
        "xqRnDvp1qj8o",
        "qlOpWgce2rbj",
        "NPTN35LpGi45",
        "WPRshrh-OYxX"
      ],
      "mount_file_id": "1jlK9k8Gz-VPCh-i_HLUfrIWB9ClC3Mub",
      "authorship_tag": "ABX9TyMd8Z0fPzM74Sir3MMhFmWJ",
      "include_colab_link": true
    },
    "kernelspec": {
      "name": "python3",
      "display_name": "Python 3"
    },
    "language_info": {
      "name": "python"
    }
  },
  "cells": [
    {
      "cell_type": "markdown",
      "metadata": {
        "id": "view-in-github",
        "colab_type": "text"
      },
      "source": [
        "<a href=\"https://colab.research.google.com/github/Patortiz26/IN6531-Miner-a-de-datos-2021-2/blob/main/Laboratorio_2_IN6531.ipynb\" target=\"_parent\"><img src=\"https://colab.research.google.com/assets/colab-badge.svg\" alt=\"Open In Colab\"/></a>"
      ]
    },
    {
      "cell_type": "markdown",
      "metadata": {
        "id": "5cI8k7Urqj6K"
      },
      "source": [
        "<center><h1>Laboratorio N°2</center></h1>\n",
        "\n",
        "<center><strong>IN6531: Introducción a la Minería de Datos - Primavera 2021</strong></center>"
      ]
    },
    {
      "cell_type": "markdown",
      "metadata": {
        "id": "S1L7VhMFsMcx"
      },
      "source": [
        "##Presentación"
      ]
    },
    {
      "cell_type": "markdown",
      "metadata": {
        "id": "Vp_vOHK7V97e"
      },
      "source": [
        "###Cuerpo Docente:\n",
        "\n",
        "- Profesor: Richard Weber\n",
        "- Auxiliar: Patricio Ortiz\n",
        "- Ayudantes: Felipe Arias, Walter Guzman, Esteban Rojas"
      ]
    },
    {
      "cell_type": "markdown",
      "metadata": {
        "id": "frf-PYzfy1-x"
      },
      "source": [
        "###Declaración de compromiso ético\n",
        "\n",
        "Nosotros **Integrante 1, Integrante 2 e Integrante 3** declaramos que realizamos de manera grupal los pasos de la presente actividad. También declaramos no incurrir en copia, ni compartir nuestras respuestas con otras personas ni con otros grupos. Por lo que, ratificamos que las respuestas son de nuestra propia confección y reflejan nuestro propio conocimiento."
      ]
    },
    {
      "cell_type": "markdown",
      "metadata": {
        "id": "9el9ERaKWW3i"
      },
      "source": [
        "### Reglas:\n",
        "\n",
        "- Fecha de entrega: 4 días desde la publicación, 3 días de atraso con 1 punto de descuento c/u. Pueden utilizar días bonus sin descuento.\n",
        "- **Grupos de máximo 3 personas**.\n",
        "- Para trabajar este laboratorio edite este documento `.ipynb` agregando sus respuestas donde corresponda.\n",
        "- Para cada pregunta, cuando corresponda, incluya el código fuente que utilizó para llegar a su respuesta.\n",
        "- El formato de entrega para esta actividad debe ser un archivo `.ipynb` el cual debe ser subido a U-Cursos. Basta con que uno de los integrantes haga la entrega. Si más integrantes hacen una entrega en U-Cursos, se revisará cualquiera de éstas.\n",
        "- Cualquier duda fuera del horario de clases al foro. Mensajes al equipo docente serán respondidos por este medio.\n",
        "- Prohibidas las copias. En caso de sospecha de copia se activaran los protocolos correspondientes.\n",
        "- Pueden usar cualquer material del curso que estimen conveniente.\n",
        "\n",
        "\n",
        "\n",
        "\n"
      ]
    },
    {
      "cell_type": "markdown",
      "metadata": {
        "id": "4708b9b7"
      },
      "source": [
        "### Objetivos del lab: \n",
        "\n",
        "\n",
        "- Exploración de variables.\n",
        "- Exploración visual de los datos.\n",
        "- Manejo de valores nulos.\n",
        "- Imputacion de datos.\n",
        "- Feature Selection"
      ]
    },
    {
      "cell_type": "markdown",
      "metadata": {
        "id": "xqRnDvp1qj8o"
      },
      "source": [
        "##Preguntas teoricas (1.2 Puntos)"
      ]
    },
    {
      "cell_type": "markdown",
      "metadata": {
        "id": "LBgm6aWB4vuL"
      },
      "source": [
        "Cada pregunta \"pesa\" lo mismo en la asignación de nota, es decir, 2 décimas. Al final hay una pregunta bonus, esta sólo aplica sobre el puntaje de esta sección, i.e. si en esta sección tienen puntaje perfecto, el puntaje del bonus no se suma al puntaje de las preguntas prácticas."
      ]
    },
    {
      "cell_type": "markdown",
      "metadata": {
        "id": "4A8i-9_etU96"
      },
      "source": [
        "P1.- Explique en sus propias palabras la diferencia entre *feature extraction* y *feauture selection*. Además explique cual es la importancia de realizar alguna de estas técnicas."
      ]
    },
    {
      "cell_type": "markdown",
      "metadata": {
        "id": "sWJFIQxP0eHn"
      },
      "source": [
        "**Respuesta:**"
      ]
    },
    {
      "cell_type": "markdown",
      "metadata": {
        "id": "KhK5JNeetU1a"
      },
      "source": [
        "P2.- ¿Cual es la ventaja de utilizar *filtros* en feature extraction? ¿Cual es la ventaja de utilizar *wraper* en feature extraction?. De un ejemplo de la vida real en el cual podrían ser utilizados."
      ]
    },
    {
      "cell_type": "markdown",
      "metadata": {
        "id": "bZGWVNg600zt"
      },
      "source": [
        "**Respuesta:**"
      ]
    },
    {
      "cell_type": "markdown",
      "metadata": {
        "id": "wiVo6oZWtU7J"
      },
      "source": [
        "P3.- ¿En que consiste el *Principal Component Analysis(PCA)*? ¿Que métodos existen para elegir el número de componentes? Explique ventajas y desventajas del uso de esta técnica. "
      ]
    },
    {
      "cell_type": "markdown",
      "metadata": {
        "id": "iiHQZj5C03Ss"
      },
      "source": [
        "**Respuesta:**"
      ]
    },
    {
      "cell_type": "markdown",
      "metadata": {
        "id": "4WLh1kwXtVAr"
      },
      "source": [
        "P4.- ¿Cuales son problemas que se presentan en los datos? ¿Que consecuencias tienen?"
      ]
    },
    {
      "cell_type": "markdown",
      "metadata": {
        "id": "Iz2nQ5dY03m6"
      },
      "source": [
        "**Respuesta:**"
      ]
    },
    {
      "cell_type": "markdown",
      "metadata": {
        "id": "nrk3198BwhR2"
      },
      "source": [
        "P5.- ¿Cuales son las distintas formas de trabajar con los datos faltantes? Explique las ventajas y desventajas de cada método"
      ]
    },
    {
      "cell_type": "markdown",
      "metadata": {
        "id": "_wiPJEEp033Q"
      },
      "source": [
        "**Respuesta:**"
      ]
    },
    {
      "cell_type": "markdown",
      "metadata": {
        "id": "uGt2ralxtVCa"
      },
      "source": [
        "P6.- Enuncie los diferentes tipos de transformación de datos. De ejemplos en al menos 3 de ellas."
      ]
    },
    {
      "cell_type": "markdown",
      "metadata": {
        "id": "K8FEpFSi04G8"
      },
      "source": [
        "**Respuesta:**"
      ]
    },
    {
      "cell_type": "markdown",
      "metadata": {
        "id": "GVWQrx834Wfj"
      },
      "source": [
        "**Bonus:** \n",
        "\n",
        "P7.- Explique como opera el KNN Imputer."
      ]
    },
    {
      "cell_type": "markdown",
      "metadata": {
        "id": "lAdrOG_C4jTA"
      },
      "source": [
        "**Respuesta:**"
      ]
    },
    {
      "cell_type": "markdown",
      "metadata": {
        "id": "WcfN8xmyqj-p"
      },
      "source": [
        "##Preguntas prácticas (4.8 Puntos)\n",
        "\n"
      ]
    },
    {
      "cell_type": "markdown",
      "metadata": {
        "id": "qlOpWgce2rbj"
      },
      "source": [
        "###Pregunta 1: Exploración de valores e imputacion (2.4 puntos)"
      ]
    },
    {
      "cell_type": "markdown",
      "metadata": {
        "id": "_I2oUPy-2IYn"
      },
      "source": [
        "Usaremos el dataset **sfo**, que está alojado en github. Ejecutaremos la siguiente línea de código para importar la librería que nos permitirá cargarlo."
      ]
    },
    {
      "cell_type": "code",
      "metadata": {
        "id": "_BVTmEUwDaWV"
      },
      "source": [
        "import numpy as np\n",
        "import pandas as pd"
      ],
      "execution_count": null,
      "outputs": []
    },
    {
      "cell_type": "markdown",
      "metadata": {
        "id": "DvGlIei0D_v7"
      },
      "source": [
        "Cargue los datos, utilizando la celda debajo del texto y responda a las siguientes interrogantes\n",
        "\n",
        "1.   Tamaño del dataset (cantidad de instancias y atributos). (0.1 puntos)\n",
        "2.   ¿Cuántas clases hay y cuáles son sus nombres? (0.1 puntos)\n",
        "3.   Determine que columnas tienen datos faltantes y cuantos datos faltantes tienen. (0.1 puntos)\n",
        "4.   Impute dos variables por algún valor fijo que le pareza dentro del rango de la variable. (0.2 puntos)\n",
        "5.   Muestre la distribución de la variable antes y después de reemplazar los datos faltantes para ambas variables. Comente si debería mantener esta imputación sobre sus datos faltantes justificando el motivo. (0.4 puntos)\n",
        "6.   Use algún método con variabilidad sobre los datos imputados para estimar el valor de los datos faltantes de la variable *Revised cost*, compare el promedio y la distribución de la variable sin considerar los datos faltantes y luego de imputar los datos con variabilidad. Para usar datos de manera agregada (resumida) le parece razonable su metodo de imputación? justificando su respuesta. (0.4 puntos)\n",
        "\n",
        "Para las siguientes preguntas elimine las filas que tienen un valor faltante para la columna *permit slack*\n",
        "\n",
        "8.   Determine que variables no debería considerar de los datos de sfo, justifique su respuesta y elimine las variables de la tabla. (0.3 puntos)\n",
        "9.   Use algún método predictivo para estimar los datos faltantes de las variables que no consideró eliminar en la parte anterior. (0.3 puntos)\n",
        "10.   Finalmente, una vez realizados todos los pasos anteriores, consolide su dataframe final (sin datos faltantes) y justifique las decisiones que tomó. (0.5 puntos)\n",
        "\n",
        "Indique en cada caso cómo obtuvo la respuesta, es decir, adjunte código."
      ]
    },
    {
      "cell_type": "code",
      "metadata": {
        "id": "ZCYJMIBsD_Tj",
        "colab": {
          "base_uri": "https://localhost:8080/",
          "height": 878
        },
        "outputId": "c616e490-3435-4774-f200-8100e5643233"
      },
      "source": [
        "sfo = pd.read_csv('https://raw.githubusercontent.com/Patortiz26/IN6531-Miner-a-de-datos-2021-2/main/SFO.csv')"
      ],
      "execution_count": null,
      "outputs": [
        {
          "output_type": "execute_result",
          "data": {
            "text/html": [
              "<div>\n",
              "<style scoped>\n",
              "    .dataframe tbody tr th:only-of-type {\n",
              "        vertical-align: middle;\n",
              "    }\n",
              "\n",
              "    .dataframe tbody tr th {\n",
              "        vertical-align: top;\n",
              "    }\n",
              "\n",
              "    .dataframe thead th {\n",
              "        text-align: right;\n",
              "    }\n",
              "</style>\n",
              "<table border=\"1\" class=\"dataframe\">\n",
              "  <thead>\n",
              "    <tr style=\"text-align: right;\">\n",
              "      <th></th>\n",
              "      <th>Unnamed: 0</th>\n",
              "      <th>Permit Number</th>\n",
              "      <th>Permit Type</th>\n",
              "      <th>Permit Type Definition</th>\n",
              "      <th>Permit Creation Date</th>\n",
              "      <th>Block</th>\n",
              "      <th>Lot</th>\n",
              "      <th>Street Number</th>\n",
              "      <th>Street Name</th>\n",
              "      <th>Street Suffix</th>\n",
              "      <th>Description</th>\n",
              "      <th>Current Status</th>\n",
              "      <th>Current Status Date</th>\n",
              "      <th>Number of Existing Stories</th>\n",
              "      <th>Number of Proposed Stories</th>\n",
              "      <th>Fire Only Permit</th>\n",
              "      <th>Estimated Cost</th>\n",
              "      <th>Revised Cost</th>\n",
              "      <th>Existing Units</th>\n",
              "      <th>Proposed Units</th>\n",
              "      <th>Existing Construction Type</th>\n",
              "      <th>Zipcode</th>\n",
              "      <th>Record ID</th>\n",
              "      <th>days elapsed</th>\n",
              "      <th>permit duration</th>\n",
              "      <th>permit slack</th>\n",
              "    </tr>\n",
              "  </thead>\n",
              "  <tbody>\n",
              "    <tr>\n",
              "      <th>0</th>\n",
              "      <td>131226</td>\n",
              "      <td>201607223097</td>\n",
              "      <td>8</td>\n",
              "      <td>otc alterations permit</td>\n",
              "      <td>07/22/2016</td>\n",
              "      <td>0986</td>\n",
              "      <td>021</td>\n",
              "      <td>3421</td>\n",
              "      <td>Jackson</td>\n",
              "      <td>St</td>\n",
              "      <td>remodel of exisitng s.f.h.  remove &amp; replace (...</td>\n",
              "      <td>issued</td>\n",
              "      <td>07/22/2016</td>\n",
              "      <td>3.0</td>\n",
              "      <td>3.0</td>\n",
              "      <td>NaN</td>\n",
              "      <td>94000.0</td>\n",
              "      <td>94000.0</td>\n",
              "      <td>1.0</td>\n",
              "      <td>1.0</td>\n",
              "      <td>5.0</td>\n",
              "      <td>94118.0</td>\n",
              "      <td>143106386136</td>\n",
              "      <td>NaN</td>\n",
              "      <td>360.0</td>\n",
              "      <td>NaN</td>\n",
              "    </tr>\n",
              "    <tr>\n",
              "      <th>1</th>\n",
              "      <td>167160</td>\n",
              "      <td>201608316424</td>\n",
              "      <td>8</td>\n",
              "      <td>otc alterations permit</td>\n",
              "      <td>08/31/2016</td>\n",
              "      <td>0943</td>\n",
              "      <td>006</td>\n",
              "      <td>2656</td>\n",
              "      <td>Filbert</td>\n",
              "      <td>St</td>\n",
              "      <td>revision to 201608054286 structural changes to...</td>\n",
              "      <td>complete</td>\n",
              "      <td>08/10/2017</td>\n",
              "      <td>4.0</td>\n",
              "      <td>4.0</td>\n",
              "      <td>NaN</td>\n",
              "      <td>50000.0</td>\n",
              "      <td>50000.0</td>\n",
              "      <td>1.0</td>\n",
              "      <td>1.0</td>\n",
              "      <td>5.0</td>\n",
              "      <td>94123.0</td>\n",
              "      <td>143564684896</td>\n",
              "      <td>344.0</td>\n",
              "      <td>360.0</td>\n",
              "      <td>39.0</td>\n",
              "    </tr>\n",
              "    <tr>\n",
              "      <th>2</th>\n",
              "      <td>13397</td>\n",
              "      <td>201305227621</td>\n",
              "      <td>8</td>\n",
              "      <td>otc alterations permit</td>\n",
              "      <td>05/22/2013</td>\n",
              "      <td>3569</td>\n",
              "      <td>014</td>\n",
              "      <td>2072</td>\n",
              "      <td>Mission</td>\n",
              "      <td>St</td>\n",
              "      <td>to comply with ordinance #029-13 only: install...</td>\n",
              "      <td>complete</td>\n",
              "      <td>07/11/2013</td>\n",
              "      <td>3.0</td>\n",
              "      <td>3.0</td>\n",
              "      <td>NaN</td>\n",
              "      <td>200.0</td>\n",
              "      <td>200.0</td>\n",
              "      <td>87.0</td>\n",
              "      <td>87.0</td>\n",
              "      <td>3.0</td>\n",
              "      <td>94110.0</td>\n",
              "      <td>1305642404944</td>\n",
              "      <td>50.0</td>\n",
              "      <td>360.0</td>\n",
              "      <td>310.0</td>\n",
              "    </tr>\n",
              "    <tr>\n",
              "      <th>3</th>\n",
              "      <td>89944</td>\n",
              "      <td>M597427</td>\n",
              "      <td>8</td>\n",
              "      <td>otc alterations permit</td>\n",
              "      <td>06/24/2015</td>\n",
              "      <td>6522</td>\n",
              "      <td>013</td>\n",
              "      <td>2860</td>\n",
              "      <td>Harrison</td>\n",
              "      <td>St</td>\n",
              "      <td>street space</td>\n",
              "      <td>issued</td>\n",
              "      <td>06/24/2015</td>\n",
              "      <td>NaN</td>\n",
              "      <td>NaN</td>\n",
              "      <td>NaN</td>\n",
              "      <td>NaN</td>\n",
              "      <td>1.0</td>\n",
              "      <td>NaN</td>\n",
              "      <td>NaN</td>\n",
              "      <td>NaN</td>\n",
              "      <td>94110.0</td>\n",
              "      <td>1386152206122</td>\n",
              "      <td>NaN</td>\n",
              "      <td>NaN</td>\n",
              "      <td>NaN</td>\n",
              "    </tr>\n",
              "    <tr>\n",
              "      <th>4</th>\n",
              "      <td>140843</td>\n",
              "      <td>M733647</td>\n",
              "      <td>8</td>\n",
              "      <td>otc alterations permit</td>\n",
              "      <td>10/27/2016</td>\n",
              "      <td>3582</td>\n",
              "      <td>005</td>\n",
              "      <td>430</td>\n",
              "      <td>Noe</td>\n",
              "      <td>St</td>\n",
              "      <td>street space</td>\n",
              "      <td>issued</td>\n",
              "      <td>10/27/2016</td>\n",
              "      <td>NaN</td>\n",
              "      <td>NaN</td>\n",
              "      <td>NaN</td>\n",
              "      <td>NaN</td>\n",
              "      <td>1.0</td>\n",
              "      <td>NaN</td>\n",
              "      <td>NaN</td>\n",
              "      <td>NaN</td>\n",
              "      <td>94114.0</td>\n",
              "      <td>1442267159920</td>\n",
              "      <td>NaN</td>\n",
              "      <td>NaN</td>\n",
              "      <td>NaN</td>\n",
              "    </tr>\n",
              "    <tr>\n",
              "      <th>...</th>\n",
              "      <td>...</td>\n",
              "      <td>...</td>\n",
              "      <td>...</td>\n",
              "      <td>...</td>\n",
              "      <td>...</td>\n",
              "      <td>...</td>\n",
              "      <td>...</td>\n",
              "      <td>...</td>\n",
              "      <td>...</td>\n",
              "      <td>...</td>\n",
              "      <td>...</td>\n",
              "      <td>...</td>\n",
              "      <td>...</td>\n",
              "      <td>...</td>\n",
              "      <td>...</td>\n",
              "      <td>...</td>\n",
              "      <td>...</td>\n",
              "      <td>...</td>\n",
              "      <td>...</td>\n",
              "      <td>...</td>\n",
              "      <td>...</td>\n",
              "      <td>...</td>\n",
              "      <td>...</td>\n",
              "      <td>...</td>\n",
              "      <td>...</td>\n",
              "      <td>...</td>\n",
              "    </tr>\n",
              "    <tr>\n",
              "      <th>39775</th>\n",
              "      <td>144872</td>\n",
              "      <td>201612134770</td>\n",
              "      <td>8</td>\n",
              "      <td>otc alterations permit</td>\n",
              "      <td>12/13/2016</td>\n",
              "      <td>0452</td>\n",
              "      <td>026</td>\n",
              "      <td>900</td>\n",
              "      <td>North Point</td>\n",
              "      <td>St</td>\n",
              "      <td>modify (e) fire alarm system. add (1) booster ...</td>\n",
              "      <td>complete</td>\n",
              "      <td>02/15/2017</td>\n",
              "      <td>7.0</td>\n",
              "      <td>7.0</td>\n",
              "      <td>Y</td>\n",
              "      <td>9390.0</td>\n",
              "      <td>9500.0</td>\n",
              "      <td>54.0</td>\n",
              "      <td>54.0</td>\n",
              "      <td>3.0</td>\n",
              "      <td>94109.0</td>\n",
              "      <td>1447169501832</td>\n",
              "      <td>64.0</td>\n",
              "      <td>360.0</td>\n",
              "      <td>296.0</td>\n",
              "    </tr>\n",
              "    <tr>\n",
              "      <th>39776</th>\n",
              "      <td>122369</td>\n",
              "      <td>201604285919</td>\n",
              "      <td>8</td>\n",
              "      <td>otc alterations permit</td>\n",
              "      <td>04/28/2016</td>\n",
              "      <td>0295</td>\n",
              "      <td>016</td>\n",
              "      <td>300</td>\n",
              "      <td>Post</td>\n",
              "      <td>St</td>\n",
              "      <td>administrative permit to correct all apple sto...</td>\n",
              "      <td>complete</td>\n",
              "      <td>04/28/2016</td>\n",
              "      <td>2.0</td>\n",
              "      <td>2.0</td>\n",
              "      <td>NaN</td>\n",
              "      <td>1.0</td>\n",
              "      <td>1.0</td>\n",
              "      <td>NaN</td>\n",
              "      <td>NaN</td>\n",
              "      <td>1.0</td>\n",
              "      <td>94108.0</td>\n",
              "      <td>1421237506413</td>\n",
              "      <td>0.0</td>\n",
              "      <td>360.0</td>\n",
              "      <td>360.0</td>\n",
              "    </tr>\n",
              "    <tr>\n",
              "      <th>39777</th>\n",
              "      <td>104052</td>\n",
              "      <td>201510291160</td>\n",
              "      <td>8</td>\n",
              "      <td>otc alterations permit</td>\n",
              "      <td>10/29/2015</td>\n",
              "      <td>2193</td>\n",
              "      <td>022C</td>\n",
              "      <td>2150</td>\n",
              "      <td>25th</td>\n",
              "      <td>Av</td>\n",
              "      <td>revision to app#201412224259 and 200903315214....</td>\n",
              "      <td>issued</td>\n",
              "      <td>11/12/2015</td>\n",
              "      <td>2.0</td>\n",
              "      <td>2.0</td>\n",
              "      <td>NaN</td>\n",
              "      <td>12000.0</td>\n",
              "      <td>15000.0</td>\n",
              "      <td>1.0</td>\n",
              "      <td>1.0</td>\n",
              "      <td>5.0</td>\n",
              "      <td>94116.0</td>\n",
              "      <td>1401272129493</td>\n",
              "      <td>NaN</td>\n",
              "      <td>360.0</td>\n",
              "      <td>NaN</td>\n",
              "    </tr>\n",
              "    <tr>\n",
              "      <th>39778</th>\n",
              "      <td>94514</td>\n",
              "      <td>M611547</td>\n",
              "      <td>8</td>\n",
              "      <td>otc alterations permit</td>\n",
              "      <td>08/06/2015</td>\n",
              "      <td>0441B</td>\n",
              "      <td>019</td>\n",
              "      <td>230</td>\n",
              "      <td>Avila</td>\n",
              "      <td>St</td>\n",
              "      <td>street space</td>\n",
              "      <td>issued</td>\n",
              "      <td>08/06/2015</td>\n",
              "      <td>NaN</td>\n",
              "      <td>NaN</td>\n",
              "      <td>NaN</td>\n",
              "      <td>NaN</td>\n",
              "      <td>1.0</td>\n",
              "      <td>NaN</td>\n",
              "      <td>NaN</td>\n",
              "      <td>NaN</td>\n",
              "      <td>94123.0</td>\n",
              "      <td>139106370608</td>\n",
              "      <td>NaN</td>\n",
              "      <td>NaN</td>\n",
              "      <td>NaN</td>\n",
              "    </tr>\n",
              "    <tr>\n",
              "      <th>39779</th>\n",
              "      <td>64489</td>\n",
              "      <td>M527907</td>\n",
              "      <td>8</td>\n",
              "      <td>otc alterations permit</td>\n",
              "      <td>10/16/2014</td>\n",
              "      <td>0314</td>\n",
              "      <td>010</td>\n",
              "      <td>240</td>\n",
              "      <td>Powell</td>\n",
              "      <td>St</td>\n",
              "      <td>street space</td>\n",
              "      <td>issued</td>\n",
              "      <td>10/16/2014</td>\n",
              "      <td>NaN</td>\n",
              "      <td>NaN</td>\n",
              "      <td>NaN</td>\n",
              "      <td>NaN</td>\n",
              "      <td>1.0</td>\n",
              "      <td>NaN</td>\n",
              "      <td>NaN</td>\n",
              "      <td>NaN</td>\n",
              "      <td>94102.0</td>\n",
              "      <td>1359136423692</td>\n",
              "      <td>NaN</td>\n",
              "      <td>NaN</td>\n",
              "      <td>NaN</td>\n",
              "    </tr>\n",
              "  </tbody>\n",
              "</table>\n",
              "<p>39780 rows × 26 columns</p>\n",
              "</div>"
            ],
            "text/plain": [
              "       Unnamed: 0 Permit Number  ...  permit duration permit slack\n",
              "0          131226  201607223097  ...            360.0          NaN\n",
              "1          167160  201608316424  ...            360.0         39.0\n",
              "2           13397  201305227621  ...            360.0        310.0\n",
              "3           89944       M597427  ...              NaN          NaN\n",
              "4          140843       M733647  ...              NaN          NaN\n",
              "...           ...           ...  ...              ...          ...\n",
              "39775      144872  201612134770  ...            360.0        296.0\n",
              "39776      122369  201604285919  ...            360.0        360.0\n",
              "39777      104052  201510291160  ...            360.0          NaN\n",
              "39778       94514       M611547  ...              NaN          NaN\n",
              "39779       64489       M527907  ...              NaN          NaN\n",
              "\n",
              "[39780 rows x 26 columns]"
            ]
          },
          "metadata": {},
          "execution_count": 6
        }
      ]
    },
    {
      "cell_type": "code",
      "metadata": {
        "id": "O8gZHhu2zdR_"
      },
      "source": [
        "#Desarrolle a continuación \n",
        "#Se sugiere ocupar un bloque de código por pregunta a responder de manera de facilitar la revisión."
      ],
      "execution_count": null,
      "outputs": []
    },
    {
      "cell_type": "markdown",
      "metadata": {
        "id": "NPTN35LpGi45"
      },
      "source": [
        "###Pregunta 2: Exploración visual y transformacion de datos (2.4 puntos)"
      ]
    },
    {
      "cell_type": "markdown",
      "metadata": {
        "id": "0ilL_55OHoVF"
      },
      "source": [
        "Para la realización de esta pregunta trabajaremos con el dataframe Boston Hosusing. Para más información de este dataset visitar: https://www.cs.toronto.edu/~delve/data/boston/bostonDetail.html"
      ]
    },
    {
      "cell_type": "code",
      "metadata": {
        "id": "WZmQrp_G9MhQ"
      },
      "source": [
        "import matplotlib.pyplot as plt   \n",
        "import seaborn as sns #Puede usar otras librería para realizar sus plots\n",
        "from sklearn import preprocessing\n",
        "from sklearn.datasets import load_boston\n",
        "\n",
        "boston = load_boston() #Para saber \n",
        "df = pd.DataFrame(data=boston['data'], columns=boston['feature_names'])\n",
        "df_aux = pd.DataFrame(data=boston['target'], columns=['PRICE'])\n",
        "df = pd.concat([df,df_aux],axis=1)"
      ],
      "execution_count": null,
      "outputs": []
    },
    {
      "cell_type": "markdown",
      "metadata": {
        "id": "059XFn5p8IWs"
      },
      "source": [
        "Cargue los datos e importe las librerias indicadas en el bloque superior y realice los siguientes pasos:\n",
        "\n",
        "1.   Divida el dataset en `X` e `y` utilizando el comando `iloc`. Para ello asigne *Price* a la variable `y`. Adicionalmente escriba el código que permitiría dividir el dataset en un dataset de training y otro de test. (0.1 puntos)\n",
        "2.   Realice un boxplot de las variables dentro del data frame. (0.1 puntos)\n",
        "3.   Realice un histograma para cada una de las variables. ¿Hay alguna variable que sea binaria? De ser así entregue el código que permitiría transformar dicha(s) columna(s) de manera adecuada. (0.2 puntos)\n",
        "4.   Realice un heatmap para analizar la correlación entre las variables. Enuncie los hallazgos que encuentre destacables. (0.2 puntos)\n",
        "5.   Realice graficos del tipo `scatter` entre las distintas variables que identifique que tienen una alta correlación entre si. Adicionalmente investigue como \"pintar\" los puntos del gráfico de manera de que se diferencie por la variable *Price*. (0.3 puntos)\n",
        "6.   Investigue el modulo `pairplot()` de seaborn e implemente un gráfico de este estilo utilizando todas las variables utilizadas en el inciso previo. ¿Que diferencia a este tipo de gráfico con respecto a los scatters realizados previamente? (0.3 puntos)\n",
        "7.   Discuta respecto a la utilidad de los gráficos anteriores y explique cuales utilizaría en un caso de investigación real. (0.3 puntos)\n",
        "8.   En ocasiones podría ser de su interés trabajar sus variables de manera categorica, es decir agrupandola siguiendo diversos criterios. Discuta que variables de su dataset podrían ser transformadas de numericas a categoricas y entregue código que permitiría realizar dicha operación. (0.5 puntos)\n",
        "9.   Re escale las variables utilizando el método `MinMaxScaler()` y repita el paso 5. ¿Se observa alguna diferencia?. ¿Se debe tener algun cuidado especial en caso de realizar el reescalamiento teniendo separado el dataset en *train* y *test*? (0.4 puntos)\n",
        "\n",
        "\n",
        "Al comienzo de cada casilla se recomienda utilizar el comando `plt.figure(figsize=(16,9))` que le permitirá setear el tamaño del gráfico."
      ]
    },
    {
      "cell_type": "code",
      "metadata": {
        "id": "2ATS_WFf9p_I"
      },
      "source": [
        "#Comience sus plots aquí, nuevamente utilice distintas \"cajas\" para cada punto"
      ],
      "execution_count": null,
      "outputs": []
    },
    {
      "cell_type": "markdown",
      "metadata": {
        "id": "WPRshrh-OYxX"
      },
      "source": [
        "###Pregunta 3: Bonus - Feature Selection (1 punto)"
      ]
    },
    {
      "cell_type": "markdown",
      "metadata": {
        "id": "wN0tGjfTF2ur"
      },
      "source": [
        "Como fue visto en clases **Feature selection** es el proceso en el que de forma automatica o manual seleccionamos aquellos features que más contribuyen a la a la predicción de la variable de interés. A continuación se les presenta un método que permite extraer dichos features de interés. \n",
        "\n",
        "Nota1: Este código solo funcionara correctamente si dividen su dataset de manera apropiada en el punto 1 de la pregunta anterior.\n",
        "\n",
        "Nota2: Para identificar de mejor manera los features de importancia debemos asegurarnos que los valores de la variable target sean enteros. Por ello redondeamos los valores de *Price*."
      ]
    },
    {
      "cell_type": "code",
      "metadata": {
        "id": "3PZEb2z5iYdA",
        "colab": {
          "base_uri": "https://localhost:8080/",
          "height": 554
        },
        "outputId": "014bde56-1830-4510-ef30-11357064fc52"
      },
      "source": [
        "from sklearn.feature_selection import SelectKBest\n",
        "from sklearn.feature_selection import chi2\n",
        "from sklearn.ensemble import ExtraTreesClassifier\n",
        "\n",
        "y = np.round(y)\n",
        "#Apply SelectKBest class to extract top 5 best features\n",
        "bestfeatures = SelectKBest(score_func=chi2, k=5)\n",
        "fit = bestfeatures.fit(X,y)\n",
        "dfscores = pd.DataFrame(fit.scores_)\n",
        "dfcolumns = pd.DataFrame(X.columns)\n",
        "# Concat two dataframes for better visualization\n",
        "featureScores = pd.concat([dfcolumns,dfscores],axis=1)\n",
        "featureScores.columns = [\"Specs\",\"Score\"] #naming the dataframe columns\n",
        "\n",
        "plt.figure(figsize=(16,9))\n",
        "model = ExtraTreesClassifier()\n",
        "model.fit(X,y)\n",
        "feat_importances = pd.Series(model.feature_importances_, index=X.columns)\n",
        "feat_importances.nlargest(10).plot(kind='barh')"
      ],
      "execution_count": null,
      "outputs": [
        {
          "output_type": "execute_result",
          "data": {
            "text/plain": [
              "<matplotlib.axes._subplots.AxesSubplot at 0x7f96aa7d0210>"
            ]
          },
          "metadata": {},
          "execution_count": 61
        },
        {
          "output_type": "display_data",
          "data": {
            "image/png": "[encoded data removed]",
            "text/plain": [
              "<Figure size 1152x648 with 1 Axes>"
            ]
          },
          "metadata": {
            "needs_background": "light"
          }
        }
      ]
    },
    {
      "cell_type": "markdown",
      "metadata": {
        "id": "Z0vR1wJ4Kqc3"
      },
      "source": [
        "1.   En base al trabajo realizado en la *Pregunta 2*, ¿Como se comportan sus conclusiones en relación a las obtenidas por este método? (0.2 puntos)\n",
        "2.   Además de los métodos de selección existen los conocidos como *Feature extraction* siendo el *Principal comoponent analysis (PCA)* uno de los más importantes. Se le insta a investigar sobre este método e implementarlo para la data entregada, encontrando las dos componentes principales que atañen a este problema y presentarlas en un gráfico scatter. Para ello se le recomienda visitar las biblias *Medium* y *TowardsDataScience*. (0.8 puntos)\n"
      ]
    },
    {
      "cell_type": "code",
      "metadata": {
        "id": "Uzcf6sgzQi6b"
      },
      "source": [
        "#Manos a la obra"
      ],
      "execution_count": null,
      "outputs": []
    }
  ]
}