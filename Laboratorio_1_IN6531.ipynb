{
  "nbformat": 4,
  "nbformat_minor": 0,
  "metadata": {
    "colab": {
      "name": "Laboratorio 1 IN6531.ipynb",
      "provenance": [],
      "authorship_tag": "ABX9TyOfqreXGTSb5I9BWxDQ5qWE",
      "include_colab_link": true
    },
    "kernelspec": {
      "name": "python3",
      "display_name": "Python 3"
    },
    "language_info": {
      "name": "python"
    }
  },
  "cells": [
    {
      "cell_type": "markdown",
      "metadata": {
        "id": "view-in-github",
        "colab_type": "text"
      },
      "source": [
        "<a href=\"https://colab.research.google.com/github/Patortiz26/IN6531-Miner-a-de-datos-2021-2/blob/main/Laboratorio_1_IN6531.ipynb\" target=\"_parent\"><img src=\"https://colab.research.google.com/assets/colab-badge.svg\" alt=\"Open In Colab\"/></a>"
      ]
    },
    {
      "cell_type": "markdown",
      "metadata": {
        "id": "5cI8k7Urqj6K"
      },
      "source": [
        "<center><h1>Laboratorio N°1</center></h1>\n",
        "\n",
        "<center><strong>IN6531: Introducción a la Minería de Datos - Primavera 2021</strong></center>"
      ]
    },
    {
      "cell_type": "markdown",
      "metadata": {
        "id": "S1L7VhMFsMcx"
      },
      "source": [
        "##Presentación"
      ]
    },
    {
      "cell_type": "markdown",
      "metadata": {
        "id": "Vp_vOHK7V97e"
      },
      "source": [
        "###Cuerpo Docente:\n",
        "\n",
        "- Profesor: Richard Weber\n",
        "- Auxiliar: Patricio Ortiz\n",
        "- Ayudantes: Felipe Arias, Walter Guzman, Esteban Rojas"
      ]
    },
    {
      "cell_type": "markdown",
      "metadata": {
        "id": "frf-PYzfy1-x"
      },
      "source": [
        "###Declaración de compromiso ético\n",
        "\n",
        "Nosotros **Integrante 1, Integrante 2 e Integrante 3** declaramos que realizamos de manera grupal los pasos de la presente actividad. También declaramos no incurrir en copia, ni compartir nuestras respuestas con otras personas ni con otros grupos. Por lo que, ratificamos que las respuestas son de nuestra propia confección y reflejan nuestro propio conocimiento."
      ]
    },
    {
      "cell_type": "markdown",
      "metadata": {
        "id": "9el9ERaKWW3i"
      },
      "source": [
        "### Reglas:\n",
        "\n",
        "- Fecha de entrega: 4 días desde la publicación, 3 días de atraso con 1 punto de descuento c/u. Pueden utilizar días bonus sin descuento.\n",
        "- **Grupos de máximo 3 personas**.\n",
        "- Para trabajar este laboratorio edite este documento `.ipynb` agregando sus respuestas donde corresponda.\n",
        "- Para cada pregunta, cuando corresponda, incluya el código fuente que utilizó para llegar a su respuesta.\n",
        "- El formato de entrega para esta actividad debe ser un archivo `.ipynb` el cual debe ser subido a U-Cursos. Basta con que uno de los integrantes haga la entrega. Si más integrantes hacen una entrega en U-Cursos, se revisará cualquiera de éstas.\n",
        "- Cualquier duda fuera del horario de clases al foro. Mensajes al equipo docente serán respondidos por este medio.\n",
        "- Prohibidas las copias. En caso de sospecha de copia se activaran los protocolos correspondientes.\n",
        "- Pueden usar cualquer material del curso que estimen conveniente.\n",
        "\n",
        "\n",
        "\n",
        "\n"
      ]
    },
    {
      "cell_type": "markdown",
      "metadata": {
        "id": "4708b9b7"
      },
      "source": [
        "### Objetivos del lab: \n",
        "\n",
        "\n",
        "- Variables, Operadores y Expresiones.\n",
        "- Estructuras de Control (if/else).\n",
        "- Iteraciones.\n",
        "- Listas y Diccionarios.\n",
        "- Programación Funcional (Enfocado en creación de funciones)."
      ]
    },
    {
      "cell_type": "markdown",
      "metadata": {
        "id": "xqRnDvp1qj8o"
      },
      "source": [
        "##Preguntas teoricas (1.2 Puntos)"
      ]
    },
    {
      "cell_type": "markdown",
      "metadata": {
        "id": "LBgm6aWB4vuL"
      },
      "source": [
        "Cada pregunta \"pesa\" lo mismo en la asignación de nota, es decir, 2 décimas. Al final hay una pregunta bonus, esta sólo aplica sobre el puntaje de esta sección, i.e. si en esta sección tienen puntaje perfecto, el puntaje del bonus no se suma al puntaje de las preguntas prácticas."
      ]
    },
    {
      "cell_type": "markdown",
      "metadata": {
        "id": "4A8i-9_etU96"
      },
      "source": [
        "P1.- ¿Cuales son los beneficios de un *Data Warehouse*?"
      ]
    },
    {
      "cell_type": "markdown",
      "metadata": {
        "id": "sWJFIQxP0eHn"
      },
      "source": [
        "**Respuesta:**"
      ]
    },
    {
      "cell_type": "markdown",
      "metadata": {
        "id": "KhK5JNeetU1a"
      },
      "source": [
        "P2.- ¿Que diferecia un *Data Warehouse* de un *Data Mart*? De un ejemplo de cuando y como se podrían utilizar ambos esquemas en la industria."
      ]
    },
    {
      "cell_type": "markdown",
      "metadata": {
        "id": "bZGWVNg600zt"
      },
      "source": [
        "**Respuesta:**"
      ]
    },
    {
      "cell_type": "markdown",
      "metadata": {
        "id": "wiVo6oZWtU7J"
      },
      "source": [
        "P3.- Explique tres diferencias entre un *Data Warehouse* y una *Base de datos*"
      ]
    },
    {
      "cell_type": "markdown",
      "metadata": {
        "id": "iiHQZj5C03Ss"
      },
      "source": [
        "**Respuesta:**"
      ]
    },
    {
      "cell_type": "markdown",
      "metadata": {
        "id": "4WLh1kwXtVAr"
      },
      "source": [
        "P4.- Explique en sus palabras en que consiste la metodología KDD"
      ]
    },
    {
      "cell_type": "markdown",
      "metadata": {
        "id": "Iz2nQ5dY03m6"
      },
      "source": [
        "**Respuesta:**"
      ]
    },
    {
      "cell_type": "markdown",
      "metadata": {
        "id": "nrk3198BwhR2"
      },
      "source": [
        "P5.- ¿Cual es la diferencia entre *Interval scale* y *Proportional scale*? De un ejemplo"
      ]
    },
    {
      "cell_type": "markdown",
      "metadata": {
        "id": "_wiPJEEp033Q"
      },
      "source": [
        "**Respuesta:**"
      ]
    },
    {
      "cell_type": "markdown",
      "metadata": {
        "id": "uGt2ralxtVCa"
      },
      "source": [
        "P6.- Investigue por su propia cuenta sobre los principales desafíos que se enfrentan en Data Mining y liste a continuación los que a su juicio son los más importantes. Recuerde dejar la(s) fuente(s) de información que respaldan su respuesta."
      ]
    },
    {
      "cell_type": "markdown",
      "metadata": {
        "id": "K8FEpFSi04G8"
      },
      "source": [
        "**Respuesta:**"
      ]
    },
    {
      "cell_type": "markdown",
      "metadata": {
        "id": "ELc4rCRN1a9z"
      },
      "source": [
        "**Hint:** Como conversamos en la auxiliar *Medium* y *Towards Data Science* son las páginas que más publican información respecto a estos tópicos. Por ende la búsqueda que realicen puede retornar mejores resultados al hacerlas en inglés."
      ]
    },
    {
      "cell_type": "markdown",
      "metadata": {
        "id": "GVWQrx834Wfj"
      },
      "source": [
        "**Bonus:** \n",
        "\n",
        "P7.- Explique los principales beneficios que tiene Python con respecto a otros lenguajes de programación"
      ]
    },
    {
      "cell_type": "markdown",
      "metadata": {
        "id": "lAdrOG_C4jTA"
      },
      "source": [
        "**Respuesta:**"
      ]
    },
    {
      "cell_type": "markdown",
      "metadata": {
        "id": "WcfN8xmyqj-p"
      },
      "source": [
        "##Preguntas prácticas (4.8 Puntos)\n",
        "\n",
        "Para este inciso se pueden ocupar tanto las librerías vistas en auxiliar como alguna otra que tengan en su set de habilidades. Para lo anterior se sugiere seguir la regla de \"cualquier librería o función se puede utilizar siempre y cuando no se trivialice la acción que se pide ejecutar\". \n",
        "\n",
        "Por ejemplo, si se les entregara `string = 'hola' ` y la tarea asignada fuera \"Poner en mayúscula únicamente la primera letra de una palabra\" el método `.title()` no se podría utilizar.\n",
        "\n",
        "El uso de iteradores (`for` o `while`) y controles de flujo (uso de `if`) es transversal a las secciones que se encuentran a continuación.\n",
        "\n"
      ]
    },
    {
      "cell_type": "markdown",
      "metadata": {
        "id": "qlOpWgce2rbj"
      },
      "source": [
        "###Strings (0.8 puntos)"
      ]
    },
    {
      "cell_type": "markdown",
      "metadata": {
        "id": "_I2oUPy-2IYn"
      },
      "source": [
        "Se le llama \"Camel Case\" a la convención de escribir una frase sin espacios, pero marcando el inicio de cada palabra poniendo su primera letra en mayúscula. Por ejemplo, la frase\n",
        "```\n",
        "\"  Introduccion a    la mineria de   datos   \"\n",
        "```\n",
        "transformada a Camel Case queda así:\n",
        "```\n",
        "\"IntroduccionALaMineriaDeDatos\"\n",
        "```\n",
        "\n",
        "Escriba una función que transforme a Camel Case y pruébela:"
      ]
    },
    {
      "cell_type": "code",
      "metadata": {
        "id": "_BVTmEUwDaWV"
      },
      "source": [
        "def CamelCase(s):\n",
        "  #Código aquí\n",
        "\n",
        "  return "
      ],
      "execution_count": null,
      "outputs": []
    },
    {
      "cell_type": "markdown",
      "metadata": {
        "id": "DvGlIei0D_v7"
      },
      "source": [
        "A continuación les dejo una serie de ```asserts``` que sirven para corroborar que su función este funcionando correctamente. Se entrega 0.1 extra a modo de bonus en caso de que entreguen un assert que presente un caso borde no abordado en dicha casilla de código.\n",
        "\n"
      ]
    },
    {
      "cell_type": "code",
      "metadata": {
        "id": "ZCYJMIBsD_Tj"
      },
      "source": [
        "#String comienza y termina con espacios\n",
        "assert CamelCase(\"  Introduccion a    la mineria de   datos   \") == 'IntroducciónALaMineriaDeDatos'\n",
        "#String con espaciado entre medio\n",
        "assert CamelCase(\"Introduccion a    la mineria de   datos\") == 'IntroducciónALaMineriaDeDatos'\n",
        "#String con mayusculas dentro de la palabra\n",
        "assert CamelCase(\"IntroduCcion a la mIneria de daTos\") == 'IntroducciónALaMineriaDeDatos'\n",
        "#String con palabras unidas\n",
        "assert CamelCase(\"Introduccion a la mineriadedatos\") == 'IntroducciónALaMineriadedatos'"
      ],
      "execution_count": null,
      "outputs": []
    },
    {
      "cell_type": "markdown",
      "metadata": {
        "id": "0wTaZnp8Ewg_"
      },
      "source": [
        "Para efectos de simplificar la tarea suponga que solo recibirá espacion `(\" \")` letras que estén entre la a y la z(sin acentos). Su función debe iterar sobre las letras por lo que se pueden utilizar los métodos ```.upper()``` y ```.lower()```."
      ]
    },
    {
      "cell_type": "markdown",
      "metadata": {
        "id": "NPTN35LpGi45"
      },
      "source": [
        "###Números (0.8 Puntos)"
      ]
    },
    {
      "cell_type": "markdown",
      "metadata": {
        "id": "0ilL_55OHoVF"
      },
      "source": [
        "En matemáticas, un número primo es un número natural **mayor** que 1 que tiene únicamente dos divisores positivos distintos: él mismo y el 1. A continuación se les pide que creen una función que tome un entero positivo y retorne una lista de largo igual al número entregado compuesto únicamente de números primos.\n",
        "\n",
        "Por ejemplo la función\n",
        "\n",
        "```\n",
        "listaPrimos(3)\n",
        "```\n",
        "Debiera retornar la siguiente lista:\n",
        "\n",
        "```\n",
        "[2,3,5]\n",
        "```\n",
        "\n",
        "Para ello deben implementar además una función que evalue si un número es o no primo. Dicha función debe retornar un valor boolean (`True` o `False`). Esta función les será útil en el modulo siguiente"
      ]
    },
    {
      "cell_type": "code",
      "metadata": {
        "id": "dIU5lN7FJeMK"
      },
      "source": [
        "def esPrimo(n):\n",
        "  return\n",
        "\n",
        "def listaPrimos(m):\n",
        "  return"
      ],
      "execution_count": null,
      "outputs": []
    },
    {
      "cell_type": "markdown",
      "metadata": {
        "id": "UAKAZxZlJnAh"
      },
      "source": [
        "###Listas (1.2 Puntos)"
      ]
    },
    {
      "cell_type": "markdown",
      "metadata": {
        "id": "TLGQM63eiTI6"
      },
      "source": [
        "####List comprehension"
      ]
    },
    {
      "cell_type": "markdown",
      "metadata": {
        "id": "FCZga6VcKA6P"
      },
      "source": [
        "Utilizando la nomenclatura llamada ```list comprehension``` genere listas que cumplan las siguientes condiciones:\n",
        "\n",
        "*   Lista de números enteros mayores o iguales a n y menores o iguales a m. Es decir:\n",
        "```\n",
        "[n,n+1,n+2,...,m-2,m-1,m]\n",
        "#Ejemplo:\n",
        "[-4,-3,-2,-1,0,1,2,3,4]\n",
        "```\n",
        "*   Tomando la lista anterior, genere una nueva lista en la cual se eleven los valores al cuadrado. Es decir:\n",
        "```\n",
        "[n^2,(n+1)^2,(n+2)^2,...,(m-2)^2,(m-1)^2,m^2]\n",
        "#Ejemplo:\n",
        "[16,9,4,1,0,1,4,9,16]\n",
        "```\n",
        "*   Tomando la lista anterior, genere una nueva lista en la se le sume un número aleatorio entre 1 y 9 a cada valor. Para ello importe la librería `random` y utilice el modulo `random.randint()`\n",
        "```\n",
        "#Ejemplo:\n",
        "[17,11,7,5,6,8,13,18,19]\n",
        "```\n",
        "*   Finalmente, tome la lista anterior cree una lista que solo incluya a los valores primos. (En caso de no haber, se debe crear una lista vacía)\n",
        "```\n",
        "#Ejemplo:\n",
        "[17,11,7,5,13,19]\n",
        "```\n",
        "\n",
        "*Cada lista tiene asignado 0.1 puntos"
      ]
    },
    {
      "cell_type": "code",
      "metadata": {
        "id": "3PZEb2z5iYdA"
      },
      "source": [
        "#Cree sus listas aquí\n"
      ],
      "execution_count": null,
      "outputs": []
    },
    {
      "cell_type": "markdown",
      "metadata": {
        "id": "386gk_-Aib1S"
      },
      "source": [
        "####Caso de uso de listas"
      ]
    },
    {
      "cell_type": "markdown",
      "metadata": {
        "id": "EAfn23lbig6J"
      },
      "source": [
        "En el siguiente punto se utilizaran listas para el trabajo matricial, por lo que la librería `numpy` no puede ser utilizada. El valor de esta actividad es desarrollar algunas funciones de dicha librería para ver porque nos facilita la vida."
      ]
    },
    {
      "cell_type": "markdown",
      "metadata": {
        "id": "X-X8GZ0ijCkp"
      },
      "source": [
        "Una matriz puede ser definida como una lista de listas de la siguiente manera:\n",
        "\n",
        "```\n",
        "matriz = [  [0,1,2],\n",
        "            [3,4,5],\n",
        "            [6,7,8]  ]\n",
        "```\n",
        "\n",
        "A continuación, cree una función que cree una matriz de dimensiones nxm (n filas y m columnas) rellena de ceros.  \n"
      ]
    },
    {
      "cell_type": "code",
      "metadata": {
        "id": "EfFd945fJmv3"
      },
      "source": [
        "def creaMatriz(n,m):\n",
        "  #Codigo aquí\n",
        "\n",
        "  return "
      ],
      "execution_count": null,
      "outputs": []
    },
    {
      "cell_type": "markdown",
      "metadata": {
        "id": "3Zs6Ir1bj_IM"
      },
      "source": [
        "A continuación cree una función que reciba una matriz generada por su función anterior y la trasponga, es decir, que pase de tener n filas y m columnas a m filas y n columnas."
      ]
    },
    {
      "cell_type": "code",
      "metadata": {
        "id": "Mi4eX6s0kiVM"
      },
      "source": [
        "def transponer (matriz):\n",
        "  #Código Aquí\n",
        "  return"
      ],
      "execution_count": null,
      "outputs": []
    },
    {
      "cell_type": "markdown",
      "metadata": {
        "id": "d4MfF_NEkib8"
      },
      "source": [
        "A continuación cree una función que tomando una matriz generada en su primera función, calcule las dimensiones de la matriz, retornandolas como una tupla e imprima `print` el mensaje:\n",
        "`'Su matriz es de dimensión n x m'`"
      ]
    },
    {
      "cell_type": "code",
      "metadata": {
        "id": "M0W-58EPk2s1"
      },
      "source": [
        "def forma(matriz):\n",
        "  #Código Aquí\n",
        "  print(mensaje)\n",
        "  return"
      ],
      "execution_count": null,
      "outputs": []
    },
    {
      "cell_type": "markdown",
      "metadata": {
        "id": "F70k5sX_ljG_"
      },
      "source": [
        "Finalmente, cree una función que implemente el producto punto entre dos matrices. Para ello antes de realizar la operación su código debe revisar las dimensiones de su matriz y corroborar que el número de columas de la primera matriz sea igual al número de filas de la segunda."
      ]
    },
    {
      "cell_type": "code",
      "metadata": {
        "id": "Vo9lPnzEk4RG"
      },
      "source": [
        "def productoPunto(matriz1,matriz2):\n",
        "  #Codigo Aquí\n",
        "  return"
      ],
      "execution_count": null,
      "outputs": []
    },
    {
      "cell_type": "markdown",
      "metadata": {
        "id": "IQnSkw__nE2B"
      },
      "source": [
        "A modo de bonus se les propone escribir verificaciones de su código (`assert`) como los vistos previamente comparando los resultados de sus funciones con los métodos de la librería `numpy`. Para ello deberán transformar sus listas a arrays con el comando `.asarray(`) o los arrays de numpy a listas con el comando .`tolist()`"
      ]
    },
    {
      "cell_type": "code",
      "metadata": {
        "id": "yD76kA_HnEYK"
      },
      "source": [
        "#Escriba los asserts aquí"
      ],
      "execution_count": null,
      "outputs": []
    },
    {
      "cell_type": "markdown",
      "metadata": {
        "id": "yXgRq4v6-CYP"
      },
      "source": [
        "*Cada funcion tiene asignado 0.2 puntos"
      ]
    },
    {
      "cell_type": "markdown",
      "metadata": {
        "id": "dG8T4iEln9UC"
      },
      "source": [
        "###Diccionarios (1.4 Puntos)"
      ]
    },
    {
      "cell_type": "markdown",
      "metadata": {
        "id": "k_FEFXtCoET7"
      },
      "source": [
        "En esta sección se trabajará con los siguientes cursos:\n",
        "\n",
        "|Nombre                             |Codigo|Profesor        |Obligatorio|Alias  |\n",
        "|----------------------------------|------|----------------|-----------|-------|\n",
        "|Modelamiento  y optimizacion      |IN3701|Fernando Ordonez|True       |Opti   |\n",
        "|Investigacion de operaciones      |IN3702|Denis Saure     |True       |IO     |\n",
        "|Introduccion a la mineria de datos|IN6531|Richard Weber   |False      |DM     |\n",
        "|Introduccion al deep learning     |IN6534|Angel Jimenez   |False      |Deep   |\n",
        "|Direccion estrategica             |IN5003|Claudio Pizarro |True       |Estr   |\n",
        "|Taller de visualizacion de datos  |IN5530|Felipe Vildoso  |False      |Viz    |\n",
        "\n"
      ]
    },
    {
      "cell_type": "markdown",
      "metadata": {
        "id": "MHR9qQU6yBoM"
      },
      "source": [
        "####Estructurar datos\n",
        "\n",
        "Agregue los cursos de deep learning, direccion estrategica y taller de visualizacion de datos diccionarios (siga los ejemplos de los dados) y luego cree una lista que contenga estos cursos."
      ]
    },
    {
      "cell_type": "code",
      "metadata": {
        "id": "WE3Xnnr2yUm5"
      },
      "source": [
        "opti = {\n",
        "    \"nombre\": \"modelamiento y optimizacion\", \n",
        "    \"codigo\": \"IN3701\", \n",
        "    \"profesor\": \"Fernando Ordonez\", \n",
        "    \"obligatorio\": True\n",
        "    }\n",
        "\n",
        "io = {\n",
        "    \"nombre\": \"investigacion de operaciones\", \n",
        "    \"codigo\": \"IN3702\", \n",
        "    \"profesor\": \"Denis Saure\", \n",
        "    \"obligatorio\": True\n",
        "    }\n",
        "\n",
        "dm = {\n",
        "    \"nombre\": \"introduccion a la mineria de datos\", \n",
        "    \"codigo\": \"IN6531\", \n",
        "    \"profesor\": \"Richard Weber\", \n",
        "    \"obligatorio\": False\n",
        "    }\n"
      ],
      "execution_count": null,
      "outputs": []
    },
    {
      "cell_type": "markdown",
      "metadata": {
        "id": "PoEKii6SzN81"
      },
      "source": [
        "Ahora, agregue todos los cursos a una lista\n"
      ]
    },
    {
      "cell_type": "code",
      "metadata": {
        "id": "qnHNrexhzDQW"
      },
      "source": [
        "#cree aqui su lista de cursos\n",
        "cursos = "
      ],
      "execution_count": null,
      "outputs": []
    },
    {
      "cell_type": "markdown",
      "metadata": {
        "id": "sSFrpugczI61"
      },
      "source": [
        "Esta lista será la información con la que se trabajará a continuación. El trabajo anterior tiene asignado 0.4 puntos"
      ]
    },
    {
      "cell_type": "markdown",
      "metadata": {
        "id": "jvkRXYOpzaem"
      },
      "source": [
        "####Funciones Aplicadas a los Datos"
      ]
    },
    {
      "cell_type": "markdown",
      "metadata": {
        "id": "VRcfSbVczgYF"
      },
      "source": [
        "Elabore las siguientes funciones:\n",
        "    \n",
        "**1. La función `describir(cursos)` que genere una lista con strings que describan cada curso de la siguiente manera:**\n",
        "\n",
        "```{nombre curso} es dictado por el profesor {profesor_curso}. Este curso {es/no es} obligatorio en {tercer/cuarto/quinto/sexto} año de industrias.```\n",
        "\n",
        "Por ejemplo, para opti se debe generar el siguiente string:\n",
        "    \n",
        "```\n",
        "'modelamiento y optimización es dictado por el profesor Fernando Ordonez. Este curso es obligatorio en tercer año de industrias.\n",
        "```\n",
        "    \n",
        "Indicaciones: \n",
        "- Para saber a que año pertenece un curso, pueden acceder al código del curso y ver el primer valor númerico.\n",
        "- Se dará un puntaje extra si mediante código manejan el string {nombre_curso} de manera que la primera letra de cada palabra esté en mayuscula (muy similar a lo visto en el camel case)\n",
        "    \n",
        "**2. La función `filtrar_obligatorios(cursos, es_obligatorio)` que dada la lista de cursos y un booleano, retorne las frutas que son o no son obligatorios (según el valor de `Obligatorio`).**\n",
        "    \n",
        "\n",
        "Por ejemplo, `filtrar_obligatorios(cursos, True)` deberá retornar una lista con los diccionarios de: opti, io y estr."
      ]
    },
    {
      "cell_type": "code",
      "metadata": {
        "id": "kIaE3V9Nk4Tt"
      },
      "source": [
        "def describir(cursos):\n",
        "  #codigo aquí\n",
        "  return mensaje\n",
        "\n",
        "def filtrar_obligatorios(cursos,es_obligatorio):\n",
        "  #codigo aqui\n",
        "  return lista"
      ],
      "execution_count": null,
      "outputs": []
    },
    {
      "cell_type": "markdown",
      "metadata": {
        "id": "_DWuD58nXd2q"
      },
      "source": [
        "**Ejecuten esta celda para comprobar su código:**"
      ]
    },
    {
      "cell_type": "code",
      "metadata": {
        "id": "eak9_RkSk4Yw"
      },
      "source": [
        "# ---------------------------------------------------------------------\n",
        "# test descripciones\n",
        "# note que las frutas deben estar en igual orden para que este assert no falle.\n",
        "\n",
        "descripciones_esperadas = [\n",
        "    'modelamiento y optimización es dictado por el profesor Fernando Ordonez. Este curso es obligatorio en tercer año de industrias.',\n",
        "    'investigacion de operaciones es dictado por el profesor Denis Saure. Este curso es obligatorio en tercer año de industrias.',\n",
        "    'introduccion a la mineria de datos es dictado por el profesor Richard Weber. Este curso no es obligatorio en sexto año de industrias.',\n",
        "    'introduccion al deep learning es dictado por el profesor Angel Jimenez. Este curso no es obligatorio en sexto año de industrias.',\n",
        "    'direccion estrategica es dictado por el profesor Claudio Pizarro. Este curso es obligatorio en quinto año de industrias.',\n",
        "    'taller de visualizacion de datos es dictado por el profesor Felipe Vildoso. Este curso no es obligatorio en quinto año de industrias.',\n",
        "]\n",
        "\n",
        "assert descripciones_esperadas == describir(cursos)\n",
        "\n",
        "\n",
        "# ---------------------------------------------------------------------\n",
        "# test filtro\n",
        "cursos_obligatorios = [\n",
        "    {    \"nombre\": \"modelamiento y optimizacion\",     \"codigo\": \"IN3701\",     \"profesor\": \"Fernando Ordonez\",     \"obligatorio\": True    },\n",
        "    {    \"nombre\": \"investigacion de operaciones\",    \"codigo\": \"IN3702\",     \"profesor\": \"Denis Saure\",          \"obligatorio\": True    },\n",
        "    {    \"nombre\": \"direccion estrategica\",           \"codigo\": \"IN5003\",     \"profesor\": \"Claudio Pizarro\",      \"obligatorio\": True    }\n",
        "]\n",
        "\n",
        "assert cursos_obligatorios == filtrar_obligatorios(cursos, True)"
      ],
      "execution_count": null,
      "outputs": []
    },
    {
      "cell_type": "markdown",
      "metadata": {
        "id": "_svWxx0i-sNA"
      },
      "source": [
        "La creación de estas funciones tiene asignado 1 punto."
      ]
    },
    {
      "cell_type": "markdown",
      "metadata": {
        "id": "8VrmNGSe35lO"
      },
      "source": [
        "###Graficos (0.6 Puntos)"
      ]
    },
    {
      "cell_type": "markdown",
      "metadata": {
        "id": "LWSPB7g23_b9"
      },
      "source": [
        "En este modulo se pide que mediante código y el uso de su librería favorita, genere un gráfico siguiente las siguientes instrucciones:\n",
        "\n",
        "\n",
        "1.   Cree un vector denso que vaya desde -2 a 2 asignado a una variable x. En otras palabras se pide una lista con muchos valores que vaya entre -2 y 2. De forma \"matematica\" sería `x=[-2,-1.999,,-1.998,...,1.998,,1.999,2]`\n",
        "\n",
        "2.   Cree un vector en el cual se evalue el vector x en f(x), en el cual se define:\n",
        "$$\n",
        "f(x) = \\sqrt{1- \\sqrt{ |x|-1} }\n",
        "$$\n",
        "\n",
        "3.   Cree un vector en el cual se evalue el vector x en g(x), en el cual se define:\n",
        "$$\n",
        "g(x) = -3*\\sqrt{1- \\sqrt{ \\frac{|x|}{2} }}\n",
        "$$\n",
        "\n",
        "4.   Grafique en la misma figura `(x,f(x))` y `(x,g(x))`. Para esto puede serle útil la auxiliar en el modulo `#Dos graficos en la misma figura`\n",
        "\n",
        "5.   Para obtener puntaje extra se les propone generar distintos graficos que al verse se lea la frase `I LOVE U`. Se pueden encontrar muchos ejemplos al respecto en la web.\n",
        "\n",
        "\n"
      ]
    },
    {
      "cell_type": "code",
      "metadata": {
        "id": "5p-je6SE85_e"
      },
      "source": [
        "#codigo aqui"
      ],
      "execution_count": null,
      "outputs": []
    }
  ]
}